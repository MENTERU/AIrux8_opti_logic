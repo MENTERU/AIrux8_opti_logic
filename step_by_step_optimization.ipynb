{
  "cells": [
    {
      "cell_type": "markdown",
      "metadata": {},
      "source": [
        "# 空調最適化システム - 段階的プロセス確認・改善ノートブック\n",
        "\n",
        "このノートブックでは、前処理後データから電力・環境予測モデル構築、制御値探索、結果出力までのプロセスを段階的に確認・改善します。\n",
        "\n",
        "## プロセス概要\n",
        "1. **データ読み込み・確認** - 前処理済みデータの内容確認\n",
        "2. **特徴量エンジニアリング** - モデル学習用特徴量の準備\n",
        "3. **予測モデル構築** - 電力・環境予測モデルの学習・評価\n",
        "4. **制御値探索** - 最適制御値の探索・評価\n",
        "5. **結果出力・可視化** - 最適化結果の出力・分析\n",
        "\n",
        "各ステップで中間結果を確認し、必要に応じて改善を行います。\n"
      ]
    },
    {
      "cell_type": "code",
      "execution_count": 1,
      "metadata": {},
      "outputs": [
        {
          "name": "stdout",
          "output_type": "stream",
          "text": [
            "✅ ライブラリのインポート完了\n"
          ]
        }
      ],
      "source": [
        "# 必要なライブラリのインポート\n",
        "import os\n",
        "import sys\n",
        "import time\n",
        "import warnings\n",
        "from typing import Dict, List, Optional, Tuple\n",
        "\n",
        "import numpy as np\n",
        "import pandas as pd\n",
        "import plotly.graph_objects as go\n",
        "import plotly.express as px\n",
        "from plotly.subplots import make_subplots\n",
        "from sklearn.ensemble import RandomForestRegressor\n",
        "from sklearn.metrics import mean_absolute_error, r2_score\n",
        "from sklearn.model_selection import train_test_split\n",
        "import joblib\n",
        "import jpholiday  # 祝日検出用\n",
        "\n",
        "# プロジェクトのルートディレクトリをパスに追加\n",
        "sys.path.append('.')\n",
        "\n",
        "# モジュールの再読み込みを有効化\n",
        "import importlib\n",
        "\n",
        "# 設定とユーティリティのインポート\n",
        "from config.utils import load_config, get_data_path\n",
        "\n",
        "# # モジュールを再読み込み（最新のコードを反映）\n",
        "# try:\n",
        "#     importlib.reload(sys.modules['processing.preprocessor'])\n",
        "# except KeyError:\n",
        "#     pass  # まだ読み込まれていない場合はスキップ\n",
        "\n",
        "from processing.preprocessor import DataPreprocessor\n",
        "\n",
        "from processing.aggregator import AreaAggregator\n",
        "from training.model_builder import ModelBuilder, EnvPowerModels\n",
        "from optimization.period_optimizer import PeriodOptimizer\n",
        "from planning.planner import Planner\n",
        "\n",
        "# 警告を非表示\n",
        "warnings.filterwarnings('ignore')\n",
        "\n",
        "print(\"✅ ライブラリのインポート完了\")\n"
      ]
    },
    {
      "cell_type": "markdown",
      "metadata": {},
      "source": [
        "## 1. 前処理プロセス\n",
        "\n",
        "生データから前処理済みデータまでのプロセスを確認します。\n",
        "\n",
        "### 1.1 生データの読み込み・確認\n"
      ]
    },
    {
      "cell_type": "code",
      "execution_count": 2,
      "metadata": {},
      "outputs": [
        {
          "name": "stdout",
          "output_type": "stream",
          "text": [
            "🏢 ストア: Clea\n",
            "📊 マスターデータ: ['store_info', 'zones']\n",
            "🏢 ゾーン数: 6\n",
            "🌍 座標: 35.681236%2C139.767125\n",
            "📁 データディレクトリ: /Users/tomokiinoue/Desktop/workspace/AIrux8_opti_logic/data/00_InputData/Clea\n",
            "📁 出力ディレクトリ: /Users/tomokiinoue/Desktop/workspace/AIrux8_opti_logic/data/02_PreprocessedData/Clea\n"
          ]
        }
      ],
      "source": [
        "# 設定の読み込み\n",
        "config = load_config()\n",
        "store_name = \"Clea\"\n",
        "\n",
        "# マスターデータの読み込み\n",
        "master_path = f\"data/01_MasterData/MASTER_{store_name}.json\"\n",
        "import json\n",
        "with open(master_path, 'r', encoding='utf-8') as f:\n",
        "    master = json.load(f)\n",
        "\n",
        "print(f\"🏢 ストア: {store_name}\")\n",
        "print(f\"📊 マスターデータ: {list(master.keys())}\")\n",
        "print(f\"🏢 ゾーン数: {len(master.get('zones', {}))}\")\n",
        "print(f\"🌍 座標: {master.get('store_info', {}).get('coordinates', 'N/A')}\")\n",
        "\n",
        "# 前処理器の初期化\n",
        "preprocessor = DataPreprocessor(store_name)\n",
        "print(f\"📁 データディレクトリ: {preprocessor.data_dir}\")\n",
        "print(f\"📁 出力ディレクトリ: {preprocessor.output_dir}\")\n"
      ]
    },
    {
      "cell_type": "code",
      "execution_count": 3,
      "metadata": {},
      "outputs": [
        {
          "name": "stdout",
          "output_type": "stream",
          "text": [
            "🔍 生データの読み込み...\n",
            "[DataPreprocessor] Loading raw data from: /Users/tomokiinoue/Desktop/workspace/AIrux8_opti_logic/data/00_InputData/Clea\n",
            "[DataPreprocessor] Directory exists: True\n",
            "[DataPreprocessor] Found 18 AC control files\n",
            "[DataPreprocessor] Found 24 power meter files\n",
            "[DataPreprocessor] AC files: ['/Users/tomokiinoue/Desktop/workspace/AIrux8_opti_logic/data/00_InputData/Clea/ac-control/ac-control-50,66,67,65,59,63,57,68,69,75,49,56,52,64,54,53,55,58,62,60,51,373-logs-2025-07-01-2025-07-31.csv']...\n",
            "[DataPreprocessor] PM files: ['/Users/tomokiinoue/Desktop/workspace/AIrux8_opti_logic/data/00_InputData/Clea/ac-power-meter/ac-power-meter-44,49,44,49,49,49,43,44,44,49,41,43,44,49,43,44,43,49,49,49,44-7,9,2,1,7,4,1,4,4,3,1,3,5,2,4,1,2,8,6,4,3-logs-2025-05-01-2025-05-31.csv']...\n",
            "[DataPreprocessor] AC data shape: (2818340, 13)\n",
            "[DataPreprocessor] PM data shape: (10705341, 6)\n",
            "✅ AC制御データ読み込み完了: (2818340, 13)\n",
            "📋 AC制御データの列: ['A/C Name', 'Datetime', 'Outdoor Temp.', 'Indoor Temp.', 'A/C Set Temperature', 'A/C ON/OFF', 'A/C Mode', 'A/C Fan Speed', 'Naive Energy Level', 'Airux Energy Level', 'Outdoor Room Temp.', 'Outdoor Set Temp.', 'Room Set Temp.']\n",
            "📅 AC制御データ期間: N/A ～ N/A\n",
            "\n",
            "🔍 AC制御データのカテゴリカル変数確認:\n",
            "  A/C ON/OFF: ['ON' 'OFF']\n",
            "  A/C Mode: ['COOL' nan 'FAN' 'HEAT']\n",
            "  A/C Fan Speed: ['Low' nan 'High' 'Medium' 'Top' 'Auto']\n",
            "✅ 電力メーターデータ読み込み完了: (10705341, 6)\n",
            "📋 電力メーターデータの列: ['Mesh ID', 'PM Addr ID', 'Datetime', 'Phase A', 'Phase B', 'Phase C']\n",
            "📅 電力メーターデータ期間: N/A ～ N/A\n",
            "\n",
            "⚡ 電力データ統計:\n",
            "  平均: 520.7W\n",
            "  最大: 6430.0W\n",
            "  最小: 0.0W\n",
            "  欠損値: 0件\n"
          ]
        }
      ],
      "source": [
        "# 生データの読み込み\n",
        "print(\"🔍 生データの読み込み...\")\n",
        "ac_raw, pm_raw = preprocessor.load_raw()\n",
        "\n",
        "if ac_raw is not None:\n",
        "    print(f\"✅ AC制御データ読み込み完了: {ac_raw.shape}\")\n",
        "    print(f\"📋 AC制御データの列: {list(ac_raw.columns)}\")\n",
        "    print(f\"📅 AC制御データ期間: {ac_raw['datetime'].min() if 'datetime' in ac_raw.columns else 'N/A'} ～ {ac_raw['datetime'].max() if 'datetime' in ac_raw.columns else 'N/A'}\")\n",
        "    \n",
        "    # カテゴリカル変数の確認\n",
        "    print(f\"\\n🔍 AC制御データのカテゴリカル変数確認:\")\n",
        "    for col in [\"A/C ON/OFF\", \"A/C Mode\", \"A/C Fan Speed\"]:\n",
        "        if col in ac_raw.columns:\n",
        "            unique_vals = ac_raw[col].unique()\n",
        "            print(f\"  {col}: {unique_vals}\")\n",
        "else:\n",
        "    print(\"❌ AC制御データが見つかりません\")\n",
        "\n",
        "if pm_raw is not None:\n",
        "    print(f\"✅ 電力メーターデータ読み込み完了: {pm_raw.shape}\")\n",
        "    print(f\"📋 電力メーターデータの列: {list(pm_raw.columns)}\")\n",
        "    print(f\"📅 電力メーターデータ期間: {pm_raw['datetime'].min() if 'datetime' in pm_raw.columns else 'N/A'} ～ {pm_raw['datetime'].max() if 'datetime' in pm_raw.columns else 'N/A'}\")\n",
        "    \n",
        "    # 電力データの確認\n",
        "    if \"Phase A\" in pm_raw.columns:\n",
        "        power_stats = pm_raw[\"Phase A\"].describe()\n",
        "        print(f\"\\n⚡ 電力データ統計:\")\n",
        "        print(f\"  平均: {power_stats['mean']:.1f}W\")\n",
        "        print(f\"  最大: {power_stats['max']:.1f}W\")\n",
        "        print(f\"  最小: {power_stats['min']:.1f}W\")\n",
        "        print(f\"  欠損値: {pm_raw['Phase A'].isnull().sum()}件\")\n",
        "else:\n",
        "    print(\"❌ 電力メーターデータが見つかりません\")"
      ]
    },
    {
      "cell_type": "code",
      "execution_count": 4,
      "metadata": {},
      "outputs": [
        {
          "name": "stdout",
          "output_type": "stream",
          "text": [
            "\n",
            "【A/C Name】\n",
            "D-1南1     121852\n",
            "D-3南2     121852\n",
            "A-26      121852\n",
            "D-2北1     121852\n",
            "E-11南3    121852\n",
            "E-13北1    121852\n",
            "E-9南1     121852\n",
            "D-6北1     121852\n",
            "D-4北2     121852\n",
            "D-5南1     121852\n",
            "E-17      121852\n",
            "E-15北3    121852\n",
            "D-7南2     121852\n",
            "A-25      121852\n",
            "E-12南4    121852\n",
            "F-20      121852\n",
            "F-19      121852\n",
            "D-8北2     121852\n",
            "E-14北2    121852\n",
            "E-10南2    121852\n",
            "E-16北4    121852\n",
            "F-18      121852\n",
            "G-24       34399\n",
            "G-21       34399\n",
            "G-22       34399\n",
            "G-23       34399\n",
            "Name: A/C Name, dtype: int64\n",
            "\n",
            "【A/C Set Temperature】\n",
            "25.0    1297750\n",
            "26.0     584037\n",
            "24.0     327427\n",
            "27.0     198143\n",
            "22.0     154614\n",
            "20.0      97050\n",
            "-         58440\n",
            "23.0      49251\n",
            "21.0      36465\n",
            "16.0       6883\n",
            "28.0       2629\n",
            "30.0       1584\n",
            "29.0       1490\n",
            "19.0       1425\n",
            "18.0        542\n",
            "31.0        287\n",
            "33.0        203\n",
            "32.0        117\n",
            "34.0          3\n",
            "Name: A/C Set Temperature, dtype: int64\n",
            "\n",
            "【A/C ON/OFF】\n",
            "OFF    1953566\n",
            "ON      864774\n",
            "Name: A/C ON/OFF, dtype: int64\n",
            "\n",
            "【A/C Mode】\n",
            "COOL    1583968\n",
            "HEAT     923191\n",
            "FAN      209766\n",
            "-        101415\n",
            "Name: A/C Mode, dtype: int64\n",
            "\n",
            "【A/C Fan Speed】\n",
            "-         1953566\n",
            "Low        665506\n",
            "Medium     163051\n",
            "High        34844\n",
            "Auto         1370\n",
            "Top             3\n",
            "Name: A/C Fan Speed, dtype: int64\n"
          ]
        }
      ],
      "source": [
        "\n",
        "ac_raw[[str(i)==\"nan\" for i in ac_raw[\"A/C Mode\"]]]\n",
        "ac_columns = [i for i in ac_raw.columns if \"A/C\" in i]\n",
        "ac_raw[ac_columns] = ac_raw[ac_columns].replace(np.nan,\"-\")\n",
        "\n",
        "for ac_column in ac_columns:\n",
        "    print(f\"\")\n",
        "    print(f\"【{ac_column}】\")\n",
        "    print(ac_raw[ac_column].value_counts())\n"
      ]
    },
    {
      "cell_type": "code",
      "execution_count": null,
      "metadata": {},
      "outputs": [],
      "source": []
    },
    {
      "cell_type": "markdown",
      "metadata": {},
      "source": [
        "### 1.2 前処理の実行\n",
        "\n",
        "生データを前処理して、カテゴリカル変数の変換と欠損値処理を行います。\n"
      ]
    },
    {
      "cell_type": "code",
      "execution_count": 5,
      "metadata": {},
      "outputs": [
        {
          "name": "stdout",
          "output_type": "stream",
          "text": [
            "🔍 元データのカテゴリカル変数詳細調査...\n",
            "\n",
            "📊 A/C ON/OFF の詳細分析:\n",
            "  値の分布:\n",
            "    'OFF': 1953566件\n",
            "    'ON': 864774件\n",
            "  データ型: object\n",
            "  欠損値: 0件\n",
            "  空白文字: 0件\n",
            "  特殊文字を含む値: 0件\n",
            "  数値形式: 0件 / 全2818340件\n",
            "\n",
            "📊 A/C Mode の詳細分析:\n",
            "  値の分布:\n",
            "    'COOL': 1583968件\n",
            "    'HEAT': 923191件\n",
            "    'FAN': 209766件\n",
            "    '-': 101415件\n",
            "  データ型: object\n",
            "  欠損値: 0件\n",
            "  空白文字: 0件\n",
            "  特殊文字を含む値: 0件\n",
            "  数値形式: 0件 / 全2818340件\n",
            "\n",
            "📊 A/C Fan Speed の詳細分析:\n",
            "  値の分布:\n",
            "    '-': 1953566件\n",
            "    'Low': 665506件\n",
            "    'Medium': 163051件\n",
            "    'High': 34844件\n",
            "    'Auto': 1370件\n",
            "    'Top': 3件\n",
            "  データ型: object\n",
            "  欠損値: 0件\n",
            "  空白文字: 0件\n",
            "  特殊文字を含む値: 0件\n",
            "  数値形式: 0件 / 全2818340件\n",
            "\n",
            "🔧 AC制御データの前処理（エリア別マッピング）...\n",
            "[DataPreprocessor] カテゴリカル変数のマッピングは後段階で実行します\n",
            "✅ AC制御データ前処理完了: (2759789, 14)\n"
          ]
        }
      ],
      "source": [
        "# 元データのカテゴリカル変数を詳細調査\n",
        "print(\"🔍 元データのカテゴリカル変数詳細調査...\")\n",
        "if ac_raw is not None:\n",
        "    for col in [\"A/C ON/OFF\", \"A/C Mode\", \"A/C Fan Speed\"]:\n",
        "        if col in ac_raw.columns:\n",
        "            print(f\"\\n📊 {col} の詳細分析:\")\n",
        "            unique_vals = ac_raw[col].value_counts()\n",
        "            print(f\"  値の分布:\")\n",
        "            for val, count in unique_vals.head(10).items():\n",
        "                print(f\"    '{val}': {count}件\")\n",
        "            \n",
        "            # データ型の確認\n",
        "            print(f\"  データ型: {ac_raw[col].dtype}\")\n",
        "            \n",
        "            # 欠損値の確認\n",
        "            missing_count = ac_raw[col].isnull().sum()\n",
        "            print(f\"  欠損値: {missing_count}件\")\n",
        "            \n",
        "            # 空白文字の確認\n",
        "            if ac_raw[col].dtype == 'object':\n",
        "                whitespace_count = ac_raw[col].str.strip().eq('').sum()\n",
        "                print(f\"  空白文字: {whitespace_count}件\")\n",
        "                \n",
        "                # 特殊文字の確認\n",
        "                special_chars = ac_raw[col].str.contains(r'[^\\w\\s-]', na=False).sum()\n",
        "                print(f\"  特殊文字を含む値: {special_chars}件\")\n",
        "                \n",
        "                # 数値以外の値の確認\n",
        "                non_numeric = ac_raw[col].str.match(r'^\\d+$', na=False).sum()\n",
        "                print(f\"  数値形式: {non_numeric}件 / 全{len(ac_raw)}件\")\n",
        "\n",
        "# AC制御データの前処理（エリア別マッピング使用）\n",
        "print(\"\\n🔧 AC制御データの前処理（エリア別マッピング）...\")\n",
        "ac_processed = preprocessor.preprocess_ac(\n",
        "    ac_raw, \n",
        "    standard_deviation_multiplier=5.0,\n",
        "    category_mapping=None,  # 共通マッピングは使用しない\n",
        "    zone_specific_mapping=True  # エリア別マッピングを有効化\n",
        ")\n",
        "\n",
        "if ac_processed is not None:\n",
        "    print(f\"✅ AC制御データ前処理完了: {ac_processed.shape}\")\n",
        "    \n",
        "    # エリア別マッピングログの確認\n",
        "    import glob\n",
        "    log_files = glob.glob(f\"logs/preprocessing/{store_name}/zone_mapping_log_*.json\")\n",
        "    if log_files:\n",
        "        latest_log = max(log_files, key=os.path.getctime)\n",
        "        print(f\"\\n📋 エリア別マッピングログ: {latest_log}\")\n",
        "        \n",
        "        # ログファイルの内容を表示\n",
        "        import json\n",
        "        with open(latest_log, 'r', encoding='utf-8') as f:\n",
        "            log_data = json.load(f)\n",
        "        \n",
        "        print(f\"\\n🔍 エリア別マッピング結果:\")\n",
        "        for zone_name, zone_info in log_data[\"zones\"].items():\n",
        "            print(f\"\\n📍 {zone_name}:\")\n",
        "            print(f\"  レコード数: {zone_info['total_records']}\")\n",
        "            \n",
        "            for col, mapping_info in zone_info[\"categorical_mappings\"].items():\n",
        "                print(f\"  {col}:\")\n",
        "                print(f\"    元の値: {list(mapping_info['original_values'].keys())}\")\n",
        "                print(f\"    マッピング: {mapping_info['mapping']}\")\n",
        "                if mapping_info.get('unmapped_count', 0) > 0:\n",
        "                    print(f\"    未マッピング: {mapping_info['unmapped_count']}件\")\n",
        "                    print(f\"    デフォルト値: {mapping_info.get('default_value', 'N/A')}\")\n",
        "    \n",
        "else:\n",
        "    print(\"❌ AC制御データの前処理に失敗\")\n"
      ]
    },
    {
      "cell_type": "code",
      "execution_count": 6,
      "metadata": {},
      "outputs": [
        {
          "data": {
            "text/html": [
              "<div>\n",
              "<style scoped>\n",
              "    .dataframe tbody tr th:only-of-type {\n",
              "        vertical-align: middle;\n",
              "    }\n",
              "\n",
              "    .dataframe tbody tr th {\n",
              "        vertical-align: top;\n",
              "    }\n",
              "\n",
              "    .dataframe thead th {\n",
              "        text-align: right;\n",
              "    }\n",
              "</style>\n",
              "<table border=\"1\" class=\"dataframe\">\n",
              "  <thead>\n",
              "    <tr style=\"text-align: right;\">\n",
              "      <th></th>\n",
              "      <th>Datetime</th>\n",
              "      <th>Date</th>\n",
              "      <th>A/C Name</th>\n",
              "      <th>Outdoor Temp.</th>\n",
              "      <th>Indoor Temp.</th>\n",
              "      <th>A/C Set Temperature</th>\n",
              "      <th>A/C ON/OFF</th>\n",
              "      <th>A/C Mode</th>\n",
              "      <th>A/C Fan Speed</th>\n",
              "      <th>Naive Energy Level</th>\n",
              "      <th>Airux Energy Level</th>\n",
              "      <th>Outdoor Room Temp.</th>\n",
              "      <th>Outdoor Set Temp.</th>\n",
              "      <th>Room Set Temp.</th>\n",
              "    </tr>\n",
              "  </thead>\n",
              "  <tbody>\n",
              "    <tr>\n",
              "      <th>0</th>\n",
              "      <td>2025-07-31 14:55:00</td>\n",
              "      <td>2025-07-31</td>\n",
              "      <td>D-1南1</td>\n",
              "      <td>20.0</td>\n",
              "      <td>26.0</td>\n",
              "      <td>24.0</td>\n",
              "      <td>ON</td>\n",
              "      <td>COOL</td>\n",
              "      <td>Low</td>\n",
              "      <td>62</td>\n",
              "      <td>32</td>\n",
              "      <td>-6.0</td>\n",
              "      <td>-4.0</td>\n",
              "      <td>2.0</td>\n",
              "    </tr>\n",
              "    <tr>\n",
              "      <th>1</th>\n",
              "      <td>2025-07-31 14:55:00</td>\n",
              "      <td>2025-07-31</td>\n",
              "      <td>E-17</td>\n",
              "      <td>20.0</td>\n",
              "      <td>32.0</td>\n",
              "      <td>27.0</td>\n",
              "      <td>OFF</td>\n",
              "      <td>COOL</td>\n",
              "      <td>-</td>\n",
              "      <td>0</td>\n",
              "      <td>0</td>\n",
              "      <td>-12.0</td>\n",
              "      <td>-7.0</td>\n",
              "      <td>5.0</td>\n",
              "    </tr>\n",
              "    <tr>\n",
              "      <th>2</th>\n",
              "      <td>2025-07-31 14:55:00</td>\n",
              "      <td>2025-07-31</td>\n",
              "      <td>F-18</td>\n",
              "      <td>20.0</td>\n",
              "      <td>30.0</td>\n",
              "      <td>26.0</td>\n",
              "      <td>OFF</td>\n",
              "      <td>COOL</td>\n",
              "      <td>-</td>\n",
              "      <td>0</td>\n",
              "      <td>0</td>\n",
              "      <td>-10.0</td>\n",
              "      <td>-6.0</td>\n",
              "      <td>4.0</td>\n",
              "    </tr>\n",
              "    <tr>\n",
              "      <th>3</th>\n",
              "      <td>2025-07-31 14:55:00</td>\n",
              "      <td>2025-07-31</td>\n",
              "      <td>E-16北4</td>\n",
              "      <td>20.0</td>\n",
              "      <td>27.0</td>\n",
              "      <td>24.0</td>\n",
              "      <td>OFF</td>\n",
              "      <td>COOL</td>\n",
              "      <td>-</td>\n",
              "      <td>0</td>\n",
              "      <td>0</td>\n",
              "      <td>-7.0</td>\n",
              "      <td>-4.0</td>\n",
              "      <td>3.0</td>\n",
              "    </tr>\n",
              "    <tr>\n",
              "      <th>4</th>\n",
              "      <td>2025-07-31 14:55:00</td>\n",
              "      <td>2025-07-31</td>\n",
              "      <td>E-10南2</td>\n",
              "      <td>20.0</td>\n",
              "      <td>27.0</td>\n",
              "      <td>24.0</td>\n",
              "      <td>OFF</td>\n",
              "      <td>COOL</td>\n",
              "      <td>-</td>\n",
              "      <td>0</td>\n",
              "      <td>0</td>\n",
              "      <td>-7.0</td>\n",
              "      <td>-4.0</td>\n",
              "      <td>3.0</td>\n",
              "    </tr>\n",
              "    <tr>\n",
              "      <th>...</th>\n",
              "      <td>...</td>\n",
              "      <td>...</td>\n",
              "      <td>...</td>\n",
              "      <td>...</td>\n",
              "      <td>...</td>\n",
              "      <td>...</td>\n",
              "      <td>...</td>\n",
              "      <td>...</td>\n",
              "      <td>...</td>\n",
              "      <td>...</td>\n",
              "      <td>...</td>\n",
              "      <td>...</td>\n",
              "      <td>...</td>\n",
              "      <td>...</td>\n",
              "    </tr>\n",
              "    <tr>\n",
              "      <th>2818335</th>\n",
              "      <td>2024-10-31 15:00:00</td>\n",
              "      <td>2024-10-31</td>\n",
              "      <td>E-15北3</td>\n",
              "      <td>10.0</td>\n",
              "      <td>18.0</td>\n",
              "      <td>20.0</td>\n",
              "      <td>OFF</td>\n",
              "      <td>FAN</td>\n",
              "      <td>-</td>\n",
              "      <td>0</td>\n",
              "      <td>0</td>\n",
              "      <td>-8.0</td>\n",
              "      <td>-10.0</td>\n",
              "      <td>-2.0</td>\n",
              "    </tr>\n",
              "    <tr>\n",
              "      <th>2818336</th>\n",
              "      <td>2024-10-31 15:00:00</td>\n",
              "      <td>2024-10-31</td>\n",
              "      <td>D-4北2</td>\n",
              "      <td>10.0</td>\n",
              "      <td>25.0</td>\n",
              "      <td>26.0</td>\n",
              "      <td>OFF</td>\n",
              "      <td>FAN</td>\n",
              "      <td>-</td>\n",
              "      <td>0</td>\n",
              "      <td>0</td>\n",
              "      <td>-15.0</td>\n",
              "      <td>-16.0</td>\n",
              "      <td>-1.0</td>\n",
              "    </tr>\n",
              "    <tr>\n",
              "      <th>2818337</th>\n",
              "      <td>2024-10-31 15:00:00</td>\n",
              "      <td>2024-10-31</td>\n",
              "      <td>D-5南1</td>\n",
              "      <td>10.0</td>\n",
              "      <td>23.0</td>\n",
              "      <td>24.0</td>\n",
              "      <td>ON</td>\n",
              "      <td>COOL</td>\n",
              "      <td>Medium</td>\n",
              "      <td>32</td>\n",
              "      <td>32</td>\n",
              "      <td>-13.0</td>\n",
              "      <td>-14.0</td>\n",
              "      <td>-1.0</td>\n",
              "    </tr>\n",
              "    <tr>\n",
              "      <th>2818338</th>\n",
              "      <td>2024-10-31 15:00:00</td>\n",
              "      <td>2024-10-31</td>\n",
              "      <td>E-11南3</td>\n",
              "      <td>10.0</td>\n",
              "      <td>17.0</td>\n",
              "      <td>25.0</td>\n",
              "      <td>OFF</td>\n",
              "      <td>FAN</td>\n",
              "      <td>-</td>\n",
              "      <td>0</td>\n",
              "      <td>0</td>\n",
              "      <td>-7.0</td>\n",
              "      <td>-15.0</td>\n",
              "      <td>-8.0</td>\n",
              "    </tr>\n",
              "    <tr>\n",
              "      <th>2818339</th>\n",
              "      <td>2024-10-31 15:00:00</td>\n",
              "      <td>2024-10-31</td>\n",
              "      <td>E-13北1</td>\n",
              "      <td>10.0</td>\n",
              "      <td>20.0</td>\n",
              "      <td>25.0</td>\n",
              "      <td>OFF</td>\n",
              "      <td>FAN</td>\n",
              "      <td>-</td>\n",
              "      <td>0</td>\n",
              "      <td>0</td>\n",
              "      <td>-10.0</td>\n",
              "      <td>-15.0</td>\n",
              "      <td>-5.0</td>\n",
              "    </tr>\n",
              "  </tbody>\n",
              "</table>\n",
              "<p>2759789 rows × 14 columns</p>\n",
              "</div>"
            ],
            "text/plain": [
              "                   Datetime        Date A/C Name  Outdoor Temp.  Indoor Temp.  \\\n",
              "0       2025-07-31 14:55:00  2025-07-31    D-1南1           20.0          26.0   \n",
              "1       2025-07-31 14:55:00  2025-07-31     E-17           20.0          32.0   \n",
              "2       2025-07-31 14:55:00  2025-07-31     F-18           20.0          30.0   \n",
              "3       2025-07-31 14:55:00  2025-07-31   E-16北4           20.0          27.0   \n",
              "4       2025-07-31 14:55:00  2025-07-31   E-10南2           20.0          27.0   \n",
              "...                     ...         ...      ...            ...           ...   \n",
              "2818335 2024-10-31 15:00:00  2024-10-31   E-15北3           10.0          18.0   \n",
              "2818336 2024-10-31 15:00:00  2024-10-31    D-4北2           10.0          25.0   \n",
              "2818337 2024-10-31 15:00:00  2024-10-31    D-5南1           10.0          23.0   \n",
              "2818338 2024-10-31 15:00:00  2024-10-31   E-11南3           10.0          17.0   \n",
              "2818339 2024-10-31 15:00:00  2024-10-31   E-13北1           10.0          20.0   \n",
              "\n",
              "        A/C Set Temperature A/C ON/OFF A/C Mode A/C Fan Speed  \\\n",
              "0                      24.0         ON     COOL           Low   \n",
              "1                      27.0        OFF     COOL             -   \n",
              "2                      26.0        OFF     COOL             -   \n",
              "3                      24.0        OFF     COOL             -   \n",
              "4                      24.0        OFF     COOL             -   \n",
              "...                     ...        ...      ...           ...   \n",
              "2818335                20.0        OFF      FAN             -   \n",
              "2818336                26.0        OFF      FAN             -   \n",
              "2818337                24.0         ON     COOL        Medium   \n",
              "2818338                25.0        OFF      FAN             -   \n",
              "2818339                25.0        OFF      FAN             -   \n",
              "\n",
              "         Naive Energy Level  Airux Energy Level  Outdoor Room Temp.  \\\n",
              "0                        62                  32                -6.0   \n",
              "1                         0                   0               -12.0   \n",
              "2                         0                   0               -10.0   \n",
              "3                         0                   0                -7.0   \n",
              "4                         0                   0                -7.0   \n",
              "...                     ...                 ...                 ...   \n",
              "2818335                   0                   0                -8.0   \n",
              "2818336                   0                   0               -15.0   \n",
              "2818337                  32                  32               -13.0   \n",
              "2818338                   0                   0                -7.0   \n",
              "2818339                   0                   0               -10.0   \n",
              "\n",
              "         Outdoor Set Temp.  Room Set Temp.  \n",
              "0                     -4.0             2.0  \n",
              "1                     -7.0             5.0  \n",
              "2                     -6.0             4.0  \n",
              "3                     -4.0             3.0  \n",
              "4                     -4.0             3.0  \n",
              "...                    ...             ...  \n",
              "2818335              -10.0            -2.0  \n",
              "2818336              -16.0            -1.0  \n",
              "2818337              -14.0            -1.0  \n",
              "2818338              -15.0            -8.0  \n",
              "2818339              -15.0            -5.0  \n",
              "\n",
              "[2759789 rows x 14 columns]"
            ]
          },
          "execution_count": 6,
          "metadata": {},
          "output_type": "execute_result"
        }
      ],
      "source": [
        "ac_processed"
      ]
    },
    {
      "cell_type": "code",
      "execution_count": null,
      "metadata": {},
      "outputs": [],
      "source": []
    },
    {
      "cell_type": "code",
      "execution_count": 7,
      "metadata": {},
      "outputs": [
        {
          "name": "stdout",
          "output_type": "stream",
          "text": [
            "\n",
            "🔧 電力メーターデータの前処理...\n",
            "✅ 電力メーターデータ前処理完了: (2159566, 8)\n",
            "\n",
            "⚡ 前処理後電力データ統計:\n",
            "  平均: 448.5W\n",
            "  最大: 4850.0W\n",
            "  最小: 0.0W\n",
            "  欠損値: 0件\n",
            "  ゼロ値: 729件 (0.0%)\n"
          ]
        }
      ],
      "source": [
        "# # -1の値の処理改善\n",
        "# print(\"\\n🔧 -1の値の処理改善...\")\n",
        "# if ac_processed is not None:\n",
        "#     for col in [\"A/C ON/OFF\", \"A/C Mode\", \"A/C Fan Speed\"]:\n",
        "#         if col in ac_processed.columns:\n",
        "#             minus_one_count = (ac_processed[col] == -1).sum()\n",
        "#             if minus_one_count > 0:\n",
        "#                 print(f\"\\n⚠️ {col} に-1の値が {minus_one_count}件 あります\")\n",
        "                \n",
        "#                 # 適切なデフォルト値に置換\n",
        "#                 if col == \"A/C ON/OFF\":\n",
        "#                     default_value = 0  # OFF\n",
        "#                     default_name = \"OFF\"\n",
        "#                 elif col == \"A/C Mode\":\n",
        "#                     default_value = 2  # FAN\n",
        "#                     default_name = \"FAN\"\n",
        "#                 elif col == \"A/C Fan Speed\":\n",
        "#                     default_value = 1  # Low\n",
        "#                     default_name = \"Low\"\n",
        "#                 else:\n",
        "#                     default_value = 0\n",
        "#                     default_name = \"Unknown\"\n",
        "                \n",
        "#                 print(f\"  {default_name}({default_value})に置換します...\")\n",
        "#                 ac_processed[col] = ac_processed[col].replace(-1, default_value)\n",
        "#                 print(f\"  ✅ 置換完了: {minus_one_count}件 → {default_name}({default_value})\")\n",
        "\n",
        "# 電力メーターデータの前処理\n",
        "print(\"\\n🔧 電力メーターデータの前処理...\")\n",
        "pm_processed = preprocessor.preprocess_pm(\n",
        "    pm_raw, \n",
        "    standard_deviation_multiplier=5.0\n",
        ")\n",
        "\n",
        "if pm_processed is not None:\n",
        "    print(f\"✅ 電力メーターデータ前処理完了: {pm_processed.shape}\")\n",
        "    \n",
        "    # 電力データの統計確認\n",
        "    if \"Phase A\" in pm_processed.columns:\n",
        "        power_stats = pm_processed[\"Phase A\"].describe()\n",
        "        print(f\"\\n⚡ 前処理後電力データ統計:\")\n",
        "        print(f\"  平均: {power_stats['mean']:.1f}W\")\n",
        "        print(f\"  最大: {power_stats['max']:.1f}W\")\n",
        "        print(f\"  最小: {power_stats['min']:.1f}W\")\n",
        "        print(f\"  欠損値: {pm_processed['Phase A'].isnull().sum()}件\")\n",
        "        \n",
        "        # ゼロ値の確認\n",
        "        zero_count = (pm_processed[\"Phase A\"] == 0).sum()\n",
        "        print(f\"  ゼロ値: {zero_count}件 ({zero_count/len(pm_processed)*100:.1f}%)\")\n",
        "else:\n",
        "    print(\"❌ 電力メーターデータの前処理に失敗\")\n"
      ]
    },
    {
      "cell_type": "code",
      "execution_count": null,
      "metadata": {},
      "outputs": [],
      "source": []
    },
    {
      "cell_type": "code",
      "execution_count": null,
      "metadata": {},
      "outputs": [],
      "source": []
    },
    {
      "cell_type": "code",
      "execution_count": null,
      "metadata": {},
      "outputs": [],
      "source": []
    },
    {
      "cell_type": "code",
      "execution_count": null,
      "metadata": {},
      "outputs": [],
      "source": []
    },
    {
      "cell_type": "code",
      "execution_count": 8,
      "metadata": {},
      "outputs": [
        {
          "data": {
            "text/html": [
              "<div>\n",
              "<style scoped>\n",
              "    .dataframe tbody tr th:only-of-type {\n",
              "        vertical-align: middle;\n",
              "    }\n",
              "\n",
              "    .dataframe tbody tr th {\n",
              "        vertical-align: top;\n",
              "    }\n",
              "\n",
              "    .dataframe thead th {\n",
              "        text-align: right;\n",
              "    }\n",
              "</style>\n",
              "<table border=\"1\" class=\"dataframe\">\n",
              "  <thead>\n",
              "    <tr style=\"text-align: right;\">\n",
              "      <th></th>\n",
              "      <th>Datetime</th>\n",
              "      <th>Date</th>\n",
              "      <th>Mesh ID</th>\n",
              "      <th>PM Addr ID</th>\n",
              "      <th>Phase A</th>\n",
              "      <th>Phase B</th>\n",
              "      <th>Phase C</th>\n",
              "      <th>Total_kWh</th>\n",
              "    </tr>\n",
              "  </thead>\n",
              "  <tbody>\n",
              "    <tr>\n",
              "      <th>0</th>\n",
              "      <td>2025-05-31 14:59:00</td>\n",
              "      <td>2025-05-31</td>\n",
              "      <td>44</td>\n",
              "      <td>2</td>\n",
              "      <td>10</td>\n",
              "      <td>0</td>\n",
              "      <td>0</td>\n",
              "      <td>10</td>\n",
              "    </tr>\n",
              "    <tr>\n",
              "      <th>6</th>\n",
              "      <td>2025-05-31 14:59:00</td>\n",
              "      <td>2025-05-31</td>\n",
              "      <td>49</td>\n",
              "      <td>9</td>\n",
              "      <td>75</td>\n",
              "      <td>0</td>\n",
              "      <td>0</td>\n",
              "      <td>75</td>\n",
              "    </tr>\n",
              "    <tr>\n",
              "      <th>14</th>\n",
              "      <td>2025-05-31 14:59:00</td>\n",
              "      <td>2025-05-31</td>\n",
              "      <td>41</td>\n",
              "      <td>1</td>\n",
              "      <td>2</td>\n",
              "      <td>0</td>\n",
              "      <td>0</td>\n",
              "      <td>2</td>\n",
              "    </tr>\n",
              "    <tr>\n",
              "      <th>15</th>\n",
              "      <td>2025-05-31 14:59:00</td>\n",
              "      <td>2025-05-31</td>\n",
              "      <td>43</td>\n",
              "      <td>4</td>\n",
              "      <td>65</td>\n",
              "      <td>0</td>\n",
              "      <td>0</td>\n",
              "      <td>65</td>\n",
              "    </tr>\n",
              "    <tr>\n",
              "      <th>19</th>\n",
              "      <td>2025-05-31 14:58:00</td>\n",
              "      <td>2025-05-31</td>\n",
              "      <td>44</td>\n",
              "      <td>4</td>\n",
              "      <td>45</td>\n",
              "      <td>0</td>\n",
              "      <td>0</td>\n",
              "      <td>45</td>\n",
              "    </tr>\n",
              "    <tr>\n",
              "      <th>...</th>\n",
              "      <td>...</td>\n",
              "      <td>...</td>\n",
              "      <td>...</td>\n",
              "      <td>...</td>\n",
              "      <td>...</td>\n",
              "      <td>...</td>\n",
              "      <td>...</td>\n",
              "      <td>...</td>\n",
              "    </tr>\n",
              "    <tr>\n",
              "      <th>10619499</th>\n",
              "      <td>2024-08-31 15:01:00</td>\n",
              "      <td>2024-08-31</td>\n",
              "      <td>41</td>\n",
              "      <td>1</td>\n",
              "      <td>2</td>\n",
              "      <td>0</td>\n",
              "      <td>0</td>\n",
              "      <td>2</td>\n",
              "    </tr>\n",
              "    <tr>\n",
              "      <th>10619500</th>\n",
              "      <td>2024-08-31 15:01:00</td>\n",
              "      <td>2024-08-31</td>\n",
              "      <td>43</td>\n",
              "      <td>3</td>\n",
              "      <td>25</td>\n",
              "      <td>0</td>\n",
              "      <td>0</td>\n",
              "      <td>25</td>\n",
              "    </tr>\n",
              "    <tr>\n",
              "      <th>10619510</th>\n",
              "      <td>2024-08-31 15:00:00</td>\n",
              "      <td>2024-08-31</td>\n",
              "      <td>49</td>\n",
              "      <td>6</td>\n",
              "      <td>65</td>\n",
              "      <td>0</td>\n",
              "      <td>0</td>\n",
              "      <td>65</td>\n",
              "    </tr>\n",
              "    <tr>\n",
              "      <th>10619518</th>\n",
              "      <td>2024-08-31 15:00:00</td>\n",
              "      <td>2024-08-31</td>\n",
              "      <td>41</td>\n",
              "      <td>1</td>\n",
              "      <td>2</td>\n",
              "      <td>0</td>\n",
              "      <td>0</td>\n",
              "      <td>2</td>\n",
              "    </tr>\n",
              "    <tr>\n",
              "      <th>10619519</th>\n",
              "      <td>2024-08-31 15:00:00</td>\n",
              "      <td>2024-08-31</td>\n",
              "      <td>43</td>\n",
              "      <td>2</td>\n",
              "      <td>2130</td>\n",
              "      <td>0</td>\n",
              "      <td>0</td>\n",
              "      <td>2130</td>\n",
              "    </tr>\n",
              "  </tbody>\n",
              "</table>\n",
              "<p>2159566 rows × 8 columns</p>\n",
              "</div>"
            ],
            "text/plain": [
              "                    Datetime        Date  Mesh ID  PM Addr ID  Phase A  \\\n",
              "0        2025-05-31 14:59:00  2025-05-31       44           2       10   \n",
              "6        2025-05-31 14:59:00  2025-05-31       49           9       75   \n",
              "14       2025-05-31 14:59:00  2025-05-31       41           1        2   \n",
              "15       2025-05-31 14:59:00  2025-05-31       43           4       65   \n",
              "19       2025-05-31 14:58:00  2025-05-31       44           4       45   \n",
              "...                      ...         ...      ...         ...      ...   \n",
              "10619499 2024-08-31 15:01:00  2024-08-31       41           1        2   \n",
              "10619500 2024-08-31 15:01:00  2024-08-31       43           3       25   \n",
              "10619510 2024-08-31 15:00:00  2024-08-31       49           6       65   \n",
              "10619518 2024-08-31 15:00:00  2024-08-31       41           1        2   \n",
              "10619519 2024-08-31 15:00:00  2024-08-31       43           2     2130   \n",
              "\n",
              "          Phase B  Phase C  Total_kWh  \n",
              "0               0        0         10  \n",
              "6               0        0         75  \n",
              "14              0        0          2  \n",
              "15              0        0         65  \n",
              "19              0        0         45  \n",
              "...           ...      ...        ...  \n",
              "10619499        0        0          2  \n",
              "10619500        0        0         25  \n",
              "10619510        0        0         65  \n",
              "10619518        0        0          2  \n",
              "10619519        0        0       2130  \n",
              "\n",
              "[2159566 rows x 8 columns]"
            ]
          },
          "execution_count": 8,
          "metadata": {},
          "output_type": "execute_result"
        }
      ],
      "source": [
        "pm_processed"
      ]
    },
    {
      "cell_type": "code",
      "execution_count": null,
      "metadata": {},
      "outputs": [],
      "source": []
    },
    {
      "cell_type": "code",
      "execution_count": null,
      "metadata": {},
      "outputs": [],
      "source": []
    },
    {
      "cell_type": "code",
      "execution_count": 9,
      "metadata": {},
      "outputs": [
        {
          "name": "stdout",
          "output_type": "stream",
          "text": [
            "\n",
            "🔧 制御エリア集約...\n",
            "\n",
            "[AreaAggregator] エリア 'Area 1' のカテゴリカル変数処理開始\n",
            "[AreaAggregator] Area 1 - A/C ON/OFF 処理中...\n",
            "[AreaAggregator] Area 1 - A/C ON/OFF ユニーク値: {'OFF': 699212, 'ON': 247864}\n",
            "[AreaAggregator] Area 1 - A/C Mode 処理中...\n",
            "[AreaAggregator] Area 1 - A/C Mode ユニーク値: {'COOL': 416919, 'HEAT': 363987, 'FAN': 126583, '-': 39587}\n",
            "[AreaAggregator] Area 1 - A/C Fan Speed 処理中...\n",
            "[AreaAggregator] Area 1 - A/C Fan Speed ユニーク値: {'-': 699212, 'Low': 205122, 'Medium': 21569, 'High': 21172, 'Auto': 1}\n",
            "\n",
            "[AreaAggregator] エリア別マッピングログ保存: logs/preprocessing/unknown/zone_mapping_log_20251002_154025.json\n",
            "[AreaAggregator] Zone Area 1: Processing 7 outdoor units\n",
            "[AreaAggregator] Found 508731 records for Mesh ID: 49-1\n",
            "  Total_kWh統計: 平均=25694.39, 最大=166985.00\n",
            "  adjusted_power統計: 平均=25694.39, 最大=166985.00\n",
            "[AreaAggregator] Found 508731 records for Mesh ID: 49-2\n",
            "  Total_kWh統計: 平均=25694.39, 最大=166985.00\n",
            "  adjusted_power統計: 平均=25694.39, 最大=166985.00\n",
            "[AreaAggregator] Found 508731 records for Mesh ID: 49-3\n",
            "  Total_kWh統計: 平均=25694.39, 最大=166985.00\n",
            "  adjusted_power統計: 平均=25694.39, 最大=166985.00\n",
            "[AreaAggregator] Found 508731 records for Mesh ID: 49-4\n",
            "  Total_kWh統計: 平均=25694.39, 最大=166985.00\n",
            "  adjusted_power統計: 平均=25694.39, 最大=166985.00\n",
            "[AreaAggregator] Found 508731 records for Mesh ID: 49-6\n",
            "  Total_kWh統計: 平均=25694.39, 最大=166985.00\n",
            "  adjusted_power統計: 平均=25694.39, 最大=166985.00\n",
            "[AreaAggregator] Found 508731 records for Mesh ID: 49-7\n",
            "  Total_kWh統計: 平均=25694.39, 最大=166985.00\n",
            "  adjusted_power統計: 平均=25694.39, 最大=166985.00\n",
            "[AreaAggregator] Found 508731 records for Mesh ID: 49-8\n",
            "  Total_kWh統計: 平均=25694.39, 最大=166985.00\n",
            "  adjusted_power統計: 平均=25694.39, 最大=166985.00\n",
            "[AreaAggregator] 電力データ統合結果:\n",
            "  統合前レコード数: 7\n",
            "  統合後レコード数: 8512\n",
            "  adjusted_power欠損値: 0件\n",
            "  adjusted_power統計: 平均=179860.74, 最大=1168895.00\n",
            "[AreaAggregator] マージ後:\n",
            "  dfレコード数: 10654\n",
            "  adjusted_power欠損値: 2142件\n",
            "⚠️ adjusted_powerに欠損値が2142件あります\n",
            "  欠損値の詳細分析:\n",
            "    欠損レコード数: 2142\n",
            "    欠損期間: 2024-06-30 15:00:00 ～ 2025-04-30 14:00:00\n",
            "    電力データ存在: 8512件\n",
            "    電力データ欠損率: 20.1%\n",
            "    室温データ欠損: 746件\n",
            "    ⚠️ 室温データも欠損している可能性\n",
            "  電力データ統合前の状況:\n",
            "    統合前レコード数: 7\n",
            "    統合後レコード数: 8512\n",
            "    統合後欠損値: 0件\n",
            "  マージ状況:\n",
            "    空調データレコード数: 9908\n",
            "    電力データレコード数: 8512\n",
            "    マージ後レコード数: 10654\n",
            "    空調データ時間範囲: 2024-06-30 15:00:00 ～ 2025-09-28 00:00:00\n",
            "    電力データ時間範囲: 2024-08-31 15:00:00 ～ 2025-09-28 00:00:00\n",
            "    ✅ 時間範囲に重複があります: 2024-08-31 15:00:00 ～ 2025-09-28 00:00:00\n",
            "\n",
            "[AreaAggregator] エリア 'Area 2' のカテゴリカル変数処理開始\n",
            "[AreaAggregator] Area 2 - A/C ON/OFF 処理中...\n",
            "[AreaAggregator] Area 2 - A/C ON/OFF ユニーク値: {'OFF': 441145, 'ON': 277059}\n",
            "[AreaAggregator] Area 2 - A/C Mode 処理中...\n",
            "[AreaAggregator] Area 2 - A/C Mode ユニーク値: {'COOL': 514409, 'HEAT': 181736, 'FAN': 22054, '-': 5}\n",
            "[AreaAggregator] Area 2 - A/C Fan Speed 処理中...\n",
            "[AreaAggregator] Area 2 - A/C Fan Speed ユニーク値: {'-': 441145, 'Low': 212636, 'Medium': 62378, 'High': 2045}\n",
            "\n",
            "[AreaAggregator] エリア別マッピングログ保存: logs/preprocessing/unknown/zone_mapping_log_20251002_154030.json\n",
            "[AreaAggregator] Zone Area 2: Processing 6 outdoor units\n",
            "[AreaAggregator] Found 514964 records for Mesh ID: 43-1\n",
            "  Total_kWh統計: 平均=41049.00, 最大=217005.00\n",
            "  adjusted_power統計: 平均=41049.00, 最大=217005.00\n",
            "[AreaAggregator] Found 514964 records for Mesh ID: 43-2\n",
            "  Total_kWh統計: 平均=41049.00, 最大=217005.00\n",
            "  adjusted_power統計: 平均=41049.00, 最大=217005.00\n",
            "[AreaAggregator] Found 514964 records for Mesh ID: 43-3\n",
            "  Total_kWh統計: 平均=41049.00, 最大=217005.00\n",
            "  adjusted_power統計: 平均=41049.00, 最大=217005.00\n",
            "[AreaAggregator] Found 514964 records for Mesh ID: 43-4\n",
            "  Total_kWh統計: 平均=41049.00, 最大=217005.00\n",
            "  adjusted_power統計: 平均=41049.00, 最大=217005.00\n",
            "[AreaAggregator] Found 643213 records for Mesh ID: 44-1\n",
            "  Total_kWh統計: 平均=22717.71, 最大=238800.00\n",
            "  adjusted_power統計: 平均=22717.71, 最大=238800.00\n",
            "[AreaAggregator] Found 643213 records for Mesh ID: 44-3\n",
            "  Total_kWh統計: 平均=22717.71, 最大=238800.00\n",
            "  adjusted_power統計: 平均=22717.71, 最大=238800.00\n",
            "[AreaAggregator] 電力データ統合結果:\n",
            "  統合前レコード数: 6\n",
            "  統合後レコード数: 10765\n",
            "  adjusted_power欠損値: 0件\n",
            "  adjusted_power統計: 平均=177310.81, 最大=1214890.00\n",
            "[AreaAggregator] マージ後:\n",
            "  dfレコード数: 10767\n",
            "  adjusted_power欠損値: 2件\n",
            "⚠️ adjusted_powerに欠損値が2件あります\n",
            "  欠損値の詳細分析:\n",
            "    欠損レコード数: 2\n",
            "    欠損期間: 2025-01-30 00:00:00 ～ 2025-02-07 13:00:00\n",
            "    電力データ存在: 10765件\n",
            "    電力データ欠損率: 0.0%\n",
            "    室温データ欠損: 748件\n",
            "    ⚠️ 室温データも欠損している可能性\n",
            "  電力データ統合前の状況:\n",
            "    統合前レコード数: 6\n",
            "    統合後レコード数: 10765\n",
            "    統合後欠損値: 0件\n",
            "  マージ状況:\n",
            "    空調データレコード数: 10019\n",
            "    電力データレコード数: 10765\n",
            "    マージ後レコード数: 10767\n",
            "    空調データ時間範囲: 2024-06-30 15:00:00 ～ 2025-09-28 00:00:00\n",
            "    電力データ時間範囲: 2024-06-30 15:00:00 ～ 2025-09-28 00:00:00\n",
            "    ✅ 時間範囲に重複があります: 2024-06-30 15:00:00 ～ 2025-09-28 00:00:00\n",
            "\n",
            "[AreaAggregator] エリア 'Area 3' のカテゴリカル変数処理開始\n",
            "[AreaAggregator] Area 3 - A/C ON/OFF 処理中...\n",
            "[AreaAggregator] Area 3 - A/C ON/OFF ユニーク値: {'OFF': 162163, 'ON': 74439}\n",
            "[AreaAggregator] Area 3 - A/C Mode 処理中...\n",
            "[AreaAggregator] Area 3 - A/C Mode ユニーク値: {'COOL': 110668, 'HEAT': 99004, 'FAN': 23656, '-': 3274}\n",
            "[AreaAggregator] Area 3 - A/C Fan Speed 処理中...\n",
            "[AreaAggregator] Area 3 - A/C Fan Speed ユニーク値: {'-': 162163, 'Low': 69585, 'Medium': 3570, 'High': 1284}\n",
            "\n",
            "[AreaAggregator] エリア別マッピングログ保存: logs/preprocessing/unknown/zone_mapping_log_20251002_154034.json\n",
            "[AreaAggregator] Zone Area 3: Processing 1 outdoor units\n",
            "[AreaAggregator] Found 508731 records for Mesh ID: 49-9\n",
            "  Total_kWh統計: 平均=25694.39, 最大=166985.00\n",
            "  adjusted_power統計: 平均=25694.39, 最大=166985.00\n",
            "[AreaAggregator] 電力データ統合結果:\n",
            "  統合前レコード数: 1\n",
            "  統合後レコード数: 8512\n",
            "  adjusted_power欠損値: 0件\n",
            "  adjusted_power統計: 平均=25694.39, 最大=166985.00\n",
            "[AreaAggregator] マージ後:\n",
            "  dfレコード数: 10654\n",
            "  adjusted_power欠損値: 2142件\n",
            "⚠️ adjusted_powerに欠損値が2142件あります\n",
            "  欠損値の詳細分析:\n",
            "    欠損レコード数: 2142\n",
            "    欠損期間: 2024-06-30 15:00:00 ～ 2025-04-30 14:00:00\n",
            "    電力データ存在: 8512件\n",
            "    電力データ欠損率: 20.1%\n",
            "    室温データ欠損: 745件\n",
            "    ⚠️ 室温データも欠損している可能性\n",
            "  電力データ統合前の状況:\n",
            "    統合前レコード数: 1\n",
            "    統合後レコード数: 8512\n",
            "    統合後欠損値: 0件\n",
            "  マージ状況:\n",
            "    空調データレコード数: 9909\n",
            "    電力データレコード数: 8512\n",
            "    マージ後レコード数: 10654\n",
            "    空調データ時間範囲: 2024-06-30 15:00:00 ～ 2025-09-28 00:00:00\n",
            "    電力データ時間範囲: 2024-08-31 15:00:00 ～ 2025-09-28 00:00:00\n",
            "    ✅ 時間範囲に重複があります: 2024-08-31 15:00:00 ～ 2025-09-28 00:00:00\n",
            "\n",
            "[AreaAggregator] エリア 'Area 4' のカテゴリカル変数処理開始\n",
            "[AreaAggregator] Area 4 - A/C ON/OFF 処理中...\n",
            "[AreaAggregator] Area 4 - A/C ON/OFF ユニーク値: {'OFF': 315946, 'ON': 47741}\n",
            "[AreaAggregator] Area 4 - A/C Mode 処理中...\n",
            "[AreaAggregator] Area 4 - A/C Mode ユニーク値: {'COOL': 224234, 'HEAT': 128115, 'FAN': 11229, '-': 109}\n",
            "[AreaAggregator] Area 4 - A/C Fan Speed 処理中...\n",
            "[AreaAggregator] Area 4 - A/C Fan Speed ユニーク値: {'-': 315946, 'Low': 40598, 'High': 3698, 'Medium': 3442, 'Auto': 3}\n",
            "\n",
            "[AreaAggregator] エリア別マッピングログ保存: logs/preprocessing/unknown/zone_mapping_log_20251002_154038.json\n",
            "[AreaAggregator] Zone Area 4: Processing 2 outdoor units\n",
            "[AreaAggregator] Found 643213 records for Mesh ID: 44-2\n",
            "  Total_kWh統計: 平均=22717.71, 最大=238800.00\n",
            "  adjusted_power統計: 平均=22717.71, 最大=238800.00\n",
            "[AreaAggregator] Found 643213 records for Mesh ID: 44-4\n",
            "  Total_kWh統計: 平均=22717.71, 最大=238800.00\n",
            "  adjusted_power統計: 平均=22717.71, 最大=238800.00\n",
            "[AreaAggregator] 電力データ統合結果:\n",
            "  統合前レコード数: 2\n",
            "  統合後レコード数: 10765\n",
            "  adjusted_power欠損値: 0件\n",
            "  adjusted_power統計: 平均=45435.41, 最大=477600.00\n",
            "[AreaAggregator] マージ後:\n",
            "  dfレコード数: 10894\n",
            "  adjusted_power欠損値: 129件\n",
            "⚠️ adjusted_powerに欠損値が129件あります\n",
            "  欠損値の詳細分析:\n",
            "    欠損レコード数: 129\n",
            "    欠損期間: 2024-07-04 21:00:00 ～ 2025-02-07 13:00:00\n",
            "    電力データ存在: 10765件\n",
            "    電力データ欠損率: 1.2%\n",
            "    室温データ欠損: 747件\n",
            "    ⚠️ 室温データも欠損している可能性\n",
            "  電力データ統合前の状況:\n",
            "    統合前レコード数: 2\n",
            "    統合後レコード数: 10765\n",
            "    統合後欠損値: 0件\n",
            "  マージ状況:\n",
            "    空調データレコード数: 10147\n",
            "    電力データレコード数: 10765\n",
            "    マージ後レコード数: 10894\n",
            "    空調データ時間範囲: 2024-06-30 15:00:00 ～ 2025-09-28 00:00:00\n",
            "    電力データ時間範囲: 2024-06-30 15:00:00 ～ 2025-09-28 00:00:00\n",
            "    ✅ 時間範囲に重複があります: 2024-06-30 15:00:00 ～ 2025-09-28 00:00:00\n",
            "\n",
            "[AreaAggregator] エリア 'Meeting Room' のカテゴリカル変数処理開始\n",
            "[AreaAggregator] Meeting Room - A/C ON/OFF 処理中...\n",
            "[AreaAggregator] Meeting Room - A/C ON/OFF ユニーク値: {'OFF': 67498, 'ON': 808}\n",
            "[AreaAggregator] Meeting Room - A/C Mode 処理中...\n",
            "[AreaAggregator] Meeting Room - A/C Mode ユニーク値: {'COOL': 59457, 'HEAT': 8849}\n",
            "[AreaAggregator] Meeting Room - A/C Fan Speed 処理中...\n",
            "[AreaAggregator] Meeting Room - A/C Fan Speed ユニーク値: {'-': 67498, 'Low': 672, 'Medium': 68, 'High': 68}\n",
            "\n",
            "[AreaAggregator] エリア別マッピングログ保存: logs/preprocessing/unknown/zone_mapping_log_20251002_154041.json\n",
            "[AreaAggregator] Zone Meeting Room: Processing 1 outdoor units\n",
            "[AreaAggregator] Found 643213 records for Mesh ID: 44-8\n",
            "  Total_kWh統計: 平均=22717.71, 最大=238800.00\n",
            "  adjusted_power統計: 平均=22717.71, 最大=238800.00\n",
            "[AreaAggregator] 電力データ統合結果:\n",
            "  統合前レコード数: 1\n",
            "  統合後レコード数: 10765\n",
            "  adjusted_power欠損値: 0件\n",
            "  adjusted_power統計: 平均=22717.71, 最大=238800.00\n",
            "[AreaAggregator] マージ後:\n",
            "  dfレコード数: 10781\n",
            "  adjusted_power欠損値: 16件\n",
            "⚠️ adjusted_powerに欠損値が16件あります\n",
            "  欠損値の詳細分析:\n",
            "    欠損レコード数: 16\n",
            "    欠損期間: 2024-09-05 21:00:00 ～ 2025-09-28 01:00:00\n",
            "    電力データ存在: 10765件\n",
            "    電力データ欠損率: 0.1%\n",
            "    室温データ欠損: 7919件\n",
            "    ⚠️ 室温データも欠損している可能性\n",
            "  電力データ統合前の状況:\n",
            "    統合前レコード数: 1\n",
            "    統合後レコード数: 10765\n",
            "    統合後欠損値: 0件\n",
            "  マージ状況:\n",
            "    空調データレコード数: 2862\n",
            "    電力データレコード数: 10765\n",
            "    マージ後レコード数: 10781\n",
            "    空調データ時間範囲: 2024-08-31 15:00:00 ～ 2025-09-28 01:00:00\n",
            "    電力データ時間範囲: 2024-06-30 15:00:00 ～ 2025-09-28 00:00:00\n",
            "    ✅ 時間範囲に重複があります: 2024-08-31 15:00:00 ～ 2025-09-28 00:00:00\n",
            "\n",
            "[AreaAggregator] エリア 'Break Room' のカテゴリカル変数処理開始\n",
            "[AreaAggregator] Break Room - A/C ON/OFF 処理中...\n",
            "[AreaAggregator] Break Room - A/C ON/OFF ユニーク値: {'OFF': 53733, 'ON': 14575}\n",
            "[AreaAggregator] Break Room - A/C Mode 処理中...\n",
            "[AreaAggregator] Break Room - A/C Mode ユニーク値: {'COOL': 50610, 'HEAT': 17698}\n",
            "[AreaAggregator] Break Room - A/C Fan Speed 処理中...\n",
            "[AreaAggregator] Break Room - A/C Fan Speed ユニーク値: {'-': 53733, 'Medium': 14575}\n",
            "\n",
            "[AreaAggregator] エリア別マッピングログ保存: logs/preprocessing/unknown/zone_mapping_log_20251002_154042.json\n",
            "[AreaAggregator] Zone Break Room: Processing 1 outdoor units\n",
            "[AreaAggregator] Found 643213 records for Mesh ID: 44-6\n",
            "  Total_kWh統計: 平均=22717.71, 最大=238800.00\n",
            "  adjusted_power統計: 平均=22717.71, 最大=238800.00\n",
            "[AreaAggregator] 電力データ統合結果:\n",
            "  統合前レコード数: 1\n",
            "  統合後レコード数: 10765\n",
            "  adjusted_power欠損値: 0件\n",
            "  adjusted_power統計: 平均=22717.71, 最大=238800.00\n",
            "[AreaAggregator] マージ後:\n",
            "  dfレコード数: 10781\n",
            "  adjusted_power欠損値: 16件\n",
            "⚠️ adjusted_powerに欠損値が16件あります\n",
            "  欠損値の詳細分析:\n",
            "    欠損レコード数: 16\n",
            "    欠損期間: 2024-09-05 21:00:00 ～ 2025-09-28 01:00:00\n",
            "    電力データ存在: 10765件\n",
            "    電力データ欠損率: 0.1%\n",
            "    室温データ欠損: 7919件\n",
            "    ⚠️ 室温データも欠損している可能性\n",
            "  電力データ統合前の状況:\n",
            "    統合前レコード数: 1\n",
            "    統合後レコード数: 10765\n",
            "    統合後欠損値: 0件\n",
            "  マージ状況:\n",
            "    空調データレコード数: 2862\n",
            "    電力データレコード数: 10765\n",
            "    マージ後レコード数: 10781\n",
            "    空調データ時間範囲: 2024-08-31 15:00:00 ～ 2025-09-28 01:00:00\n",
            "    電力データ時間範囲: 2024-06-30 15:00:00 ～ 2025-09-28 00:00:00\n",
            "    ✅ 時間範囲に重複があります: 2024-08-31 15:00:00 ～ 2025-09-28 00:00:00\n",
            "✅ 制御エリア集約完了: (64531, 15)\n",
            "🏢 ゾーン: ['Area 1', 'Area 2', 'Area 3', 'Area 4', 'Meeting Room', 'Break Room']\n",
            "\n",
            "🎌 祝日検出結果:\n",
            "  祝日データ: 3485件 (5.4%)\n",
            "  祝日一覧: [datetime.date(2024, 7, 15), datetime.date(2024, 8, 11), datetime.date(2024, 8, 12), datetime.date(2024, 9, 16), datetime.date(2024, 9, 22), datetime.date(2024, 9, 23), datetime.date(2024, 10, 14), datetime.date(2024, 11, 3), datetime.date(2024, 11, 4), datetime.date(2024, 11, 23)]...\n",
            "\n",
            "🔍 祝日検出の検証:\n",
            "  2024-06-30: ライブラリ=False, データ=0\n",
            "  2024-07-01: ライブラリ=False, データ=0\n",
            "  2024-07-02: ライブラリ=False, データ=0\n",
            "  2024-07-03: ライブラリ=False, データ=0\n",
            "  2024-07-04: ライブラリ=False, データ=0\n",
            "\n",
            "⚡ adjusted_power確認:\n",
            "  欠損値: 4447件 (6.9%)\n",
            "  ⚠️ adjusted_powerに欠損値があります\n",
            "  欠損があるゾーン: ['Area 1' 'Area 2' 'Area 3' 'Area 4' 'Meeting Room' 'Break Room']\n"
          ]
        }
      ],
      "source": [
        "# 制御エリア集約\n",
        "print(\"\\n🔧 制御エリア集約...\")\n",
        "aggregator = AreaAggregator(master)\n",
        "\n",
        "# 天気データは後で追加するため、ここではNone\n",
        "area_df = aggregator.build(\n",
        "    ac_processed, pm_processed, None, freq=\"1H\"\n",
        ")\n",
        "\n",
        "if area_df is not None and not area_df.empty:\n",
        "    print(f\"✅ 制御エリア集約完了: {area_df.shape}\")\n",
        "    print(f\"🏢 ゾーン: {area_df['zone'].unique().tolist()}\")\n",
        "    \n",
        "    # 祝日検出の確認\n",
        "    if \"IsHoliday\" in area_df.columns:\n",
        "        holiday_count = area_df[\"IsHoliday\"].sum()\n",
        "        total_count = len(area_df)\n",
        "        print(f\"\\n🎌 祝日検出結果:\")\n",
        "        print(f\"  祝日データ: {holiday_count}件 ({holiday_count/total_count*100:.1f}%)\")\n",
        "        \n",
        "        # 祝日データのサンプル表示\n",
        "        holiday_dates = area_df[area_df[\"IsHoliday\"] == 1][\"Datetime\"].dt.date.unique()\n",
        "        print(f\"  祝日一覧: {sorted(holiday_dates)[:10]}...\")  # 最初の10件\n",
        "        \n",
        "        # 日本の祝日ライブラリとの比較\n",
        "        print(f\"\\n🔍 祝日検出の検証:\")\n",
        "        sample_dates = area_df[\"Datetime\"].dt.date.unique()[:5]\n",
        "        for date in sample_dates:\n",
        "            is_holiday_lib = jpholiday.is_holiday(date)\n",
        "            is_holiday_data = area_df[area_df[\"Datetime\"].dt.date == date][\"IsHoliday\"].iloc[0] if len(area_df[area_df[\"Datetime\"].dt.date == date]) > 0 else 0\n",
        "            print(f\"  {date}: ライブラリ={is_holiday_lib}, データ={is_holiday_data}\")\n",
        "    \n",
        "    # adjusted_powerの確認\n",
        "    if \"adjusted_power\" in area_df.columns:\n",
        "        power_missing = area_df[\"adjusted_power\"].isnull().sum()\n",
        "        power_total = len(area_df)\n",
        "        print(f\"\\n⚡ adjusted_power確認:\")\n",
        "        print(f\"  欠損値: {power_missing}件 ({power_missing/power_total*100:.1f}%)\")\n",
        "        \n",
        "        if power_missing > 0:\n",
        "            print(f\"  ⚠️ adjusted_powerに欠損値があります\")\n",
        "            # 欠損値の原因調査\n",
        "            zones_with_missing = area_df[area_df[\"adjusted_power\"].isnull()][\"zone\"].unique()\n",
        "            print(f\"  欠損があるゾーン: {zones_with_missing}\")\n",
        "        else:\n",
        "            print(f\"  ✅ adjusted_powerに欠損値なし\")\n",
        "else:\n",
        "    print(\"❌ 制御エリア集約に失敗\")\n",
        "    area_df = None\n"
      ]
    },
    {
      "cell_type": "code",
      "execution_count": null,
      "metadata": {},
      "outputs": [],
      "source": []
    },
    {
      "cell_type": "code",
      "execution_count": null,
      "metadata": {},
      "outputs": [],
      "source": []
    },
    {
      "cell_type": "code",
      "execution_count": null,
      "metadata": {},
      "outputs": [],
      "source": []
    },
    {
      "cell_type": "code",
      "execution_count": null,
      "metadata": {},
      "outputs": [],
      "source": []
    },
    {
      "cell_type": "code",
      "execution_count": 10,
      "metadata": {},
      "outputs": [
        {
          "name": "stdout",
          "output_type": "stream",
          "text": [
            "✅ 前処理済みデータ保存完了: data/02_PreprocessedData/Clea/features_processed_Clea.csv\n",
            "\n",
            "📊 データの基本統計情報:\n",
            "       A/C Set Temperature  Indoor Temp.    A/C ON/OFF      A/C Mode  \\\n",
            "count         45707.000000  45707.000000  45707.000000  45707.000000   \n",
            "mean             24.924847     23.921647      0.215941      1.077034   \n",
            "std               1.417064      5.778953      0.411478      1.397043   \n",
            "min              18.000000      6.000000      0.000000      0.000000   \n",
            "25%              25.000000     20.500000      0.000000      0.000000   \n",
            "50%              25.000000     25.100000      0.000000      0.000000   \n",
            "75%              26.000000     27.700000      0.000000      3.000000   \n",
            "max              30.000000     44.900000      1.000000      3.000000   \n",
            "\n",
            "       A/C Fan Speed  adjusted_power     DayOfWeek          Hour  \\\n",
            "count   45707.000000    6.008400e+04  64531.000000  64531.000000   \n",
            "mean        1.038200    7.716964e+04      2.996343     11.483706   \n",
            "std         0.207362    1.499877e+05      1.997221      6.923108   \n",
            "min         1.000000    7.000000e+01      0.000000      0.000000   \n",
            "25%         1.000000    4.360000e+03      1.000000      5.000000   \n",
            "50%         1.000000    2.396000e+04      3.000000     11.000000   \n",
            "75%         1.000000    6.942000e+04      5.000000     17.000000   \n",
            "max         3.000000    1.214890e+06      6.000000     23.000000   \n",
            "\n",
            "              Month     IsWeekend     IsHoliday  Indoor Temp. Lag1  \n",
            "count  64531.000000  64531.000000  64531.000000       45727.000000  \n",
            "mean       6.813454      0.285057      0.054005          23.921985  \n",
            "std        3.174701      0.451445      0.226029           5.779588  \n",
            "min        1.000000      0.000000      0.000000           6.000000  \n",
            "25%        4.000000      0.000000      0.000000          20.500000  \n",
            "50%        7.000000      0.000000      0.000000          25.100000  \n",
            "75%        9.000000      1.000000      0.000000          27.700000  \n",
            "max       12.000000      1.000000      1.000000          44.900000  \n",
            "\n",
            "🔍 欠損値の確認:\n",
            "A/C Set Temperature    18824\n",
            "Indoor Temp.           18824\n",
            "A/C ON/OFF             18824\n",
            "A/C Mode               18824\n",
            "A/C Fan Speed          18824\n",
            "adjusted_power          4447\n",
            "Indoor Temp. Lag1      18804\n",
            "dtype: int64\n"
          ]
        }
      ],
      "source": [
        "# 前処理済みデータの保存\n",
        "if area_df is not None:\n",
        "    # 前処理済みデータを保存\n",
        "    preprocessor.save(ac_processed, pm_processed)\n",
        "    \n",
        "    # 集約済みデータも保存\n",
        "    area_output_path = f\"data/02_PreprocessedData/{store_name}/features_processed_{store_name}.csv\"\n",
        "    os.makedirs(os.path.dirname(area_output_path), exist_ok=True)\n",
        "    area_df.to_csv(area_output_path, index=False, encoding=\"utf-8-sig\")\n",
        "    print(f\"✅ 前処理済みデータ保存完了: {area_output_path}\")\n",
        "    \n",
        "    # データの基本統計情報\n",
        "    print(f\"\\n📊 データの基本統計情報:\")\n",
        "    print(area_df.describe())\n",
        "    \n",
        "    print(f\"\\n🔍 欠損値の確認:\")\n",
        "    missing_data = area_df.isnull().sum()\n",
        "    missing_data = missing_data[missing_data > 0]\n",
        "    if len(missing_data) > 0:\n",
        "        print(missing_data)\n",
        "    else:\n",
        "        print(\"✅ 欠損値なし\")\n",
        "else:\n",
        "    print(\"❌ データが読み込まれていません\")\n"
      ]
    },
    {
      "cell_type": "markdown",
      "metadata": {},
      "source": [
        "\n"
      ]
    },
    {
      "cell_type": "code",
      "execution_count": null,
      "metadata": {},
      "outputs": [],
      "source": []
    },
    {
      "cell_type": "code",
      "execution_count": 11,
      "metadata": {},
      "outputs": [
        {
          "name": "stdout",
          "output_type": "stream",
          "text": [
            "📊 データの基本統計情報:\n",
            "       A/C Set Temperature  Indoor Temp.    A/C ON/OFF      A/C Mode  \\\n",
            "count         45707.000000  45707.000000  45707.000000  45707.000000   \n",
            "mean             24.924847     23.921647      0.215941      1.077034   \n",
            "std               1.417064      5.778953      0.411478      1.397043   \n",
            "min              18.000000      6.000000      0.000000      0.000000   \n",
            "25%              25.000000     20.500000      0.000000      0.000000   \n",
            "50%              25.000000     25.100000      0.000000      0.000000   \n",
            "75%              26.000000     27.700000      0.000000      3.000000   \n",
            "max              30.000000     44.900000      1.000000      3.000000   \n",
            "\n",
            "       A/C Fan Speed  adjusted_power     DayOfWeek          Hour  \\\n",
            "count   45707.000000    6.008400e+04  64531.000000  64531.000000   \n",
            "mean        1.038200    7.716964e+04      2.996343     11.483706   \n",
            "std         0.207362    1.499877e+05      1.997221      6.923108   \n",
            "min         1.000000    7.000000e+01      0.000000      0.000000   \n",
            "25%         1.000000    4.360000e+03      1.000000      5.000000   \n",
            "50%         1.000000    2.396000e+04      3.000000     11.000000   \n",
            "75%         1.000000    6.942000e+04      5.000000     17.000000   \n",
            "max         3.000000    1.214890e+06      6.000000     23.000000   \n",
            "\n",
            "              Month     IsWeekend     IsHoliday  Indoor Temp. Lag1  \n",
            "count  64531.000000  64531.000000  64531.000000       45727.000000  \n",
            "mean       6.813454      0.285057      0.054005          23.921985  \n",
            "std        3.174701      0.451445      0.226029           5.779588  \n",
            "min        1.000000      0.000000      0.000000           6.000000  \n",
            "25%        4.000000      0.000000      0.000000          20.500000  \n",
            "50%        7.000000      0.000000      0.000000          25.100000  \n",
            "75%        9.000000      1.000000      0.000000          27.700000  \n",
            "max       12.000000      1.000000      1.000000          44.900000  \n",
            "\n",
            "🔍 欠損値の確認:\n",
            "A/C Set Temperature    18824\n",
            "Indoor Temp.           18824\n",
            "A/C ON/OFF             18824\n",
            "A/C Mode               18824\n",
            "A/C Fan Speed          18824\n",
            "adjusted_power          4447\n",
            "Indoor Temp. Lag1      18804\n",
            "dtype: int64\n"
          ]
        }
      ],
      "source": [
        "# データの基本統計情報\n",
        "if area_df is not None:\n",
        "    print(\"📊 データの基本統計情報:\")\n",
        "    print(area_df.describe())\n",
        "    \n",
        "    print(\"\\n🔍 欠損値の確認:\")\n",
        "    missing_data = area_df.isnull().sum()\n",
        "    missing_data = missing_data[missing_data > 0]\n",
        "    if len(missing_data) > 0:\n",
        "        print(missing_data)\n",
        "    else:\n",
        "        print(\"✅ 欠損値なし\")\n"
      ]
    },
    {
      "cell_type": "code",
      "execution_count": 12,
      "metadata": {},
      "outputs": [
        {
          "name": "stdout",
          "output_type": "stream",
          "text": [
            "🏢 ゾーン別データ確認:\n",
            "\n",
            "📍 Area 1:\n",
            "  - レコード数: 10,654\n"
          ]
        },
        {
          "ename": "KeyError",
          "evalue": "'datetime'",
          "output_type": "error",
          "traceback": [
            "\u001b[0;31m---------------------------------------------------------------------------\u001b[0m",
            "\u001b[0;31mKeyError\u001b[0m                                  Traceback (most recent call last)",
            "File \u001b[0;32m~/anaconda3/lib/python3.10/site-packages/pandas/core/indexes/base.py:3621\u001b[0m, in \u001b[0;36mIndex.get_loc\u001b[0;34m(self, key, method, tolerance)\u001b[0m\n\u001b[1;32m   3620\u001b[0m \u001b[38;5;28;01mtry\u001b[39;00m:\n\u001b[0;32m-> 3621\u001b[0m     \u001b[38;5;28;01mreturn\u001b[39;00m \u001b[38;5;28;43mself\u001b[39;49m\u001b[38;5;241;43m.\u001b[39;49m\u001b[43m_engine\u001b[49m\u001b[38;5;241;43m.\u001b[39;49m\u001b[43mget_loc\u001b[49m\u001b[43m(\u001b[49m\u001b[43mcasted_key\u001b[49m\u001b[43m)\u001b[49m\n\u001b[1;32m   3622\u001b[0m \u001b[38;5;28;01mexcept\u001b[39;00m \u001b[38;5;167;01mKeyError\u001b[39;00m \u001b[38;5;28;01mas\u001b[39;00m err:\n",
            "File \u001b[0;32mpandas/_libs/index.pyx:136\u001b[0m, in \u001b[0;36mpandas._libs.index.IndexEngine.get_loc\u001b[0;34m()\u001b[0m\n",
            "File \u001b[0;32mpandas/_libs/index.pyx:163\u001b[0m, in \u001b[0;36mpandas._libs.index.IndexEngine.get_loc\u001b[0;34m()\u001b[0m\n",
            "File \u001b[0;32mpandas/_libs/hashtable_class_helper.pxi:5198\u001b[0m, in \u001b[0;36mpandas._libs.hashtable.PyObjectHashTable.get_item\u001b[0;34m()\u001b[0m\n",
            "File \u001b[0;32mpandas/_libs/hashtable_class_helper.pxi:5206\u001b[0m, in \u001b[0;36mpandas._libs.hashtable.PyObjectHashTable.get_item\u001b[0;34m()\u001b[0m\n",
            "\u001b[0;31mKeyError\u001b[0m: 'datetime'",
            "\nThe above exception was the direct cause of the following exception:\n",
            "\u001b[0;31mKeyError\u001b[0m                                  Traceback (most recent call last)",
            "Cell \u001b[0;32mIn[12], line 8\u001b[0m\n\u001b[1;32m      6\u001b[0m \u001b[38;5;28mprint\u001b[39m(\u001b[38;5;124mf\u001b[39m\u001b[38;5;124m\"\u001b[39m\u001b[38;5;130;01m\\n\u001b[39;00m\u001b[38;5;124m📍 \u001b[39m\u001b[38;5;132;01m{\u001b[39;00mzone\u001b[38;5;132;01m}\u001b[39;00m\u001b[38;5;124m:\u001b[39m\u001b[38;5;124m\"\u001b[39m)\n\u001b[1;32m      7\u001b[0m \u001b[38;5;28mprint\u001b[39m(\u001b[38;5;124mf\u001b[39m\u001b[38;5;124m\"\u001b[39m\u001b[38;5;124m  - レコード数: \u001b[39m\u001b[38;5;132;01m{\u001b[39;00m\u001b[38;5;28mlen\u001b[39m(zone_data)\u001b[38;5;132;01m:\u001b[39;00m\u001b[38;5;124m,\u001b[39m\u001b[38;5;132;01m}\u001b[39;00m\u001b[38;5;124m\"\u001b[39m)\n\u001b[0;32m----> 8\u001b[0m \u001b[38;5;28mprint\u001b[39m(\u001b[38;5;124mf\u001b[39m\u001b[38;5;124m\"\u001b[39m\u001b[38;5;124m  - 期間: \u001b[39m\u001b[38;5;132;01m{\u001b[39;00m\u001b[43mzone_data\u001b[49m\u001b[43m[\u001b[49m\u001b[38;5;124;43m'\u001b[39;49m\u001b[38;5;124;43mdatetime\u001b[39;49m\u001b[38;5;124;43m'\u001b[39;49m\u001b[43m]\u001b[49m\u001b[38;5;241m.\u001b[39mmin()\u001b[38;5;132;01m}\u001b[39;00m\u001b[38;5;124m ～ \u001b[39m\u001b[38;5;132;01m{\u001b[39;00mzone_data[\u001b[38;5;124m'\u001b[39m\u001b[38;5;124mdatetime\u001b[39m\u001b[38;5;124m'\u001b[39m]\u001b[38;5;241m.\u001b[39mmax()\u001b[38;5;132;01m}\u001b[39;00m\u001b[38;5;124m\"\u001b[39m)\n\u001b[1;32m     10\u001b[0m \u001b[38;5;66;03m# 電力データの確認\u001b[39;00m\n\u001b[1;32m     11\u001b[0m power_data \u001b[38;5;241m=\u001b[39m zone_data[\u001b[38;5;124m'\u001b[39m\u001b[38;5;124madjusted_power\u001b[39m\u001b[38;5;124m'\u001b[39m]\u001b[38;5;241m.\u001b[39mdropna()\n",
            "File \u001b[0;32m~/anaconda3/lib/python3.10/site-packages/pandas/core/frame.py:3505\u001b[0m, in \u001b[0;36mDataFrame.__getitem__\u001b[0;34m(self, key)\u001b[0m\n\u001b[1;32m   3503\u001b[0m \u001b[38;5;28;01mif\u001b[39;00m \u001b[38;5;28mself\u001b[39m\u001b[38;5;241m.\u001b[39mcolumns\u001b[38;5;241m.\u001b[39mnlevels \u001b[38;5;241m>\u001b[39m \u001b[38;5;241m1\u001b[39m:\n\u001b[1;32m   3504\u001b[0m     \u001b[38;5;28;01mreturn\u001b[39;00m \u001b[38;5;28mself\u001b[39m\u001b[38;5;241m.\u001b[39m_getitem_multilevel(key)\n\u001b[0;32m-> 3505\u001b[0m indexer \u001b[38;5;241m=\u001b[39m \u001b[38;5;28;43mself\u001b[39;49m\u001b[38;5;241;43m.\u001b[39;49m\u001b[43mcolumns\u001b[49m\u001b[38;5;241;43m.\u001b[39;49m\u001b[43mget_loc\u001b[49m\u001b[43m(\u001b[49m\u001b[43mkey\u001b[49m\u001b[43m)\u001b[49m\n\u001b[1;32m   3506\u001b[0m \u001b[38;5;28;01mif\u001b[39;00m is_integer(indexer):\n\u001b[1;32m   3507\u001b[0m     indexer \u001b[38;5;241m=\u001b[39m [indexer]\n",
            "File \u001b[0;32m~/anaconda3/lib/python3.10/site-packages/pandas/core/indexes/base.py:3623\u001b[0m, in \u001b[0;36mIndex.get_loc\u001b[0;34m(self, key, method, tolerance)\u001b[0m\n\u001b[1;32m   3621\u001b[0m     \u001b[38;5;28;01mreturn\u001b[39;00m \u001b[38;5;28mself\u001b[39m\u001b[38;5;241m.\u001b[39m_engine\u001b[38;5;241m.\u001b[39mget_loc(casted_key)\n\u001b[1;32m   3622\u001b[0m \u001b[38;5;28;01mexcept\u001b[39;00m \u001b[38;5;167;01mKeyError\u001b[39;00m \u001b[38;5;28;01mas\u001b[39;00m err:\n\u001b[0;32m-> 3623\u001b[0m     \u001b[38;5;28;01mraise\u001b[39;00m \u001b[38;5;167;01mKeyError\u001b[39;00m(key) \u001b[38;5;28;01mfrom\u001b[39;00m \u001b[38;5;21;01merr\u001b[39;00m\n\u001b[1;32m   3624\u001b[0m \u001b[38;5;28;01mexcept\u001b[39;00m \u001b[38;5;167;01mTypeError\u001b[39;00m:\n\u001b[1;32m   3625\u001b[0m     \u001b[38;5;66;03m# If we have a listlike key, _check_indexing_error will raise\u001b[39;00m\n\u001b[1;32m   3626\u001b[0m     \u001b[38;5;66;03m#  InvalidIndexError. Otherwise we fall through and re-raise\u001b[39;00m\n\u001b[1;32m   3627\u001b[0m     \u001b[38;5;66;03m#  the TypeError.\u001b[39;00m\n\u001b[1;32m   3628\u001b[0m     \u001b[38;5;28mself\u001b[39m\u001b[38;5;241m.\u001b[39m_check_indexing_error(key)\n",
            "\u001b[0;31mKeyError\u001b[0m: 'datetime'"
          ]
        }
      ],
      "source": [
        "# ゾーン別データの確認\n",
        "if area_df is not None:\n",
        "    print(\"🏢 ゾーン別データ確認:\")\n",
        "    for zone in area_df['zone'].unique():\n",
        "        zone_data = area_df[area_df['zone'] == zone]\n",
        "        print(f\"\\n📍 {zone}:\")\n",
        "        print(f\"  - レコード数: {len(zone_data):,}\")\n",
        "        print(f\"  - 期間: {zone_data['datetime'].min()} ～ {zone_data['datetime'].max()}\")\n",
        "        \n",
        "        # 電力データの確認\n",
        "        power_data = zone_data['adjusted_power'].dropna()\n",
        "        if len(power_data) > 0:\n",
        "            print(f\"  - 電力データ: {len(power_data):,}件 (平均: {power_data.mean():.1f}W)\")\n",
        "        else:\n",
        "            print(f\"  - 電力データ: なし\")\n",
        "        \n",
        "        # 室温データの確認\n",
        "        temp_data = zone_data['Indoor Temp.'].dropna()\n",
        "        if len(temp_data) > 0:\n",
        "            print(f\"  - 室温データ: {len(temp_data):,}件 (平均: {temp_data.mean():.1f}°C)\")\n",
        "        else:\n",
        "            print(f\"  - 室温データ: なし\")\n"
      ]
    },
    {
      "cell_type": "markdown",
      "metadata": {},
      "source": [
        "## 2. 特徴量エンジニアリング\n",
        "\n",
        "モデル学習用の特徴量を準備し、特徴量の重要度を確認します。\n"
      ]
    },
    {
      "cell_type": "code",
      "execution_count": null,
      "metadata": {},
      "outputs": [
        {
          "name": "stdout",
          "output_type": "stream",
          "text": [
            "✅ 利用可能な特徴量 (10個):\n",
            "  - A/C Set Temperature\n",
            "  - Indoor Temp. Lag1\n",
            "  - A/C ON/OFF\n",
            "  - A/C Mode\n",
            "  - A/C Fan Speed\n",
            "  - DayOfWeek\n",
            "  - Hour\n",
            "  - Month\n",
            "  - IsWeekend\n",
            "  - IsHoliday\n",
            "\n",
            "⚠️ 不足している特徴量 (3個):\n",
            "  - Outdoor Temp.\n",
            "  - Outdoor Humidity\n",
            "  - Solar Radiation\n",
            "\n",
            "🔍 特徴量間の相関確認:\n",
            "\n",
            "🌡️ 室温との相関 (上位10位):\n",
            "  Indoor Temp. Lag1: 0.980\n",
            "  A/C Mode: 0.620\n",
            "  Month: 0.346\n",
            "  Hour: 0.230\n",
            "  A/C ON/OFF: 0.173\n",
            "  adjusted_power: 0.097\n",
            "  A/C Set Temperature: 0.091\n",
            "  A/C Fan Speed: 0.062\n",
            "  IsHoliday: 0.053\n",
            "  IsWeekend: 0.016\n",
            "\n",
            "⚡ 電力との相関 (上位10位):\n",
            "  A/C ON/OFF: 0.544\n",
            "  Hour: 0.161\n",
            "  A/C Fan Speed: 0.161\n",
            "  A/C Set Temperature: 0.150\n",
            "  IsWeekend: 0.146\n",
            "  DayOfWeek: 0.119\n",
            "  Indoor Temp.: 0.097\n",
            "  Indoor Temp. Lag1: 0.068\n",
            "  IsHoliday: 0.067\n",
            "  A/C Mode: 0.034\n"
          ]
        }
      ],
      "source": [
        "# 特徴量の準備\n",
        "if area_df is not None:\n",
        "    # 利用可能な特徴量の確認\n",
        "    base_feats = [\n",
        "        \"A/C Set Temperature\",\n",
        "        \"Indoor Temp. Lag1\", \n",
        "        \"A/C ON/OFF\",\n",
        "        \"A/C Mode\",\n",
        "        \"A/C Fan Speed\",\n",
        "        \"Outdoor Temp.\",\n",
        "        \"Outdoor Humidity\",\n",
        "        \"Solar Radiation\",\n",
        "        \"DayOfWeek\",\n",
        "        \"Hour\",\n",
        "        \"Month\",\n",
        "        \"IsWeekend\",\n",
        "        \"IsHoliday\"\n",
        "    ]\n",
        "    \n",
        "    available_feats = [col for col in base_feats if col in area_df.columns]\n",
        "    missing_feats = [col for col in base_feats if col not in area_df.columns]\n",
        "    \n",
        "    print(f\"✅ 利用可能な特徴量 ({len(available_feats)}個):\")\n",
        "    for feat in available_feats:\n",
        "        print(f\"  - {feat}\")\n",
        "    \n",
        "    if missing_feats:\n",
        "        print(f\"\\n⚠️ 不足している特徴量 ({len(missing_feats)}個):\")\n",
        "        for feat in missing_feats:\n",
        "            print(f\"  - {feat}\")\n",
        "    \n",
        "    # 特徴量の相関確認\n",
        "    print(f\"\\n🔍 特徴量間の相関確認:\")\n",
        "    corr_matrix = area_df[available_feats + ['Indoor Temp.', 'adjusted_power']].corr()\n",
        "    \n",
        "    # 室温との相関\n",
        "    if 'Indoor Temp.' in corr_matrix.columns:\n",
        "        temp_corr = corr_matrix['Indoor Temp.'].drop('Indoor Temp.').abs().sort_values(ascending=False)\n",
        "        print(f\"\\n🌡️ 室温との相関 (上位10位):\")\n",
        "        for feat, corr in temp_corr.head(10).items():\n",
        "            print(f\"  {feat}: {corr:.3f}\")\n",
        "    \n",
        "    # 電力との相関\n",
        "    if 'adjusted_power' in corr_matrix.columns:\n",
        "        power_corr = corr_matrix['adjusted_power'].drop('adjusted_power').abs().sort_values(ascending=False)\n",
        "        print(f\"\\n⚡ 電力との相関 (上位10位):\")\n",
        "        for feat, corr in power_corr.head(10).items():\n",
        "            print(f\"  {feat}: {corr:.3f}\")\n"
      ]
    },
    {
      "cell_type": "markdown",
      "metadata": {},
      "source": [
        "## 3. 予測モデル構築\n",
        "\n",
        "電力・環境予測モデルを構築し、性能を評価します。\n"
      ]
    },
    {
      "cell_type": "code",
      "execution_count": null,
      "metadata": {},
      "outputs": [
        {
          "name": "stdout",
          "output_type": "stream",
          "text": [
            "🔧 モデル構築開始...\n",
            "[ModelBuilder] Starting train_by_zone. Input shape: (64531, 14)\n",
            "[ModelBuilder] Found zones: ['Area 1', 'Area 2', 'Area 3', 'Area 4', 'Break Room', 'Meeting Room']\n",
            "[ModelBuilder] Zone Area 1: 10654 records\n",
            "[ModelBuilder] Zone Area 1: Checking adjusted_power column...\n",
            "[ModelBuilder] Zone Area 1: adjusted_power non-null values: 8512\n",
            "[Model] Area 1 Temp: MAE=0.42 R2=0.989\n",
            "[Model] Area 1 Power: MAE=44819.2 R2=0.869\n",
            "[ModelBuilder] Zone Area 2: 10767 records\n",
            "[ModelBuilder] Zone Area 2: Checking adjusted_power column...\n",
            "[ModelBuilder] Zone Area 2: adjusted_power non-null values: 10765\n",
            "[Model] Area 2 Temp: MAE=0.42 R2=0.983\n",
            "[Model] Area 2 Power: MAE=49853.6 R2=0.786\n",
            "[ModelBuilder] Zone Area 3: 10654 records\n",
            "[ModelBuilder] Zone Area 3: Checking adjusted_power column...\n",
            "[ModelBuilder] Zone Area 3: adjusted_power non-null values: 8512\n",
            "[Model] Area 3 Temp: MAE=0.46 R2=0.984\n",
            "[Model] Area 3 Power: MAE=6663.7 R2=0.850\n",
            "[ModelBuilder] Zone Area 4: 10894 records\n",
            "[ModelBuilder] Zone Area 4: Checking adjusted_power column...\n",
            "[ModelBuilder] Zone Area 4: adjusted_power non-null values: 10765\n",
            "[Model] Area 4 Temp: MAE=0.38 R2=0.986\n",
            "[Model] Area 4 Power: MAE=17336.4 R2=0.691\n",
            "[ModelBuilder] Zone Break Room: 10781 records\n",
            "[ModelBuilder] Zone Break Room: Checking adjusted_power column...\n",
            "[ModelBuilder] Zone Break Room: adjusted_power non-null values: 10765\n",
            "[Model] Break Room Temp: MAE=0.76 R2=0.945\n",
            "[Model] Break Room Power: MAE=11687.8 R2=0.486\n",
            "[ModelBuilder] Zone Meeting Room: 10781 records\n",
            "[ModelBuilder] Zone Meeting Room: Checking adjusted_power column...\n",
            "[ModelBuilder] Zone Meeting Room: adjusted_power non-null values: 10765\n",
            "[Model] Meeting Room Temp: MAE=0.49 R2=0.992\n",
            "[Model] Meeting Room Power: MAE=11730.2 R2=0.479\n",
            "✅ モデル構築完了 (処理時間: 29.32秒)\n",
            "📊 構築されたモデル数: 6\n",
            "\n",
            "📍 Area 1:\n",
            "  - 特徴量数: 10\n",
            "  - 温度モデル: ✅\n",
            "  - 電力モデル: ✅\n",
            "  - マルチアウトプットモデル: ❌\n",
            "\n",
            "📍 Area 2:\n",
            "  - 特徴量数: 10\n",
            "  - 温度モデル: ✅\n",
            "  - 電力モデル: ✅\n",
            "  - マルチアウトプットモデル: ❌\n",
            "\n",
            "📍 Area 3:\n",
            "  - 特徴量数: 10\n",
            "  - 温度モデル: ✅\n",
            "  - 電力モデル: ✅\n",
            "  - マルチアウトプットモデル: ❌\n",
            "\n",
            "📍 Area 4:\n",
            "  - 特徴量数: 10\n",
            "  - 温度モデル: ✅\n",
            "  - 電力モデル: ✅\n",
            "  - マルチアウトプットモデル: ❌\n",
            "\n",
            "📍 Break Room:\n",
            "  - 特徴量数: 10\n",
            "  - 温度モデル: ✅\n",
            "  - 電力モデル: ✅\n",
            "  - マルチアウトプットモデル: ❌\n",
            "\n",
            "📍 Meeting Room:\n",
            "  - 特徴量数: 10\n",
            "  - 温度モデル: ✅\n",
            "  - 電力モデル: ✅\n",
            "  - マルチアウトプットモデル: ❌\n"
          ]
        }
      ],
      "source": [
        "# モデルビルダーの初期化\n",
        "if area_df is not None:\n",
        "    builder = ModelBuilder(store_name)\n",
        "    \n",
        "    print(\"🔧 モデル構築開始...\")\n",
        "    start_time = time.time()\n",
        "    \n",
        "    # モデル学習\n",
        "    models = builder.train_by_zone(area_df, master)\n",
        "    \n",
        "    end_time = time.time()\n",
        "    print(f\"✅ モデル構築完了 (処理時間: {end_time - start_time:.2f}秒)\")\n",
        "    print(f\"📊 構築されたモデル数: {len(models)}\")\n",
        "    \n",
        "    # 各ゾーンのモデル性能確認\n",
        "    for zone_name, model_pack in models.items():\n",
        "        print(f\"\\n📍 {zone_name}:\")\n",
        "        print(f\"  - 特徴量数: {len(model_pack.feature_cols)}\")\n",
        "        print(f\"  - 温度モデル: {'✅' if model_pack.temp_model else '❌'}\")\n",
        "        print(f\"  - 電力モデル: {'✅' if model_pack.power_model else '❌'}\")\n",
        "        print(f\"  - マルチアウトプットモデル: {'✅' if model_pack.multi_output_model else '❌'}\")\n",
        "else:\n",
        "    print(\"❌ データが読み込まれていません\")\n",
        "    models = None\n"
      ]
    },
    {
      "cell_type": "code",
      "execution_count": null,
      "metadata": {},
      "outputs": [
        {
          "name": "stdout",
          "output_type": "stream",
          "text": [
            "📊 モデル性能詳細評価:\n",
            "\n",
            "📍 Area 1:\n",
            "  🌡️ 温度モデル:\n",
            "    - MAE: 0.21°C\n",
            "    - R²: 0.996\n",
            "    - 予測範囲: 8.3°C ～ 40.7°C\n",
            "  ⚡ 電力モデル:\n",
            "    - MAE: 25797.9W\n",
            "    - R²: 0.939\n",
            "    - 予測範囲: 15429.2W ～ 1094821.7W\n",
            "\n",
            "📍 Area 2:\n",
            "  🌡️ 温度モデル:\n",
            "    - MAE: 0.20°C\n",
            "    - R²: 0.995\n",
            "    - 予測範囲: 12.4°C ～ 42.4°C\n",
            "  ⚡ 電力モデル:\n",
            "    - MAE: 27211.8W\n",
            "    - R²: 0.909\n",
            "    - 予測範囲: 2933.8W ～ 1073459.1W\n",
            "\n",
            "📍 Area 3:\n",
            "  🌡️ 温度モデル:\n",
            "    - MAE: 0.23°C\n",
            "    - R²: 0.995\n",
            "    - 予測範囲: 8.6°C ～ 36.3°C\n",
            "  ⚡ 電力モデル:\n",
            "    - MAE: 3837.1W\n",
            "    - R²: 0.934\n",
            "    - 予測範囲: 2059.2W ～ 155441.0W\n",
            "\n",
            "📍 Area 4:\n",
            "  🌡️ 温度モデル:\n",
            "    - MAE: 0.19°C\n",
            "    - R²: 0.995\n",
            "    - 予測範囲: 12.9°C ～ 36.3°C\n",
            "  ⚡ 電力モデル:\n",
            "    - MAE: 9340.6W\n",
            "    - R²: 0.887\n",
            "    - 予測範囲: 2191.1W ～ 421506.0W\n",
            "\n",
            "📍 Break Room:\n",
            "  🌡️ 温度モデル:\n",
            "    - MAE: 0.37°C\n",
            "    - R²: 0.985\n",
            "    - 予測範囲: 7.4°C ～ 37.8°C\n",
            "  ⚡ 電力モデル:\n",
            "    - MAE: 9230.4W\n",
            "    - R²: 0.657\n",
            "    - 予測範囲: 1250.3W ～ 145677.7W\n",
            "\n",
            "📍 Meeting Room:\n",
            "  🌡️ 温度モデル:\n",
            "    - MAE: 0.25°C\n",
            "    - R²: 0.998\n",
            "    - 予測範囲: 6.2°C ～ 44.4°C\n",
            "  ⚡ 電力モデル:\n",
            "    - MAE: 9188.9W\n",
            "    - R²: 0.656\n",
            "    - 予測範囲: 1234.2W ～ 143715.5W\n"
          ]
        }
      ],
      "source": [
        "# モデル性能の詳細評価\n",
        "if models is not None:\n",
        "    print(\"📊 モデル性能詳細評価:\")\n",
        "    \n",
        "    for zone_name, model_pack in models.items():\n",
        "        zone_data = area_df[area_df['zone'] == zone_name]\n",
        "        \n",
        "        print(f\"\\n📍 {zone_name}:\")\n",
        "        \n",
        "        # 温度モデルの評価\n",
        "        if model_pack.temp_model and 'Indoor Temp.' in zone_data.columns:\n",
        "            # テストデータでの評価\n",
        "            X_temp = zone_data[model_pack.feature_cols].replace([np.inf, -np.inf], np.nan).fillna(0)\n",
        "            y_temp = zone_data['Indoor Temp.'].astype(float)\n",
        "            mask = y_temp.notna()\n",
        "            \n",
        "            if mask.sum() > 0:\n",
        "                X_temp_clean = X_temp[mask]\n",
        "                y_temp_clean = y_temp[mask]\n",
        "                \n",
        "                # 予測\n",
        "                y_pred_temp = model_pack.temp_model.predict(X_temp_clean)\n",
        "                \n",
        "                # 評価指標\n",
        "                mae_temp = mean_absolute_error(y_temp_clean, y_pred_temp)\n",
        "                r2_temp = r2_score(y_temp_clean, y_pred_temp)\n",
        "                \n",
        "                print(f\"  🌡️ 温度モデル:\")\n",
        "                print(f\"    - MAE: {mae_temp:.2f}°C\")\n",
        "                print(f\"    - R²: {r2_temp:.3f}\")\n",
        "                print(f\"    - 予測範囲: {y_pred_temp.min():.1f}°C ～ {y_pred_temp.max():.1f}°C\")\n",
        "        \n",
        "        # 電力モデルの評価\n",
        "        if model_pack.power_model and 'adjusted_power' in zone_data.columns:\n",
        "            X_power = zone_data[model_pack.feature_cols].replace([np.inf, -np.inf], np.nan).fillna(0)\n",
        "            y_power = zone_data['adjusted_power'].astype(float)\n",
        "            mask = y_power.notna()\n",
        "            \n",
        "            if mask.sum() > 0:\n",
        "                X_power_clean = X_power[mask]\n",
        "                y_power_clean = y_power[mask]\n",
        "                \n",
        "                # 予測\n",
        "                y_pred_power = model_pack.power_model.predict(X_power_clean)\n",
        "                \n",
        "                # 評価指標\n",
        "                mae_power = mean_absolute_error(y_power_clean, y_pred_power)\n",
        "                r2_power = r2_score(y_power_clean, y_pred_power)\n",
        "                \n",
        "                print(f\"  ⚡ 電力モデル:\")\n",
        "                print(f\"    - MAE: {mae_power:.1f}W\")\n",
        "                print(f\"    - R²: {r2_power:.3f}\")\n",
        "                print(f\"    - 予測範囲: {y_pred_power.min():.1f}W ～ {y_pred_power.max():.1f}W\")\n"
      ]
    },
    {
      "cell_type": "markdown",
      "metadata": {},
      "source": [
        "## 4. 制御値探索\n",
        "\n",
        "最適制御値を探索し、探索過程を可視化します。\n"
      ]
    },
    {
      "cell_type": "code",
      "execution_count": null,
      "metadata": {},
      "outputs": [
        {
          "name": "stdout",
          "output_type": "stream",
          "text": [
            "🎯 最適化期間: 2025-10-02 ～ 2025-10-05\n",
            "⏰ 最適化対象時間数: 73時間\n",
            "📅 期間: 2025-10-02 00:00:00 ～ 2025-10-05 00:00:00\n"
          ]
        }
      ],
      "source": [
        "# 最適化期間の設定\n",
        "if models is not None:\n",
        "    # 最適化期間（今日から3日後まで）\n",
        "    today = pd.Timestamp.today().normalize()\n",
        "    start_date = today.strftime(\"%Y-%m-%d\")\n",
        "    end_date = (today + pd.Timedelta(days=3)).strftime(\"%Y-%m-%d\")\n",
        "    \n",
        "    print(f\"🎯 最適化期間: {start_date} ～ {end_date}\")\n",
        "    \n",
        "    # 日時範囲の生成\n",
        "    date_range = pd.date_range(\n",
        "        start=pd.to_datetime(start_date), \n",
        "        end=pd.to_datetime(end_date), \n",
        "        freq=\"1H\"\n",
        "    )\n",
        "    date_range = date_range[(date_range.hour >= 0) & (date_range.hour <= 23)]\n",
        "    \n",
        "    print(f\"⏰ 最適化対象時間数: {len(date_range)}時間\")\n",
        "    print(f\"📅 期間: {date_range[0]} ～ {date_range[-1]}\")\n",
        "else:\n",
        "    print(\"❌ モデルが構築されていません\")\n"
      ]
    },
    {
      "cell_type": "code",
      "execution_count": null,
      "metadata": {},
      "outputs": [
        {
          "name": "stdout",
          "output_type": "stream",
          "text": [
            "🌤️ 天気予報データ生成完了\n",
            "📊 形状: (73, 4)\n",
            "🌡️ 外気温範囲: 3.9°C ～ 16.6°C\n",
            "💧 湿度範囲: 40.0% ～ 80.0%\n",
            "☀️ 日射量範囲: 0.0W/m² ～ 590.1W/m²\n"
          ]
        }
      ],
      "source": [
        "# 天気予報データの準備（ダミーデータ）\n",
        "if models is not None:\n",
        "    # 簡単な天気予報データを生成\n",
        "    weather_data = []\n",
        "    for timestamp in date_range:\n",
        "        # 季節に応じた温度変化\n",
        "        base_temp = 20 + 10 * np.sin(2 * np.pi * timestamp.dayofyear / 365)\n",
        "        daily_variation = 5 * np.sin(2 * np.pi * timestamp.hour / 24)\n",
        "        temp = base_temp + daily_variation + np.random.normal(0, 1)\n",
        "        \n",
        "        # 湿度（40-80%の範囲）\n",
        "        humidity = 60 + 20 * np.sin(2 * np.pi * timestamp.hour / 24) + np.random.normal(0, 5)\n",
        "        humidity = np.clip(humidity, 40, 80)\n",
        "        \n",
        "        # 日射量（昼間のみ）\n",
        "        if 6 <= timestamp.hour <= 18:\n",
        "            solar = 500 * np.sin(np.pi * (timestamp.hour - 6) / 12) + np.random.normal(0, 50)\n",
        "            solar = max(0, solar)\n",
        "        else:\n",
        "            solar = 0\n",
        "        \n",
        "        weather_data.append({\n",
        "            'datetime': timestamp,\n",
        "            'Outdoor Temp.': temp,\n",
        "            'Outdoor Humidity': humidity,\n",
        "            'Solar Radiation': solar\n",
        "        })\n",
        "    \n",
        "    weather_df = pd.DataFrame(weather_data)\n",
        "    \n",
        "    print(f\"🌤️ 天気予報データ生成完了\")\n",
        "    print(f\"📊 形状: {weather_df.shape}\")\n",
        "    print(f\"🌡️ 外気温範囲: {weather_df['Outdoor Temp.'].min():.1f}°C ～ {weather_df['Outdoor Temp.'].max():.1f}°C\")\n",
        "    print(f\"💧 湿度範囲: {weather_df['Outdoor Humidity'].min():.1f}% ～ {weather_df['Outdoor Humidity'].max():.1f}%\")\n",
        "    print(f\"☀️ 日射量範囲: {weather_df['Solar Radiation'].min():.1f}W/m² ～ {weather_df['Solar Radiation'].max():.1f}W/m²\")\n"
      ]
    },
    {
      "cell_type": "code",
      "execution_count": null,
      "metadata": {},
      "outputs": [
        {
          "name": "stdout",
          "output_type": "stream",
          "text": [
            "🔍 期間最適化開始...\n",
            "[PeriodOptimizer] Starting period optimization for 73 hours\n",
            "[PeriodOptimizer] Date range: 2025-10-02 00:00:00 to 2025-10-05 00:00:00\n",
            "[PeriodOptimizer] Preference: energy\n",
            "[PeriodOptimizer] Max workers: 6\n",
            "[PeriodOptimizer] Weights - Comfort: 0.2, Power: 0.8\n",
            "[PeriodOptimizer] Available zones: ['Area 1', 'Area 2', 'Area 3', 'Area 4', 'Break Room', 'Meeting Room']\n",
            "[PeriodOptimizer] Starting period optimization for zone: Area 1\n",
            "[PeriodOptimizer] Zone Area 1: Beam search with width=5, candidates=8×3×3\n",
            "[PeriodOptimizer] Starting period optimization for zone: Area 2\n",
            "[PeriodOptimizer] Zone Area 2: Beam search with width=5, candidates=7×3×3\n",
            "[PeriodOptimizer] Starting period optimization for zone: Area 3\n",
            "[PeriodOptimizer] Zone Area 3: Beam search with width=5, candidates=8×3×3\n",
            "[PeriodOptimizer] Starting period optimization for zone: Area 4\n",
            "[PeriodOptimizer] Zone Area 4: Beam search with width=5, candidates=4×3×3\n",
            "[PeriodOptimizer] Starting period optimization for zone: Break Room\n",
            "[PeriodOptimizer] Zone Break Room: Beam search with width=5, candidates=8×3×2\n",
            "[PeriodOptimizer] Starting period optimization for zone: Meeting Room\n",
            "[PeriodOptimizer] Zone Meeting Room: Beam search with width=5, candidates=7×3×3\n",
            "[PeriodOptimizer] Zone Area 4 completed - Best score: 2432637.0\n",
            "[PeriodOptimizer] Completed 1/6 zones: Area 4\n",
            "[PeriodOptimizer] Zone Break Room completed - Best score: 387860.7\n",
            "[PeriodOptimizer] Completed 2/6 zones: Break Room\n",
            "[PeriodOptimizer] Zone Area 2 completed - Best score: 43414103.2\n",
            "[PeriodOptimizer] Completed 3/6 zones: Area 2\n",
            "[PeriodOptimizer] Zone Meeting Room completed - Best score: 1039285.8\n",
            "[PeriodOptimizer] Completed 4/6 zones: Meeting Room\n",
            "[PeriodOptimizer] Zone Area 3 completed - Best score: 369780.4\n",
            "[PeriodOptimizer] Completed 5/6 zones: Area 3\n",
            "[PeriodOptimizer] Zone Area 1 completed - Best score: 24329192.8\n",
            "[PeriodOptimizer] Completed 6/6 zones: Area 1\n",
            "[PeriodOptimizer] Period optimization completed in 253.12 seconds\n",
            "[PeriodOptimizer] Optimized 6 zones\n",
            "✅ 期間最適化完了 (処理時間: 253.12秒)\n",
            "📊 最適化されたゾーン数: 6\n",
            "\n",
            "📍 Area 4:\n",
            "  - スケジュール数: 73\n",
            "  - 設定温度: 23°C ～ 24°C (平均: 23.5°C)\n",
            "  - 運転モード: 0 ～ 0 (最頻値: 0)\n",
            "  - ファン速度: 1 ～ 3 (最頻値: 1)\n",
            "  - 予測室温: 25.1°C ～ 28.9°C (平均: 26.0°C)\n",
            "  - 予測電力: 444.5W ～ 97764.9W (合計: 3039025.2W)\n",
            "\n",
            "📍 Break Room:\n",
            "  - スケジュール数: 73\n",
            "  - 設定温度: 25°C ～ 25°C (平均: 25.0°C)\n",
            "  - 運転モード: 0 ～ 0 (最頻値: 0)\n",
            "  - ファン速度: 2 ～ 2 (最頻値: 2)\n",
            "  - 予測室温: 24.0°C ～ 26.9°C (平均: 25.3°C)\n",
            "  - 予測電力: 378.9W ～ 18330.5W (合計: 483785.9W)\n",
            "\n",
            "📍 Area 2:\n",
            "  - スケジュール数: 73\n",
            "  - 設定温度: 22°C ～ 26°C (平均: 25.2°C)\n",
            "  - 運転モード: 0 ～ 2 (最頻値: 0)\n",
            "  - ファン速度: 1 ～ 2 (最頻値: 1)\n",
            "  - 予測室温: 23.2°C ～ 28.7°C (平均: 25.7°C)\n",
            "  - 予測電力: 2452.5W ～ 1857466.8W (合計: 54266229.5W)\n",
            "\n",
            "📍 Meeting Room:\n",
            "  - スケジュール数: 73\n",
            "  - 設定温度: 25°C ～ 25°C (平均: 25.0°C)\n",
            "  - 運転モード: 0 ～ 0 (最頻値: 0)\n",
            "  - ファン速度: 1 ～ 1 (最頻値: 1)\n",
            "  - 予測室温: 20.5°C ～ 31.5°C (平均: 25.4°C)\n",
            "  - 予測電力: 213.7W ～ 32093.3W (合計: 1297705.6W)\n",
            "\n",
            "📍 Area 3:\n",
            "  - スケジュール数: 73\n",
            "  - 設定温度: 20°C ～ 27°C (平均: 25.7°C)\n",
            "  - 運転モード: 0 ～ 2 (最頻値: 2)\n",
            "  - ファン速度: 1 ～ 2 (最頻値: 1)\n",
            "  - 予測室温: 21.4°C ～ 25.7°C (平均: 22.8°C)\n",
            "  - 予測電力: 385.6W ～ 21974.2W (合計: 462196.0W)\n",
            "\n",
            "📍 Area 1:\n",
            "  - スケジュール数: 73\n",
            "  - 設定温度: 19°C ～ 26°C (平均: 24.7°C)\n",
            "  - 運転モード: 0 ～ 2 (最頻値: 2)\n",
            "  - ファン速度: 1 ～ 3 (最頻値: 1)\n",
            "  - 予測室温: 23.0°C ～ 32.0°C (平均: 26.7°C)\n",
            "  - 予測電力: 2688.2W ～ 1383820.2W (合計: 30409273.0W)\n"
          ]
        }
      ],
      "source": [
        "# 期間最適化の実行\n",
        "if models is not None and weather_df is not None:\n",
        "    print(\"🔍 期間最適化開始...\")\n",
        "    \n",
        "    # 期間最適化器の初期化\n",
        "    optimizer = PeriodOptimizer(master, models, max_workers=6)\n",
        "    \n",
        "    start_time = time.time()\n",
        "    \n",
        "    # 最適化実行\n",
        "    schedule = optimizer.optimize_period(date_range, weather_df, preference=\"energy\")\n",
        "    \n",
        "    end_time = time.time()\n",
        "    \n",
        "    print(f\"✅ 期間最適化完了 (処理時間: {end_time - start_time:.2f}秒)\")\n",
        "    print(f\"📊 最適化されたゾーン数: {len(schedule)}\")\n",
        "    \n",
        "    # 各ゾーンの最適化結果確認\n",
        "    for zone_name, zone_schedule in schedule.items():\n",
        "        print(f\"\\n📍 {zone_name}:\")\n",
        "        print(f\"  - スケジュール数: {len(zone_schedule)}\")\n",
        "        \n",
        "        # 制御値の統計\n",
        "        set_temps = [s['set_temp'] for s in zone_schedule.values()]\n",
        "        modes = [s['mode'] for s in zone_schedule.values()]\n",
        "        fans = [s['fan'] for s in zone_schedule.values()]\n",
        "        pred_temps = [s['pred_temp'] for s in zone_schedule.values()]\n",
        "        pred_powers = [s['pred_power'] for s in zone_schedule.values()]\n",
        "        \n",
        "        print(f\"  - 設定温度: {min(set_temps)}°C ～ {max(set_temps)}°C (平均: {np.mean(set_temps):.1f}°C)\")\n",
        "        print(f\"  - 運転モード: {min(modes)} ～ {max(modes)} (最頻値: {max(set(modes), key=modes.count)})\")\n",
        "        print(f\"  - ファン速度: {min(fans)} ～ {max(fans)} (最頻値: {max(set(fans), key=fans.count)})\")\n",
        "        print(f\"  - 予測室温: {min(pred_temps):.1f}°C ～ {max(pred_temps):.1f}°C (平均: {np.mean(pred_temps):.1f}°C)\")\n",
        "        print(f\"  - 予測電力: {min(pred_powers):.1f}W ～ {max(pred_powers):.1f}W (合計: {np.sum(pred_powers):.1f}W)\")\n",
        "else:\n",
        "    print(\"❌ 最適化に必要なデータが不足しています\")\n",
        "    schedule = None\n"
      ]
    },
    {
      "cell_type": "markdown",
      "metadata": {},
      "source": [
        "## 5. 結果出力・可視化\n",
        "\n",
        "最適化結果を可視化し、分析します。\n"
      ]
    },
    {
      "cell_type": "code",
      "execution_count": null,
      "metadata": {},
      "outputs": [
        {
          "data": {
            "application/vnd.plotly.v1+json": {
              "config": {
                "plotlyServerURL": "https://plot.ly"
              },
              "data": [
                {
                  "line": {
                    "color": "red",
                    "width": 2
                  },
                  "name": "設定温度",
                  "type": "scatter",
                  "x": [
                    "2025-10-02T00:00:00",
                    "2025-10-02T01:00:00",
                    "2025-10-02T02:00:00",
                    "2025-10-02T03:00:00",
                    "2025-10-02T04:00:00",
                    "2025-10-02T05:00:00",
                    "2025-10-02T06:00:00",
                    "2025-10-02T07:00:00",
                    "2025-10-02T08:00:00",
                    "2025-10-02T09:00:00",
                    "2025-10-02T10:00:00",
                    "2025-10-02T11:00:00",
                    "2025-10-02T12:00:00",
                    "2025-10-02T13:00:00",
                    "2025-10-02T14:00:00",
                    "2025-10-02T15:00:00",
                    "2025-10-02T16:00:00",
                    "2025-10-02T17:00:00",
                    "2025-10-02T18:00:00",
                    "2025-10-02T19:00:00",
                    "2025-10-02T20:00:00",
                    "2025-10-02T21:00:00",
                    "2025-10-02T22:00:00",
                    "2025-10-02T23:00:00",
                    "2025-10-03T00:00:00",
                    "2025-10-03T01:00:00",
                    "2025-10-03T02:00:00",
                    "2025-10-03T03:00:00",
                    "2025-10-03T04:00:00",
                    "2025-10-03T05:00:00",
                    "2025-10-03T06:00:00",
                    "2025-10-03T07:00:00",
                    "2025-10-03T08:00:00",
                    "2025-10-03T09:00:00",
                    "2025-10-03T10:00:00",
                    "2025-10-03T11:00:00",
                    "2025-10-03T12:00:00",
                    "2025-10-03T13:00:00",
                    "2025-10-03T14:00:00",
                    "2025-10-03T15:00:00",
                    "2025-10-03T16:00:00",
                    "2025-10-03T17:00:00",
                    "2025-10-03T18:00:00",
                    "2025-10-03T19:00:00",
                    "2025-10-03T20:00:00",
                    "2025-10-03T21:00:00",
                    "2025-10-03T22:00:00",
                    "2025-10-03T23:00:00",
                    "2025-10-04T00:00:00",
                    "2025-10-04T01:00:00",
                    "2025-10-04T02:00:00",
                    "2025-10-04T03:00:00",
                    "2025-10-04T04:00:00",
                    "2025-10-04T05:00:00",
                    "2025-10-04T06:00:00",
                    "2025-10-04T07:00:00",
                    "2025-10-04T08:00:00",
                    "2025-10-04T09:00:00",
                    "2025-10-04T10:00:00",
                    "2025-10-04T11:00:00",
                    "2025-10-04T12:00:00",
                    "2025-10-04T13:00:00",
                    "2025-10-04T14:00:00",
                    "2025-10-04T15:00:00",
                    "2025-10-04T16:00:00",
                    "2025-10-04T17:00:00",
                    "2025-10-04T18:00:00",
                    "2025-10-04T19:00:00",
                    "2025-10-04T20:00:00",
                    "2025-10-04T21:00:00",
                    "2025-10-04T22:00:00",
                    "2025-10-04T23:00:00",
                    "2025-10-05T00:00:00"
                  ],
                  "xaxis": "x",
                  "y": [
                    24,
                    24,
                    24,
                    24,
                    24,
                    24,
                    24,
                    24,
                    24,
                    24,
                    24,
                    24,
                    24,
                    24,
                    24,
                    24,
                    24,
                    24,
                    24,
                    24,
                    24,
                    24,
                    23,
                    23,
                    24,
                    24,
                    24,
                    24,
                    24,
                    23,
                    23,
                    23,
                    23,
                    23,
                    23,
                    23,
                    23,
                    23,
                    23,
                    23,
                    23,
                    23,
                    23,
                    23,
                    23,
                    24,
                    23,
                    23,
                    24,
                    24,
                    24,
                    24,
                    24,
                    24,
                    23,
                    23,
                    23,
                    23,
                    23,
                    23,
                    23,
                    23,
                    23,
                    23,
                    23,
                    23,
                    23,
                    23,
                    23,
                    24,
                    23,
                    23,
                    24
                  ],
                  "yaxis": "y"
                },
                {
                  "line": {
                    "color": "blue",
                    "width": 2
                  },
                  "name": "予測室温",
                  "type": "scatter",
                  "x": [
                    "2025-10-02T00:00:00",
                    "2025-10-02T01:00:00",
                    "2025-10-02T02:00:00",
                    "2025-10-02T03:00:00",
                    "2025-10-02T04:00:00",
                    "2025-10-02T05:00:00",
                    "2025-10-02T06:00:00",
                    "2025-10-02T07:00:00",
                    "2025-10-02T08:00:00",
                    "2025-10-02T09:00:00",
                    "2025-10-02T10:00:00",
                    "2025-10-02T11:00:00",
                    "2025-10-02T12:00:00",
                    "2025-10-02T13:00:00",
                    "2025-10-02T14:00:00",
                    "2025-10-02T15:00:00",
                    "2025-10-02T16:00:00",
                    "2025-10-02T17:00:00",
                    "2025-10-02T18:00:00",
                    "2025-10-02T19:00:00",
                    "2025-10-02T20:00:00",
                    "2025-10-02T21:00:00",
                    "2025-10-02T22:00:00",
                    "2025-10-02T23:00:00",
                    "2025-10-03T00:00:00",
                    "2025-10-03T01:00:00",
                    "2025-10-03T02:00:00",
                    "2025-10-03T03:00:00",
                    "2025-10-03T04:00:00",
                    "2025-10-03T05:00:00",
                    "2025-10-03T06:00:00",
                    "2025-10-03T07:00:00",
                    "2025-10-03T08:00:00",
                    "2025-10-03T09:00:00",
                    "2025-10-03T10:00:00",
                    "2025-10-03T11:00:00",
                    "2025-10-03T12:00:00",
                    "2025-10-03T13:00:00",
                    "2025-10-03T14:00:00",
                    "2025-10-03T15:00:00",
                    "2025-10-03T16:00:00",
                    "2025-10-03T17:00:00",
                    "2025-10-03T18:00:00",
                    "2025-10-03T19:00:00",
                    "2025-10-03T20:00:00",
                    "2025-10-03T21:00:00",
                    "2025-10-03T22:00:00",
                    "2025-10-03T23:00:00",
                    "2025-10-04T00:00:00",
                    "2025-10-04T01:00:00",
                    "2025-10-04T02:00:00",
                    "2025-10-04T03:00:00",
                    "2025-10-04T04:00:00",
                    "2025-10-04T05:00:00",
                    "2025-10-04T06:00:00",
                    "2025-10-04T07:00:00",
                    "2025-10-04T08:00:00",
                    "2025-10-04T09:00:00",
                    "2025-10-04T10:00:00",
                    "2025-10-04T11:00:00",
                    "2025-10-04T12:00:00",
                    "2025-10-04T13:00:00",
                    "2025-10-04T14:00:00",
                    "2025-10-04T15:00:00",
                    "2025-10-04T16:00:00",
                    "2025-10-04T17:00:00",
                    "2025-10-04T18:00:00",
                    "2025-10-04T19:00:00",
                    "2025-10-04T20:00:00",
                    "2025-10-04T21:00:00",
                    "2025-10-04T22:00:00",
                    "2025-10-04T23:00:00",
                    "2025-10-05T00:00:00"
                  ],
                  "xaxis": "x",
                  "y": [
                    25.122196969696944,
                    25.691818181818164,
                    26.258055555555558,
                    26.323444444444426,
                    26.61486111111112,
                    26.837522727272717,
                    26.252874579124608,
                    26.155088383838383,
                    26.011472222222206,
                    25.74308333333335,
                    25.491148989899,
                    25.328472222222228,
                    25.304722222222217,
                    25.256969696969737,
                    25.26919191919196,
                    25.250303030303066,
                    25.279886363636408,
                    25.263080808080854,
                    25.28085858585863,
                    25.269469696969747,
                    25.28849747474753,
                    25.286666666666697,
                    25.330361111111127,
                    25.983994708994747,
                    26.98231481481485,
                    27.275239898989934,
                    27.44911616161616,
                    28.065762626262636,
                    28.40756944444447,
                    28.867500000000046,
                    26.928603896103905,
                    26.666047979797995,
                    26.262502185314656,
                    26.176333333333332,
                    26.03474999999999,
                    25.712638888888904,
                    25.48208333333331,
                    25.315694444444436,
                    25.278636363636405,
                    25.26641414141418,
                    25.270303030303072,
                    25.27238636363641,
                    25.275441919191966,
                    25.278914141414194,
                    25.292025252525306,
                    25.1663055555556,
                    25.280000000000015,
                    26.02561111111116,
                    26.65020833333334,
                    27.040938341750856,
                    27.35194654882158,
                    27.661351010101015,
                    27.827563131313138,
                    27.70013888888885,
                    26.723017676767697,
                    26.187057109557113,
                    25.985194444444442,
                    25.59805555555554,
                    25.2626388888889,
                    25.31821969696974,
                    25.31502525252529,
                    25.3148863636364,
                    25.317525252525293,
                    25.316414141414178,
                    25.31530303030307,
                    25.31544191919196,
                    25.320164141414185,
                    25.268888888888863,
                    25.323858585858634,
                    25.257638888888874,
                    25.147444444444453,
                    25.72862037037042,
                    26.508888888888897
                  ],
                  "yaxis": "y"
                },
                {
                  "line": {
                    "color": "green",
                    "width": 2
                  },
                  "name": "予測電力",
                  "type": "scatter",
                  "x": [
                    "2025-10-02T00:00:00",
                    "2025-10-02T01:00:00",
                    "2025-10-02T02:00:00",
                    "2025-10-02T03:00:00",
                    "2025-10-02T04:00:00",
                    "2025-10-02T05:00:00",
                    "2025-10-02T06:00:00",
                    "2025-10-02T07:00:00",
                    "2025-10-02T08:00:00",
                    "2025-10-02T09:00:00",
                    "2025-10-02T10:00:00",
                    "2025-10-02T11:00:00",
                    "2025-10-02T12:00:00",
                    "2025-10-02T13:00:00",
                    "2025-10-02T14:00:00",
                    "2025-10-02T15:00:00",
                    "2025-10-02T16:00:00",
                    "2025-10-02T17:00:00",
                    "2025-10-02T18:00:00",
                    "2025-10-02T19:00:00",
                    "2025-10-02T20:00:00",
                    "2025-10-02T21:00:00",
                    "2025-10-02T22:00:00",
                    "2025-10-02T23:00:00",
                    "2025-10-03T00:00:00",
                    "2025-10-03T01:00:00",
                    "2025-10-03T02:00:00",
                    "2025-10-03T03:00:00",
                    "2025-10-03T04:00:00",
                    "2025-10-03T05:00:00",
                    "2025-10-03T06:00:00",
                    "2025-10-03T07:00:00",
                    "2025-10-03T08:00:00",
                    "2025-10-03T09:00:00",
                    "2025-10-03T10:00:00",
                    "2025-10-03T11:00:00",
                    "2025-10-03T12:00:00",
                    "2025-10-03T13:00:00",
                    "2025-10-03T14:00:00",
                    "2025-10-03T15:00:00",
                    "2025-10-03T16:00:00",
                    "2025-10-03T17:00:00",
                    "2025-10-03T18:00:00",
                    "2025-10-03T19:00:00",
                    "2025-10-03T20:00:00",
                    "2025-10-03T21:00:00",
                    "2025-10-03T22:00:00",
                    "2025-10-03T23:00:00",
                    "2025-10-04T00:00:00",
                    "2025-10-04T01:00:00",
                    "2025-10-04T02:00:00",
                    "2025-10-04T03:00:00",
                    "2025-10-04T04:00:00",
                    "2025-10-04T05:00:00",
                    "2025-10-04T06:00:00",
                    "2025-10-04T07:00:00",
                    "2025-10-04T08:00:00",
                    "2025-10-04T09:00:00",
                    "2025-10-04T10:00:00",
                    "2025-10-04T11:00:00",
                    "2025-10-04T12:00:00",
                    "2025-10-04T13:00:00",
                    "2025-10-04T14:00:00",
                    "2025-10-04T15:00:00",
                    "2025-10-04T16:00:00",
                    "2025-10-04T17:00:00",
                    "2025-10-04T18:00:00",
                    "2025-10-04T19:00:00",
                    "2025-10-04T20:00:00",
                    "2025-10-04T21:00:00",
                    "2025-10-04T22:00:00",
                    "2025-10-04T23:00:00",
                    "2025-10-05T00:00:00"
                  ],
                  "xaxis": "x2",
                  "y": [
                    505.615,
                    522.8850000000001,
                    490.1275,
                    522.835,
                    461.18000000000006,
                    659.7550000000001,
                    54503.399999999994,
                    69852,
                    64304.25,
                    66041.1,
                    59204.399999999994,
                    60846.299999999996,
                    62346.149999999994,
                    62346.149999999994,
                    62346.149999999994,
                    59579.100000000006,
                    53672.700000000004,
                    52202.100000000006,
                    52202.25,
                    52203,
                    52202.100000000006,
                    542.075,
                    561.075,
                    499.27500000000003,
                    503.80500000000006,
                    735.455,
                    885.8200000000002,
                    791.6100000000001,
                    623.1700000000001,
                    813.5050000000001,
                    54615.450000000004,
                    94204.79999999999,
                    79788.15,
                    77632.5,
                    76043.1,
                    78063.45000000001,
                    69408.6,
                    70512.45000000001,
                    70963.95000000001,
                    68566.5,
                    64427.700000000004,
                    64432.5,
                    64443.899999999994,
                    64444.649999999994,
                    64443.75,
                    556.775,
                    568.02,
                    573.505,
                    482.73,
                    472.8383333333334,
                    653.582,
                    886.23,
                    617.14,
                    769.3850000000001,
                    97764.9,
                    83130.15,
                    75946.95000000001,
                    75901.95000000001,
                    70223.25,
                    70755.9,
                    70755.9,
                    70755.9,
                    70755.9,
                    68359.04999999999,
                    64220.25,
                    64461,
                    64472.399999999994,
                    64473.149999999994,
                    64377.75,
                    548.47,
                    566.23,
                    570.65,
                    444.5033333333334
                  ],
                  "yaxis": "y2"
                },
                {
                  "marker": {
                    "color": "orange",
                    "size": 6
                  },
                  "mode": "markers",
                  "name": "運転モード",
                  "type": "scatter",
                  "x": [
                    "2025-10-02T00:00:00",
                    "2025-10-02T01:00:00",
                    "2025-10-02T02:00:00",
                    "2025-10-02T03:00:00",
                    "2025-10-02T04:00:00",
                    "2025-10-02T05:00:00",
                    "2025-10-02T06:00:00",
                    "2025-10-02T07:00:00",
                    "2025-10-02T08:00:00",
                    "2025-10-02T09:00:00",
                    "2025-10-02T10:00:00",
                    "2025-10-02T11:00:00",
                    "2025-10-02T12:00:00",
                    "2025-10-02T13:00:00",
                    "2025-10-02T14:00:00",
                    "2025-10-02T15:00:00",
                    "2025-10-02T16:00:00",
                    "2025-10-02T17:00:00",
                    "2025-10-02T18:00:00",
                    "2025-10-02T19:00:00",
                    "2025-10-02T20:00:00",
                    "2025-10-02T21:00:00",
                    "2025-10-02T22:00:00",
                    "2025-10-02T23:00:00",
                    "2025-10-03T00:00:00",
                    "2025-10-03T01:00:00",
                    "2025-10-03T02:00:00",
                    "2025-10-03T03:00:00",
                    "2025-10-03T04:00:00",
                    "2025-10-03T05:00:00",
                    "2025-10-03T06:00:00",
                    "2025-10-03T07:00:00",
                    "2025-10-03T08:00:00",
                    "2025-10-03T09:00:00",
                    "2025-10-03T10:00:00",
                    "2025-10-03T11:00:00",
                    "2025-10-03T12:00:00",
                    "2025-10-03T13:00:00",
                    "2025-10-03T14:00:00",
                    "2025-10-03T15:00:00",
                    "2025-10-03T16:00:00",
                    "2025-10-03T17:00:00",
                    "2025-10-03T18:00:00",
                    "2025-10-03T19:00:00",
                    "2025-10-03T20:00:00",
                    "2025-10-03T21:00:00",
                    "2025-10-03T22:00:00",
                    "2025-10-03T23:00:00",
                    "2025-10-04T00:00:00",
                    "2025-10-04T01:00:00",
                    "2025-10-04T02:00:00",
                    "2025-10-04T03:00:00",
                    "2025-10-04T04:00:00",
                    "2025-10-04T05:00:00",
                    "2025-10-04T06:00:00",
                    "2025-10-04T07:00:00",
                    "2025-10-04T08:00:00",
                    "2025-10-04T09:00:00",
                    "2025-10-04T10:00:00",
                    "2025-10-04T11:00:00",
                    "2025-10-04T12:00:00",
                    "2025-10-04T13:00:00",
                    "2025-10-04T14:00:00",
                    "2025-10-04T15:00:00",
                    "2025-10-04T16:00:00",
                    "2025-10-04T17:00:00",
                    "2025-10-04T18:00:00",
                    "2025-10-04T19:00:00",
                    "2025-10-04T20:00:00",
                    "2025-10-04T21:00:00",
                    "2025-10-04T22:00:00",
                    "2025-10-04T23:00:00",
                    "2025-10-05T00:00:00"
                  ],
                  "xaxis": "x3",
                  "y": [
                    0,
                    0,
                    0,
                    0,
                    0,
                    0,
                    0,
                    0,
                    0,
                    0,
                    0,
                    0,
                    0,
                    0,
                    0,
                    0,
                    0,
                    0,
                    0,
                    0,
                    0,
                    0,
                    0,
                    0,
                    0,
                    0,
                    0,
                    0,
                    0,
                    0,
                    0,
                    0,
                    0,
                    0,
                    0,
                    0,
                    0,
                    0,
                    0,
                    0,
                    0,
                    0,
                    0,
                    0,
                    0,
                    0,
                    0,
                    0,
                    0,
                    0,
                    0,
                    0,
                    0,
                    0,
                    0,
                    0,
                    0,
                    0,
                    0,
                    0,
                    0,
                    0,
                    0,
                    0,
                    0,
                    0,
                    0,
                    0,
                    0,
                    0,
                    0,
                    0,
                    0
                  ],
                  "yaxis": "y3"
                },
                {
                  "marker": {
                    "color": "purple",
                    "size": 6
                  },
                  "mode": "markers",
                  "name": "ファン速度",
                  "type": "scatter",
                  "x": [
                    "2025-10-02T00:00:00",
                    "2025-10-02T01:00:00",
                    "2025-10-02T02:00:00",
                    "2025-10-02T03:00:00",
                    "2025-10-02T04:00:00",
                    "2025-10-02T05:00:00",
                    "2025-10-02T06:00:00",
                    "2025-10-02T07:00:00",
                    "2025-10-02T08:00:00",
                    "2025-10-02T09:00:00",
                    "2025-10-02T10:00:00",
                    "2025-10-02T11:00:00",
                    "2025-10-02T12:00:00",
                    "2025-10-02T13:00:00",
                    "2025-10-02T14:00:00",
                    "2025-10-02T15:00:00",
                    "2025-10-02T16:00:00",
                    "2025-10-02T17:00:00",
                    "2025-10-02T18:00:00",
                    "2025-10-02T19:00:00",
                    "2025-10-02T20:00:00",
                    "2025-10-02T21:00:00",
                    "2025-10-02T22:00:00",
                    "2025-10-02T23:00:00",
                    "2025-10-03T00:00:00",
                    "2025-10-03T01:00:00",
                    "2025-10-03T02:00:00",
                    "2025-10-03T03:00:00",
                    "2025-10-03T04:00:00",
                    "2025-10-03T05:00:00",
                    "2025-10-03T06:00:00",
                    "2025-10-03T07:00:00",
                    "2025-10-03T08:00:00",
                    "2025-10-03T09:00:00",
                    "2025-10-03T10:00:00",
                    "2025-10-03T11:00:00",
                    "2025-10-03T12:00:00",
                    "2025-10-03T13:00:00",
                    "2025-10-03T14:00:00",
                    "2025-10-03T15:00:00",
                    "2025-10-03T16:00:00",
                    "2025-10-03T17:00:00",
                    "2025-10-03T18:00:00",
                    "2025-10-03T19:00:00",
                    "2025-10-03T20:00:00",
                    "2025-10-03T21:00:00",
                    "2025-10-03T22:00:00",
                    "2025-10-03T23:00:00",
                    "2025-10-04T00:00:00",
                    "2025-10-04T01:00:00",
                    "2025-10-04T02:00:00",
                    "2025-10-04T03:00:00",
                    "2025-10-04T04:00:00",
                    "2025-10-04T05:00:00",
                    "2025-10-04T06:00:00",
                    "2025-10-04T07:00:00",
                    "2025-10-04T08:00:00",
                    "2025-10-04T09:00:00",
                    "2025-10-04T10:00:00",
                    "2025-10-04T11:00:00",
                    "2025-10-04T12:00:00",
                    "2025-10-04T13:00:00",
                    "2025-10-04T14:00:00",
                    "2025-10-04T15:00:00",
                    "2025-10-04T16:00:00",
                    "2025-10-04T17:00:00",
                    "2025-10-04T18:00:00",
                    "2025-10-04T19:00:00",
                    "2025-10-04T20:00:00",
                    "2025-10-04T21:00:00",
                    "2025-10-04T22:00:00",
                    "2025-10-04T23:00:00",
                    "2025-10-05T00:00:00"
                  ],
                  "xaxis": "x4",
                  "y": [
                    1,
                    1,
                    1,
                    1,
                    1,
                    1,
                    1,
                    1,
                    1,
                    1,
                    1,
                    1,
                    1,
                    1,
                    1,
                    1,
                    1,
                    1,
                    1,
                    1,
                    1,
                    1,
                    1,
                    1,
                    1,
                    1,
                    1,
                    1,
                    1,
                    1,
                    1,
                    1,
                    1,
                    1,
                    1,
                    1,
                    1,
                    1,
                    1,
                    1,
                    1,
                    1,
                    1,
                    1,
                    1,
                    1,
                    1,
                    1,
                    3,
                    1,
                    1,
                    1,
                    1,
                    1,
                    3,
                    1,
                    1,
                    1,
                    1,
                    1,
                    1,
                    1,
                    1,
                    1,
                    1,
                    1,
                    1,
                    1,
                    1,
                    1,
                    1,
                    1,
                    1
                  ],
                  "yaxis": "y4"
                }
              ],
              "layout": {
                "annotations": [
                  {
                    "font": {
                      "size": 16
                    },
                    "showarrow": false,
                    "text": "Area 4 - 設定温度・予測室温",
                    "x": 0.5,
                    "xanchor": "center",
                    "xref": "paper",
                    "y": 1,
                    "yanchor": "bottom",
                    "yref": "paper"
                  },
                  {
                    "font": {
                      "size": 16
                    },
                    "showarrow": false,
                    "text": "Area 4 - 予測電力",
                    "x": 0.5,
                    "xanchor": "center",
                    "xref": "paper",
                    "y": 0.73,
                    "yanchor": "bottom",
                    "yref": "paper"
                  },
                  {
                    "font": {
                      "size": 16
                    },
                    "showarrow": false,
                    "text": "Area 4 - 運転モード",
                    "x": 0.5,
                    "xanchor": "center",
                    "xref": "paper",
                    "y": 0.46,
                    "yanchor": "bottom",
                    "yref": "paper"
                  },
                  {
                    "font": {
                      "size": 16
                    },
                    "showarrow": false,
                    "text": "Area 4 - ファン速度",
                    "x": 0.5,
                    "xanchor": "center",
                    "xref": "paper",
                    "y": 0.19,
                    "yanchor": "bottom",
                    "yref": "paper"
                  }
                ],
                "height": 800,
                "showlegend": true,
                "template": {
                  "data": {
                    "bar": [
                      {
                        "error_x": {
                          "color": "#2a3f5f"
                        },
                        "error_y": {
                          "color": "#2a3f5f"
                        },
                        "marker": {
                          "line": {
                            "color": "#E5ECF6",
                            "width": 0.5
                          },
                          "pattern": {
                            "fillmode": "overlay",
                            "size": 10,
                            "solidity": 0.2
                          }
                        },
                        "type": "bar"
                      }
                    ],
                    "barpolar": [
                      {
                        "marker": {
                          "line": {
                            "color": "#E5ECF6",
                            "width": 0.5
                          },
                          "pattern": {
                            "fillmode": "overlay",
                            "size": 10,
                            "solidity": 0.2
                          }
                        },
                        "type": "barpolar"
                      }
                    ],
                    "carpet": [
                      {
                        "aaxis": {
                          "endlinecolor": "#2a3f5f",
                          "gridcolor": "white",
                          "linecolor": "white",
                          "minorgridcolor": "white",
                          "startlinecolor": "#2a3f5f"
                        },
                        "baxis": {
                          "endlinecolor": "#2a3f5f",
                          "gridcolor": "white",
                          "linecolor": "white",
                          "minorgridcolor": "white",
                          "startlinecolor": "#2a3f5f"
                        },
                        "type": "carpet"
                      }
                    ],
                    "choropleth": [
                      {
                        "colorbar": {
                          "outlinewidth": 0,
                          "ticks": ""
                        },
                        "type": "choropleth"
                      }
                    ],
                    "contour": [
                      {
                        "colorbar": {
                          "outlinewidth": 0,
                          "ticks": ""
                        },
                        "colorscale": [
                          [
                            0,
                            "#0d0887"
                          ],
                          [
                            0.1111111111111111,
                            "#46039f"
                          ],
                          [
                            0.2222222222222222,
                            "#7201a8"
                          ],
                          [
                            0.3333333333333333,
                            "#9c179e"
                          ],
                          [
                            0.4444444444444444,
                            "#bd3786"
                          ],
                          [
                            0.5555555555555556,
                            "#d8576b"
                          ],
                          [
                            0.6666666666666666,
                            "#ed7953"
                          ],
                          [
                            0.7777777777777778,
                            "#fb9f3a"
                          ],
                          [
                            0.8888888888888888,
                            "#fdca26"
                          ],
                          [
                            1,
                            "#f0f921"
                          ]
                        ],
                        "type": "contour"
                      }
                    ],
                    "contourcarpet": [
                      {
                        "colorbar": {
                          "outlinewidth": 0,
                          "ticks": ""
                        },
                        "type": "contourcarpet"
                      }
                    ],
                    "heatmap": [
                      {
                        "colorbar": {
                          "outlinewidth": 0,
                          "ticks": ""
                        },
                        "colorscale": [
                          [
                            0,
                            "#0d0887"
                          ],
                          [
                            0.1111111111111111,
                            "#46039f"
                          ],
                          [
                            0.2222222222222222,
                            "#7201a8"
                          ],
                          [
                            0.3333333333333333,
                            "#9c179e"
                          ],
                          [
                            0.4444444444444444,
                            "#bd3786"
                          ],
                          [
                            0.5555555555555556,
                            "#d8576b"
                          ],
                          [
                            0.6666666666666666,
                            "#ed7953"
                          ],
                          [
                            0.7777777777777778,
                            "#fb9f3a"
                          ],
                          [
                            0.8888888888888888,
                            "#fdca26"
                          ],
                          [
                            1,
                            "#f0f921"
                          ]
                        ],
                        "type": "heatmap"
                      }
                    ],
                    "heatmapgl": [
                      {
                        "colorbar": {
                          "outlinewidth": 0,
                          "ticks": ""
                        },
                        "colorscale": [
                          [
                            0,
                            "#0d0887"
                          ],
                          [
                            0.1111111111111111,
                            "#46039f"
                          ],
                          [
                            0.2222222222222222,
                            "#7201a8"
                          ],
                          [
                            0.3333333333333333,
                            "#9c179e"
                          ],
                          [
                            0.4444444444444444,
                            "#bd3786"
                          ],
                          [
                            0.5555555555555556,
                            "#d8576b"
                          ],
                          [
                            0.6666666666666666,
                            "#ed7953"
                          ],
                          [
                            0.7777777777777778,
                            "#fb9f3a"
                          ],
                          [
                            0.8888888888888888,
                            "#fdca26"
                          ],
                          [
                            1,
                            "#f0f921"
                          ]
                        ],
                        "type": "heatmapgl"
                      }
                    ],
                    "histogram": [
                      {
                        "marker": {
                          "pattern": {
                            "fillmode": "overlay",
                            "size": 10,
                            "solidity": 0.2
                          }
                        },
                        "type": "histogram"
                      }
                    ],
                    "histogram2d": [
                      {
                        "colorbar": {
                          "outlinewidth": 0,
                          "ticks": ""
                        },
                        "colorscale": [
                          [
                            0,
                            "#0d0887"
                          ],
                          [
                            0.1111111111111111,
                            "#46039f"
                          ],
                          [
                            0.2222222222222222,
                            "#7201a8"
                          ],
                          [
                            0.3333333333333333,
                            "#9c179e"
                          ],
                          [
                            0.4444444444444444,
                            "#bd3786"
                          ],
                          [
                            0.5555555555555556,
                            "#d8576b"
                          ],
                          [
                            0.6666666666666666,
                            "#ed7953"
                          ],
                          [
                            0.7777777777777778,
                            "#fb9f3a"
                          ],
                          [
                            0.8888888888888888,
                            "#fdca26"
                          ],
                          [
                            1,
                            "#f0f921"
                          ]
                        ],
                        "type": "histogram2d"
                      }
                    ],
                    "histogram2dcontour": [
                      {
                        "colorbar": {
                          "outlinewidth": 0,
                          "ticks": ""
                        },
                        "colorscale": [
                          [
                            0,
                            "#0d0887"
                          ],
                          [
                            0.1111111111111111,
                            "#46039f"
                          ],
                          [
                            0.2222222222222222,
                            "#7201a8"
                          ],
                          [
                            0.3333333333333333,
                            "#9c179e"
                          ],
                          [
                            0.4444444444444444,
                            "#bd3786"
                          ],
                          [
                            0.5555555555555556,
                            "#d8576b"
                          ],
                          [
                            0.6666666666666666,
                            "#ed7953"
                          ],
                          [
                            0.7777777777777778,
                            "#fb9f3a"
                          ],
                          [
                            0.8888888888888888,
                            "#fdca26"
                          ],
                          [
                            1,
                            "#f0f921"
                          ]
                        ],
                        "type": "histogram2dcontour"
                      }
                    ],
                    "mesh3d": [
                      {
                        "colorbar": {
                          "outlinewidth": 0,
                          "ticks": ""
                        },
                        "type": "mesh3d"
                      }
                    ],
                    "parcoords": [
                      {
                        "line": {
                          "colorbar": {
                            "outlinewidth": 0,
                            "ticks": ""
                          }
                        },
                        "type": "parcoords"
                      }
                    ],
                    "pie": [
                      {
                        "automargin": true,
                        "type": "pie"
                      }
                    ],
                    "scatter": [
                      {
                        "fillpattern": {
                          "fillmode": "overlay",
                          "size": 10,
                          "solidity": 0.2
                        },
                        "type": "scatter"
                      }
                    ],
                    "scatter3d": [
                      {
                        "line": {
                          "colorbar": {
                            "outlinewidth": 0,
                            "ticks": ""
                          }
                        },
                        "marker": {
                          "colorbar": {
                            "outlinewidth": 0,
                            "ticks": ""
                          }
                        },
                        "type": "scatter3d"
                      }
                    ],
                    "scattercarpet": [
                      {
                        "marker": {
                          "colorbar": {
                            "outlinewidth": 0,
                            "ticks": ""
                          }
                        },
                        "type": "scattercarpet"
                      }
                    ],
                    "scattergeo": [
                      {
                        "marker": {
                          "colorbar": {
                            "outlinewidth": 0,
                            "ticks": ""
                          }
                        },
                        "type": "scattergeo"
                      }
                    ],
                    "scattergl": [
                      {
                        "marker": {
                          "colorbar": {
                            "outlinewidth": 0,
                            "ticks": ""
                          }
                        },
                        "type": "scattergl"
                      }
                    ],
                    "scattermapbox": [
                      {
                        "marker": {
                          "colorbar": {
                            "outlinewidth": 0,
                            "ticks": ""
                          }
                        },
                        "type": "scattermapbox"
                      }
                    ],
                    "scatterpolar": [
                      {
                        "marker": {
                          "colorbar": {
                            "outlinewidth": 0,
                            "ticks": ""
                          }
                        },
                        "type": "scatterpolar"
                      }
                    ],
                    "scatterpolargl": [
                      {
                        "marker": {
                          "colorbar": {
                            "outlinewidth": 0,
                            "ticks": ""
                          }
                        },
                        "type": "scatterpolargl"
                      }
                    ],
                    "scatterternary": [
                      {
                        "marker": {
                          "colorbar": {
                            "outlinewidth": 0,
                            "ticks": ""
                          }
                        },
                        "type": "scatterternary"
                      }
                    ],
                    "surface": [
                      {
                        "colorbar": {
                          "outlinewidth": 0,
                          "ticks": ""
                        },
                        "colorscale": [
                          [
                            0,
                            "#0d0887"
                          ],
                          [
                            0.1111111111111111,
                            "#46039f"
                          ],
                          [
                            0.2222222222222222,
                            "#7201a8"
                          ],
                          [
                            0.3333333333333333,
                            "#9c179e"
                          ],
                          [
                            0.4444444444444444,
                            "#bd3786"
                          ],
                          [
                            0.5555555555555556,
                            "#d8576b"
                          ],
                          [
                            0.6666666666666666,
                            "#ed7953"
                          ],
                          [
                            0.7777777777777778,
                            "#fb9f3a"
                          ],
                          [
                            0.8888888888888888,
                            "#fdca26"
                          ],
                          [
                            1,
                            "#f0f921"
                          ]
                        ],
                        "type": "surface"
                      }
                    ],
                    "table": [
                      {
                        "cells": {
                          "fill": {
                            "color": "#EBF0F8"
                          },
                          "line": {
                            "color": "white"
                          }
                        },
                        "header": {
                          "fill": {
                            "color": "#C8D4E3"
                          },
                          "line": {
                            "color": "white"
                          }
                        },
                        "type": "table"
                      }
                    ]
                  },
                  "layout": {
                    "annotationdefaults": {
                      "arrowcolor": "#2a3f5f",
                      "arrowhead": 0,
                      "arrowwidth": 1
                    },
                    "autotypenumbers": "strict",
                    "coloraxis": {
                      "colorbar": {
                        "outlinewidth": 0,
                        "ticks": ""
                      }
                    },
                    "colorscale": {
                      "diverging": [
                        [
                          0,
                          "#8e0152"
                        ],
                        [
                          0.1,
                          "#c51b7d"
                        ],
                        [
                          0.2,
                          "#de77ae"
                        ],
                        [
                          0.3,
                          "#f1b6da"
                        ],
                        [
                          0.4,
                          "#fde0ef"
                        ],
                        [
                          0.5,
                          "#f7f7f7"
                        ],
                        [
                          0.6,
                          "#e6f5d0"
                        ],
                        [
                          0.7,
                          "#b8e186"
                        ],
                        [
                          0.8,
                          "#7fbc41"
                        ],
                        [
                          0.9,
                          "#4d9221"
                        ],
                        [
                          1,
                          "#276419"
                        ]
                      ],
                      "sequential": [
                        [
                          0,
                          "#0d0887"
                        ],
                        [
                          0.1111111111111111,
                          "#46039f"
                        ],
                        [
                          0.2222222222222222,
                          "#7201a8"
                        ],
                        [
                          0.3333333333333333,
                          "#9c179e"
                        ],
                        [
                          0.4444444444444444,
                          "#bd3786"
                        ],
                        [
                          0.5555555555555556,
                          "#d8576b"
                        ],
                        [
                          0.6666666666666666,
                          "#ed7953"
                        ],
                        [
                          0.7777777777777778,
                          "#fb9f3a"
                        ],
                        [
                          0.8888888888888888,
                          "#fdca26"
                        ],
                        [
                          1,
                          "#f0f921"
                        ]
                      ],
                      "sequentialminus": [
                        [
                          0,
                          "#0d0887"
                        ],
                        [
                          0.1111111111111111,
                          "#46039f"
                        ],
                        [
                          0.2222222222222222,
                          "#7201a8"
                        ],
                        [
                          0.3333333333333333,
                          "#9c179e"
                        ],
                        [
                          0.4444444444444444,
                          "#bd3786"
                        ],
                        [
                          0.5555555555555556,
                          "#d8576b"
                        ],
                        [
                          0.6666666666666666,
                          "#ed7953"
                        ],
                        [
                          0.7777777777777778,
                          "#fb9f3a"
                        ],
                        [
                          0.8888888888888888,
                          "#fdca26"
                        ],
                        [
                          1,
                          "#f0f921"
                        ]
                      ]
                    },
                    "colorway": [
                      "#636efa",
                      "#EF553B",
                      "#00cc96",
                      "#ab63fa",
                      "#FFA15A",
                      "#19d3f3",
                      "#FF6692",
                      "#B6E880",
                      "#FF97FF",
                      "#FECB52"
                    ],
                    "font": {
                      "color": "#2a3f5f"
                    },
                    "geo": {
                      "bgcolor": "white",
                      "lakecolor": "white",
                      "landcolor": "#E5ECF6",
                      "showlakes": true,
                      "showland": true,
                      "subunitcolor": "white"
                    },
                    "hoverlabel": {
                      "align": "left"
                    },
                    "hovermode": "closest",
                    "mapbox": {
                      "style": "light"
                    },
                    "paper_bgcolor": "white",
                    "plot_bgcolor": "#E5ECF6",
                    "polar": {
                      "angularaxis": {
                        "gridcolor": "white",
                        "linecolor": "white",
                        "ticks": ""
                      },
                      "bgcolor": "#E5ECF6",
                      "radialaxis": {
                        "gridcolor": "white",
                        "linecolor": "white",
                        "ticks": ""
                      }
                    },
                    "scene": {
                      "xaxis": {
                        "backgroundcolor": "#E5ECF6",
                        "gridcolor": "white",
                        "gridwidth": 2,
                        "linecolor": "white",
                        "showbackground": true,
                        "ticks": "",
                        "zerolinecolor": "white"
                      },
                      "yaxis": {
                        "backgroundcolor": "#E5ECF6",
                        "gridcolor": "white",
                        "gridwidth": 2,
                        "linecolor": "white",
                        "showbackground": true,
                        "ticks": "",
                        "zerolinecolor": "white"
                      },
                      "zaxis": {
                        "backgroundcolor": "#E5ECF6",
                        "gridcolor": "white",
                        "gridwidth": 2,
                        "linecolor": "white",
                        "showbackground": true,
                        "ticks": "",
                        "zerolinecolor": "white"
                      }
                    },
                    "shapedefaults": {
                      "line": {
                        "color": "#2a3f5f"
                      }
                    },
                    "ternary": {
                      "aaxis": {
                        "gridcolor": "white",
                        "linecolor": "white",
                        "ticks": ""
                      },
                      "baxis": {
                        "gridcolor": "white",
                        "linecolor": "white",
                        "ticks": ""
                      },
                      "bgcolor": "#E5ECF6",
                      "caxis": {
                        "gridcolor": "white",
                        "linecolor": "white",
                        "ticks": ""
                      }
                    },
                    "title": {
                      "x": 0.05
                    },
                    "xaxis": {
                      "automargin": true,
                      "gridcolor": "white",
                      "linecolor": "white",
                      "ticks": "",
                      "title": {
                        "standoff": 15
                      },
                      "zerolinecolor": "white",
                      "zerolinewidth": 2
                    },
                    "yaxis": {
                      "automargin": true,
                      "gridcolor": "white",
                      "linecolor": "white",
                      "ticks": "",
                      "title": {
                        "standoff": 15
                      },
                      "zerolinecolor": "white",
                      "zerolinewidth": 2
                    }
                  }
                },
                "title": {
                  "text": "Area 4 最適化結果"
                },
                "xaxis": {
                  "anchor": "y",
                  "domain": [
                    0,
                    1
                  ]
                },
                "xaxis2": {
                  "anchor": "y2",
                  "domain": [
                    0,
                    1
                  ]
                },
                "xaxis3": {
                  "anchor": "y3",
                  "domain": [
                    0,
                    1
                  ]
                },
                "xaxis4": {
                  "anchor": "y4",
                  "domain": [
                    0,
                    1
                  ],
                  "title": {
                    "text": "時刻"
                  }
                },
                "yaxis": {
                  "anchor": "x",
                  "domain": [
                    0.81,
                    1
                  ],
                  "title": {
                    "text": "温度 (°C)"
                  }
                },
                "yaxis2": {
                  "anchor": "x2",
                  "domain": [
                    0.54,
                    0.73
                  ],
                  "title": {
                    "text": "電力 (W)"
                  }
                },
                "yaxis3": {
                  "anchor": "x3",
                  "domain": [
                    0.27,
                    0.46
                  ],
                  "title": {
                    "text": "モード"
                  }
                },
                "yaxis4": {
                  "anchor": "x4",
                  "domain": [
                    0,
                    0.19
                  ],
                  "title": {
                    "text": "ファン速度"
                  }
                }
              }
            }
          },
          "metadata": {},
          "output_type": "display_data"
        },
        {
          "name": "stdout",
          "output_type": "stream",
          "text": [
            "✅ Area 4 の可視化完了\n"
          ]
        },
        {
          "data": {
            "application/vnd.plotly.v1+json": {
              "config": {
                "plotlyServerURL": "https://plot.ly"
              },
              "data": [
                {
                  "line": {
                    "color": "red",
                    "width": 2
                  },
                  "name": "設定温度",
                  "type": "scatter",
                  "x": [
                    "2025-10-02T00:00:00",
                    "2025-10-02T01:00:00",
                    "2025-10-02T02:00:00",
                    "2025-10-02T03:00:00",
                    "2025-10-02T04:00:00",
                    "2025-10-02T05:00:00",
                    "2025-10-02T06:00:00",
                    "2025-10-02T07:00:00",
                    "2025-10-02T08:00:00",
                    "2025-10-02T09:00:00",
                    "2025-10-02T10:00:00",
                    "2025-10-02T11:00:00",
                    "2025-10-02T12:00:00",
                    "2025-10-02T13:00:00",
                    "2025-10-02T14:00:00",
                    "2025-10-02T15:00:00",
                    "2025-10-02T16:00:00",
                    "2025-10-02T17:00:00",
                    "2025-10-02T18:00:00",
                    "2025-10-02T19:00:00",
                    "2025-10-02T20:00:00",
                    "2025-10-02T21:00:00",
                    "2025-10-02T22:00:00",
                    "2025-10-02T23:00:00",
                    "2025-10-03T00:00:00",
                    "2025-10-03T01:00:00",
                    "2025-10-03T02:00:00",
                    "2025-10-03T03:00:00",
                    "2025-10-03T04:00:00",
                    "2025-10-03T05:00:00",
                    "2025-10-03T06:00:00",
                    "2025-10-03T07:00:00",
                    "2025-10-03T08:00:00",
                    "2025-10-03T09:00:00",
                    "2025-10-03T10:00:00",
                    "2025-10-03T11:00:00",
                    "2025-10-03T12:00:00",
                    "2025-10-03T13:00:00",
                    "2025-10-03T14:00:00",
                    "2025-10-03T15:00:00",
                    "2025-10-03T16:00:00",
                    "2025-10-03T17:00:00",
                    "2025-10-03T18:00:00",
                    "2025-10-03T19:00:00",
                    "2025-10-03T20:00:00",
                    "2025-10-03T21:00:00",
                    "2025-10-03T22:00:00",
                    "2025-10-03T23:00:00",
                    "2025-10-04T00:00:00",
                    "2025-10-04T01:00:00",
                    "2025-10-04T02:00:00",
                    "2025-10-04T03:00:00",
                    "2025-10-04T04:00:00",
                    "2025-10-04T05:00:00",
                    "2025-10-04T06:00:00",
                    "2025-10-04T07:00:00",
                    "2025-10-04T08:00:00",
                    "2025-10-04T09:00:00",
                    "2025-10-04T10:00:00",
                    "2025-10-04T11:00:00",
                    "2025-10-04T12:00:00",
                    "2025-10-04T13:00:00",
                    "2025-10-04T14:00:00",
                    "2025-10-04T15:00:00",
                    "2025-10-04T16:00:00",
                    "2025-10-04T17:00:00",
                    "2025-10-04T18:00:00",
                    "2025-10-04T19:00:00",
                    "2025-10-04T20:00:00",
                    "2025-10-04T21:00:00",
                    "2025-10-04T22:00:00",
                    "2025-10-04T23:00:00",
                    "2025-10-05T00:00:00"
                  ],
                  "xaxis": "x",
                  "y": [
                    25,
                    25,
                    25,
                    25,
                    25,
                    25,
                    25,
                    25,
                    25,
                    25,
                    25,
                    25,
                    25,
                    25,
                    25,
                    25,
                    25,
                    25,
                    25,
                    25,
                    25,
                    25,
                    25,
                    25,
                    25,
                    25,
                    25,
                    25,
                    25,
                    25,
                    25,
                    25,
                    25,
                    25,
                    25,
                    25,
                    25,
                    25,
                    25,
                    25,
                    25,
                    25,
                    25,
                    25,
                    25,
                    25,
                    25,
                    25,
                    25,
                    25,
                    25,
                    25,
                    25,
                    25,
                    25,
                    25,
                    25,
                    25,
                    25,
                    25,
                    25,
                    25,
                    25,
                    25,
                    25,
                    25,
                    25,
                    25,
                    25,
                    25,
                    25,
                    25,
                    25
                  ],
                  "yaxis": "y"
                },
                {
                  "line": {
                    "color": "blue",
                    "width": 2
                  },
                  "name": "予測室温",
                  "type": "scatter",
                  "x": [
                    "2025-10-02T00:00:00",
                    "2025-10-02T01:00:00",
                    "2025-10-02T02:00:00",
                    "2025-10-02T03:00:00",
                    "2025-10-02T04:00:00",
                    "2025-10-02T05:00:00",
                    "2025-10-02T06:00:00",
                    "2025-10-02T07:00:00",
                    "2025-10-02T08:00:00",
                    "2025-10-02T09:00:00",
                    "2025-10-02T10:00:00",
                    "2025-10-02T11:00:00",
                    "2025-10-02T12:00:00",
                    "2025-10-02T13:00:00",
                    "2025-10-02T14:00:00",
                    "2025-10-02T15:00:00",
                    "2025-10-02T16:00:00",
                    "2025-10-02T17:00:00",
                    "2025-10-02T18:00:00",
                    "2025-10-02T19:00:00",
                    "2025-10-02T20:00:00",
                    "2025-10-02T21:00:00",
                    "2025-10-02T22:00:00",
                    "2025-10-02T23:00:00",
                    "2025-10-03T00:00:00",
                    "2025-10-03T01:00:00",
                    "2025-10-03T02:00:00",
                    "2025-10-03T03:00:00",
                    "2025-10-03T04:00:00",
                    "2025-10-03T05:00:00",
                    "2025-10-03T06:00:00",
                    "2025-10-03T07:00:00",
                    "2025-10-03T08:00:00",
                    "2025-10-03T09:00:00",
                    "2025-10-03T10:00:00",
                    "2025-10-03T11:00:00",
                    "2025-10-03T12:00:00",
                    "2025-10-03T13:00:00",
                    "2025-10-03T14:00:00",
                    "2025-10-03T15:00:00",
                    "2025-10-03T16:00:00",
                    "2025-10-03T17:00:00",
                    "2025-10-03T18:00:00",
                    "2025-10-03T19:00:00",
                    "2025-10-03T20:00:00",
                    "2025-10-03T21:00:00",
                    "2025-10-03T22:00:00",
                    "2025-10-03T23:00:00",
                    "2025-10-04T00:00:00",
                    "2025-10-04T01:00:00",
                    "2025-10-04T02:00:00",
                    "2025-10-04T03:00:00",
                    "2025-10-04T04:00:00",
                    "2025-10-04T05:00:00",
                    "2025-10-04T06:00:00",
                    "2025-10-04T07:00:00",
                    "2025-10-04T08:00:00",
                    "2025-10-04T09:00:00",
                    "2025-10-04T10:00:00",
                    "2025-10-04T11:00:00",
                    "2025-10-04T12:00:00",
                    "2025-10-04T13:00:00",
                    "2025-10-04T14:00:00",
                    "2025-10-04T15:00:00",
                    "2025-10-04T16:00:00",
                    "2025-10-04T17:00:00",
                    "2025-10-04T18:00:00",
                    "2025-10-04T19:00:00",
                    "2025-10-04T20:00:00",
                    "2025-10-04T21:00:00",
                    "2025-10-04T22:00:00",
                    "2025-10-04T23:00:00",
                    "2025-10-05T00:00:00"
                  ],
                  "xaxis": "x",
                  "y": [
                    23.985840909090925,
                    24.439526515151506,
                    25.41195075757577,
                    25.988819444444456,
                    26.321040088383835,
                    26.860028409090923,
                    26.536553030303025,
                    25.815946969696974,
                    25.385624999999994,
                    25.43729166666666,
                    25.321249999999996,
                    24.926458333333343,
                    24.658863636363634,
                    24.85518939393937,
                    24.74164772727273,
                    24.843806818181797,
                    24.7979356060606,
                    24.936060606060586,
                    24.755625000000006,
                    24.958124999999995,
                    24.85416666666666,
                    24.786041666666673,
                    24.863958333333326,
                    24.825625,
                    25.291250000000012,
                    25.77508333333334,
                    26.6471875,
                    26.524668560606063,
                    26.503704229798,
                    26.7881470959596,
                    26.637130681818185,
                    25.83870107323235,
                    25.379166666666666,
                    25.376874999999988,
                    25.263541666666665,
                    24.994375000000012,
                    24.850624999999983,
                    24.793731060606046,
                    24.74437499999998,
                    24.838541666666647,
                    24.784886363636357,
                    24.91683712121211,
                    24.770928030303025,
                    24.93431818181817,
                    24.80321969696969,
                    24.80344696969697,
                    24.797821969696965,
                    24.818446969696964,
                    25.373333333333346,
                    25.692166666666676,
                    26.08063446969696,
                    26.21770833333333,
                    26.271641414141424,
                    26.685066287878804,
                    26.10548863636364,
                    25.6532149621212,
                    25.201250000000005,
                    25.12708333333332,
                    24.925416666666646,
                    24.732083333333318,
                    24.858806818181783,
                    24.825549242424223,
                    24.7322159090909,
                    24.848124999999992,
                    24.80176136363636,
                    24.90600378787878,
                    24.740094696969685,
                    24.904943181818176,
                    24.764053030303018,
                    24.771780303030308,
                    24.791363636363645,
                    24.817821969696976,
                    25.39479166666667
                  ],
                  "yaxis": "y"
                },
                {
                  "line": {
                    "color": "green",
                    "width": 2
                  },
                  "name": "予測電力",
                  "type": "scatter",
                  "x": [
                    "2025-10-02T00:00:00",
                    "2025-10-02T01:00:00",
                    "2025-10-02T02:00:00",
                    "2025-10-02T03:00:00",
                    "2025-10-02T04:00:00",
                    "2025-10-02T05:00:00",
                    "2025-10-02T06:00:00",
                    "2025-10-02T07:00:00",
                    "2025-10-02T08:00:00",
                    "2025-10-02T09:00:00",
                    "2025-10-02T10:00:00",
                    "2025-10-02T11:00:00",
                    "2025-10-02T12:00:00",
                    "2025-10-02T13:00:00",
                    "2025-10-02T14:00:00",
                    "2025-10-02T15:00:00",
                    "2025-10-02T16:00:00",
                    "2025-10-02T17:00:00",
                    "2025-10-02T18:00:00",
                    "2025-10-02T19:00:00",
                    "2025-10-02T20:00:00",
                    "2025-10-02T21:00:00",
                    "2025-10-02T22:00:00",
                    "2025-10-02T23:00:00",
                    "2025-10-03T00:00:00",
                    "2025-10-03T01:00:00",
                    "2025-10-03T02:00:00",
                    "2025-10-03T03:00:00",
                    "2025-10-03T04:00:00",
                    "2025-10-03T05:00:00",
                    "2025-10-03T06:00:00",
                    "2025-10-03T07:00:00",
                    "2025-10-03T08:00:00",
                    "2025-10-03T09:00:00",
                    "2025-10-03T10:00:00",
                    "2025-10-03T11:00:00",
                    "2025-10-03T12:00:00",
                    "2025-10-03T13:00:00",
                    "2025-10-03T14:00:00",
                    "2025-10-03T15:00:00",
                    "2025-10-03T16:00:00",
                    "2025-10-03T17:00:00",
                    "2025-10-03T18:00:00",
                    "2025-10-03T19:00:00",
                    "2025-10-03T20:00:00",
                    "2025-10-03T21:00:00",
                    "2025-10-03T22:00:00",
                    "2025-10-03T23:00:00",
                    "2025-10-04T00:00:00",
                    "2025-10-04T01:00:00",
                    "2025-10-04T02:00:00",
                    "2025-10-04T03:00:00",
                    "2025-10-04T04:00:00",
                    "2025-10-04T05:00:00",
                    "2025-10-04T06:00:00",
                    "2025-10-04T07:00:00",
                    "2025-10-04T08:00:00",
                    "2025-10-04T09:00:00",
                    "2025-10-04T10:00:00",
                    "2025-10-04T11:00:00",
                    "2025-10-04T12:00:00",
                    "2025-10-04T13:00:00",
                    "2025-10-04T14:00:00",
                    "2025-10-04T15:00:00",
                    "2025-10-04T16:00:00",
                    "2025-10-04T17:00:00",
                    "2025-10-04T18:00:00",
                    "2025-10-04T19:00:00",
                    "2025-10-04T20:00:00",
                    "2025-10-04T21:00:00",
                    "2025-10-04T22:00:00",
                    "2025-10-04T23:00:00",
                    "2025-10-05T00:00:00"
                  ],
                  "xaxis": "x2",
                  "y": [
                    742.1233333333334,
                    770.4850000000001,
                    618.1625,
                    563.1025,
                    709.6725000000001,
                    616.4816666666667,
                    849.3270000000001,
                    15215.52,
                    14271.15,
                    12205.15,
                    10028.15,
                    8355.93,
                    10138.28,
                    11061.93,
                    9986.68,
                    9240.48,
                    9083.33,
                    9194.83,
                    8800.93,
                    9021.85,
                    8718.5,
                    378.9175,
                    387.445,
                    428.6075,
                    643.69175,
                    630.311625,
                    804.6375,
                    1011.2200000000001,
                    777.4658333333334,
                    701.5845833333334,
                    800.9887142857143,
                    18330.536666666667,
                    15002.2,
                    12894.95,
                    11035.666666666664,
                    8977.896666666666,
                    10618.096666666665,
                    10193.596666666666,
                    10159.596666666666,
                    9440.946666666667,
                    9290.896666666666,
                    9390.146666666666,
                    9048.296666666667,
                    9180.3,
                    9139.9,
                    386.045,
                    379.70500000000004,
                    422.9025,
                    542.8958333333333,
                    483.82,
                    633.3058333333333,
                    711.3875,
                    646.2720833333334,
                    586.645625,
                    769.2944047619048,
                    16873.22,
                    14223.9,
                    12459.45,
                    10678.65,
                    11768.03,
                    11884.93,
                    11743.13,
                    11468.63,
                    11095.78,
                    10987.93,
                    11080.93,
                    10755.33,
                    10957.5,
                    10930.05,
                    432.9575,
                    427.90000000000003,
                    465.6600000000001,
                    529.73
                  ],
                  "yaxis": "y2"
                },
                {
                  "marker": {
                    "color": "orange",
                    "size": 6
                  },
                  "mode": "markers",
                  "name": "運転モード",
                  "type": "scatter",
                  "x": [
                    "2025-10-02T00:00:00",
                    "2025-10-02T01:00:00",
                    "2025-10-02T02:00:00",
                    "2025-10-02T03:00:00",
                    "2025-10-02T04:00:00",
                    "2025-10-02T05:00:00",
                    "2025-10-02T06:00:00",
                    "2025-10-02T07:00:00",
                    "2025-10-02T08:00:00",
                    "2025-10-02T09:00:00",
                    "2025-10-02T10:00:00",
                    "2025-10-02T11:00:00",
                    "2025-10-02T12:00:00",
                    "2025-10-02T13:00:00",
                    "2025-10-02T14:00:00",
                    "2025-10-02T15:00:00",
                    "2025-10-02T16:00:00",
                    "2025-10-02T17:00:00",
                    "2025-10-02T18:00:00",
                    "2025-10-02T19:00:00",
                    "2025-10-02T20:00:00",
                    "2025-10-02T21:00:00",
                    "2025-10-02T22:00:00",
                    "2025-10-02T23:00:00",
                    "2025-10-03T00:00:00",
                    "2025-10-03T01:00:00",
                    "2025-10-03T02:00:00",
                    "2025-10-03T03:00:00",
                    "2025-10-03T04:00:00",
                    "2025-10-03T05:00:00",
                    "2025-10-03T06:00:00",
                    "2025-10-03T07:00:00",
                    "2025-10-03T08:00:00",
                    "2025-10-03T09:00:00",
                    "2025-10-03T10:00:00",
                    "2025-10-03T11:00:00",
                    "2025-10-03T12:00:00",
                    "2025-10-03T13:00:00",
                    "2025-10-03T14:00:00",
                    "2025-10-03T15:00:00",
                    "2025-10-03T16:00:00",
                    "2025-10-03T17:00:00",
                    "2025-10-03T18:00:00",
                    "2025-10-03T19:00:00",
                    "2025-10-03T20:00:00",
                    "2025-10-03T21:00:00",
                    "2025-10-03T22:00:00",
                    "2025-10-03T23:00:00",
                    "2025-10-04T00:00:00",
                    "2025-10-04T01:00:00",
                    "2025-10-04T02:00:00",
                    "2025-10-04T03:00:00",
                    "2025-10-04T04:00:00",
                    "2025-10-04T05:00:00",
                    "2025-10-04T06:00:00",
                    "2025-10-04T07:00:00",
                    "2025-10-04T08:00:00",
                    "2025-10-04T09:00:00",
                    "2025-10-04T10:00:00",
                    "2025-10-04T11:00:00",
                    "2025-10-04T12:00:00",
                    "2025-10-04T13:00:00",
                    "2025-10-04T14:00:00",
                    "2025-10-04T15:00:00",
                    "2025-10-04T16:00:00",
                    "2025-10-04T17:00:00",
                    "2025-10-04T18:00:00",
                    "2025-10-04T19:00:00",
                    "2025-10-04T20:00:00",
                    "2025-10-04T21:00:00",
                    "2025-10-04T22:00:00",
                    "2025-10-04T23:00:00",
                    "2025-10-05T00:00:00"
                  ],
                  "xaxis": "x3",
                  "y": [
                    0,
                    0,
                    0,
                    0,
                    0,
                    0,
                    0,
                    0,
                    0,
                    0,
                    0,
                    0,
                    0,
                    0,
                    0,
                    0,
                    0,
                    0,
                    0,
                    0,
                    0,
                    0,
                    0,
                    0,
                    0,
                    0,
                    0,
                    0,
                    0,
                    0,
                    0,
                    0,
                    0,
                    0,
                    0,
                    0,
                    0,
                    0,
                    0,
                    0,
                    0,
                    0,
                    0,
                    0,
                    0,
                    0,
                    0,
                    0,
                    0,
                    0,
                    0,
                    0,
                    0,
                    0,
                    0,
                    0,
                    0,
                    0,
                    0,
                    0,
                    0,
                    0,
                    0,
                    0,
                    0,
                    0,
                    0,
                    0,
                    0,
                    0,
                    0,
                    0,
                    0
                  ],
                  "yaxis": "y3"
                },
                {
                  "marker": {
                    "color": "purple",
                    "size": 6
                  },
                  "mode": "markers",
                  "name": "ファン速度",
                  "type": "scatter",
                  "x": [
                    "2025-10-02T00:00:00",
                    "2025-10-02T01:00:00",
                    "2025-10-02T02:00:00",
                    "2025-10-02T03:00:00",
                    "2025-10-02T04:00:00",
                    "2025-10-02T05:00:00",
                    "2025-10-02T06:00:00",
                    "2025-10-02T07:00:00",
                    "2025-10-02T08:00:00",
                    "2025-10-02T09:00:00",
                    "2025-10-02T10:00:00",
                    "2025-10-02T11:00:00",
                    "2025-10-02T12:00:00",
                    "2025-10-02T13:00:00",
                    "2025-10-02T14:00:00",
                    "2025-10-02T15:00:00",
                    "2025-10-02T16:00:00",
                    "2025-10-02T17:00:00",
                    "2025-10-02T18:00:00",
                    "2025-10-02T19:00:00",
                    "2025-10-02T20:00:00",
                    "2025-10-02T21:00:00",
                    "2025-10-02T22:00:00",
                    "2025-10-02T23:00:00",
                    "2025-10-03T00:00:00",
                    "2025-10-03T01:00:00",
                    "2025-10-03T02:00:00",
                    "2025-10-03T03:00:00",
                    "2025-10-03T04:00:00",
                    "2025-10-03T05:00:00",
                    "2025-10-03T06:00:00",
                    "2025-10-03T07:00:00",
                    "2025-10-03T08:00:00",
                    "2025-10-03T09:00:00",
                    "2025-10-03T10:00:00",
                    "2025-10-03T11:00:00",
                    "2025-10-03T12:00:00",
                    "2025-10-03T13:00:00",
                    "2025-10-03T14:00:00",
                    "2025-10-03T15:00:00",
                    "2025-10-03T16:00:00",
                    "2025-10-03T17:00:00",
                    "2025-10-03T18:00:00",
                    "2025-10-03T19:00:00",
                    "2025-10-03T20:00:00",
                    "2025-10-03T21:00:00",
                    "2025-10-03T22:00:00",
                    "2025-10-03T23:00:00",
                    "2025-10-04T00:00:00",
                    "2025-10-04T01:00:00",
                    "2025-10-04T02:00:00",
                    "2025-10-04T03:00:00",
                    "2025-10-04T04:00:00",
                    "2025-10-04T05:00:00",
                    "2025-10-04T06:00:00",
                    "2025-10-04T07:00:00",
                    "2025-10-04T08:00:00",
                    "2025-10-04T09:00:00",
                    "2025-10-04T10:00:00",
                    "2025-10-04T11:00:00",
                    "2025-10-04T12:00:00",
                    "2025-10-04T13:00:00",
                    "2025-10-04T14:00:00",
                    "2025-10-04T15:00:00",
                    "2025-10-04T16:00:00",
                    "2025-10-04T17:00:00",
                    "2025-10-04T18:00:00",
                    "2025-10-04T19:00:00",
                    "2025-10-04T20:00:00",
                    "2025-10-04T21:00:00",
                    "2025-10-04T22:00:00",
                    "2025-10-04T23:00:00",
                    "2025-10-05T00:00:00"
                  ],
                  "xaxis": "x4",
                  "y": [
                    2,
                    2,
                    2,
                    2,
                    2,
                    2,
                    2,
                    2,
                    2,
                    2,
                    2,
                    2,
                    2,
                    2,
                    2,
                    2,
                    2,
                    2,
                    2,
                    2,
                    2,
                    2,
                    2,
                    2,
                    2,
                    2,
                    2,
                    2,
                    2,
                    2,
                    2,
                    2,
                    2,
                    2,
                    2,
                    2,
                    2,
                    2,
                    2,
                    2,
                    2,
                    2,
                    2,
                    2,
                    2,
                    2,
                    2,
                    2,
                    2,
                    2,
                    2,
                    2,
                    2,
                    2,
                    2,
                    2,
                    2,
                    2,
                    2,
                    2,
                    2,
                    2,
                    2,
                    2,
                    2,
                    2,
                    2,
                    2,
                    2,
                    2,
                    2,
                    2,
                    2
                  ],
                  "yaxis": "y4"
                }
              ],
              "layout": {
                "annotations": [
                  {
                    "font": {
                      "size": 16
                    },
                    "showarrow": false,
                    "text": "Break Room - 設定温度・予測室温",
                    "x": 0.5,
                    "xanchor": "center",
                    "xref": "paper",
                    "y": 1,
                    "yanchor": "bottom",
                    "yref": "paper"
                  },
                  {
                    "font": {
                      "size": 16
                    },
                    "showarrow": false,
                    "text": "Break Room - 予測電力",
                    "x": 0.5,
                    "xanchor": "center",
                    "xref": "paper",
                    "y": 0.73,
                    "yanchor": "bottom",
                    "yref": "paper"
                  },
                  {
                    "font": {
                      "size": 16
                    },
                    "showarrow": false,
                    "text": "Break Room - 運転モード",
                    "x": 0.5,
                    "xanchor": "center",
                    "xref": "paper",
                    "y": 0.46,
                    "yanchor": "bottom",
                    "yref": "paper"
                  },
                  {
                    "font": {
                      "size": 16
                    },
                    "showarrow": false,
                    "text": "Break Room - ファン速度",
                    "x": 0.5,
                    "xanchor": "center",
                    "xref": "paper",
                    "y": 0.19,
                    "yanchor": "bottom",
                    "yref": "paper"
                  }
                ],
                "height": 800,
                "showlegend": true,
                "template": {
                  "data": {
                    "bar": [
                      {
                        "error_x": {
                          "color": "#2a3f5f"
                        },
                        "error_y": {
                          "color": "#2a3f5f"
                        },
                        "marker": {
                          "line": {
                            "color": "#E5ECF6",
                            "width": 0.5
                          },
                          "pattern": {
                            "fillmode": "overlay",
                            "size": 10,
                            "solidity": 0.2
                          }
                        },
                        "type": "bar"
                      }
                    ],
                    "barpolar": [
                      {
                        "marker": {
                          "line": {
                            "color": "#E5ECF6",
                            "width": 0.5
                          },
                          "pattern": {
                            "fillmode": "overlay",
                            "size": 10,
                            "solidity": 0.2
                          }
                        },
                        "type": "barpolar"
                      }
                    ],
                    "carpet": [
                      {
                        "aaxis": {
                          "endlinecolor": "#2a3f5f",
                          "gridcolor": "white",
                          "linecolor": "white",
                          "minorgridcolor": "white",
                          "startlinecolor": "#2a3f5f"
                        },
                        "baxis": {
                          "endlinecolor": "#2a3f5f",
                          "gridcolor": "white",
                          "linecolor": "white",
                          "minorgridcolor": "white",
                          "startlinecolor": "#2a3f5f"
                        },
                        "type": "carpet"
                      }
                    ],
                    "choropleth": [
                      {
                        "colorbar": {
                          "outlinewidth": 0,
                          "ticks": ""
                        },
                        "type": "choropleth"
                      }
                    ],
                    "contour": [
                      {
                        "colorbar": {
                          "outlinewidth": 0,
                          "ticks": ""
                        },
                        "colorscale": [
                          [
                            0,
                            "#0d0887"
                          ],
                          [
                            0.1111111111111111,
                            "#46039f"
                          ],
                          [
                            0.2222222222222222,
                            "#7201a8"
                          ],
                          [
                            0.3333333333333333,
                            "#9c179e"
                          ],
                          [
                            0.4444444444444444,
                            "#bd3786"
                          ],
                          [
                            0.5555555555555556,
                            "#d8576b"
                          ],
                          [
                            0.6666666666666666,
                            "#ed7953"
                          ],
                          [
                            0.7777777777777778,
                            "#fb9f3a"
                          ],
                          [
                            0.8888888888888888,
                            "#fdca26"
                          ],
                          [
                            1,
                            "#f0f921"
                          ]
                        ],
                        "type": "contour"
                      }
                    ],
                    "contourcarpet": [
                      {
                        "colorbar": {
                          "outlinewidth": 0,
                          "ticks": ""
                        },
                        "type": "contourcarpet"
                      }
                    ],
                    "heatmap": [
                      {
                        "colorbar": {
                          "outlinewidth": 0,
                          "ticks": ""
                        },
                        "colorscale": [
                          [
                            0,
                            "#0d0887"
                          ],
                          [
                            0.1111111111111111,
                            "#46039f"
                          ],
                          [
                            0.2222222222222222,
                            "#7201a8"
                          ],
                          [
                            0.3333333333333333,
                            "#9c179e"
                          ],
                          [
                            0.4444444444444444,
                            "#bd3786"
                          ],
                          [
                            0.5555555555555556,
                            "#d8576b"
                          ],
                          [
                            0.6666666666666666,
                            "#ed7953"
                          ],
                          [
                            0.7777777777777778,
                            "#fb9f3a"
                          ],
                          [
                            0.8888888888888888,
                            "#fdca26"
                          ],
                          [
                            1,
                            "#f0f921"
                          ]
                        ],
                        "type": "heatmap"
                      }
                    ],
                    "heatmapgl": [
                      {
                        "colorbar": {
                          "outlinewidth": 0,
                          "ticks": ""
                        },
                        "colorscale": [
                          [
                            0,
                            "#0d0887"
                          ],
                          [
                            0.1111111111111111,
                            "#46039f"
                          ],
                          [
                            0.2222222222222222,
                            "#7201a8"
                          ],
                          [
                            0.3333333333333333,
                            "#9c179e"
                          ],
                          [
                            0.4444444444444444,
                            "#bd3786"
                          ],
                          [
                            0.5555555555555556,
                            "#d8576b"
                          ],
                          [
                            0.6666666666666666,
                            "#ed7953"
                          ],
                          [
                            0.7777777777777778,
                            "#fb9f3a"
                          ],
                          [
                            0.8888888888888888,
                            "#fdca26"
                          ],
                          [
                            1,
                            "#f0f921"
                          ]
                        ],
                        "type": "heatmapgl"
                      }
                    ],
                    "histogram": [
                      {
                        "marker": {
                          "pattern": {
                            "fillmode": "overlay",
                            "size": 10,
                            "solidity": 0.2
                          }
                        },
                        "type": "histogram"
                      }
                    ],
                    "histogram2d": [
                      {
                        "colorbar": {
                          "outlinewidth": 0,
                          "ticks": ""
                        },
                        "colorscale": [
                          [
                            0,
                            "#0d0887"
                          ],
                          [
                            0.1111111111111111,
                            "#46039f"
                          ],
                          [
                            0.2222222222222222,
                            "#7201a8"
                          ],
                          [
                            0.3333333333333333,
                            "#9c179e"
                          ],
                          [
                            0.4444444444444444,
                            "#bd3786"
                          ],
                          [
                            0.5555555555555556,
                            "#d8576b"
                          ],
                          [
                            0.6666666666666666,
                            "#ed7953"
                          ],
                          [
                            0.7777777777777778,
                            "#fb9f3a"
                          ],
                          [
                            0.8888888888888888,
                            "#fdca26"
                          ],
                          [
                            1,
                            "#f0f921"
                          ]
                        ],
                        "type": "histogram2d"
                      }
                    ],
                    "histogram2dcontour": [
                      {
                        "colorbar": {
                          "outlinewidth": 0,
                          "ticks": ""
                        },
                        "colorscale": [
                          [
                            0,
                            "#0d0887"
                          ],
                          [
                            0.1111111111111111,
                            "#46039f"
                          ],
                          [
                            0.2222222222222222,
                            "#7201a8"
                          ],
                          [
                            0.3333333333333333,
                            "#9c179e"
                          ],
                          [
                            0.4444444444444444,
                            "#bd3786"
                          ],
                          [
                            0.5555555555555556,
                            "#d8576b"
                          ],
                          [
                            0.6666666666666666,
                            "#ed7953"
                          ],
                          [
                            0.7777777777777778,
                            "#fb9f3a"
                          ],
                          [
                            0.8888888888888888,
                            "#fdca26"
                          ],
                          [
                            1,
                            "#f0f921"
                          ]
                        ],
                        "type": "histogram2dcontour"
                      }
                    ],
                    "mesh3d": [
                      {
                        "colorbar": {
                          "outlinewidth": 0,
                          "ticks": ""
                        },
                        "type": "mesh3d"
                      }
                    ],
                    "parcoords": [
                      {
                        "line": {
                          "colorbar": {
                            "outlinewidth": 0,
                            "ticks": ""
                          }
                        },
                        "type": "parcoords"
                      }
                    ],
                    "pie": [
                      {
                        "automargin": true,
                        "type": "pie"
                      }
                    ],
                    "scatter": [
                      {
                        "fillpattern": {
                          "fillmode": "overlay",
                          "size": 10,
                          "solidity": 0.2
                        },
                        "type": "scatter"
                      }
                    ],
                    "scatter3d": [
                      {
                        "line": {
                          "colorbar": {
                            "outlinewidth": 0,
                            "ticks": ""
                          }
                        },
                        "marker": {
                          "colorbar": {
                            "outlinewidth": 0,
                            "ticks": ""
                          }
                        },
                        "type": "scatter3d"
                      }
                    ],
                    "scattercarpet": [
                      {
                        "marker": {
                          "colorbar": {
                            "outlinewidth": 0,
                            "ticks": ""
                          }
                        },
                        "type": "scattercarpet"
                      }
                    ],
                    "scattergeo": [
                      {
                        "marker": {
                          "colorbar": {
                            "outlinewidth": 0,
                            "ticks": ""
                          }
                        },
                        "type": "scattergeo"
                      }
                    ],
                    "scattergl": [
                      {
                        "marker": {
                          "colorbar": {
                            "outlinewidth": 0,
                            "ticks": ""
                          }
                        },
                        "type": "scattergl"
                      }
                    ],
                    "scattermapbox": [
                      {
                        "marker": {
                          "colorbar": {
                            "outlinewidth": 0,
                            "ticks": ""
                          }
                        },
                        "type": "scattermapbox"
                      }
                    ],
                    "scatterpolar": [
                      {
                        "marker": {
                          "colorbar": {
                            "outlinewidth": 0,
                            "ticks": ""
                          }
                        },
                        "type": "scatterpolar"
                      }
                    ],
                    "scatterpolargl": [
                      {
                        "marker": {
                          "colorbar": {
                            "outlinewidth": 0,
                            "ticks": ""
                          }
                        },
                        "type": "scatterpolargl"
                      }
                    ],
                    "scatterternary": [
                      {
                        "marker": {
                          "colorbar": {
                            "outlinewidth": 0,
                            "ticks": ""
                          }
                        },
                        "type": "scatterternary"
                      }
                    ],
                    "surface": [
                      {
                        "colorbar": {
                          "outlinewidth": 0,
                          "ticks": ""
                        },
                        "colorscale": [
                          [
                            0,
                            "#0d0887"
                          ],
                          [
                            0.1111111111111111,
                            "#46039f"
                          ],
                          [
                            0.2222222222222222,
                            "#7201a8"
                          ],
                          [
                            0.3333333333333333,
                            "#9c179e"
                          ],
                          [
                            0.4444444444444444,
                            "#bd3786"
                          ],
                          [
                            0.5555555555555556,
                            "#d8576b"
                          ],
                          [
                            0.6666666666666666,
                            "#ed7953"
                          ],
                          [
                            0.7777777777777778,
                            "#fb9f3a"
                          ],
                          [
                            0.8888888888888888,
                            "#fdca26"
                          ],
                          [
                            1,
                            "#f0f921"
                          ]
                        ],
                        "type": "surface"
                      }
                    ],
                    "table": [
                      {
                        "cells": {
                          "fill": {
                            "color": "#EBF0F8"
                          },
                          "line": {
                            "color": "white"
                          }
                        },
                        "header": {
                          "fill": {
                            "color": "#C8D4E3"
                          },
                          "line": {
                            "color": "white"
                          }
                        },
                        "type": "table"
                      }
                    ]
                  },
                  "layout": {
                    "annotationdefaults": {
                      "arrowcolor": "#2a3f5f",
                      "arrowhead": 0,
                      "arrowwidth": 1
                    },
                    "autotypenumbers": "strict",
                    "coloraxis": {
                      "colorbar": {
                        "outlinewidth": 0,
                        "ticks": ""
                      }
                    },
                    "colorscale": {
                      "diverging": [
                        [
                          0,
                          "#8e0152"
                        ],
                        [
                          0.1,
                          "#c51b7d"
                        ],
                        [
                          0.2,
                          "#de77ae"
                        ],
                        [
                          0.3,
                          "#f1b6da"
                        ],
                        [
                          0.4,
                          "#fde0ef"
                        ],
                        [
                          0.5,
                          "#f7f7f7"
                        ],
                        [
                          0.6,
                          "#e6f5d0"
                        ],
                        [
                          0.7,
                          "#b8e186"
                        ],
                        [
                          0.8,
                          "#7fbc41"
                        ],
                        [
                          0.9,
                          "#4d9221"
                        ],
                        [
                          1,
                          "#276419"
                        ]
                      ],
                      "sequential": [
                        [
                          0,
                          "#0d0887"
                        ],
                        [
                          0.1111111111111111,
                          "#46039f"
                        ],
                        [
                          0.2222222222222222,
                          "#7201a8"
                        ],
                        [
                          0.3333333333333333,
                          "#9c179e"
                        ],
                        [
                          0.4444444444444444,
                          "#bd3786"
                        ],
                        [
                          0.5555555555555556,
                          "#d8576b"
                        ],
                        [
                          0.6666666666666666,
                          "#ed7953"
                        ],
                        [
                          0.7777777777777778,
                          "#fb9f3a"
                        ],
                        [
                          0.8888888888888888,
                          "#fdca26"
                        ],
                        [
                          1,
                          "#f0f921"
                        ]
                      ],
                      "sequentialminus": [
                        [
                          0,
                          "#0d0887"
                        ],
                        [
                          0.1111111111111111,
                          "#46039f"
                        ],
                        [
                          0.2222222222222222,
                          "#7201a8"
                        ],
                        [
                          0.3333333333333333,
                          "#9c179e"
                        ],
                        [
                          0.4444444444444444,
                          "#bd3786"
                        ],
                        [
                          0.5555555555555556,
                          "#d8576b"
                        ],
                        [
                          0.6666666666666666,
                          "#ed7953"
                        ],
                        [
                          0.7777777777777778,
                          "#fb9f3a"
                        ],
                        [
                          0.8888888888888888,
                          "#fdca26"
                        ],
                        [
                          1,
                          "#f0f921"
                        ]
                      ]
                    },
                    "colorway": [
                      "#636efa",
                      "#EF553B",
                      "#00cc96",
                      "#ab63fa",
                      "#FFA15A",
                      "#19d3f3",
                      "#FF6692",
                      "#B6E880",
                      "#FF97FF",
                      "#FECB52"
                    ],
                    "font": {
                      "color": "#2a3f5f"
                    },
                    "geo": {
                      "bgcolor": "white",
                      "lakecolor": "white",
                      "landcolor": "#E5ECF6",
                      "showlakes": true,
                      "showland": true,
                      "subunitcolor": "white"
                    },
                    "hoverlabel": {
                      "align": "left"
                    },
                    "hovermode": "closest",
                    "mapbox": {
                      "style": "light"
                    },
                    "paper_bgcolor": "white",
                    "plot_bgcolor": "#E5ECF6",
                    "polar": {
                      "angularaxis": {
                        "gridcolor": "white",
                        "linecolor": "white",
                        "ticks": ""
                      },
                      "bgcolor": "#E5ECF6",
                      "radialaxis": {
                        "gridcolor": "white",
                        "linecolor": "white",
                        "ticks": ""
                      }
                    },
                    "scene": {
                      "xaxis": {
                        "backgroundcolor": "#E5ECF6",
                        "gridcolor": "white",
                        "gridwidth": 2,
                        "linecolor": "white",
                        "showbackground": true,
                        "ticks": "",
                        "zerolinecolor": "white"
                      },
                      "yaxis": {
                        "backgroundcolor": "#E5ECF6",
                        "gridcolor": "white",
                        "gridwidth": 2,
                        "linecolor": "white",
                        "showbackground": true,
                        "ticks": "",
                        "zerolinecolor": "white"
                      },
                      "zaxis": {
                        "backgroundcolor": "#E5ECF6",
                        "gridcolor": "white",
                        "gridwidth": 2,
                        "linecolor": "white",
                        "showbackground": true,
                        "ticks": "",
                        "zerolinecolor": "white"
                      }
                    },
                    "shapedefaults": {
                      "line": {
                        "color": "#2a3f5f"
                      }
                    },
                    "ternary": {
                      "aaxis": {
                        "gridcolor": "white",
                        "linecolor": "white",
                        "ticks": ""
                      },
                      "baxis": {
                        "gridcolor": "white",
                        "linecolor": "white",
                        "ticks": ""
                      },
                      "bgcolor": "#E5ECF6",
                      "caxis": {
                        "gridcolor": "white",
                        "linecolor": "white",
                        "ticks": ""
                      }
                    },
                    "title": {
                      "x": 0.05
                    },
                    "xaxis": {
                      "automargin": true,
                      "gridcolor": "white",
                      "linecolor": "white",
                      "ticks": "",
                      "title": {
                        "standoff": 15
                      },
                      "zerolinecolor": "white",
                      "zerolinewidth": 2
                    },
                    "yaxis": {
                      "automargin": true,
                      "gridcolor": "white",
                      "linecolor": "white",
                      "ticks": "",
                      "title": {
                        "standoff": 15
                      },
                      "zerolinecolor": "white",
                      "zerolinewidth": 2
                    }
                  }
                },
                "title": {
                  "text": "Break Room 最適化結果"
                },
                "xaxis": {
                  "anchor": "y",
                  "domain": [
                    0,
                    1
                  ]
                },
                "xaxis2": {
                  "anchor": "y2",
                  "domain": [
                    0,
                    1
                  ]
                },
                "xaxis3": {
                  "anchor": "y3",
                  "domain": [
                    0,
                    1
                  ]
                },
                "xaxis4": {
                  "anchor": "y4",
                  "domain": [
                    0,
                    1
                  ],
                  "title": {
                    "text": "時刻"
                  }
                },
                "yaxis": {
                  "anchor": "x",
                  "domain": [
                    0.81,
                    1
                  ],
                  "title": {
                    "text": "温度 (°C)"
                  }
                },
                "yaxis2": {
                  "anchor": "x2",
                  "domain": [
                    0.54,
                    0.73
                  ],
                  "title": {
                    "text": "電力 (W)"
                  }
                },
                "yaxis3": {
                  "anchor": "x3",
                  "domain": [
                    0.27,
                    0.46
                  ],
                  "title": {
                    "text": "モード"
                  }
                },
                "yaxis4": {
                  "anchor": "x4",
                  "domain": [
                    0,
                    0.19
                  ],
                  "title": {
                    "text": "ファン速度"
                  }
                }
              }
            }
          },
          "metadata": {},
          "output_type": "display_data"
        },
        {
          "name": "stdout",
          "output_type": "stream",
          "text": [
            "✅ Break Room の可視化完了\n"
          ]
        },
        {
          "data": {
            "application/vnd.plotly.v1+json": {
              "config": {
                "plotlyServerURL": "https://plot.ly"
              },
              "data": [
                {
                  "line": {
                    "color": "red",
                    "width": 2
                  },
                  "name": "設定温度",
                  "type": "scatter",
                  "x": [
                    "2025-10-02T00:00:00",
                    "2025-10-02T01:00:00",
                    "2025-10-02T02:00:00",
                    "2025-10-02T03:00:00",
                    "2025-10-02T04:00:00",
                    "2025-10-02T05:00:00",
                    "2025-10-02T06:00:00",
                    "2025-10-02T07:00:00",
                    "2025-10-02T08:00:00",
                    "2025-10-02T09:00:00",
                    "2025-10-02T10:00:00",
                    "2025-10-02T11:00:00",
                    "2025-10-02T12:00:00",
                    "2025-10-02T13:00:00",
                    "2025-10-02T14:00:00",
                    "2025-10-02T15:00:00",
                    "2025-10-02T16:00:00",
                    "2025-10-02T17:00:00",
                    "2025-10-02T18:00:00",
                    "2025-10-02T19:00:00",
                    "2025-10-02T20:00:00",
                    "2025-10-02T21:00:00",
                    "2025-10-02T22:00:00",
                    "2025-10-02T23:00:00",
                    "2025-10-03T00:00:00",
                    "2025-10-03T01:00:00",
                    "2025-10-03T02:00:00",
                    "2025-10-03T03:00:00",
                    "2025-10-03T04:00:00",
                    "2025-10-03T05:00:00",
                    "2025-10-03T06:00:00",
                    "2025-10-03T07:00:00",
                    "2025-10-03T08:00:00",
                    "2025-10-03T09:00:00",
                    "2025-10-03T10:00:00",
                    "2025-10-03T11:00:00",
                    "2025-10-03T12:00:00",
                    "2025-10-03T13:00:00",
                    "2025-10-03T14:00:00",
                    "2025-10-03T15:00:00",
                    "2025-10-03T16:00:00",
                    "2025-10-03T17:00:00",
                    "2025-10-03T18:00:00",
                    "2025-10-03T19:00:00",
                    "2025-10-03T20:00:00",
                    "2025-10-03T21:00:00",
                    "2025-10-03T22:00:00",
                    "2025-10-03T23:00:00",
                    "2025-10-04T00:00:00",
                    "2025-10-04T01:00:00",
                    "2025-10-04T02:00:00",
                    "2025-10-04T03:00:00",
                    "2025-10-04T04:00:00",
                    "2025-10-04T05:00:00",
                    "2025-10-04T06:00:00",
                    "2025-10-04T07:00:00",
                    "2025-10-04T08:00:00",
                    "2025-10-04T09:00:00",
                    "2025-10-04T10:00:00",
                    "2025-10-04T11:00:00",
                    "2025-10-04T12:00:00",
                    "2025-10-04T13:00:00",
                    "2025-10-04T14:00:00",
                    "2025-10-04T15:00:00",
                    "2025-10-04T16:00:00",
                    "2025-10-04T17:00:00",
                    "2025-10-04T18:00:00",
                    "2025-10-04T19:00:00",
                    "2025-10-04T20:00:00",
                    "2025-10-04T21:00:00",
                    "2025-10-04T22:00:00",
                    "2025-10-04T23:00:00",
                    "2025-10-05T00:00:00"
                  ],
                  "xaxis": "x",
                  "y": [
                    26,
                    25,
                    25,
                    26,
                    25,
                    26,
                    26,
                    25,
                    25,
                    25,
                    25,
                    25,
                    25,
                    25,
                    25,
                    26,
                    26,
                    26,
                    26,
                    25,
                    25,
                    25,
                    25,
                    25,
                    25,
                    25,
                    25,
                    25,
                    25,
                    25,
                    25,
                    25,
                    25,
                    25,
                    25,
                    25,
                    25,
                    25,
                    22,
                    22,
                    26,
                    26,
                    25,
                    25,
                    25,
                    26,
                    26,
                    25,
                    25,
                    26,
                    26,
                    26,
                    26,
                    26,
                    25,
                    25,
                    25,
                    25,
                    25,
                    25,
                    25,
                    26,
                    25,
                    25,
                    25,
                    25,
                    25,
                    25,
                    25,
                    25,
                    25,
                    25,
                    26
                  ],
                  "yaxis": "y"
                },
                {
                  "line": {
                    "color": "blue",
                    "width": 2
                  },
                  "name": "予測室温",
                  "type": "scatter",
                  "x": [
                    "2025-10-02T00:00:00",
                    "2025-10-02T01:00:00",
                    "2025-10-02T02:00:00",
                    "2025-10-02T03:00:00",
                    "2025-10-02T04:00:00",
                    "2025-10-02T05:00:00",
                    "2025-10-02T06:00:00",
                    "2025-10-02T07:00:00",
                    "2025-10-02T08:00:00",
                    "2025-10-02T09:00:00",
                    "2025-10-02T10:00:00",
                    "2025-10-02T11:00:00",
                    "2025-10-02T12:00:00",
                    "2025-10-02T13:00:00",
                    "2025-10-02T14:00:00",
                    "2025-10-02T15:00:00",
                    "2025-10-02T16:00:00",
                    "2025-10-02T17:00:00",
                    "2025-10-02T18:00:00",
                    "2025-10-02T19:00:00",
                    "2025-10-02T20:00:00",
                    "2025-10-02T21:00:00",
                    "2025-10-02T22:00:00",
                    "2025-10-02T23:00:00",
                    "2025-10-03T00:00:00",
                    "2025-10-03T01:00:00",
                    "2025-10-03T02:00:00",
                    "2025-10-03T03:00:00",
                    "2025-10-03T04:00:00",
                    "2025-10-03T05:00:00",
                    "2025-10-03T06:00:00",
                    "2025-10-03T07:00:00",
                    "2025-10-03T08:00:00",
                    "2025-10-03T09:00:00",
                    "2025-10-03T10:00:00",
                    "2025-10-03T11:00:00",
                    "2025-10-03T12:00:00",
                    "2025-10-03T13:00:00",
                    "2025-10-03T14:00:00",
                    "2025-10-03T15:00:00",
                    "2025-10-03T16:00:00",
                    "2025-10-03T17:00:00",
                    "2025-10-03T18:00:00",
                    "2025-10-03T19:00:00",
                    "2025-10-03T20:00:00",
                    "2025-10-03T21:00:00",
                    "2025-10-03T22:00:00",
                    "2025-10-03T23:00:00",
                    "2025-10-04T00:00:00",
                    "2025-10-04T01:00:00",
                    "2025-10-04T02:00:00",
                    "2025-10-04T03:00:00",
                    "2025-10-04T04:00:00",
                    "2025-10-04T05:00:00",
                    "2025-10-04T06:00:00",
                    "2025-10-04T07:00:00",
                    "2025-10-04T08:00:00",
                    "2025-10-04T09:00:00",
                    "2025-10-04T10:00:00",
                    "2025-10-04T11:00:00",
                    "2025-10-04T12:00:00",
                    "2025-10-04T13:00:00",
                    "2025-10-04T14:00:00",
                    "2025-10-04T15:00:00",
                    "2025-10-04T16:00:00",
                    "2025-10-04T17:00:00",
                    "2025-10-04T18:00:00",
                    "2025-10-04T19:00:00",
                    "2025-10-04T20:00:00",
                    "2025-10-04T21:00:00",
                    "2025-10-04T22:00:00",
                    "2025-10-04T23:00:00",
                    "2025-10-05T00:00:00"
                  ],
                  "xaxis": "x",
                  "y": [
                    24.127588383838415,
                    25.49409722222219,
                    26.57965277777777,
                    27.68875874125875,
                    28.692611111111127,
                    28.667319444444402,
                    28.363415404040374,
                    27.88770833333337,
                    27.34785353535355,
                    26.60372685185184,
                    26.132291666666664,
                    25.691016414141412,
                    25.515426767676786,
                    25.378238636363633,
                    25.263011363636387,
                    25.117708333333344,
                    25.090902777777792,
                    25.301319444444463,
                    25.086571969697,
                    25.019703282828324,
                    25.019898989898994,
                    24.478244949494968,
                    24.222708333333312,
                    24.433680555555593,
                    25.146489898989852,
                    25.715730676328477,
                    26.42209722222219,
                    27.25210227272729,
                    28.053760822510814,
                    27.980620791245837,
                    27.64321338383843,
                    26.71832491582492,
                    26.224122474747496,
                    25.755176767676762,
                    25.418080808080795,
                    25.011142676767722,
                    24.81569444444441,
                    24.61701388888884,
                    24.28118055555557,
                    24.04326388888891,
                    23.974595959595987,
                    23.82103851010104,
                    23.668055555555576,
                    23.55958333333336,
                    23.45756944444445,
                    23.352386363636366,
                    23.24198232323231,
                    23.65236111111111,
                    25.361717171717164,
                    25.716458333333318,
                    26.427615079365033,
                    27.473648989899008,
                    28.6321464646465,
                    28.571736111111136,
                    28.40541666666669,
                    28.04171085858588,
                    27.59436868686872,
                    26.353818181818173,
                    25.604804292929305,
                    25.455040404040393,
                    25.304362373737405,
                    24.98728535353537,
                    24.684741161616163,
                    24.672500000000014,
                    24.644027777777783,
                    24.79437499999998,
                    24.853402777777738,
                    24.825397727272698,
                    24.825814393939357,
                    24.70979166666664,
                    24.88784722222219,
                    24.977152777777775,
                    25.944999999999947
                  ],
                  "yaxis": "y"
                },
                {
                  "line": {
                    "color": "green",
                    "width": 2
                  },
                  "name": "予測電力",
                  "type": "scatter",
                  "x": [
                    "2025-10-02T00:00:00",
                    "2025-10-02T01:00:00",
                    "2025-10-02T02:00:00",
                    "2025-10-02T03:00:00",
                    "2025-10-02T04:00:00",
                    "2025-10-02T05:00:00",
                    "2025-10-02T06:00:00",
                    "2025-10-02T07:00:00",
                    "2025-10-02T08:00:00",
                    "2025-10-02T09:00:00",
                    "2025-10-02T10:00:00",
                    "2025-10-02T11:00:00",
                    "2025-10-02T12:00:00",
                    "2025-10-02T13:00:00",
                    "2025-10-02T14:00:00",
                    "2025-10-02T15:00:00",
                    "2025-10-02T16:00:00",
                    "2025-10-02T17:00:00",
                    "2025-10-02T18:00:00",
                    "2025-10-02T19:00:00",
                    "2025-10-02T20:00:00",
                    "2025-10-02T21:00:00",
                    "2025-10-02T22:00:00",
                    "2025-10-02T23:00:00",
                    "2025-10-03T00:00:00",
                    "2025-10-03T01:00:00",
                    "2025-10-03T02:00:00",
                    "2025-10-03T03:00:00",
                    "2025-10-03T04:00:00",
                    "2025-10-03T05:00:00",
                    "2025-10-03T06:00:00",
                    "2025-10-03T07:00:00",
                    "2025-10-03T08:00:00",
                    "2025-10-03T09:00:00",
                    "2025-10-03T10:00:00",
                    "2025-10-03T11:00:00",
                    "2025-10-03T12:00:00",
                    "2025-10-03T13:00:00",
                    "2025-10-03T14:00:00",
                    "2025-10-03T15:00:00",
                    "2025-10-03T16:00:00",
                    "2025-10-03T17:00:00",
                    "2025-10-03T18:00:00",
                    "2025-10-03T19:00:00",
                    "2025-10-03T20:00:00",
                    "2025-10-03T21:00:00",
                    "2025-10-03T22:00:00",
                    "2025-10-03T23:00:00",
                    "2025-10-04T00:00:00",
                    "2025-10-04T01:00:00",
                    "2025-10-04T02:00:00",
                    "2025-10-04T03:00:00",
                    "2025-10-04T04:00:00",
                    "2025-10-04T05:00:00",
                    "2025-10-04T06:00:00",
                    "2025-10-04T07:00:00",
                    "2025-10-04T08:00:00",
                    "2025-10-04T09:00:00",
                    "2025-10-04T10:00:00",
                    "2025-10-04T11:00:00",
                    "2025-10-04T12:00:00",
                    "2025-10-04T13:00:00",
                    "2025-10-04T14:00:00",
                    "2025-10-04T15:00:00",
                    "2025-10-04T16:00:00",
                    "2025-10-04T17:00:00",
                    "2025-10-04T18:00:00",
                    "2025-10-04T19:00:00",
                    "2025-10-04T20:00:00",
                    "2025-10-04T21:00:00",
                    "2025-10-04T22:00:00",
                    "2025-10-04T23:00:00",
                    "2025-10-05T00:00:00"
                  ],
                  "xaxis": "x2",
                  "y": [
                    14777.150000000001,
                    15462.125,
                    21723.22,
                    20284.7,
                    20468.235,
                    20605.675000000003,
                    19780.370000000003,
                    1595695.2000000002,
                    1445355.2999999998,
                    1562712.2999999998,
                    1551117,
                    1704269.7000000002,
                    1282618.7999999998,
                    1288217.7000000002,
                    1097723.1,
                    1278278.4,
                    1219154.7000000002,
                    1175820.2999999998,
                    1136339.4,
                    1050964.7999999998,
                    1087061.1,
                    13586.300000000001,
                    14477.050000000001,
                    14469.245000000003,
                    15863.529999999999,
                    17126.325,
                    19528.085000000003,
                    19882.395000000004,
                    20562.235,
                    20807.070000000003,
                    20427,
                    1857466.7999999998,
                    1755768.9000000001,
                    1783514.4000000001,
                    1346671.5,
                    1299109.7999999998,
                    1213132.7999999998,
                    1152263.1,
                    955037,
                    1100741.1,
                    1092066,
                    1033575,
                    1060189.7999999998,
                    1070628.9,
                    1128766.7999999998,
                    7855.94,
                    8129.145,
                    8162.54,
                    3637.965,
                    8143.125,
                    5318.895,
                    10091.050000000001,
                    7567.99,
                    6397.9800000000005,
                    5689.4400000000005,
                    1504754.4,
                    1334058,
                    1538086.5,
                    1649268.9000000001,
                    1217353.5,
                    1236836.1,
                    1178365.2000000002,
                    1121143.5,
                    1251542.1,
                    1223350.56,
                    1201371.2999999998,
                    1021618.5,
                    1046282.7000000001,
                    1020043.2000000001,
                    2452.455,
                    2646.735,
                    3560.15,
                    8411.235
                  ],
                  "yaxis": "y2"
                },
                {
                  "marker": {
                    "color": "orange",
                    "size": 6
                  },
                  "mode": "markers",
                  "name": "運転モード",
                  "type": "scatter",
                  "x": [
                    "2025-10-02T00:00:00",
                    "2025-10-02T01:00:00",
                    "2025-10-02T02:00:00",
                    "2025-10-02T03:00:00",
                    "2025-10-02T04:00:00",
                    "2025-10-02T05:00:00",
                    "2025-10-02T06:00:00",
                    "2025-10-02T07:00:00",
                    "2025-10-02T08:00:00",
                    "2025-10-02T09:00:00",
                    "2025-10-02T10:00:00",
                    "2025-10-02T11:00:00",
                    "2025-10-02T12:00:00",
                    "2025-10-02T13:00:00",
                    "2025-10-02T14:00:00",
                    "2025-10-02T15:00:00",
                    "2025-10-02T16:00:00",
                    "2025-10-02T17:00:00",
                    "2025-10-02T18:00:00",
                    "2025-10-02T19:00:00",
                    "2025-10-02T20:00:00",
                    "2025-10-02T21:00:00",
                    "2025-10-02T22:00:00",
                    "2025-10-02T23:00:00",
                    "2025-10-03T00:00:00",
                    "2025-10-03T01:00:00",
                    "2025-10-03T02:00:00",
                    "2025-10-03T03:00:00",
                    "2025-10-03T04:00:00",
                    "2025-10-03T05:00:00",
                    "2025-10-03T06:00:00",
                    "2025-10-03T07:00:00",
                    "2025-10-03T08:00:00",
                    "2025-10-03T09:00:00",
                    "2025-10-03T10:00:00",
                    "2025-10-03T11:00:00",
                    "2025-10-03T12:00:00",
                    "2025-10-03T13:00:00",
                    "2025-10-03T14:00:00",
                    "2025-10-03T15:00:00",
                    "2025-10-03T16:00:00",
                    "2025-10-03T17:00:00",
                    "2025-10-03T18:00:00",
                    "2025-10-03T19:00:00",
                    "2025-10-03T20:00:00",
                    "2025-10-03T21:00:00",
                    "2025-10-03T22:00:00",
                    "2025-10-03T23:00:00",
                    "2025-10-04T00:00:00",
                    "2025-10-04T01:00:00",
                    "2025-10-04T02:00:00",
                    "2025-10-04T03:00:00",
                    "2025-10-04T04:00:00",
                    "2025-10-04T05:00:00",
                    "2025-10-04T06:00:00",
                    "2025-10-04T07:00:00",
                    "2025-10-04T08:00:00",
                    "2025-10-04T09:00:00",
                    "2025-10-04T10:00:00",
                    "2025-10-04T11:00:00",
                    "2025-10-04T12:00:00",
                    "2025-10-04T13:00:00",
                    "2025-10-04T14:00:00",
                    "2025-10-04T15:00:00",
                    "2025-10-04T16:00:00",
                    "2025-10-04T17:00:00",
                    "2025-10-04T18:00:00",
                    "2025-10-04T19:00:00",
                    "2025-10-04T20:00:00",
                    "2025-10-04T21:00:00",
                    "2025-10-04T22:00:00",
                    "2025-10-04T23:00:00",
                    "2025-10-05T00:00:00"
                  ],
                  "xaxis": "x3",
                  "y": [
                    0,
                    2,
                    2,
                    2,
                    2,
                    2,
                    2,
                    0,
                    0,
                    0,
                    0,
                    0,
                    0,
                    0,
                    0,
                    0,
                    0,
                    0,
                    0,
                    0,
                    0,
                    2,
                    2,
                    0,
                    2,
                    2,
                    2,
                    2,
                    2,
                    2,
                    2,
                    2,
                    0,
                    0,
                    0,
                    0,
                    0,
                    0,
                    2,
                    2,
                    0,
                    0,
                    0,
                    0,
                    0,
                    0,
                    0,
                    0,
                    0,
                    0,
                    0,
                    0,
                    0,
                    0,
                    0,
                    0,
                    0,
                    2,
                    0,
                    0,
                    0,
                    0,
                    0,
                    0,
                    0,
                    0,
                    0,
                    0,
                    0,
                    0,
                    0,
                    0,
                    0
                  ],
                  "yaxis": "y3"
                },
                {
                  "marker": {
                    "color": "purple",
                    "size": 6
                  },
                  "mode": "markers",
                  "name": "ファン速度",
                  "type": "scatter",
                  "x": [
                    "2025-10-02T00:00:00",
                    "2025-10-02T01:00:00",
                    "2025-10-02T02:00:00",
                    "2025-10-02T03:00:00",
                    "2025-10-02T04:00:00",
                    "2025-10-02T05:00:00",
                    "2025-10-02T06:00:00",
                    "2025-10-02T07:00:00",
                    "2025-10-02T08:00:00",
                    "2025-10-02T09:00:00",
                    "2025-10-02T10:00:00",
                    "2025-10-02T11:00:00",
                    "2025-10-02T12:00:00",
                    "2025-10-02T13:00:00",
                    "2025-10-02T14:00:00",
                    "2025-10-02T15:00:00",
                    "2025-10-02T16:00:00",
                    "2025-10-02T17:00:00",
                    "2025-10-02T18:00:00",
                    "2025-10-02T19:00:00",
                    "2025-10-02T20:00:00",
                    "2025-10-02T21:00:00",
                    "2025-10-02T22:00:00",
                    "2025-10-02T23:00:00",
                    "2025-10-03T00:00:00",
                    "2025-10-03T01:00:00",
                    "2025-10-03T02:00:00",
                    "2025-10-03T03:00:00",
                    "2025-10-03T04:00:00",
                    "2025-10-03T05:00:00",
                    "2025-10-03T06:00:00",
                    "2025-10-03T07:00:00",
                    "2025-10-03T08:00:00",
                    "2025-10-03T09:00:00",
                    "2025-10-03T10:00:00",
                    "2025-10-03T11:00:00",
                    "2025-10-03T12:00:00",
                    "2025-10-03T13:00:00",
                    "2025-10-03T14:00:00",
                    "2025-10-03T15:00:00",
                    "2025-10-03T16:00:00",
                    "2025-10-03T17:00:00",
                    "2025-10-03T18:00:00",
                    "2025-10-03T19:00:00",
                    "2025-10-03T20:00:00",
                    "2025-10-03T21:00:00",
                    "2025-10-03T22:00:00",
                    "2025-10-03T23:00:00",
                    "2025-10-04T00:00:00",
                    "2025-10-04T01:00:00",
                    "2025-10-04T02:00:00",
                    "2025-10-04T03:00:00",
                    "2025-10-04T04:00:00",
                    "2025-10-04T05:00:00",
                    "2025-10-04T06:00:00",
                    "2025-10-04T07:00:00",
                    "2025-10-04T08:00:00",
                    "2025-10-04T09:00:00",
                    "2025-10-04T10:00:00",
                    "2025-10-04T11:00:00",
                    "2025-10-04T12:00:00",
                    "2025-10-04T13:00:00",
                    "2025-10-04T14:00:00",
                    "2025-10-04T15:00:00",
                    "2025-10-04T16:00:00",
                    "2025-10-04T17:00:00",
                    "2025-10-04T18:00:00",
                    "2025-10-04T19:00:00",
                    "2025-10-04T20:00:00",
                    "2025-10-04T21:00:00",
                    "2025-10-04T22:00:00",
                    "2025-10-04T23:00:00",
                    "2025-10-05T00:00:00"
                  ],
                  "xaxis": "x4",
                  "y": [
                    2,
                    1,
                    2,
                    1,
                    2,
                    2,
                    2,
                    1,
                    1,
                    1,
                    1,
                    1,
                    1,
                    2,
                    2,
                    2,
                    2,
                    2,
                    2,
                    2,
                    1,
                    1,
                    2,
                    1,
                    1,
                    2,
                    2,
                    1,
                    2,
                    1,
                    1,
                    1,
                    1,
                    1,
                    1,
                    2,
                    2,
                    2,
                    2,
                    2,
                    2,
                    2,
                    1,
                    2,
                    1,
                    1,
                    1,
                    1,
                    1,
                    1,
                    1,
                    2,
                    1,
                    1,
                    1,
                    1,
                    1,
                    1,
                    1,
                    2,
                    2,
                    2,
                    2,
                    2,
                    1,
                    2,
                    2,
                    1,
                    2,
                    1,
                    1,
                    1,
                    1
                  ],
                  "yaxis": "y4"
                }
              ],
              "layout": {
                "annotations": [
                  {
                    "font": {
                      "size": 16
                    },
                    "showarrow": false,
                    "text": "Area 2 - 設定温度・予測室温",
                    "x": 0.5,
                    "xanchor": "center",
                    "xref": "paper",
                    "y": 1,
                    "yanchor": "bottom",
                    "yref": "paper"
                  },
                  {
                    "font": {
                      "size": 16
                    },
                    "showarrow": false,
                    "text": "Area 2 - 予測電力",
                    "x": 0.5,
                    "xanchor": "center",
                    "xref": "paper",
                    "y": 0.73,
                    "yanchor": "bottom",
                    "yref": "paper"
                  },
                  {
                    "font": {
                      "size": 16
                    },
                    "showarrow": false,
                    "text": "Area 2 - 運転モード",
                    "x": 0.5,
                    "xanchor": "center",
                    "xref": "paper",
                    "y": 0.46,
                    "yanchor": "bottom",
                    "yref": "paper"
                  },
                  {
                    "font": {
                      "size": 16
                    },
                    "showarrow": false,
                    "text": "Area 2 - ファン速度",
                    "x": 0.5,
                    "xanchor": "center",
                    "xref": "paper",
                    "y": 0.19,
                    "yanchor": "bottom",
                    "yref": "paper"
                  }
                ],
                "height": 800,
                "showlegend": true,
                "template": {
                  "data": {
                    "bar": [
                      {
                        "error_x": {
                          "color": "#2a3f5f"
                        },
                        "error_y": {
                          "color": "#2a3f5f"
                        },
                        "marker": {
                          "line": {
                            "color": "#E5ECF6",
                            "width": 0.5
                          },
                          "pattern": {
                            "fillmode": "overlay",
                            "size": 10,
                            "solidity": 0.2
                          }
                        },
                        "type": "bar"
                      }
                    ],
                    "barpolar": [
                      {
                        "marker": {
                          "line": {
                            "color": "#E5ECF6",
                            "width": 0.5
                          },
                          "pattern": {
                            "fillmode": "overlay",
                            "size": 10,
                            "solidity": 0.2
                          }
                        },
                        "type": "barpolar"
                      }
                    ],
                    "carpet": [
                      {
                        "aaxis": {
                          "endlinecolor": "#2a3f5f",
                          "gridcolor": "white",
                          "linecolor": "white",
                          "minorgridcolor": "white",
                          "startlinecolor": "#2a3f5f"
                        },
                        "baxis": {
                          "endlinecolor": "#2a3f5f",
                          "gridcolor": "white",
                          "linecolor": "white",
                          "minorgridcolor": "white",
                          "startlinecolor": "#2a3f5f"
                        },
                        "type": "carpet"
                      }
                    ],
                    "choropleth": [
                      {
                        "colorbar": {
                          "outlinewidth": 0,
                          "ticks": ""
                        },
                        "type": "choropleth"
                      }
                    ],
                    "contour": [
                      {
                        "colorbar": {
                          "outlinewidth": 0,
                          "ticks": ""
                        },
                        "colorscale": [
                          [
                            0,
                            "#0d0887"
                          ],
                          [
                            0.1111111111111111,
                            "#46039f"
                          ],
                          [
                            0.2222222222222222,
                            "#7201a8"
                          ],
                          [
                            0.3333333333333333,
                            "#9c179e"
                          ],
                          [
                            0.4444444444444444,
                            "#bd3786"
                          ],
                          [
                            0.5555555555555556,
                            "#d8576b"
                          ],
                          [
                            0.6666666666666666,
                            "#ed7953"
                          ],
                          [
                            0.7777777777777778,
                            "#fb9f3a"
                          ],
                          [
                            0.8888888888888888,
                            "#fdca26"
                          ],
                          [
                            1,
                            "#f0f921"
                          ]
                        ],
                        "type": "contour"
                      }
                    ],
                    "contourcarpet": [
                      {
                        "colorbar": {
                          "outlinewidth": 0,
                          "ticks": ""
                        },
                        "type": "contourcarpet"
                      }
                    ],
                    "heatmap": [
                      {
                        "colorbar": {
                          "outlinewidth": 0,
                          "ticks": ""
                        },
                        "colorscale": [
                          [
                            0,
                            "#0d0887"
                          ],
                          [
                            0.1111111111111111,
                            "#46039f"
                          ],
                          [
                            0.2222222222222222,
                            "#7201a8"
                          ],
                          [
                            0.3333333333333333,
                            "#9c179e"
                          ],
                          [
                            0.4444444444444444,
                            "#bd3786"
                          ],
                          [
                            0.5555555555555556,
                            "#d8576b"
                          ],
                          [
                            0.6666666666666666,
                            "#ed7953"
                          ],
                          [
                            0.7777777777777778,
                            "#fb9f3a"
                          ],
                          [
                            0.8888888888888888,
                            "#fdca26"
                          ],
                          [
                            1,
                            "#f0f921"
                          ]
                        ],
                        "type": "heatmap"
                      }
                    ],
                    "heatmapgl": [
                      {
                        "colorbar": {
                          "outlinewidth": 0,
                          "ticks": ""
                        },
                        "colorscale": [
                          [
                            0,
                            "#0d0887"
                          ],
                          [
                            0.1111111111111111,
                            "#46039f"
                          ],
                          [
                            0.2222222222222222,
                            "#7201a8"
                          ],
                          [
                            0.3333333333333333,
                            "#9c179e"
                          ],
                          [
                            0.4444444444444444,
                            "#bd3786"
                          ],
                          [
                            0.5555555555555556,
                            "#d8576b"
                          ],
                          [
                            0.6666666666666666,
                            "#ed7953"
                          ],
                          [
                            0.7777777777777778,
                            "#fb9f3a"
                          ],
                          [
                            0.8888888888888888,
                            "#fdca26"
                          ],
                          [
                            1,
                            "#f0f921"
                          ]
                        ],
                        "type": "heatmapgl"
                      }
                    ],
                    "histogram": [
                      {
                        "marker": {
                          "pattern": {
                            "fillmode": "overlay",
                            "size": 10,
                            "solidity": 0.2
                          }
                        },
                        "type": "histogram"
                      }
                    ],
                    "histogram2d": [
                      {
                        "colorbar": {
                          "outlinewidth": 0,
                          "ticks": ""
                        },
                        "colorscale": [
                          [
                            0,
                            "#0d0887"
                          ],
                          [
                            0.1111111111111111,
                            "#46039f"
                          ],
                          [
                            0.2222222222222222,
                            "#7201a8"
                          ],
                          [
                            0.3333333333333333,
                            "#9c179e"
                          ],
                          [
                            0.4444444444444444,
                            "#bd3786"
                          ],
                          [
                            0.5555555555555556,
                            "#d8576b"
                          ],
                          [
                            0.6666666666666666,
                            "#ed7953"
                          ],
                          [
                            0.7777777777777778,
                            "#fb9f3a"
                          ],
                          [
                            0.8888888888888888,
                            "#fdca26"
                          ],
                          [
                            1,
                            "#f0f921"
                          ]
                        ],
                        "type": "histogram2d"
                      }
                    ],
                    "histogram2dcontour": [
                      {
                        "colorbar": {
                          "outlinewidth": 0,
                          "ticks": ""
                        },
                        "colorscale": [
                          [
                            0,
                            "#0d0887"
                          ],
                          [
                            0.1111111111111111,
                            "#46039f"
                          ],
                          [
                            0.2222222222222222,
                            "#7201a8"
                          ],
                          [
                            0.3333333333333333,
                            "#9c179e"
                          ],
                          [
                            0.4444444444444444,
                            "#bd3786"
                          ],
                          [
                            0.5555555555555556,
                            "#d8576b"
                          ],
                          [
                            0.6666666666666666,
                            "#ed7953"
                          ],
                          [
                            0.7777777777777778,
                            "#fb9f3a"
                          ],
                          [
                            0.8888888888888888,
                            "#fdca26"
                          ],
                          [
                            1,
                            "#f0f921"
                          ]
                        ],
                        "type": "histogram2dcontour"
                      }
                    ],
                    "mesh3d": [
                      {
                        "colorbar": {
                          "outlinewidth": 0,
                          "ticks": ""
                        },
                        "type": "mesh3d"
                      }
                    ],
                    "parcoords": [
                      {
                        "line": {
                          "colorbar": {
                            "outlinewidth": 0,
                            "ticks": ""
                          }
                        },
                        "type": "parcoords"
                      }
                    ],
                    "pie": [
                      {
                        "automargin": true,
                        "type": "pie"
                      }
                    ],
                    "scatter": [
                      {
                        "fillpattern": {
                          "fillmode": "overlay",
                          "size": 10,
                          "solidity": 0.2
                        },
                        "type": "scatter"
                      }
                    ],
                    "scatter3d": [
                      {
                        "line": {
                          "colorbar": {
                            "outlinewidth": 0,
                            "ticks": ""
                          }
                        },
                        "marker": {
                          "colorbar": {
                            "outlinewidth": 0,
                            "ticks": ""
                          }
                        },
                        "type": "scatter3d"
                      }
                    ],
                    "scattercarpet": [
                      {
                        "marker": {
                          "colorbar": {
                            "outlinewidth": 0,
                            "ticks": ""
                          }
                        },
                        "type": "scattercarpet"
                      }
                    ],
                    "scattergeo": [
                      {
                        "marker": {
                          "colorbar": {
                            "outlinewidth": 0,
                            "ticks": ""
                          }
                        },
                        "type": "scattergeo"
                      }
                    ],
                    "scattergl": [
                      {
                        "marker": {
                          "colorbar": {
                            "outlinewidth": 0,
                            "ticks": ""
                          }
                        },
                        "type": "scattergl"
                      }
                    ],
                    "scattermapbox": [
                      {
                        "marker": {
                          "colorbar": {
                            "outlinewidth": 0,
                            "ticks": ""
                          }
                        },
                        "type": "scattermapbox"
                      }
                    ],
                    "scatterpolar": [
                      {
                        "marker": {
                          "colorbar": {
                            "outlinewidth": 0,
                            "ticks": ""
                          }
                        },
                        "type": "scatterpolar"
                      }
                    ],
                    "scatterpolargl": [
                      {
                        "marker": {
                          "colorbar": {
                            "outlinewidth": 0,
                            "ticks": ""
                          }
                        },
                        "type": "scatterpolargl"
                      }
                    ],
                    "scatterternary": [
                      {
                        "marker": {
                          "colorbar": {
                            "outlinewidth": 0,
                            "ticks": ""
                          }
                        },
                        "type": "scatterternary"
                      }
                    ],
                    "surface": [
                      {
                        "colorbar": {
                          "outlinewidth": 0,
                          "ticks": ""
                        },
                        "colorscale": [
                          [
                            0,
                            "#0d0887"
                          ],
                          [
                            0.1111111111111111,
                            "#46039f"
                          ],
                          [
                            0.2222222222222222,
                            "#7201a8"
                          ],
                          [
                            0.3333333333333333,
                            "#9c179e"
                          ],
                          [
                            0.4444444444444444,
                            "#bd3786"
                          ],
                          [
                            0.5555555555555556,
                            "#d8576b"
                          ],
                          [
                            0.6666666666666666,
                            "#ed7953"
                          ],
                          [
                            0.7777777777777778,
                            "#fb9f3a"
                          ],
                          [
                            0.8888888888888888,
                            "#fdca26"
                          ],
                          [
                            1,
                            "#f0f921"
                          ]
                        ],
                        "type": "surface"
                      }
                    ],
                    "table": [
                      {
                        "cells": {
                          "fill": {
                            "color": "#EBF0F8"
                          },
                          "line": {
                            "color": "white"
                          }
                        },
                        "header": {
                          "fill": {
                            "color": "#C8D4E3"
                          },
                          "line": {
                            "color": "white"
                          }
                        },
                        "type": "table"
                      }
                    ]
                  },
                  "layout": {
                    "annotationdefaults": {
                      "arrowcolor": "#2a3f5f",
                      "arrowhead": 0,
                      "arrowwidth": 1
                    },
                    "autotypenumbers": "strict",
                    "coloraxis": {
                      "colorbar": {
                        "outlinewidth": 0,
                        "ticks": ""
                      }
                    },
                    "colorscale": {
                      "diverging": [
                        [
                          0,
                          "#8e0152"
                        ],
                        [
                          0.1,
                          "#c51b7d"
                        ],
                        [
                          0.2,
                          "#de77ae"
                        ],
                        [
                          0.3,
                          "#f1b6da"
                        ],
                        [
                          0.4,
                          "#fde0ef"
                        ],
                        [
                          0.5,
                          "#f7f7f7"
                        ],
                        [
                          0.6,
                          "#e6f5d0"
                        ],
                        [
                          0.7,
                          "#b8e186"
                        ],
                        [
                          0.8,
                          "#7fbc41"
                        ],
                        [
                          0.9,
                          "#4d9221"
                        ],
                        [
                          1,
                          "#276419"
                        ]
                      ],
                      "sequential": [
                        [
                          0,
                          "#0d0887"
                        ],
                        [
                          0.1111111111111111,
                          "#46039f"
                        ],
                        [
                          0.2222222222222222,
                          "#7201a8"
                        ],
                        [
                          0.3333333333333333,
                          "#9c179e"
                        ],
                        [
                          0.4444444444444444,
                          "#bd3786"
                        ],
                        [
                          0.5555555555555556,
                          "#d8576b"
                        ],
                        [
                          0.6666666666666666,
                          "#ed7953"
                        ],
                        [
                          0.7777777777777778,
                          "#fb9f3a"
                        ],
                        [
                          0.8888888888888888,
                          "#fdca26"
                        ],
                        [
                          1,
                          "#f0f921"
                        ]
                      ],
                      "sequentialminus": [
                        [
                          0,
                          "#0d0887"
                        ],
                        [
                          0.1111111111111111,
                          "#46039f"
                        ],
                        [
                          0.2222222222222222,
                          "#7201a8"
                        ],
                        [
                          0.3333333333333333,
                          "#9c179e"
                        ],
                        [
                          0.4444444444444444,
                          "#bd3786"
                        ],
                        [
                          0.5555555555555556,
                          "#d8576b"
                        ],
                        [
                          0.6666666666666666,
                          "#ed7953"
                        ],
                        [
                          0.7777777777777778,
                          "#fb9f3a"
                        ],
                        [
                          0.8888888888888888,
                          "#fdca26"
                        ],
                        [
                          1,
                          "#f0f921"
                        ]
                      ]
                    },
                    "colorway": [
                      "#636efa",
                      "#EF553B",
                      "#00cc96",
                      "#ab63fa",
                      "#FFA15A",
                      "#19d3f3",
                      "#FF6692",
                      "#B6E880",
                      "#FF97FF",
                      "#FECB52"
                    ],
                    "font": {
                      "color": "#2a3f5f"
                    },
                    "geo": {
                      "bgcolor": "white",
                      "lakecolor": "white",
                      "landcolor": "#E5ECF6",
                      "showlakes": true,
                      "showland": true,
                      "subunitcolor": "white"
                    },
                    "hoverlabel": {
                      "align": "left"
                    },
                    "hovermode": "closest",
                    "mapbox": {
                      "style": "light"
                    },
                    "paper_bgcolor": "white",
                    "plot_bgcolor": "#E5ECF6",
                    "polar": {
                      "angularaxis": {
                        "gridcolor": "white",
                        "linecolor": "white",
                        "ticks": ""
                      },
                      "bgcolor": "#E5ECF6",
                      "radialaxis": {
                        "gridcolor": "white",
                        "linecolor": "white",
                        "ticks": ""
                      }
                    },
                    "scene": {
                      "xaxis": {
                        "backgroundcolor": "#E5ECF6",
                        "gridcolor": "white",
                        "gridwidth": 2,
                        "linecolor": "white",
                        "showbackground": true,
                        "ticks": "",
                        "zerolinecolor": "white"
                      },
                      "yaxis": {
                        "backgroundcolor": "#E5ECF6",
                        "gridcolor": "white",
                        "gridwidth": 2,
                        "linecolor": "white",
                        "showbackground": true,
                        "ticks": "",
                        "zerolinecolor": "white"
                      },
                      "zaxis": {
                        "backgroundcolor": "#E5ECF6",
                        "gridcolor": "white",
                        "gridwidth": 2,
                        "linecolor": "white",
                        "showbackground": true,
                        "ticks": "",
                        "zerolinecolor": "white"
                      }
                    },
                    "shapedefaults": {
                      "line": {
                        "color": "#2a3f5f"
                      }
                    },
                    "ternary": {
                      "aaxis": {
                        "gridcolor": "white",
                        "linecolor": "white",
                        "ticks": ""
                      },
                      "baxis": {
                        "gridcolor": "white",
                        "linecolor": "white",
                        "ticks": ""
                      },
                      "bgcolor": "#E5ECF6",
                      "caxis": {
                        "gridcolor": "white",
                        "linecolor": "white",
                        "ticks": ""
                      }
                    },
                    "title": {
                      "x": 0.05
                    },
                    "xaxis": {
                      "automargin": true,
                      "gridcolor": "white",
                      "linecolor": "white",
                      "ticks": "",
                      "title": {
                        "standoff": 15
                      },
                      "zerolinecolor": "white",
                      "zerolinewidth": 2
                    },
                    "yaxis": {
                      "automargin": true,
                      "gridcolor": "white",
                      "linecolor": "white",
                      "ticks": "",
                      "title": {
                        "standoff": 15
                      },
                      "zerolinecolor": "white",
                      "zerolinewidth": 2
                    }
                  }
                },
                "title": {
                  "text": "Area 2 最適化結果"
                },
                "xaxis": {
                  "anchor": "y",
                  "domain": [
                    0,
                    1
                  ]
                },
                "xaxis2": {
                  "anchor": "y2",
                  "domain": [
                    0,
                    1
                  ]
                },
                "xaxis3": {
                  "anchor": "y3",
                  "domain": [
                    0,
                    1
                  ]
                },
                "xaxis4": {
                  "anchor": "y4",
                  "domain": [
                    0,
                    1
                  ],
                  "title": {
                    "text": "時刻"
                  }
                },
                "yaxis": {
                  "anchor": "x",
                  "domain": [
                    0.81,
                    1
                  ],
                  "title": {
                    "text": "温度 (°C)"
                  }
                },
                "yaxis2": {
                  "anchor": "x2",
                  "domain": [
                    0.54,
                    0.73
                  ],
                  "title": {
                    "text": "電力 (W)"
                  }
                },
                "yaxis3": {
                  "anchor": "x3",
                  "domain": [
                    0.27,
                    0.46
                  ],
                  "title": {
                    "text": "モード"
                  }
                },
                "yaxis4": {
                  "anchor": "x4",
                  "domain": [
                    0,
                    0.19
                  ],
                  "title": {
                    "text": "ファン速度"
                  }
                }
              }
            }
          },
          "metadata": {},
          "output_type": "display_data"
        },
        {
          "name": "stdout",
          "output_type": "stream",
          "text": [
            "✅ Area 2 の可視化完了\n"
          ]
        },
        {
          "data": {
            "application/vnd.plotly.v1+json": {
              "config": {
                "plotlyServerURL": "https://plot.ly"
              },
              "data": [
                {
                  "line": {
                    "color": "red",
                    "width": 2
                  },
                  "name": "設定温度",
                  "type": "scatter",
                  "x": [
                    "2025-10-02T00:00:00",
                    "2025-10-02T01:00:00",
                    "2025-10-02T02:00:00",
                    "2025-10-02T03:00:00",
                    "2025-10-02T04:00:00",
                    "2025-10-02T05:00:00",
                    "2025-10-02T06:00:00",
                    "2025-10-02T07:00:00",
                    "2025-10-02T08:00:00",
                    "2025-10-02T09:00:00",
                    "2025-10-02T10:00:00",
                    "2025-10-02T11:00:00",
                    "2025-10-02T12:00:00",
                    "2025-10-02T13:00:00",
                    "2025-10-02T14:00:00",
                    "2025-10-02T15:00:00",
                    "2025-10-02T16:00:00",
                    "2025-10-02T17:00:00",
                    "2025-10-02T18:00:00",
                    "2025-10-02T19:00:00",
                    "2025-10-02T20:00:00",
                    "2025-10-02T21:00:00",
                    "2025-10-02T22:00:00",
                    "2025-10-02T23:00:00",
                    "2025-10-03T00:00:00",
                    "2025-10-03T01:00:00",
                    "2025-10-03T02:00:00",
                    "2025-10-03T03:00:00",
                    "2025-10-03T04:00:00",
                    "2025-10-03T05:00:00",
                    "2025-10-03T06:00:00",
                    "2025-10-03T07:00:00",
                    "2025-10-03T08:00:00",
                    "2025-10-03T09:00:00",
                    "2025-10-03T10:00:00",
                    "2025-10-03T11:00:00",
                    "2025-10-03T12:00:00",
                    "2025-10-03T13:00:00",
                    "2025-10-03T14:00:00",
                    "2025-10-03T15:00:00",
                    "2025-10-03T16:00:00",
                    "2025-10-03T17:00:00",
                    "2025-10-03T18:00:00",
                    "2025-10-03T19:00:00",
                    "2025-10-03T20:00:00",
                    "2025-10-03T21:00:00",
                    "2025-10-03T22:00:00",
                    "2025-10-03T23:00:00",
                    "2025-10-04T00:00:00",
                    "2025-10-04T01:00:00",
                    "2025-10-04T02:00:00",
                    "2025-10-04T03:00:00",
                    "2025-10-04T04:00:00",
                    "2025-10-04T05:00:00",
                    "2025-10-04T06:00:00",
                    "2025-10-04T07:00:00",
                    "2025-10-04T08:00:00",
                    "2025-10-04T09:00:00",
                    "2025-10-04T10:00:00",
                    "2025-10-04T11:00:00",
                    "2025-10-04T12:00:00",
                    "2025-10-04T13:00:00",
                    "2025-10-04T14:00:00",
                    "2025-10-04T15:00:00",
                    "2025-10-04T16:00:00",
                    "2025-10-04T17:00:00",
                    "2025-10-04T18:00:00",
                    "2025-10-04T19:00:00",
                    "2025-10-04T20:00:00",
                    "2025-10-04T21:00:00",
                    "2025-10-04T22:00:00",
                    "2025-10-04T23:00:00",
                    "2025-10-05T00:00:00"
                  ],
                  "xaxis": "x",
                  "y": [
                    25,
                    25,
                    25,
                    25,
                    25,
                    25,
                    25,
                    25,
                    25,
                    25,
                    25,
                    25,
                    25,
                    25,
                    25,
                    25,
                    25,
                    25,
                    25,
                    25,
                    25,
                    25,
                    25,
                    25,
                    25,
                    25,
                    25,
                    25,
                    25,
                    25,
                    25,
                    25,
                    25,
                    25,
                    25,
                    25,
                    25,
                    25,
                    25,
                    25,
                    25,
                    25,
                    25,
                    25,
                    25,
                    25,
                    25,
                    25,
                    25,
                    25,
                    25,
                    25,
                    25,
                    25,
                    25,
                    25,
                    25,
                    25,
                    25,
                    25,
                    25,
                    25,
                    25,
                    25,
                    25,
                    25,
                    25,
                    25,
                    25,
                    25,
                    25,
                    25,
                    25
                  ],
                  "yaxis": "y"
                },
                {
                  "line": {
                    "color": "blue",
                    "width": 2
                  },
                  "name": "予測室温",
                  "type": "scatter",
                  "x": [
                    "2025-10-02T00:00:00",
                    "2025-10-02T01:00:00",
                    "2025-10-02T02:00:00",
                    "2025-10-02T03:00:00",
                    "2025-10-02T04:00:00",
                    "2025-10-02T05:00:00",
                    "2025-10-02T06:00:00",
                    "2025-10-02T07:00:00",
                    "2025-10-02T08:00:00",
                    "2025-10-02T09:00:00",
                    "2025-10-02T10:00:00",
                    "2025-10-02T11:00:00",
                    "2025-10-02T12:00:00",
                    "2025-10-02T13:00:00",
                    "2025-10-02T14:00:00",
                    "2025-10-02T15:00:00",
                    "2025-10-02T16:00:00",
                    "2025-10-02T17:00:00",
                    "2025-10-02T18:00:00",
                    "2025-10-02T19:00:00",
                    "2025-10-02T20:00:00",
                    "2025-10-02T21:00:00",
                    "2025-10-02T22:00:00",
                    "2025-10-02T23:00:00",
                    "2025-10-03T00:00:00",
                    "2025-10-03T01:00:00",
                    "2025-10-03T02:00:00",
                    "2025-10-03T03:00:00",
                    "2025-10-03T04:00:00",
                    "2025-10-03T05:00:00",
                    "2025-10-03T06:00:00",
                    "2025-10-03T07:00:00",
                    "2025-10-03T08:00:00",
                    "2025-10-03T09:00:00",
                    "2025-10-03T10:00:00",
                    "2025-10-03T11:00:00",
                    "2025-10-03T12:00:00",
                    "2025-10-03T13:00:00",
                    "2025-10-03T14:00:00",
                    "2025-10-03T15:00:00",
                    "2025-10-03T16:00:00",
                    "2025-10-03T17:00:00",
                    "2025-10-03T18:00:00",
                    "2025-10-03T19:00:00",
                    "2025-10-03T20:00:00",
                    "2025-10-03T21:00:00",
                    "2025-10-03T22:00:00",
                    "2025-10-03T23:00:00",
                    "2025-10-04T00:00:00",
                    "2025-10-04T01:00:00",
                    "2025-10-04T02:00:00",
                    "2025-10-04T03:00:00",
                    "2025-10-04T04:00:00",
                    "2025-10-04T05:00:00",
                    "2025-10-04T06:00:00",
                    "2025-10-04T07:00:00",
                    "2025-10-04T08:00:00",
                    "2025-10-04T09:00:00",
                    "2025-10-04T10:00:00",
                    "2025-10-04T11:00:00",
                    "2025-10-04T12:00:00",
                    "2025-10-04T13:00:00",
                    "2025-10-04T14:00:00",
                    "2025-10-04T15:00:00",
                    "2025-10-04T16:00:00",
                    "2025-10-04T17:00:00",
                    "2025-10-04T18:00:00",
                    "2025-10-04T19:00:00",
                    "2025-10-04T20:00:00",
                    "2025-10-04T21:00:00",
                    "2025-10-04T22:00:00",
                    "2025-10-04T23:00:00",
                    "2025-10-05T00:00:00"
                  ],
                  "xaxis": "x",
                  "y": [
                    24.33001893939393,
                    25.764999999999997,
                    27.40083333333334,
                    29.130568181818152,
                    30.556666666666676,
                    30.52041666666667,
                    30.208749999999995,
                    29.194734848484817,
                    27.97479166666666,
                    27.042499999999997,
                    26.21166666666666,
                    25.685833333333335,
                    25.215416666666652,
                    24.69333333333332,
                    24.357291666666676,
                    23.693541666666675,
                    23.43986111111111,
                    22.87851388888888,
                    22.58,
                    22.339374999999997,
                    21.845833333333346,
                    21.893749999999986,
                    22.46395833333331,
                    23.49687500000001,
                    25.15291666666666,
                    27.07404166666666,
                    28.665227272727247,
                    30.761250000000004,
                    31.38659090909097,
                    31.486458333333346,
                    31.049943181818175,
                    30.220681818181788,
                    29.12659722222219,
                    27.64729166666666,
                    26.851420454545437,
                    26.15674242424243,
                    25.55958333333333,
                    25.09208333333334,
                    24.75333333333333,
                    24.47645833333333,
                    23.831666666666653,
                    23.45548611111111,
                    22.98680555555554,
                    22.68249999999999,
                    22.495833333333334,
                    22.19062500000002,
                    22.72416666666665,
                    23.386250000000004,
                    25.292083333333338,
                    27.141833333333306,
                    28.098049242424235,
                    29.585178571428607,
                    29.35,
                    29.478958333333363,
                    28.31437499999999,
                    27.494526515151517,
                    26.63812499999999,
                    25.89729166666666,
                    25.15729166666667,
                    24.51708333333334,
                    24.151041666666664,
                    23.92395833333333,
                    23.429791666666667,
                    22.741111111111103,
                    22.373333333333324,
                    21.652291666666674,
                    21.25979166666671,
                    20.8,
                    20.49145833333333,
                    20.57187499999999,
                    21.009374999999974,
                    21.308124999999986,
                    22.05291666666666
                  ],
                  "yaxis": "y"
                },
                {
                  "line": {
                    "color": "green",
                    "width": 2
                  },
                  "name": "予測電力",
                  "type": "scatter",
                  "x": [
                    "2025-10-02T00:00:00",
                    "2025-10-02T01:00:00",
                    "2025-10-02T02:00:00",
                    "2025-10-02T03:00:00",
                    "2025-10-02T04:00:00",
                    "2025-10-02T05:00:00",
                    "2025-10-02T06:00:00",
                    "2025-10-02T07:00:00",
                    "2025-10-02T08:00:00",
                    "2025-10-02T09:00:00",
                    "2025-10-02T10:00:00",
                    "2025-10-02T11:00:00",
                    "2025-10-02T12:00:00",
                    "2025-10-02T13:00:00",
                    "2025-10-02T14:00:00",
                    "2025-10-02T15:00:00",
                    "2025-10-02T16:00:00",
                    "2025-10-02T17:00:00",
                    "2025-10-02T18:00:00",
                    "2025-10-02T19:00:00",
                    "2025-10-02T20:00:00",
                    "2025-10-02T21:00:00",
                    "2025-10-02T22:00:00",
                    "2025-10-02T23:00:00",
                    "2025-10-03T00:00:00",
                    "2025-10-03T01:00:00",
                    "2025-10-03T02:00:00",
                    "2025-10-03T03:00:00",
                    "2025-10-03T04:00:00",
                    "2025-10-03T05:00:00",
                    "2025-10-03T06:00:00",
                    "2025-10-03T07:00:00",
                    "2025-10-03T08:00:00",
                    "2025-10-03T09:00:00",
                    "2025-10-03T10:00:00",
                    "2025-10-03T11:00:00",
                    "2025-10-03T12:00:00",
                    "2025-10-03T13:00:00",
                    "2025-10-03T14:00:00",
                    "2025-10-03T15:00:00",
                    "2025-10-03T16:00:00",
                    "2025-10-03T17:00:00",
                    "2025-10-03T18:00:00",
                    "2025-10-03T19:00:00",
                    "2025-10-03T20:00:00",
                    "2025-10-03T21:00:00",
                    "2025-10-03T22:00:00",
                    "2025-10-03T23:00:00",
                    "2025-10-04T00:00:00",
                    "2025-10-04T01:00:00",
                    "2025-10-04T02:00:00",
                    "2025-10-04T03:00:00",
                    "2025-10-04T04:00:00",
                    "2025-10-04T05:00:00",
                    "2025-10-04T06:00:00",
                    "2025-10-04T07:00:00",
                    "2025-10-04T08:00:00",
                    "2025-10-04T09:00:00",
                    "2025-10-04T10:00:00",
                    "2025-10-04T11:00:00",
                    "2025-10-04T12:00:00",
                    "2025-10-04T13:00:00",
                    "2025-10-04T14:00:00",
                    "2025-10-04T15:00:00",
                    "2025-10-04T16:00:00",
                    "2025-10-04T17:00:00",
                    "2025-10-04T18:00:00",
                    "2025-10-04T19:00:00",
                    "2025-10-04T20:00:00",
                    "2025-10-04T21:00:00",
                    "2025-10-04T22:00:00",
                    "2025-10-04T23:00:00",
                    "2025-10-05T00:00:00"
                  ],
                  "xaxis": "x2",
                  "y": [
                    260.4775,
                    247.9225,
                    273.1642857142857,
                    579.0125,
                    359.39750000000004,
                    339.31500000000005,
                    306.9975,
                    31700.2,
                    31795.85,
                    30415.2,
                    30653.45,
                    31123.85,
                    30161.7375,
                    30256.95,
                    30777.1,
                    30287.9,
                    30440.13,
                    30091.008333333335,
                    30565.5,
                    30153.1,
                    30499,
                    248.5266666666667,
                    239.05,
                    236.735,
                    213.71833333333336,
                    476.11750000000006,
                    494.44,
                    716.8100000000001,
                    397.485,
                    409.095,
                    342.70250000000004,
                    31525.6,
                    30573.1,
                    32093.3,
                    30851,
                    31130.75,
                    31114.25,
                    30572.95,
                    30578.85,
                    30485.95,
                    30325.25,
                    30331.63,
                    29998.171666666665,
                    29599.74166666667,
                    30655.65,
                    281.6210416666667,
                    271.25500000000005,
                    253.4375,
                    224.285,
                    494.75,
                    487.97,
                    598.4325,
                    235.1075,
                    243.78750000000002,
                    261.8875,
                    31305.05,
                    31731.55,
                    30458.7,
                    30227.275,
                    30737.2,
                    30358.6,
                    30304.7,
                    30574.8,
                    29919.005000000005,
                    30218.54,
                    30322.75,
                    30781,
                    30751.883333333335,
                    30676.606666666667,
                    278.69291666666663,
                    287.5975,
                    274.83750000000003,
                    246.15
                  ],
                  "yaxis": "y2"
                },
                {
                  "marker": {
                    "color": "orange",
                    "size": 6
                  },
                  "mode": "markers",
                  "name": "運転モード",
                  "type": "scatter",
                  "x": [
                    "2025-10-02T00:00:00",
                    "2025-10-02T01:00:00",
                    "2025-10-02T02:00:00",
                    "2025-10-02T03:00:00",
                    "2025-10-02T04:00:00",
                    "2025-10-02T05:00:00",
                    "2025-10-02T06:00:00",
                    "2025-10-02T07:00:00",
                    "2025-10-02T08:00:00",
                    "2025-10-02T09:00:00",
                    "2025-10-02T10:00:00",
                    "2025-10-02T11:00:00",
                    "2025-10-02T12:00:00",
                    "2025-10-02T13:00:00",
                    "2025-10-02T14:00:00",
                    "2025-10-02T15:00:00",
                    "2025-10-02T16:00:00",
                    "2025-10-02T17:00:00",
                    "2025-10-02T18:00:00",
                    "2025-10-02T19:00:00",
                    "2025-10-02T20:00:00",
                    "2025-10-02T21:00:00",
                    "2025-10-02T22:00:00",
                    "2025-10-02T23:00:00",
                    "2025-10-03T00:00:00",
                    "2025-10-03T01:00:00",
                    "2025-10-03T02:00:00",
                    "2025-10-03T03:00:00",
                    "2025-10-03T04:00:00",
                    "2025-10-03T05:00:00",
                    "2025-10-03T06:00:00",
                    "2025-10-03T07:00:00",
                    "2025-10-03T08:00:00",
                    "2025-10-03T09:00:00",
                    "2025-10-03T10:00:00",
                    "2025-10-03T11:00:00",
                    "2025-10-03T12:00:00",
                    "2025-10-03T13:00:00",
                    "2025-10-03T14:00:00",
                    "2025-10-03T15:00:00",
                    "2025-10-03T16:00:00",
                    "2025-10-03T17:00:00",
                    "2025-10-03T18:00:00",
                    "2025-10-03T19:00:00",
                    "2025-10-03T20:00:00",
                    "2025-10-03T21:00:00",
                    "2025-10-03T22:00:00",
                    "2025-10-03T23:00:00",
                    "2025-10-04T00:00:00",
                    "2025-10-04T01:00:00",
                    "2025-10-04T02:00:00",
                    "2025-10-04T03:00:00",
                    "2025-10-04T04:00:00",
                    "2025-10-04T05:00:00",
                    "2025-10-04T06:00:00",
                    "2025-10-04T07:00:00",
                    "2025-10-04T08:00:00",
                    "2025-10-04T09:00:00",
                    "2025-10-04T10:00:00",
                    "2025-10-04T11:00:00",
                    "2025-10-04T12:00:00",
                    "2025-10-04T13:00:00",
                    "2025-10-04T14:00:00",
                    "2025-10-04T15:00:00",
                    "2025-10-04T16:00:00",
                    "2025-10-04T17:00:00",
                    "2025-10-04T18:00:00",
                    "2025-10-04T19:00:00",
                    "2025-10-04T20:00:00",
                    "2025-10-04T21:00:00",
                    "2025-10-04T22:00:00",
                    "2025-10-04T23:00:00",
                    "2025-10-05T00:00:00"
                  ],
                  "xaxis": "x3",
                  "y": [
                    0,
                    0,
                    0,
                    0,
                    0,
                    0,
                    0,
                    0,
                    0,
                    0,
                    0,
                    0,
                    0,
                    0,
                    0,
                    0,
                    0,
                    0,
                    0,
                    0,
                    0,
                    0,
                    0,
                    0,
                    0,
                    0,
                    0,
                    0,
                    0,
                    0,
                    0,
                    0,
                    0,
                    0,
                    0,
                    0,
                    0,
                    0,
                    0,
                    0,
                    0,
                    0,
                    0,
                    0,
                    0,
                    0,
                    0,
                    0,
                    0,
                    0,
                    0,
                    0,
                    0,
                    0,
                    0,
                    0,
                    0,
                    0,
                    0,
                    0,
                    0,
                    0,
                    0,
                    0,
                    0,
                    0,
                    0,
                    0,
                    0,
                    0,
                    0,
                    0,
                    0
                  ],
                  "yaxis": "y3"
                },
                {
                  "marker": {
                    "color": "purple",
                    "size": 6
                  },
                  "mode": "markers",
                  "name": "ファン速度",
                  "type": "scatter",
                  "x": [
                    "2025-10-02T00:00:00",
                    "2025-10-02T01:00:00",
                    "2025-10-02T02:00:00",
                    "2025-10-02T03:00:00",
                    "2025-10-02T04:00:00",
                    "2025-10-02T05:00:00",
                    "2025-10-02T06:00:00",
                    "2025-10-02T07:00:00",
                    "2025-10-02T08:00:00",
                    "2025-10-02T09:00:00",
                    "2025-10-02T10:00:00",
                    "2025-10-02T11:00:00",
                    "2025-10-02T12:00:00",
                    "2025-10-02T13:00:00",
                    "2025-10-02T14:00:00",
                    "2025-10-02T15:00:00",
                    "2025-10-02T16:00:00",
                    "2025-10-02T17:00:00",
                    "2025-10-02T18:00:00",
                    "2025-10-02T19:00:00",
                    "2025-10-02T20:00:00",
                    "2025-10-02T21:00:00",
                    "2025-10-02T22:00:00",
                    "2025-10-02T23:00:00",
                    "2025-10-03T00:00:00",
                    "2025-10-03T01:00:00",
                    "2025-10-03T02:00:00",
                    "2025-10-03T03:00:00",
                    "2025-10-03T04:00:00",
                    "2025-10-03T05:00:00",
                    "2025-10-03T06:00:00",
                    "2025-10-03T07:00:00",
                    "2025-10-03T08:00:00",
                    "2025-10-03T09:00:00",
                    "2025-10-03T10:00:00",
                    "2025-10-03T11:00:00",
                    "2025-10-03T12:00:00",
                    "2025-10-03T13:00:00",
                    "2025-10-03T14:00:00",
                    "2025-10-03T15:00:00",
                    "2025-10-03T16:00:00",
                    "2025-10-03T17:00:00",
                    "2025-10-03T18:00:00",
                    "2025-10-03T19:00:00",
                    "2025-10-03T20:00:00",
                    "2025-10-03T21:00:00",
                    "2025-10-03T22:00:00",
                    "2025-10-03T23:00:00",
                    "2025-10-04T00:00:00",
                    "2025-10-04T01:00:00",
                    "2025-10-04T02:00:00",
                    "2025-10-04T03:00:00",
                    "2025-10-04T04:00:00",
                    "2025-10-04T05:00:00",
                    "2025-10-04T06:00:00",
                    "2025-10-04T07:00:00",
                    "2025-10-04T08:00:00",
                    "2025-10-04T09:00:00",
                    "2025-10-04T10:00:00",
                    "2025-10-04T11:00:00",
                    "2025-10-04T12:00:00",
                    "2025-10-04T13:00:00",
                    "2025-10-04T14:00:00",
                    "2025-10-04T15:00:00",
                    "2025-10-04T16:00:00",
                    "2025-10-04T17:00:00",
                    "2025-10-04T18:00:00",
                    "2025-10-04T19:00:00",
                    "2025-10-04T20:00:00",
                    "2025-10-04T21:00:00",
                    "2025-10-04T22:00:00",
                    "2025-10-04T23:00:00",
                    "2025-10-05T00:00:00"
                  ],
                  "xaxis": "x4",
                  "y": [
                    1,
                    1,
                    1,
                    1,
                    1,
                    1,
                    1,
                    1,
                    1,
                    1,
                    1,
                    1,
                    1,
                    1,
                    1,
                    1,
                    1,
                    1,
                    1,
                    1,
                    1,
                    1,
                    1,
                    1,
                    1,
                    1,
                    1,
                    1,
                    1,
                    1,
                    1,
                    1,
                    1,
                    1,
                    1,
                    1,
                    1,
                    1,
                    1,
                    1,
                    1,
                    1,
                    1,
                    1,
                    1,
                    1,
                    1,
                    1,
                    1,
                    1,
                    1,
                    1,
                    1,
                    1,
                    1,
                    1,
                    1,
                    1,
                    1,
                    1,
                    1,
                    1,
                    1,
                    1,
                    1,
                    1,
                    1,
                    1,
                    1,
                    1,
                    1,
                    1,
                    1
                  ],
                  "yaxis": "y4"
                }
              ],
              "layout": {
                "annotations": [
                  {
                    "font": {
                      "size": 16
                    },
                    "showarrow": false,
                    "text": "Meeting Room - 設定温度・予測室温",
                    "x": 0.5,
                    "xanchor": "center",
                    "xref": "paper",
                    "y": 1,
                    "yanchor": "bottom",
                    "yref": "paper"
                  },
                  {
                    "font": {
                      "size": 16
                    },
                    "showarrow": false,
                    "text": "Meeting Room - 予測電力",
                    "x": 0.5,
                    "xanchor": "center",
                    "xref": "paper",
                    "y": 0.73,
                    "yanchor": "bottom",
                    "yref": "paper"
                  },
                  {
                    "font": {
                      "size": 16
                    },
                    "showarrow": false,
                    "text": "Meeting Room - 運転モード",
                    "x": 0.5,
                    "xanchor": "center",
                    "xref": "paper",
                    "y": 0.46,
                    "yanchor": "bottom",
                    "yref": "paper"
                  },
                  {
                    "font": {
                      "size": 16
                    },
                    "showarrow": false,
                    "text": "Meeting Room - ファン速度",
                    "x": 0.5,
                    "xanchor": "center",
                    "xref": "paper",
                    "y": 0.19,
                    "yanchor": "bottom",
                    "yref": "paper"
                  }
                ],
                "height": 800,
                "showlegend": true,
                "template": {
                  "data": {
                    "bar": [
                      {
                        "error_x": {
                          "color": "#2a3f5f"
                        },
                        "error_y": {
                          "color": "#2a3f5f"
                        },
                        "marker": {
                          "line": {
                            "color": "#E5ECF6",
                            "width": 0.5
                          },
                          "pattern": {
                            "fillmode": "overlay",
                            "size": 10,
                            "solidity": 0.2
                          }
                        },
                        "type": "bar"
                      }
                    ],
                    "barpolar": [
                      {
                        "marker": {
                          "line": {
                            "color": "#E5ECF6",
                            "width": 0.5
                          },
                          "pattern": {
                            "fillmode": "overlay",
                            "size": 10,
                            "solidity": 0.2
                          }
                        },
                        "type": "barpolar"
                      }
                    ],
                    "carpet": [
                      {
                        "aaxis": {
                          "endlinecolor": "#2a3f5f",
                          "gridcolor": "white",
                          "linecolor": "white",
                          "minorgridcolor": "white",
                          "startlinecolor": "#2a3f5f"
                        },
                        "baxis": {
                          "endlinecolor": "#2a3f5f",
                          "gridcolor": "white",
                          "linecolor": "white",
                          "minorgridcolor": "white",
                          "startlinecolor": "#2a3f5f"
                        },
                        "type": "carpet"
                      }
                    ],
                    "choropleth": [
                      {
                        "colorbar": {
                          "outlinewidth": 0,
                          "ticks": ""
                        },
                        "type": "choropleth"
                      }
                    ],
                    "contour": [
                      {
                        "colorbar": {
                          "outlinewidth": 0,
                          "ticks": ""
                        },
                        "colorscale": [
                          [
                            0,
                            "#0d0887"
                          ],
                          [
                            0.1111111111111111,
                            "#46039f"
                          ],
                          [
                            0.2222222222222222,
                            "#7201a8"
                          ],
                          [
                            0.3333333333333333,
                            "#9c179e"
                          ],
                          [
                            0.4444444444444444,
                            "#bd3786"
                          ],
                          [
                            0.5555555555555556,
                            "#d8576b"
                          ],
                          [
                            0.6666666666666666,
                            "#ed7953"
                          ],
                          [
                            0.7777777777777778,
                            "#fb9f3a"
                          ],
                          [
                            0.8888888888888888,
                            "#fdca26"
                          ],
                          [
                            1,
                            "#f0f921"
                          ]
                        ],
                        "type": "contour"
                      }
                    ],
                    "contourcarpet": [
                      {
                        "colorbar": {
                          "outlinewidth": 0,
                          "ticks": ""
                        },
                        "type": "contourcarpet"
                      }
                    ],
                    "heatmap": [
                      {
                        "colorbar": {
                          "outlinewidth": 0,
                          "ticks": ""
                        },
                        "colorscale": [
                          [
                            0,
                            "#0d0887"
                          ],
                          [
                            0.1111111111111111,
                            "#46039f"
                          ],
                          [
                            0.2222222222222222,
                            "#7201a8"
                          ],
                          [
                            0.3333333333333333,
                            "#9c179e"
                          ],
                          [
                            0.4444444444444444,
                            "#bd3786"
                          ],
                          [
                            0.5555555555555556,
                            "#d8576b"
                          ],
                          [
                            0.6666666666666666,
                            "#ed7953"
                          ],
                          [
                            0.7777777777777778,
                            "#fb9f3a"
                          ],
                          [
                            0.8888888888888888,
                            "#fdca26"
                          ],
                          [
                            1,
                            "#f0f921"
                          ]
                        ],
                        "type": "heatmap"
                      }
                    ],
                    "heatmapgl": [
                      {
                        "colorbar": {
                          "outlinewidth": 0,
                          "ticks": ""
                        },
                        "colorscale": [
                          [
                            0,
                            "#0d0887"
                          ],
                          [
                            0.1111111111111111,
                            "#46039f"
                          ],
                          [
                            0.2222222222222222,
                            "#7201a8"
                          ],
                          [
                            0.3333333333333333,
                            "#9c179e"
                          ],
                          [
                            0.4444444444444444,
                            "#bd3786"
                          ],
                          [
                            0.5555555555555556,
                            "#d8576b"
                          ],
                          [
                            0.6666666666666666,
                            "#ed7953"
                          ],
                          [
                            0.7777777777777778,
                            "#fb9f3a"
                          ],
                          [
                            0.8888888888888888,
                            "#fdca26"
                          ],
                          [
                            1,
                            "#f0f921"
                          ]
                        ],
                        "type": "heatmapgl"
                      }
                    ],
                    "histogram": [
                      {
                        "marker": {
                          "pattern": {
                            "fillmode": "overlay",
                            "size": 10,
                            "solidity": 0.2
                          }
                        },
                        "type": "histogram"
                      }
                    ],
                    "histogram2d": [
                      {
                        "colorbar": {
                          "outlinewidth": 0,
                          "ticks": ""
                        },
                        "colorscale": [
                          [
                            0,
                            "#0d0887"
                          ],
                          [
                            0.1111111111111111,
                            "#46039f"
                          ],
                          [
                            0.2222222222222222,
                            "#7201a8"
                          ],
                          [
                            0.3333333333333333,
                            "#9c179e"
                          ],
                          [
                            0.4444444444444444,
                            "#bd3786"
                          ],
                          [
                            0.5555555555555556,
                            "#d8576b"
                          ],
                          [
                            0.6666666666666666,
                            "#ed7953"
                          ],
                          [
                            0.7777777777777778,
                            "#fb9f3a"
                          ],
                          [
                            0.8888888888888888,
                            "#fdca26"
                          ],
                          [
                            1,
                            "#f0f921"
                          ]
                        ],
                        "type": "histogram2d"
                      }
                    ],
                    "histogram2dcontour": [
                      {
                        "colorbar": {
                          "outlinewidth": 0,
                          "ticks": ""
                        },
                        "colorscale": [
                          [
                            0,
                            "#0d0887"
                          ],
                          [
                            0.1111111111111111,
                            "#46039f"
                          ],
                          [
                            0.2222222222222222,
                            "#7201a8"
                          ],
                          [
                            0.3333333333333333,
                            "#9c179e"
                          ],
                          [
                            0.4444444444444444,
                            "#bd3786"
                          ],
                          [
                            0.5555555555555556,
                            "#d8576b"
                          ],
                          [
                            0.6666666666666666,
                            "#ed7953"
                          ],
                          [
                            0.7777777777777778,
                            "#fb9f3a"
                          ],
                          [
                            0.8888888888888888,
                            "#fdca26"
                          ],
                          [
                            1,
                            "#f0f921"
                          ]
                        ],
                        "type": "histogram2dcontour"
                      }
                    ],
                    "mesh3d": [
                      {
                        "colorbar": {
                          "outlinewidth": 0,
                          "ticks": ""
                        },
                        "type": "mesh3d"
                      }
                    ],
                    "parcoords": [
                      {
                        "line": {
                          "colorbar": {
                            "outlinewidth": 0,
                            "ticks": ""
                          }
                        },
                        "type": "parcoords"
                      }
                    ],
                    "pie": [
                      {
                        "automargin": true,
                        "type": "pie"
                      }
                    ],
                    "scatter": [
                      {
                        "fillpattern": {
                          "fillmode": "overlay",
                          "size": 10,
                          "solidity": 0.2
                        },
                        "type": "scatter"
                      }
                    ],
                    "scatter3d": [
                      {
                        "line": {
                          "colorbar": {
                            "outlinewidth": 0,
                            "ticks": ""
                          }
                        },
                        "marker": {
                          "colorbar": {
                            "outlinewidth": 0,
                            "ticks": ""
                          }
                        },
                        "type": "scatter3d"
                      }
                    ],
                    "scattercarpet": [
                      {
                        "marker": {
                          "colorbar": {
                            "outlinewidth": 0,
                            "ticks": ""
                          }
                        },
                        "type": "scattercarpet"
                      }
                    ],
                    "scattergeo": [
                      {
                        "marker": {
                          "colorbar": {
                            "outlinewidth": 0,
                            "ticks": ""
                          }
                        },
                        "type": "scattergeo"
                      }
                    ],
                    "scattergl": [
                      {
                        "marker": {
                          "colorbar": {
                            "outlinewidth": 0,
                            "ticks": ""
                          }
                        },
                        "type": "scattergl"
                      }
                    ],
                    "scattermapbox": [
                      {
                        "marker": {
                          "colorbar": {
                            "outlinewidth": 0,
                            "ticks": ""
                          }
                        },
                        "type": "scattermapbox"
                      }
                    ],
                    "scatterpolar": [
                      {
                        "marker": {
                          "colorbar": {
                            "outlinewidth": 0,
                            "ticks": ""
                          }
                        },
                        "type": "scatterpolar"
                      }
                    ],
                    "scatterpolargl": [
                      {
                        "marker": {
                          "colorbar": {
                            "outlinewidth": 0,
                            "ticks": ""
                          }
                        },
                        "type": "scatterpolargl"
                      }
                    ],
                    "scatterternary": [
                      {
                        "marker": {
                          "colorbar": {
                            "outlinewidth": 0,
                            "ticks": ""
                          }
                        },
                        "type": "scatterternary"
                      }
                    ],
                    "surface": [
                      {
                        "colorbar": {
                          "outlinewidth": 0,
                          "ticks": ""
                        },
                        "colorscale": [
                          [
                            0,
                            "#0d0887"
                          ],
                          [
                            0.1111111111111111,
                            "#46039f"
                          ],
                          [
                            0.2222222222222222,
                            "#7201a8"
                          ],
                          [
                            0.3333333333333333,
                            "#9c179e"
                          ],
                          [
                            0.4444444444444444,
                            "#bd3786"
                          ],
                          [
                            0.5555555555555556,
                            "#d8576b"
                          ],
                          [
                            0.6666666666666666,
                            "#ed7953"
                          ],
                          [
                            0.7777777777777778,
                            "#fb9f3a"
                          ],
                          [
                            0.8888888888888888,
                            "#fdca26"
                          ],
                          [
                            1,
                            "#f0f921"
                          ]
                        ],
                        "type": "surface"
                      }
                    ],
                    "table": [
                      {
                        "cells": {
                          "fill": {
                            "color": "#EBF0F8"
                          },
                          "line": {
                            "color": "white"
                          }
                        },
                        "header": {
                          "fill": {
                            "color": "#C8D4E3"
                          },
                          "line": {
                            "color": "white"
                          }
                        },
                        "type": "table"
                      }
                    ]
                  },
                  "layout": {
                    "annotationdefaults": {
                      "arrowcolor": "#2a3f5f",
                      "arrowhead": 0,
                      "arrowwidth": 1
                    },
                    "autotypenumbers": "strict",
                    "coloraxis": {
                      "colorbar": {
                        "outlinewidth": 0,
                        "ticks": ""
                      }
                    },
                    "colorscale": {
                      "diverging": [
                        [
                          0,
                          "#8e0152"
                        ],
                        [
                          0.1,
                          "#c51b7d"
                        ],
                        [
                          0.2,
                          "#de77ae"
                        ],
                        [
                          0.3,
                          "#f1b6da"
                        ],
                        [
                          0.4,
                          "#fde0ef"
                        ],
                        [
                          0.5,
                          "#f7f7f7"
                        ],
                        [
                          0.6,
                          "#e6f5d0"
                        ],
                        [
                          0.7,
                          "#b8e186"
                        ],
                        [
                          0.8,
                          "#7fbc41"
                        ],
                        [
                          0.9,
                          "#4d9221"
                        ],
                        [
                          1,
                          "#276419"
                        ]
                      ],
                      "sequential": [
                        [
                          0,
                          "#0d0887"
                        ],
                        [
                          0.1111111111111111,
                          "#46039f"
                        ],
                        [
                          0.2222222222222222,
                          "#7201a8"
                        ],
                        [
                          0.3333333333333333,
                          "#9c179e"
                        ],
                        [
                          0.4444444444444444,
                          "#bd3786"
                        ],
                        [
                          0.5555555555555556,
                          "#d8576b"
                        ],
                        [
                          0.6666666666666666,
                          "#ed7953"
                        ],
                        [
                          0.7777777777777778,
                          "#fb9f3a"
                        ],
                        [
                          0.8888888888888888,
                          "#fdca26"
                        ],
                        [
                          1,
                          "#f0f921"
                        ]
                      ],
                      "sequentialminus": [
                        [
                          0,
                          "#0d0887"
                        ],
                        [
                          0.1111111111111111,
                          "#46039f"
                        ],
                        [
                          0.2222222222222222,
                          "#7201a8"
                        ],
                        [
                          0.3333333333333333,
                          "#9c179e"
                        ],
                        [
                          0.4444444444444444,
                          "#bd3786"
                        ],
                        [
                          0.5555555555555556,
                          "#d8576b"
                        ],
                        [
                          0.6666666666666666,
                          "#ed7953"
                        ],
                        [
                          0.7777777777777778,
                          "#fb9f3a"
                        ],
                        [
                          0.8888888888888888,
                          "#fdca26"
                        ],
                        [
                          1,
                          "#f0f921"
                        ]
                      ]
                    },
                    "colorway": [
                      "#636efa",
                      "#EF553B",
                      "#00cc96",
                      "#ab63fa",
                      "#FFA15A",
                      "#19d3f3",
                      "#FF6692",
                      "#B6E880",
                      "#FF97FF",
                      "#FECB52"
                    ],
                    "font": {
                      "color": "#2a3f5f"
                    },
                    "geo": {
                      "bgcolor": "white",
                      "lakecolor": "white",
                      "landcolor": "#E5ECF6",
                      "showlakes": true,
                      "showland": true,
                      "subunitcolor": "white"
                    },
                    "hoverlabel": {
                      "align": "left"
                    },
                    "hovermode": "closest",
                    "mapbox": {
                      "style": "light"
                    },
                    "paper_bgcolor": "white",
                    "plot_bgcolor": "#E5ECF6",
                    "polar": {
                      "angularaxis": {
                        "gridcolor": "white",
                        "linecolor": "white",
                        "ticks": ""
                      },
                      "bgcolor": "#E5ECF6",
                      "radialaxis": {
                        "gridcolor": "white",
                        "linecolor": "white",
                        "ticks": ""
                      }
                    },
                    "scene": {
                      "xaxis": {
                        "backgroundcolor": "#E5ECF6",
                        "gridcolor": "white",
                        "gridwidth": 2,
                        "linecolor": "white",
                        "showbackground": true,
                        "ticks": "",
                        "zerolinecolor": "white"
                      },
                      "yaxis": {
                        "backgroundcolor": "#E5ECF6",
                        "gridcolor": "white",
                        "gridwidth": 2,
                        "linecolor": "white",
                        "showbackground": true,
                        "ticks": "",
                        "zerolinecolor": "white"
                      },
                      "zaxis": {
                        "backgroundcolor": "#E5ECF6",
                        "gridcolor": "white",
                        "gridwidth": 2,
                        "linecolor": "white",
                        "showbackground": true,
                        "ticks": "",
                        "zerolinecolor": "white"
                      }
                    },
                    "shapedefaults": {
                      "line": {
                        "color": "#2a3f5f"
                      }
                    },
                    "ternary": {
                      "aaxis": {
                        "gridcolor": "white",
                        "linecolor": "white",
                        "ticks": ""
                      },
                      "baxis": {
                        "gridcolor": "white",
                        "linecolor": "white",
                        "ticks": ""
                      },
                      "bgcolor": "#E5ECF6",
                      "caxis": {
                        "gridcolor": "white",
                        "linecolor": "white",
                        "ticks": ""
                      }
                    },
                    "title": {
                      "x": 0.05
                    },
                    "xaxis": {
                      "automargin": true,
                      "gridcolor": "white",
                      "linecolor": "white",
                      "ticks": "",
                      "title": {
                        "standoff": 15
                      },
                      "zerolinecolor": "white",
                      "zerolinewidth": 2
                    },
                    "yaxis": {
                      "automargin": true,
                      "gridcolor": "white",
                      "linecolor": "white",
                      "ticks": "",
                      "title": {
                        "standoff": 15
                      },
                      "zerolinecolor": "white",
                      "zerolinewidth": 2
                    }
                  }
                },
                "title": {
                  "text": "Meeting Room 最適化結果"
                },
                "xaxis": {
                  "anchor": "y",
                  "domain": [
                    0,
                    1
                  ]
                },
                "xaxis2": {
                  "anchor": "y2",
                  "domain": [
                    0,
                    1
                  ]
                },
                "xaxis3": {
                  "anchor": "y3",
                  "domain": [
                    0,
                    1
                  ]
                },
                "xaxis4": {
                  "anchor": "y4",
                  "domain": [
                    0,
                    1
                  ],
                  "title": {
                    "text": "時刻"
                  }
                },
                "yaxis": {
                  "anchor": "x",
                  "domain": [
                    0.81,
                    1
                  ],
                  "title": {
                    "text": "温度 (°C)"
                  }
                },
                "yaxis2": {
                  "anchor": "x2",
                  "domain": [
                    0.54,
                    0.73
                  ],
                  "title": {
                    "text": "電力 (W)"
                  }
                },
                "yaxis3": {
                  "anchor": "x3",
                  "domain": [
                    0.27,
                    0.46
                  ],
                  "title": {
                    "text": "モード"
                  }
                },
                "yaxis4": {
                  "anchor": "x4",
                  "domain": [
                    0,
                    0.19
                  ],
                  "title": {
                    "text": "ファン速度"
                  }
                }
              }
            }
          },
          "metadata": {},
          "output_type": "display_data"
        },
        {
          "name": "stdout",
          "output_type": "stream",
          "text": [
            "✅ Meeting Room の可視化完了\n"
          ]
        },
        {
          "data": {
            "application/vnd.plotly.v1+json": {
              "config": {
                "plotlyServerURL": "https://plot.ly"
              },
              "data": [
                {
                  "line": {
                    "color": "red",
                    "width": 2
                  },
                  "name": "設定温度",
                  "type": "scatter",
                  "x": [
                    "2025-10-02T00:00:00",
                    "2025-10-02T01:00:00",
                    "2025-10-02T02:00:00",
                    "2025-10-02T03:00:00",
                    "2025-10-02T04:00:00",
                    "2025-10-02T05:00:00",
                    "2025-10-02T06:00:00",
                    "2025-10-02T07:00:00",
                    "2025-10-02T08:00:00",
                    "2025-10-02T09:00:00",
                    "2025-10-02T10:00:00",
                    "2025-10-02T11:00:00",
                    "2025-10-02T12:00:00",
                    "2025-10-02T13:00:00",
                    "2025-10-02T14:00:00",
                    "2025-10-02T15:00:00",
                    "2025-10-02T16:00:00",
                    "2025-10-02T17:00:00",
                    "2025-10-02T18:00:00",
                    "2025-10-02T19:00:00",
                    "2025-10-02T20:00:00",
                    "2025-10-02T21:00:00",
                    "2025-10-02T22:00:00",
                    "2025-10-02T23:00:00",
                    "2025-10-03T00:00:00",
                    "2025-10-03T01:00:00",
                    "2025-10-03T02:00:00",
                    "2025-10-03T03:00:00",
                    "2025-10-03T04:00:00",
                    "2025-10-03T05:00:00",
                    "2025-10-03T06:00:00",
                    "2025-10-03T07:00:00",
                    "2025-10-03T08:00:00",
                    "2025-10-03T09:00:00",
                    "2025-10-03T10:00:00",
                    "2025-10-03T11:00:00",
                    "2025-10-03T12:00:00",
                    "2025-10-03T13:00:00",
                    "2025-10-03T14:00:00",
                    "2025-10-03T15:00:00",
                    "2025-10-03T16:00:00",
                    "2025-10-03T17:00:00",
                    "2025-10-03T18:00:00",
                    "2025-10-03T19:00:00",
                    "2025-10-03T20:00:00",
                    "2025-10-03T21:00:00",
                    "2025-10-03T22:00:00",
                    "2025-10-03T23:00:00",
                    "2025-10-04T00:00:00",
                    "2025-10-04T01:00:00",
                    "2025-10-04T02:00:00",
                    "2025-10-04T03:00:00",
                    "2025-10-04T04:00:00",
                    "2025-10-04T05:00:00",
                    "2025-10-04T06:00:00",
                    "2025-10-04T07:00:00",
                    "2025-10-04T08:00:00",
                    "2025-10-04T09:00:00",
                    "2025-10-04T10:00:00",
                    "2025-10-04T11:00:00",
                    "2025-10-04T12:00:00",
                    "2025-10-04T13:00:00",
                    "2025-10-04T14:00:00",
                    "2025-10-04T15:00:00",
                    "2025-10-04T16:00:00",
                    "2025-10-04T17:00:00",
                    "2025-10-04T18:00:00",
                    "2025-10-04T19:00:00",
                    "2025-10-04T20:00:00",
                    "2025-10-04T21:00:00",
                    "2025-10-04T22:00:00",
                    "2025-10-04T23:00:00",
                    "2025-10-05T00:00:00"
                  ],
                  "xaxis": "x",
                  "y": [
                    20,
                    20,
                    22,
                    22,
                    22,
                    23,
                    20,
                    27,
                    27,
                    27,
                    27,
                    27,
                    27,
                    27,
                    27,
                    27,
                    27,
                    27,
                    27,
                    27,
                    27,
                    25,
                    27,
                    25,
                    27,
                    20,
                    22,
                    23,
                    22,
                    20,
                    23,
                    27,
                    27,
                    27,
                    27,
                    27,
                    27,
                    27,
                    27,
                    27,
                    27,
                    27,
                    27,
                    27,
                    27,
                    26,
                    27,
                    26,
                    25,
                    27,
                    27,
                    27,
                    27,
                    25,
                    25,
                    24,
                    22,
                    27,
                    27,
                    27,
                    27,
                    27,
                    27,
                    27,
                    27,
                    27,
                    27,
                    27,
                    27,
                    25,
                    26,
                    26,
                    26
                  ],
                  "yaxis": "y"
                },
                {
                  "line": {
                    "color": "blue",
                    "width": 2
                  },
                  "name": "予測室温",
                  "type": "scatter",
                  "x": [
                    "2025-10-02T00:00:00",
                    "2025-10-02T01:00:00",
                    "2025-10-02T02:00:00",
                    "2025-10-02T03:00:00",
                    "2025-10-02T04:00:00",
                    "2025-10-02T05:00:00",
                    "2025-10-02T06:00:00",
                    "2025-10-02T07:00:00",
                    "2025-10-02T08:00:00",
                    "2025-10-02T09:00:00",
                    "2025-10-02T10:00:00",
                    "2025-10-02T11:00:00",
                    "2025-10-02T12:00:00",
                    "2025-10-02T13:00:00",
                    "2025-10-02T14:00:00",
                    "2025-10-02T15:00:00",
                    "2025-10-02T16:00:00",
                    "2025-10-02T17:00:00",
                    "2025-10-02T18:00:00",
                    "2025-10-02T19:00:00",
                    "2025-10-02T20:00:00",
                    "2025-10-02T21:00:00",
                    "2025-10-02T22:00:00",
                    "2025-10-02T23:00:00",
                    "2025-10-03T00:00:00",
                    "2025-10-03T01:00:00",
                    "2025-10-03T02:00:00",
                    "2025-10-03T03:00:00",
                    "2025-10-03T04:00:00",
                    "2025-10-03T05:00:00",
                    "2025-10-03T06:00:00",
                    "2025-10-03T07:00:00",
                    "2025-10-03T08:00:00",
                    "2025-10-03T09:00:00",
                    "2025-10-03T10:00:00",
                    "2025-10-03T11:00:00",
                    "2025-10-03T12:00:00",
                    "2025-10-03T13:00:00",
                    "2025-10-03T14:00:00",
                    "2025-10-03T15:00:00",
                    "2025-10-03T16:00:00",
                    "2025-10-03T17:00:00",
                    "2025-10-03T18:00:00",
                    "2025-10-03T19:00:00",
                    "2025-10-03T20:00:00",
                    "2025-10-03T21:00:00",
                    "2025-10-03T22:00:00",
                    "2025-10-03T23:00:00",
                    "2025-10-04T00:00:00",
                    "2025-10-04T01:00:00",
                    "2025-10-04T02:00:00",
                    "2025-10-04T03:00:00",
                    "2025-10-04T04:00:00",
                    "2025-10-04T05:00:00",
                    "2025-10-04T06:00:00",
                    "2025-10-04T07:00:00",
                    "2025-10-04T08:00:00",
                    "2025-10-04T09:00:00",
                    "2025-10-04T10:00:00",
                    "2025-10-04T11:00:00",
                    "2025-10-04T12:00:00",
                    "2025-10-04T13:00:00",
                    "2025-10-04T14:00:00",
                    "2025-10-04T15:00:00",
                    "2025-10-04T16:00:00",
                    "2025-10-04T17:00:00",
                    "2025-10-04T18:00:00",
                    "2025-10-04T19:00:00",
                    "2025-10-04T20:00:00",
                    "2025-10-04T21:00:00",
                    "2025-10-04T22:00:00",
                    "2025-10-04T23:00:00",
                    "2025-10-05T00:00:00"
                  ],
                  "xaxis": "x",
                  "y": [
                    22.837099802371554,
                    21.941292819499346,
                    22.003541666666653,
                    22.036041666666662,
                    22.360833333333318,
                    22.689682971014477,
                    22.38047101449274,
                    22.522298136645958,
                    22.029166666666676,
                    22.253124999999997,
                    22.240416666666658,
                    22.33708333333332,
                    22.35458333333332,
                    22.398958333333322,
                    22.391458333333322,
                    22.390624999999986,
                    22.416249999999987,
                    22.952463768115937,
                    22.940851449275364,
                    22.936684782608694,
                    22.99236413043478,
                    22.78458333333334,
                    22.44,
                    22.13010869565218,
                    22.94229166666667,
                    22.27848978919631,
                    22.379791666666655,
                    22.313124999999985,
                    22.63812499999998,
                    22.457527173913018,
                    22.335099637681143,
                    22.34729166666667,
                    22.140984848484855,
                    22.305208333333326,
                    22.267083333333325,
                    22.33395833333333,
                    22.40020833333332,
                    22.440416666666657,
                    22.242708333333322,
                    22.315416666666657,
                    22.36520833333332,
                    22.960172101449267,
                    22.94355978260869,
                    22.93960144927536,
                    22.941059782608693,
                    22.58854166666666,
                    22.424583333333345,
                    22.049900362318844,
                    22.714791666666674,
                    23.0559897891963,
                    23.87833333333334,
                    24.33093297101449,
                    25.198898809523815,
                    25.741434769940224,
                    25.435533596837946,
                    24.57952322134387,
                    24.24492391304347,
                    24.216750988142277,
                    24.139844202898534,
                    23.59896428571428,
                    23.135226449275365,
                    22.72010093167703,
                    22.164185606060606,
                    22.36999999999999,
                    22.43604166666666,
                    22.696938405797106,
                    22.936124011857714,
                    22.942463768115946,
                    22.91636775362319,
                    22.401041666666657,
                    21.793958333333336,
                    21.423750000000005,
                    21.71749999999999
                  ],
                  "yaxis": "y"
                },
                {
                  "line": {
                    "color": "green",
                    "width": 2
                  },
                  "name": "予測電力",
                  "type": "scatter",
                  "x": [
                    "2025-10-02T00:00:00",
                    "2025-10-02T01:00:00",
                    "2025-10-02T02:00:00",
                    "2025-10-02T03:00:00",
                    "2025-10-02T04:00:00",
                    "2025-10-02T05:00:00",
                    "2025-10-02T06:00:00",
                    "2025-10-02T07:00:00",
                    "2025-10-02T08:00:00",
                    "2025-10-02T09:00:00",
                    "2025-10-02T10:00:00",
                    "2025-10-02T11:00:00",
                    "2025-10-02T12:00:00",
                    "2025-10-02T13:00:00",
                    "2025-10-02T14:00:00",
                    "2025-10-02T15:00:00",
                    "2025-10-02T16:00:00",
                    "2025-10-02T17:00:00",
                    "2025-10-02T18:00:00",
                    "2025-10-02T19:00:00",
                    "2025-10-02T20:00:00",
                    "2025-10-02T21:00:00",
                    "2025-10-02T22:00:00",
                    "2025-10-02T23:00:00",
                    "2025-10-03T00:00:00",
                    "2025-10-03T01:00:00",
                    "2025-10-03T02:00:00",
                    "2025-10-03T03:00:00",
                    "2025-10-03T04:00:00",
                    "2025-10-03T05:00:00",
                    "2025-10-03T06:00:00",
                    "2025-10-03T07:00:00",
                    "2025-10-03T08:00:00",
                    "2025-10-03T09:00:00",
                    "2025-10-03T10:00:00",
                    "2025-10-03T11:00:00",
                    "2025-10-03T12:00:00",
                    "2025-10-03T13:00:00",
                    "2025-10-03T14:00:00",
                    "2025-10-03T15:00:00",
                    "2025-10-03T16:00:00",
                    "2025-10-03T17:00:00",
                    "2025-10-03T18:00:00",
                    "2025-10-03T19:00:00",
                    "2025-10-03T20:00:00",
                    "2025-10-03T21:00:00",
                    "2025-10-03T22:00:00",
                    "2025-10-03T23:00:00",
                    "2025-10-04T00:00:00",
                    "2025-10-04T01:00:00",
                    "2025-10-04T02:00:00",
                    "2025-10-04T03:00:00",
                    "2025-10-04T04:00:00",
                    "2025-10-04T05:00:00",
                    "2025-10-04T06:00:00",
                    "2025-10-04T07:00:00",
                    "2025-10-04T08:00:00",
                    "2025-10-04T09:00:00",
                    "2025-10-04T10:00:00",
                    "2025-10-04T11:00:00",
                    "2025-10-04T12:00:00",
                    "2025-10-04T13:00:00",
                    "2025-10-04T14:00:00",
                    "2025-10-04T15:00:00",
                    "2025-10-04T16:00:00",
                    "2025-10-04T17:00:00",
                    "2025-10-04T18:00:00",
                    "2025-10-04T19:00:00",
                    "2025-10-04T20:00:00",
                    "2025-10-04T21:00:00",
                    "2025-10-04T22:00:00",
                    "2025-10-04T23:00:00",
                    "2025-10-05T00:00:00"
                  ],
                  "xaxis": "x2",
                  "y": [
                    1375.9450000000002,
                    820.88,
                    413.02250000000004,
                    426.47,
                    467.2875,
                    415.32250000000005,
                    443.945,
                    8573.65,
                    8572.65,
                    9247.7,
                    9571.5,
                    9600.85,
                    9515.85,
                    9515.85,
                    9494.1,
                    9494.1,
                    9842,
                    9875.8,
                    9970.2,
                    9970.2,
                    9944.2,
                    391.22,
                    407.39000000000004,
                    399.25250000000005,
                    446.745,
                    602.105,
                    597.9925000000001,
                    429.48,
                    500.725,
                    444.945,
                    441.1875,
                    8682.5,
                    8530.2,
                    9093.1,
                    9305.25,
                    9361.4,
                    9300.8,
                    9279.05,
                    9279.05,
                    9469.25,
                    9760.2,
                    9730.85,
                    9785,
                    9782.85,
                    9782.85,
                    390.96500000000003,
                    393.45250000000004,
                    392.635,
                    437.715,
                    455.715,
                    418.7825,
                    477.81750000000005,
                    454.765,
                    506.69250000000005,
                    412.2325,
                    21974.25,
                    19668.35,
                    19721.9,
                    17015.8,
                    15573.55,
                    11168.8,
                    10494.5,
                    9397.65,
                    9572.05,
                    9592.3,
                    9640.05,
                    9716.65,
                    9687.1,
                    9714.85,
                    391.545,
                    393.095,
                    392.27500000000003,
                    385.56
                  ],
                  "yaxis": "y2"
                },
                {
                  "marker": {
                    "color": "orange",
                    "size": 6
                  },
                  "mode": "markers",
                  "name": "運転モード",
                  "type": "scatter",
                  "x": [
                    "2025-10-02T00:00:00",
                    "2025-10-02T01:00:00",
                    "2025-10-02T02:00:00",
                    "2025-10-02T03:00:00",
                    "2025-10-02T04:00:00",
                    "2025-10-02T05:00:00",
                    "2025-10-02T06:00:00",
                    "2025-10-02T07:00:00",
                    "2025-10-02T08:00:00",
                    "2025-10-02T09:00:00",
                    "2025-10-02T10:00:00",
                    "2025-10-02T11:00:00",
                    "2025-10-02T12:00:00",
                    "2025-10-02T13:00:00",
                    "2025-10-02T14:00:00",
                    "2025-10-02T15:00:00",
                    "2025-10-02T16:00:00",
                    "2025-10-02T17:00:00",
                    "2025-10-02T18:00:00",
                    "2025-10-02T19:00:00",
                    "2025-10-02T20:00:00",
                    "2025-10-02T21:00:00",
                    "2025-10-02T22:00:00",
                    "2025-10-02T23:00:00",
                    "2025-10-03T00:00:00",
                    "2025-10-03T01:00:00",
                    "2025-10-03T02:00:00",
                    "2025-10-03T03:00:00",
                    "2025-10-03T04:00:00",
                    "2025-10-03T05:00:00",
                    "2025-10-03T06:00:00",
                    "2025-10-03T07:00:00",
                    "2025-10-03T08:00:00",
                    "2025-10-03T09:00:00",
                    "2025-10-03T10:00:00",
                    "2025-10-03T11:00:00",
                    "2025-10-03T12:00:00",
                    "2025-10-03T13:00:00",
                    "2025-10-03T14:00:00",
                    "2025-10-03T15:00:00",
                    "2025-10-03T16:00:00",
                    "2025-10-03T17:00:00",
                    "2025-10-03T18:00:00",
                    "2025-10-03T19:00:00",
                    "2025-10-03T20:00:00",
                    "2025-10-03T21:00:00",
                    "2025-10-03T22:00:00",
                    "2025-10-03T23:00:00",
                    "2025-10-04T00:00:00",
                    "2025-10-04T01:00:00",
                    "2025-10-04T02:00:00",
                    "2025-10-04T03:00:00",
                    "2025-10-04T04:00:00",
                    "2025-10-04T05:00:00",
                    "2025-10-04T06:00:00",
                    "2025-10-04T07:00:00",
                    "2025-10-04T08:00:00",
                    "2025-10-04T09:00:00",
                    "2025-10-04T10:00:00",
                    "2025-10-04T11:00:00",
                    "2025-10-04T12:00:00",
                    "2025-10-04T13:00:00",
                    "2025-10-04T14:00:00",
                    "2025-10-04T15:00:00",
                    "2025-10-04T16:00:00",
                    "2025-10-04T17:00:00",
                    "2025-10-04T18:00:00",
                    "2025-10-04T19:00:00",
                    "2025-10-04T20:00:00",
                    "2025-10-04T21:00:00",
                    "2025-10-04T22:00:00",
                    "2025-10-04T23:00:00",
                    "2025-10-05T00:00:00"
                  ],
                  "xaxis": "x3",
                  "y": [
                    2,
                    2,
                    2,
                    2,
                    2,
                    2,
                    2,
                    2,
                    2,
                    2,
                    2,
                    2,
                    2,
                    2,
                    2,
                    2,
                    2,
                    2,
                    2,
                    2,
                    2,
                    2,
                    2,
                    0,
                    2,
                    2,
                    2,
                    2,
                    2,
                    2,
                    2,
                    2,
                    2,
                    2,
                    2,
                    2,
                    2,
                    2,
                    2,
                    2,
                    2,
                    2,
                    2,
                    2,
                    2,
                    2,
                    2,
                    0,
                    2,
                    2,
                    2,
                    2,
                    2,
                    0,
                    0,
                    2,
                    2,
                    2,
                    2,
                    2,
                    2,
                    2,
                    2,
                    2,
                    2,
                    2,
                    2,
                    2,
                    2,
                    0,
                    0,
                    0,
                    0
                  ],
                  "yaxis": "y3"
                },
                {
                  "marker": {
                    "color": "purple",
                    "size": 6
                  },
                  "mode": "markers",
                  "name": "ファン速度",
                  "type": "scatter",
                  "x": [
                    "2025-10-02T00:00:00",
                    "2025-10-02T01:00:00",
                    "2025-10-02T02:00:00",
                    "2025-10-02T03:00:00",
                    "2025-10-02T04:00:00",
                    "2025-10-02T05:00:00",
                    "2025-10-02T06:00:00",
                    "2025-10-02T07:00:00",
                    "2025-10-02T08:00:00",
                    "2025-10-02T09:00:00",
                    "2025-10-02T10:00:00",
                    "2025-10-02T11:00:00",
                    "2025-10-02T12:00:00",
                    "2025-10-02T13:00:00",
                    "2025-10-02T14:00:00",
                    "2025-10-02T15:00:00",
                    "2025-10-02T16:00:00",
                    "2025-10-02T17:00:00",
                    "2025-10-02T18:00:00",
                    "2025-10-02T19:00:00",
                    "2025-10-02T20:00:00",
                    "2025-10-02T21:00:00",
                    "2025-10-02T22:00:00",
                    "2025-10-02T23:00:00",
                    "2025-10-03T00:00:00",
                    "2025-10-03T01:00:00",
                    "2025-10-03T02:00:00",
                    "2025-10-03T03:00:00",
                    "2025-10-03T04:00:00",
                    "2025-10-03T05:00:00",
                    "2025-10-03T06:00:00",
                    "2025-10-03T07:00:00",
                    "2025-10-03T08:00:00",
                    "2025-10-03T09:00:00",
                    "2025-10-03T10:00:00",
                    "2025-10-03T11:00:00",
                    "2025-10-03T12:00:00",
                    "2025-10-03T13:00:00",
                    "2025-10-03T14:00:00",
                    "2025-10-03T15:00:00",
                    "2025-10-03T16:00:00",
                    "2025-10-03T17:00:00",
                    "2025-10-03T18:00:00",
                    "2025-10-03T19:00:00",
                    "2025-10-03T20:00:00",
                    "2025-10-03T21:00:00",
                    "2025-10-03T22:00:00",
                    "2025-10-03T23:00:00",
                    "2025-10-04T00:00:00",
                    "2025-10-04T01:00:00",
                    "2025-10-04T02:00:00",
                    "2025-10-04T03:00:00",
                    "2025-10-04T04:00:00",
                    "2025-10-04T05:00:00",
                    "2025-10-04T06:00:00",
                    "2025-10-04T07:00:00",
                    "2025-10-04T08:00:00",
                    "2025-10-04T09:00:00",
                    "2025-10-04T10:00:00",
                    "2025-10-04T11:00:00",
                    "2025-10-04T12:00:00",
                    "2025-10-04T13:00:00",
                    "2025-10-04T14:00:00",
                    "2025-10-04T15:00:00",
                    "2025-10-04T16:00:00",
                    "2025-10-04T17:00:00",
                    "2025-10-04T18:00:00",
                    "2025-10-04T19:00:00",
                    "2025-10-04T20:00:00",
                    "2025-10-04T21:00:00",
                    "2025-10-04T22:00:00",
                    "2025-10-04T23:00:00",
                    "2025-10-05T00:00:00"
                  ],
                  "xaxis": "x4",
                  "y": [
                    1,
                    1,
                    1,
                    1,
                    1,
                    1,
                    1,
                    1,
                    1,
                    1,
                    1,
                    1,
                    1,
                    1,
                    1,
                    1,
                    1,
                    1,
                    1,
                    1,
                    1,
                    1,
                    1,
                    1,
                    1,
                    1,
                    1,
                    1,
                    1,
                    1,
                    2,
                    1,
                    1,
                    1,
                    1,
                    1,
                    1,
                    1,
                    1,
                    1,
                    1,
                    1,
                    1,
                    1,
                    1,
                    1,
                    1,
                    1,
                    1,
                    1,
                    1,
                    1,
                    1,
                    2,
                    2,
                    2,
                    1,
                    1,
                    1,
                    1,
                    1,
                    1,
                    1,
                    1,
                    1,
                    1,
                    1,
                    1,
                    1,
                    1,
                    1,
                    1,
                    1
                  ],
                  "yaxis": "y4"
                }
              ],
              "layout": {
                "annotations": [
                  {
                    "font": {
                      "size": 16
                    },
                    "showarrow": false,
                    "text": "Area 3 - 設定温度・予測室温",
                    "x": 0.5,
                    "xanchor": "center",
                    "xref": "paper",
                    "y": 1,
                    "yanchor": "bottom",
                    "yref": "paper"
                  },
                  {
                    "font": {
                      "size": 16
                    },
                    "showarrow": false,
                    "text": "Area 3 - 予測電力",
                    "x": 0.5,
                    "xanchor": "center",
                    "xref": "paper",
                    "y": 0.73,
                    "yanchor": "bottom",
                    "yref": "paper"
                  },
                  {
                    "font": {
                      "size": 16
                    },
                    "showarrow": false,
                    "text": "Area 3 - 運転モード",
                    "x": 0.5,
                    "xanchor": "center",
                    "xref": "paper",
                    "y": 0.46,
                    "yanchor": "bottom",
                    "yref": "paper"
                  },
                  {
                    "font": {
                      "size": 16
                    },
                    "showarrow": false,
                    "text": "Area 3 - ファン速度",
                    "x": 0.5,
                    "xanchor": "center",
                    "xref": "paper",
                    "y": 0.19,
                    "yanchor": "bottom",
                    "yref": "paper"
                  }
                ],
                "height": 800,
                "showlegend": true,
                "template": {
                  "data": {
                    "bar": [
                      {
                        "error_x": {
                          "color": "#2a3f5f"
                        },
                        "error_y": {
                          "color": "#2a3f5f"
                        },
                        "marker": {
                          "line": {
                            "color": "#E5ECF6",
                            "width": 0.5
                          },
                          "pattern": {
                            "fillmode": "overlay",
                            "size": 10,
                            "solidity": 0.2
                          }
                        },
                        "type": "bar"
                      }
                    ],
                    "barpolar": [
                      {
                        "marker": {
                          "line": {
                            "color": "#E5ECF6",
                            "width": 0.5
                          },
                          "pattern": {
                            "fillmode": "overlay",
                            "size": 10,
                            "solidity": 0.2
                          }
                        },
                        "type": "barpolar"
                      }
                    ],
                    "carpet": [
                      {
                        "aaxis": {
                          "endlinecolor": "#2a3f5f",
                          "gridcolor": "white",
                          "linecolor": "white",
                          "minorgridcolor": "white",
                          "startlinecolor": "#2a3f5f"
                        },
                        "baxis": {
                          "endlinecolor": "#2a3f5f",
                          "gridcolor": "white",
                          "linecolor": "white",
                          "minorgridcolor": "white",
                          "startlinecolor": "#2a3f5f"
                        },
                        "type": "carpet"
                      }
                    ],
                    "choropleth": [
                      {
                        "colorbar": {
                          "outlinewidth": 0,
                          "ticks": ""
                        },
                        "type": "choropleth"
                      }
                    ],
                    "contour": [
                      {
                        "colorbar": {
                          "outlinewidth": 0,
                          "ticks": ""
                        },
                        "colorscale": [
                          [
                            0,
                            "#0d0887"
                          ],
                          [
                            0.1111111111111111,
                            "#46039f"
                          ],
                          [
                            0.2222222222222222,
                            "#7201a8"
                          ],
                          [
                            0.3333333333333333,
                            "#9c179e"
                          ],
                          [
                            0.4444444444444444,
                            "#bd3786"
                          ],
                          [
                            0.5555555555555556,
                            "#d8576b"
                          ],
                          [
                            0.6666666666666666,
                            "#ed7953"
                          ],
                          [
                            0.7777777777777778,
                            "#fb9f3a"
                          ],
                          [
                            0.8888888888888888,
                            "#fdca26"
                          ],
                          [
                            1,
                            "#f0f921"
                          ]
                        ],
                        "type": "contour"
                      }
                    ],
                    "contourcarpet": [
                      {
                        "colorbar": {
                          "outlinewidth": 0,
                          "ticks": ""
                        },
                        "type": "contourcarpet"
                      }
                    ],
                    "heatmap": [
                      {
                        "colorbar": {
                          "outlinewidth": 0,
                          "ticks": ""
                        },
                        "colorscale": [
                          [
                            0,
                            "#0d0887"
                          ],
                          [
                            0.1111111111111111,
                            "#46039f"
                          ],
                          [
                            0.2222222222222222,
                            "#7201a8"
                          ],
                          [
                            0.3333333333333333,
                            "#9c179e"
                          ],
                          [
                            0.4444444444444444,
                            "#bd3786"
                          ],
                          [
                            0.5555555555555556,
                            "#d8576b"
                          ],
                          [
                            0.6666666666666666,
                            "#ed7953"
                          ],
                          [
                            0.7777777777777778,
                            "#fb9f3a"
                          ],
                          [
                            0.8888888888888888,
                            "#fdca26"
                          ],
                          [
                            1,
                            "#f0f921"
                          ]
                        ],
                        "type": "heatmap"
                      }
                    ],
                    "heatmapgl": [
                      {
                        "colorbar": {
                          "outlinewidth": 0,
                          "ticks": ""
                        },
                        "colorscale": [
                          [
                            0,
                            "#0d0887"
                          ],
                          [
                            0.1111111111111111,
                            "#46039f"
                          ],
                          [
                            0.2222222222222222,
                            "#7201a8"
                          ],
                          [
                            0.3333333333333333,
                            "#9c179e"
                          ],
                          [
                            0.4444444444444444,
                            "#bd3786"
                          ],
                          [
                            0.5555555555555556,
                            "#d8576b"
                          ],
                          [
                            0.6666666666666666,
                            "#ed7953"
                          ],
                          [
                            0.7777777777777778,
                            "#fb9f3a"
                          ],
                          [
                            0.8888888888888888,
                            "#fdca26"
                          ],
                          [
                            1,
                            "#f0f921"
                          ]
                        ],
                        "type": "heatmapgl"
                      }
                    ],
                    "histogram": [
                      {
                        "marker": {
                          "pattern": {
                            "fillmode": "overlay",
                            "size": 10,
                            "solidity": 0.2
                          }
                        },
                        "type": "histogram"
                      }
                    ],
                    "histogram2d": [
                      {
                        "colorbar": {
                          "outlinewidth": 0,
                          "ticks": ""
                        },
                        "colorscale": [
                          [
                            0,
                            "#0d0887"
                          ],
                          [
                            0.1111111111111111,
                            "#46039f"
                          ],
                          [
                            0.2222222222222222,
                            "#7201a8"
                          ],
                          [
                            0.3333333333333333,
                            "#9c179e"
                          ],
                          [
                            0.4444444444444444,
                            "#bd3786"
                          ],
                          [
                            0.5555555555555556,
                            "#d8576b"
                          ],
                          [
                            0.6666666666666666,
                            "#ed7953"
                          ],
                          [
                            0.7777777777777778,
                            "#fb9f3a"
                          ],
                          [
                            0.8888888888888888,
                            "#fdca26"
                          ],
                          [
                            1,
                            "#f0f921"
                          ]
                        ],
                        "type": "histogram2d"
                      }
                    ],
                    "histogram2dcontour": [
                      {
                        "colorbar": {
                          "outlinewidth": 0,
                          "ticks": ""
                        },
                        "colorscale": [
                          [
                            0,
                            "#0d0887"
                          ],
                          [
                            0.1111111111111111,
                            "#46039f"
                          ],
                          [
                            0.2222222222222222,
                            "#7201a8"
                          ],
                          [
                            0.3333333333333333,
                            "#9c179e"
                          ],
                          [
                            0.4444444444444444,
                            "#bd3786"
                          ],
                          [
                            0.5555555555555556,
                            "#d8576b"
                          ],
                          [
                            0.6666666666666666,
                            "#ed7953"
                          ],
                          [
                            0.7777777777777778,
                            "#fb9f3a"
                          ],
                          [
                            0.8888888888888888,
                            "#fdca26"
                          ],
                          [
                            1,
                            "#f0f921"
                          ]
                        ],
                        "type": "histogram2dcontour"
                      }
                    ],
                    "mesh3d": [
                      {
                        "colorbar": {
                          "outlinewidth": 0,
                          "ticks": ""
                        },
                        "type": "mesh3d"
                      }
                    ],
                    "parcoords": [
                      {
                        "line": {
                          "colorbar": {
                            "outlinewidth": 0,
                            "ticks": ""
                          }
                        },
                        "type": "parcoords"
                      }
                    ],
                    "pie": [
                      {
                        "automargin": true,
                        "type": "pie"
                      }
                    ],
                    "scatter": [
                      {
                        "fillpattern": {
                          "fillmode": "overlay",
                          "size": 10,
                          "solidity": 0.2
                        },
                        "type": "scatter"
                      }
                    ],
                    "scatter3d": [
                      {
                        "line": {
                          "colorbar": {
                            "outlinewidth": 0,
                            "ticks": ""
                          }
                        },
                        "marker": {
                          "colorbar": {
                            "outlinewidth": 0,
                            "ticks": ""
                          }
                        },
                        "type": "scatter3d"
                      }
                    ],
                    "scattercarpet": [
                      {
                        "marker": {
                          "colorbar": {
                            "outlinewidth": 0,
                            "ticks": ""
                          }
                        },
                        "type": "scattercarpet"
                      }
                    ],
                    "scattergeo": [
                      {
                        "marker": {
                          "colorbar": {
                            "outlinewidth": 0,
                            "ticks": ""
                          }
                        },
                        "type": "scattergeo"
                      }
                    ],
                    "scattergl": [
                      {
                        "marker": {
                          "colorbar": {
                            "outlinewidth": 0,
                            "ticks": ""
                          }
                        },
                        "type": "scattergl"
                      }
                    ],
                    "scattermapbox": [
                      {
                        "marker": {
                          "colorbar": {
                            "outlinewidth": 0,
                            "ticks": ""
                          }
                        },
                        "type": "scattermapbox"
                      }
                    ],
                    "scatterpolar": [
                      {
                        "marker": {
                          "colorbar": {
                            "outlinewidth": 0,
                            "ticks": ""
                          }
                        },
                        "type": "scatterpolar"
                      }
                    ],
                    "scatterpolargl": [
                      {
                        "marker": {
                          "colorbar": {
                            "outlinewidth": 0,
                            "ticks": ""
                          }
                        },
                        "type": "scatterpolargl"
                      }
                    ],
                    "scatterternary": [
                      {
                        "marker": {
                          "colorbar": {
                            "outlinewidth": 0,
                            "ticks": ""
                          }
                        },
                        "type": "scatterternary"
                      }
                    ],
                    "surface": [
                      {
                        "colorbar": {
                          "outlinewidth": 0,
                          "ticks": ""
                        },
                        "colorscale": [
                          [
                            0,
                            "#0d0887"
                          ],
                          [
                            0.1111111111111111,
                            "#46039f"
                          ],
                          [
                            0.2222222222222222,
                            "#7201a8"
                          ],
                          [
                            0.3333333333333333,
                            "#9c179e"
                          ],
                          [
                            0.4444444444444444,
                            "#bd3786"
                          ],
                          [
                            0.5555555555555556,
                            "#d8576b"
                          ],
                          [
                            0.6666666666666666,
                            "#ed7953"
                          ],
                          [
                            0.7777777777777778,
                            "#fb9f3a"
                          ],
                          [
                            0.8888888888888888,
                            "#fdca26"
                          ],
                          [
                            1,
                            "#f0f921"
                          ]
                        ],
                        "type": "surface"
                      }
                    ],
                    "table": [
                      {
                        "cells": {
                          "fill": {
                            "color": "#EBF0F8"
                          },
                          "line": {
                            "color": "white"
                          }
                        },
                        "header": {
                          "fill": {
                            "color": "#C8D4E3"
                          },
                          "line": {
                            "color": "white"
                          }
                        },
                        "type": "table"
                      }
                    ]
                  },
                  "layout": {
                    "annotationdefaults": {
                      "arrowcolor": "#2a3f5f",
                      "arrowhead": 0,
                      "arrowwidth": 1
                    },
                    "autotypenumbers": "strict",
                    "coloraxis": {
                      "colorbar": {
                        "outlinewidth": 0,
                        "ticks": ""
                      }
                    },
                    "colorscale": {
                      "diverging": [
                        [
                          0,
                          "#8e0152"
                        ],
                        [
                          0.1,
                          "#c51b7d"
                        ],
                        [
                          0.2,
                          "#de77ae"
                        ],
                        [
                          0.3,
                          "#f1b6da"
                        ],
                        [
                          0.4,
                          "#fde0ef"
                        ],
                        [
                          0.5,
                          "#f7f7f7"
                        ],
                        [
                          0.6,
                          "#e6f5d0"
                        ],
                        [
                          0.7,
                          "#b8e186"
                        ],
                        [
                          0.8,
                          "#7fbc41"
                        ],
                        [
                          0.9,
                          "#4d9221"
                        ],
                        [
                          1,
                          "#276419"
                        ]
                      ],
                      "sequential": [
                        [
                          0,
                          "#0d0887"
                        ],
                        [
                          0.1111111111111111,
                          "#46039f"
                        ],
                        [
                          0.2222222222222222,
                          "#7201a8"
                        ],
                        [
                          0.3333333333333333,
                          "#9c179e"
                        ],
                        [
                          0.4444444444444444,
                          "#bd3786"
                        ],
                        [
                          0.5555555555555556,
                          "#d8576b"
                        ],
                        [
                          0.6666666666666666,
                          "#ed7953"
                        ],
                        [
                          0.7777777777777778,
                          "#fb9f3a"
                        ],
                        [
                          0.8888888888888888,
                          "#fdca26"
                        ],
                        [
                          1,
                          "#f0f921"
                        ]
                      ],
                      "sequentialminus": [
                        [
                          0,
                          "#0d0887"
                        ],
                        [
                          0.1111111111111111,
                          "#46039f"
                        ],
                        [
                          0.2222222222222222,
                          "#7201a8"
                        ],
                        [
                          0.3333333333333333,
                          "#9c179e"
                        ],
                        [
                          0.4444444444444444,
                          "#bd3786"
                        ],
                        [
                          0.5555555555555556,
                          "#d8576b"
                        ],
                        [
                          0.6666666666666666,
                          "#ed7953"
                        ],
                        [
                          0.7777777777777778,
                          "#fb9f3a"
                        ],
                        [
                          0.8888888888888888,
                          "#fdca26"
                        ],
                        [
                          1,
                          "#f0f921"
                        ]
                      ]
                    },
                    "colorway": [
                      "#636efa",
                      "#EF553B",
                      "#00cc96",
                      "#ab63fa",
                      "#FFA15A",
                      "#19d3f3",
                      "#FF6692",
                      "#B6E880",
                      "#FF97FF",
                      "#FECB52"
                    ],
                    "font": {
                      "color": "#2a3f5f"
                    },
                    "geo": {
                      "bgcolor": "white",
                      "lakecolor": "white",
                      "landcolor": "#E5ECF6",
                      "showlakes": true,
                      "showland": true,
                      "subunitcolor": "white"
                    },
                    "hoverlabel": {
                      "align": "left"
                    },
                    "hovermode": "closest",
                    "mapbox": {
                      "style": "light"
                    },
                    "paper_bgcolor": "white",
                    "plot_bgcolor": "#E5ECF6",
                    "polar": {
                      "angularaxis": {
                        "gridcolor": "white",
                        "linecolor": "white",
                        "ticks": ""
                      },
                      "bgcolor": "#E5ECF6",
                      "radialaxis": {
                        "gridcolor": "white",
                        "linecolor": "white",
                        "ticks": ""
                      }
                    },
                    "scene": {
                      "xaxis": {
                        "backgroundcolor": "#E5ECF6",
                        "gridcolor": "white",
                        "gridwidth": 2,
                        "linecolor": "white",
                        "showbackground": true,
                        "ticks": "",
                        "zerolinecolor": "white"
                      },
                      "yaxis": {
                        "backgroundcolor": "#E5ECF6",
                        "gridcolor": "white",
                        "gridwidth": 2,
                        "linecolor": "white",
                        "showbackground": true,
                        "ticks": "",
                        "zerolinecolor": "white"
                      },
                      "zaxis": {
                        "backgroundcolor": "#E5ECF6",
                        "gridcolor": "white",
                        "gridwidth": 2,
                        "linecolor": "white",
                        "showbackground": true,
                        "ticks": "",
                        "zerolinecolor": "white"
                      }
                    },
                    "shapedefaults": {
                      "line": {
                        "color": "#2a3f5f"
                      }
                    },
                    "ternary": {
                      "aaxis": {
                        "gridcolor": "white",
                        "linecolor": "white",
                        "ticks": ""
                      },
                      "baxis": {
                        "gridcolor": "white",
                        "linecolor": "white",
                        "ticks": ""
                      },
                      "bgcolor": "#E5ECF6",
                      "caxis": {
                        "gridcolor": "white",
                        "linecolor": "white",
                        "ticks": ""
                      }
                    },
                    "title": {
                      "x": 0.05
                    },
                    "xaxis": {
                      "automargin": true,
                      "gridcolor": "white",
                      "linecolor": "white",
                      "ticks": "",
                      "title": {
                        "standoff": 15
                      },
                      "zerolinecolor": "white",
                      "zerolinewidth": 2
                    },
                    "yaxis": {
                      "automargin": true,
                      "gridcolor": "white",
                      "linecolor": "white",
                      "ticks": "",
                      "title": {
                        "standoff": 15
                      },
                      "zerolinecolor": "white",
                      "zerolinewidth": 2
                    }
                  }
                },
                "title": {
                  "text": "Area 3 最適化結果"
                },
                "xaxis": {
                  "anchor": "y",
                  "domain": [
                    0,
                    1
                  ]
                },
                "xaxis2": {
                  "anchor": "y2",
                  "domain": [
                    0,
                    1
                  ]
                },
                "xaxis3": {
                  "anchor": "y3",
                  "domain": [
                    0,
                    1
                  ]
                },
                "xaxis4": {
                  "anchor": "y4",
                  "domain": [
                    0,
                    1
                  ],
                  "title": {
                    "text": "時刻"
                  }
                },
                "yaxis": {
                  "anchor": "x",
                  "domain": [
                    0.81,
                    1
                  ],
                  "title": {
                    "text": "温度 (°C)"
                  }
                },
                "yaxis2": {
                  "anchor": "x2",
                  "domain": [
                    0.54,
                    0.73
                  ],
                  "title": {
                    "text": "電力 (W)"
                  }
                },
                "yaxis3": {
                  "anchor": "x3",
                  "domain": [
                    0.27,
                    0.46
                  ],
                  "title": {
                    "text": "モード"
                  }
                },
                "yaxis4": {
                  "anchor": "x4",
                  "domain": [
                    0,
                    0.19
                  ],
                  "title": {
                    "text": "ファン速度"
                  }
                }
              }
            }
          },
          "metadata": {},
          "output_type": "display_data"
        },
        {
          "name": "stdout",
          "output_type": "stream",
          "text": [
            "✅ Area 3 の可視化完了\n"
          ]
        },
        {
          "data": {
            "application/vnd.plotly.v1+json": {
              "config": {
                "plotlyServerURL": "https://plot.ly"
              },
              "data": [
                {
                  "line": {
                    "color": "red",
                    "width": 2
                  },
                  "name": "設定温度",
                  "type": "scatter",
                  "x": [
                    "2025-10-02T00:00:00",
                    "2025-10-02T01:00:00",
                    "2025-10-02T02:00:00",
                    "2025-10-02T03:00:00",
                    "2025-10-02T04:00:00",
                    "2025-10-02T05:00:00",
                    "2025-10-02T06:00:00",
                    "2025-10-02T07:00:00",
                    "2025-10-02T08:00:00",
                    "2025-10-02T09:00:00",
                    "2025-10-02T10:00:00",
                    "2025-10-02T11:00:00",
                    "2025-10-02T12:00:00",
                    "2025-10-02T13:00:00",
                    "2025-10-02T14:00:00",
                    "2025-10-02T15:00:00",
                    "2025-10-02T16:00:00",
                    "2025-10-02T17:00:00",
                    "2025-10-02T18:00:00",
                    "2025-10-02T19:00:00",
                    "2025-10-02T20:00:00",
                    "2025-10-02T21:00:00",
                    "2025-10-02T22:00:00",
                    "2025-10-02T23:00:00",
                    "2025-10-03T00:00:00",
                    "2025-10-03T01:00:00",
                    "2025-10-03T02:00:00",
                    "2025-10-03T03:00:00",
                    "2025-10-03T04:00:00",
                    "2025-10-03T05:00:00",
                    "2025-10-03T06:00:00",
                    "2025-10-03T07:00:00",
                    "2025-10-03T08:00:00",
                    "2025-10-03T09:00:00",
                    "2025-10-03T10:00:00",
                    "2025-10-03T11:00:00",
                    "2025-10-03T12:00:00",
                    "2025-10-03T13:00:00",
                    "2025-10-03T14:00:00",
                    "2025-10-03T15:00:00",
                    "2025-10-03T16:00:00",
                    "2025-10-03T17:00:00",
                    "2025-10-03T18:00:00",
                    "2025-10-03T19:00:00",
                    "2025-10-03T20:00:00",
                    "2025-10-03T21:00:00",
                    "2025-10-03T22:00:00",
                    "2025-10-03T23:00:00",
                    "2025-10-04T00:00:00",
                    "2025-10-04T01:00:00",
                    "2025-10-04T02:00:00",
                    "2025-10-04T03:00:00",
                    "2025-10-04T04:00:00",
                    "2025-10-04T05:00:00",
                    "2025-10-04T06:00:00",
                    "2025-10-04T07:00:00",
                    "2025-10-04T08:00:00",
                    "2025-10-04T09:00:00",
                    "2025-10-04T10:00:00",
                    "2025-10-04T11:00:00",
                    "2025-10-04T12:00:00",
                    "2025-10-04T13:00:00",
                    "2025-10-04T14:00:00",
                    "2025-10-04T15:00:00",
                    "2025-10-04T16:00:00",
                    "2025-10-04T17:00:00",
                    "2025-10-04T18:00:00",
                    "2025-10-04T19:00:00",
                    "2025-10-04T20:00:00",
                    "2025-10-04T21:00:00",
                    "2025-10-04T22:00:00",
                    "2025-10-04T23:00:00",
                    "2025-10-05T00:00:00"
                  ],
                  "xaxis": "x",
                  "y": [
                    25,
                    25,
                    25,
                    25,
                    25,
                    25,
                    25,
                    25,
                    19,
                    25,
                    25,
                    25,
                    25,
                    25,
                    25,
                    25,
                    25,
                    25,
                    25,
                    25,
                    25,
                    22,
                    25,
                    25,
                    25,
                    22,
                    25,
                    25,
                    25,
                    25,
                    25,
                    25,
                    19,
                    25,
                    25,
                    25,
                    25,
                    25,
                    25,
                    25,
                    25,
                    25,
                    25,
                    25,
                    25,
                    24,
                    26,
                    26,
                    25,
                    25,
                    25,
                    25,
                    24,
                    24,
                    26,
                    25,
                    19,
                    25,
                    25,
                    25,
                    25,
                    25,
                    25,
                    25,
                    25,
                    25,
                    25,
                    25,
                    25,
                    26,
                    25,
                    26,
                    24
                  ],
                  "yaxis": "y"
                },
                {
                  "line": {
                    "color": "blue",
                    "width": 2
                  },
                  "name": "予測室温",
                  "type": "scatter",
                  "x": [
                    "2025-10-02T00:00:00",
                    "2025-10-02T01:00:00",
                    "2025-10-02T02:00:00",
                    "2025-10-02T03:00:00",
                    "2025-10-02T04:00:00",
                    "2025-10-02T05:00:00",
                    "2025-10-02T06:00:00",
                    "2025-10-02T07:00:00",
                    "2025-10-02T08:00:00",
                    "2025-10-02T09:00:00",
                    "2025-10-02T10:00:00",
                    "2025-10-02T11:00:00",
                    "2025-10-02T12:00:00",
                    "2025-10-02T13:00:00",
                    "2025-10-02T14:00:00",
                    "2025-10-02T15:00:00",
                    "2025-10-02T16:00:00",
                    "2025-10-02T17:00:00",
                    "2025-10-02T18:00:00",
                    "2025-10-02T19:00:00",
                    "2025-10-02T20:00:00",
                    "2025-10-02T21:00:00",
                    "2025-10-02T22:00:00",
                    "2025-10-02T23:00:00",
                    "2025-10-03T00:00:00",
                    "2025-10-03T01:00:00",
                    "2025-10-03T02:00:00",
                    "2025-10-03T03:00:00",
                    "2025-10-03T04:00:00",
                    "2025-10-03T05:00:00",
                    "2025-10-03T06:00:00",
                    "2025-10-03T07:00:00",
                    "2025-10-03T08:00:00",
                    "2025-10-03T09:00:00",
                    "2025-10-03T10:00:00",
                    "2025-10-03T11:00:00",
                    "2025-10-03T12:00:00",
                    "2025-10-03T13:00:00",
                    "2025-10-03T14:00:00",
                    "2025-10-03T15:00:00",
                    "2025-10-03T16:00:00",
                    "2025-10-03T17:00:00",
                    "2025-10-03T18:00:00",
                    "2025-10-03T19:00:00",
                    "2025-10-03T20:00:00",
                    "2025-10-03T21:00:00",
                    "2025-10-03T22:00:00",
                    "2025-10-03T23:00:00",
                    "2025-10-04T00:00:00",
                    "2025-10-04T01:00:00",
                    "2025-10-04T02:00:00",
                    "2025-10-04T03:00:00",
                    "2025-10-04T04:00:00",
                    "2025-10-04T05:00:00",
                    "2025-10-04T06:00:00",
                    "2025-10-04T07:00:00",
                    "2025-10-04T08:00:00",
                    "2025-10-04T09:00:00",
                    "2025-10-04T10:00:00",
                    "2025-10-04T11:00:00",
                    "2025-10-04T12:00:00",
                    "2025-10-04T13:00:00",
                    "2025-10-04T14:00:00",
                    "2025-10-04T15:00:00",
                    "2025-10-04T16:00:00",
                    "2025-10-04T17:00:00",
                    "2025-10-04T18:00:00",
                    "2025-10-04T19:00:00",
                    "2025-10-04T20:00:00",
                    "2025-10-04T21:00:00",
                    "2025-10-04T22:00:00",
                    "2025-10-04T23:00:00",
                    "2025-10-05T00:00:00"
                  ],
                  "xaxis": "x",
                  "y": [
                    24.21959280303031,
                    26.26707900145067,
                    28.539099702380923,
                    29.936724431818188,
                    31.543039772727283,
                    31.81364583333333,
                    30.966250000000038,
                    29.423328598484844,
                    28.1844081439394,
                    27.585135416666677,
                    27.094427083333354,
                    26.015,
                    25.782219696969676,
                    25.36399999999999,
                    24.862135416666675,
                    24.671145833333334,
                    24.365326704545442,
                    24.16471685606059,
                    24.064760416666658,
                    23.98772253787878,
                    23.934346590909094,
                    23.332026515151515,
                    23.24406250000001,
                    23.41000000000001,
                    25.05339962121212,
                    26.865937499999994,
                    29.25765625000001,
                    31.051846590909072,
                    31.54291666666666,
                    31.998229166666658,
                    31.16979166666668,
                    29.666766098484853,
                    28.282121212121236,
                    28.060281250000013,
                    27.71881628787879,
                    27.558906249999996,
                    27.33807291666668,
                    26.845729166666665,
                    26.482031250000006,
                    26.38986268939395,
                    26.10256155303032,
                    25.812156250000022,
                    25.48218750000001,
                    25.333281249999995,
                    24.966600378787888,
                    23.578177083333344,
                    23.776723484848475,
                    23.948958333333326,
                    25.527741477272734,
                    26.932135416666675,
                    28.693385416666665,
                    29.579786931818184,
                    30.982500000000012,
                    31.919834280303053,
                    31.16717329545454,
                    29.6702509469697,
                    28.188721590909118,
                    27.65036458333335,
                    27.12652462121214,
                    26.085572916666674,
                    25.92483617424244,
                    25.514447916666683,
                    25.16458333333333,
                    24.590624999999996,
                    24.25964393939393,
                    24.173956439393937,
                    24.15525189393939,
                    24.212257575757576,
                    24.388033143939396,
                    23.12163352272727,
                    23.0034375,
                    23.09776988636364,
                    24.87286931818182
                  ],
                  "yaxis": "y"
                },
                {
                  "line": {
                    "color": "green",
                    "width": 2
                  },
                  "name": "予測電力",
                  "type": "scatter",
                  "x": [
                    "2025-10-02T00:00:00",
                    "2025-10-02T01:00:00",
                    "2025-10-02T02:00:00",
                    "2025-10-02T03:00:00",
                    "2025-10-02T04:00:00",
                    "2025-10-02T05:00:00",
                    "2025-10-02T06:00:00",
                    "2025-10-02T07:00:00",
                    "2025-10-02T08:00:00",
                    "2025-10-02T09:00:00",
                    "2025-10-02T10:00:00",
                    "2025-10-02T11:00:00",
                    "2025-10-02T12:00:00",
                    "2025-10-02T13:00:00",
                    "2025-10-02T14:00:00",
                    "2025-10-02T15:00:00",
                    "2025-10-02T16:00:00",
                    "2025-10-02T17:00:00",
                    "2025-10-02T18:00:00",
                    "2025-10-02T19:00:00",
                    "2025-10-02T20:00:00",
                    "2025-10-02T21:00:00",
                    "2025-10-02T22:00:00",
                    "2025-10-02T23:00:00",
                    "2025-10-03T00:00:00",
                    "2025-10-03T01:00:00",
                    "2025-10-03T02:00:00",
                    "2025-10-03T03:00:00",
                    "2025-10-03T04:00:00",
                    "2025-10-03T05:00:00",
                    "2025-10-03T06:00:00",
                    "2025-10-03T07:00:00",
                    "2025-10-03T08:00:00",
                    "2025-10-03T09:00:00",
                    "2025-10-03T10:00:00",
                    "2025-10-03T11:00:00",
                    "2025-10-03T12:00:00",
                    "2025-10-03T13:00:00",
                    "2025-10-03T14:00:00",
                    "2025-10-03T15:00:00",
                    "2025-10-03T16:00:00",
                    "2025-10-03T17:00:00",
                    "2025-10-03T18:00:00",
                    "2025-10-03T19:00:00",
                    "2025-10-03T20:00:00",
                    "2025-10-03T21:00:00",
                    "2025-10-03T22:00:00",
                    "2025-10-03T23:00:00",
                    "2025-10-04T00:00:00",
                    "2025-10-04T01:00:00",
                    "2025-10-04T02:00:00",
                    "2025-10-04T03:00:00",
                    "2025-10-04T04:00:00",
                    "2025-10-04T05:00:00",
                    "2025-10-04T06:00:00",
                    "2025-10-04T07:00:00",
                    "2025-10-04T08:00:00",
                    "2025-10-04T09:00:00",
                    "2025-10-04T10:00:00",
                    "2025-10-04T11:00:00",
                    "2025-10-04T12:00:00",
                    "2025-10-04T13:00:00",
                    "2025-10-04T14:00:00",
                    "2025-10-04T15:00:00",
                    "2025-10-04T16:00:00",
                    "2025-10-04T17:00:00",
                    "2025-10-04T18:00:00",
                    "2025-10-04T19:00:00",
                    "2025-10-04T20:00:00",
                    "2025-10-04T21:00:00",
                    "2025-10-04T22:00:00",
                    "2025-10-04T23:00:00",
                    "2025-10-05T00:00:00"
                  ],
                  "xaxis": "x2",
                  "y": [
                    3057.7400000000002,
                    8644.772500000001,
                    3020.0975,
                    3244.2725,
                    3085.53,
                    3054.2400000000002,
                    3094.4900000000002,
                    887938.8,
                    979854.4,
                    428583.4,
                    348175.8,
                    331287.6,
                    623770,
                    680367.8,
                    744986.2,
                    701090.6,
                    702882.6,
                    823321.8,
                    848793.4,
                    840884.8,
                    852219.2,
                    2693.25,
                    3091.5325000000003,
                    3108.4900000000002,
                    4157.615000000001,
                    18230.2925,
                    3189.2700000000004,
                    3335.9025,
                    3186.505,
                    3097.8150000000005,
                    3136.3675000000003,
                    1318252.6,
                    1363332.6,
                    597627.8,
                    523542.6,
                    471132.2,
                    385985.6,
                    360753.4,
                    323957.2,
                    576045.4,
                    689810.8,
                    646272.2,
                    649496.4,
                    713661.2,
                    730801.4,
                    2752.4,
                    2771.8425,
                    2762.3225,
                    2856.2625000000003,
                    2763.11,
                    2919.28,
                    2688.175,
                    2897.0725,
                    5410.1075,
                    2718.5025000000005,
                    1330788.2,
                    1383820.2,
                    548018.8,
                    413030.8,
                    339801,
                    620923.8,
                    634708.2,
                    802012.4,
                    844978.4,
                    668017,
                    876471.4,
                    900058.6,
                    892962,
                    892962,
                    2741.83,
                    2735.7225,
                    2739.1000000000004,
                    2708.4925000000003
                  ],
                  "yaxis": "y2"
                },
                {
                  "marker": {
                    "color": "orange",
                    "size": 6
                  },
                  "mode": "markers",
                  "name": "運転モード",
                  "type": "scatter",
                  "x": [
                    "2025-10-02T00:00:00",
                    "2025-10-02T01:00:00",
                    "2025-10-02T02:00:00",
                    "2025-10-02T03:00:00",
                    "2025-10-02T04:00:00",
                    "2025-10-02T05:00:00",
                    "2025-10-02T06:00:00",
                    "2025-10-02T07:00:00",
                    "2025-10-02T08:00:00",
                    "2025-10-02T09:00:00",
                    "2025-10-02T10:00:00",
                    "2025-10-02T11:00:00",
                    "2025-10-02T12:00:00",
                    "2025-10-02T13:00:00",
                    "2025-10-02T14:00:00",
                    "2025-10-02T15:00:00",
                    "2025-10-02T16:00:00",
                    "2025-10-02T17:00:00",
                    "2025-10-02T18:00:00",
                    "2025-10-02T19:00:00",
                    "2025-10-02T20:00:00",
                    "2025-10-02T21:00:00",
                    "2025-10-02T22:00:00",
                    "2025-10-02T23:00:00",
                    "2025-10-03T00:00:00",
                    "2025-10-03T01:00:00",
                    "2025-10-03T02:00:00",
                    "2025-10-03T03:00:00",
                    "2025-10-03T04:00:00",
                    "2025-10-03T05:00:00",
                    "2025-10-03T06:00:00",
                    "2025-10-03T07:00:00",
                    "2025-10-03T08:00:00",
                    "2025-10-03T09:00:00",
                    "2025-10-03T10:00:00",
                    "2025-10-03T11:00:00",
                    "2025-10-03T12:00:00",
                    "2025-10-03T13:00:00",
                    "2025-10-03T14:00:00",
                    "2025-10-03T15:00:00",
                    "2025-10-03T16:00:00",
                    "2025-10-03T17:00:00",
                    "2025-10-03T18:00:00",
                    "2025-10-03T19:00:00",
                    "2025-10-03T20:00:00",
                    "2025-10-03T21:00:00",
                    "2025-10-03T22:00:00",
                    "2025-10-03T23:00:00",
                    "2025-10-04T00:00:00",
                    "2025-10-04T01:00:00",
                    "2025-10-04T02:00:00",
                    "2025-10-04T03:00:00",
                    "2025-10-04T04:00:00",
                    "2025-10-04T05:00:00",
                    "2025-10-04T06:00:00",
                    "2025-10-04T07:00:00",
                    "2025-10-04T08:00:00",
                    "2025-10-04T09:00:00",
                    "2025-10-04T10:00:00",
                    "2025-10-04T11:00:00",
                    "2025-10-04T12:00:00",
                    "2025-10-04T13:00:00",
                    "2025-10-04T14:00:00",
                    "2025-10-04T15:00:00",
                    "2025-10-04T16:00:00",
                    "2025-10-04T17:00:00",
                    "2025-10-04T18:00:00",
                    "2025-10-04T19:00:00",
                    "2025-10-04T20:00:00",
                    "2025-10-04T21:00:00",
                    "2025-10-04T22:00:00",
                    "2025-10-04T23:00:00",
                    "2025-10-05T00:00:00"
                  ],
                  "xaxis": "x3",
                  "y": [
                    2,
                    2,
                    2,
                    2,
                    2,
                    2,
                    2,
                    2,
                    2,
                    2,
                    2,
                    2,
                    2,
                    2,
                    2,
                    2,
                    2,
                    2,
                    2,
                    2,
                    2,
                    0,
                    2,
                    2,
                    2,
                    0,
                    2,
                    2,
                    2,
                    2,
                    2,
                    2,
                    2,
                    2,
                    2,
                    2,
                    2,
                    2,
                    2,
                    2,
                    2,
                    2,
                    2,
                    2,
                    2,
                    0,
                    2,
                    2,
                    2,
                    2,
                    2,
                    2,
                    2,
                    2,
                    2,
                    2,
                    2,
                    2,
                    2,
                    2,
                    2,
                    2,
                    2,
                    2,
                    2,
                    2,
                    2,
                    2,
                    2,
                    0,
                    2,
                    2,
                    2
                  ],
                  "yaxis": "y3"
                },
                {
                  "marker": {
                    "color": "purple",
                    "size": 6
                  },
                  "mode": "markers",
                  "name": "ファン速度",
                  "type": "scatter",
                  "x": [
                    "2025-10-02T00:00:00",
                    "2025-10-02T01:00:00",
                    "2025-10-02T02:00:00",
                    "2025-10-02T03:00:00",
                    "2025-10-02T04:00:00",
                    "2025-10-02T05:00:00",
                    "2025-10-02T06:00:00",
                    "2025-10-02T07:00:00",
                    "2025-10-02T08:00:00",
                    "2025-10-02T09:00:00",
                    "2025-10-02T10:00:00",
                    "2025-10-02T11:00:00",
                    "2025-10-02T12:00:00",
                    "2025-10-02T13:00:00",
                    "2025-10-02T14:00:00",
                    "2025-10-02T15:00:00",
                    "2025-10-02T16:00:00",
                    "2025-10-02T17:00:00",
                    "2025-10-02T18:00:00",
                    "2025-10-02T19:00:00",
                    "2025-10-02T20:00:00",
                    "2025-10-02T21:00:00",
                    "2025-10-02T22:00:00",
                    "2025-10-02T23:00:00",
                    "2025-10-03T00:00:00",
                    "2025-10-03T01:00:00",
                    "2025-10-03T02:00:00",
                    "2025-10-03T03:00:00",
                    "2025-10-03T04:00:00",
                    "2025-10-03T05:00:00",
                    "2025-10-03T06:00:00",
                    "2025-10-03T07:00:00",
                    "2025-10-03T08:00:00",
                    "2025-10-03T09:00:00",
                    "2025-10-03T10:00:00",
                    "2025-10-03T11:00:00",
                    "2025-10-03T12:00:00",
                    "2025-10-03T13:00:00",
                    "2025-10-03T14:00:00",
                    "2025-10-03T15:00:00",
                    "2025-10-03T16:00:00",
                    "2025-10-03T17:00:00",
                    "2025-10-03T18:00:00",
                    "2025-10-03T19:00:00",
                    "2025-10-03T20:00:00",
                    "2025-10-03T21:00:00",
                    "2025-10-03T22:00:00",
                    "2025-10-03T23:00:00",
                    "2025-10-04T00:00:00",
                    "2025-10-04T01:00:00",
                    "2025-10-04T02:00:00",
                    "2025-10-04T03:00:00",
                    "2025-10-04T04:00:00",
                    "2025-10-04T05:00:00",
                    "2025-10-04T06:00:00",
                    "2025-10-04T07:00:00",
                    "2025-10-04T08:00:00",
                    "2025-10-04T09:00:00",
                    "2025-10-04T10:00:00",
                    "2025-10-04T11:00:00",
                    "2025-10-04T12:00:00",
                    "2025-10-04T13:00:00",
                    "2025-10-04T14:00:00",
                    "2025-10-04T15:00:00",
                    "2025-10-04T16:00:00",
                    "2025-10-04T17:00:00",
                    "2025-10-04T18:00:00",
                    "2025-10-04T19:00:00",
                    "2025-10-04T20:00:00",
                    "2025-10-04T21:00:00",
                    "2025-10-04T22:00:00",
                    "2025-10-04T23:00:00",
                    "2025-10-05T00:00:00"
                  ],
                  "xaxis": "x4",
                  "y": [
                    1,
                    1,
                    1,
                    1,
                    2,
                    2,
                    2,
                    1,
                    1,
                    1,
                    1,
                    2,
                    1,
                    1,
                    1,
                    1,
                    1,
                    1,
                    1,
                    1,
                    1,
                    3,
                    3,
                    1,
                    3,
                    1,
                    1,
                    1,
                    2,
                    2,
                    2,
                    1,
                    1,
                    1,
                    1,
                    1,
                    1,
                    1,
                    2,
                    2,
                    2,
                    1,
                    1,
                    1,
                    1,
                    3,
                    1,
                    1,
                    1,
                    1,
                    1,
                    3,
                    1,
                    1,
                    2,
                    1,
                    1,
                    1,
                    1,
                    2,
                    1,
                    1,
                    1,
                    1,
                    1,
                    1,
                    1,
                    1,
                    1,
                    3,
                    3,
                    1,
                    1
                  ],
                  "yaxis": "y4"
                }
              ],
              "layout": {
                "annotations": [
                  {
                    "font": {
                      "size": 16
                    },
                    "showarrow": false,
                    "text": "Area 1 - 設定温度・予測室温",
                    "x": 0.5,
                    "xanchor": "center",
                    "xref": "paper",
                    "y": 1,
                    "yanchor": "bottom",
                    "yref": "paper"
                  },
                  {
                    "font": {
                      "size": 16
                    },
                    "showarrow": false,
                    "text": "Area 1 - 予測電力",
                    "x": 0.5,
                    "xanchor": "center",
                    "xref": "paper",
                    "y": 0.73,
                    "yanchor": "bottom",
                    "yref": "paper"
                  },
                  {
                    "font": {
                      "size": 16
                    },
                    "showarrow": false,
                    "text": "Area 1 - 運転モード",
                    "x": 0.5,
                    "xanchor": "center",
                    "xref": "paper",
                    "y": 0.46,
                    "yanchor": "bottom",
                    "yref": "paper"
                  },
                  {
                    "font": {
                      "size": 16
                    },
                    "showarrow": false,
                    "text": "Area 1 - ファン速度",
                    "x": 0.5,
                    "xanchor": "center",
                    "xref": "paper",
                    "y": 0.19,
                    "yanchor": "bottom",
                    "yref": "paper"
                  }
                ],
                "height": 800,
                "showlegend": true,
                "template": {
                  "data": {
                    "bar": [
                      {
                        "error_x": {
                          "color": "#2a3f5f"
                        },
                        "error_y": {
                          "color": "#2a3f5f"
                        },
                        "marker": {
                          "line": {
                            "color": "#E5ECF6",
                            "width": 0.5
                          },
                          "pattern": {
                            "fillmode": "overlay",
                            "size": 10,
                            "solidity": 0.2
                          }
                        },
                        "type": "bar"
                      }
                    ],
                    "barpolar": [
                      {
                        "marker": {
                          "line": {
                            "color": "#E5ECF6",
                            "width": 0.5
                          },
                          "pattern": {
                            "fillmode": "overlay",
                            "size": 10,
                            "solidity": 0.2
                          }
                        },
                        "type": "barpolar"
                      }
                    ],
                    "carpet": [
                      {
                        "aaxis": {
                          "endlinecolor": "#2a3f5f",
                          "gridcolor": "white",
                          "linecolor": "white",
                          "minorgridcolor": "white",
                          "startlinecolor": "#2a3f5f"
                        },
                        "baxis": {
                          "endlinecolor": "#2a3f5f",
                          "gridcolor": "white",
                          "linecolor": "white",
                          "minorgridcolor": "white",
                          "startlinecolor": "#2a3f5f"
                        },
                        "type": "carpet"
                      }
                    ],
                    "choropleth": [
                      {
                        "colorbar": {
                          "outlinewidth": 0,
                          "ticks": ""
                        },
                        "type": "choropleth"
                      }
                    ],
                    "contour": [
                      {
                        "colorbar": {
                          "outlinewidth": 0,
                          "ticks": ""
                        },
                        "colorscale": [
                          [
                            0,
                            "#0d0887"
                          ],
                          [
                            0.1111111111111111,
                            "#46039f"
                          ],
                          [
                            0.2222222222222222,
                            "#7201a8"
                          ],
                          [
                            0.3333333333333333,
                            "#9c179e"
                          ],
                          [
                            0.4444444444444444,
                            "#bd3786"
                          ],
                          [
                            0.5555555555555556,
                            "#d8576b"
                          ],
                          [
                            0.6666666666666666,
                            "#ed7953"
                          ],
                          [
                            0.7777777777777778,
                            "#fb9f3a"
                          ],
                          [
                            0.8888888888888888,
                            "#fdca26"
                          ],
                          [
                            1,
                            "#f0f921"
                          ]
                        ],
                        "type": "contour"
                      }
                    ],
                    "contourcarpet": [
                      {
                        "colorbar": {
                          "outlinewidth": 0,
                          "ticks": ""
                        },
                        "type": "contourcarpet"
                      }
                    ],
                    "heatmap": [
                      {
                        "colorbar": {
                          "outlinewidth": 0,
                          "ticks": ""
                        },
                        "colorscale": [
                          [
                            0,
                            "#0d0887"
                          ],
                          [
                            0.1111111111111111,
                            "#46039f"
                          ],
                          [
                            0.2222222222222222,
                            "#7201a8"
                          ],
                          [
                            0.3333333333333333,
                            "#9c179e"
                          ],
                          [
                            0.4444444444444444,
                            "#bd3786"
                          ],
                          [
                            0.5555555555555556,
                            "#d8576b"
                          ],
                          [
                            0.6666666666666666,
                            "#ed7953"
                          ],
                          [
                            0.7777777777777778,
                            "#fb9f3a"
                          ],
                          [
                            0.8888888888888888,
                            "#fdca26"
                          ],
                          [
                            1,
                            "#f0f921"
                          ]
                        ],
                        "type": "heatmap"
                      }
                    ],
                    "heatmapgl": [
                      {
                        "colorbar": {
                          "outlinewidth": 0,
                          "ticks": ""
                        },
                        "colorscale": [
                          [
                            0,
                            "#0d0887"
                          ],
                          [
                            0.1111111111111111,
                            "#46039f"
                          ],
                          [
                            0.2222222222222222,
                            "#7201a8"
                          ],
                          [
                            0.3333333333333333,
                            "#9c179e"
                          ],
                          [
                            0.4444444444444444,
                            "#bd3786"
                          ],
                          [
                            0.5555555555555556,
                            "#d8576b"
                          ],
                          [
                            0.6666666666666666,
                            "#ed7953"
                          ],
                          [
                            0.7777777777777778,
                            "#fb9f3a"
                          ],
                          [
                            0.8888888888888888,
                            "#fdca26"
                          ],
                          [
                            1,
                            "#f0f921"
                          ]
                        ],
                        "type": "heatmapgl"
                      }
                    ],
                    "histogram": [
                      {
                        "marker": {
                          "pattern": {
                            "fillmode": "overlay",
                            "size": 10,
                            "solidity": 0.2
                          }
                        },
                        "type": "histogram"
                      }
                    ],
                    "histogram2d": [
                      {
                        "colorbar": {
                          "outlinewidth": 0,
                          "ticks": ""
                        },
                        "colorscale": [
                          [
                            0,
                            "#0d0887"
                          ],
                          [
                            0.1111111111111111,
                            "#46039f"
                          ],
                          [
                            0.2222222222222222,
                            "#7201a8"
                          ],
                          [
                            0.3333333333333333,
                            "#9c179e"
                          ],
                          [
                            0.4444444444444444,
                            "#bd3786"
                          ],
                          [
                            0.5555555555555556,
                            "#d8576b"
                          ],
                          [
                            0.6666666666666666,
                            "#ed7953"
                          ],
                          [
                            0.7777777777777778,
                            "#fb9f3a"
                          ],
                          [
                            0.8888888888888888,
                            "#fdca26"
                          ],
                          [
                            1,
                            "#f0f921"
                          ]
                        ],
                        "type": "histogram2d"
                      }
                    ],
                    "histogram2dcontour": [
                      {
                        "colorbar": {
                          "outlinewidth": 0,
                          "ticks": ""
                        },
                        "colorscale": [
                          [
                            0,
                            "#0d0887"
                          ],
                          [
                            0.1111111111111111,
                            "#46039f"
                          ],
                          [
                            0.2222222222222222,
                            "#7201a8"
                          ],
                          [
                            0.3333333333333333,
                            "#9c179e"
                          ],
                          [
                            0.4444444444444444,
                            "#bd3786"
                          ],
                          [
                            0.5555555555555556,
                            "#d8576b"
                          ],
                          [
                            0.6666666666666666,
                            "#ed7953"
                          ],
                          [
                            0.7777777777777778,
                            "#fb9f3a"
                          ],
                          [
                            0.8888888888888888,
                            "#fdca26"
                          ],
                          [
                            1,
                            "#f0f921"
                          ]
                        ],
                        "type": "histogram2dcontour"
                      }
                    ],
                    "mesh3d": [
                      {
                        "colorbar": {
                          "outlinewidth": 0,
                          "ticks": ""
                        },
                        "type": "mesh3d"
                      }
                    ],
                    "parcoords": [
                      {
                        "line": {
                          "colorbar": {
                            "outlinewidth": 0,
                            "ticks": ""
                          }
                        },
                        "type": "parcoords"
                      }
                    ],
                    "pie": [
                      {
                        "automargin": true,
                        "type": "pie"
                      }
                    ],
                    "scatter": [
                      {
                        "fillpattern": {
                          "fillmode": "overlay",
                          "size": 10,
                          "solidity": 0.2
                        },
                        "type": "scatter"
                      }
                    ],
                    "scatter3d": [
                      {
                        "line": {
                          "colorbar": {
                            "outlinewidth": 0,
                            "ticks": ""
                          }
                        },
                        "marker": {
                          "colorbar": {
                            "outlinewidth": 0,
                            "ticks": ""
                          }
                        },
                        "type": "scatter3d"
                      }
                    ],
                    "scattercarpet": [
                      {
                        "marker": {
                          "colorbar": {
                            "outlinewidth": 0,
                            "ticks": ""
                          }
                        },
                        "type": "scattercarpet"
                      }
                    ],
                    "scattergeo": [
                      {
                        "marker": {
                          "colorbar": {
                            "outlinewidth": 0,
                            "ticks": ""
                          }
                        },
                        "type": "scattergeo"
                      }
                    ],
                    "scattergl": [
                      {
                        "marker": {
                          "colorbar": {
                            "outlinewidth": 0,
                            "ticks": ""
                          }
                        },
                        "type": "scattergl"
                      }
                    ],
                    "scattermapbox": [
                      {
                        "marker": {
                          "colorbar": {
                            "outlinewidth": 0,
                            "ticks": ""
                          }
                        },
                        "type": "scattermapbox"
                      }
                    ],
                    "scatterpolar": [
                      {
                        "marker": {
                          "colorbar": {
                            "outlinewidth": 0,
                            "ticks": ""
                          }
                        },
                        "type": "scatterpolar"
                      }
                    ],
                    "scatterpolargl": [
                      {
                        "marker": {
                          "colorbar": {
                            "outlinewidth": 0,
                            "ticks": ""
                          }
                        },
                        "type": "scatterpolargl"
                      }
                    ],
                    "scatterternary": [
                      {
                        "marker": {
                          "colorbar": {
                            "outlinewidth": 0,
                            "ticks": ""
                          }
                        },
                        "type": "scatterternary"
                      }
                    ],
                    "surface": [
                      {
                        "colorbar": {
                          "outlinewidth": 0,
                          "ticks": ""
                        },
                        "colorscale": [
                          [
                            0,
                            "#0d0887"
                          ],
                          [
                            0.1111111111111111,
                            "#46039f"
                          ],
                          [
                            0.2222222222222222,
                            "#7201a8"
                          ],
                          [
                            0.3333333333333333,
                            "#9c179e"
                          ],
                          [
                            0.4444444444444444,
                            "#bd3786"
                          ],
                          [
                            0.5555555555555556,
                            "#d8576b"
                          ],
                          [
                            0.6666666666666666,
                            "#ed7953"
                          ],
                          [
                            0.7777777777777778,
                            "#fb9f3a"
                          ],
                          [
                            0.8888888888888888,
                            "#fdca26"
                          ],
                          [
                            1,
                            "#f0f921"
                          ]
                        ],
                        "type": "surface"
                      }
                    ],
                    "table": [
                      {
                        "cells": {
                          "fill": {
                            "color": "#EBF0F8"
                          },
                          "line": {
                            "color": "white"
                          }
                        },
                        "header": {
                          "fill": {
                            "color": "#C8D4E3"
                          },
                          "line": {
                            "color": "white"
                          }
                        },
                        "type": "table"
                      }
                    ]
                  },
                  "layout": {
                    "annotationdefaults": {
                      "arrowcolor": "#2a3f5f",
                      "arrowhead": 0,
                      "arrowwidth": 1
                    },
                    "autotypenumbers": "strict",
                    "coloraxis": {
                      "colorbar": {
                        "outlinewidth": 0,
                        "ticks": ""
                      }
                    },
                    "colorscale": {
                      "diverging": [
                        [
                          0,
                          "#8e0152"
                        ],
                        [
                          0.1,
                          "#c51b7d"
                        ],
                        [
                          0.2,
                          "#de77ae"
                        ],
                        [
                          0.3,
                          "#f1b6da"
                        ],
                        [
                          0.4,
                          "#fde0ef"
                        ],
                        [
                          0.5,
                          "#f7f7f7"
                        ],
                        [
                          0.6,
                          "#e6f5d0"
                        ],
                        [
                          0.7,
                          "#b8e186"
                        ],
                        [
                          0.8,
                          "#7fbc41"
                        ],
                        [
                          0.9,
                          "#4d9221"
                        ],
                        [
                          1,
                          "#276419"
                        ]
                      ],
                      "sequential": [
                        [
                          0,
                          "#0d0887"
                        ],
                        [
                          0.1111111111111111,
                          "#46039f"
                        ],
                        [
                          0.2222222222222222,
                          "#7201a8"
                        ],
                        [
                          0.3333333333333333,
                          "#9c179e"
                        ],
                        [
                          0.4444444444444444,
                          "#bd3786"
                        ],
                        [
                          0.5555555555555556,
                          "#d8576b"
                        ],
                        [
                          0.6666666666666666,
                          "#ed7953"
                        ],
                        [
                          0.7777777777777778,
                          "#fb9f3a"
                        ],
                        [
                          0.8888888888888888,
                          "#fdca26"
                        ],
                        [
                          1,
                          "#f0f921"
                        ]
                      ],
                      "sequentialminus": [
                        [
                          0,
                          "#0d0887"
                        ],
                        [
                          0.1111111111111111,
                          "#46039f"
                        ],
                        [
                          0.2222222222222222,
                          "#7201a8"
                        ],
                        [
                          0.3333333333333333,
                          "#9c179e"
                        ],
                        [
                          0.4444444444444444,
                          "#bd3786"
                        ],
                        [
                          0.5555555555555556,
                          "#d8576b"
                        ],
                        [
                          0.6666666666666666,
                          "#ed7953"
                        ],
                        [
                          0.7777777777777778,
                          "#fb9f3a"
                        ],
                        [
                          0.8888888888888888,
                          "#fdca26"
                        ],
                        [
                          1,
                          "#f0f921"
                        ]
                      ]
                    },
                    "colorway": [
                      "#636efa",
                      "#EF553B",
                      "#00cc96",
                      "#ab63fa",
                      "#FFA15A",
                      "#19d3f3",
                      "#FF6692",
                      "#B6E880",
                      "#FF97FF",
                      "#FECB52"
                    ],
                    "font": {
                      "color": "#2a3f5f"
                    },
                    "geo": {
                      "bgcolor": "white",
                      "lakecolor": "white",
                      "landcolor": "#E5ECF6",
                      "showlakes": true,
                      "showland": true,
                      "subunitcolor": "white"
                    },
                    "hoverlabel": {
                      "align": "left"
                    },
                    "hovermode": "closest",
                    "mapbox": {
                      "style": "light"
                    },
                    "paper_bgcolor": "white",
                    "plot_bgcolor": "#E5ECF6",
                    "polar": {
                      "angularaxis": {
                        "gridcolor": "white",
                        "linecolor": "white",
                        "ticks": ""
                      },
                      "bgcolor": "#E5ECF6",
                      "radialaxis": {
                        "gridcolor": "white",
                        "linecolor": "white",
                        "ticks": ""
                      }
                    },
                    "scene": {
                      "xaxis": {
                        "backgroundcolor": "#E5ECF6",
                        "gridcolor": "white",
                        "gridwidth": 2,
                        "linecolor": "white",
                        "showbackground": true,
                        "ticks": "",
                        "zerolinecolor": "white"
                      },
                      "yaxis": {
                        "backgroundcolor": "#E5ECF6",
                        "gridcolor": "white",
                        "gridwidth": 2,
                        "linecolor": "white",
                        "showbackground": true,
                        "ticks": "",
                        "zerolinecolor": "white"
                      },
                      "zaxis": {
                        "backgroundcolor": "#E5ECF6",
                        "gridcolor": "white",
                        "gridwidth": 2,
                        "linecolor": "white",
                        "showbackground": true,
                        "ticks": "",
                        "zerolinecolor": "white"
                      }
                    },
                    "shapedefaults": {
                      "line": {
                        "color": "#2a3f5f"
                      }
                    },
                    "ternary": {
                      "aaxis": {
                        "gridcolor": "white",
                        "linecolor": "white",
                        "ticks": ""
                      },
                      "baxis": {
                        "gridcolor": "white",
                        "linecolor": "white",
                        "ticks": ""
                      },
                      "bgcolor": "#E5ECF6",
                      "caxis": {
                        "gridcolor": "white",
                        "linecolor": "white",
                        "ticks": ""
                      }
                    },
                    "title": {
                      "x": 0.05
                    },
                    "xaxis": {
                      "automargin": true,
                      "gridcolor": "white",
                      "linecolor": "white",
                      "ticks": "",
                      "title": {
                        "standoff": 15
                      },
                      "zerolinecolor": "white",
                      "zerolinewidth": 2
                    },
                    "yaxis": {
                      "automargin": true,
                      "gridcolor": "white",
                      "linecolor": "white",
                      "ticks": "",
                      "title": {
                        "standoff": 15
                      },
                      "zerolinecolor": "white",
                      "zerolinewidth": 2
                    }
                  }
                },
                "title": {
                  "text": "Area 1 最適化結果"
                },
                "xaxis": {
                  "anchor": "y",
                  "domain": [
                    0,
                    1
                  ]
                },
                "xaxis2": {
                  "anchor": "y2",
                  "domain": [
                    0,
                    1
                  ]
                },
                "xaxis3": {
                  "anchor": "y3",
                  "domain": [
                    0,
                    1
                  ]
                },
                "xaxis4": {
                  "anchor": "y4",
                  "domain": [
                    0,
                    1
                  ],
                  "title": {
                    "text": "時刻"
                  }
                },
                "yaxis": {
                  "anchor": "x",
                  "domain": [
                    0.81,
                    1
                  ],
                  "title": {
                    "text": "温度 (°C)"
                  }
                },
                "yaxis2": {
                  "anchor": "x2",
                  "domain": [
                    0.54,
                    0.73
                  ],
                  "title": {
                    "text": "電力 (W)"
                  }
                },
                "yaxis3": {
                  "anchor": "x3",
                  "domain": [
                    0.27,
                    0.46
                  ],
                  "title": {
                    "text": "モード"
                  }
                },
                "yaxis4": {
                  "anchor": "x4",
                  "domain": [
                    0,
                    0.19
                  ],
                  "title": {
                    "text": "ファン速度"
                  }
                }
              }
            }
          },
          "metadata": {},
          "output_type": "display_data"
        },
        {
          "name": "stdout",
          "output_type": "stream",
          "text": [
            "✅ Area 1 の可視化完了\n"
          ]
        }
      ],
      "source": [
        "# 最適化結果の可視化\n",
        "if schedule is not None:\n",
        "    # 各ゾーンの結果を可視化\n",
        "    for zone_name, zone_schedule in schedule.items():\n",
        "        # データの準備\n",
        "        timestamps = list(zone_schedule.keys())\n",
        "        set_temps = [zone_schedule[t]['set_temp'] for t in timestamps]\n",
        "        pred_temps = [zone_schedule[t]['pred_temp'] for t in timestamps]\n",
        "        pred_powers = [zone_schedule[t]['pred_power'] for t in timestamps]\n",
        "        modes = [zone_schedule[t]['mode'] for t in timestamps]\n",
        "        fans = [zone_schedule[t]['fan'] for t in timestamps]\n",
        "        \n",
        "        # サブプロットの作成\n",
        "        fig = make_subplots(\n",
        "            rows=4, cols=1,\n",
        "            subplot_titles=[\n",
        "                f\"{zone_name} - 設定温度・予測室温\",\n",
        "                f\"{zone_name} - 予測電力\",\n",
        "                f\"{zone_name} - 運転モード\",\n",
        "                f\"{zone_name} - ファン速度\"\n",
        "            ],\n",
        "            vertical_spacing=0.08\n",
        "        )\n",
        "        \n",
        "        # 設定温度・予測室温\n",
        "        fig.add_trace(\n",
        "            go.Scatter(x=timestamps, y=set_temps, name='設定温度', line=dict(color='red', width=2)),\n",
        "            row=1, col=1\n",
        "        )\n",
        "        fig.add_trace(\n",
        "            go.Scatter(x=timestamps, y=pred_temps, name='予測室温', line=dict(color='blue', width=2)),\n",
        "            row=1, col=1\n",
        "        )\n",
        "        \n",
        "        # 予測電力\n",
        "        fig.add_trace(\n",
        "            go.Scatter(x=timestamps, y=pred_powers, name='予測電力', line=dict(color='green', width=2)),\n",
        "            row=2, col=1\n",
        "        )\n",
        "        \n",
        "        # 運転モード\n",
        "        fig.add_trace(\n",
        "            go.Scatter(x=timestamps, y=modes, name='運転モード', mode='markers', marker=dict(color='orange', size=6)),\n",
        "            row=3, col=1\n",
        "        )\n",
        "        \n",
        "        # ファン速度\n",
        "        fig.add_trace(\n",
        "            go.Scatter(x=timestamps, y=fans, name='ファン速度', mode='markers', marker=dict(color='purple', size=6)),\n",
        "            row=4, col=1\n",
        "        )\n",
        "        \n",
        "        # レイアウトの設定\n",
        "        fig.update_layout(\n",
        "            title=f\"{zone_name} 最適化結果\",\n",
        "            height=800,\n",
        "            showlegend=True\n",
        "        )\n",
        "        \n",
        "        # 軸ラベルの設定\n",
        "        fig.update_xaxes(title_text=\"時刻\", row=4, col=1)\n",
        "        fig.update_yaxes(title_text=\"温度 (°C)\", row=1, col=1)\n",
        "        fig.update_yaxes(title_text=\"電力 (W)\", row=2, col=1)\n",
        "        fig.update_yaxes(title_text=\"モード\", row=3, col=1)\n",
        "        fig.update_yaxes(title_text=\"ファン速度\", row=4, col=1)\n",
        "        \n",
        "        fig.show()\n",
        "        \n",
        "        print(f\"✅ {zone_name} の可視化完了\")\n",
        "else:\n",
        "    print(\"❌ 最適化結果がありません\")\n"
      ]
    },
    {
      "cell_type": "code",
      "execution_count": null,
      "metadata": {},
      "outputs": [
        {
          "data": {
            "application/vnd.plotly.v1+json": {
              "config": {
                "plotlyServerURL": "https://plot.ly"
              },
              "data": [
                {
                  "line": {
                    "color": "orange",
                    "width": 2
                  },
                  "name": "外気温",
                  "type": "scatter",
                  "x": [
                    "2025-10-02T00:00:00",
                    "2025-10-02T01:00:00",
                    "2025-10-02T02:00:00",
                    "2025-10-02T03:00:00",
                    "2025-10-02T04:00:00",
                    "2025-10-02T05:00:00",
                    "2025-10-02T06:00:00",
                    "2025-10-02T07:00:00",
                    "2025-10-02T08:00:00",
                    "2025-10-02T09:00:00",
                    "2025-10-02T10:00:00",
                    "2025-10-02T11:00:00",
                    "2025-10-02T12:00:00",
                    "2025-10-02T13:00:00",
                    "2025-10-02T14:00:00",
                    "2025-10-02T15:00:00",
                    "2025-10-02T16:00:00",
                    "2025-10-02T17:00:00",
                    "2025-10-02T18:00:00",
                    "2025-10-02T19:00:00",
                    "2025-10-02T20:00:00",
                    "2025-10-02T21:00:00",
                    "2025-10-02T22:00:00",
                    "2025-10-02T23:00:00",
                    "2025-10-03T00:00:00",
                    "2025-10-03T01:00:00",
                    "2025-10-03T02:00:00",
                    "2025-10-03T03:00:00",
                    "2025-10-03T04:00:00",
                    "2025-10-03T05:00:00",
                    "2025-10-03T06:00:00",
                    "2025-10-03T07:00:00",
                    "2025-10-03T08:00:00",
                    "2025-10-03T09:00:00",
                    "2025-10-03T10:00:00",
                    "2025-10-03T11:00:00",
                    "2025-10-03T12:00:00",
                    "2025-10-03T13:00:00",
                    "2025-10-03T14:00:00",
                    "2025-10-03T15:00:00",
                    "2025-10-03T16:00:00",
                    "2025-10-03T17:00:00",
                    "2025-10-03T18:00:00",
                    "2025-10-03T19:00:00",
                    "2025-10-03T20:00:00",
                    "2025-10-03T21:00:00",
                    "2025-10-03T22:00:00",
                    "2025-10-03T23:00:00",
                    "2025-10-04T00:00:00",
                    "2025-10-04T01:00:00",
                    "2025-10-04T02:00:00",
                    "2025-10-04T03:00:00",
                    "2025-10-04T04:00:00",
                    "2025-10-04T05:00:00",
                    "2025-10-04T06:00:00",
                    "2025-10-04T07:00:00",
                    "2025-10-04T08:00:00",
                    "2025-10-04T09:00:00",
                    "2025-10-04T10:00:00",
                    "2025-10-04T11:00:00",
                    "2025-10-04T12:00:00",
                    "2025-10-04T13:00:00",
                    "2025-10-04T14:00:00",
                    "2025-10-04T15:00:00",
                    "2025-10-04T16:00:00",
                    "2025-10-04T17:00:00",
                    "2025-10-04T18:00:00",
                    "2025-10-04T19:00:00",
                    "2025-10-04T20:00:00",
                    "2025-10-04T21:00:00",
                    "2025-10-04T22:00:00",
                    "2025-10-04T23:00:00",
                    "2025-10-05T00:00:00"
                  ],
                  "xaxis": "x",
                  "y": [
                    9.63076396295138,
                    10.806652105754585,
                    11.986274908779642,
                    12.283440638020727,
                    14.439038052429611,
                    14.538997030495766,
                    14.229442133605923,
                    13.89464538407923,
                    16.570402528816764,
                    13.311253411495263,
                    13.04019647039143,
                    10.326258177590011,
                    8.638471647612011,
                    7.945065214104154,
                    8.357777219456265,
                    7.394574876657828,
                    4.777116081621953,
                    4.884175362823768,
                    5.763230417613004,
                    3.916694910015925,
                    6.630884209720689,
                    6.270974817402259,
                    9.485986313609974,
                    7.651435337997434,
                    10.887771971312024,
                    12.120372126869956,
                    12.082430124383567,
                    12.212885386303272,
                    14.619224223212479,
                    15.408860076537659,
                    15.645760115281442,
                    13.744547115367652,
                    14.622431336533543,
                    12.830451708276383,
                    13.7983207340222,
                    12.411782578035407,
                    9.628993995281714,
                    8.758801101366098,
                    8.561204072473497,
                    8.377510485876643,
                    4.410414775824363,
                    3.9601033826712184,
                    4.56622168320636,
                    5.030864955051642,
                    4.010586881404976,
                    5.3852218396235445,
                    7.655070076035958,
                    9.109493168374463,
                    9.866855311145592,
                    11.295402324346334,
                    11.569821712317312,
                    13.315465659520877,
                    15.487883786915843,
                    14.06587223924235,
                    14.265177809286921,
                    13.148978367571656,
                    14.478972166854232,
                    13.170212915603045,
                    12.742756411732676,
                    10.317193278140772,
                    10.42668824574373,
                    7.779921362814191,
                    7.0282527117969895,
                    5.975841302831929,
                    4.396537879439692,
                    6.269922063377136,
                    6.151954833925775,
                    3.9730258872617528,
                    5.571766523464093,
                    6.768736129081782,
                    6.3220890968360965,
                    8.906454885769767,
                    12.080238547325449
                  ],
                  "yaxis": "y"
                },
                {
                  "line": {
                    "color": "lightblue",
                    "width": 2
                  },
                  "name": "外気湿度",
                  "type": "scatter",
                  "x": [
                    "2025-10-02T00:00:00",
                    "2025-10-02T01:00:00",
                    "2025-10-02T02:00:00",
                    "2025-10-02T03:00:00",
                    "2025-10-02T04:00:00",
                    "2025-10-02T05:00:00",
                    "2025-10-02T06:00:00",
                    "2025-10-02T07:00:00",
                    "2025-10-02T08:00:00",
                    "2025-10-02T09:00:00",
                    "2025-10-02T10:00:00",
                    "2025-10-02T11:00:00",
                    "2025-10-02T12:00:00",
                    "2025-10-02T13:00:00",
                    "2025-10-02T14:00:00",
                    "2025-10-02T15:00:00",
                    "2025-10-02T16:00:00",
                    "2025-10-02T17:00:00",
                    "2025-10-02T18:00:00",
                    "2025-10-02T19:00:00",
                    "2025-10-02T20:00:00",
                    "2025-10-02T21:00:00",
                    "2025-10-02T22:00:00",
                    "2025-10-02T23:00:00",
                    "2025-10-03T00:00:00",
                    "2025-10-03T01:00:00",
                    "2025-10-03T02:00:00",
                    "2025-10-03T03:00:00",
                    "2025-10-03T04:00:00",
                    "2025-10-03T05:00:00",
                    "2025-10-03T06:00:00",
                    "2025-10-03T07:00:00",
                    "2025-10-03T08:00:00",
                    "2025-10-03T09:00:00",
                    "2025-10-03T10:00:00",
                    "2025-10-03T11:00:00",
                    "2025-10-03T12:00:00",
                    "2025-10-03T13:00:00",
                    "2025-10-03T14:00:00",
                    "2025-10-03T15:00:00",
                    "2025-10-03T16:00:00",
                    "2025-10-03T17:00:00",
                    "2025-10-03T18:00:00",
                    "2025-10-03T19:00:00",
                    "2025-10-03T20:00:00",
                    "2025-10-03T21:00:00",
                    "2025-10-03T22:00:00",
                    "2025-10-03T23:00:00",
                    "2025-10-04T00:00:00",
                    "2025-10-04T01:00:00",
                    "2025-10-04T02:00:00",
                    "2025-10-04T03:00:00",
                    "2025-10-04T04:00:00",
                    "2025-10-04T05:00:00",
                    "2025-10-04T06:00:00",
                    "2025-10-04T07:00:00",
                    "2025-10-04T08:00:00",
                    "2025-10-04T09:00:00",
                    "2025-10-04T10:00:00",
                    "2025-10-04T11:00:00",
                    "2025-10-04T12:00:00",
                    "2025-10-04T13:00:00",
                    "2025-10-04T14:00:00",
                    "2025-10-04T15:00:00",
                    "2025-10-04T16:00:00",
                    "2025-10-04T17:00:00",
                    "2025-10-04T18:00:00",
                    "2025-10-04T19:00:00",
                    "2025-10-04T20:00:00",
                    "2025-10-04T21:00:00",
                    "2025-10-04T22:00:00",
                    "2025-10-04T23:00:00",
                    "2025-10-05T00:00:00"
                  ],
                  "xaxis": "x2",
                  "y": [
                    56.521370940136016,
                    68.98124400793552,
                    76.38241808927249,
                    70.79782229779485,
                    80,
                    80,
                    80,
                    80,
                    70.7239957272673,
                    68.96108043411799,
                    76.54464552477995,
                    59.92219631140536,
                    60.26261465977751,
                    57.02102939914334,
                    49.20430752611752,
                    45.245591215092766,
                    40.835177496871886,
                    40,
                    40,
                    44.98734660363109,
                    42.54594406680858,
                    46.71350369413728,
                    53.77065073154242,
                    55.13434834138452,
                    57.45005192581448,
                    71.16046110882633,
                    72.20327185150803,
                    60.70776961182893,
                    80,
                    80,
                    77.20233066396344,
                    72.22646521039567,
                    79.74717305077729,
                    69.78469172426269,
                    68.4899531747027,
                    68.97718418082512,
                    59.81662259935778,
                    57.31298392589017,
                    41.98466371368771,
                    48.34906832099452,
                    52.61745027778744,
                    40,
                    42.640287321333076,
                    40,
                    45.15313353939229,
                    54.26196646634696,
                    54.38458223949463,
                    53.67460532956985,
                    58.361417731724835,
                    67.0831731464345,
                    64.33913693249157,
                    76.08064937287558,
                    71.11085919855202,
                    69.78160432963627,
                    80,
                    79.13390789640152,
                    80,
                    76.23618387122411,
                    65.0881073392965,
                    60.14130109890682,
                    62.10809196517205,
                    53.67143014649989,
                    45.57641199600967,
                    50.069854520354305,
                    40,
                    41.701275010463746,
                    40,
                    40.46589076237429,
                    40.72424900359648,
                    45.13518159077519,
                    46.23184451043663,
                    51.908424947902034,
                    60.828470201075596
                  ],
                  "yaxis": "y2"
                },
                {
                  "line": {
                    "color": "yellow",
                    "width": 2
                  },
                  "name": "日射量",
                  "type": "scatter",
                  "x": [
                    "2025-10-02T00:00:00",
                    "2025-10-02T01:00:00",
                    "2025-10-02T02:00:00",
                    "2025-10-02T03:00:00",
                    "2025-10-02T04:00:00",
                    "2025-10-02T05:00:00",
                    "2025-10-02T06:00:00",
                    "2025-10-02T07:00:00",
                    "2025-10-02T08:00:00",
                    "2025-10-02T09:00:00",
                    "2025-10-02T10:00:00",
                    "2025-10-02T11:00:00",
                    "2025-10-02T12:00:00",
                    "2025-10-02T13:00:00",
                    "2025-10-02T14:00:00",
                    "2025-10-02T15:00:00",
                    "2025-10-02T16:00:00",
                    "2025-10-02T17:00:00",
                    "2025-10-02T18:00:00",
                    "2025-10-02T19:00:00",
                    "2025-10-02T20:00:00",
                    "2025-10-02T21:00:00",
                    "2025-10-02T22:00:00",
                    "2025-10-02T23:00:00",
                    "2025-10-03T00:00:00",
                    "2025-10-03T01:00:00",
                    "2025-10-03T02:00:00",
                    "2025-10-03T03:00:00",
                    "2025-10-03T04:00:00",
                    "2025-10-03T05:00:00",
                    "2025-10-03T06:00:00",
                    "2025-10-03T07:00:00",
                    "2025-10-03T08:00:00",
                    "2025-10-03T09:00:00",
                    "2025-10-03T10:00:00",
                    "2025-10-03T11:00:00",
                    "2025-10-03T12:00:00",
                    "2025-10-03T13:00:00",
                    "2025-10-03T14:00:00",
                    "2025-10-03T15:00:00",
                    "2025-10-03T16:00:00",
                    "2025-10-03T17:00:00",
                    "2025-10-03T18:00:00",
                    "2025-10-03T19:00:00",
                    "2025-10-03T20:00:00",
                    "2025-10-03T21:00:00",
                    "2025-10-03T22:00:00",
                    "2025-10-03T23:00:00",
                    "2025-10-04T00:00:00",
                    "2025-10-04T01:00:00",
                    "2025-10-04T02:00:00",
                    "2025-10-04T03:00:00",
                    "2025-10-04T04:00:00",
                    "2025-10-04T05:00:00",
                    "2025-10-04T06:00:00",
                    "2025-10-04T07:00:00",
                    "2025-10-04T08:00:00",
                    "2025-10-04T09:00:00",
                    "2025-10-04T10:00:00",
                    "2025-10-04T11:00:00",
                    "2025-10-04T12:00:00",
                    "2025-10-04T13:00:00",
                    "2025-10-04T14:00:00",
                    "2025-10-04T15:00:00",
                    "2025-10-04T16:00:00",
                    "2025-10-04T17:00:00",
                    "2025-10-04T18:00:00",
                    "2025-10-04T19:00:00",
                    "2025-10-04T20:00:00",
                    "2025-10-04T21:00:00",
                    "2025-10-04T22:00:00",
                    "2025-10-04T23:00:00",
                    "2025-10-05T00:00:00"
                  ],
                  "xaxis": "x3",
                  "y": [
                    0,
                    0,
                    0,
                    0,
                    0,
                    0,
                    20.70195736564448,
                    137.68750135557684,
                    277.0425880075299,
                    354.99257673487415,
                    317.9757696069647,
                    436.15595412410005,
                    590.1129147140538,
                    453.64877460414795,
                    378.651110925377,
                    334.1352700382481,
                    236.10492055566152,
                    51.303600301084586,
                    6.840789346565465,
                    0,
                    0,
                    0,
                    0,
                    0,
                    0,
                    0,
                    0,
                    0,
                    0,
                    0,
                    0,
                    152.54226129758828,
                    204.67020985545963,
                    298.75184415719536,
                    425.9107754593704,
                    480.87898355574765,
                    508.1810248048971,
                    507.13814689295776,
                    422.02873756492386,
                    356.1969070673203,
                    226.98268383590192,
                    213.50987255625205,
                    0,
                    0,
                    0,
                    0,
                    0,
                    0,
                    0,
                    0,
                    0,
                    0,
                    0,
                    0,
                    0.19345504207282435,
                    160.47200718151862,
                    110.82225119898581,
                    333.3911421999967,
                    434.3328626153385,
                    517.0353008563742,
                    454.0775688559988,
                    462.7653367431693,
                    458.9388428216381,
                    291.3987714966955,
                    235.6423570983552,
                    125.20618643866162,
                    0,
                    0,
                    0,
                    0,
                    0,
                    0,
                    0
                  ],
                  "yaxis": "y3"
                }
              ],
              "layout": {
                "annotations": [
                  {
                    "font": {
                      "size": 16
                    },
                    "showarrow": false,
                    "text": "外気温",
                    "x": 0.5,
                    "xanchor": "center",
                    "xref": "paper",
                    "y": 1,
                    "yanchor": "bottom",
                    "yref": "paper"
                  },
                  {
                    "font": {
                      "size": 16
                    },
                    "showarrow": false,
                    "text": "外気湿度",
                    "x": 0.5,
                    "xanchor": "center",
                    "xref": "paper",
                    "y": 0.6399999999999999,
                    "yanchor": "bottom",
                    "yref": "paper"
                  },
                  {
                    "font": {
                      "size": 16
                    },
                    "showarrow": false,
                    "text": "日射量",
                    "x": 0.5,
                    "xanchor": "center",
                    "xref": "paper",
                    "y": 0.27999999999999997,
                    "yanchor": "bottom",
                    "yref": "paper"
                  }
                ],
                "height": 600,
                "showlegend": true,
                "template": {
                  "data": {
                    "bar": [
                      {
                        "error_x": {
                          "color": "#2a3f5f"
                        },
                        "error_y": {
                          "color": "#2a3f5f"
                        },
                        "marker": {
                          "line": {
                            "color": "#E5ECF6",
                            "width": 0.5
                          },
                          "pattern": {
                            "fillmode": "overlay",
                            "size": 10,
                            "solidity": 0.2
                          }
                        },
                        "type": "bar"
                      }
                    ],
                    "barpolar": [
                      {
                        "marker": {
                          "line": {
                            "color": "#E5ECF6",
                            "width": 0.5
                          },
                          "pattern": {
                            "fillmode": "overlay",
                            "size": 10,
                            "solidity": 0.2
                          }
                        },
                        "type": "barpolar"
                      }
                    ],
                    "carpet": [
                      {
                        "aaxis": {
                          "endlinecolor": "#2a3f5f",
                          "gridcolor": "white",
                          "linecolor": "white",
                          "minorgridcolor": "white",
                          "startlinecolor": "#2a3f5f"
                        },
                        "baxis": {
                          "endlinecolor": "#2a3f5f",
                          "gridcolor": "white",
                          "linecolor": "white",
                          "minorgridcolor": "white",
                          "startlinecolor": "#2a3f5f"
                        },
                        "type": "carpet"
                      }
                    ],
                    "choropleth": [
                      {
                        "colorbar": {
                          "outlinewidth": 0,
                          "ticks": ""
                        },
                        "type": "choropleth"
                      }
                    ],
                    "contour": [
                      {
                        "colorbar": {
                          "outlinewidth": 0,
                          "ticks": ""
                        },
                        "colorscale": [
                          [
                            0,
                            "#0d0887"
                          ],
                          [
                            0.1111111111111111,
                            "#46039f"
                          ],
                          [
                            0.2222222222222222,
                            "#7201a8"
                          ],
                          [
                            0.3333333333333333,
                            "#9c179e"
                          ],
                          [
                            0.4444444444444444,
                            "#bd3786"
                          ],
                          [
                            0.5555555555555556,
                            "#d8576b"
                          ],
                          [
                            0.6666666666666666,
                            "#ed7953"
                          ],
                          [
                            0.7777777777777778,
                            "#fb9f3a"
                          ],
                          [
                            0.8888888888888888,
                            "#fdca26"
                          ],
                          [
                            1,
                            "#f0f921"
                          ]
                        ],
                        "type": "contour"
                      }
                    ],
                    "contourcarpet": [
                      {
                        "colorbar": {
                          "outlinewidth": 0,
                          "ticks": ""
                        },
                        "type": "contourcarpet"
                      }
                    ],
                    "heatmap": [
                      {
                        "colorbar": {
                          "outlinewidth": 0,
                          "ticks": ""
                        },
                        "colorscale": [
                          [
                            0,
                            "#0d0887"
                          ],
                          [
                            0.1111111111111111,
                            "#46039f"
                          ],
                          [
                            0.2222222222222222,
                            "#7201a8"
                          ],
                          [
                            0.3333333333333333,
                            "#9c179e"
                          ],
                          [
                            0.4444444444444444,
                            "#bd3786"
                          ],
                          [
                            0.5555555555555556,
                            "#d8576b"
                          ],
                          [
                            0.6666666666666666,
                            "#ed7953"
                          ],
                          [
                            0.7777777777777778,
                            "#fb9f3a"
                          ],
                          [
                            0.8888888888888888,
                            "#fdca26"
                          ],
                          [
                            1,
                            "#f0f921"
                          ]
                        ],
                        "type": "heatmap"
                      }
                    ],
                    "heatmapgl": [
                      {
                        "colorbar": {
                          "outlinewidth": 0,
                          "ticks": ""
                        },
                        "colorscale": [
                          [
                            0,
                            "#0d0887"
                          ],
                          [
                            0.1111111111111111,
                            "#46039f"
                          ],
                          [
                            0.2222222222222222,
                            "#7201a8"
                          ],
                          [
                            0.3333333333333333,
                            "#9c179e"
                          ],
                          [
                            0.4444444444444444,
                            "#bd3786"
                          ],
                          [
                            0.5555555555555556,
                            "#d8576b"
                          ],
                          [
                            0.6666666666666666,
                            "#ed7953"
                          ],
                          [
                            0.7777777777777778,
                            "#fb9f3a"
                          ],
                          [
                            0.8888888888888888,
                            "#fdca26"
                          ],
                          [
                            1,
                            "#f0f921"
                          ]
                        ],
                        "type": "heatmapgl"
                      }
                    ],
                    "histogram": [
                      {
                        "marker": {
                          "pattern": {
                            "fillmode": "overlay",
                            "size": 10,
                            "solidity": 0.2
                          }
                        },
                        "type": "histogram"
                      }
                    ],
                    "histogram2d": [
                      {
                        "colorbar": {
                          "outlinewidth": 0,
                          "ticks": ""
                        },
                        "colorscale": [
                          [
                            0,
                            "#0d0887"
                          ],
                          [
                            0.1111111111111111,
                            "#46039f"
                          ],
                          [
                            0.2222222222222222,
                            "#7201a8"
                          ],
                          [
                            0.3333333333333333,
                            "#9c179e"
                          ],
                          [
                            0.4444444444444444,
                            "#bd3786"
                          ],
                          [
                            0.5555555555555556,
                            "#d8576b"
                          ],
                          [
                            0.6666666666666666,
                            "#ed7953"
                          ],
                          [
                            0.7777777777777778,
                            "#fb9f3a"
                          ],
                          [
                            0.8888888888888888,
                            "#fdca26"
                          ],
                          [
                            1,
                            "#f0f921"
                          ]
                        ],
                        "type": "histogram2d"
                      }
                    ],
                    "histogram2dcontour": [
                      {
                        "colorbar": {
                          "outlinewidth": 0,
                          "ticks": ""
                        },
                        "colorscale": [
                          [
                            0,
                            "#0d0887"
                          ],
                          [
                            0.1111111111111111,
                            "#46039f"
                          ],
                          [
                            0.2222222222222222,
                            "#7201a8"
                          ],
                          [
                            0.3333333333333333,
                            "#9c179e"
                          ],
                          [
                            0.4444444444444444,
                            "#bd3786"
                          ],
                          [
                            0.5555555555555556,
                            "#d8576b"
                          ],
                          [
                            0.6666666666666666,
                            "#ed7953"
                          ],
                          [
                            0.7777777777777778,
                            "#fb9f3a"
                          ],
                          [
                            0.8888888888888888,
                            "#fdca26"
                          ],
                          [
                            1,
                            "#f0f921"
                          ]
                        ],
                        "type": "histogram2dcontour"
                      }
                    ],
                    "mesh3d": [
                      {
                        "colorbar": {
                          "outlinewidth": 0,
                          "ticks": ""
                        },
                        "type": "mesh3d"
                      }
                    ],
                    "parcoords": [
                      {
                        "line": {
                          "colorbar": {
                            "outlinewidth": 0,
                            "ticks": ""
                          }
                        },
                        "type": "parcoords"
                      }
                    ],
                    "pie": [
                      {
                        "automargin": true,
                        "type": "pie"
                      }
                    ],
                    "scatter": [
                      {
                        "fillpattern": {
                          "fillmode": "overlay",
                          "size": 10,
                          "solidity": 0.2
                        },
                        "type": "scatter"
                      }
                    ],
                    "scatter3d": [
                      {
                        "line": {
                          "colorbar": {
                            "outlinewidth": 0,
                            "ticks": ""
                          }
                        },
                        "marker": {
                          "colorbar": {
                            "outlinewidth": 0,
                            "ticks": ""
                          }
                        },
                        "type": "scatter3d"
                      }
                    ],
                    "scattercarpet": [
                      {
                        "marker": {
                          "colorbar": {
                            "outlinewidth": 0,
                            "ticks": ""
                          }
                        },
                        "type": "scattercarpet"
                      }
                    ],
                    "scattergeo": [
                      {
                        "marker": {
                          "colorbar": {
                            "outlinewidth": 0,
                            "ticks": ""
                          }
                        },
                        "type": "scattergeo"
                      }
                    ],
                    "scattergl": [
                      {
                        "marker": {
                          "colorbar": {
                            "outlinewidth": 0,
                            "ticks": ""
                          }
                        },
                        "type": "scattergl"
                      }
                    ],
                    "scattermapbox": [
                      {
                        "marker": {
                          "colorbar": {
                            "outlinewidth": 0,
                            "ticks": ""
                          }
                        },
                        "type": "scattermapbox"
                      }
                    ],
                    "scatterpolar": [
                      {
                        "marker": {
                          "colorbar": {
                            "outlinewidth": 0,
                            "ticks": ""
                          }
                        },
                        "type": "scatterpolar"
                      }
                    ],
                    "scatterpolargl": [
                      {
                        "marker": {
                          "colorbar": {
                            "outlinewidth": 0,
                            "ticks": ""
                          }
                        },
                        "type": "scatterpolargl"
                      }
                    ],
                    "scatterternary": [
                      {
                        "marker": {
                          "colorbar": {
                            "outlinewidth": 0,
                            "ticks": ""
                          }
                        },
                        "type": "scatterternary"
                      }
                    ],
                    "surface": [
                      {
                        "colorbar": {
                          "outlinewidth": 0,
                          "ticks": ""
                        },
                        "colorscale": [
                          [
                            0,
                            "#0d0887"
                          ],
                          [
                            0.1111111111111111,
                            "#46039f"
                          ],
                          [
                            0.2222222222222222,
                            "#7201a8"
                          ],
                          [
                            0.3333333333333333,
                            "#9c179e"
                          ],
                          [
                            0.4444444444444444,
                            "#bd3786"
                          ],
                          [
                            0.5555555555555556,
                            "#d8576b"
                          ],
                          [
                            0.6666666666666666,
                            "#ed7953"
                          ],
                          [
                            0.7777777777777778,
                            "#fb9f3a"
                          ],
                          [
                            0.8888888888888888,
                            "#fdca26"
                          ],
                          [
                            1,
                            "#f0f921"
                          ]
                        ],
                        "type": "surface"
                      }
                    ],
                    "table": [
                      {
                        "cells": {
                          "fill": {
                            "color": "#EBF0F8"
                          },
                          "line": {
                            "color": "white"
                          }
                        },
                        "header": {
                          "fill": {
                            "color": "#C8D4E3"
                          },
                          "line": {
                            "color": "white"
                          }
                        },
                        "type": "table"
                      }
                    ]
                  },
                  "layout": {
                    "annotationdefaults": {
                      "arrowcolor": "#2a3f5f",
                      "arrowhead": 0,
                      "arrowwidth": 1
                    },
                    "autotypenumbers": "strict",
                    "coloraxis": {
                      "colorbar": {
                        "outlinewidth": 0,
                        "ticks": ""
                      }
                    },
                    "colorscale": {
                      "diverging": [
                        [
                          0,
                          "#8e0152"
                        ],
                        [
                          0.1,
                          "#c51b7d"
                        ],
                        [
                          0.2,
                          "#de77ae"
                        ],
                        [
                          0.3,
                          "#f1b6da"
                        ],
                        [
                          0.4,
                          "#fde0ef"
                        ],
                        [
                          0.5,
                          "#f7f7f7"
                        ],
                        [
                          0.6,
                          "#e6f5d0"
                        ],
                        [
                          0.7,
                          "#b8e186"
                        ],
                        [
                          0.8,
                          "#7fbc41"
                        ],
                        [
                          0.9,
                          "#4d9221"
                        ],
                        [
                          1,
                          "#276419"
                        ]
                      ],
                      "sequential": [
                        [
                          0,
                          "#0d0887"
                        ],
                        [
                          0.1111111111111111,
                          "#46039f"
                        ],
                        [
                          0.2222222222222222,
                          "#7201a8"
                        ],
                        [
                          0.3333333333333333,
                          "#9c179e"
                        ],
                        [
                          0.4444444444444444,
                          "#bd3786"
                        ],
                        [
                          0.5555555555555556,
                          "#d8576b"
                        ],
                        [
                          0.6666666666666666,
                          "#ed7953"
                        ],
                        [
                          0.7777777777777778,
                          "#fb9f3a"
                        ],
                        [
                          0.8888888888888888,
                          "#fdca26"
                        ],
                        [
                          1,
                          "#f0f921"
                        ]
                      ],
                      "sequentialminus": [
                        [
                          0,
                          "#0d0887"
                        ],
                        [
                          0.1111111111111111,
                          "#46039f"
                        ],
                        [
                          0.2222222222222222,
                          "#7201a8"
                        ],
                        [
                          0.3333333333333333,
                          "#9c179e"
                        ],
                        [
                          0.4444444444444444,
                          "#bd3786"
                        ],
                        [
                          0.5555555555555556,
                          "#d8576b"
                        ],
                        [
                          0.6666666666666666,
                          "#ed7953"
                        ],
                        [
                          0.7777777777777778,
                          "#fb9f3a"
                        ],
                        [
                          0.8888888888888888,
                          "#fdca26"
                        ],
                        [
                          1,
                          "#f0f921"
                        ]
                      ]
                    },
                    "colorway": [
                      "#636efa",
                      "#EF553B",
                      "#00cc96",
                      "#ab63fa",
                      "#FFA15A",
                      "#19d3f3",
                      "#FF6692",
                      "#B6E880",
                      "#FF97FF",
                      "#FECB52"
                    ],
                    "font": {
                      "color": "#2a3f5f"
                    },
                    "geo": {
                      "bgcolor": "white",
                      "lakecolor": "white",
                      "landcolor": "#E5ECF6",
                      "showlakes": true,
                      "showland": true,
                      "subunitcolor": "white"
                    },
                    "hoverlabel": {
                      "align": "left"
                    },
                    "hovermode": "closest",
                    "mapbox": {
                      "style": "light"
                    },
                    "paper_bgcolor": "white",
                    "plot_bgcolor": "#E5ECF6",
                    "polar": {
                      "angularaxis": {
                        "gridcolor": "white",
                        "linecolor": "white",
                        "ticks": ""
                      },
                      "bgcolor": "#E5ECF6",
                      "radialaxis": {
                        "gridcolor": "white",
                        "linecolor": "white",
                        "ticks": ""
                      }
                    },
                    "scene": {
                      "xaxis": {
                        "backgroundcolor": "#E5ECF6",
                        "gridcolor": "white",
                        "gridwidth": 2,
                        "linecolor": "white",
                        "showbackground": true,
                        "ticks": "",
                        "zerolinecolor": "white"
                      },
                      "yaxis": {
                        "backgroundcolor": "#E5ECF6",
                        "gridcolor": "white",
                        "gridwidth": 2,
                        "linecolor": "white",
                        "showbackground": true,
                        "ticks": "",
                        "zerolinecolor": "white"
                      },
                      "zaxis": {
                        "backgroundcolor": "#E5ECF6",
                        "gridcolor": "white",
                        "gridwidth": 2,
                        "linecolor": "white",
                        "showbackground": true,
                        "ticks": "",
                        "zerolinecolor": "white"
                      }
                    },
                    "shapedefaults": {
                      "line": {
                        "color": "#2a3f5f"
                      }
                    },
                    "ternary": {
                      "aaxis": {
                        "gridcolor": "white",
                        "linecolor": "white",
                        "ticks": ""
                      },
                      "baxis": {
                        "gridcolor": "white",
                        "linecolor": "white",
                        "ticks": ""
                      },
                      "bgcolor": "#E5ECF6",
                      "caxis": {
                        "gridcolor": "white",
                        "linecolor": "white",
                        "ticks": ""
                      }
                    },
                    "title": {
                      "x": 0.05
                    },
                    "xaxis": {
                      "automargin": true,
                      "gridcolor": "white",
                      "linecolor": "white",
                      "ticks": "",
                      "title": {
                        "standoff": 15
                      },
                      "zerolinecolor": "white",
                      "zerolinewidth": 2
                    },
                    "yaxis": {
                      "automargin": true,
                      "gridcolor": "white",
                      "linecolor": "white",
                      "ticks": "",
                      "title": {
                        "standoff": 15
                      },
                      "zerolinecolor": "white",
                      "zerolinewidth": 2
                    }
                  }
                },
                "title": {
                  "text": "天気予報データ"
                },
                "xaxis": {
                  "anchor": "y",
                  "domain": [
                    0,
                    1
                  ]
                },
                "xaxis2": {
                  "anchor": "y2",
                  "domain": [
                    0,
                    1
                  ]
                },
                "xaxis3": {
                  "anchor": "y3",
                  "domain": [
                    0,
                    1
                  ],
                  "title": {
                    "text": "時刻"
                  }
                },
                "yaxis": {
                  "anchor": "x",
                  "domain": [
                    0.72,
                    1
                  ],
                  "title": {
                    "text": "温度 (°C)"
                  }
                },
                "yaxis2": {
                  "anchor": "x2",
                  "domain": [
                    0.36,
                    0.6399999999999999
                  ],
                  "title": {
                    "text": "湿度 (%)"
                  }
                },
                "yaxis3": {
                  "anchor": "x3",
                  "domain": [
                    0,
                    0.27999999999999997
                  ],
                  "title": {
                    "text": "日射量 (W/m²)"
                  }
                }
              }
            }
          },
          "metadata": {},
          "output_type": "display_data"
        },
        {
          "name": "stdout",
          "output_type": "stream",
          "text": [
            "✅ 天気予報データの可視化完了\n"
          ]
        }
      ],
      "source": [
        "# 天気予報データの可視化\n",
        "if weather_df is not None:\n",
        "    fig = make_subplots(\n",
        "        rows=3, cols=1,\n",
        "        subplot_titles=[\n",
        "            \"外気温\",\n",
        "            \"外気湿度\",\n",
        "            \"日射量\"\n",
        "        ],\n",
        "        vertical_spacing=0.08\n",
        "    )\n",
        "    \n",
        "    # 外気温\n",
        "    fig.add_trace(\n",
        "        go.Scatter(x=weather_df['datetime'], y=weather_df['Outdoor Temp.'], name='外気温', line=dict(color='orange', width=2)),\n",
        "        row=1, col=1\n",
        "    )\n",
        "    \n",
        "    # 外気湿度\n",
        "    fig.add_trace(\n",
        "        go.Scatter(x=weather_df['datetime'], y=weather_df['Outdoor Humidity'], name='外気湿度', line=dict(color='lightblue', width=2)),\n",
        "        row=2, col=1\n",
        "    )\n",
        "    \n",
        "    # 日射量\n",
        "    fig.add_trace(\n",
        "        go.Scatter(x=weather_df['datetime'], y=weather_df['Solar Radiation'], name='日射量', line=dict(color='yellow', width=2)),\n",
        "        row=3, col=1\n",
        "    )\n",
        "    \n",
        "    # レイアウトの設定\n",
        "    fig.update_layout(\n",
        "        title=\"天気予報データ\",\n",
        "        height=600,\n",
        "        showlegend=True\n",
        "    )\n",
        "    \n",
        "    # 軸ラベルの設定\n",
        "    fig.update_xaxes(title_text=\"時刻\", row=3, col=1)\n",
        "    fig.update_yaxes(title_text=\"温度 (°C)\", row=1, col=1)\n",
        "    fig.update_yaxes(title_text=\"湿度 (%)\", row=2, col=1)\n",
        "    fig.update_yaxes(title_text=\"日射量 (W/m²)\", row=3, col=1)\n",
        "    \n",
        "    fig.show()\n",
        "    print(\"✅ 天気予報データの可視化完了\")\n"
      ]
    },
    {
      "cell_type": "code",
      "execution_count": null,
      "metadata": {},
      "outputs": [
        {
          "name": "stdout",
          "output_type": "stream",
          "text": [
            "📁 最適化結果のCSV出力...\n"
          ]
        },
        {
          "ename": "TypeError",
          "evalue": "Planner.__init__() missing 2 required positional arguments: 'store_name' and 'master'",
          "output_type": "error",
          "traceback": [
            "\u001b[0;31m---------------------------------------------------------------------------\u001b[0m",
            "\u001b[0;31mTypeError\u001b[0m                                 Traceback (most recent call last)",
            "Cell \u001b[0;32mIn[25], line 10\u001b[0m\n\u001b[1;32m      7\u001b[0m os\u001b[38;5;241m.\u001b[39mmakedirs(output_dir, exist_ok\u001b[38;5;241m=\u001b[39m\u001b[38;5;28;01mTrue\u001b[39;00m)\n\u001b[1;32m      9\u001b[0m \u001b[38;5;66;03m# プランナーの初期化\u001b[39;00m\n\u001b[0;32m---> 10\u001b[0m planner \u001b[38;5;241m=\u001b[39m \u001b[43mPlanner\u001b[49m\u001b[43m(\u001b[49m\u001b[43m)\u001b[49m\n\u001b[1;32m     12\u001b[0m \u001b[38;5;66;03m# スケジュールの出力\u001b[39;00m\n\u001b[1;32m     13\u001b[0m planner\u001b[38;5;241m.\u001b[39mexport(schedule, output_dir)\n",
            "\u001b[0;31mTypeError\u001b[0m: Planner.__init__() missing 2 required positional arguments: 'store_name' and 'master'"
          ]
        }
      ],
      "source": [
        "# 最適化結果のCSV出力\n",
        "if schedule is not None:\n",
        "    print(\"📁 最適化結果のCSV出力...\")\n",
        "    \n",
        "    # 出力ディレクトリの作成\n",
        "    output_dir = f\"data/04_OutputData/{store_name}\"\n",
        "    os.makedirs(output_dir, exist_ok=True)\n",
        "    \n",
        "    # プランナーの初期化\n",
        "    planner = Planner()\n",
        "    \n",
        "    # スケジュールの出力\n",
        "    planner.export(schedule, output_dir)\n",
        "    \n",
        "    print(f\"✅ 最適化結果を出力しました: {output_dir}\")\n",
        "    \n",
        "    # 天気予報データの出力\n",
        "    weather_output_path = os.path.join(output_dir, \"weather_forecast.csv\")\n",
        "    weather_df.to_csv(weather_output_path, index=False, encoding=\"utf-8-sig\")\n",
        "    print(f\"✅ 天気予報データを出力しました: {weather_output_path}\")\n",
        "    \n",
        "    # 出力ファイルの確認\n",
        "    print(f\"\\n📋 出力ファイル:\")\n",
        "    for file in os.listdir(output_dir):\n",
        "        if file.endswith('.csv'):\n",
        "            file_path = os.path.join(output_dir, file)\n",
        "            file_size = os.path.getsize(file_path)\n",
        "            print(f\"  - {file} ({file_size:,} bytes)\")\n",
        "else:\n",
        "    print(\"❌ 最適化結果がありません\")\n"
      ]
    },
    {
      "cell_type": "markdown",
      "metadata": {},
      "source": [
        "## 6. 改善提案・次のステップ\n",
        "\n",
        "各ステップの結果を基に、改善提案を行います。\n"
      ]
    },
    {
      "cell_type": "code",
      "execution_count": null,
      "metadata": {},
      "outputs": [],
      "source": [
        "# 改善提案の生成\n",
        "print(\"🔍 改善提案・次のステップ:\")\n",
        "print(\"\\n1. データ品質の改善:\")\n",
        "if area_df is not None:\n",
        "    missing_data = area_df.isnull().sum()\n",
        "    missing_data = missing_data[missing_data > 0]\n",
        "    if len(missing_data) > 0:\n",
        "        print(f\"   - 欠損値の補完: {missing_data.index.tolist()}\")\n",
        "    else:\n",
        "        print(\"   - データ品質は良好です\")\n",
        "\n",
        "print(\"\\n2. 特徴量エンジニアリングの改善:\")\n",
        "print(\"   - ラグ特徴量の追加（過去の温度・電力の影響）\")\n",
        "print(\"   - 移動平均特徴量の追加\")\n",
        "print(\"   - 外気温との差分特徴量の追加\")\n",
        "\n",
        "print(\"\\n3. モデル性能の改善:\")\n",
        "if models is not None:\n",
        "    for zone_name, model_pack in models.items():\n",
        "        if model_pack.temp_model:\n",
        "            print(f\"   - {zone_name}: 温度モデルの性能向上\")\n",
        "        if model_pack.power_model:\n",
        "            print(f\"   - {zone_name}: 電力モデルの性能向上\")\n",
        "\n",
        "print(\"\\n4. 最適化アルゴリズムの改善:\")\n",
        "print(\"   - ビーム幅の調整\")\n",
        "print(\"   - 制約条件の追加\")\n",
        "print(\"   - 多目的最適化の実装\")\n",
        "\n",
        "print(\"\\n5. 可視化・分析の改善:\")\n",
        "print(\"   - 実績データとの比較\")\n",
        "print(\"   - 感度分析の追加\")\n",
        "print(\"   - コスト分析の追加\")\n",
        "\n",
        "print(\"\\n✅ 改善提案完了\")\n"
      ]
    },
    {
      "cell_type": "markdown",
      "metadata": {},
      "source": [
        "## 7. 実行ログ・デバッグ情報\n",
        "\n",
        "実行過程でのログやデバッグ情報を記録します。\n"
      ]
    },
    {
      "cell_type": "code",
      "execution_count": null,
      "metadata": {},
      "outputs": [],
      "source": [
        "# 実行ログの記録\n",
        "print(\"📝 実行ログ・デバッグ情報:\")\n",
        "print(f\"\\n🕐 実行日時: {pd.Timestamp.now()}\")\n",
        "print(f\"🏢 対象ストア: {store_name}\")\n",
        "print(f\"📊 データ形状: {area_df.shape if area_df is not None else 'N/A'}\")\n",
        "print(f\"🔧 モデル数: {len(models) if models is not None else 0}\")\n",
        "print(f\"⏰ 最適化時間数: {len(date_range) if 'date_range' in locals() else 0}\")\n",
        "print(f\"📈 スケジュール数: {len(schedule) if schedule is not None else 0}\")\n",
        "\n",
        "# メモリ使用量の確認\n",
        "try:\n",
        "    import psutil\n",
        "    memory_info = psutil.virtual_memory()\n",
        "    print(f\"\\n💾 メモリ使用量: {memory_info.percent:.1f}% ({memory_info.used / 1024**3:.1f}GB / {memory_info.total / 1024**3:.1f}GB)\")\n",
        "except ImportError:\n",
        "    print(\"\\n💾 メモリ使用量: psutilがインストールされていません\")\n",
        "\n",
        "print(\"\\n✅ 実行ログ記録完了\")\n"
      ]
    },
    {
      "cell_type": "code",
      "execution_count": null,
      "metadata": {},
      "outputs": [],
      "source": []
    },
    {
      "cell_type": "code",
      "execution_count": null,
      "metadata": {},
      "outputs": [],
      "source": []
    }
  ],
  "metadata": {
    "kernelspec": {
      "display_name": "base",
      "language": "python",
      "name": "python3"
    },
    "language_info": {
      "codemirror_mode": {
        "name": "ipython",
        "version": 3
      },
      "file_extension": ".py",
      "mimetype": "text/x-python",
      "name": "python",
      "nbconvert_exporter": "python",
      "pygments_lexer": "ipython3",
      "version": "3.10.9"
    }
  },
  "nbformat": 4,
  "nbformat_minor": 2
}
