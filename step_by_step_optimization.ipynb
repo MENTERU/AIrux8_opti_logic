{
  "cells": [
    {
      "cell_type": "markdown",
      "metadata": {},
      "source": [
        "# 空調最適化システム - 段階的プロセス確認・改善ノートブック\n",
        "\n",
        "このノートブックでは、前処理後データから電力・環境予測モデル構築、制御値探索、結果出力までのプロセスを段階的に確認・改善します。\n",
        "\n",
        "## プロセス概要\n",
        "1. **データ読み込み・確認** - 前処理済みデータの内容確認\n",
        "2. **特徴量エンジニアリング** - モデル学習用特徴量の準備\n",
        "3. **予測モデル構築** - 電力・環境予測モデルの学習・評価\n",
        "4. **制御値探索** - 最適制御値の探索・評価\n",
        "5. **結果出力・可視化** - 最適化結果の出力・分析\n",
        "\n",
        "各ステップで中間結果を確認し、必要に応じて改善を行います。\n"
      ]
    },
    {
      "cell_type": "code",
      "execution_count": 1,
      "metadata": {},
      "outputs": [
        {
          "ename": "ModuleNotFoundError",
          "evalue": "No module named 'shap'",
          "output_type": "error",
          "traceback": [
            "\u001b[0;31m---------------------------------------------------------------------------\u001b[0m",
            "\u001b[0;31mModuleNotFoundError\u001b[0m                       Traceback (most recent call last)",
            "Cell \u001b[0;32mIn[1], line 37\u001b[0m\n\u001b[1;32m     34\u001b[0m \u001b[38;5;28;01mfrom\u001b[39;00m \u001b[38;5;21;01mprocessing\u001b[39;00m\u001b[38;5;21;01m.\u001b[39;00m\u001b[38;5;21;01mpreprocessor\u001b[39;00m \u001b[38;5;28;01mimport\u001b[39;00m DataPreprocessor\n\u001b[1;32m     36\u001b[0m \u001b[38;5;28;01mfrom\u001b[39;00m \u001b[38;5;21;01mprocessing\u001b[39;00m\u001b[38;5;21;01m.\u001b[39;00m\u001b[38;5;21;01maggregator\u001b[39;00m \u001b[38;5;28;01mimport\u001b[39;00m AreaAggregator\n\u001b[0;32m---> 37\u001b[0m \u001b[38;5;28;01mfrom\u001b[39;00m \u001b[38;5;21;01mtraining\u001b[39;00m\u001b[38;5;21;01m.\u001b[39;00m\u001b[38;5;21;01mmodel_builder\u001b[39;00m \u001b[38;5;28;01mimport\u001b[39;00m ModelBuilder, EnvPowerModels\n\u001b[1;32m     38\u001b[0m \u001b[38;5;28;01mfrom\u001b[39;00m \u001b[38;5;21;01moptimization\u001b[39;00m\u001b[38;5;21;01m.\u001b[39;00m\u001b[38;5;21;01mperiod_optimizer\u001b[39;00m \u001b[38;5;28;01mimport\u001b[39;00m PeriodOptimizer\n\u001b[1;32m     39\u001b[0m \u001b[38;5;28;01mfrom\u001b[39;00m \u001b[38;5;21;01mplanning\u001b[39;00m\u001b[38;5;21;01m.\u001b[39;00m\u001b[38;5;21;01mplanner\u001b[39;00m \u001b[38;5;28;01mimport\u001b[39;00m Planner\n",
            "File \u001b[0;32m~/Desktop/workspace/AIrux8_opti_logic/training/model_builder.py:9\u001b[0m\n\u001b[1;32m      7\u001b[0m \u001b[38;5;28;01mimport\u001b[39;00m \u001b[38;5;21;01mnumpy\u001b[39;00m \u001b[38;5;28;01mas\u001b[39;00m \u001b[38;5;21;01mnp\u001b[39;00m\n\u001b[1;32m      8\u001b[0m \u001b[38;5;28;01mimport\u001b[39;00m \u001b[38;5;21;01mpandas\u001b[39;00m \u001b[38;5;28;01mas\u001b[39;00m \u001b[38;5;21;01mpd\u001b[39;00m\n\u001b[0;32m----> 9\u001b[0m \u001b[38;5;28;01mimport\u001b[39;00m \u001b[38;5;21;01mshap\u001b[39;00m\n\u001b[1;32m     10\u001b[0m \u001b[38;5;28;01mfrom\u001b[39;00m \u001b[38;5;21;01msklearn\u001b[39;00m\u001b[38;5;21;01m.\u001b[39;00m\u001b[38;5;21;01mensemble\u001b[39;00m \u001b[38;5;28;01mimport\u001b[39;00m RandomForestRegressor\n\u001b[1;32m     11\u001b[0m \u001b[38;5;28;01mfrom\u001b[39;00m \u001b[38;5;21;01msklearn\u001b[39;00m\u001b[38;5;21;01m.\u001b[39;00m\u001b[38;5;21;01mmetrics\u001b[39;00m \u001b[38;5;28;01mimport\u001b[39;00m (\n\u001b[1;32m     12\u001b[0m     mean_absolute_error,\n\u001b[1;32m     13\u001b[0m     mean_absolute_percentage_error,\n\u001b[1;32m     14\u001b[0m     r2_score,\n\u001b[1;32m     15\u001b[0m )\n",
            "\u001b[0;31mModuleNotFoundError\u001b[0m: No module named 'shap'"
          ]
        }
      ],
      "source": [
        "# 必要なライブラリのインポート\n",
        "import os\n",
        "import sys\n",
        "import time\n",
        "import warnings\n",
        "from typing import Dict, List, Optional, Tuple\n",
        "\n",
        "import numpy as np\n",
        "import pandas as pd\n",
        "import plotly.graph_objects as go\n",
        "import plotly.express as px\n",
        "from plotly.subplots import make_subplots\n",
        "from sklearn.ensemble import RandomForestRegressor\n",
        "from sklearn.metrics import mean_absolute_error, r2_score\n",
        "from sklearn.model_selection import train_test_split\n",
        "import joblib\n",
        "import jpholiday  # 祝日検出用\n",
        "\n",
        "# プロジェクトのルートディレクトリをパスに追加\n",
        "sys.path.append('.')\n",
        "\n",
        "# モジュールの再読み込みを有効化\n",
        "import importlib\n",
        "\n",
        "# 設定とユーティリティのインポート\n",
        "from config.utils import load_config, get_data_path\n",
        "\n",
        "# # モジュールを再読み込み（最新のコードを反映）\n",
        "# try:\n",
        "#     importlib.reload(sys.modules['processing.preprocessor'])\n",
        "# except KeyError:\n",
        "#     pass  # まだ読み込まれていない場合はスキップ\n",
        "\n",
        "from processing.preprocessor import DataPreprocessor\n",
        "\n",
        "from processing.aggregator import AreaAggregator\n",
        "from training.model_builder import ModelBuilder, EnvPowerModels\n",
        "from optimization.period_optimizer import PeriodOptimizer\n",
        "from planning.planner import Planner\n",
        "\n",
        "# 警告を非表示\n",
        "warnings.filterwarnings('ignore')\n",
        "\n",
        "print(\"✅ ライブラリのインポート完了\")\n"
      ]
    },
    {
      "cell_type": "markdown",
      "metadata": {},
      "source": [
        "## 1. 前処理プロセス\n",
        "\n",
        "生データから前処理済みデータまでのプロセスを確認します。\n",
        "\n",
        "### 1.1 生データの読み込み・確認\n"
      ]
    },
    {
      "cell_type": "code",
      "execution_count": null,
      "metadata": {},
      "outputs": [
        {
          "name": "stdout",
          "output_type": "stream",
          "text": [
            "🏢 ストア: Clea\n",
            "📊 マスターデータ: ['store_info', 'zones']\n",
            "🏢 ゾーン数: 6\n",
            "🌍 座標: 35.681236%2C139.767125\n",
            "📁 データディレクトリ: /Users/tomokiinoue/Desktop/workspace/AIrux8_opti_logic/data/00_InputData/Clea\n",
            "📁 出力ディレクトリ: /Users/tomokiinoue/Desktop/workspace/AIrux8_opti_logic/data/02_PreprocessedData/Clea\n"
          ]
        }
      ],
      "source": [
        "# 設定の読み込み\n",
        "config = load_config()\n",
        "store_name = \"Clea\"\n",
        "\n",
        "# マスターデータの読み込み\n",
        "master_path = f\"data/01_MasterData/MASTER_{store_name}.json\"\n",
        "import json\n",
        "with open(master_path, 'r', encoding='utf-8') as f:\n",
        "    master = json.load(f)\n",
        "\n",
        "print(f\"🏢 ストア: {store_name}\")\n",
        "print(f\"📊 マスターデータ: {list(master.keys())}\")\n",
        "print(f\"🏢 ゾーン数: {len(master.get('zones', {}))}\")\n",
        "print(f\"🌍 座標: {master.get('store_info', {}).get('coordinates', 'N/A')}\")\n",
        "\n",
        "# 前処理器の初期化\n",
        "preprocessor = DataPreprocessor(store_name)\n",
        "print(f\"📁 データディレクトリ: {preprocessor.data_dir}\")\n",
        "print(f\"📁 出力ディレクトリ: {preprocessor.output_dir}\")\n"
      ]
    },
    {
      "cell_type": "code",
      "execution_count": null,
      "metadata": {},
      "outputs": [
        {
          "name": "stdout",
          "output_type": "stream",
          "text": [
            "🔍 生データの読み込み...\n",
            "[DataPreprocessor] Loading raw data from: /Users/tomokiinoue/Desktop/workspace/AIrux8_opti_logic/data/00_InputData/Clea\n",
            "[DataPreprocessor] Directory exists: True\n",
            "[DataPreprocessor] Found 18 AC control files\n",
            "[DataPreprocessor] Found 24 power meter files\n",
            "[DataPreprocessor] AC files: ['/Users/tomokiinoue/Desktop/workspace/AIrux8_opti_logic/data/00_InputData/Clea/ac-control/ac-control-50,66,67,65,59,63,57,68,69,75,49,56,52,64,54,53,55,58,62,60,51,373-logs-2025-07-01-2025-07-31.csv']...\n",
            "[DataPreprocessor] PM files: ['/Users/tomokiinoue/Desktop/workspace/AIrux8_opti_logic/data/00_InputData/Clea/ac-power-meter/ac-power-meter-44,49,44,49,49,49,43,44,44,49,41,43,44,49,43,44,43,49,49,49,44-7,9,2,1,7,4,1,4,4,3,1,3,5,2,4,1,2,8,6,4,3-logs-2025-05-01-2025-05-31.csv']...\n",
            "[DataPreprocessor] AC data shape: (2818340, 13)\n",
            "[DataPreprocessor] PM data shape: (10705341, 6)\n",
            "✅ AC制御データ読み込み完了: (2818340, 13)\n",
            "📋 AC制御データの列: ['A/C Name', 'Datetime', 'Outdoor Temp.', 'Indoor Temp.', 'A/C Set Temperature', 'A/C ON/OFF', 'A/C Mode', 'A/C Fan Speed', 'Naive Energy Level', 'Airux Energy Level', 'Outdoor Room Temp.', 'Outdoor Set Temp.', 'Room Set Temp.']\n",
            "📅 AC制御データ期間: N/A ～ N/A\n",
            "\n",
            "🔍 AC制御データのカテゴリカル変数確認:\n",
            "  A/C ON/OFF: ['ON' 'OFF']\n",
            "  A/C Mode: ['COOL' nan 'FAN' 'HEAT']\n",
            "  A/C Fan Speed: ['Low' nan 'High' 'Medium' 'Top' 'Auto']\n",
            "✅ 電力メーターデータ読み込み完了: (10705341, 6)\n",
            "📋 電力メーターデータの列: ['Mesh ID', 'PM Addr ID', 'Datetime', 'Phase A', 'Phase B', 'Phase C']\n",
            "📅 電力メーターデータ期間: N/A ～ N/A\n",
            "\n",
            "⚡ 電力データ統計:\n",
            "  平均: 520.7W\n",
            "  最大: 6430.0W\n",
            "  最小: 0.0W\n",
            "  欠損値: 0件\n"
          ]
        }
      ],
      "source": [
        "# 生データの読み込み\n",
        "print(\"🔍 生データの読み込み...\")\n",
        "ac_raw, pm_raw = preprocessor.load_raw()\n",
        "\n",
        "if ac_raw is not None:\n",
        "    print(f\"✅ AC制御データ読み込み完了: {ac_raw.shape}\")\n",
        "    print(f\"📋 AC制御データの列: {list(ac_raw.columns)}\")\n",
        "    print(f\"📅 AC制御データ期間: {ac_raw['datetime'].min() if 'datetime' in ac_raw.columns else 'N/A'} ～ {ac_raw['datetime'].max() if 'datetime' in ac_raw.columns else 'N/A'}\")\n",
        "    \n",
        "    # カテゴリカル変数の確認\n",
        "    print(f\"\\n🔍 AC制御データのカテゴリカル変数確認:\")\n",
        "    for col in [\"A/C ON/OFF\", \"A/C Mode\", \"A/C Fan Speed\"]:\n",
        "        if col in ac_raw.columns:\n",
        "            unique_vals = ac_raw[col].unique()\n",
        "            print(f\"  {col}: {unique_vals}\")\n",
        "else:\n",
        "    print(\"❌ AC制御データが見つかりません\")\n",
        "\n",
        "if pm_raw is not None:\n",
        "    print(f\"✅ 電力メーターデータ読み込み完了: {pm_raw.shape}\")\n",
        "    print(f\"📋 電力メーターデータの列: {list(pm_raw.columns)}\")\n",
        "    print(f\"📅 電力メーターデータ期間: {pm_raw['datetime'].min() if 'datetime' in pm_raw.columns else 'N/A'} ～ {pm_raw['datetime'].max() if 'datetime' in pm_raw.columns else 'N/A'}\")\n",
        "    \n",
        "    # 電力データの確認\n",
        "    if \"Phase A\" in pm_raw.columns:\n",
        "        power_stats = pm_raw[\"Phase A\"].describe()\n",
        "        print(f\"\\n⚡ 電力データ統計:\")\n",
        "        print(f\"  平均: {power_stats['mean']:.1f}W\")\n",
        "        print(f\"  最大: {power_stats['max']:.1f}W\")\n",
        "        print(f\"  最小: {power_stats['min']:.1f}W\")\n",
        "        print(f\"  欠損値: {pm_raw['Phase A'].isnull().sum()}件\")\n",
        "else:\n",
        "    print(\"❌ 電力メーターデータが見つかりません\")"
      ]
    },
    {
      "cell_type": "code",
      "execution_count": null,
      "metadata": {},
      "outputs": [
        {
          "name": "stdout",
          "output_type": "stream",
          "text": [
            "\n",
            "【A/C Name】\n",
            "D-1南1     121852\n",
            "D-3南2     121852\n",
            "A-26      121852\n",
            "D-2北1     121852\n",
            "E-11南3    121852\n",
            "E-13北1    121852\n",
            "E-9南1     121852\n",
            "D-6北1     121852\n",
            "D-4北2     121852\n",
            "D-5南1     121852\n",
            "E-17      121852\n",
            "E-15北3    121852\n",
            "D-7南2     121852\n",
            "A-25      121852\n",
            "E-12南4    121852\n",
            "F-20      121852\n",
            "F-19      121852\n",
            "D-8北2     121852\n",
            "E-14北2    121852\n",
            "E-10南2    121852\n",
            "E-16北4    121852\n",
            "F-18      121852\n",
            "G-24       34399\n",
            "G-21       34399\n",
            "G-22       34399\n",
            "G-23       34399\n",
            "Name: A/C Name, dtype: int64\n",
            "\n",
            "【A/C Set Temperature】\n",
            "25.0    1297750\n",
            "26.0     584037\n",
            "24.0     327427\n",
            "27.0     198143\n",
            "22.0     154614\n",
            "20.0      97050\n",
            "-         58440\n",
            "23.0      49251\n",
            "21.0      36465\n",
            "16.0       6883\n",
            "28.0       2629\n",
            "30.0       1584\n",
            "29.0       1490\n",
            "19.0       1425\n",
            "18.0        542\n",
            "31.0        287\n",
            "33.0        203\n",
            "32.0        117\n",
            "34.0          3\n",
            "Name: A/C Set Temperature, dtype: int64\n",
            "\n",
            "【A/C ON/OFF】\n",
            "OFF    1953566\n",
            "ON      864774\n",
            "Name: A/C ON/OFF, dtype: int64\n",
            "\n",
            "【A/C Mode】\n",
            "COOL    1583968\n",
            "HEAT     923191\n",
            "FAN      209766\n",
            "-        101415\n",
            "Name: A/C Mode, dtype: int64\n",
            "\n",
            "【A/C Fan Speed】\n",
            "-         1953566\n",
            "Low        665506\n",
            "Medium     163051\n",
            "High        34844\n",
            "Auto         1370\n",
            "Top             3\n",
            "Name: A/C Fan Speed, dtype: int64\n"
          ]
        }
      ],
      "source": [
        "\n",
        "ac_raw[[str(i)==\"nan\" for i in ac_raw[\"A/C Mode\"]]]\n",
        "ac_columns = [i for i in ac_raw.columns if \"A/C\" in i]\n",
        "ac_raw[ac_columns] = ac_raw[ac_columns].replace(np.nan,\"-\")\n",
        "\n",
        "for ac_column in ac_columns:\n",
        "    print(f\"\")\n",
        "    print(f\"【{ac_column}】\")\n",
        "    print(ac_raw[ac_column].value_counts())\n"
      ]
    },
    {
      "cell_type": "code",
      "execution_count": null,
      "metadata": {},
      "outputs": [],
      "source": []
    },
    {
      "cell_type": "markdown",
      "metadata": {},
      "source": [
        "### 1.2 前処理の実行\n",
        "\n",
        "生データを前処理して、カテゴリカル変数の変換と欠損値処理を行います。\n"
      ]
    },
    {
      "cell_type": "code",
      "execution_count": null,
      "metadata": {},
      "outputs": [
        {
          "name": "stdout",
          "output_type": "stream",
          "text": [
            "🔍 元データのカテゴリカル変数詳細調査...\n",
            "\n",
            "📊 A/C ON/OFF の詳細分析:\n",
            "  値の分布:\n",
            "    'OFF': 1953566件\n",
            "    'ON': 864774件\n",
            "  データ型: object\n",
            "  欠損値: 0件\n",
            "  空白文字: 0件\n",
            "  特殊文字を含む値: 0件\n",
            "  数値形式: 0件 / 全2818340件\n",
            "\n",
            "📊 A/C Mode の詳細分析:\n",
            "  値の分布:\n",
            "    'COOL': 1583968件\n",
            "    'HEAT': 923191件\n",
            "    'FAN': 209766件\n",
            "    '-': 101415件\n",
            "  データ型: object\n",
            "  欠損値: 0件\n",
            "  空白文字: 0件\n",
            "  特殊文字を含む値: 0件\n",
            "  数値形式: 0件 / 全2818340件\n",
            "\n",
            "📊 A/C Fan Speed の詳細分析:\n",
            "  値の分布:\n",
            "    '-': 1953566件\n",
            "    'Low': 665506件\n",
            "    'Medium': 163051件\n",
            "    'High': 34844件\n",
            "    'Auto': 1370件\n",
            "    'Top': 3件\n",
            "  データ型: object\n",
            "  欠損値: 0件\n",
            "  空白文字: 0件\n",
            "  特殊文字を含む値: 0件\n",
            "  数値形式: 0件 / 全2818340件\n",
            "\n",
            "🔧 AC制御データの前処理（エリア別マッピング）...\n",
            "[DataPreprocessor] カテゴリカル変数のマッピングは後段階で実行します\n",
            "✅ AC制御データ前処理完了: (2759789, 14)\n"
          ]
        }
      ],
      "source": [
        "# 元データのカテゴリカル変数を詳細調査\n",
        "print(\"🔍 元データのカテゴリカル変数詳細調査...\")\n",
        "if ac_raw is not None:\n",
        "    for col in [\"A/C ON/OFF\", \"A/C Mode\", \"A/C Fan Speed\"]:\n",
        "        if col in ac_raw.columns:\n",
        "            print(f\"\\n📊 {col} の詳細分析:\")\n",
        "            unique_vals = ac_raw[col].value_counts()\n",
        "            print(f\"  値の分布:\")\n",
        "            for val, count in unique_vals.head(10).items():\n",
        "                print(f\"    '{val}': {count}件\")\n",
        "            \n",
        "            # データ型の確認\n",
        "            print(f\"  データ型: {ac_raw[col].dtype}\")\n",
        "            \n",
        "            # 欠損値の確認\n",
        "            missing_count = ac_raw[col].isnull().sum()\n",
        "            print(f\"  欠損値: {missing_count}件\")\n",
        "            \n",
        "            # 空白文字の確認\n",
        "            if ac_raw[col].dtype == 'object':\n",
        "                whitespace_count = ac_raw[col].str.strip().eq('').sum()\n",
        "                print(f\"  空白文字: {whitespace_count}件\")\n",
        "                \n",
        "                # 特殊文字の確認\n",
        "                special_chars = ac_raw[col].str.contains(r'[^\\w\\s-]', na=False).sum()\n",
        "                print(f\"  特殊文字を含む値: {special_chars}件\")\n",
        "                \n",
        "                # 数値以外の値の確認\n",
        "                non_numeric = ac_raw[col].str.match(r'^\\d+$', na=False).sum()\n",
        "                print(f\"  数値形式: {non_numeric}件 / 全{len(ac_raw)}件\")\n",
        "\n",
        "# AC制御データの前処理（エリア別マッピング使用）\n",
        "print(\"\\n🔧 AC制御データの前処理（エリア別マッピング）...\")\n",
        "ac_processed = preprocessor.preprocess_ac(\n",
        "    ac_raw, \n",
        "    standard_deviation_multiplier=5.0,\n",
        "    category_mapping=None,  # 共通マッピングは使用しない\n",
        "    zone_specific_mapping=True  # エリア別マッピングを有効化\n",
        ")\n",
        "\n",
        "if ac_processed is not None:\n",
        "    print(f\"✅ AC制御データ前処理完了: {ac_processed.shape}\")\n",
        "    \n",
        "    # エリア別マッピングログの確認\n",
        "    import glob\n",
        "    log_files = glob.glob(f\"logs/preprocessing/{store_name}/zone_mapping_log_*.json\")\n",
        "    if log_files:\n",
        "        latest_log = max(log_files, key=os.path.getctime)\n",
        "        print(f\"\\n📋 エリア別マッピングログ: {latest_log}\")\n",
        "        \n",
        "        # ログファイルの内容を表示\n",
        "        import json\n",
        "        with open(latest_log, 'r', encoding='utf-8') as f:\n",
        "            log_data = json.load(f)\n",
        "        \n",
        "        print(f\"\\n🔍 エリア別マッピング結果:\")\n",
        "        for zone_name, zone_info in log_data[\"zones\"].items():\n",
        "            print(f\"\\n📍 {zone_name}:\")\n",
        "            print(f\"  レコード数: {zone_info['total_records']}\")\n",
        "            \n",
        "            for col, mapping_info in zone_info[\"categorical_mappings\"].items():\n",
        "                print(f\"  {col}:\")\n",
        "                print(f\"    元の値: {list(mapping_info['original_values'].keys())}\")\n",
        "                print(f\"    マッピング: {mapping_info['mapping']}\")\n",
        "                if mapping_info.get('unmapped_count', 0) > 0:\n",
        "                    print(f\"    未マッピング: {mapping_info['unmapped_count']}件\")\n",
        "                    print(f\"    デフォルト値: {mapping_info.get('default_value', 'N/A')}\")\n",
        "    \n",
        "else:\n",
        "    print(\"❌ AC制御データの前処理に失敗\")\n"
      ]
    },
    {
      "cell_type": "code",
      "execution_count": null,
      "metadata": {},
      "outputs": [
        {
          "name": "stdout",
          "output_type": "stream",
          "text": [
            "\n",
            "🔧 電力メーターデータの前処理...\n",
            "✅ 電力メーターデータ前処理完了: (2159566, 8)\n",
            "\n",
            "⚡ 前処理後電力データ統計:\n",
            "  平均: 448.5W\n",
            "  最大: 4850.0W\n",
            "  最小: 0.0W\n",
            "  欠損値: 0件\n",
            "  ゼロ値: 729件 (0.0%)\n"
          ]
        }
      ],
      "source": [
        "# 電力メーターデータの前処理\n",
        "print(\"\\n🔧 電力メーターデータの前処理...\")\n",
        "pm_processed = preprocessor.preprocess_pm(\n",
        "    pm_raw, \n",
        "    standard_deviation_multiplier=5.0\n",
        ")\n",
        "\n",
        "if pm_processed is not None:\n",
        "    print(f\"✅ 電力メーターデータ前処理完了: {pm_processed.shape}\")\n",
        "    \n",
        "    # 電力データの統計確認\n",
        "    if \"Phase A\" in pm_processed.columns:\n",
        "        power_stats = pm_processed[\"Phase A\"].describe()\n",
        "        print(f\"\\n⚡ 前処理後電力データ統計:\")\n",
        "        print(f\"  平均: {power_stats['mean']:.1f}W\")\n",
        "        print(f\"  最大: {power_stats['max']:.1f}W\")\n",
        "        print(f\"  最小: {power_stats['min']:.1f}W\")\n",
        "        print(f\"  欠損値: {pm_processed['Phase A'].isnull().sum()}件\")\n",
        "        \n",
        "        # ゼロ値の確認\n",
        "        zero_count = (pm_processed[\"Phase A\"] == 0).sum()\n",
        "        print(f\"  ゼロ値: {zero_count}件 ({zero_count/len(pm_processed)*100:.1f}%)\")\n",
        "else:\n",
        "    print(\"❌ 電力メーターデータの前処理に失敗\")\n"
      ]
    },
    {
      "cell_type": "code",
      "execution_count": null,
      "metadata": {},
      "outputs": [
        {
          "name": "stdout",
          "output_type": "stream",
          "text": [
            "\n",
            "🔧 制御エリア集約...\n",
            "\n",
            "[AreaAggregator] エリア 'Area 1' のカテゴリカル変数処理開始\n",
            "[AreaAggregator] Area 1 - A/C ON/OFF 処理中...\n",
            "[AreaAggregator] Area 1 - A/C ON/OFF ユニーク値: {'OFF': 699212, 'ON': 247864}\n",
            "[AreaAggregator] Area 1 - A/C Mode 処理中...\n",
            "[AreaAggregator] Area 1 - A/C Mode ユニーク値: {'COOL': 416919, 'HEAT': 363987, 'FAN': 126583, '-': 39587}\n",
            "[AreaAggregator] Area 1 - A/C Fan Speed 処理中...\n",
            "[AreaAggregator] Area 1 - A/C Fan Speed ユニーク値: {'-': 699212, 'Low': 205122, 'Medium': 21569, 'High': 21172, 'Auto': 1}\n",
            "\n",
            "[AreaAggregator] エリア別マッピングログ保存: logs/preprocessing/unknown/zone_mapping_log_20251002_224139.json\n",
            "[AreaAggregator] Zone Area 1: Processing 7 outdoor units\n",
            "[AreaAggregator] Found 508731 records for Mesh ID: 49-1\n",
            "  Total_kWh統計: 平均=25694.39, 最大=166985.00\n",
            "  adjusted_power統計: 平均=25694.39, 最大=166985.00\n",
            "[AreaAggregator] Found 508731 records for Mesh ID: 49-2\n",
            "  Total_kWh統計: 平均=25694.39, 最大=166985.00\n",
            "  adjusted_power統計: 平均=25694.39, 最大=166985.00\n",
            "[AreaAggregator] Found 508731 records for Mesh ID: 49-3\n",
            "  Total_kWh統計: 平均=25694.39, 最大=166985.00\n",
            "  adjusted_power統計: 平均=25694.39, 最大=166985.00\n",
            "[AreaAggregator] Found 508731 records for Mesh ID: 49-4\n",
            "  Total_kWh統計: 平均=25694.39, 最大=166985.00\n",
            "  adjusted_power統計: 平均=25694.39, 最大=166985.00\n",
            "[AreaAggregator] Found 508731 records for Mesh ID: 49-6\n",
            "  Total_kWh統計: 平均=25694.39, 最大=166985.00\n",
            "  adjusted_power統計: 平均=25694.39, 最大=166985.00\n",
            "[AreaAggregator] Found 508731 records for Mesh ID: 49-7\n",
            "  Total_kWh統計: 平均=25694.39, 最大=166985.00\n",
            "  adjusted_power統計: 平均=25694.39, 最大=166985.00\n",
            "[AreaAggregator] Found 508731 records for Mesh ID: 49-8\n",
            "  Total_kWh統計: 平均=25694.39, 最大=166985.00\n",
            "  adjusted_power統計: 平均=25694.39, 最大=166985.00\n",
            "[AreaAggregator] 電力データ統合結果:\n",
            "  統合前レコード数: 7\n",
            "  統合後レコード数: 8512\n",
            "  adjusted_power欠損値: 0件\n",
            "  adjusted_power統計: 平均=179860.74, 最大=1168895.00\n",
            "[AreaAggregator] マージ後:\n",
            "  dfレコード数: 10654\n",
            "  adjusted_power欠損値: 2142件\n",
            "⚠️ adjusted_powerに欠損値が2142件あります\n",
            "  欠損値の詳細分析:\n",
            "    欠損レコード数: 2142\n",
            "    欠損期間: 2024-06-30 15:00:00 ～ 2025-04-30 14:00:00\n",
            "    電力データ存在: 8512件\n",
            "    電力データ欠損率: 20.1%\n",
            "    室温データ欠損: 746件\n",
            "    ⚠️ 室温データも欠損している可能性\n",
            "  電力データ統合前の状況:\n",
            "    統合前レコード数: 7\n",
            "    統合後レコード数: 8512\n",
            "    統合後欠損値: 0件\n",
            "  マージ状況:\n",
            "    空調データレコード数: 9908\n",
            "    電力データレコード数: 8512\n",
            "    マージ後レコード数: 10654\n",
            "    空調データ時間範囲: 2024-06-30 15:00:00 ～ 2025-09-28 00:00:00\n",
            "    電力データ時間範囲: 2024-08-31 15:00:00 ～ 2025-09-28 00:00:00\n",
            "    ✅ 時間範囲に重複があります: 2024-08-31 15:00:00 ～ 2025-09-28 00:00:00\n",
            "\n",
            "[AreaAggregator] エリア 'Area 2' のカテゴリカル変数処理開始\n",
            "[AreaAggregator] Area 2 - A/C ON/OFF 処理中...\n",
            "[AreaAggregator] Area 2 - A/C ON/OFF ユニーク値: {'OFF': 441145, 'ON': 277059}\n",
            "[AreaAggregator] Area 2 - A/C Mode 処理中...\n",
            "[AreaAggregator] Area 2 - A/C Mode ユニーク値: {'COOL': 514409, 'HEAT': 181736, 'FAN': 22054, '-': 5}\n",
            "[AreaAggregator] Area 2 - A/C Fan Speed 処理中...\n",
            "[AreaAggregator] Area 2 - A/C Fan Speed ユニーク値: {'-': 441145, 'Low': 212636, 'Medium': 62378, 'High': 2045}\n",
            "\n",
            "[AreaAggregator] エリア別マッピングログ保存: logs/preprocessing/unknown/zone_mapping_log_20251002_224144.json\n",
            "[AreaAggregator] Zone Area 2: Processing 6 outdoor units\n",
            "[AreaAggregator] Found 514964 records for Mesh ID: 43-1\n",
            "  Total_kWh統計: 平均=41049.00, 最大=217005.00\n",
            "  adjusted_power統計: 平均=41049.00, 最大=217005.00\n",
            "[AreaAggregator] Found 514964 records for Mesh ID: 43-2\n",
            "  Total_kWh統計: 平均=41049.00, 最大=217005.00\n",
            "  adjusted_power統計: 平均=41049.00, 最大=217005.00\n",
            "[AreaAggregator] Found 514964 records for Mesh ID: 43-3\n",
            "  Total_kWh統計: 平均=41049.00, 最大=217005.00\n",
            "  adjusted_power統計: 平均=41049.00, 最大=217005.00\n",
            "[AreaAggregator] Found 514964 records for Mesh ID: 43-4\n",
            "  Total_kWh統計: 平均=41049.00, 最大=217005.00\n",
            "  adjusted_power統計: 平均=41049.00, 最大=217005.00\n",
            "[AreaAggregator] Found 643213 records for Mesh ID: 44-1\n",
            "  Total_kWh統計: 平均=22717.71, 最大=238800.00\n",
            "  adjusted_power統計: 平均=22717.71, 最大=238800.00\n",
            "[AreaAggregator] Found 643213 records for Mesh ID: 44-3\n",
            "  Total_kWh統計: 平均=22717.71, 最大=238800.00\n",
            "  adjusted_power統計: 平均=22717.71, 最大=238800.00\n",
            "[AreaAggregator] 電力データ統合結果:\n",
            "  統合前レコード数: 6\n",
            "  統合後レコード数: 10765\n",
            "  adjusted_power欠損値: 0件\n",
            "  adjusted_power統計: 平均=177310.81, 最大=1214890.00\n",
            "[AreaAggregator] マージ後:\n",
            "  dfレコード数: 10767\n",
            "  adjusted_power欠損値: 2件\n",
            "⚠️ adjusted_powerに欠損値が2件あります\n",
            "  欠損値の詳細分析:\n",
            "    欠損レコード数: 2\n",
            "    欠損期間: 2025-01-30 00:00:00 ～ 2025-02-07 13:00:00\n",
            "    電力データ存在: 10765件\n",
            "    電力データ欠損率: 0.0%\n",
            "    室温データ欠損: 748件\n",
            "    ⚠️ 室温データも欠損している可能性\n",
            "  電力データ統合前の状況:\n",
            "    統合前レコード数: 6\n",
            "    統合後レコード数: 10765\n",
            "    統合後欠損値: 0件\n",
            "  マージ状況:\n",
            "    空調データレコード数: 10019\n",
            "    電力データレコード数: 10765\n",
            "    マージ後レコード数: 10767\n",
            "    空調データ時間範囲: 2024-06-30 15:00:00 ～ 2025-09-28 00:00:00\n",
            "    電力データ時間範囲: 2024-06-30 15:00:00 ～ 2025-09-28 00:00:00\n",
            "    ✅ 時間範囲に重複があります: 2024-06-30 15:00:00 ～ 2025-09-28 00:00:00\n",
            "\n",
            "[AreaAggregator] エリア 'Area 3' のカテゴリカル変数処理開始\n",
            "[AreaAggregator] Area 3 - A/C ON/OFF 処理中...\n",
            "[AreaAggregator] Area 3 - A/C ON/OFF ユニーク値: {'OFF': 162163, 'ON': 74439}\n",
            "[AreaAggregator] Area 3 - A/C Mode 処理中...\n",
            "[AreaAggregator] Area 3 - A/C Mode ユニーク値: {'COOL': 110668, 'HEAT': 99004, 'FAN': 23656, '-': 3274}\n",
            "[AreaAggregator] Area 3 - A/C Fan Speed 処理中...\n",
            "[AreaAggregator] Area 3 - A/C Fan Speed ユニーク値: {'-': 162163, 'Low': 69585, 'Medium': 3570, 'High': 1284}\n",
            "\n",
            "[AreaAggregator] エリア別マッピングログ保存: logs/preprocessing/unknown/zone_mapping_log_20251002_224148.json\n",
            "[AreaAggregator] Zone Area 3: Processing 1 outdoor units\n",
            "[AreaAggregator] Found 508731 records for Mesh ID: 49-9\n",
            "  Total_kWh統計: 平均=25694.39, 最大=166985.00\n",
            "  adjusted_power統計: 平均=25694.39, 最大=166985.00\n",
            "[AreaAggregator] 電力データ統合結果:\n",
            "  統合前レコード数: 1\n",
            "  統合後レコード数: 8512\n",
            "  adjusted_power欠損値: 0件\n",
            "  adjusted_power統計: 平均=25694.39, 最大=166985.00\n",
            "[AreaAggregator] マージ後:\n",
            "  dfレコード数: 10654\n",
            "  adjusted_power欠損値: 2142件\n",
            "⚠️ adjusted_powerに欠損値が2142件あります\n",
            "  欠損値の詳細分析:\n",
            "    欠損レコード数: 2142\n",
            "    欠損期間: 2024-06-30 15:00:00 ～ 2025-04-30 14:00:00\n",
            "    電力データ存在: 8512件\n",
            "    電力データ欠損率: 20.1%\n",
            "    室温データ欠損: 745件\n",
            "    ⚠️ 室温データも欠損している可能性\n",
            "  電力データ統合前の状況:\n",
            "    統合前レコード数: 1\n",
            "    統合後レコード数: 8512\n",
            "    統合後欠損値: 0件\n",
            "  マージ状況:\n",
            "    空調データレコード数: 9909\n",
            "    電力データレコード数: 8512\n",
            "    マージ後レコード数: 10654\n",
            "    空調データ時間範囲: 2024-06-30 15:00:00 ～ 2025-09-28 00:00:00\n",
            "    電力データ時間範囲: 2024-08-31 15:00:00 ～ 2025-09-28 00:00:00\n",
            "    ✅ 時間範囲に重複があります: 2024-08-31 15:00:00 ～ 2025-09-28 00:00:00\n",
            "\n",
            "[AreaAggregator] エリア 'Area 4' のカテゴリカル変数処理開始\n",
            "[AreaAggregator] Area 4 - A/C ON/OFF 処理中...\n",
            "[AreaAggregator] Area 4 - A/C ON/OFF ユニーク値: {'OFF': 315946, 'ON': 47741}\n",
            "[AreaAggregator] Area 4 - A/C Mode 処理中...\n",
            "[AreaAggregator] Area 4 - A/C Mode ユニーク値: {'COOL': 224234, 'HEAT': 128115, 'FAN': 11229, '-': 109}\n",
            "[AreaAggregator] Area 4 - A/C Fan Speed 処理中...\n",
            "[AreaAggregator] Area 4 - A/C Fan Speed ユニーク値: {'-': 315946, 'Low': 40598, 'High': 3698, 'Medium': 3442, 'Auto': 3}\n",
            "\n",
            "[AreaAggregator] エリア別マッピングログ保存: logs/preprocessing/unknown/zone_mapping_log_20251002_224152.json\n",
            "[AreaAggregator] Zone Area 4: Processing 2 outdoor units\n",
            "[AreaAggregator] Found 643213 records for Mesh ID: 44-2\n",
            "  Total_kWh統計: 平均=22717.71, 最大=238800.00\n",
            "  adjusted_power統計: 平均=22717.71, 最大=238800.00\n",
            "[AreaAggregator] Found 643213 records for Mesh ID: 44-4\n",
            "  Total_kWh統計: 平均=22717.71, 最大=238800.00\n",
            "  adjusted_power統計: 平均=22717.71, 最大=238800.00\n",
            "[AreaAggregator] 電力データ統合結果:\n",
            "  統合前レコード数: 2\n",
            "  統合後レコード数: 10765\n",
            "  adjusted_power欠損値: 0件\n",
            "  adjusted_power統計: 平均=45435.41, 最大=477600.00\n",
            "[AreaAggregator] マージ後:\n",
            "  dfレコード数: 10894\n",
            "  adjusted_power欠損値: 129件\n",
            "⚠️ adjusted_powerに欠損値が129件あります\n",
            "  欠損値の詳細分析:\n",
            "    欠損レコード数: 129\n",
            "    欠損期間: 2024-07-04 21:00:00 ～ 2025-02-07 13:00:00\n",
            "    電力データ存在: 10765件\n",
            "    電力データ欠損率: 1.2%\n",
            "    室温データ欠損: 747件\n",
            "    ⚠️ 室温データも欠損している可能性\n",
            "  電力データ統合前の状況:\n",
            "    統合前レコード数: 2\n",
            "    統合後レコード数: 10765\n",
            "    統合後欠損値: 0件\n",
            "  マージ状況:\n",
            "    空調データレコード数: 10147\n",
            "    電力データレコード数: 10765\n",
            "    マージ後レコード数: 10894\n",
            "    空調データ時間範囲: 2024-06-30 15:00:00 ～ 2025-09-28 00:00:00\n",
            "    電力データ時間範囲: 2024-06-30 15:00:00 ～ 2025-09-28 00:00:00\n",
            "    ✅ 時間範囲に重複があります: 2024-06-30 15:00:00 ～ 2025-09-28 00:00:00\n",
            "\n",
            "[AreaAggregator] エリア 'Meeting Room' のカテゴリカル変数処理開始\n",
            "[AreaAggregator] Meeting Room - A/C ON/OFF 処理中...\n",
            "[AreaAggregator] Meeting Room - A/C ON/OFF ユニーク値: {'OFF': 67498, 'ON': 808}\n",
            "[AreaAggregator] Meeting Room - A/C Mode 処理中...\n",
            "[AreaAggregator] Meeting Room - A/C Mode ユニーク値: {'COOL': 59457, 'HEAT': 8849}\n",
            "[AreaAggregator] Meeting Room - A/C Fan Speed 処理中...\n",
            "[AreaAggregator] Meeting Room - A/C Fan Speed ユニーク値: {'-': 67498, 'Low': 672, 'Medium': 68, 'High': 68}\n",
            "\n",
            "[AreaAggregator] エリア別マッピングログ保存: logs/preprocessing/unknown/zone_mapping_log_20251002_224156.json\n",
            "[AreaAggregator] Zone Meeting Room: Processing 1 outdoor units\n",
            "[AreaAggregator] Found 643213 records for Mesh ID: 44-8\n",
            "  Total_kWh統計: 平均=22717.71, 最大=238800.00\n",
            "  adjusted_power統計: 平均=22717.71, 最大=238800.00\n",
            "[AreaAggregator] 電力データ統合結果:\n",
            "  統合前レコード数: 1\n",
            "  統合後レコード数: 10765\n",
            "  adjusted_power欠損値: 0件\n",
            "  adjusted_power統計: 平均=22717.71, 最大=238800.00\n",
            "[AreaAggregator] マージ後:\n",
            "  dfレコード数: 10781\n",
            "  adjusted_power欠損値: 16件\n",
            "⚠️ adjusted_powerに欠損値が16件あります\n",
            "  欠損値の詳細分析:\n",
            "    欠損レコード数: 16\n",
            "    欠損期間: 2024-09-05 21:00:00 ～ 2025-09-28 01:00:00\n",
            "    電力データ存在: 10765件\n",
            "    電力データ欠損率: 0.1%\n",
            "    室温データ欠損: 7919件\n",
            "    ⚠️ 室温データも欠損している可能性\n",
            "  電力データ統合前の状況:\n",
            "    統合前レコード数: 1\n",
            "    統合後レコード数: 10765\n",
            "    統合後欠損値: 0件\n",
            "  マージ状況:\n",
            "    空調データレコード数: 2862\n",
            "    電力データレコード数: 10765\n",
            "    マージ後レコード数: 10781\n",
            "    空調データ時間範囲: 2024-08-31 15:00:00 ～ 2025-09-28 01:00:00\n",
            "    電力データ時間範囲: 2024-06-30 15:00:00 ～ 2025-09-28 00:00:00\n",
            "    ✅ 時間範囲に重複があります: 2024-08-31 15:00:00 ～ 2025-09-28 00:00:00\n",
            "\n",
            "[AreaAggregator] エリア 'Break Room' のカテゴリカル変数処理開始\n",
            "[AreaAggregator] Break Room - A/C ON/OFF 処理中...\n",
            "[AreaAggregator] Break Room - A/C ON/OFF ユニーク値: {'OFF': 53733, 'ON': 14575}\n",
            "[AreaAggregator] Break Room - A/C Mode 処理中...\n",
            "[AreaAggregator] Break Room - A/C Mode ユニーク値: {'COOL': 50610, 'HEAT': 17698}\n",
            "[AreaAggregator] Break Room - A/C Fan Speed 処理中...\n",
            "[AreaAggregator] Break Room - A/C Fan Speed ユニーク値: {'-': 53733, 'Medium': 14575}\n",
            "\n",
            "[AreaAggregator] エリア別マッピングログ保存: logs/preprocessing/unknown/zone_mapping_log_20251002_224157.json\n",
            "[AreaAggregator] Zone Break Room: Processing 1 outdoor units\n",
            "[AreaAggregator] Found 643213 records for Mesh ID: 44-6\n",
            "  Total_kWh統計: 平均=22717.71, 最大=238800.00\n",
            "  adjusted_power統計: 平均=22717.71, 最大=238800.00\n",
            "[AreaAggregator] 電力データ統合結果:\n",
            "  統合前レコード数: 1\n",
            "  統合後レコード数: 10765\n",
            "  adjusted_power欠損値: 0件\n",
            "  adjusted_power統計: 平均=22717.71, 最大=238800.00\n",
            "[AreaAggregator] マージ後:\n",
            "  dfレコード数: 10781\n",
            "  adjusted_power欠損値: 16件\n",
            "⚠️ adjusted_powerに欠損値が16件あります\n",
            "  欠損値の詳細分析:\n",
            "    欠損レコード数: 16\n",
            "    欠損期間: 2024-09-05 21:00:00 ～ 2025-09-28 01:00:00\n",
            "    電力データ存在: 10765件\n",
            "    電力データ欠損率: 0.1%\n",
            "    室温データ欠損: 7919件\n",
            "    ⚠️ 室温データも欠損している可能性\n",
            "  電力データ統合前の状況:\n",
            "    統合前レコード数: 1\n",
            "    統合後レコード数: 10765\n",
            "    統合後欠損値: 0件\n",
            "  マージ状況:\n",
            "    空調データレコード数: 2862\n",
            "    電力データレコード数: 10765\n",
            "    マージ後レコード数: 10781\n",
            "    空調データ時間範囲: 2024-08-31 15:00:00 ～ 2025-09-28 01:00:00\n",
            "    電力データ時間範囲: 2024-06-30 15:00:00 ～ 2025-09-28 00:00:00\n",
            "    ✅ 時間範囲に重複があります: 2024-08-31 15:00:00 ～ 2025-09-28 00:00:00\n",
            "✅ 制御エリア集約完了: (64531, 15)\n",
            "🏢 ゾーン: ['Area 1', 'Area 2', 'Area 3', 'Area 4', 'Meeting Room', 'Break Room']\n",
            "\n",
            "🎌 祝日検出結果:\n",
            "  祝日データ: 3485件 (5.4%)\n",
            "  祝日一覧: [datetime.date(2024, 7, 15), datetime.date(2024, 8, 11), datetime.date(2024, 8, 12), datetime.date(2024, 9, 16), datetime.date(2024, 9, 22), datetime.date(2024, 9, 23), datetime.date(2024, 10, 14), datetime.date(2024, 11, 3), datetime.date(2024, 11, 4), datetime.date(2024, 11, 23)]...\n",
            "\n",
            "🔍 祝日検出の検証:\n",
            "  2024-06-30: ライブラリ=False, データ=0\n",
            "  2024-07-01: ライブラリ=False, データ=0\n",
            "  2024-07-02: ライブラリ=False, データ=0\n",
            "  2024-07-03: ライブラリ=False, データ=0\n",
            "  2024-07-04: ライブラリ=False, データ=0\n",
            "\n",
            "⚡ adjusted_power確認:\n",
            "  欠損値: 4447件 (6.9%)\n",
            "  ⚠️ adjusted_powerに欠損値があります\n",
            "  欠損があるゾーン: ['Area 1' 'Area 2' 'Area 3' 'Area 4' 'Meeting Room' 'Break Room']\n"
          ]
        }
      ],
      "source": [
        "# 制御エリア集約\n",
        "print(\"\\n🔧 制御エリア集約...\")\n",
        "aggregator = AreaAggregator(master)\n",
        "\n",
        "# 天気データは後で追加するため、ここではNone\n",
        "area_df = aggregator.build(\n",
        "    ac_processed, pm_processed, None, freq=\"1H\"\n",
        ")\n",
        "\n",
        "if area_df is not None and not area_df.empty:\n",
        "    print(f\"✅ 制御エリア集約完了: {area_df.shape}\")\n",
        "    print(f\"🏢 ゾーン: {area_df['zone'].unique().tolist()}\")\n",
        "    \n",
        "    # 祝日検出の確認\n",
        "    if \"IsHoliday\" in area_df.columns:\n",
        "        holiday_count = area_df[\"IsHoliday\"].sum()\n",
        "        total_count = len(area_df)\n",
        "        print(f\"\\n🎌 祝日検出結果:\")\n",
        "        print(f\"  祝日データ: {holiday_count}件 ({holiday_count/total_count*100:.1f}%)\")\n",
        "        \n",
        "        # 祝日データのサンプル表示\n",
        "        holiday_dates = area_df[area_df[\"IsHoliday\"] == 1][\"Datetime\"].dt.date.unique()\n",
        "        print(f\"  祝日一覧: {sorted(holiday_dates)[:10]}...\")  # 最初の10件\n",
        "        \n",
        "        # 日本の祝日ライブラリとの比較\n",
        "        print(f\"\\n🔍 祝日検出の検証:\")\n",
        "        sample_dates = area_df[\"Datetime\"].dt.date.unique()[:5]\n",
        "        for date in sample_dates:\n",
        "            is_holiday_lib = jpholiday.is_holiday(date)\n",
        "            is_holiday_data = area_df[area_df[\"Datetime\"].dt.date == date][\"IsHoliday\"].iloc[0] if len(area_df[area_df[\"Datetime\"].dt.date == date]) > 0 else 0\n",
        "            print(f\"  {date}: ライブラリ={is_holiday_lib}, データ={is_holiday_data}\")\n",
        "    \n",
        "    # adjusted_powerの確認\n",
        "    if \"adjusted_power\" in area_df.columns:\n",
        "        power_missing = area_df[\"adjusted_power\"].isnull().sum()\n",
        "        power_total = len(area_df)\n",
        "        print(f\"\\n⚡ adjusted_power確認:\")\n",
        "        print(f\"  欠損値: {power_missing}件 ({power_missing/power_total*100:.1f}%)\")\n",
        "        \n",
        "        if power_missing > 0:\n",
        "            print(f\"  ⚠️ adjusted_powerに欠損値があります\")\n",
        "            # 欠損値の原因調査\n",
        "            zones_with_missing = area_df[area_df[\"adjusted_power\"].isnull()][\"zone\"].unique()\n",
        "            print(f\"  欠損があるゾーン: {zones_with_missing}\")\n",
        "        else:\n",
        "            print(f\"  ✅ adjusted_powerに欠損値なし\")\n",
        "else:\n",
        "    print(\"❌ 制御エリア集約に失敗\")\n",
        "    area_df = None\n"
      ]
    },
    {
      "cell_type": "code",
      "execution_count": null,
      "metadata": {},
      "outputs": [
        {
          "name": "stdout",
          "output_type": "stream",
          "text": [
            "📡 Fetching weather for: 2024-06-30 15:00:00 → 2025-09-28 01:00:00\n",
            "  - chunk: 2024-06-30 → 2024-06-30\n",
            "[Weather] Making API request to: https://weather.visualcrossing.com/VisualCrossingWebServices/rest/services/timeline/35.681236%2C139.767125/2024-06-30/2024-06-30?unitGroup=metric&key=5JYPWTTJGYN89DF4GJW7SY2PB&include=hours\n",
            "[Weather] HTTP Status Code: 200\n",
            "[Weather] API Response keys: ['queryCost', 'latitude', 'longitude', 'resolvedAddress', 'address', 'timezone', 'tzoffset', 'days', 'stations']\n",
            "[Weather] Number of days in response: 1\n",
            "[Weather] Processing day: 2024-06-30\n",
            "[Weather] Number of hours for this day: 24\n",
            "[Weather] Total rows collected: 24\n",
            "[Weather] Final DataFrame shape: (24, 4)\n",
            "[Weather] Date range: 2024-06-30 00:00:00 to 2024-06-30 23:00:00\n",
            "  - chunk: 2024-07-01 → 2024-07-31\n",
            "[Weather] Making API request to: https://weather.visualcrossing.com/VisualCrossingWebServices/rest/services/timeline/35.681236%2C139.767125/2024-07-01/2024-07-31?unitGroup=metric&key=5JYPWTTJGYN89DF4GJW7SY2PB&include=hours\n",
            "[Weather] HTTP Status Code: 200\n",
            "[Weather] API Response keys: ['queryCost', 'latitude', 'longitude', 'resolvedAddress', 'address', 'timezone', 'tzoffset', 'days', 'stations']\n",
            "[Weather] Number of days in response: 31\n",
            "[Weather] Processing day: 2024-07-01\n",
            "[Weather] Number of hours for this day: 24\n",
            "[Weather] Processing day: 2024-07-02\n",
            "[Weather] Number of hours for this day: 24\n",
            "[Weather] Processing day: 2024-07-03\n",
            "[Weather] Number of hours for this day: 24\n",
            "[Weather] Processing day: 2024-07-04\n",
            "[Weather] Number of hours for this day: 24\n",
            "[Weather] Processing day: 2024-07-05\n",
            "[Weather] Number of hours for this day: 24\n",
            "[Weather] Processing day: 2024-07-06\n",
            "[Weather] Number of hours for this day: 24\n",
            "[Weather] Processing day: 2024-07-07\n",
            "[Weather] Number of hours for this day: 24\n",
            "[Weather] Processing day: 2024-07-08\n",
            "[Weather] Number of hours for this day: 24\n",
            "[Weather] Processing day: 2024-07-09\n",
            "[Weather] Number of hours for this day: 24\n",
            "[Weather] Processing day: 2024-07-10\n",
            "[Weather] Number of hours for this day: 24\n",
            "[Weather] Processing day: 2024-07-11\n",
            "[Weather] Number of hours for this day: 24\n",
            "[Weather] Processing day: 2024-07-12\n",
            "[Weather] Number of hours for this day: 24\n",
            "[Weather] Processing day: 2024-07-13\n",
            "[Weather] Number of hours for this day: 24\n",
            "[Weather] Processing day: 2024-07-14\n",
            "[Weather] Number of hours for this day: 24\n",
            "[Weather] Processing day: 2024-07-15\n",
            "[Weather] Number of hours for this day: 24\n",
            "[Weather] Processing day: 2024-07-16\n",
            "[Weather] Number of hours for this day: 24\n",
            "[Weather] Processing day: 2024-07-17\n",
            "[Weather] Number of hours for this day: 24\n",
            "[Weather] Processing day: 2024-07-18\n",
            "[Weather] Number of hours for this day: 24\n",
            "[Weather] Processing day: 2024-07-19\n",
            "[Weather] Number of hours for this day: 24\n",
            "[Weather] Processing day: 2024-07-20\n",
            "[Weather] Number of hours for this day: 24\n",
            "[Weather] Processing day: 2024-07-21\n",
            "[Weather] Number of hours for this day: 24\n",
            "[Weather] Processing day: 2024-07-22\n",
            "[Weather] Number of hours for this day: 24\n",
            "[Weather] Processing day: 2024-07-23\n",
            "[Weather] Number of hours for this day: 24\n",
            "[Weather] Processing day: 2024-07-24\n",
            "[Weather] Number of hours for this day: 24\n",
            "[Weather] Processing day: 2024-07-25\n",
            "[Weather] Number of hours for this day: 24\n",
            "[Weather] Processing day: 2024-07-26\n",
            "[Weather] Number of hours for this day: 24\n",
            "[Weather] Processing day: 2024-07-27\n",
            "[Weather] Number of hours for this day: 24\n",
            "[Weather] Processing day: 2024-07-28\n",
            "[Weather] Number of hours for this day: 24\n",
            "[Weather] Processing day: 2024-07-29\n",
            "[Weather] Number of hours for this day: 24\n",
            "[Weather] Processing day: 2024-07-30\n",
            "[Weather] Number of hours for this day: 24\n",
            "[Weather] Processing day: 2024-07-31\n",
            "[Weather] Number of hours for this day: 24\n",
            "[Weather] Total rows collected: 744\n",
            "[Weather] Final DataFrame shape: (744, 4)\n",
            "[Weather] Date range: 2024-07-01 00:00:00 to 2024-07-31 23:00:00\n",
            "  - chunk: 2024-08-01 → 2024-08-31\n",
            "[Weather] Making API request to: https://weather.visualcrossing.com/VisualCrossingWebServices/rest/services/timeline/35.681236%2C139.767125/2024-08-01/2024-08-31?unitGroup=metric&key=5JYPWTTJGYN89DF4GJW7SY2PB&include=hours\n",
            "[Weather] HTTP Status Code: 200\n",
            "[Weather] API Response keys: ['queryCost', 'latitude', 'longitude', 'resolvedAddress', 'address', 'timezone', 'tzoffset', 'days', 'stations']\n",
            "[Weather] Number of days in response: 31\n",
            "[Weather] Processing day: 2024-08-01\n",
            "[Weather] Number of hours for this day: 24\n",
            "[Weather] Processing day: 2024-08-02\n",
            "[Weather] Number of hours for this day: 24\n",
            "[Weather] Processing day: 2024-08-03\n",
            "[Weather] Number of hours for this day: 24\n",
            "[Weather] Processing day: 2024-08-04\n",
            "[Weather] Number of hours for this day: 24\n",
            "[Weather] Processing day: 2024-08-05\n",
            "[Weather] Number of hours for this day: 24\n",
            "[Weather] Processing day: 2024-08-06\n",
            "[Weather] Number of hours for this day: 24\n",
            "[Weather] Processing day: 2024-08-07\n",
            "[Weather] Number of hours for this day: 24\n",
            "[Weather] Processing day: 2024-08-08\n",
            "[Weather] Number of hours for this day: 24\n",
            "[Weather] Processing day: 2024-08-09\n",
            "[Weather] Number of hours for this day: 24\n",
            "[Weather] Processing day: 2024-08-10\n",
            "[Weather] Number of hours for this day: 24\n",
            "[Weather] Processing day: 2024-08-11\n",
            "[Weather] Number of hours for this day: 24\n",
            "[Weather] Processing day: 2024-08-12\n",
            "[Weather] Number of hours for this day: 24\n",
            "[Weather] Processing day: 2024-08-13\n",
            "[Weather] Number of hours for this day: 24\n",
            "[Weather] Processing day: 2024-08-14\n",
            "[Weather] Number of hours for this day: 24\n",
            "[Weather] Processing day: 2024-08-15\n",
            "[Weather] Number of hours for this day: 24\n",
            "[Weather] Processing day: 2024-08-16\n",
            "[Weather] Number of hours for this day: 24\n",
            "[Weather] Processing day: 2024-08-17\n",
            "[Weather] Number of hours for this day: 24\n",
            "[Weather] Processing day: 2024-08-18\n",
            "[Weather] Number of hours for this day: 24\n",
            "[Weather] Processing day: 2024-08-19\n",
            "[Weather] Number of hours for this day: 24\n",
            "[Weather] Processing day: 2024-08-20\n",
            "[Weather] Number of hours for this day: 24\n",
            "[Weather] Processing day: 2024-08-21\n",
            "[Weather] Number of hours for this day: 24\n",
            "[Weather] Processing day: 2024-08-22\n",
            "[Weather] Number of hours for this day: 24\n",
            "[Weather] Processing day: 2024-08-23\n",
            "[Weather] Number of hours for this day: 24\n",
            "[Weather] Processing day: 2024-08-24\n",
            "[Weather] Number of hours for this day: 24\n",
            "[Weather] Processing day: 2024-08-25\n",
            "[Weather] Number of hours for this day: 24\n",
            "[Weather] Processing day: 2024-08-26\n",
            "[Weather] Number of hours for this day: 24\n",
            "[Weather] Processing day: 2024-08-27\n",
            "[Weather] Number of hours for this day: 24\n",
            "[Weather] Processing day: 2024-08-28\n",
            "[Weather] Number of hours for this day: 24\n",
            "[Weather] Processing day: 2024-08-29\n",
            "[Weather] Number of hours for this day: 24\n",
            "[Weather] Processing day: 2024-08-30\n",
            "[Weather] Number of hours for this day: 24\n",
            "[Weather] Processing day: 2024-08-31\n",
            "[Weather] Number of hours for this day: 24\n",
            "[Weather] Total rows collected: 744\n",
            "[Weather] Final DataFrame shape: (744, 4)\n",
            "[Weather] Date range: 2024-08-01 00:00:00 to 2024-08-31 23:00:00\n",
            "  - chunk: 2024-09-01 → 2024-09-30\n",
            "[Weather] Making API request to: https://weather.visualcrossing.com/VisualCrossingWebServices/rest/services/timeline/35.681236%2C139.767125/2024-09-01/2024-09-30?unitGroup=metric&key=5JYPWTTJGYN89DF4GJW7SY2PB&include=hours\n",
            "[Weather] HTTP Status Code: 200\n",
            "[Weather] API Response keys: ['queryCost', 'latitude', 'longitude', 'resolvedAddress', 'address', 'timezone', 'tzoffset', 'days', 'stations']\n",
            "[Weather] Number of days in response: 30\n",
            "[Weather] Processing day: 2024-09-01\n",
            "[Weather] Number of hours for this day: 24\n",
            "[Weather] Processing day: 2024-09-02\n",
            "[Weather] Number of hours for this day: 24\n",
            "[Weather] Processing day: 2024-09-03\n",
            "[Weather] Number of hours for this day: 24\n",
            "[Weather] Processing day: 2024-09-04\n",
            "[Weather] Number of hours for this day: 24\n",
            "[Weather] Processing day: 2024-09-05\n",
            "[Weather] Number of hours for this day: 24\n",
            "[Weather] Processing day: 2024-09-06\n",
            "[Weather] Number of hours for this day: 24\n",
            "[Weather] Processing day: 2024-09-07\n",
            "[Weather] Number of hours for this day: 24\n",
            "[Weather] Processing day: 2024-09-08\n",
            "[Weather] Number of hours for this day: 24\n",
            "[Weather] Processing day: 2024-09-09\n",
            "[Weather] Number of hours for this day: 24\n",
            "[Weather] Processing day: 2024-09-10\n",
            "[Weather] Number of hours for this day: 24\n",
            "[Weather] Processing day: 2024-09-11\n",
            "[Weather] Number of hours for this day: 24\n",
            "[Weather] Processing day: 2024-09-12\n",
            "[Weather] Number of hours for this day: 24\n",
            "[Weather] Processing day: 2024-09-13\n",
            "[Weather] Number of hours for this day: 24\n",
            "[Weather] Processing day: 2024-09-14\n",
            "[Weather] Number of hours for this day: 24\n",
            "[Weather] Processing day: 2024-09-15\n",
            "[Weather] Number of hours for this day: 24\n",
            "[Weather] Processing day: 2024-09-16\n",
            "[Weather] Number of hours for this day: 24\n",
            "[Weather] Processing day: 2024-09-17\n",
            "[Weather] Number of hours for this day: 24\n",
            "[Weather] Processing day: 2024-09-18\n",
            "[Weather] Number of hours for this day: 24\n",
            "[Weather] Processing day: 2024-09-19\n",
            "[Weather] Number of hours for this day: 24\n",
            "[Weather] Processing day: 2024-09-20\n",
            "[Weather] Number of hours for this day: 24\n",
            "[Weather] Processing day: 2024-09-21\n",
            "[Weather] Number of hours for this day: 24\n",
            "[Weather] Processing day: 2024-09-22\n",
            "[Weather] Number of hours for this day: 24\n",
            "[Weather] Processing day: 2024-09-23\n",
            "[Weather] Number of hours for this day: 24\n",
            "[Weather] Processing day: 2024-09-24\n",
            "[Weather] Number of hours for this day: 24\n",
            "[Weather] Processing day: 2024-09-25\n",
            "[Weather] Number of hours for this day: 24\n",
            "[Weather] Processing day: 2024-09-26\n",
            "[Weather] Number of hours for this day: 24\n",
            "[Weather] Processing day: 2024-09-27\n",
            "[Weather] Number of hours for this day: 24\n",
            "[Weather] Processing day: 2024-09-28\n",
            "[Weather] Number of hours for this day: 24\n",
            "[Weather] Processing day: 2024-09-29\n",
            "[Weather] Number of hours for this day: 24\n",
            "[Weather] Processing day: 2024-09-30\n",
            "[Weather] Number of hours for this day: 24\n",
            "[Weather] Total rows collected: 720\n",
            "[Weather] Final DataFrame shape: (720, 4)\n",
            "[Weather] Date range: 2024-09-01 00:00:00 to 2024-09-30 23:00:00\n",
            "  - chunk: 2024-10-01 → 2024-10-31\n",
            "[Weather] Making API request to: https://weather.visualcrossing.com/VisualCrossingWebServices/rest/services/timeline/35.681236%2C139.767125/2024-10-01/2024-10-31?unitGroup=metric&key=5JYPWTTJGYN89DF4GJW7SY2PB&include=hours\n",
            "[Weather] HTTP Status Code: 200\n",
            "[Weather] API Response keys: ['queryCost', 'latitude', 'longitude', 'resolvedAddress', 'address', 'timezone', 'tzoffset', 'days', 'stations']\n",
            "[Weather] Number of days in response: 31\n",
            "[Weather] Processing day: 2024-10-01\n",
            "[Weather] Number of hours for this day: 24\n",
            "[Weather] Processing day: 2024-10-02\n",
            "[Weather] Number of hours for this day: 24\n",
            "[Weather] Processing day: 2024-10-03\n",
            "[Weather] Number of hours for this day: 24\n",
            "[Weather] Processing day: 2024-10-04\n",
            "[Weather] Number of hours for this day: 24\n",
            "[Weather] Processing day: 2024-10-05\n",
            "[Weather] Number of hours for this day: 24\n",
            "[Weather] Processing day: 2024-10-06\n",
            "[Weather] Number of hours for this day: 24\n",
            "[Weather] Processing day: 2024-10-07\n",
            "[Weather] Number of hours for this day: 24\n",
            "[Weather] Processing day: 2024-10-08\n",
            "[Weather] Number of hours for this day: 24\n",
            "[Weather] Processing day: 2024-10-09\n",
            "[Weather] Number of hours for this day: 24\n",
            "[Weather] Processing day: 2024-10-10\n",
            "[Weather] Number of hours for this day: 24\n",
            "[Weather] Processing day: 2024-10-11\n",
            "[Weather] Number of hours for this day: 24\n",
            "[Weather] Processing day: 2024-10-12\n",
            "[Weather] Number of hours for this day: 24\n",
            "[Weather] Processing day: 2024-10-13\n",
            "[Weather] Number of hours for this day: 24\n",
            "[Weather] Processing day: 2024-10-14\n",
            "[Weather] Number of hours for this day: 24\n",
            "[Weather] Processing day: 2024-10-15\n",
            "[Weather] Number of hours for this day: 24\n",
            "[Weather] Processing day: 2024-10-16\n",
            "[Weather] Number of hours for this day: 24\n",
            "[Weather] Processing day: 2024-10-17\n",
            "[Weather] Number of hours for this day: 24\n",
            "[Weather] Processing day: 2024-10-18\n",
            "[Weather] Number of hours for this day: 24\n",
            "[Weather] Processing day: 2024-10-19\n",
            "[Weather] Number of hours for this day: 24\n",
            "[Weather] Processing day: 2024-10-20\n",
            "[Weather] Number of hours for this day: 24\n",
            "[Weather] Processing day: 2024-10-21\n",
            "[Weather] Number of hours for this day: 24\n",
            "[Weather] Processing day: 2024-10-22\n",
            "[Weather] Number of hours for this day: 24\n",
            "[Weather] Processing day: 2024-10-23\n",
            "[Weather] Number of hours for this day: 24\n",
            "[Weather] Processing day: 2024-10-24\n",
            "[Weather] Number of hours for this day: 24\n",
            "[Weather] Processing day: 2024-10-25\n",
            "[Weather] Number of hours for this day: 24\n",
            "[Weather] Processing day: 2024-10-26\n",
            "[Weather] Number of hours for this day: 24\n",
            "[Weather] Processing day: 2024-10-27\n",
            "[Weather] Number of hours for this day: 24\n",
            "[Weather] Processing day: 2024-10-28\n",
            "[Weather] Number of hours for this day: 24\n",
            "[Weather] Processing day: 2024-10-29\n",
            "[Weather] Number of hours for this day: 24\n",
            "[Weather] Processing day: 2024-10-30\n",
            "[Weather] Number of hours for this day: 24\n",
            "[Weather] Processing day: 2024-10-31\n",
            "[Weather] Number of hours for this day: 24\n",
            "[Weather] Total rows collected: 744\n",
            "[Weather] Final DataFrame shape: (744, 4)\n",
            "[Weather] Date range: 2024-10-01 00:00:00 to 2024-10-31 23:00:00\n",
            "  - chunk: 2024-11-01 → 2024-11-30\n",
            "[Weather] Making API request to: https://weather.visualcrossing.com/VisualCrossingWebServices/rest/services/timeline/35.681236%2C139.767125/2024-11-01/2024-11-30?unitGroup=metric&key=5JYPWTTJGYN89DF4GJW7SY2PB&include=hours\n",
            "[Weather] HTTP Status Code: 200\n",
            "[Weather] API Response keys: ['queryCost', 'latitude', 'longitude', 'resolvedAddress', 'address', 'timezone', 'tzoffset', 'days', 'stations']\n",
            "[Weather] Number of days in response: 30\n",
            "[Weather] Processing day: 2024-11-01\n",
            "[Weather] Number of hours for this day: 24\n",
            "[Weather] Processing day: 2024-11-02\n",
            "[Weather] Number of hours for this day: 24\n",
            "[Weather] Processing day: 2024-11-03\n",
            "[Weather] Number of hours for this day: 24\n",
            "[Weather] Processing day: 2024-11-04\n",
            "[Weather] Number of hours for this day: 24\n",
            "[Weather] Processing day: 2024-11-05\n",
            "[Weather] Number of hours for this day: 24\n",
            "[Weather] Processing day: 2024-11-06\n",
            "[Weather] Number of hours for this day: 24\n",
            "[Weather] Processing day: 2024-11-07\n",
            "[Weather] Number of hours for this day: 24\n",
            "[Weather] Processing day: 2024-11-08\n",
            "[Weather] Number of hours for this day: 24\n",
            "[Weather] Processing day: 2024-11-09\n",
            "[Weather] Number of hours for this day: 24\n",
            "[Weather] Processing day: 2024-11-10\n",
            "[Weather] Number of hours for this day: 24\n",
            "[Weather] Processing day: 2024-11-11\n",
            "[Weather] Number of hours for this day: 24\n",
            "[Weather] Processing day: 2024-11-12\n",
            "[Weather] Number of hours for this day: 24\n",
            "[Weather] Processing day: 2024-11-13\n",
            "[Weather] Number of hours for this day: 24\n",
            "[Weather] Processing day: 2024-11-14\n",
            "[Weather] Number of hours for this day: 24\n",
            "[Weather] Processing day: 2024-11-15\n",
            "[Weather] Number of hours for this day: 24\n",
            "[Weather] Processing day: 2024-11-16\n",
            "[Weather] Number of hours for this day: 24\n",
            "[Weather] Processing day: 2024-11-17\n",
            "[Weather] Number of hours for this day: 24\n",
            "[Weather] Processing day: 2024-11-18\n",
            "[Weather] Number of hours for this day: 24\n",
            "[Weather] Processing day: 2024-11-19\n",
            "[Weather] Number of hours for this day: 24\n",
            "[Weather] Processing day: 2024-11-20\n",
            "[Weather] Number of hours for this day: 24\n",
            "[Weather] Processing day: 2024-11-21\n",
            "[Weather] Number of hours for this day: 24\n",
            "[Weather] Processing day: 2024-11-22\n",
            "[Weather] Number of hours for this day: 24\n",
            "[Weather] Processing day: 2024-11-23\n",
            "[Weather] Number of hours for this day: 24\n",
            "[Weather] Processing day: 2024-11-24\n",
            "[Weather] Number of hours for this day: 24\n",
            "[Weather] Processing day: 2024-11-25\n",
            "[Weather] Number of hours for this day: 24\n",
            "[Weather] Processing day: 2024-11-26\n",
            "[Weather] Number of hours for this day: 24\n",
            "[Weather] Processing day: 2024-11-27\n",
            "[Weather] Number of hours for this day: 24\n",
            "[Weather] Processing day: 2024-11-28\n",
            "[Weather] Number of hours for this day: 24\n",
            "[Weather] Processing day: 2024-11-29\n",
            "[Weather] Number of hours for this day: 24\n",
            "[Weather] Processing day: 2024-11-30\n",
            "[Weather] Number of hours for this day: 24\n",
            "[Weather] Total rows collected: 720\n",
            "[Weather] Final DataFrame shape: (720, 4)\n",
            "[Weather] Date range: 2024-11-01 00:00:00 to 2024-11-30 23:00:00\n",
            "  - chunk: 2024-12-01 → 2024-12-31\n",
            "[Weather] Making API request to: https://weather.visualcrossing.com/VisualCrossingWebServices/rest/services/timeline/35.681236%2C139.767125/2024-12-01/2024-12-31?unitGroup=metric&key=5JYPWTTJGYN89DF4GJW7SY2PB&include=hours\n",
            "[Weather] HTTP Status Code: 200\n",
            "[Weather] API Response keys: ['queryCost', 'latitude', 'longitude', 'resolvedAddress', 'address', 'timezone', 'tzoffset', 'days', 'stations']\n",
            "[Weather] Number of days in response: 31\n",
            "[Weather] Processing day: 2024-12-01\n",
            "[Weather] Number of hours for this day: 24\n",
            "[Weather] Processing day: 2024-12-02\n",
            "[Weather] Number of hours for this day: 24\n",
            "[Weather] Processing day: 2024-12-03\n",
            "[Weather] Number of hours for this day: 24\n",
            "[Weather] Processing day: 2024-12-04\n",
            "[Weather] Number of hours for this day: 24\n",
            "[Weather] Processing day: 2024-12-05\n",
            "[Weather] Number of hours for this day: 24\n",
            "[Weather] Processing day: 2024-12-06\n",
            "[Weather] Number of hours for this day: 24\n",
            "[Weather] Processing day: 2024-12-07\n",
            "[Weather] Number of hours for this day: 24\n",
            "[Weather] Processing day: 2024-12-08\n",
            "[Weather] Number of hours for this day: 24\n",
            "[Weather] Processing day: 2024-12-09\n",
            "[Weather] Number of hours for this day: 24\n",
            "[Weather] Processing day: 2024-12-10\n",
            "[Weather] Number of hours for this day: 24\n",
            "[Weather] Processing day: 2024-12-11\n",
            "[Weather] Number of hours for this day: 24\n",
            "[Weather] Processing day: 2024-12-12\n",
            "[Weather] Number of hours for this day: 24\n",
            "[Weather] Processing day: 2024-12-13\n",
            "[Weather] Number of hours for this day: 24\n",
            "[Weather] Processing day: 2024-12-14\n",
            "[Weather] Number of hours for this day: 24\n",
            "[Weather] Processing day: 2024-12-15\n",
            "[Weather] Number of hours for this day: 24\n",
            "[Weather] Processing day: 2024-12-16\n",
            "[Weather] Number of hours for this day: 24\n",
            "[Weather] Processing day: 2024-12-17\n",
            "[Weather] Number of hours for this day: 24\n",
            "[Weather] Processing day: 2024-12-18\n",
            "[Weather] Number of hours for this day: 24\n",
            "[Weather] Processing day: 2024-12-19\n",
            "[Weather] Number of hours for this day: 24\n",
            "[Weather] Processing day: 2024-12-20\n",
            "[Weather] Number of hours for this day: 24\n",
            "[Weather] Processing day: 2024-12-21\n",
            "[Weather] Number of hours for this day: 24\n",
            "[Weather] Processing day: 2024-12-22\n",
            "[Weather] Number of hours for this day: 24\n",
            "[Weather] Processing day: 2024-12-23\n",
            "[Weather] Number of hours for this day: 24\n",
            "[Weather] Processing day: 2024-12-24\n",
            "[Weather] Number of hours for this day: 24\n",
            "[Weather] Processing day: 2024-12-25\n",
            "[Weather] Number of hours for this day: 24\n",
            "[Weather] Processing day: 2024-12-26\n",
            "[Weather] Number of hours for this day: 24\n",
            "[Weather] Processing day: 2024-12-27\n",
            "[Weather] Number of hours for this day: 24\n",
            "[Weather] Processing day: 2024-12-28\n",
            "[Weather] Number of hours for this day: 24\n",
            "[Weather] Processing day: 2024-12-29\n",
            "[Weather] Number of hours for this day: 24\n",
            "[Weather] Processing day: 2024-12-30\n",
            "[Weather] Number of hours for this day: 24\n",
            "[Weather] Processing day: 2024-12-31\n",
            "[Weather] Number of hours for this day: 24\n",
            "[Weather] Total rows collected: 744\n",
            "[Weather] Final DataFrame shape: (744, 4)\n",
            "[Weather] Date range: 2024-12-01 00:00:00 to 2024-12-31 23:00:00\n",
            "  - chunk: 2025-01-01 → 2025-01-31\n",
            "[Weather] Making API request to: https://weather.visualcrossing.com/VisualCrossingWebServices/rest/services/timeline/35.681236%2C139.767125/2025-01-01/2025-01-31?unitGroup=metric&key=5JYPWTTJGYN89DF4GJW7SY2PB&include=hours\n",
            "[Weather] HTTP Status Code: 200\n",
            "[Weather] API Response keys: ['queryCost', 'latitude', 'longitude', 'resolvedAddress', 'address', 'timezone', 'tzoffset', 'days', 'stations']\n",
            "[Weather] Number of days in response: 31\n",
            "[Weather] Processing day: 2025-01-01\n",
            "[Weather] Number of hours for this day: 24\n",
            "[Weather] Processing day: 2025-01-02\n",
            "[Weather] Number of hours for this day: 24\n",
            "[Weather] Processing day: 2025-01-03\n",
            "[Weather] Number of hours for this day: 24\n",
            "[Weather] Processing day: 2025-01-04\n",
            "[Weather] Number of hours for this day: 24\n",
            "[Weather] Processing day: 2025-01-05\n",
            "[Weather] Number of hours for this day: 24\n",
            "[Weather] Processing day: 2025-01-06\n",
            "[Weather] Number of hours for this day: 24\n",
            "[Weather] Processing day: 2025-01-07\n",
            "[Weather] Number of hours for this day: 24\n",
            "[Weather] Processing day: 2025-01-08\n",
            "[Weather] Number of hours for this day: 24\n",
            "[Weather] Processing day: 2025-01-09\n",
            "[Weather] Number of hours for this day: 24\n",
            "[Weather] Processing day: 2025-01-10\n",
            "[Weather] Number of hours for this day: 24\n",
            "[Weather] Processing day: 2025-01-11\n",
            "[Weather] Number of hours for this day: 24\n",
            "[Weather] Processing day: 2025-01-12\n",
            "[Weather] Number of hours for this day: 24\n",
            "[Weather] Processing day: 2025-01-13\n",
            "[Weather] Number of hours for this day: 24\n",
            "[Weather] Processing day: 2025-01-14\n",
            "[Weather] Number of hours for this day: 24\n",
            "[Weather] Processing day: 2025-01-15\n",
            "[Weather] Number of hours for this day: 24\n",
            "[Weather] Processing day: 2025-01-16\n",
            "[Weather] Number of hours for this day: 24\n",
            "[Weather] Processing day: 2025-01-17\n",
            "[Weather] Number of hours for this day: 24\n",
            "[Weather] Processing day: 2025-01-18\n",
            "[Weather] Number of hours for this day: 24\n",
            "[Weather] Processing day: 2025-01-19\n",
            "[Weather] Number of hours for this day: 24\n",
            "[Weather] Processing day: 2025-01-20\n",
            "[Weather] Number of hours for this day: 24\n",
            "[Weather] Processing day: 2025-01-21\n",
            "[Weather] Number of hours for this day: 24\n",
            "[Weather] Processing day: 2025-01-22\n",
            "[Weather] Number of hours for this day: 24\n",
            "[Weather] Processing day: 2025-01-23\n",
            "[Weather] Number of hours for this day: 24\n",
            "[Weather] Processing day: 2025-01-24\n",
            "[Weather] Number of hours for this day: 24\n",
            "[Weather] Processing day: 2025-01-25\n",
            "[Weather] Number of hours for this day: 24\n",
            "[Weather] Processing day: 2025-01-26\n",
            "[Weather] Number of hours for this day: 24\n",
            "[Weather] Processing day: 2025-01-27\n",
            "[Weather] Number of hours for this day: 24\n",
            "[Weather] Processing day: 2025-01-28\n",
            "[Weather] Number of hours for this day: 24\n",
            "[Weather] Processing day: 2025-01-29\n",
            "[Weather] Number of hours for this day: 24\n",
            "[Weather] Processing day: 2025-01-30\n",
            "[Weather] Number of hours for this day: 24\n",
            "[Weather] Processing day: 2025-01-31\n",
            "[Weather] Number of hours for this day: 24\n",
            "[Weather] Total rows collected: 744\n",
            "[Weather] Final DataFrame shape: (744, 4)\n",
            "[Weather] Date range: 2025-01-01 00:00:00 to 2025-01-31 23:00:00\n",
            "  - chunk: 2025-02-01 → 2025-02-28\n",
            "[Weather] Making API request to: https://weather.visualcrossing.com/VisualCrossingWebServices/rest/services/timeline/35.681236%2C139.767125/2025-02-01/2025-02-28?unitGroup=metric&key=5JYPWTTJGYN89DF4GJW7SY2PB&include=hours\n",
            "[Weather] HTTP Status Code: 200\n",
            "[Weather] API Response keys: ['queryCost', 'latitude', 'longitude', 'resolvedAddress', 'address', 'timezone', 'tzoffset', 'days', 'stations']\n",
            "[Weather] Number of days in response: 28\n",
            "[Weather] Processing day: 2025-02-01\n",
            "[Weather] Number of hours for this day: 24\n",
            "[Weather] Processing day: 2025-02-02\n",
            "[Weather] Number of hours for this day: 24\n",
            "[Weather] Processing day: 2025-02-03\n",
            "[Weather] Number of hours for this day: 24\n",
            "[Weather] Processing day: 2025-02-04\n",
            "[Weather] Number of hours for this day: 24\n",
            "[Weather] Processing day: 2025-02-05\n",
            "[Weather] Number of hours for this day: 24\n",
            "[Weather] Processing day: 2025-02-06\n",
            "[Weather] Number of hours for this day: 24\n",
            "[Weather] Processing day: 2025-02-07\n",
            "[Weather] Number of hours for this day: 24\n",
            "[Weather] Processing day: 2025-02-08\n",
            "[Weather] Number of hours for this day: 24\n",
            "[Weather] Processing day: 2025-02-09\n",
            "[Weather] Number of hours for this day: 24\n",
            "[Weather] Processing day: 2025-02-10\n",
            "[Weather] Number of hours for this day: 24\n",
            "[Weather] Processing day: 2025-02-11\n",
            "[Weather] Number of hours for this day: 24\n",
            "[Weather] Processing day: 2025-02-12\n",
            "[Weather] Number of hours for this day: 24\n",
            "[Weather] Processing day: 2025-02-13\n",
            "[Weather] Number of hours for this day: 24\n",
            "[Weather] Processing day: 2025-02-14\n",
            "[Weather] Number of hours for this day: 24\n",
            "[Weather] Processing day: 2025-02-15\n",
            "[Weather] Number of hours for this day: 24\n",
            "[Weather] Processing day: 2025-02-16\n",
            "[Weather] Number of hours for this day: 24\n",
            "[Weather] Processing day: 2025-02-17\n",
            "[Weather] Number of hours for this day: 24\n",
            "[Weather] Processing day: 2025-02-18\n",
            "[Weather] Number of hours for this day: 24\n",
            "[Weather] Processing day: 2025-02-19\n",
            "[Weather] Number of hours for this day: 24\n",
            "[Weather] Processing day: 2025-02-20\n",
            "[Weather] Number of hours for this day: 24\n",
            "[Weather] Processing day: 2025-02-21\n",
            "[Weather] Number of hours for this day: 24\n",
            "[Weather] Processing day: 2025-02-22\n",
            "[Weather] Number of hours for this day: 24\n",
            "[Weather] Processing day: 2025-02-23\n",
            "[Weather] Number of hours for this day: 24\n",
            "[Weather] Processing day: 2025-02-24\n",
            "[Weather] Number of hours for this day: 24\n",
            "[Weather] Processing day: 2025-02-25\n",
            "[Weather] Number of hours for this day: 24\n",
            "[Weather] Processing day: 2025-02-26\n",
            "[Weather] Number of hours for this day: 24\n",
            "[Weather] Processing day: 2025-02-27\n",
            "[Weather] Number of hours for this day: 24\n",
            "[Weather] Processing day: 2025-02-28\n",
            "[Weather] Number of hours for this day: 24\n",
            "[Weather] Total rows collected: 672\n",
            "[Weather] Final DataFrame shape: (672, 4)\n",
            "[Weather] Date range: 2025-02-01 00:00:00 to 2025-02-28 23:00:00\n",
            "  - chunk: 2025-03-01 → 2025-03-31\n",
            "[Weather] Making API request to: https://weather.visualcrossing.com/VisualCrossingWebServices/rest/services/timeline/35.681236%2C139.767125/2025-03-01/2025-03-31?unitGroup=metric&key=5JYPWTTJGYN89DF4GJW7SY2PB&include=hours\n",
            "[Weather] HTTP Status Code: 200\n",
            "[Weather] API Response keys: ['queryCost', 'latitude', 'longitude', 'resolvedAddress', 'address', 'timezone', 'tzoffset', 'days', 'stations']\n",
            "[Weather] Number of days in response: 31\n",
            "[Weather] Processing day: 2025-03-01\n",
            "[Weather] Number of hours for this day: 24\n",
            "[Weather] Processing day: 2025-03-02\n",
            "[Weather] Number of hours for this day: 24\n",
            "[Weather] Processing day: 2025-03-03\n",
            "[Weather] Number of hours for this day: 24\n",
            "[Weather] Processing day: 2025-03-04\n",
            "[Weather] Number of hours for this day: 24\n",
            "[Weather] Processing day: 2025-03-05\n",
            "[Weather] Number of hours for this day: 24\n",
            "[Weather] Processing day: 2025-03-06\n",
            "[Weather] Number of hours for this day: 24\n",
            "[Weather] Processing day: 2025-03-07\n",
            "[Weather] Number of hours for this day: 24\n",
            "[Weather] Processing day: 2025-03-08\n",
            "[Weather] Number of hours for this day: 24\n",
            "[Weather] Processing day: 2025-03-09\n",
            "[Weather] Number of hours for this day: 24\n",
            "[Weather] Processing day: 2025-03-10\n",
            "[Weather] Number of hours for this day: 24\n",
            "[Weather] Processing day: 2025-03-11\n",
            "[Weather] Number of hours for this day: 24\n",
            "[Weather] Processing day: 2025-03-12\n",
            "[Weather] Number of hours for this day: 24\n",
            "[Weather] Processing day: 2025-03-13\n",
            "[Weather] Number of hours for this day: 24\n",
            "[Weather] Processing day: 2025-03-14\n",
            "[Weather] Number of hours for this day: 24\n",
            "[Weather] Processing day: 2025-03-15\n",
            "[Weather] Number of hours for this day: 24\n",
            "[Weather] Processing day: 2025-03-16\n",
            "[Weather] Number of hours for this day: 24\n",
            "[Weather] Processing day: 2025-03-17\n",
            "[Weather] Number of hours for this day: 24\n",
            "[Weather] Processing day: 2025-03-18\n",
            "[Weather] Number of hours for this day: 24\n",
            "[Weather] Processing day: 2025-03-19\n",
            "[Weather] Number of hours for this day: 24\n",
            "[Weather] Processing day: 2025-03-20\n",
            "[Weather] Number of hours for this day: 24\n",
            "[Weather] Processing day: 2025-03-21\n",
            "[Weather] Number of hours for this day: 24\n",
            "[Weather] Processing day: 2025-03-22\n",
            "[Weather] Number of hours for this day: 24\n",
            "[Weather] Processing day: 2025-03-23\n",
            "[Weather] Number of hours for this day: 24\n",
            "[Weather] Processing day: 2025-03-24\n",
            "[Weather] Number of hours for this day: 24\n",
            "[Weather] Processing day: 2025-03-25\n",
            "[Weather] Number of hours for this day: 24\n",
            "[Weather] Processing day: 2025-03-26\n",
            "[Weather] Number of hours for this day: 24\n",
            "[Weather] Processing day: 2025-03-27\n",
            "[Weather] Number of hours for this day: 24\n",
            "[Weather] Processing day: 2025-03-28\n",
            "[Weather] Number of hours for this day: 24\n",
            "[Weather] Processing day: 2025-03-29\n",
            "[Weather] Number of hours for this day: 24\n",
            "[Weather] Processing day: 2025-03-30\n",
            "[Weather] Number of hours for this day: 24\n",
            "[Weather] Processing day: 2025-03-31\n",
            "[Weather] Number of hours for this day: 24\n",
            "[Weather] Total rows collected: 744\n",
            "[Weather] Final DataFrame shape: (744, 4)\n",
            "[Weather] Date range: 2025-03-01 00:00:00 to 2025-03-31 23:00:00\n",
            "  - chunk: 2025-04-01 → 2025-04-30\n",
            "[Weather] Making API request to: https://weather.visualcrossing.com/VisualCrossingWebServices/rest/services/timeline/35.681236%2C139.767125/2025-04-01/2025-04-30?unitGroup=metric&key=5JYPWTTJGYN89DF4GJW7SY2PB&include=hours\n",
            "[Weather] HTTP Status Code: 200\n",
            "[Weather] API Response keys: ['queryCost', 'latitude', 'longitude', 'resolvedAddress', 'address', 'timezone', 'tzoffset', 'days', 'stations']\n",
            "[Weather] Number of days in response: 30\n",
            "[Weather] Processing day: 2025-04-01\n",
            "[Weather] Number of hours for this day: 24\n",
            "[Weather] Processing day: 2025-04-02\n",
            "[Weather] Number of hours for this day: 24\n",
            "[Weather] Processing day: 2025-04-03\n",
            "[Weather] Number of hours for this day: 24\n",
            "[Weather] Processing day: 2025-04-04\n",
            "[Weather] Number of hours for this day: 24\n",
            "[Weather] Processing day: 2025-04-05\n",
            "[Weather] Number of hours for this day: 24\n",
            "[Weather] Processing day: 2025-04-06\n",
            "[Weather] Number of hours for this day: 24\n",
            "[Weather] Processing day: 2025-04-07\n",
            "[Weather] Number of hours for this day: 24\n",
            "[Weather] Processing day: 2025-04-08\n",
            "[Weather] Number of hours for this day: 24\n",
            "[Weather] Processing day: 2025-04-09\n",
            "[Weather] Number of hours for this day: 24\n",
            "[Weather] Processing day: 2025-04-10\n",
            "[Weather] Number of hours for this day: 24\n",
            "[Weather] Processing day: 2025-04-11\n",
            "[Weather] Number of hours for this day: 24\n",
            "[Weather] Processing day: 2025-04-12\n",
            "[Weather] Number of hours for this day: 24\n",
            "[Weather] Processing day: 2025-04-13\n",
            "[Weather] Number of hours for this day: 24\n",
            "[Weather] Processing day: 2025-04-14\n",
            "[Weather] Number of hours for this day: 24\n",
            "[Weather] Processing day: 2025-04-15\n",
            "[Weather] Number of hours for this day: 24\n",
            "[Weather] Processing day: 2025-04-16\n",
            "[Weather] Number of hours for this day: 24\n",
            "[Weather] Processing day: 2025-04-17\n",
            "[Weather] Number of hours for this day: 24\n",
            "[Weather] Processing day: 2025-04-18\n",
            "[Weather] Number of hours for this day: 24\n",
            "[Weather] Processing day: 2025-04-19\n",
            "[Weather] Number of hours for this day: 24\n",
            "[Weather] Processing day: 2025-04-20\n",
            "[Weather] Number of hours for this day: 24\n",
            "[Weather] Processing day: 2025-04-21\n",
            "[Weather] Number of hours for this day: 24\n",
            "[Weather] Processing day: 2025-04-22\n",
            "[Weather] Number of hours for this day: 24\n",
            "[Weather] Processing day: 2025-04-23\n",
            "[Weather] Number of hours for this day: 24\n",
            "[Weather] Processing day: 2025-04-24\n",
            "[Weather] Number of hours for this day: 24\n",
            "[Weather] Processing day: 2025-04-25\n",
            "[Weather] Number of hours for this day: 24\n",
            "[Weather] Processing day: 2025-04-26\n",
            "[Weather] Number of hours for this day: 24\n",
            "[Weather] Processing day: 2025-04-27\n",
            "[Weather] Number of hours for this day: 24\n",
            "[Weather] Processing day: 2025-04-28\n",
            "[Weather] Number of hours for this day: 24\n",
            "[Weather] Processing day: 2025-04-29\n",
            "[Weather] Number of hours for this day: 24\n",
            "[Weather] Processing day: 2025-04-30\n",
            "[Weather] Number of hours for this day: 24\n",
            "[Weather] Total rows collected: 720\n",
            "[Weather] Final DataFrame shape: (720, 4)\n",
            "[Weather] Date range: 2025-04-01 00:00:00 to 2025-04-30 23:00:00\n",
            "  - chunk: 2025-05-01 → 2025-05-31\n",
            "[Weather] Making API request to: https://weather.visualcrossing.com/VisualCrossingWebServices/rest/services/timeline/35.681236%2C139.767125/2025-05-01/2025-05-31?unitGroup=metric&key=5JYPWTTJGYN89DF4GJW7SY2PB&include=hours\n",
            "[Weather] HTTP Status Code: 200\n",
            "[Weather] API Response keys: ['queryCost', 'latitude', 'longitude', 'resolvedAddress', 'address', 'timezone', 'tzoffset', 'days', 'stations']\n",
            "[Weather] Number of days in response: 31\n",
            "[Weather] Processing day: 2025-05-01\n",
            "[Weather] Number of hours for this day: 24\n",
            "[Weather] Processing day: 2025-05-02\n",
            "[Weather] Number of hours for this day: 24\n",
            "[Weather] Processing day: 2025-05-03\n",
            "[Weather] Number of hours for this day: 24\n",
            "[Weather] Processing day: 2025-05-04\n",
            "[Weather] Number of hours for this day: 24\n",
            "[Weather] Processing day: 2025-05-05\n",
            "[Weather] Number of hours for this day: 24\n",
            "[Weather] Processing day: 2025-05-06\n",
            "[Weather] Number of hours for this day: 24\n",
            "[Weather] Processing day: 2025-05-07\n",
            "[Weather] Number of hours for this day: 24\n",
            "[Weather] Processing day: 2025-05-08\n",
            "[Weather] Number of hours for this day: 24\n",
            "[Weather] Processing day: 2025-05-09\n",
            "[Weather] Number of hours for this day: 24\n",
            "[Weather] Processing day: 2025-05-10\n",
            "[Weather] Number of hours for this day: 24\n",
            "[Weather] Processing day: 2025-05-11\n",
            "[Weather] Number of hours for this day: 24\n",
            "[Weather] Processing day: 2025-05-12\n",
            "[Weather] Number of hours for this day: 24\n",
            "[Weather] Processing day: 2025-05-13\n",
            "[Weather] Number of hours for this day: 24\n",
            "[Weather] Processing day: 2025-05-14\n",
            "[Weather] Number of hours for this day: 24\n",
            "[Weather] Processing day: 2025-05-15\n",
            "[Weather] Number of hours for this day: 24\n",
            "[Weather] Processing day: 2025-05-16\n",
            "[Weather] Number of hours for this day: 24\n",
            "[Weather] Processing day: 2025-05-17\n",
            "[Weather] Number of hours for this day: 24\n",
            "[Weather] Processing day: 2025-05-18\n",
            "[Weather] Number of hours for this day: 24\n",
            "[Weather] Processing day: 2025-05-19\n",
            "[Weather] Number of hours for this day: 24\n",
            "[Weather] Processing day: 2025-05-20\n",
            "[Weather] Number of hours for this day: 24\n",
            "[Weather] Processing day: 2025-05-21\n",
            "[Weather] Number of hours for this day: 24\n",
            "[Weather] Processing day: 2025-05-22\n",
            "[Weather] Number of hours for this day: 24\n",
            "[Weather] Processing day: 2025-05-23\n",
            "[Weather] Number of hours for this day: 24\n",
            "[Weather] Processing day: 2025-05-24\n",
            "[Weather] Number of hours for this day: 24\n",
            "[Weather] Processing day: 2025-05-25\n",
            "[Weather] Number of hours for this day: 24\n",
            "[Weather] Processing day: 2025-05-26\n",
            "[Weather] Number of hours for this day: 24\n",
            "[Weather] Processing day: 2025-05-27\n",
            "[Weather] Number of hours for this day: 24\n",
            "[Weather] Processing day: 2025-05-28\n",
            "[Weather] Number of hours for this day: 24\n",
            "[Weather] Processing day: 2025-05-29\n",
            "[Weather] Number of hours for this day: 24\n",
            "[Weather] Processing day: 2025-05-30\n",
            "[Weather] Number of hours for this day: 24\n",
            "[Weather] Processing day: 2025-05-31\n",
            "[Weather] Number of hours for this day: 24\n",
            "[Weather] Total rows collected: 744\n",
            "[Weather] Final DataFrame shape: (744, 4)\n",
            "[Weather] Date range: 2025-05-01 00:00:00 to 2025-05-31 23:00:00\n",
            "  - chunk: 2025-06-01 → 2025-06-30\n",
            "[Weather] Making API request to: https://weather.visualcrossing.com/VisualCrossingWebServices/rest/services/timeline/35.681236%2C139.767125/2025-06-01/2025-06-30?unitGroup=metric&key=5JYPWTTJGYN89DF4GJW7SY2PB&include=hours\n",
            "[Weather] HTTP Status Code: 200\n",
            "[Weather] API Response keys: ['queryCost', 'latitude', 'longitude', 'resolvedAddress', 'address', 'timezone', 'tzoffset', 'days', 'stations']\n",
            "[Weather] Number of days in response: 30\n",
            "[Weather] Processing day: 2025-06-01\n",
            "[Weather] Number of hours for this day: 24\n",
            "[Weather] Processing day: 2025-06-02\n",
            "[Weather] Number of hours for this day: 24\n",
            "[Weather] Processing day: 2025-06-03\n",
            "[Weather] Number of hours for this day: 24\n",
            "[Weather] Processing day: 2025-06-04\n",
            "[Weather] Number of hours for this day: 24\n",
            "[Weather] Processing day: 2025-06-05\n",
            "[Weather] Number of hours for this day: 24\n",
            "[Weather] Processing day: 2025-06-06\n",
            "[Weather] Number of hours for this day: 24\n",
            "[Weather] Processing day: 2025-06-07\n",
            "[Weather] Number of hours for this day: 24\n",
            "[Weather] Processing day: 2025-06-08\n",
            "[Weather] Number of hours for this day: 24\n",
            "[Weather] Processing day: 2025-06-09\n",
            "[Weather] Number of hours for this day: 24\n",
            "[Weather] Processing day: 2025-06-10\n",
            "[Weather] Number of hours for this day: 24\n",
            "[Weather] Processing day: 2025-06-11\n",
            "[Weather] Number of hours for this day: 24\n",
            "[Weather] Processing day: 2025-06-12\n",
            "[Weather] Number of hours for this day: 24\n",
            "[Weather] Processing day: 2025-06-13\n",
            "[Weather] Number of hours for this day: 24\n",
            "[Weather] Processing day: 2025-06-14\n",
            "[Weather] Number of hours for this day: 24\n",
            "[Weather] Processing day: 2025-06-15\n",
            "[Weather] Number of hours for this day: 24\n",
            "[Weather] Processing day: 2025-06-16\n",
            "[Weather] Number of hours for this day: 24\n",
            "[Weather] Processing day: 2025-06-17\n",
            "[Weather] Number of hours for this day: 24\n",
            "[Weather] Processing day: 2025-06-18\n",
            "[Weather] Number of hours for this day: 24\n",
            "[Weather] Processing day: 2025-06-19\n",
            "[Weather] Number of hours for this day: 24\n",
            "[Weather] Processing day: 2025-06-20\n",
            "[Weather] Number of hours for this day: 24\n",
            "[Weather] Processing day: 2025-06-21\n",
            "[Weather] Number of hours for this day: 24\n",
            "[Weather] Processing day: 2025-06-22\n",
            "[Weather] Number of hours for this day: 24\n",
            "[Weather] Processing day: 2025-06-23\n",
            "[Weather] Number of hours for this day: 24\n",
            "[Weather] Processing day: 2025-06-24\n",
            "[Weather] Number of hours for this day: 24\n",
            "[Weather] Processing day: 2025-06-25\n",
            "[Weather] Number of hours for this day: 24\n",
            "[Weather] Processing day: 2025-06-26\n",
            "[Weather] Number of hours for this day: 24\n",
            "[Weather] Processing day: 2025-06-27\n",
            "[Weather] Number of hours for this day: 24\n",
            "[Weather] Processing day: 2025-06-28\n",
            "[Weather] Number of hours for this day: 24\n",
            "[Weather] Processing day: 2025-06-29\n",
            "[Weather] Number of hours for this day: 24\n",
            "[Weather] Processing day: 2025-06-30\n",
            "[Weather] Number of hours for this day: 24\n",
            "[Weather] Total rows collected: 720\n",
            "[Weather] Final DataFrame shape: (720, 4)\n",
            "[Weather] Date range: 2025-06-01 00:00:00 to 2025-06-30 23:00:00\n",
            "  - chunk: 2025-07-01 → 2025-07-31\n",
            "[Weather] Making API request to: https://weather.visualcrossing.com/VisualCrossingWebServices/rest/services/timeline/35.681236%2C139.767125/2025-07-01/2025-07-31?unitGroup=metric&key=5JYPWTTJGYN89DF4GJW7SY2PB&include=hours\n",
            "[Weather] HTTP Status Code: 200\n",
            "[Weather] API Response keys: ['queryCost', 'latitude', 'longitude', 'resolvedAddress', 'address', 'timezone', 'tzoffset', 'days', 'stations']\n",
            "[Weather] Number of days in response: 31\n",
            "[Weather] Processing day: 2025-07-01\n",
            "[Weather] Number of hours for this day: 24\n",
            "[Weather] Processing day: 2025-07-02\n",
            "[Weather] Number of hours for this day: 24\n",
            "[Weather] Processing day: 2025-07-03\n",
            "[Weather] Number of hours for this day: 24\n",
            "[Weather] Processing day: 2025-07-04\n",
            "[Weather] Number of hours for this day: 24\n",
            "[Weather] Processing day: 2025-07-05\n",
            "[Weather] Number of hours for this day: 24\n",
            "[Weather] Processing day: 2025-07-06\n",
            "[Weather] Number of hours for this day: 24\n",
            "[Weather] Processing day: 2025-07-07\n",
            "[Weather] Number of hours for this day: 24\n",
            "[Weather] Processing day: 2025-07-08\n",
            "[Weather] Number of hours for this day: 24\n",
            "[Weather] Processing day: 2025-07-09\n",
            "[Weather] Number of hours for this day: 24\n",
            "[Weather] Processing day: 2025-07-10\n",
            "[Weather] Number of hours for this day: 24\n",
            "[Weather] Processing day: 2025-07-11\n",
            "[Weather] Number of hours for this day: 24\n",
            "[Weather] Processing day: 2025-07-12\n",
            "[Weather] Number of hours for this day: 24\n",
            "[Weather] Processing day: 2025-07-13\n",
            "[Weather] Number of hours for this day: 24\n",
            "[Weather] Processing day: 2025-07-14\n",
            "[Weather] Number of hours for this day: 24\n",
            "[Weather] Processing day: 2025-07-15\n",
            "[Weather] Number of hours for this day: 24\n",
            "[Weather] Processing day: 2025-07-16\n",
            "[Weather] Number of hours for this day: 24\n",
            "[Weather] Processing day: 2025-07-17\n",
            "[Weather] Number of hours for this day: 24\n",
            "[Weather] Processing day: 2025-07-18\n",
            "[Weather] Number of hours for this day: 24\n",
            "[Weather] Processing day: 2025-07-19\n",
            "[Weather] Number of hours for this day: 24\n",
            "[Weather] Processing day: 2025-07-20\n",
            "[Weather] Number of hours for this day: 24\n",
            "[Weather] Processing day: 2025-07-21\n",
            "[Weather] Number of hours for this day: 24\n",
            "[Weather] Processing day: 2025-07-22\n",
            "[Weather] Number of hours for this day: 24\n",
            "[Weather] Processing day: 2025-07-23\n",
            "[Weather] Number of hours for this day: 24\n",
            "[Weather] Processing day: 2025-07-24\n",
            "[Weather] Number of hours for this day: 24\n",
            "[Weather] Processing day: 2025-07-25\n",
            "[Weather] Number of hours for this day: 24\n",
            "[Weather] Processing day: 2025-07-26\n",
            "[Weather] Number of hours for this day: 24\n",
            "[Weather] Processing day: 2025-07-27\n",
            "[Weather] Number of hours for this day: 24\n",
            "[Weather] Processing day: 2025-07-28\n",
            "[Weather] Number of hours for this day: 24\n",
            "[Weather] Processing day: 2025-07-29\n",
            "[Weather] Number of hours for this day: 24\n",
            "[Weather] Processing day: 2025-07-30\n",
            "[Weather] Number of hours for this day: 24\n",
            "[Weather] Processing day: 2025-07-31\n",
            "[Weather] Number of hours for this day: 24\n",
            "[Weather] Total rows collected: 744\n",
            "[Weather] Final DataFrame shape: (744, 4)\n",
            "[Weather] Date range: 2025-07-01 00:00:00 to 2025-07-31 23:00:00\n",
            "  - chunk: 2025-08-01 → 2025-08-31\n",
            "[Weather] Making API request to: https://weather.visualcrossing.com/VisualCrossingWebServices/rest/services/timeline/35.681236%2C139.767125/2025-08-01/2025-08-31?unitGroup=metric&key=5JYPWTTJGYN89DF4GJW7SY2PB&include=hours\n",
            "[Weather] HTTP Status Code: 200\n",
            "[Weather] API Response keys: ['queryCost', 'latitude', 'longitude', 'resolvedAddress', 'address', 'timezone', 'tzoffset', 'days', 'stations']\n",
            "[Weather] Number of days in response: 31\n",
            "[Weather] Processing day: 2025-08-01\n",
            "[Weather] Number of hours for this day: 24\n",
            "[Weather] Processing day: 2025-08-02\n",
            "[Weather] Number of hours for this day: 24\n",
            "[Weather] Processing day: 2025-08-03\n",
            "[Weather] Number of hours for this day: 24\n",
            "[Weather] Processing day: 2025-08-04\n",
            "[Weather] Number of hours for this day: 24\n",
            "[Weather] Processing day: 2025-08-05\n",
            "[Weather] Number of hours for this day: 24\n",
            "[Weather] Processing day: 2025-08-06\n",
            "[Weather] Number of hours for this day: 24\n",
            "[Weather] Processing day: 2025-08-07\n",
            "[Weather] Number of hours for this day: 24\n",
            "[Weather] Processing day: 2025-08-08\n",
            "[Weather] Number of hours for this day: 24\n",
            "[Weather] Processing day: 2025-08-09\n",
            "[Weather] Number of hours for this day: 24\n",
            "[Weather] Processing day: 2025-08-10\n",
            "[Weather] Number of hours for this day: 24\n",
            "[Weather] Processing day: 2025-08-11\n",
            "[Weather] Number of hours for this day: 24\n",
            "[Weather] Processing day: 2025-08-12\n",
            "[Weather] Number of hours for this day: 24\n",
            "[Weather] Processing day: 2025-08-13\n",
            "[Weather] Number of hours for this day: 24\n",
            "[Weather] Processing day: 2025-08-14\n",
            "[Weather] Number of hours for this day: 24\n",
            "[Weather] Processing day: 2025-08-15\n",
            "[Weather] Number of hours for this day: 24\n",
            "[Weather] Processing day: 2025-08-16\n",
            "[Weather] Number of hours for this day: 24\n",
            "[Weather] Processing day: 2025-08-17\n",
            "[Weather] Number of hours for this day: 24\n",
            "[Weather] Processing day: 2025-08-18\n",
            "[Weather] Number of hours for this day: 24\n",
            "[Weather] Processing day: 2025-08-19\n",
            "[Weather] Number of hours for this day: 24\n",
            "[Weather] Processing day: 2025-08-20\n",
            "[Weather] Number of hours for this day: 24\n",
            "[Weather] Processing day: 2025-08-21\n",
            "[Weather] Number of hours for this day: 24\n",
            "[Weather] Processing day: 2025-08-22\n",
            "[Weather] Number of hours for this day: 24\n",
            "[Weather] Processing day: 2025-08-23\n",
            "[Weather] Number of hours for this day: 24\n",
            "[Weather] Processing day: 2025-08-24\n",
            "[Weather] Number of hours for this day: 24\n",
            "[Weather] Processing day: 2025-08-25\n",
            "[Weather] Number of hours for this day: 24\n",
            "[Weather] Processing day: 2025-08-26\n",
            "[Weather] Number of hours for this day: 24\n",
            "[Weather] Processing day: 2025-08-27\n",
            "[Weather] Number of hours for this day: 24\n",
            "[Weather] Processing day: 2025-08-28\n",
            "[Weather] Number of hours for this day: 24\n",
            "[Weather] Processing day: 2025-08-29\n",
            "[Weather] Number of hours for this day: 24\n",
            "[Weather] Processing day: 2025-08-30\n",
            "[Weather] Number of hours for this day: 24\n",
            "[Weather] Processing day: 2025-08-31\n",
            "[Weather] Number of hours for this day: 24\n",
            "[Weather] Total rows collected: 744\n",
            "[Weather] Final DataFrame shape: (744, 4)\n",
            "[Weather] Date range: 2025-08-01 00:00:00 to 2025-08-31 23:00:00\n",
            "  - chunk: 2025-09-01 → 2025-09-28\n",
            "[Weather] Making API request to: https://weather.visualcrossing.com/VisualCrossingWebServices/rest/services/timeline/35.681236%2C139.767125/2025-09-01/2025-09-28?unitGroup=metric&key=5JYPWTTJGYN89DF4GJW7SY2PB&include=hours\n",
            "[Weather] HTTP Status Code: 200\n",
            "[Weather] API Response keys: ['queryCost', 'latitude', 'longitude', 'resolvedAddress', 'address', 'timezone', 'tzoffset', 'days', 'stations']\n",
            "[Weather] Number of days in response: 28\n",
            "[Weather] Processing day: 2025-09-01\n",
            "[Weather] Number of hours for this day: 24\n",
            "[Weather] Processing day: 2025-09-02\n",
            "[Weather] Number of hours for this day: 24\n",
            "[Weather] Processing day: 2025-09-03\n",
            "[Weather] Number of hours for this day: 24\n",
            "[Weather] Processing day: 2025-09-04\n",
            "[Weather] Number of hours for this day: 24\n",
            "[Weather] Processing day: 2025-09-05\n",
            "[Weather] Number of hours for this day: 24\n",
            "[Weather] Processing day: 2025-09-06\n",
            "[Weather] Number of hours for this day: 24\n",
            "[Weather] Processing day: 2025-09-07\n",
            "[Weather] Number of hours for this day: 24\n",
            "[Weather] Processing day: 2025-09-08\n",
            "[Weather] Number of hours for this day: 24\n",
            "[Weather] Processing day: 2025-09-09\n",
            "[Weather] Number of hours for this day: 24\n",
            "[Weather] Processing day: 2025-09-10\n",
            "[Weather] Number of hours for this day: 24\n",
            "[Weather] Processing day: 2025-09-11\n",
            "[Weather] Number of hours for this day: 24\n",
            "[Weather] Processing day: 2025-09-12\n",
            "[Weather] Number of hours for this day: 24\n",
            "[Weather] Processing day: 2025-09-13\n",
            "[Weather] Number of hours for this day: 24\n",
            "[Weather] Processing day: 2025-09-14\n",
            "[Weather] Number of hours for this day: 24\n",
            "[Weather] Processing day: 2025-09-15\n",
            "[Weather] Number of hours for this day: 24\n",
            "[Weather] Processing day: 2025-09-16\n",
            "[Weather] Number of hours for this day: 24\n",
            "[Weather] Processing day: 2025-09-17\n",
            "[Weather] Number of hours for this day: 24\n",
            "[Weather] Processing day: 2025-09-18\n",
            "[Weather] Number of hours for this day: 24\n",
            "[Weather] Processing day: 2025-09-19\n",
            "[Weather] Number of hours for this day: 24\n",
            "[Weather] Processing day: 2025-09-20\n",
            "[Weather] Number of hours for this day: 24\n",
            "[Weather] Processing day: 2025-09-21\n",
            "[Weather] Number of hours for this day: 24\n",
            "[Weather] Processing day: 2025-09-22\n",
            "[Weather] Number of hours for this day: 24\n",
            "[Weather] Processing day: 2025-09-23\n",
            "[Weather] Number of hours for this day: 24\n",
            "[Weather] Processing day: 2025-09-24\n",
            "[Weather] Number of hours for this day: 24\n",
            "[Weather] Processing day: 2025-09-25\n",
            "[Weather] Number of hours for this day: 24\n",
            "[Weather] Processing day: 2025-09-26\n",
            "[Weather] Number of hours for this day: 24\n",
            "[Weather] Processing day: 2025-09-27\n",
            "[Weather] Number of hours for this day: 24\n",
            "[Weather] Processing day: 2025-09-28\n",
            "[Weather] Number of hours for this day: 24\n",
            "[Weather] Total rows collected: 672\n",
            "[Weather] Final DataFrame shape: (672, 4)\n",
            "[Weather] Date range: 2025-09-01 00:00:00 to 2025-09-28 23:00:00\n",
            "✅ 結合完了: (64531, 18)\n",
            "列: ['Datetime', 'Date', 'A/C Set Temperature', 'Indoor Temp.', 'A/C ON/OFF', 'A/C Mode', 'A/C Fan Speed', 'adjusted_power', 'zone', 'DayOfWeek', 'Hour', 'Month', 'IsWeekend', 'IsHoliday', 'Indoor Temp. Lag1', 'Outdoor Temp.', 'Outdoor Humidity', 'Solar Radiation']\n",
            "欠損カウント: {'Outdoor Temp.': 0, 'Outdoor Humidity': 0, 'Solar Radiation': 0}\n"
          ]
        }
      ],
      "source": [
        "# area_dfの期間に合わせて気象データを取得し、結合する関数と実行\n",
        "from processing.utilities.weatherapi_client import VisualCrossingWeatherAPIDataFetcher\n",
        "import pandas as pd\n",
        "\n",
        "\n",
        "def fetch_weather_for_period(area_df: pd.DataFrame, coordinates: str, api_key: str) -> pd.DataFrame:\n",
        "    \"\"\"area_dfのDatetimeの期間をカバーするように、月次チャンクで気象データを取得\"\"\"\n",
        "    if area_df is None or area_df.empty or \"Datetime\" not in area_df.columns:\n",
        "        print(\"❌ area_dfが空、またはDatetime列がありません\")\n",
        "        return pd.DataFrame()\n",
        "\n",
        "    start_dt = pd.to_datetime(area_df[\"Datetime\"].min()).floor(\"H\")\n",
        "    end_dt = pd.to_datetime(area_df[\"Datetime\"].max()).ceil(\"H\")\n",
        "    print(f\"📡 Fetching weather for: {start_dt} → {end_dt}\")\n",
        "\n",
        "    chunks = []\n",
        "    cur = start_dt.normalize()\n",
        "    while cur <= end_dt:\n",
        "        month_end = (cur.replace(day=1) + pd.offsets.MonthEnd(1)).to_pydatetime()\n",
        "        chunk_end = pd.Timestamp(min(month_end, end_dt))\n",
        "        s = cur.strftime(\"%Y-%m-%d\")\n",
        "        e = chunk_end.strftime(\"%Y-%m-%d\")\n",
        "        print(f\"  - chunk: {s} → {e}\")\n",
        "        df = VisualCrossingWeatherAPIDataFetcher(\n",
        "            coordinates=coordinates,\n",
        "            start_date=s,\n",
        "            end_date=e,\n",
        "            unit=\"metric\",\n",
        "            api_key=api_key,\n",
        "        ).fetch()\n",
        "        if df is not None and not df.empty:\n",
        "            chunks.append(df)\n",
        "        cur = (chunk_end + pd.Timedelta(days=1)).normalize()\n",
        "\n",
        "    if not chunks:\n",
        "        print(\"❌ 天気データが取得できませんでした\")\n",
        "        return pd.DataFrame()\n",
        "\n",
        "    weather_df = pd.concat(chunks, ignore_index=True)\n",
        "    if \"datetime\" in weather_df.columns:\n",
        "        weather_df[\"Datetime\"] = pd.to_datetime(weather_df[\"datetime\"]).dt.floor(\"H\")\n",
        "    elif \"Datetime\" in weather_df.columns:\n",
        "        weather_df[\"Datetime\"] = pd.to_datetime(weather_df[\"Datetime\"]).dt.floor(\"H\")\n",
        "    else:\n",
        "        print(\"❌ 天気データにdatetime列がありません\")\n",
        "        return pd.DataFrame()\n",
        "\n",
        "    weather_df = weather_df.drop_duplicates(subset=[\"Datetime\"]).sort_values(\"Datetime\")\n",
        "    return weather_df[[c for c in [\"Datetime\", \"Outdoor Temp.\", \"Outdoor Humidity\", \"Solar Radiation\"] if c in weather_df.columns]]\n",
        "\n",
        "\n",
        "def merge_weather(area_df: pd.DataFrame, weather_df: pd.DataFrame) -> pd.DataFrame:\n",
        "    \"\"\"Datetimeで左結合し、気象3特徴量をarea_dfへ付与\"\"\"\n",
        "    if area_df is None or area_df.empty:\n",
        "        return area_df\n",
        "    if weather_df is None or weather_df.empty:\n",
        "        print(\"⚠️ weather_dfが空のため結合をスキップ\")\n",
        "        return area_df\n",
        "    df = area_df.copy()\n",
        "    if \"Datetime\" not in df.columns:\n",
        "        print(\"❌ area_dfにDatetime列がありません\")\n",
        "        return df\n",
        "    # 時刻粒度を合わせる\n",
        "    df[\"Datetime\"] = pd.to_datetime(df[\"Datetime\"]).dt.floor(\"H\")\n",
        "    w = weather_df.copy()\n",
        "    w[\"Datetime\"] = pd.to_datetime(w[\"Datetime\"]).dt.floor(\"H\")\n",
        "    w = w.groupby(\"Datetime\").agg(\"mean\").reset_index()\n",
        "    merged = df.merge(w, on=\"Datetime\", how=\"left\")\n",
        "    return merged\n",
        "\n",
        "\n",
        "# 実行例（masterの座標とAPIキーを利用）\n",
        "from config.private_information import WEATHER_API_KEY\n",
        "coords = master.get(\"store_info\", {}).get(\"coordinates\", \"35.681236%2C139.767125\")\n",
        "\n",
        "weather_df_nb = fetch_weather_for_period(area_df, coords, WEATHER_API_KEY)\n",
        "area_df_merged = merge_weather(area_df, weather_df_nb)\n",
        "\n",
        "print(f\"✅ 結合完了: {area_df_merged.shape}\")\n",
        "print(\"列:\", list(area_df_merged.columns))\n",
        "needed = [\"Outdoor Temp.\", \"Outdoor Humidity\", \"Solar Radiation\"]\n",
        "print(\"欠損カウント:\", {c: int(area_df_merged[c].isna().sum()) for c in needed if c in area_df_merged.columns})\n",
        "\n",
        "area_df = area_df_merged\n"
      ]
    },
    {
      "cell_type": "code",
      "execution_count": null,
      "metadata": {},
      "outputs": [],
      "source": []
    },
    {
      "cell_type": "code",
      "execution_count": null,
      "metadata": {},
      "outputs": [
        {
          "name": "stdout",
          "output_type": "stream",
          "text": [
            "✅ 前処理済みデータ保存完了: data/02_PreprocessedData/Clea/features_processed_Clea.csv\n",
            "\n",
            "📊 データの基本統計情報:\n",
            "       A/C Set Temperature  Indoor Temp.    A/C ON/OFF      A/C Mode  \\\n",
            "count         45707.000000  45707.000000  45707.000000  45707.000000   \n",
            "mean             24.924847     23.921647      0.215941      1.077034   \n",
            "std               1.417064      5.778953      0.411478      1.397043   \n",
            "min              18.000000      6.000000      0.000000      0.000000   \n",
            "25%              25.000000     20.500000      0.000000      0.000000   \n",
            "50%              25.000000     25.100000      0.000000      0.000000   \n",
            "75%              26.000000     27.700000      0.000000      3.000000   \n",
            "max              30.000000     44.900000      1.000000      3.000000   \n",
            "\n",
            "       A/C Fan Speed  adjusted_power     DayOfWeek          Hour  \\\n",
            "count   45707.000000    6.008400e+04  64531.000000  64531.000000   \n",
            "mean        1.038200    7.716964e+04      2.996343     11.483706   \n",
            "std         0.207362    1.499877e+05      1.997221      6.923108   \n",
            "min         1.000000    7.000000e+01      0.000000      0.000000   \n",
            "25%         1.000000    4.360000e+03      1.000000      5.000000   \n",
            "50%         1.000000    2.396000e+04      3.000000     11.000000   \n",
            "75%         1.000000    6.942000e+04      5.000000     17.000000   \n",
            "max         3.000000    1.214890e+06      6.000000     23.000000   \n",
            "\n",
            "              Month     IsWeekend     IsHoliday  Indoor Temp. Lag1  \\\n",
            "count  64531.000000  64531.000000  64531.000000       45727.000000   \n",
            "mean       6.813454      0.285057      0.054005          23.921985   \n",
            "std        3.174701      0.451445      0.226029           5.779588   \n",
            "min        1.000000      0.000000      0.000000           6.000000   \n",
            "25%        4.000000      0.000000      0.000000          20.500000   \n",
            "50%        7.000000      0.000000      0.000000          25.100000   \n",
            "75%        9.000000      1.000000      0.000000          27.700000   \n",
            "max       12.000000      1.000000      1.000000          44.900000   \n",
            "\n",
            "       Outdoor Temp.  Outdoor Humidity  Solar Radiation  \n",
            "count   64531.000000      64531.000000     64531.000000  \n",
            "mean       19.692050         70.060202       171.945575  \n",
            "std         9.212796         18.751262       243.870878  \n",
            "min        -0.800000         15.970000         0.000000  \n",
            "25%        11.800000         57.660000         0.000000  \n",
            "50%        21.400000         71.890000         9.800000  \n",
            "75%        27.500000         84.680000       308.600000  \n",
            "max        37.100000        100.000000       958.700000  \n",
            "\n",
            "🔍 欠損値の確認:\n",
            "A/C Set Temperature    18824\n",
            "Indoor Temp.           18824\n",
            "A/C ON/OFF             18824\n",
            "A/C Mode               18824\n",
            "A/C Fan Speed          18824\n",
            "adjusted_power          4447\n",
            "Indoor Temp. Lag1      18804\n",
            "dtype: int64\n"
          ]
        }
      ],
      "source": [
        "# 前処理済みデータの保存\n",
        "if area_df is not None:\n",
        "    # 前処理済みデータを保存\n",
        "    preprocessor.save(ac_processed, pm_processed)\n",
        "    \n",
        "    # 集約済みデータも保存\n",
        "    area_output_path = f\"data/02_PreprocessedData/{store_name}/features_processed_{store_name}.csv\"\n",
        "    os.makedirs(os.path.dirname(area_output_path), exist_ok=True)\n",
        "    area_df.to_csv(area_output_path, index=False, encoding=\"utf-8-sig\")\n",
        "    print(f\"✅ 前処理済みデータ保存完了: {area_output_path}\")\n",
        "    \n",
        "    # データの基本統計情報\n",
        "    print(f\"\\n📊 データの基本統計情報:\")\n",
        "    print(area_df.describe())\n",
        "    \n",
        "    print(f\"\\n🔍 欠損値の確認:\")\n",
        "    missing_data = area_df.isnull().sum()\n",
        "    missing_data = missing_data[missing_data > 0]\n",
        "    if len(missing_data) > 0:\n",
        "        print(missing_data)\n",
        "    else:\n",
        "        print(\"✅ 欠損値なし\")\n",
        "else:\n",
        "    print(\"❌ データが読み込まれていません\")\n"
      ]
    },
    {
      "cell_type": "code",
      "execution_count": null,
      "metadata": {},
      "outputs": [],
      "source": []
    },
    {
      "cell_type": "code",
      "execution_count": null,
      "metadata": {},
      "outputs": [],
      "source": [
        "\n"
      ]
    },
    {
      "cell_type": "code",
      "execution_count": null,
      "metadata": {},
      "outputs": [
        {
          "name": "stdout",
          "output_type": "stream",
          "text": [
            "🏢 ゾーン別データ確認:\n",
            "\n",
            "📍 Area 1:\n",
            "  - レコード数: 10,654\n",
            "  - 期間: 2024-06-30 15:00:00 ～ 2025-09-28 00:00:00\n",
            "  - 電力データ: 8,512件 (平均: 179860.7W)\n",
            "  - 室温データ: 9,908件 (平均: 23.2°C)\n",
            "\n",
            "📍 Area 2:\n",
            "  - レコード数: 10,767\n",
            "  - 期間: 2024-06-30 15:00:00 ～ 2025-09-28 00:00:00\n",
            "  - 電力データ: 10,765件 (平均: 177310.8W)\n",
            "  - 室温データ: 10,019件 (平均: 24.3°C)\n",
            "\n",
            "📍 Area 3:\n",
            "  - レコード数: 10,654\n",
            "  - 期間: 2024-06-30 15:00:00 ～ 2025-09-28 00:00:00\n",
            "  - 電力データ: 8,512件 (平均: 25694.4W)\n",
            "  - 室温データ: 9,909件 (平均: 23.3°C)\n",
            "\n",
            "📍 Area 4:\n",
            "  - レコード数: 10,894\n",
            "  - 期間: 2024-06-30 15:00:00 ～ 2025-09-28 00:00:00\n",
            "  - 電力データ: 10,765件 (平均: 45435.4W)\n",
            "  - 室温データ: 10,147件 (平均: 25.1°C)\n",
            "\n",
            "📍 Meeting Room:\n",
            "  - レコード数: 10,781\n",
            "  - 期間: 2024-06-30 15:00:00 ～ 2025-09-28 01:00:00\n",
            "  - 電力データ: 10,765件 (平均: 22717.7W)\n",
            "  - 室温データ: 2,862件 (平均: 23.8°C)\n",
            "\n",
            "📍 Break Room:\n",
            "  - レコード数: 10,781\n",
            "  - 期間: 2024-06-30 15:00:00 ～ 2025-09-28 01:00:00\n",
            "  - 電力データ: 10,765件 (平均: 22717.7W)\n",
            "  - 室温データ: 2,862件 (平均: 23.2°C)\n"
          ]
        }
      ],
      "source": [
        "# ゾーン別データの確認\n",
        "if area_df is not None:\n",
        "    print(\"🏢 ゾーン別データ確認:\")\n",
        "    for zone in area_df['zone'].unique():\n",
        "        zone_data = area_df[area_df['zone'] == zone]\n",
        "        print(f\"\\n📍 {zone}:\")\n",
        "        print(f\"  - レコード数: {len(zone_data):,}\")\n",
        "        print(f\"  - 期間: {zone_data['Datetime'].min()} ～ {zone_data['Datetime'].max()}\")\n",
        "        \n",
        "        # 電力データの確認\n",
        "        power_data = zone_data['adjusted_power'].dropna()\n",
        "        if len(power_data) > 0:\n",
        "            print(f\"  - 電力データ: {len(power_data):,}件 (平均: {power_data.mean():.1f}W)\")\n",
        "        else:\n",
        "            print(f\"  - 電力データ: なし\")\n",
        "        \n",
        "        # 室温データの確認\n",
        "        temp_data = zone_data['Indoor Temp.'].dropna()\n",
        "        if len(temp_data) > 0:\n",
        "            print(f\"  - 室温データ: {len(temp_data):,}件 (平均: {temp_data.mean():.1f}°C)\")\n",
        "        else:\n",
        "            print(f\"  - 室温データ: なし\")\n"
      ]
    },
    {
      "cell_type": "code",
      "execution_count": null,
      "metadata": {},
      "outputs": [],
      "source": []
    },
    {
      "cell_type": "code",
      "execution_count": null,
      "metadata": {},
      "outputs": [],
      "source": []
    },
    {
      "cell_type": "code",
      "execution_count": null,
      "metadata": {},
      "outputs": [],
      "source": []
    },
    {
      "cell_type": "markdown",
      "metadata": {},
      "source": [
        "## 2. 特徴量エンジニアリング\n",
        "\n",
        "モデル学習用の特徴量を準備し、特徴量の重要度を確認します。\n"
      ]
    },
    {
      "cell_type": "code",
      "execution_count": null,
      "metadata": {},
      "outputs": [],
      "source": []
    },
    {
      "cell_type": "code",
      "execution_count": null,
      "metadata": {},
      "outputs": [
        {
          "name": "stdout",
          "output_type": "stream",
          "text": [
            "✅ 利用可能な特徴量 (13個):\n",
            "  - A/C Set Temperature\n",
            "  - Indoor Temp. Lag1\n",
            "  - A/C ON/OFF\n",
            "  - A/C Mode\n",
            "  - A/C Fan Speed\n",
            "  - Outdoor Temp.\n",
            "  - Outdoor Humidity\n",
            "  - Solar Radiation\n",
            "  - DayOfWeek\n",
            "  - Hour\n",
            "  - Month\n",
            "  - IsWeekend\n",
            "  - IsHoliday\n",
            "\n",
            "🔍 特徴量間の相関確認:\n",
            "\n",
            "🌡️ 室温との相関 (上位10位):\n",
            "  Indoor Temp. Lag1: 0.980\n",
            "  Outdoor Temp.: 0.715\n",
            "  A/C Mode: 0.620\n",
            "  Outdoor Humidity: 0.479\n",
            "  Month: 0.346\n",
            "  Hour: 0.230\n",
            "  A/C ON/OFF: 0.173\n",
            "  adjusted_power: 0.097\n",
            "  A/C Set Temperature: 0.091\n",
            "  Solar Radiation: 0.071\n",
            "\n",
            "⚡ 電力との相関 (上位10位):\n",
            "  A/C ON/OFF: 0.544\n",
            "  Hour: 0.161\n",
            "  A/C Fan Speed: 0.161\n",
            "  A/C Set Temperature: 0.150\n",
            "  IsWeekend: 0.146\n",
            "  DayOfWeek: 0.119\n",
            "  Indoor Temp.: 0.097\n",
            "  Solar Radiation: 0.084\n",
            "  Indoor Temp. Lag1: 0.068\n",
            "  IsHoliday: 0.067\n"
          ]
        }
      ],
      "source": [
        "# 特徴量の準備\n",
        "if area_df is not None:\n",
        "    # 利用可能な特徴量の確認\n",
        "    base_feats = [\n",
        "        \"A/C Set Temperature\",\n",
        "        \"Indoor Temp. Lag1\", \n",
        "        \"A/C ON/OFF\",\n",
        "        \"A/C Mode\",\n",
        "        \"A/C Fan Speed\",\n",
        "        \"Outdoor Temp.\",\n",
        "        \"Outdoor Humidity\",\n",
        "        \"Solar Radiation\",\n",
        "        \"DayOfWeek\",\n",
        "        \"Hour\",\n",
        "        \"Month\",\n",
        "        \"IsWeekend\",\n",
        "        \"IsHoliday\"\n",
        "    ]\n",
        "    \n",
        "    available_feats = [col for col in base_feats if col in area_df.columns]\n",
        "    missing_feats = [col for col in base_feats if col not in area_df.columns]\n",
        "    \n",
        "    print(f\"✅ 利用可能な特徴量 ({len(available_feats)}個):\")\n",
        "    for feat in available_feats:\n",
        "        print(f\"  - {feat}\")\n",
        "    \n",
        "    if missing_feats:\n",
        "        print(f\"\\n⚠️ 不足している特徴量 ({len(missing_feats)}個):\")\n",
        "        for feat in missing_feats:\n",
        "            print(f\"  - {feat}\")\n",
        "    \n",
        "    # 特徴量の相関確認\n",
        "    print(f\"\\n🔍 特徴量間の相関確認:\")\n",
        "    corr_matrix = area_df[available_feats + ['Indoor Temp.', 'adjusted_power']].corr()\n",
        "    \n",
        "    # 室温との相関\n",
        "    if 'Indoor Temp.' in corr_matrix.columns:\n",
        "        temp_corr = corr_matrix['Indoor Temp.'].drop('Indoor Temp.').abs().sort_values(ascending=False)\n",
        "        print(f\"\\n🌡️ 室温との相関 (上位10位):\")\n",
        "        for feat, corr in temp_corr.head(10).items():\n",
        "            print(f\"  {feat}: {corr:.3f}\")\n",
        "    \n",
        "    # 電力との相関\n",
        "    if 'adjusted_power' in corr_matrix.columns:\n",
        "        power_corr = corr_matrix['adjusted_power'].drop('adjusted_power').abs().sort_values(ascending=False)\n",
        "        print(f\"\\n⚡ 電力との相関 (上位10位):\")\n",
        "        for feat, corr in power_corr.head(10).items():\n",
        "            print(f\"  {feat}: {corr:.3f}\")\n"
      ]
    },
    {
      "cell_type": "code",
      "execution_count": null,
      "metadata": {},
      "outputs": [],
      "source": []
    },
    {
      "cell_type": "markdown",
      "metadata": {},
      "source": [
        "## 3. 予測モデル構築\n",
        "\n",
        "電力・環境予測モデルを構築し、性能を評価します。\n"
      ]
    },
    {
      "cell_type": "code",
      "execution_count": null,
      "metadata": {},
      "outputs": [
        {
          "name": "stdout",
          "output_type": "stream",
          "text": [
            "🔧 モデル構築開始...\n",
            "[ModelBuilder] Starting train_by_zone. Input shape: (64531, 18)\n",
            "[ModelBuilder] Found zones: ['Area 1', 'Area 2', 'Area 3', 'Area 4', 'Break Room', 'Meeting Room']\n",
            "[ModelBuilder] Zone Area 1: 10654 records\n",
            "[ModelBuilder] Zone Area 1: Checking adjusted_power column...\n",
            "[ModelBuilder] Zone Area 1: adjusted_power non-null values: 8512\n",
            "[Model] Area 1 Multi-Output (Temp/Power): Temp MAE=0.44 MAPE=2.0% R2=0.987 | Power MAE=37113.9 MAPE=28.3% R2=0.918\n",
            "[Model] Area 1 Temp: MAE=0.42 MAPE=1.9% R2=0.989\n",
            "[Model] Area 1 Power: MAE=37109.8 MAPE=28.3% R2=0.918\n",
            "[ModelBuilder] Zone Area 2: 10767 records\n",
            "[ModelBuilder] Zone Area 2: Checking adjusted_power column...\n",
            "[ModelBuilder] Zone Area 2: adjusted_power non-null values: 10765\n",
            "[Model] Area 2 Multi-Output (Temp/Power): Temp MAE=0.41 MAPE=1.7% R2=0.984 | Power MAE=34545.0 MAPE=82.0% R2=0.885\n",
            "[Model] Area 2 Temp: MAE=0.41 MAPE=1.8% R2=0.984\n",
            "[Model] Area 2 Power: MAE=34611.0 MAPE=82.1% R2=0.885\n",
            "[ModelBuilder] Zone Area 3: 10654 records\n",
            "[ModelBuilder] Zone Area 3: Checking adjusted_power column...\n",
            "[ModelBuilder] Zone Area 3: adjusted_power non-null values: 8512\n",
            "[Model] Area 3 Multi-Output (Temp/Power): Temp MAE=0.50 MAPE=2.4% R2=0.981 | Power MAE=5811.9 MAPE=35.2% R2=0.896\n",
            "[Model] Area 3 Temp: MAE=0.48 MAPE=2.2% R2=0.983\n",
            "[Model] Area 3 Power: MAE=5815.0 MAPE=35.3% R2=0.896\n",
            "[ModelBuilder] Zone Area 4: 10894 records\n",
            "[ModelBuilder] Zone Area 4: Checking adjusted_power column...\n",
            "[ModelBuilder] Zone Area 4: adjusted_power non-null values: 10765\n",
            "[Model] Area 4 Multi-Output (Temp/Power): Temp MAE=0.36 MAPE=1.5% R2=0.986 | Power MAE=13581.1 MAPE=72.4% R2=0.797\n",
            "[Model] Area 4 Temp: MAE=0.37 MAPE=1.6% R2=0.986\n",
            "[Model] Area 4 Power: MAE=13637.3 MAPE=73.3% R2=0.798\n",
            "[ModelBuilder] Zone Break Room: 10781 records\n",
            "[ModelBuilder] Zone Break Room: Checking adjusted_power column...\n",
            "[ModelBuilder] Zone Break Room: adjusted_power non-null values: 10765\n",
            "[Model] Break Room Multi-Output (Temp/Power): Temp MAE=0.77 MAPE=3.9% R2=0.947 | Power MAE=7277.2 MAPE=52.6% R2=0.854\n",
            "[Model] Break Room Temp: MAE=0.77 MAPE=3.9% R2=0.943\n",
            "[Model] Break Room Power: MAE=7339.0 MAPE=53.0% R2=0.853\n",
            "[ModelBuilder] Zone Meeting Room: 10781 records\n",
            "[ModelBuilder] Zone Meeting Room: Checking adjusted_power column...\n",
            "[ModelBuilder] Zone Meeting Room: adjusted_power non-null values: 10765\n",
            "[Model] Meeting Room Multi-Output (Temp/Power): Temp MAE=0.51 MAPE=2.2% R2=0.991 | Power MAE=7124.7 MAPE=44.6% R2=0.860\n",
            "[Model] Meeting Room Temp: MAE=0.47 MAPE=2.1% R2=0.992\n",
            "[Model] Meeting Room Power: MAE=7157.9 MAPE=44.7% R2=0.859\n",
            "✅ モデル構築完了 (処理時間: 122.25秒)\n",
            "📊 構築されたモデル数: 6\n",
            "\n",
            "📍 Area 1:\n",
            "  - 特徴量数: 13\n",
            "  - 温度モデル: ✅\n",
            "  - 電力モデル: ✅\n",
            "  - マルチアウトプットモデル: ✅\n",
            "\n",
            "📍 Area 2:\n",
            "  - 特徴量数: 13\n",
            "  - 温度モデル: ✅\n",
            "  - 電力モデル: ✅\n",
            "  - マルチアウトプットモデル: ✅\n",
            "\n",
            "📍 Area 3:\n",
            "  - 特徴量数: 13\n",
            "  - 温度モデル: ✅\n",
            "  - 電力モデル: ✅\n",
            "  - マルチアウトプットモデル: ✅\n",
            "\n",
            "📍 Area 4:\n",
            "  - 特徴量数: 13\n",
            "  - 温度モデル: ✅\n",
            "  - 電力モデル: ✅\n",
            "  - マルチアウトプットモデル: ✅\n",
            "\n",
            "📍 Break Room:\n",
            "  - 特徴量数: 13\n",
            "  - 温度モデル: ✅\n",
            "  - 電力モデル: ✅\n",
            "  - マルチアウトプットモデル: ✅\n",
            "\n",
            "📍 Meeting Room:\n",
            "  - 特徴量数: 13\n",
            "  - 温度モデル: ✅\n",
            "  - 電力モデル: ✅\n",
            "  - マルチアウトプットモデル: ✅\n"
          ]
        }
      ],
      "source": [
        "# モデルビルダーの初期化\n",
        "if area_df is not None:\n",
        "    builder = ModelBuilder(store_name)\n",
        "    \n",
        "    print(\"🔧 モデル構築開始...\")\n",
        "    start_time = time.time()\n",
        "    \n",
        "    # モデル学習\n",
        "    models = builder.train_by_zone(area_df, master)\n",
        "    \n",
        "    end_time = time.time()\n",
        "    print(f\"✅ モデル構築完了 (処理時間: {end_time - start_time:.2f}秒)\")\n",
        "    print(f\"📊 構築されたモデル数: {len(models)}\")\n",
        "    \n",
        "    # 各ゾーンのモデル性能確認\n",
        "    for zone_name, model_pack in models.items():\n",
        "        print(f\"\\n📍 {zone_name}:\")\n",
        "        print(f\"  - 特徴量数: {len(model_pack.feature_cols)}\")\n",
        "        print(f\"  - 温度モデル: {'✅' if model_pack.temp_model else '❌'}\")\n",
        "        print(f\"  - 電力モデル: {'✅' if model_pack.power_model else '❌'}\")\n",
        "        print(f\"  - マルチアウトプットモデル: {'✅' if model_pack.multi_output_model else '❌'}\")\n",
        "else:\n",
        "    print(\"❌ データが読み込まれていません\")\n",
        "    models = None\n"
      ]
    },
    {
      "cell_type": "code",
      "execution_count": null,
      "metadata": {},
      "outputs": [
        {
          "name": "stdout",
          "output_type": "stream",
          "text": [
            "📊 モデル性能詳細評価:\n",
            "\n",
            "📍 Area 1:\n",
            "  🌡️ 温度モデル:\n",
            "    - MAE: 0.20°C\n",
            "    - R²: 0.996\n",
            "    - 予測範囲: 8.2°C ～ 40.7°C\n",
            "  ⚡ 電力モデル:\n",
            "    - MAE: 35495.2W\n",
            "    - R²: 0.836\n",
            "    - 予測範囲: 11044.4W ～ 1075478.8W\n",
            "\n",
            "📍 Area 2:\n",
            "  🌡️ 温度モデル:\n",
            "    - MAE: 0.20°C\n",
            "    - R²: 0.995\n",
            "    - 予測範囲: 12.3°C ～ 42.2°C\n",
            "  ⚡ 電力モデル:\n",
            "    - MAE: 36456.7W\n",
            "    - R²: 0.727\n",
            "    - 予測範囲: 3037.1W ～ 1086706.4W\n",
            "\n",
            "📍 Area 3:\n",
            "  🌡️ 温度モデル:\n",
            "    - MAE: 0.23°C\n",
            "    - R²: 0.995\n",
            "    - 予測範囲: 8.6°C ～ 36.3°C\n",
            "  ⚡ 電力モデル:\n",
            "    - MAE: 4824.0W\n",
            "    - R²: 0.861\n",
            "    - 予測範囲: 1738.2W ～ 157135.0W\n",
            "\n",
            "📍 Area 4:\n",
            "  🌡️ 温度モデル:\n",
            "    - MAE: 0.19°C\n",
            "    - R²: 0.996\n",
            "    - 予測範囲: 12.9°C ～ 36.3°C\n",
            "  ⚡ 電力モデル:\n",
            "    - MAE: 11540.8W\n",
            "    - R²: 0.749\n",
            "    - 予測範囲: 2957.4W ～ 419762.7W\n",
            "\n",
            "📍 Break Room:\n",
            "  🌡️ 温度モデル:\n",
            "    - MAE: 0.39°C\n",
            "    - R²: 0.984\n",
            "    - 予測範囲: 7.5°C ～ 37.7°C\n",
            "  ⚡ 電力モデル:\n",
            "    - MAE: 23201.5W\n",
            "    - R²: -0.109\n",
            "    - 予測範囲: 1491.4W ～ 145587.8W\n",
            "\n",
            "📍 Meeting Room:\n",
            "  🌡️ 温度モデル:\n",
            "    - MAE: 0.24°C\n",
            "    - R²: 0.998\n",
            "    - 予測範囲: 6.2°C ～ 44.3°C\n",
            "  ⚡ 電力モデル:\n",
            "    - MAE: 31078.6W\n",
            "    - R²: -0.872\n",
            "    - 予測範囲: 1439.7W ～ 142533.5W\n"
          ]
        }
      ],
      "source": [
        "# モデル性能の詳細評価\n",
        "if models is not None:\n",
        "    print(\"📊 モデル性能詳細評価:\")\n",
        "    \n",
        "    for zone_name, model_pack in models.items():\n",
        "        zone_data = area_df[area_df['zone'] == zone_name]\n",
        "        \n",
        "        print(f\"\\n📍 {zone_name}:\")\n",
        "        \n",
        "        # 温度モデルの評価\n",
        "        if model_pack.temp_model and 'Indoor Temp.' in zone_data.columns:\n",
        "            # テストデータでの評価\n",
        "            X_temp = zone_data[model_pack.feature_cols].replace([np.inf, -np.inf], np.nan).fillna(0)\n",
        "            y_temp = zone_data['Indoor Temp.'].astype(float)\n",
        "            mask = y_temp.notna()\n",
        "            \n",
        "            if mask.sum() > 0:\n",
        "                X_temp_clean = X_temp[mask]\n",
        "                y_temp_clean = y_temp[mask]\n",
        "                \n",
        "                # 予測\n",
        "                y_pred_temp = model_pack.temp_model.predict(X_temp_clean)\n",
        "                \n",
        "                # 評価指標\n",
        "                mae_temp = mean_absolute_error(y_temp_clean, y_pred_temp)\n",
        "                r2_temp = r2_score(y_temp_clean, y_pred_temp)\n",
        "                \n",
        "                print(f\"  🌡️ 温度モデル:\")\n",
        "                print(f\"    - MAE: {mae_temp:.2f}°C\")\n",
        "                print(f\"    - R²: {r2_temp:.3f}\")\n",
        "                print(f\"    - 予測範囲: {y_pred_temp.min():.1f}°C ～ {y_pred_temp.max():.1f}°C\")\n",
        "        \n",
        "        # 電力モデルの評価\n",
        "        if model_pack.power_model and 'adjusted_power' in zone_data.columns:\n",
        "            X_power = zone_data[model_pack.feature_cols].replace([np.inf, -np.inf], np.nan).fillna(0)\n",
        "            y_power = zone_data['adjusted_power'].astype(float)\n",
        "            mask = y_power.notna()\n",
        "            \n",
        "            if mask.sum() > 0:\n",
        "                X_power_clean = X_power[mask]\n",
        "                y_power_clean = y_power[mask]\n",
        "                \n",
        "                # 予測\n",
        "                y_pred_power = model_pack.power_model.predict(X_power_clean)\n",
        "                \n",
        "                # 評価指標\n",
        "                mae_power = mean_absolute_error(y_power_clean, y_pred_power)\n",
        "                r2_power = r2_score(y_power_clean, y_pred_power)\n",
        "                \n",
        "                print(f\"  ⚡ 電力モデル:\")\n",
        "                print(f\"    - MAE: {mae_power:.1f}W\")\n",
        "                print(f\"    - R²: {r2_power:.3f}\")\n",
        "                print(f\"    - 予測範囲: {y_pred_power.min():.1f}W ～ {y_pred_power.max():.1f}W\")\n"
      ]
    },
    {
      "cell_type": "markdown",
      "metadata": {},
      "source": [
        "## 4. 制御値探索\n",
        "\n",
        "最適制御値を探索し、探索過程を可視化します。\n"
      ]
    },
    {
      "cell_type": "code",
      "execution_count": null,
      "metadata": {},
      "outputs": [
        {
          "name": "stdout",
          "output_type": "stream",
          "text": [
            "🎯 最適化期間: 2025-10-02 ～ 2025-10-05\n",
            "⏰ 最適化対象時間数: 73時間\n",
            "📅 期間: 2025-10-02 00:00:00 ～ 2025-10-05 00:00:00\n"
          ]
        }
      ],
      "source": [
        "# 最適化期間の設定\n",
        "if models is not None:\n",
        "    # 最適化期間（今日から3日後まで）\n",
        "    today = pd.Timestamp.today().normalize()\n",
        "    start_date = today.strftime(\"%Y-%m-%d\")\n",
        "    end_date = (today + pd.Timedelta(days=3)).strftime(\"%Y-%m-%d\")\n",
        "    \n",
        "    print(f\"🎯 最適化期間: {start_date} ～ {end_date}\")\n",
        "    \n",
        "    # 日時範囲の生成\n",
        "    date_range = pd.date_range(\n",
        "        start=pd.to_datetime(start_date), \n",
        "        end=pd.to_datetime(end_date), \n",
        "        freq=\"1H\"\n",
        "    )\n",
        "    date_range = date_range[(date_range.hour >= 0) & (date_range.hour <= 23)]\n",
        "    \n",
        "    print(f\"⏰ 最適化対象時間数: {len(date_range)}時間\")\n",
        "    print(f\"📅 期間: {date_range[0]} ～ {date_range[-1]}\")\n",
        "else:\n",
        "    print(\"❌ モデルが構築されていません\")\n"
      ]
    },
    {
      "cell_type": "code",
      "execution_count": null,
      "metadata": {},
      "outputs": [
        {
          "name": "stdout",
          "output_type": "stream",
          "text": [
            "🌤️ 天気予報データ生成完了\n",
            "📊 形状: (73, 4)\n",
            "🌡️ 外気温範囲: 3.2°C ～ 16.3°C\n",
            "💧 湿度範囲: 40.0% ～ 80.0%\n",
            "☀️ 日射量範囲: 0.0W/m² ～ 566.7W/m²\n"
          ]
        }
      ],
      "source": [
        "# 天気予報データの準備（ダミーデータ）\n",
        "if models is not None:\n",
        "    # 簡単な天気予報データを生成\n",
        "    weather_data = []\n",
        "    for timestamp in date_range:\n",
        "        # 季節に応じた温度変化\n",
        "        base_temp = 20 + 10 * np.sin(2 * np.pi * timestamp.dayofyear / 365)\n",
        "        daily_variation = 5 * np.sin(2 * np.pi * timestamp.hour / 24)\n",
        "        temp = base_temp + daily_variation + np.random.normal(0, 1)\n",
        "        \n",
        "        # 湿度（40-80%の範囲）\n",
        "        humidity = 60 + 20 * np.sin(2 * np.pi * timestamp.hour / 24) + np.random.normal(0, 5)\n",
        "        humidity = np.clip(humidity, 40, 80)\n",
        "        \n",
        "        # 日射量（昼間のみ）\n",
        "        if 6 <= timestamp.hour <= 18:\n",
        "            solar = 500 * np.sin(np.pi * (timestamp.hour - 6) / 12) + np.random.normal(0, 50)\n",
        "            solar = max(0, solar)\n",
        "        else:\n",
        "            solar = 0\n",
        "        \n",
        "        weather_data.append({\n",
        "            'datetime': timestamp,\n",
        "            'Outdoor Temp.': temp,\n",
        "            'Outdoor Humidity': humidity,\n",
        "            'Solar Radiation': solar\n",
        "        })\n",
        "    \n",
        "    weather_df = pd.DataFrame(weather_data)\n",
        "    \n",
        "    print(f\"🌤️ 天気予報データ生成完了\")\n",
        "    print(f\"📊 形状: {weather_df.shape}\")\n",
        "    print(f\"🌡️ 外気温範囲: {weather_df['Outdoor Temp.'].min():.1f}°C ～ {weather_df['Outdoor Temp.'].max():.1f}°C\")\n",
        "    print(f\"💧 湿度範囲: {weather_df['Outdoor Humidity'].min():.1f}% ～ {weather_df['Outdoor Humidity'].max():.1f}%\")\n",
        "    print(f\"☀️ 日射量範囲: {weather_df['Solar Radiation'].min():.1f}W/m² ～ {weather_df['Solar Radiation'].max():.1f}W/m²\")\n"
      ]
    },
    {
      "cell_type": "code",
      "execution_count": null,
      "metadata": {},
      "outputs": [
        {
          "name": "stdout",
          "output_type": "stream",
          "text": [
            "🔍 期間最適化開始...\n",
            "[PeriodOptimizer] Starting period optimization for 73 hours\n",
            "[PeriodOptimizer] Date range: 2025-10-02 00:00:00 to 2025-10-05 00:00:00\n",
            "[PeriodOptimizer] Preference: energy\n",
            "[PeriodOptimizer] Max workers: 6\n",
            "[PeriodOptimizer] Weights - Comfort: 0.2, Power: 0.8\n",
            "[PeriodOptimizer] Available zones: ['Area 1', 'Area 2', 'Area 3', 'Area 4', 'Break Room', 'Meeting Room']\n",
            "[PeriodOptimizer] Starting period optimization for zone: Area 1\n",
            "[PeriodOptimizer] Zone Area 1: Beam search with width=5, candidates=8×3×3\n",
            "[PeriodOptimizer] Starting period optimization for zone: Area 2\n",
            "[PeriodOptimizer] Zone Area 2: Beam search with width=5, candidates=7×3×3\n",
            "[PeriodOptimizer] Starting period optimization for zone: Area 3\n",
            "[PeriodOptimizer] Zone Area 3: Beam search with width=5, candidates=8×3×3\n",
            "[PeriodOptimizer] Starting period optimization for zone: Area 4\n",
            "[PeriodOptimizer] Zone Area 4: Beam search with width=5, candidates=4×3×3\n",
            "[PeriodOptimizer] Starting period optimization for zone: Break Room\n",
            "[PeriodOptimizer] Zone Break Room: Beam search with width=5, candidates=8×3×2\n",
            "[PeriodOptimizer] Starting period optimization for zone: Meeting Room\n",
            "[PeriodOptimizer] Zone Meeting Room: Beam search with width=5, candidates=7×3×3\n",
            "[PeriodOptimizer] Zone Area 4 completed - Best score: 3050125.5\n",
            "[PeriodOptimizer] Completed 1/6 zones: Area 4\n",
            "[PeriodOptimizer] Zone Break Room completed - Best score: 806755.1\n",
            "[PeriodOptimizer] Completed 2/6 zones: Break Room\n",
            "[PeriodOptimizer] Zone Meeting Room completed - Best score: 942819.8\n",
            "[PeriodOptimizer] Completed 3/6 zones: Meeting Room\n",
            "[PeriodOptimizer] Zone Area 2 completed - Best score: 60587667.6\n",
            "[PeriodOptimizer] Completed 4/6 zones: Area 2\n",
            "[PeriodOptimizer] Zone Area 1 completed - Best score: 61152399.0\n",
            "[PeriodOptimizer] Completed 5/6 zones: Area 1\n",
            "[PeriodOptimizer] Zone Area 3 completed - Best score: 2272123.1\n",
            "[PeriodOptimizer] Completed 6/6 zones: Area 3\n",
            "[PeriodOptimizer] Period optimization completed in 306.02 seconds\n",
            "[PeriodOptimizer] Optimized 6 zones\n",
            "✅ 期間最適化完了 (処理時間: 306.02秒)\n",
            "📊 最適化されたゾーン数: 6\n",
            "\n",
            "📍 Area 4:\n",
            "  - スケジュール数: 73\n",
            "  - 設定温度: 23°C ～ 24°C (平均: 23.9°C)\n",
            "  - 運転モード: 0 ～ 2 (最頻値: 0)\n",
            "  - ファン速度: 1 ～ 2 (最頻値: 1)\n",
            "  - 予測室温: 23.2°C ～ 26.3°C (平均: 24.9°C)\n",
            "  - 予測電力: 14548.2W ～ 77986.8W (合計: 3811246.0W)\n",
            "\n",
            "📍 Break Room:\n",
            "  - スケジュール数: 73\n",
            "  - 設定温度: 25°C ～ 26°C (平均: 25.1°C)\n",
            "  - 運転モード: 0 ～ 0 (最頻値: 0)\n",
            "  - ファン速度: 2 ～ 2 (最頻値: 2)\n",
            "  - 予測室温: 14.1°C ～ 26.3°C (平均: 19.9°C)\n",
            "  - 予測電力: 8544.2W ～ 16938.2W (合計: 1005279.3W)\n",
            "\n",
            "📍 Meeting Room:\n",
            "  - スケジュール数: 73\n",
            "  - 設定温度: 25°C ～ 25°C (平均: 25.0°C)\n",
            "  - 運転モード: 0 ～ 0 (最頻値: 0)\n",
            "  - ファン速度: 1 ～ 1 (最頻値: 1)\n",
            "  - 予測室温: 18.3°C ～ 30.3°C (平均: 22.5°C)\n",
            "  - 予測電力: 4588.4W ～ 24816.7W (合計: 1176630.1W)\n",
            "\n",
            "📍 Area 2:\n",
            "  - スケジュール数: 73\n",
            "  - 設定温度: 22°C ～ 26°C (平均: 25.4°C)\n",
            "  - 運転モード: 0 ～ 2 (最頻値: 0)\n",
            "  - ファン速度: 1 ～ 2 (最頻値: 1)\n",
            "  - 予測室温: 21.2°C ～ 28.7°C (平均: 24.4°C)\n",
            "  - 予測電力: 217408.8W ～ 1854551.7W (合計: 75734050.5W)\n",
            "\n",
            "📍 Area 1:\n",
            "  - スケジュール数: 73\n",
            "  - 設定温度: 24°C ～ 26°C (平均: 25.4°C)\n",
            "  - 運転モード: 0 ～ 2 (最頻値: 0)\n",
            "  - ファン速度: 1 ～ 3 (最頻値: 1)\n",
            "  - 予測室温: 20.5°C ～ 28.3°C (平均: 23.4°C)\n",
            "  - 予測電力: 222159.0W ～ 2385712.0W (合計: 76440015.4W)\n",
            "\n",
            "📍 Area 3:\n",
            "  - スケジュール数: 73\n",
            "  - 設定温度: 20°C ～ 27°C (平均: 23.6°C)\n",
            "  - 運転モード: 0 ～ 2 (最頻値: 2)\n",
            "  - ファン速度: 1 ～ 3 (最頻値: 1)\n",
            "  - 予測室温: 20.3°C ～ 25.2°C (平均: 22.0°C)\n",
            "  - 予測電力: 7673.3W ～ 91514.6W (合計: 2840091.4W)\n"
          ]
        }
      ],
      "source": [
        "# 期間最適化の実行\n",
        "if models is not None and weather_df is not None:\n",
        "    print(\"🔍 期間最適化開始...\")\n",
        "    \n",
        "    # 期間最適化器の初期化\n",
        "    optimizer = PeriodOptimizer(master, models, max_workers=6)\n",
        "    \n",
        "    start_time = time.time()\n",
        "    \n",
        "    # 最適化実行\n",
        "    schedule = optimizer.optimize_period(date_range, weather_df, preference=\"energy\")\n",
        "    \n",
        "    end_time = time.time()\n",
        "    \n",
        "    print(f\"✅ 期間最適化完了 (処理時間: {end_time - start_time:.2f}秒)\")\n",
        "    print(f\"📊 最適化されたゾーン数: {len(schedule)}\")\n",
        "    \n",
        "    # 各ゾーンの最適化結果確認\n",
        "    for zone_name, zone_schedule in schedule.items():\n",
        "        print(f\"\\n📍 {zone_name}:\")\n",
        "        print(f\"  - スケジュール数: {len(zone_schedule)}\")\n",
        "        \n",
        "        # 制御値の統計\n",
        "        set_temps = [s['set_temp'] for s in zone_schedule.values()]\n",
        "        modes = [s['mode'] for s in zone_schedule.values()]\n",
        "        fans = [s['fan'] for s in zone_schedule.values()]\n",
        "        pred_temps = [s['pred_temp'] for s in zone_schedule.values()]\n",
        "        pred_powers = [s['pred_power'] for s in zone_schedule.values()]\n",
        "        \n",
        "        print(f\"  - 設定温度: {min(set_temps)}°C ～ {max(set_temps)}°C (平均: {np.mean(set_temps):.1f}°C)\")\n",
        "        print(f\"  - 運転モード: {min(modes)} ～ {max(modes)} (最頻値: {max(set(modes), key=modes.count)})\")\n",
        "        print(f\"  - ファン速度: {min(fans)} ～ {max(fans)} (最頻値: {max(set(fans), key=fans.count)})\")\n",
        "        print(f\"  - 予測室温: {min(pred_temps):.1f}°C ～ {max(pred_temps):.1f}°C (平均: {np.mean(pred_temps):.1f}°C)\")\n",
        "        print(f\"  - 予測電力: {min(pred_powers):.1f}W ～ {max(pred_powers):.1f}W (合計: {np.sum(pred_powers):.1f}W)\")\n",
        "else:\n",
        "    print(\"❌ 最適化に必要なデータが不足しています\")\n",
        "    schedule = None\n"
      ]
    },
    {
      "cell_type": "markdown",
      "metadata": {},
      "source": [
        "## 5. 結果出力・可視化\n",
        "\n",
        "最適化結果を可視化し、分析します。\n"
      ]
    },
    {
      "cell_type": "code",
      "execution_count": null,
      "metadata": {},
      "outputs": [
        {
          "data": {
            "application/vnd.plotly.v1+json": {
              "config": {
                "plotlyServerURL": "https://plot.ly"
              },
              "data": [
                {
                  "line": {
                    "color": "red",
                    "width": 2
                  },
                  "name": "設定温度",
                  "type": "scatter",
                  "x": [
                    "2025-10-02T00:00:00",
                    "2025-10-02T01:00:00",
                    "2025-10-02T02:00:00",
                    "2025-10-02T03:00:00",
                    "2025-10-02T04:00:00",
                    "2025-10-02T05:00:00",
                    "2025-10-02T06:00:00",
                    "2025-10-02T07:00:00",
                    "2025-10-02T08:00:00",
                    "2025-10-02T09:00:00",
                    "2025-10-02T10:00:00",
                    "2025-10-02T11:00:00",
                    "2025-10-02T12:00:00",
                    "2025-10-02T13:00:00",
                    "2025-10-02T14:00:00",
                    "2025-10-02T15:00:00",
                    "2025-10-02T16:00:00",
                    "2025-10-02T17:00:00",
                    "2025-10-02T18:00:00",
                    "2025-10-02T19:00:00",
                    "2025-10-02T20:00:00",
                    "2025-10-02T21:00:00",
                    "2025-10-02T22:00:00",
                    "2025-10-02T23:00:00",
                    "2025-10-03T00:00:00",
                    "2025-10-03T01:00:00",
                    "2025-10-03T02:00:00",
                    "2025-10-03T03:00:00",
                    "2025-10-03T04:00:00",
                    "2025-10-03T05:00:00",
                    "2025-10-03T06:00:00",
                    "2025-10-03T07:00:00",
                    "2025-10-03T08:00:00",
                    "2025-10-03T09:00:00",
                    "2025-10-03T10:00:00",
                    "2025-10-03T11:00:00",
                    "2025-10-03T12:00:00",
                    "2025-10-03T13:00:00",
                    "2025-10-03T14:00:00",
                    "2025-10-03T15:00:00",
                    "2025-10-03T16:00:00",
                    "2025-10-03T17:00:00",
                    "2025-10-03T18:00:00",
                    "2025-10-03T19:00:00",
                    "2025-10-03T20:00:00",
                    "2025-10-03T21:00:00",
                    "2025-10-03T22:00:00",
                    "2025-10-03T23:00:00",
                    "2025-10-04T00:00:00",
                    "2025-10-04T01:00:00",
                    "2025-10-04T02:00:00",
                    "2025-10-04T03:00:00",
                    "2025-10-04T04:00:00",
                    "2025-10-04T05:00:00",
                    "2025-10-04T06:00:00",
                    "2025-10-04T07:00:00",
                    "2025-10-04T08:00:00",
                    "2025-10-04T09:00:00",
                    "2025-10-04T10:00:00",
                    "2025-10-04T11:00:00",
                    "2025-10-04T12:00:00",
                    "2025-10-04T13:00:00",
                    "2025-10-04T14:00:00",
                    "2025-10-04T15:00:00",
                    "2025-10-04T16:00:00",
                    "2025-10-04T17:00:00",
                    "2025-10-04T18:00:00",
                    "2025-10-04T19:00:00",
                    "2025-10-04T20:00:00",
                    "2025-10-04T21:00:00",
                    "2025-10-04T22:00:00",
                    "2025-10-04T23:00:00",
                    "2025-10-05T00:00:00"
                  ],
                  "xaxis": "x",
                  "y": [
                    24,
                    24,
                    24,
                    24,
                    24,
                    24,
                    24,
                    24,
                    24,
                    24,
                    24,
                    24,
                    24,
                    24,
                    23,
                    23,
                    23,
                    24,
                    24,
                    24,
                    24,
                    24,
                    24,
                    23,
                    24,
                    24,
                    24,
                    24,
                    24,
                    24,
                    24,
                    24,
                    24,
                    24,
                    24,
                    24,
                    24,
                    24,
                    24,
                    24,
                    24,
                    24,
                    24,
                    24,
                    24,
                    24,
                    23,
                    23,
                    24,
                    24,
                    24,
                    24,
                    24,
                    24,
                    24,
                    24,
                    24,
                    24,
                    24,
                    24,
                    24,
                    24,
                    24,
                    24,
                    24,
                    24,
                    24,
                    24,
                    24,
                    24,
                    24,
                    24,
                    24
                  ],
                  "yaxis": "y"
                },
                {
                  "line": {
                    "color": "blue",
                    "width": 2
                  },
                  "name": "予測室温",
                  "type": "scatter",
                  "x": [
                    "2025-10-02T00:00:00",
                    "2025-10-02T01:00:00",
                    "2025-10-02T02:00:00",
                    "2025-10-02T03:00:00",
                    "2025-10-02T04:00:00",
                    "2025-10-02T05:00:00",
                    "2025-10-02T06:00:00",
                    "2025-10-02T07:00:00",
                    "2025-10-02T08:00:00",
                    "2025-10-02T09:00:00",
                    "2025-10-02T10:00:00",
                    "2025-10-02T11:00:00",
                    "2025-10-02T12:00:00",
                    "2025-10-02T13:00:00",
                    "2025-10-02T14:00:00",
                    "2025-10-02T15:00:00",
                    "2025-10-02T16:00:00",
                    "2025-10-02T17:00:00",
                    "2025-10-02T18:00:00",
                    "2025-10-02T19:00:00",
                    "2025-10-02T20:00:00",
                    "2025-10-02T21:00:00",
                    "2025-10-02T22:00:00",
                    "2025-10-02T23:00:00",
                    "2025-10-03T00:00:00",
                    "2025-10-03T01:00:00",
                    "2025-10-03T02:00:00",
                    "2025-10-03T03:00:00",
                    "2025-10-03T04:00:00",
                    "2025-10-03T05:00:00",
                    "2025-10-03T06:00:00",
                    "2025-10-03T07:00:00",
                    "2025-10-03T08:00:00",
                    "2025-10-03T09:00:00",
                    "2025-10-03T10:00:00",
                    "2025-10-03T11:00:00",
                    "2025-10-03T12:00:00",
                    "2025-10-03T13:00:00",
                    "2025-10-03T14:00:00",
                    "2025-10-03T15:00:00",
                    "2025-10-03T16:00:00",
                    "2025-10-03T17:00:00",
                    "2025-10-03T18:00:00",
                    "2025-10-03T19:00:00",
                    "2025-10-03T20:00:00",
                    "2025-10-03T21:00:00",
                    "2025-10-03T22:00:00",
                    "2025-10-03T23:00:00",
                    "2025-10-04T00:00:00",
                    "2025-10-04T01:00:00",
                    "2025-10-04T02:00:00",
                    "2025-10-04T03:00:00",
                    "2025-10-04T04:00:00",
                    "2025-10-04T05:00:00",
                    "2025-10-04T06:00:00",
                    "2025-10-04T07:00:00",
                    "2025-10-04T08:00:00",
                    "2025-10-04T09:00:00",
                    "2025-10-04T10:00:00",
                    "2025-10-04T11:00:00",
                    "2025-10-04T12:00:00",
                    "2025-10-04T13:00:00",
                    "2025-10-04T14:00:00",
                    "2025-10-04T15:00:00",
                    "2025-10-04T16:00:00",
                    "2025-10-04T17:00:00",
                    "2025-10-04T18:00:00",
                    "2025-10-04T19:00:00",
                    "2025-10-04T20:00:00",
                    "2025-10-04T21:00:00",
                    "2025-10-04T22:00:00",
                    "2025-10-04T23:00:00",
                    "2025-10-05T00:00:00"
                  ],
                  "xaxis": "x",
                  "y": [
                    24.1655,
                    24.26,
                    24.74550000000001,
                    25.224499999999985,
                    25.510500000000015,
                    25.799499999999988,
                    25.776999999999997,
                    25.70899999999996,
                    25.425999999999984,
                    24.871500000000005,
                    24.977500000000013,
                    24.973500000000023,
                    24.755000000000027,
                    25.868500000000008,
                    25.290000000000013,
                    24.78900000000001,
                    25.933000000000003,
                    25.35950000000001,
                    24.554999999999993,
                    25.9925,
                    26.304500000000026,
                    25.752499999999987,
                    24.642500000000013,
                    23.746000000000013,
                    23.519000000000002,
                    23.244999999999994,
                    23.671500000000048,
                    24.054000000000023,
                    24.435000000000045,
                    24.707000000000026,
                    25.062000000000012,
                    25.011999999999993,
                    24.97200000000001,
                    24.926000000000002,
                    24.977000000000004,
                    24.809500000000025,
                    24.79300000000004,
                    25.938499999999998,
                    25.38150000000002,
                    24.50450000000001,
                    25.915500000000005,
                    25.294500000000014,
                    24.65,
                    25.925000000000004,
                    25.78350000000002,
                    24.671000000000014,
                    23.7595,
                    23.638999999999992,
                    23.506,
                    23.289999999999996,
                    23.747000000000007,
                    24.029000000000018,
                    24.376500000000032,
                    24.561500000000013,
                    25.26100000000001,
                    25.137000000000025,
                    24.993999999999993,
                    24.970499999999998,
                    24.96849999999999,
                    24.741000000000028,
                    25.32800000000001,
                    24.76749999999998,
                    25.88899999999999,
                    25.37050000000002,
                    24.498500000000003,
                    25.909000000000002,
                    25.318500000000014,
                    24.978000000000012,
                    25.773999999999987,
                    24.698,
                    23.763499999999993,
                    23.385999999999985,
                    23.379000000000005
                  ],
                  "yaxis": "y"
                },
                {
                  "line": {
                    "color": "green",
                    "width": 2
                  },
                  "name": "予測電力",
                  "type": "scatter",
                  "x": [
                    "2025-10-02T00:00:00",
                    "2025-10-02T01:00:00",
                    "2025-10-02T02:00:00",
                    "2025-10-02T03:00:00",
                    "2025-10-02T04:00:00",
                    "2025-10-02T05:00:00",
                    "2025-10-02T06:00:00",
                    "2025-10-02T07:00:00",
                    "2025-10-02T08:00:00",
                    "2025-10-02T09:00:00",
                    "2025-10-02T10:00:00",
                    "2025-10-02T11:00:00",
                    "2025-10-02T12:00:00",
                    "2025-10-02T13:00:00",
                    "2025-10-02T14:00:00",
                    "2025-10-02T15:00:00",
                    "2025-10-02T16:00:00",
                    "2025-10-02T17:00:00",
                    "2025-10-02T18:00:00",
                    "2025-10-02T19:00:00",
                    "2025-10-02T20:00:00",
                    "2025-10-02T21:00:00",
                    "2025-10-02T22:00:00",
                    "2025-10-02T23:00:00",
                    "2025-10-03T00:00:00",
                    "2025-10-03T01:00:00",
                    "2025-10-03T02:00:00",
                    "2025-10-03T03:00:00",
                    "2025-10-03T04:00:00",
                    "2025-10-03T05:00:00",
                    "2025-10-03T06:00:00",
                    "2025-10-03T07:00:00",
                    "2025-10-03T08:00:00",
                    "2025-10-03T09:00:00",
                    "2025-10-03T10:00:00",
                    "2025-10-03T11:00:00",
                    "2025-10-03T12:00:00",
                    "2025-10-03T13:00:00",
                    "2025-10-03T14:00:00",
                    "2025-10-03T15:00:00",
                    "2025-10-03T16:00:00",
                    "2025-10-03T17:00:00",
                    "2025-10-03T18:00:00",
                    "2025-10-03T19:00:00",
                    "2025-10-03T20:00:00",
                    "2025-10-03T21:00:00",
                    "2025-10-03T22:00:00",
                    "2025-10-03T23:00:00",
                    "2025-10-04T00:00:00",
                    "2025-10-04T01:00:00",
                    "2025-10-04T02:00:00",
                    "2025-10-04T03:00:00",
                    "2025-10-04T04:00:00",
                    "2025-10-04T05:00:00",
                    "2025-10-04T06:00:00",
                    "2025-10-04T07:00:00",
                    "2025-10-04T08:00:00",
                    "2025-10-04T09:00:00",
                    "2025-10-04T10:00:00",
                    "2025-10-04T11:00:00",
                    "2025-10-04T12:00:00",
                    "2025-10-04T13:00:00",
                    "2025-10-04T14:00:00",
                    "2025-10-04T15:00:00",
                    "2025-10-04T16:00:00",
                    "2025-10-04T17:00:00",
                    "2025-10-04T18:00:00",
                    "2025-10-04T19:00:00",
                    "2025-10-04T20:00:00",
                    "2025-10-04T21:00:00",
                    "2025-10-04T22:00:00",
                    "2025-10-04T23:00:00",
                    "2025-10-05T00:00:00"
                  ],
                  "xaxis": "x2",
                  "y": [
                    22414.199999999997,
                    22045.5,
                    14548.199999999999,
                    15523.800000000001,
                    14819.699999999999,
                    17026.949999999997,
                    25595.100000000002,
                    58292.850000000006,
                    59600.850000000006,
                    54094.350000000006,
                    71779.20000000001,
                    68059.20000000001,
                    70892.25,
                    70830,
                    75068.85,
                    75843.45000000001,
                    77002.35,
                    66522.45000000001,
                    76175.70000000001,
                    62756.25,
                    63678,
                    43330.2,
                    54796.350000000006,
                    67589.25,
                    21886.35,
                    22909.5,
                    15348.900000000001,
                    15422.25,
                    16086.599999999999,
                    17127.449999999997,
                    63333,
                    63215.549999999996,
                    56652.450000000004,
                    56864.399999999994,
                    76001.54999999999,
                    63321.149999999994,
                    72061.79999999999,
                    69632.85,
                    64891.200000000004,
                    67064.85,
                    77986.79999999999,
                    72994.95000000001,
                    72195.15,
                    69509.85,
                    65655.29999999999,
                    41946.75,
                    67089.29999999999,
                    64225.5,
                    24752.399999999998,
                    21578.1,
                    21659.699999999997,
                    15590.550000000001,
                    16341.900000000001,
                    17247.449999999997,
                    64032.450000000004,
                    66408,
                    59929.350000000006,
                    57698.100000000006,
                    56388.450000000004,
                    58446.899999999994,
                    59042.100000000006,
                    71027.4,
                    56614.649999999994,
                    58457.25,
                    68991,
                    71875.79999999999,
                    67417.5,
                    64880.100000000006,
                    69900.15,
                    39570.3,
                    70738.65,
                    65239.350000000006,
                    25710
                  ],
                  "yaxis": "y2"
                },
                {
                  "marker": {
                    "color": "orange",
                    "size": 6
                  },
                  "mode": "markers",
                  "name": "運転モード",
                  "type": "scatter",
                  "x": [
                    "2025-10-02T00:00:00",
                    "2025-10-02T01:00:00",
                    "2025-10-02T02:00:00",
                    "2025-10-02T03:00:00",
                    "2025-10-02T04:00:00",
                    "2025-10-02T05:00:00",
                    "2025-10-02T06:00:00",
                    "2025-10-02T07:00:00",
                    "2025-10-02T08:00:00",
                    "2025-10-02T09:00:00",
                    "2025-10-02T10:00:00",
                    "2025-10-02T11:00:00",
                    "2025-10-02T12:00:00",
                    "2025-10-02T13:00:00",
                    "2025-10-02T14:00:00",
                    "2025-10-02T15:00:00",
                    "2025-10-02T16:00:00",
                    "2025-10-02T17:00:00",
                    "2025-10-02T18:00:00",
                    "2025-10-02T19:00:00",
                    "2025-10-02T20:00:00",
                    "2025-10-02T21:00:00",
                    "2025-10-02T22:00:00",
                    "2025-10-02T23:00:00",
                    "2025-10-03T00:00:00",
                    "2025-10-03T01:00:00",
                    "2025-10-03T02:00:00",
                    "2025-10-03T03:00:00",
                    "2025-10-03T04:00:00",
                    "2025-10-03T05:00:00",
                    "2025-10-03T06:00:00",
                    "2025-10-03T07:00:00",
                    "2025-10-03T08:00:00",
                    "2025-10-03T09:00:00",
                    "2025-10-03T10:00:00",
                    "2025-10-03T11:00:00",
                    "2025-10-03T12:00:00",
                    "2025-10-03T13:00:00",
                    "2025-10-03T14:00:00",
                    "2025-10-03T15:00:00",
                    "2025-10-03T16:00:00",
                    "2025-10-03T17:00:00",
                    "2025-10-03T18:00:00",
                    "2025-10-03T19:00:00",
                    "2025-10-03T20:00:00",
                    "2025-10-03T21:00:00",
                    "2025-10-03T22:00:00",
                    "2025-10-03T23:00:00",
                    "2025-10-04T00:00:00",
                    "2025-10-04T01:00:00",
                    "2025-10-04T02:00:00",
                    "2025-10-04T03:00:00",
                    "2025-10-04T04:00:00",
                    "2025-10-04T05:00:00",
                    "2025-10-04T06:00:00",
                    "2025-10-04T07:00:00",
                    "2025-10-04T08:00:00",
                    "2025-10-04T09:00:00",
                    "2025-10-04T10:00:00",
                    "2025-10-04T11:00:00",
                    "2025-10-04T12:00:00",
                    "2025-10-04T13:00:00",
                    "2025-10-04T14:00:00",
                    "2025-10-04T15:00:00",
                    "2025-10-04T16:00:00",
                    "2025-10-04T17:00:00",
                    "2025-10-04T18:00:00",
                    "2025-10-04T19:00:00",
                    "2025-10-04T20:00:00",
                    "2025-10-04T21:00:00",
                    "2025-10-04T22:00:00",
                    "2025-10-04T23:00:00",
                    "2025-10-05T00:00:00"
                  ],
                  "xaxis": "x3",
                  "y": [
                    0,
                    0,
                    0,
                    0,
                    0,
                    0,
                    0,
                    0,
                    0,
                    0,
                    0,
                    0,
                    0,
                    0,
                    0,
                    0,
                    0,
                    0,
                    0,
                    0,
                    2,
                    0,
                    0,
                    0,
                    0,
                    0,
                    0,
                    0,
                    0,
                    0,
                    2,
                    0,
                    0,
                    0,
                    0,
                    0,
                    0,
                    0,
                    0,
                    0,
                    0,
                    0,
                    0,
                    0,
                    2,
                    0,
                    0,
                    0,
                    0,
                    0,
                    0,
                    0,
                    0,
                    0,
                    2,
                    0,
                    0,
                    0,
                    0,
                    0,
                    0,
                    0,
                    0,
                    0,
                    0,
                    0,
                    0,
                    0,
                    0,
                    0,
                    0,
                    0,
                    0
                  ],
                  "yaxis": "y3"
                },
                {
                  "marker": {
                    "color": "purple",
                    "size": 6
                  },
                  "mode": "markers",
                  "name": "ファン速度",
                  "type": "scatter",
                  "x": [
                    "2025-10-02T00:00:00",
                    "2025-10-02T01:00:00",
                    "2025-10-02T02:00:00",
                    "2025-10-02T03:00:00",
                    "2025-10-02T04:00:00",
                    "2025-10-02T05:00:00",
                    "2025-10-02T06:00:00",
                    "2025-10-02T07:00:00",
                    "2025-10-02T08:00:00",
                    "2025-10-02T09:00:00",
                    "2025-10-02T10:00:00",
                    "2025-10-02T11:00:00",
                    "2025-10-02T12:00:00",
                    "2025-10-02T13:00:00",
                    "2025-10-02T14:00:00",
                    "2025-10-02T15:00:00",
                    "2025-10-02T16:00:00",
                    "2025-10-02T17:00:00",
                    "2025-10-02T18:00:00",
                    "2025-10-02T19:00:00",
                    "2025-10-02T20:00:00",
                    "2025-10-02T21:00:00",
                    "2025-10-02T22:00:00",
                    "2025-10-02T23:00:00",
                    "2025-10-03T00:00:00",
                    "2025-10-03T01:00:00",
                    "2025-10-03T02:00:00",
                    "2025-10-03T03:00:00",
                    "2025-10-03T04:00:00",
                    "2025-10-03T05:00:00",
                    "2025-10-03T06:00:00",
                    "2025-10-03T07:00:00",
                    "2025-10-03T08:00:00",
                    "2025-10-03T09:00:00",
                    "2025-10-03T10:00:00",
                    "2025-10-03T11:00:00",
                    "2025-10-03T12:00:00",
                    "2025-10-03T13:00:00",
                    "2025-10-03T14:00:00",
                    "2025-10-03T15:00:00",
                    "2025-10-03T16:00:00",
                    "2025-10-03T17:00:00",
                    "2025-10-03T18:00:00",
                    "2025-10-03T19:00:00",
                    "2025-10-03T20:00:00",
                    "2025-10-03T21:00:00",
                    "2025-10-03T22:00:00",
                    "2025-10-03T23:00:00",
                    "2025-10-04T00:00:00",
                    "2025-10-04T01:00:00",
                    "2025-10-04T02:00:00",
                    "2025-10-04T03:00:00",
                    "2025-10-04T04:00:00",
                    "2025-10-04T05:00:00",
                    "2025-10-04T06:00:00",
                    "2025-10-04T07:00:00",
                    "2025-10-04T08:00:00",
                    "2025-10-04T09:00:00",
                    "2025-10-04T10:00:00",
                    "2025-10-04T11:00:00",
                    "2025-10-04T12:00:00",
                    "2025-10-04T13:00:00",
                    "2025-10-04T14:00:00",
                    "2025-10-04T15:00:00",
                    "2025-10-04T16:00:00",
                    "2025-10-04T17:00:00",
                    "2025-10-04T18:00:00",
                    "2025-10-04T19:00:00",
                    "2025-10-04T20:00:00",
                    "2025-10-04T21:00:00",
                    "2025-10-04T22:00:00",
                    "2025-10-04T23:00:00",
                    "2025-10-05T00:00:00"
                  ],
                  "xaxis": "x4",
                  "y": [
                    1,
                    1,
                    1,
                    1,
                    1,
                    1,
                    1,
                    1,
                    1,
                    1,
                    1,
                    1,
                    1,
                    1,
                    1,
                    1,
                    1,
                    1,
                    1,
                    2,
                    1,
                    2,
                    1,
                    1,
                    1,
                    1,
                    1,
                    1,
                    1,
                    1,
                    1,
                    1,
                    1,
                    1,
                    1,
                    1,
                    1,
                    1,
                    1,
                    1,
                    2,
                    1,
                    1,
                    2,
                    1,
                    1,
                    1,
                    1,
                    1,
                    1,
                    1,
                    1,
                    1,
                    1,
                    2,
                    1,
                    1,
                    1,
                    1,
                    1,
                    1,
                    1,
                    1,
                    1,
                    1,
                    2,
                    1,
                    1,
                    1,
                    1,
                    1,
                    1,
                    1
                  ],
                  "yaxis": "y4"
                }
              ],
              "layout": {
                "annotations": [
                  {
                    "font": {
                      "size": 16
                    },
                    "showarrow": false,
                    "text": "Area 4 - 設定温度・予測室温",
                    "x": 0.5,
                    "xanchor": "center",
                    "xref": "paper",
                    "y": 1,
                    "yanchor": "bottom",
                    "yref": "paper"
                  },
                  {
                    "font": {
                      "size": 16
                    },
                    "showarrow": false,
                    "text": "Area 4 - 予測電力",
                    "x": 0.5,
                    "xanchor": "center",
                    "xref": "paper",
                    "y": 0.73,
                    "yanchor": "bottom",
                    "yref": "paper"
                  },
                  {
                    "font": {
                      "size": 16
                    },
                    "showarrow": false,
                    "text": "Area 4 - 運転モード",
                    "x": 0.5,
                    "xanchor": "center",
                    "xref": "paper",
                    "y": 0.46,
                    "yanchor": "bottom",
                    "yref": "paper"
                  },
                  {
                    "font": {
                      "size": 16
                    },
                    "showarrow": false,
                    "text": "Area 4 - ファン速度",
                    "x": 0.5,
                    "xanchor": "center",
                    "xref": "paper",
                    "y": 0.19,
                    "yanchor": "bottom",
                    "yref": "paper"
                  }
                ],
                "height": 800,
                "showlegend": true,
                "template": {
                  "data": {
                    "bar": [
                      {
                        "error_x": {
                          "color": "#2a3f5f"
                        },
                        "error_y": {
                          "color": "#2a3f5f"
                        },
                        "marker": {
                          "line": {
                            "color": "#E5ECF6",
                            "width": 0.5
                          },
                          "pattern": {
                            "fillmode": "overlay",
                            "size": 10,
                            "solidity": 0.2
                          }
                        },
                        "type": "bar"
                      }
                    ],
                    "barpolar": [
                      {
                        "marker": {
                          "line": {
                            "color": "#E5ECF6",
                            "width": 0.5
                          },
                          "pattern": {
                            "fillmode": "overlay",
                            "size": 10,
                            "solidity": 0.2
                          }
                        },
                        "type": "barpolar"
                      }
                    ],
                    "carpet": [
                      {
                        "aaxis": {
                          "endlinecolor": "#2a3f5f",
                          "gridcolor": "white",
                          "linecolor": "white",
                          "minorgridcolor": "white",
                          "startlinecolor": "#2a3f5f"
                        },
                        "baxis": {
                          "endlinecolor": "#2a3f5f",
                          "gridcolor": "white",
                          "linecolor": "white",
                          "minorgridcolor": "white",
                          "startlinecolor": "#2a3f5f"
                        },
                        "type": "carpet"
                      }
                    ],
                    "choropleth": [
                      {
                        "colorbar": {
                          "outlinewidth": 0,
                          "ticks": ""
                        },
                        "type": "choropleth"
                      }
                    ],
                    "contour": [
                      {
                        "colorbar": {
                          "outlinewidth": 0,
                          "ticks": ""
                        },
                        "colorscale": [
                          [
                            0,
                            "#0d0887"
                          ],
                          [
                            0.1111111111111111,
                            "#46039f"
                          ],
                          [
                            0.2222222222222222,
                            "#7201a8"
                          ],
                          [
                            0.3333333333333333,
                            "#9c179e"
                          ],
                          [
                            0.4444444444444444,
                            "#bd3786"
                          ],
                          [
                            0.5555555555555556,
                            "#d8576b"
                          ],
                          [
                            0.6666666666666666,
                            "#ed7953"
                          ],
                          [
                            0.7777777777777778,
                            "#fb9f3a"
                          ],
                          [
                            0.8888888888888888,
                            "#fdca26"
                          ],
                          [
                            1,
                            "#f0f921"
                          ]
                        ],
                        "type": "contour"
                      }
                    ],
                    "contourcarpet": [
                      {
                        "colorbar": {
                          "outlinewidth": 0,
                          "ticks": ""
                        },
                        "type": "contourcarpet"
                      }
                    ],
                    "heatmap": [
                      {
                        "colorbar": {
                          "outlinewidth": 0,
                          "ticks": ""
                        },
                        "colorscale": [
                          [
                            0,
                            "#0d0887"
                          ],
                          [
                            0.1111111111111111,
                            "#46039f"
                          ],
                          [
                            0.2222222222222222,
                            "#7201a8"
                          ],
                          [
                            0.3333333333333333,
                            "#9c179e"
                          ],
                          [
                            0.4444444444444444,
                            "#bd3786"
                          ],
                          [
                            0.5555555555555556,
                            "#d8576b"
                          ],
                          [
                            0.6666666666666666,
                            "#ed7953"
                          ],
                          [
                            0.7777777777777778,
                            "#fb9f3a"
                          ],
                          [
                            0.8888888888888888,
                            "#fdca26"
                          ],
                          [
                            1,
                            "#f0f921"
                          ]
                        ],
                        "type": "heatmap"
                      }
                    ],
                    "heatmapgl": [
                      {
                        "colorbar": {
                          "outlinewidth": 0,
                          "ticks": ""
                        },
                        "colorscale": [
                          [
                            0,
                            "#0d0887"
                          ],
                          [
                            0.1111111111111111,
                            "#46039f"
                          ],
                          [
                            0.2222222222222222,
                            "#7201a8"
                          ],
                          [
                            0.3333333333333333,
                            "#9c179e"
                          ],
                          [
                            0.4444444444444444,
                            "#bd3786"
                          ],
                          [
                            0.5555555555555556,
                            "#d8576b"
                          ],
                          [
                            0.6666666666666666,
                            "#ed7953"
                          ],
                          [
                            0.7777777777777778,
                            "#fb9f3a"
                          ],
                          [
                            0.8888888888888888,
                            "#fdca26"
                          ],
                          [
                            1,
                            "#f0f921"
                          ]
                        ],
                        "type": "heatmapgl"
                      }
                    ],
                    "histogram": [
                      {
                        "marker": {
                          "pattern": {
                            "fillmode": "overlay",
                            "size": 10,
                            "solidity": 0.2
                          }
                        },
                        "type": "histogram"
                      }
                    ],
                    "histogram2d": [
                      {
                        "colorbar": {
                          "outlinewidth": 0,
                          "ticks": ""
                        },
                        "colorscale": [
                          [
                            0,
                            "#0d0887"
                          ],
                          [
                            0.1111111111111111,
                            "#46039f"
                          ],
                          [
                            0.2222222222222222,
                            "#7201a8"
                          ],
                          [
                            0.3333333333333333,
                            "#9c179e"
                          ],
                          [
                            0.4444444444444444,
                            "#bd3786"
                          ],
                          [
                            0.5555555555555556,
                            "#d8576b"
                          ],
                          [
                            0.6666666666666666,
                            "#ed7953"
                          ],
                          [
                            0.7777777777777778,
                            "#fb9f3a"
                          ],
                          [
                            0.8888888888888888,
                            "#fdca26"
                          ],
                          [
                            1,
                            "#f0f921"
                          ]
                        ],
                        "type": "histogram2d"
                      }
                    ],
                    "histogram2dcontour": [
                      {
                        "colorbar": {
                          "outlinewidth": 0,
                          "ticks": ""
                        },
                        "colorscale": [
                          [
                            0,
                            "#0d0887"
                          ],
                          [
                            0.1111111111111111,
                            "#46039f"
                          ],
                          [
                            0.2222222222222222,
                            "#7201a8"
                          ],
                          [
                            0.3333333333333333,
                            "#9c179e"
                          ],
                          [
                            0.4444444444444444,
                            "#bd3786"
                          ],
                          [
                            0.5555555555555556,
                            "#d8576b"
                          ],
                          [
                            0.6666666666666666,
                            "#ed7953"
                          ],
                          [
                            0.7777777777777778,
                            "#fb9f3a"
                          ],
                          [
                            0.8888888888888888,
                            "#fdca26"
                          ],
                          [
                            1,
                            "#f0f921"
                          ]
                        ],
                        "type": "histogram2dcontour"
                      }
                    ],
                    "mesh3d": [
                      {
                        "colorbar": {
                          "outlinewidth": 0,
                          "ticks": ""
                        },
                        "type": "mesh3d"
                      }
                    ],
                    "parcoords": [
                      {
                        "line": {
                          "colorbar": {
                            "outlinewidth": 0,
                            "ticks": ""
                          }
                        },
                        "type": "parcoords"
                      }
                    ],
                    "pie": [
                      {
                        "automargin": true,
                        "type": "pie"
                      }
                    ],
                    "scatter": [
                      {
                        "fillpattern": {
                          "fillmode": "overlay",
                          "size": 10,
                          "solidity": 0.2
                        },
                        "type": "scatter"
                      }
                    ],
                    "scatter3d": [
                      {
                        "line": {
                          "colorbar": {
                            "outlinewidth": 0,
                            "ticks": ""
                          }
                        },
                        "marker": {
                          "colorbar": {
                            "outlinewidth": 0,
                            "ticks": ""
                          }
                        },
                        "type": "scatter3d"
                      }
                    ],
                    "scattercarpet": [
                      {
                        "marker": {
                          "colorbar": {
                            "outlinewidth": 0,
                            "ticks": ""
                          }
                        },
                        "type": "scattercarpet"
                      }
                    ],
                    "scattergeo": [
                      {
                        "marker": {
                          "colorbar": {
                            "outlinewidth": 0,
                            "ticks": ""
                          }
                        },
                        "type": "scattergeo"
                      }
                    ],
                    "scattergl": [
                      {
                        "marker": {
                          "colorbar": {
                            "outlinewidth": 0,
                            "ticks": ""
                          }
                        },
                        "type": "scattergl"
                      }
                    ],
                    "scattermapbox": [
                      {
                        "marker": {
                          "colorbar": {
                            "outlinewidth": 0,
                            "ticks": ""
                          }
                        },
                        "type": "scattermapbox"
                      }
                    ],
                    "scatterpolar": [
                      {
                        "marker": {
                          "colorbar": {
                            "outlinewidth": 0,
                            "ticks": ""
                          }
                        },
                        "type": "scatterpolar"
                      }
                    ],
                    "scatterpolargl": [
                      {
                        "marker": {
                          "colorbar": {
                            "outlinewidth": 0,
                            "ticks": ""
                          }
                        },
                        "type": "scatterpolargl"
                      }
                    ],
                    "scatterternary": [
                      {
                        "marker": {
                          "colorbar": {
                            "outlinewidth": 0,
                            "ticks": ""
                          }
                        },
                        "type": "scatterternary"
                      }
                    ],
                    "surface": [
                      {
                        "colorbar": {
                          "outlinewidth": 0,
                          "ticks": ""
                        },
                        "colorscale": [
                          [
                            0,
                            "#0d0887"
                          ],
                          [
                            0.1111111111111111,
                            "#46039f"
                          ],
                          [
                            0.2222222222222222,
                            "#7201a8"
                          ],
                          [
                            0.3333333333333333,
                            "#9c179e"
                          ],
                          [
                            0.4444444444444444,
                            "#bd3786"
                          ],
                          [
                            0.5555555555555556,
                            "#d8576b"
                          ],
                          [
                            0.6666666666666666,
                            "#ed7953"
                          ],
                          [
                            0.7777777777777778,
                            "#fb9f3a"
                          ],
                          [
                            0.8888888888888888,
                            "#fdca26"
                          ],
                          [
                            1,
                            "#f0f921"
                          ]
                        ],
                        "type": "surface"
                      }
                    ],
                    "table": [
                      {
                        "cells": {
                          "fill": {
                            "color": "#EBF0F8"
                          },
                          "line": {
                            "color": "white"
                          }
                        },
                        "header": {
                          "fill": {
                            "color": "#C8D4E3"
                          },
                          "line": {
                            "color": "white"
                          }
                        },
                        "type": "table"
                      }
                    ]
                  },
                  "layout": {
                    "annotationdefaults": {
                      "arrowcolor": "#2a3f5f",
                      "arrowhead": 0,
                      "arrowwidth": 1
                    },
                    "autotypenumbers": "strict",
                    "coloraxis": {
                      "colorbar": {
                        "outlinewidth": 0,
                        "ticks": ""
                      }
                    },
                    "colorscale": {
                      "diverging": [
                        [
                          0,
                          "#8e0152"
                        ],
                        [
                          0.1,
                          "#c51b7d"
                        ],
                        [
                          0.2,
                          "#de77ae"
                        ],
                        [
                          0.3,
                          "#f1b6da"
                        ],
                        [
                          0.4,
                          "#fde0ef"
                        ],
                        [
                          0.5,
                          "#f7f7f7"
                        ],
                        [
                          0.6,
                          "#e6f5d0"
                        ],
                        [
                          0.7,
                          "#b8e186"
                        ],
                        [
                          0.8,
                          "#7fbc41"
                        ],
                        [
                          0.9,
                          "#4d9221"
                        ],
                        [
                          1,
                          "#276419"
                        ]
                      ],
                      "sequential": [
                        [
                          0,
                          "#0d0887"
                        ],
                        [
                          0.1111111111111111,
                          "#46039f"
                        ],
                        [
                          0.2222222222222222,
                          "#7201a8"
                        ],
                        [
                          0.3333333333333333,
                          "#9c179e"
                        ],
                        [
                          0.4444444444444444,
                          "#bd3786"
                        ],
                        [
                          0.5555555555555556,
                          "#d8576b"
                        ],
                        [
                          0.6666666666666666,
                          "#ed7953"
                        ],
                        [
                          0.7777777777777778,
                          "#fb9f3a"
                        ],
                        [
                          0.8888888888888888,
                          "#fdca26"
                        ],
                        [
                          1,
                          "#f0f921"
                        ]
                      ],
                      "sequentialminus": [
                        [
                          0,
                          "#0d0887"
                        ],
                        [
                          0.1111111111111111,
                          "#46039f"
                        ],
                        [
                          0.2222222222222222,
                          "#7201a8"
                        ],
                        [
                          0.3333333333333333,
                          "#9c179e"
                        ],
                        [
                          0.4444444444444444,
                          "#bd3786"
                        ],
                        [
                          0.5555555555555556,
                          "#d8576b"
                        ],
                        [
                          0.6666666666666666,
                          "#ed7953"
                        ],
                        [
                          0.7777777777777778,
                          "#fb9f3a"
                        ],
                        [
                          0.8888888888888888,
                          "#fdca26"
                        ],
                        [
                          1,
                          "#f0f921"
                        ]
                      ]
                    },
                    "colorway": [
                      "#636efa",
                      "#EF553B",
                      "#00cc96",
                      "#ab63fa",
                      "#FFA15A",
                      "#19d3f3",
                      "#FF6692",
                      "#B6E880",
                      "#FF97FF",
                      "#FECB52"
                    ],
                    "font": {
                      "color": "#2a3f5f"
                    },
                    "geo": {
                      "bgcolor": "white",
                      "lakecolor": "white",
                      "landcolor": "#E5ECF6",
                      "showlakes": true,
                      "showland": true,
                      "subunitcolor": "white"
                    },
                    "hoverlabel": {
                      "align": "left"
                    },
                    "hovermode": "closest",
                    "mapbox": {
                      "style": "light"
                    },
                    "paper_bgcolor": "white",
                    "plot_bgcolor": "#E5ECF6",
                    "polar": {
                      "angularaxis": {
                        "gridcolor": "white",
                        "linecolor": "white",
                        "ticks": ""
                      },
                      "bgcolor": "#E5ECF6",
                      "radialaxis": {
                        "gridcolor": "white",
                        "linecolor": "white",
                        "ticks": ""
                      }
                    },
                    "scene": {
                      "xaxis": {
                        "backgroundcolor": "#E5ECF6",
                        "gridcolor": "white",
                        "gridwidth": 2,
                        "linecolor": "white",
                        "showbackground": true,
                        "ticks": "",
                        "zerolinecolor": "white"
                      },
                      "yaxis": {
                        "backgroundcolor": "#E5ECF6",
                        "gridcolor": "white",
                        "gridwidth": 2,
                        "linecolor": "white",
                        "showbackground": true,
                        "ticks": "",
                        "zerolinecolor": "white"
                      },
                      "zaxis": {
                        "backgroundcolor": "#E5ECF6",
                        "gridcolor": "white",
                        "gridwidth": 2,
                        "linecolor": "white",
                        "showbackground": true,
                        "ticks": "",
                        "zerolinecolor": "white"
                      }
                    },
                    "shapedefaults": {
                      "line": {
                        "color": "#2a3f5f"
                      }
                    },
                    "ternary": {
                      "aaxis": {
                        "gridcolor": "white",
                        "linecolor": "white",
                        "ticks": ""
                      },
                      "baxis": {
                        "gridcolor": "white",
                        "linecolor": "white",
                        "ticks": ""
                      },
                      "bgcolor": "#E5ECF6",
                      "caxis": {
                        "gridcolor": "white",
                        "linecolor": "white",
                        "ticks": ""
                      }
                    },
                    "title": {
                      "x": 0.05
                    },
                    "xaxis": {
                      "automargin": true,
                      "gridcolor": "white",
                      "linecolor": "white",
                      "ticks": "",
                      "title": {
                        "standoff": 15
                      },
                      "zerolinecolor": "white",
                      "zerolinewidth": 2
                    },
                    "yaxis": {
                      "automargin": true,
                      "gridcolor": "white",
                      "linecolor": "white",
                      "ticks": "",
                      "title": {
                        "standoff": 15
                      },
                      "zerolinecolor": "white",
                      "zerolinewidth": 2
                    }
                  }
                },
                "title": {
                  "text": "Area 4 最適化結果"
                },
                "xaxis": {
                  "anchor": "y",
                  "domain": [
                    0,
                    1
                  ]
                },
                "xaxis2": {
                  "anchor": "y2",
                  "domain": [
                    0,
                    1
                  ]
                },
                "xaxis3": {
                  "anchor": "y3",
                  "domain": [
                    0,
                    1
                  ]
                },
                "xaxis4": {
                  "anchor": "y4",
                  "domain": [
                    0,
                    1
                  ],
                  "title": {
                    "text": "時刻"
                  }
                },
                "yaxis": {
                  "anchor": "x",
                  "domain": [
                    0.81,
                    1
                  ],
                  "title": {
                    "text": "温度 (°C)"
                  }
                },
                "yaxis2": {
                  "anchor": "x2",
                  "domain": [
                    0.54,
                    0.73
                  ],
                  "title": {
                    "text": "電力 (W)"
                  }
                },
                "yaxis3": {
                  "anchor": "x3",
                  "domain": [
                    0.27,
                    0.46
                  ],
                  "title": {
                    "text": "モード"
                  }
                },
                "yaxis4": {
                  "anchor": "x4",
                  "domain": [
                    0,
                    0.19
                  ],
                  "title": {
                    "text": "ファン速度"
                  }
                }
              }
            }
          },
          "metadata": {},
          "output_type": "display_data"
        },
        {
          "name": "stdout",
          "output_type": "stream",
          "text": [
            "✅ Area 4 の可視化完了\n"
          ]
        },
        {
          "data": {
            "application/vnd.plotly.v1+json": {
              "config": {
                "plotlyServerURL": "https://plot.ly"
              },
              "data": [
                {
                  "line": {
                    "color": "red",
                    "width": 2
                  },
                  "name": "設定温度",
                  "type": "scatter",
                  "x": [
                    "2025-10-02T00:00:00",
                    "2025-10-02T01:00:00",
                    "2025-10-02T02:00:00",
                    "2025-10-02T03:00:00",
                    "2025-10-02T04:00:00",
                    "2025-10-02T05:00:00",
                    "2025-10-02T06:00:00",
                    "2025-10-02T07:00:00",
                    "2025-10-02T08:00:00",
                    "2025-10-02T09:00:00",
                    "2025-10-02T10:00:00",
                    "2025-10-02T11:00:00",
                    "2025-10-02T12:00:00",
                    "2025-10-02T13:00:00",
                    "2025-10-02T14:00:00",
                    "2025-10-02T15:00:00",
                    "2025-10-02T16:00:00",
                    "2025-10-02T17:00:00",
                    "2025-10-02T18:00:00",
                    "2025-10-02T19:00:00",
                    "2025-10-02T20:00:00",
                    "2025-10-02T21:00:00",
                    "2025-10-02T22:00:00",
                    "2025-10-02T23:00:00",
                    "2025-10-03T00:00:00",
                    "2025-10-03T01:00:00",
                    "2025-10-03T02:00:00",
                    "2025-10-03T03:00:00",
                    "2025-10-03T04:00:00",
                    "2025-10-03T05:00:00",
                    "2025-10-03T06:00:00",
                    "2025-10-03T07:00:00",
                    "2025-10-03T08:00:00",
                    "2025-10-03T09:00:00",
                    "2025-10-03T10:00:00",
                    "2025-10-03T11:00:00",
                    "2025-10-03T12:00:00",
                    "2025-10-03T13:00:00",
                    "2025-10-03T14:00:00",
                    "2025-10-03T15:00:00",
                    "2025-10-03T16:00:00",
                    "2025-10-03T17:00:00",
                    "2025-10-03T18:00:00",
                    "2025-10-03T19:00:00",
                    "2025-10-03T20:00:00",
                    "2025-10-03T21:00:00",
                    "2025-10-03T22:00:00",
                    "2025-10-03T23:00:00",
                    "2025-10-04T00:00:00",
                    "2025-10-04T01:00:00",
                    "2025-10-04T02:00:00",
                    "2025-10-04T03:00:00",
                    "2025-10-04T04:00:00",
                    "2025-10-04T05:00:00",
                    "2025-10-04T06:00:00",
                    "2025-10-04T07:00:00",
                    "2025-10-04T08:00:00",
                    "2025-10-04T09:00:00",
                    "2025-10-04T10:00:00",
                    "2025-10-04T11:00:00",
                    "2025-10-04T12:00:00",
                    "2025-10-04T13:00:00",
                    "2025-10-04T14:00:00",
                    "2025-10-04T15:00:00",
                    "2025-10-04T16:00:00",
                    "2025-10-04T17:00:00",
                    "2025-10-04T18:00:00",
                    "2025-10-04T19:00:00",
                    "2025-10-04T20:00:00",
                    "2025-10-04T21:00:00",
                    "2025-10-04T22:00:00",
                    "2025-10-04T23:00:00",
                    "2025-10-05T00:00:00"
                  ],
                  "xaxis": "x",
                  "y": [
                    25,
                    25,
                    25,
                    26,
                    25,
                    26,
                    25,
                    25,
                    25,
                    25,
                    26,
                    26,
                    25,
                    25,
                    25,
                    25,
                    25,
                    25,
                    25,
                    25,
                    25,
                    25,
                    25,
                    25,
                    25,
                    25,
                    25,
                    25,
                    26,
                    25,
                    25,
                    26,
                    25,
                    25,
                    25,
                    25,
                    25,
                    25,
                    25,
                    25,
                    25,
                    25,
                    25,
                    25,
                    25,
                    25,
                    25,
                    25,
                    25,
                    25,
                    25,
                    25,
                    25,
                    25,
                    25,
                    25,
                    25,
                    26,
                    25,
                    25,
                    25,
                    25,
                    25,
                    25,
                    25,
                    25,
                    25,
                    25,
                    25,
                    25,
                    25,
                    25,
                    25
                  ],
                  "yaxis": "y"
                },
                {
                  "line": {
                    "color": "blue",
                    "width": 2
                  },
                  "name": "予測室温",
                  "type": "scatter",
                  "x": [
                    "2025-10-02T00:00:00",
                    "2025-10-02T01:00:00",
                    "2025-10-02T02:00:00",
                    "2025-10-02T03:00:00",
                    "2025-10-02T04:00:00",
                    "2025-10-02T05:00:00",
                    "2025-10-02T06:00:00",
                    "2025-10-02T07:00:00",
                    "2025-10-02T08:00:00",
                    "2025-10-02T09:00:00",
                    "2025-10-02T10:00:00",
                    "2025-10-02T11:00:00",
                    "2025-10-02T12:00:00",
                    "2025-10-02T13:00:00",
                    "2025-10-02T14:00:00",
                    "2025-10-02T15:00:00",
                    "2025-10-02T16:00:00",
                    "2025-10-02T17:00:00",
                    "2025-10-02T18:00:00",
                    "2025-10-02T19:00:00",
                    "2025-10-02T20:00:00",
                    "2025-10-02T21:00:00",
                    "2025-10-02T22:00:00",
                    "2025-10-02T23:00:00",
                    "2025-10-03T00:00:00",
                    "2025-10-03T01:00:00",
                    "2025-10-03T02:00:00",
                    "2025-10-03T03:00:00",
                    "2025-10-03T04:00:00",
                    "2025-10-03T05:00:00",
                    "2025-10-03T06:00:00",
                    "2025-10-03T07:00:00",
                    "2025-10-03T08:00:00",
                    "2025-10-03T09:00:00",
                    "2025-10-03T10:00:00",
                    "2025-10-03T11:00:00",
                    "2025-10-03T12:00:00",
                    "2025-10-03T13:00:00",
                    "2025-10-03T14:00:00",
                    "2025-10-03T15:00:00",
                    "2025-10-03T16:00:00",
                    "2025-10-03T17:00:00",
                    "2025-10-03T18:00:00",
                    "2025-10-03T19:00:00",
                    "2025-10-03T20:00:00",
                    "2025-10-03T21:00:00",
                    "2025-10-03T22:00:00",
                    "2025-10-03T23:00:00",
                    "2025-10-04T00:00:00",
                    "2025-10-04T01:00:00",
                    "2025-10-04T02:00:00",
                    "2025-10-04T03:00:00",
                    "2025-10-04T04:00:00",
                    "2025-10-04T05:00:00",
                    "2025-10-04T06:00:00",
                    "2025-10-04T07:00:00",
                    "2025-10-04T08:00:00",
                    "2025-10-04T09:00:00",
                    "2025-10-04T10:00:00",
                    "2025-10-04T11:00:00",
                    "2025-10-04T12:00:00",
                    "2025-10-04T13:00:00",
                    "2025-10-04T14:00:00",
                    "2025-10-04T15:00:00",
                    "2025-10-04T16:00:00",
                    "2025-10-04T17:00:00",
                    "2025-10-04T18:00:00",
                    "2025-10-04T19:00:00",
                    "2025-10-04T20:00:00",
                    "2025-10-04T21:00:00",
                    "2025-10-04T22:00:00",
                    "2025-10-04T23:00:00",
                    "2025-10-05T00:00:00"
                  ],
                  "xaxis": "x",
                  "y": [
                    23.415499999999984,
                    24.218500000000002,
                    25.379999999999985,
                    25.72999999999999,
                    25.965,
                    26.339499999999973,
                    25.0095,
                    25.157500000000006,
                    25.17349999999998,
                    24.866500000000002,
                    24.521,
                    23.253999999999976,
                    22.378499999999985,
                    21.2595,
                    20.025999999999975,
                    19.813500000000005,
                    19.676500000000004,
                    19.315499999999997,
                    18.92300000000001,
                    18.398000000000014,
                    15.666999999999994,
                    14.129000000000001,
                    14.945499999999992,
                    14.71849999999998,
                    20.259000000000004,
                    21.422499999999996,
                    22.051000000000002,
                    22.96099999999998,
                    23.880499999999987,
                    24.35999999999998,
                    23.81249999999998,
                    23.762499999999985,
                    23.36299999999998,
                    23.02099999999999,
                    22.373999999999988,
                    21.443500000000007,
                    19.65099999999999,
                    18.97400000000001,
                    18.396500000000007,
                    16.2465,
                    15.121999999999996,
                    15.946999999999978,
                    15.28649999999998,
                    14.97449999999998,
                    14.820499999999992,
                    14.257499999999993,
                    14.622999999999998,
                    15.178999999999984,
                    18.334500000000002,
                    19.3845,
                    19.041000000000004,
                    19.921,
                    21.822000000000006,
                    22.61149999999999,
                    23.24749999999999,
                    23.4045,
                    23.217499999999987,
                    22.92049999999999,
                    22.26349999999999,
                    21.027499999999996,
                    19.205,
                    18.838500000000025,
                    17.85900000000001,
                    16.327499999999997,
                    15.141000000000009,
                    15.779999999999989,
                    15.385499999999979,
                    14.915999999999974,
                    14.713499999999996,
                    14.296999999999995,
                    14.561,
                    15.069,
                    18.229000000000003
                  ],
                  "yaxis": "y"
                },
                {
                  "line": {
                    "color": "green",
                    "width": 2
                  },
                  "name": "予測電力",
                  "type": "scatter",
                  "x": [
                    "2025-10-02T00:00:00",
                    "2025-10-02T01:00:00",
                    "2025-10-02T02:00:00",
                    "2025-10-02T03:00:00",
                    "2025-10-02T04:00:00",
                    "2025-10-02T05:00:00",
                    "2025-10-02T06:00:00",
                    "2025-10-02T07:00:00",
                    "2025-10-02T08:00:00",
                    "2025-10-02T09:00:00",
                    "2025-10-02T10:00:00",
                    "2025-10-02T11:00:00",
                    "2025-10-02T12:00:00",
                    "2025-10-02T13:00:00",
                    "2025-10-02T14:00:00",
                    "2025-10-02T15:00:00",
                    "2025-10-02T16:00:00",
                    "2025-10-02T17:00:00",
                    "2025-10-02T18:00:00",
                    "2025-10-02T19:00:00",
                    "2025-10-02T20:00:00",
                    "2025-10-02T21:00:00",
                    "2025-10-02T22:00:00",
                    "2025-10-02T23:00:00",
                    "2025-10-03T00:00:00",
                    "2025-10-03T01:00:00",
                    "2025-10-03T02:00:00",
                    "2025-10-03T03:00:00",
                    "2025-10-03T04:00:00",
                    "2025-10-03T05:00:00",
                    "2025-10-03T06:00:00",
                    "2025-10-03T07:00:00",
                    "2025-10-03T08:00:00",
                    "2025-10-03T09:00:00",
                    "2025-10-03T10:00:00",
                    "2025-10-03T11:00:00",
                    "2025-10-03T12:00:00",
                    "2025-10-03T13:00:00",
                    "2025-10-03T14:00:00",
                    "2025-10-03T15:00:00",
                    "2025-10-03T16:00:00",
                    "2025-10-03T17:00:00",
                    "2025-10-03T18:00:00",
                    "2025-10-03T19:00:00",
                    "2025-10-03T20:00:00",
                    "2025-10-03T21:00:00",
                    "2025-10-03T22:00:00",
                    "2025-10-03T23:00:00",
                    "2025-10-04T00:00:00",
                    "2025-10-04T01:00:00",
                    "2025-10-04T02:00:00",
                    "2025-10-04T03:00:00",
                    "2025-10-04T04:00:00",
                    "2025-10-04T05:00:00",
                    "2025-10-04T06:00:00",
                    "2025-10-04T07:00:00",
                    "2025-10-04T08:00:00",
                    "2025-10-04T09:00:00",
                    "2025-10-04T10:00:00",
                    "2025-10-04T11:00:00",
                    "2025-10-04T12:00:00",
                    "2025-10-04T13:00:00",
                    "2025-10-04T14:00:00",
                    "2025-10-04T15:00:00",
                    "2025-10-04T16:00:00",
                    "2025-10-04T17:00:00",
                    "2025-10-04T18:00:00",
                    "2025-10-04T19:00:00",
                    "2025-10-04T20:00:00",
                    "2025-10-04T21:00:00",
                    "2025-10-04T22:00:00",
                    "2025-10-04T23:00:00",
                    "2025-10-05T00:00:00"
                  ],
                  "xaxis": "x2",
                  "y": [
                    10144.65,
                    11238.25,
                    11115.85,
                    8544.25,
                    11519.4,
                    10963.25,
                    11774.35,
                    11479.5,
                    9975.25,
                    9782.5,
                    14174.7,
                    16774.65,
                    16654.25,
                    16245.7,
                    15863.95,
                    15777.4,
                    15782.2,
                    15875.7,
                    15829.3,
                    16021.15,
                    16025.2,
                    11213.75,
                    11166.8,
                    11296.8,
                    10040.45,
                    10759.65,
                    10705.75,
                    12604.8,
                    12148.05,
                    11717.55,
                    11852.65,
                    16938.25,
                    16564.4,
                    16637,
                    16208.45,
                    16349.85,
                    16586.35,
                    16592.45,
                    15866,
                    15782.6,
                    15776.5,
                    15875.5,
                    15826.55,
                    16021.5,
                    16025.4,
                    11260.45,
                    11208.85,
                    11353.6,
                    9864.2,
                    10328.8,
                    10912.2,
                    12211.05,
                    12111.1,
                    11549.9,
                    11911.9,
                    16876.95,
                    16556.1,
                    16562,
                    16084.4,
                    16403.6,
                    16577.55,
                    16584.45,
                    15858.3,
                    15775.45,
                    15778.6,
                    15777.05,
                    15819.45,
                    16014.45,
                    16018.55,
                    11275.7,
                    11223.9,
                    11384.9,
                    9877.35
                  ],
                  "yaxis": "y2"
                },
                {
                  "marker": {
                    "color": "orange",
                    "size": 6
                  },
                  "mode": "markers",
                  "name": "運転モード",
                  "type": "scatter",
                  "x": [
                    "2025-10-02T00:00:00",
                    "2025-10-02T01:00:00",
                    "2025-10-02T02:00:00",
                    "2025-10-02T03:00:00",
                    "2025-10-02T04:00:00",
                    "2025-10-02T05:00:00",
                    "2025-10-02T06:00:00",
                    "2025-10-02T07:00:00",
                    "2025-10-02T08:00:00",
                    "2025-10-02T09:00:00",
                    "2025-10-02T10:00:00",
                    "2025-10-02T11:00:00",
                    "2025-10-02T12:00:00",
                    "2025-10-02T13:00:00",
                    "2025-10-02T14:00:00",
                    "2025-10-02T15:00:00",
                    "2025-10-02T16:00:00",
                    "2025-10-02T17:00:00",
                    "2025-10-02T18:00:00",
                    "2025-10-02T19:00:00",
                    "2025-10-02T20:00:00",
                    "2025-10-02T21:00:00",
                    "2025-10-02T22:00:00",
                    "2025-10-02T23:00:00",
                    "2025-10-03T00:00:00",
                    "2025-10-03T01:00:00",
                    "2025-10-03T02:00:00",
                    "2025-10-03T03:00:00",
                    "2025-10-03T04:00:00",
                    "2025-10-03T05:00:00",
                    "2025-10-03T06:00:00",
                    "2025-10-03T07:00:00",
                    "2025-10-03T08:00:00",
                    "2025-10-03T09:00:00",
                    "2025-10-03T10:00:00",
                    "2025-10-03T11:00:00",
                    "2025-10-03T12:00:00",
                    "2025-10-03T13:00:00",
                    "2025-10-03T14:00:00",
                    "2025-10-03T15:00:00",
                    "2025-10-03T16:00:00",
                    "2025-10-03T17:00:00",
                    "2025-10-03T18:00:00",
                    "2025-10-03T19:00:00",
                    "2025-10-03T20:00:00",
                    "2025-10-03T21:00:00",
                    "2025-10-03T22:00:00",
                    "2025-10-03T23:00:00",
                    "2025-10-04T00:00:00",
                    "2025-10-04T01:00:00",
                    "2025-10-04T02:00:00",
                    "2025-10-04T03:00:00",
                    "2025-10-04T04:00:00",
                    "2025-10-04T05:00:00",
                    "2025-10-04T06:00:00",
                    "2025-10-04T07:00:00",
                    "2025-10-04T08:00:00",
                    "2025-10-04T09:00:00",
                    "2025-10-04T10:00:00",
                    "2025-10-04T11:00:00",
                    "2025-10-04T12:00:00",
                    "2025-10-04T13:00:00",
                    "2025-10-04T14:00:00",
                    "2025-10-04T15:00:00",
                    "2025-10-04T16:00:00",
                    "2025-10-04T17:00:00",
                    "2025-10-04T18:00:00",
                    "2025-10-04T19:00:00",
                    "2025-10-04T20:00:00",
                    "2025-10-04T21:00:00",
                    "2025-10-04T22:00:00",
                    "2025-10-04T23:00:00",
                    "2025-10-05T00:00:00"
                  ],
                  "xaxis": "x3",
                  "y": [
                    0,
                    0,
                    0,
                    0,
                    0,
                    0,
                    0,
                    0,
                    0,
                    0,
                    0,
                    0,
                    0,
                    0,
                    0,
                    0,
                    0,
                    0,
                    0,
                    0,
                    0,
                    0,
                    0,
                    0,
                    0,
                    0,
                    0,
                    0,
                    0,
                    0,
                    0,
                    0,
                    0,
                    0,
                    0,
                    0,
                    0,
                    0,
                    0,
                    0,
                    0,
                    0,
                    0,
                    0,
                    0,
                    0,
                    0,
                    0,
                    0,
                    0,
                    0,
                    0,
                    0,
                    0,
                    0,
                    0,
                    0,
                    0,
                    0,
                    0,
                    0,
                    0,
                    0,
                    0,
                    0,
                    0,
                    0,
                    0,
                    0,
                    0,
                    0,
                    0,
                    0
                  ],
                  "yaxis": "y3"
                },
                {
                  "marker": {
                    "color": "purple",
                    "size": 6
                  },
                  "mode": "markers",
                  "name": "ファン速度",
                  "type": "scatter",
                  "x": [
                    "2025-10-02T00:00:00",
                    "2025-10-02T01:00:00",
                    "2025-10-02T02:00:00",
                    "2025-10-02T03:00:00",
                    "2025-10-02T04:00:00",
                    "2025-10-02T05:00:00",
                    "2025-10-02T06:00:00",
                    "2025-10-02T07:00:00",
                    "2025-10-02T08:00:00",
                    "2025-10-02T09:00:00",
                    "2025-10-02T10:00:00",
                    "2025-10-02T11:00:00",
                    "2025-10-02T12:00:00",
                    "2025-10-02T13:00:00",
                    "2025-10-02T14:00:00",
                    "2025-10-02T15:00:00",
                    "2025-10-02T16:00:00",
                    "2025-10-02T17:00:00",
                    "2025-10-02T18:00:00",
                    "2025-10-02T19:00:00",
                    "2025-10-02T20:00:00",
                    "2025-10-02T21:00:00",
                    "2025-10-02T22:00:00",
                    "2025-10-02T23:00:00",
                    "2025-10-03T00:00:00",
                    "2025-10-03T01:00:00",
                    "2025-10-03T02:00:00",
                    "2025-10-03T03:00:00",
                    "2025-10-03T04:00:00",
                    "2025-10-03T05:00:00",
                    "2025-10-03T06:00:00",
                    "2025-10-03T07:00:00",
                    "2025-10-03T08:00:00",
                    "2025-10-03T09:00:00",
                    "2025-10-03T10:00:00",
                    "2025-10-03T11:00:00",
                    "2025-10-03T12:00:00",
                    "2025-10-03T13:00:00",
                    "2025-10-03T14:00:00",
                    "2025-10-03T15:00:00",
                    "2025-10-03T16:00:00",
                    "2025-10-03T17:00:00",
                    "2025-10-03T18:00:00",
                    "2025-10-03T19:00:00",
                    "2025-10-03T20:00:00",
                    "2025-10-03T21:00:00",
                    "2025-10-03T22:00:00",
                    "2025-10-03T23:00:00",
                    "2025-10-04T00:00:00",
                    "2025-10-04T01:00:00",
                    "2025-10-04T02:00:00",
                    "2025-10-04T03:00:00",
                    "2025-10-04T04:00:00",
                    "2025-10-04T05:00:00",
                    "2025-10-04T06:00:00",
                    "2025-10-04T07:00:00",
                    "2025-10-04T08:00:00",
                    "2025-10-04T09:00:00",
                    "2025-10-04T10:00:00",
                    "2025-10-04T11:00:00",
                    "2025-10-04T12:00:00",
                    "2025-10-04T13:00:00",
                    "2025-10-04T14:00:00",
                    "2025-10-04T15:00:00",
                    "2025-10-04T16:00:00",
                    "2025-10-04T17:00:00",
                    "2025-10-04T18:00:00",
                    "2025-10-04T19:00:00",
                    "2025-10-04T20:00:00",
                    "2025-10-04T21:00:00",
                    "2025-10-04T22:00:00",
                    "2025-10-04T23:00:00",
                    "2025-10-05T00:00:00"
                  ],
                  "xaxis": "x4",
                  "y": [
                    2,
                    2,
                    2,
                    2,
                    2,
                    2,
                    2,
                    2,
                    2,
                    2,
                    2,
                    2,
                    2,
                    2,
                    2,
                    2,
                    2,
                    2,
                    2,
                    2,
                    2,
                    2,
                    2,
                    2,
                    2,
                    2,
                    2,
                    2,
                    2,
                    2,
                    2,
                    2,
                    2,
                    2,
                    2,
                    2,
                    2,
                    2,
                    2,
                    2,
                    2,
                    2,
                    2,
                    2,
                    2,
                    2,
                    2,
                    2,
                    2,
                    2,
                    2,
                    2,
                    2,
                    2,
                    2,
                    2,
                    2,
                    2,
                    2,
                    2,
                    2,
                    2,
                    2,
                    2,
                    2,
                    2,
                    2,
                    2,
                    2,
                    2,
                    2,
                    2,
                    2
                  ],
                  "yaxis": "y4"
                }
              ],
              "layout": {
                "annotations": [
                  {
                    "font": {
                      "size": 16
                    },
                    "showarrow": false,
                    "text": "Break Room - 設定温度・予測室温",
                    "x": 0.5,
                    "xanchor": "center",
                    "xref": "paper",
                    "y": 1,
                    "yanchor": "bottom",
                    "yref": "paper"
                  },
                  {
                    "font": {
                      "size": 16
                    },
                    "showarrow": false,
                    "text": "Break Room - 予測電力",
                    "x": 0.5,
                    "xanchor": "center",
                    "xref": "paper",
                    "y": 0.73,
                    "yanchor": "bottom",
                    "yref": "paper"
                  },
                  {
                    "font": {
                      "size": 16
                    },
                    "showarrow": false,
                    "text": "Break Room - 運転モード",
                    "x": 0.5,
                    "xanchor": "center",
                    "xref": "paper",
                    "y": 0.46,
                    "yanchor": "bottom",
                    "yref": "paper"
                  },
                  {
                    "font": {
                      "size": 16
                    },
                    "showarrow": false,
                    "text": "Break Room - ファン速度",
                    "x": 0.5,
                    "xanchor": "center",
                    "xref": "paper",
                    "y": 0.19,
                    "yanchor": "bottom",
                    "yref": "paper"
                  }
                ],
                "height": 800,
                "showlegend": true,
                "template": {
                  "data": {
                    "bar": [
                      {
                        "error_x": {
                          "color": "#2a3f5f"
                        },
                        "error_y": {
                          "color": "#2a3f5f"
                        },
                        "marker": {
                          "line": {
                            "color": "#E5ECF6",
                            "width": 0.5
                          },
                          "pattern": {
                            "fillmode": "overlay",
                            "size": 10,
                            "solidity": 0.2
                          }
                        },
                        "type": "bar"
                      }
                    ],
                    "barpolar": [
                      {
                        "marker": {
                          "line": {
                            "color": "#E5ECF6",
                            "width": 0.5
                          },
                          "pattern": {
                            "fillmode": "overlay",
                            "size": 10,
                            "solidity": 0.2
                          }
                        },
                        "type": "barpolar"
                      }
                    ],
                    "carpet": [
                      {
                        "aaxis": {
                          "endlinecolor": "#2a3f5f",
                          "gridcolor": "white",
                          "linecolor": "white",
                          "minorgridcolor": "white",
                          "startlinecolor": "#2a3f5f"
                        },
                        "baxis": {
                          "endlinecolor": "#2a3f5f",
                          "gridcolor": "white",
                          "linecolor": "white",
                          "minorgridcolor": "white",
                          "startlinecolor": "#2a3f5f"
                        },
                        "type": "carpet"
                      }
                    ],
                    "choropleth": [
                      {
                        "colorbar": {
                          "outlinewidth": 0,
                          "ticks": ""
                        },
                        "type": "choropleth"
                      }
                    ],
                    "contour": [
                      {
                        "colorbar": {
                          "outlinewidth": 0,
                          "ticks": ""
                        },
                        "colorscale": [
                          [
                            0,
                            "#0d0887"
                          ],
                          [
                            0.1111111111111111,
                            "#46039f"
                          ],
                          [
                            0.2222222222222222,
                            "#7201a8"
                          ],
                          [
                            0.3333333333333333,
                            "#9c179e"
                          ],
                          [
                            0.4444444444444444,
                            "#bd3786"
                          ],
                          [
                            0.5555555555555556,
                            "#d8576b"
                          ],
                          [
                            0.6666666666666666,
                            "#ed7953"
                          ],
                          [
                            0.7777777777777778,
                            "#fb9f3a"
                          ],
                          [
                            0.8888888888888888,
                            "#fdca26"
                          ],
                          [
                            1,
                            "#f0f921"
                          ]
                        ],
                        "type": "contour"
                      }
                    ],
                    "contourcarpet": [
                      {
                        "colorbar": {
                          "outlinewidth": 0,
                          "ticks": ""
                        },
                        "type": "contourcarpet"
                      }
                    ],
                    "heatmap": [
                      {
                        "colorbar": {
                          "outlinewidth": 0,
                          "ticks": ""
                        },
                        "colorscale": [
                          [
                            0,
                            "#0d0887"
                          ],
                          [
                            0.1111111111111111,
                            "#46039f"
                          ],
                          [
                            0.2222222222222222,
                            "#7201a8"
                          ],
                          [
                            0.3333333333333333,
                            "#9c179e"
                          ],
                          [
                            0.4444444444444444,
                            "#bd3786"
                          ],
                          [
                            0.5555555555555556,
                            "#d8576b"
                          ],
                          [
                            0.6666666666666666,
                            "#ed7953"
                          ],
                          [
                            0.7777777777777778,
                            "#fb9f3a"
                          ],
                          [
                            0.8888888888888888,
                            "#fdca26"
                          ],
                          [
                            1,
                            "#f0f921"
                          ]
                        ],
                        "type": "heatmap"
                      }
                    ],
                    "heatmapgl": [
                      {
                        "colorbar": {
                          "outlinewidth": 0,
                          "ticks": ""
                        },
                        "colorscale": [
                          [
                            0,
                            "#0d0887"
                          ],
                          [
                            0.1111111111111111,
                            "#46039f"
                          ],
                          [
                            0.2222222222222222,
                            "#7201a8"
                          ],
                          [
                            0.3333333333333333,
                            "#9c179e"
                          ],
                          [
                            0.4444444444444444,
                            "#bd3786"
                          ],
                          [
                            0.5555555555555556,
                            "#d8576b"
                          ],
                          [
                            0.6666666666666666,
                            "#ed7953"
                          ],
                          [
                            0.7777777777777778,
                            "#fb9f3a"
                          ],
                          [
                            0.8888888888888888,
                            "#fdca26"
                          ],
                          [
                            1,
                            "#f0f921"
                          ]
                        ],
                        "type": "heatmapgl"
                      }
                    ],
                    "histogram": [
                      {
                        "marker": {
                          "pattern": {
                            "fillmode": "overlay",
                            "size": 10,
                            "solidity": 0.2
                          }
                        },
                        "type": "histogram"
                      }
                    ],
                    "histogram2d": [
                      {
                        "colorbar": {
                          "outlinewidth": 0,
                          "ticks": ""
                        },
                        "colorscale": [
                          [
                            0,
                            "#0d0887"
                          ],
                          [
                            0.1111111111111111,
                            "#46039f"
                          ],
                          [
                            0.2222222222222222,
                            "#7201a8"
                          ],
                          [
                            0.3333333333333333,
                            "#9c179e"
                          ],
                          [
                            0.4444444444444444,
                            "#bd3786"
                          ],
                          [
                            0.5555555555555556,
                            "#d8576b"
                          ],
                          [
                            0.6666666666666666,
                            "#ed7953"
                          ],
                          [
                            0.7777777777777778,
                            "#fb9f3a"
                          ],
                          [
                            0.8888888888888888,
                            "#fdca26"
                          ],
                          [
                            1,
                            "#f0f921"
                          ]
                        ],
                        "type": "histogram2d"
                      }
                    ],
                    "histogram2dcontour": [
                      {
                        "colorbar": {
                          "outlinewidth": 0,
                          "ticks": ""
                        },
                        "colorscale": [
                          [
                            0,
                            "#0d0887"
                          ],
                          [
                            0.1111111111111111,
                            "#46039f"
                          ],
                          [
                            0.2222222222222222,
                            "#7201a8"
                          ],
                          [
                            0.3333333333333333,
                            "#9c179e"
                          ],
                          [
                            0.4444444444444444,
                            "#bd3786"
                          ],
                          [
                            0.5555555555555556,
                            "#d8576b"
                          ],
                          [
                            0.6666666666666666,
                            "#ed7953"
                          ],
                          [
                            0.7777777777777778,
                            "#fb9f3a"
                          ],
                          [
                            0.8888888888888888,
                            "#fdca26"
                          ],
                          [
                            1,
                            "#f0f921"
                          ]
                        ],
                        "type": "histogram2dcontour"
                      }
                    ],
                    "mesh3d": [
                      {
                        "colorbar": {
                          "outlinewidth": 0,
                          "ticks": ""
                        },
                        "type": "mesh3d"
                      }
                    ],
                    "parcoords": [
                      {
                        "line": {
                          "colorbar": {
                            "outlinewidth": 0,
                            "ticks": ""
                          }
                        },
                        "type": "parcoords"
                      }
                    ],
                    "pie": [
                      {
                        "automargin": true,
                        "type": "pie"
                      }
                    ],
                    "scatter": [
                      {
                        "fillpattern": {
                          "fillmode": "overlay",
                          "size": 10,
                          "solidity": 0.2
                        },
                        "type": "scatter"
                      }
                    ],
                    "scatter3d": [
                      {
                        "line": {
                          "colorbar": {
                            "outlinewidth": 0,
                            "ticks": ""
                          }
                        },
                        "marker": {
                          "colorbar": {
                            "outlinewidth": 0,
                            "ticks": ""
                          }
                        },
                        "type": "scatter3d"
                      }
                    ],
                    "scattercarpet": [
                      {
                        "marker": {
                          "colorbar": {
                            "outlinewidth": 0,
                            "ticks": ""
                          }
                        },
                        "type": "scattercarpet"
                      }
                    ],
                    "scattergeo": [
                      {
                        "marker": {
                          "colorbar": {
                            "outlinewidth": 0,
                            "ticks": ""
                          }
                        },
                        "type": "scattergeo"
                      }
                    ],
                    "scattergl": [
                      {
                        "marker": {
                          "colorbar": {
                            "outlinewidth": 0,
                            "ticks": ""
                          }
                        },
                        "type": "scattergl"
                      }
                    ],
                    "scattermapbox": [
                      {
                        "marker": {
                          "colorbar": {
                            "outlinewidth": 0,
                            "ticks": ""
                          }
                        },
                        "type": "scattermapbox"
                      }
                    ],
                    "scatterpolar": [
                      {
                        "marker": {
                          "colorbar": {
                            "outlinewidth": 0,
                            "ticks": ""
                          }
                        },
                        "type": "scatterpolar"
                      }
                    ],
                    "scatterpolargl": [
                      {
                        "marker": {
                          "colorbar": {
                            "outlinewidth": 0,
                            "ticks": ""
                          }
                        },
                        "type": "scatterpolargl"
                      }
                    ],
                    "scatterternary": [
                      {
                        "marker": {
                          "colorbar": {
                            "outlinewidth": 0,
                            "ticks": ""
                          }
                        },
                        "type": "scatterternary"
                      }
                    ],
                    "surface": [
                      {
                        "colorbar": {
                          "outlinewidth": 0,
                          "ticks": ""
                        },
                        "colorscale": [
                          [
                            0,
                            "#0d0887"
                          ],
                          [
                            0.1111111111111111,
                            "#46039f"
                          ],
                          [
                            0.2222222222222222,
                            "#7201a8"
                          ],
                          [
                            0.3333333333333333,
                            "#9c179e"
                          ],
                          [
                            0.4444444444444444,
                            "#bd3786"
                          ],
                          [
                            0.5555555555555556,
                            "#d8576b"
                          ],
                          [
                            0.6666666666666666,
                            "#ed7953"
                          ],
                          [
                            0.7777777777777778,
                            "#fb9f3a"
                          ],
                          [
                            0.8888888888888888,
                            "#fdca26"
                          ],
                          [
                            1,
                            "#f0f921"
                          ]
                        ],
                        "type": "surface"
                      }
                    ],
                    "table": [
                      {
                        "cells": {
                          "fill": {
                            "color": "#EBF0F8"
                          },
                          "line": {
                            "color": "white"
                          }
                        },
                        "header": {
                          "fill": {
                            "color": "#C8D4E3"
                          },
                          "line": {
                            "color": "white"
                          }
                        },
                        "type": "table"
                      }
                    ]
                  },
                  "layout": {
                    "annotationdefaults": {
                      "arrowcolor": "#2a3f5f",
                      "arrowhead": 0,
                      "arrowwidth": 1
                    },
                    "autotypenumbers": "strict",
                    "coloraxis": {
                      "colorbar": {
                        "outlinewidth": 0,
                        "ticks": ""
                      }
                    },
                    "colorscale": {
                      "diverging": [
                        [
                          0,
                          "#8e0152"
                        ],
                        [
                          0.1,
                          "#c51b7d"
                        ],
                        [
                          0.2,
                          "#de77ae"
                        ],
                        [
                          0.3,
                          "#f1b6da"
                        ],
                        [
                          0.4,
                          "#fde0ef"
                        ],
                        [
                          0.5,
                          "#f7f7f7"
                        ],
                        [
                          0.6,
                          "#e6f5d0"
                        ],
                        [
                          0.7,
                          "#b8e186"
                        ],
                        [
                          0.8,
                          "#7fbc41"
                        ],
                        [
                          0.9,
                          "#4d9221"
                        ],
                        [
                          1,
                          "#276419"
                        ]
                      ],
                      "sequential": [
                        [
                          0,
                          "#0d0887"
                        ],
                        [
                          0.1111111111111111,
                          "#46039f"
                        ],
                        [
                          0.2222222222222222,
                          "#7201a8"
                        ],
                        [
                          0.3333333333333333,
                          "#9c179e"
                        ],
                        [
                          0.4444444444444444,
                          "#bd3786"
                        ],
                        [
                          0.5555555555555556,
                          "#d8576b"
                        ],
                        [
                          0.6666666666666666,
                          "#ed7953"
                        ],
                        [
                          0.7777777777777778,
                          "#fb9f3a"
                        ],
                        [
                          0.8888888888888888,
                          "#fdca26"
                        ],
                        [
                          1,
                          "#f0f921"
                        ]
                      ],
                      "sequentialminus": [
                        [
                          0,
                          "#0d0887"
                        ],
                        [
                          0.1111111111111111,
                          "#46039f"
                        ],
                        [
                          0.2222222222222222,
                          "#7201a8"
                        ],
                        [
                          0.3333333333333333,
                          "#9c179e"
                        ],
                        [
                          0.4444444444444444,
                          "#bd3786"
                        ],
                        [
                          0.5555555555555556,
                          "#d8576b"
                        ],
                        [
                          0.6666666666666666,
                          "#ed7953"
                        ],
                        [
                          0.7777777777777778,
                          "#fb9f3a"
                        ],
                        [
                          0.8888888888888888,
                          "#fdca26"
                        ],
                        [
                          1,
                          "#f0f921"
                        ]
                      ]
                    },
                    "colorway": [
                      "#636efa",
                      "#EF553B",
                      "#00cc96",
                      "#ab63fa",
                      "#FFA15A",
                      "#19d3f3",
                      "#FF6692",
                      "#B6E880",
                      "#FF97FF",
                      "#FECB52"
                    ],
                    "font": {
                      "color": "#2a3f5f"
                    },
                    "geo": {
                      "bgcolor": "white",
                      "lakecolor": "white",
                      "landcolor": "#E5ECF6",
                      "showlakes": true,
                      "showland": true,
                      "subunitcolor": "white"
                    },
                    "hoverlabel": {
                      "align": "left"
                    },
                    "hovermode": "closest",
                    "mapbox": {
                      "style": "light"
                    },
                    "paper_bgcolor": "white",
                    "plot_bgcolor": "#E5ECF6",
                    "polar": {
                      "angularaxis": {
                        "gridcolor": "white",
                        "linecolor": "white",
                        "ticks": ""
                      },
                      "bgcolor": "#E5ECF6",
                      "radialaxis": {
                        "gridcolor": "white",
                        "linecolor": "white",
                        "ticks": ""
                      }
                    },
                    "scene": {
                      "xaxis": {
                        "backgroundcolor": "#E5ECF6",
                        "gridcolor": "white",
                        "gridwidth": 2,
                        "linecolor": "white",
                        "showbackground": true,
                        "ticks": "",
                        "zerolinecolor": "white"
                      },
                      "yaxis": {
                        "backgroundcolor": "#E5ECF6",
                        "gridcolor": "white",
                        "gridwidth": 2,
                        "linecolor": "white",
                        "showbackground": true,
                        "ticks": "",
                        "zerolinecolor": "white"
                      },
                      "zaxis": {
                        "backgroundcolor": "#E5ECF6",
                        "gridcolor": "white",
                        "gridwidth": 2,
                        "linecolor": "white",
                        "showbackground": true,
                        "ticks": "",
                        "zerolinecolor": "white"
                      }
                    },
                    "shapedefaults": {
                      "line": {
                        "color": "#2a3f5f"
                      }
                    },
                    "ternary": {
                      "aaxis": {
                        "gridcolor": "white",
                        "linecolor": "white",
                        "ticks": ""
                      },
                      "baxis": {
                        "gridcolor": "white",
                        "linecolor": "white",
                        "ticks": ""
                      },
                      "bgcolor": "#E5ECF6",
                      "caxis": {
                        "gridcolor": "white",
                        "linecolor": "white",
                        "ticks": ""
                      }
                    },
                    "title": {
                      "x": 0.05
                    },
                    "xaxis": {
                      "automargin": true,
                      "gridcolor": "white",
                      "linecolor": "white",
                      "ticks": "",
                      "title": {
                        "standoff": 15
                      },
                      "zerolinecolor": "white",
                      "zerolinewidth": 2
                    },
                    "yaxis": {
                      "automargin": true,
                      "gridcolor": "white",
                      "linecolor": "white",
                      "ticks": "",
                      "title": {
                        "standoff": 15
                      },
                      "zerolinecolor": "white",
                      "zerolinewidth": 2
                    }
                  }
                },
                "title": {
                  "text": "Break Room 最適化結果"
                },
                "xaxis": {
                  "anchor": "y",
                  "domain": [
                    0,
                    1
                  ]
                },
                "xaxis2": {
                  "anchor": "y2",
                  "domain": [
                    0,
                    1
                  ]
                },
                "xaxis3": {
                  "anchor": "y3",
                  "domain": [
                    0,
                    1
                  ]
                },
                "xaxis4": {
                  "anchor": "y4",
                  "domain": [
                    0,
                    1
                  ],
                  "title": {
                    "text": "時刻"
                  }
                },
                "yaxis": {
                  "anchor": "x",
                  "domain": [
                    0.81,
                    1
                  ],
                  "title": {
                    "text": "温度 (°C)"
                  }
                },
                "yaxis2": {
                  "anchor": "x2",
                  "domain": [
                    0.54,
                    0.73
                  ],
                  "title": {
                    "text": "電力 (W)"
                  }
                },
                "yaxis3": {
                  "anchor": "x3",
                  "domain": [
                    0.27,
                    0.46
                  ],
                  "title": {
                    "text": "モード"
                  }
                },
                "yaxis4": {
                  "anchor": "x4",
                  "domain": [
                    0,
                    0.19
                  ],
                  "title": {
                    "text": "ファン速度"
                  }
                }
              }
            }
          },
          "metadata": {},
          "output_type": "display_data"
        },
        {
          "name": "stdout",
          "output_type": "stream",
          "text": [
            "✅ Break Room の可視化完了\n"
          ]
        },
        {
          "data": {
            "application/vnd.plotly.v1+json": {
              "config": {
                "plotlyServerURL": "https://plot.ly"
              },
              "data": [
                {
                  "line": {
                    "color": "red",
                    "width": 2
                  },
                  "name": "設定温度",
                  "type": "scatter",
                  "x": [
                    "2025-10-02T00:00:00",
                    "2025-10-02T01:00:00",
                    "2025-10-02T02:00:00",
                    "2025-10-02T03:00:00",
                    "2025-10-02T04:00:00",
                    "2025-10-02T05:00:00",
                    "2025-10-02T06:00:00",
                    "2025-10-02T07:00:00",
                    "2025-10-02T08:00:00",
                    "2025-10-02T09:00:00",
                    "2025-10-02T10:00:00",
                    "2025-10-02T11:00:00",
                    "2025-10-02T12:00:00",
                    "2025-10-02T13:00:00",
                    "2025-10-02T14:00:00",
                    "2025-10-02T15:00:00",
                    "2025-10-02T16:00:00",
                    "2025-10-02T17:00:00",
                    "2025-10-02T18:00:00",
                    "2025-10-02T19:00:00",
                    "2025-10-02T20:00:00",
                    "2025-10-02T21:00:00",
                    "2025-10-02T22:00:00",
                    "2025-10-02T23:00:00",
                    "2025-10-03T00:00:00",
                    "2025-10-03T01:00:00",
                    "2025-10-03T02:00:00",
                    "2025-10-03T03:00:00",
                    "2025-10-03T04:00:00",
                    "2025-10-03T05:00:00",
                    "2025-10-03T06:00:00",
                    "2025-10-03T07:00:00",
                    "2025-10-03T08:00:00",
                    "2025-10-03T09:00:00",
                    "2025-10-03T10:00:00",
                    "2025-10-03T11:00:00",
                    "2025-10-03T12:00:00",
                    "2025-10-03T13:00:00",
                    "2025-10-03T14:00:00",
                    "2025-10-03T15:00:00",
                    "2025-10-03T16:00:00",
                    "2025-10-03T17:00:00",
                    "2025-10-03T18:00:00",
                    "2025-10-03T19:00:00",
                    "2025-10-03T20:00:00",
                    "2025-10-03T21:00:00",
                    "2025-10-03T22:00:00",
                    "2025-10-03T23:00:00",
                    "2025-10-04T00:00:00",
                    "2025-10-04T01:00:00",
                    "2025-10-04T02:00:00",
                    "2025-10-04T03:00:00",
                    "2025-10-04T04:00:00",
                    "2025-10-04T05:00:00",
                    "2025-10-04T06:00:00",
                    "2025-10-04T07:00:00",
                    "2025-10-04T08:00:00",
                    "2025-10-04T09:00:00",
                    "2025-10-04T10:00:00",
                    "2025-10-04T11:00:00",
                    "2025-10-04T12:00:00",
                    "2025-10-04T13:00:00",
                    "2025-10-04T14:00:00",
                    "2025-10-04T15:00:00",
                    "2025-10-04T16:00:00",
                    "2025-10-04T17:00:00",
                    "2025-10-04T18:00:00",
                    "2025-10-04T19:00:00",
                    "2025-10-04T20:00:00",
                    "2025-10-04T21:00:00",
                    "2025-10-04T22:00:00",
                    "2025-10-04T23:00:00",
                    "2025-10-05T00:00:00"
                  ],
                  "xaxis": "x",
                  "y": [
                    25,
                    25,
                    25,
                    25,
                    25,
                    25,
                    25,
                    25,
                    25,
                    25,
                    25,
                    25,
                    25,
                    25,
                    25,
                    25,
                    25,
                    25,
                    25,
                    25,
                    25,
                    25,
                    25,
                    25,
                    25,
                    25,
                    25,
                    25,
                    25,
                    25,
                    25,
                    25,
                    25,
                    25,
                    25,
                    25,
                    25,
                    25,
                    25,
                    25,
                    25,
                    25,
                    25,
                    25,
                    25,
                    25,
                    25,
                    25,
                    25,
                    25,
                    25,
                    25,
                    25,
                    25,
                    25,
                    25,
                    25,
                    25,
                    25,
                    25,
                    25,
                    25,
                    25,
                    25,
                    25,
                    25,
                    25,
                    25,
                    25,
                    25,
                    25,
                    25,
                    25
                  ],
                  "yaxis": "y"
                },
                {
                  "line": {
                    "color": "blue",
                    "width": 2
                  },
                  "name": "予測室温",
                  "type": "scatter",
                  "x": [
                    "2025-10-02T00:00:00",
                    "2025-10-02T01:00:00",
                    "2025-10-02T02:00:00",
                    "2025-10-02T03:00:00",
                    "2025-10-02T04:00:00",
                    "2025-10-02T05:00:00",
                    "2025-10-02T06:00:00",
                    "2025-10-02T07:00:00",
                    "2025-10-02T08:00:00",
                    "2025-10-02T09:00:00",
                    "2025-10-02T10:00:00",
                    "2025-10-02T11:00:00",
                    "2025-10-02T12:00:00",
                    "2025-10-02T13:00:00",
                    "2025-10-02T14:00:00",
                    "2025-10-02T15:00:00",
                    "2025-10-02T16:00:00",
                    "2025-10-02T17:00:00",
                    "2025-10-02T18:00:00",
                    "2025-10-02T19:00:00",
                    "2025-10-02T20:00:00",
                    "2025-10-02T21:00:00",
                    "2025-10-02T22:00:00",
                    "2025-10-02T23:00:00",
                    "2025-10-03T00:00:00",
                    "2025-10-03T01:00:00",
                    "2025-10-03T02:00:00",
                    "2025-10-03T03:00:00",
                    "2025-10-03T04:00:00",
                    "2025-10-03T05:00:00",
                    "2025-10-03T06:00:00",
                    "2025-10-03T07:00:00",
                    "2025-10-03T08:00:00",
                    "2025-10-03T09:00:00",
                    "2025-10-03T10:00:00",
                    "2025-10-03T11:00:00",
                    "2025-10-03T12:00:00",
                    "2025-10-03T13:00:00",
                    "2025-10-03T14:00:00",
                    "2025-10-03T15:00:00",
                    "2025-10-03T16:00:00",
                    "2025-10-03T17:00:00",
                    "2025-10-03T18:00:00",
                    "2025-10-03T19:00:00",
                    "2025-10-03T20:00:00",
                    "2025-10-03T21:00:00",
                    "2025-10-03T22:00:00",
                    "2025-10-03T23:00:00",
                    "2025-10-04T00:00:00",
                    "2025-10-04T01:00:00",
                    "2025-10-04T02:00:00",
                    "2025-10-04T03:00:00",
                    "2025-10-04T04:00:00",
                    "2025-10-04T05:00:00",
                    "2025-10-04T06:00:00",
                    "2025-10-04T07:00:00",
                    "2025-10-04T08:00:00",
                    "2025-10-04T09:00:00",
                    "2025-10-04T10:00:00",
                    "2025-10-04T11:00:00",
                    "2025-10-04T12:00:00",
                    "2025-10-04T13:00:00",
                    "2025-10-04T14:00:00",
                    "2025-10-04T15:00:00",
                    "2025-10-04T16:00:00",
                    "2025-10-04T17:00:00",
                    "2025-10-04T18:00:00",
                    "2025-10-04T19:00:00",
                    "2025-10-04T20:00:00",
                    "2025-10-04T21:00:00",
                    "2025-10-04T22:00:00",
                    "2025-10-04T23:00:00",
                    "2025-10-05T00:00:00"
                  ],
                  "xaxis": "x",
                  "y": [
                    24.683500000000002,
                    26.298499999999994,
                    27.73800000000002,
                    29.2315,
                    30.14899999999999,
                    30.29699999999999,
                    30.131499999999964,
                    28.70550000000002,
                    28.063000000000017,
                    26.83199999999998,
                    25.536999999999974,
                    24.60400000000001,
                    23.7535,
                    23.09249999999999,
                    22.124999999999986,
                    21.34250000000002,
                    20.829000000000004,
                    20.009000000000015,
                    19.253000000000007,
                    18.951999999999995,
                    18.817500000000013,
                    18.806500000000014,
                    18.91550000000001,
                    19.010000000000016,
                    20.167000000000037,
                    21.644500000000043,
                    23.332499999999992,
                    24.90350000000003,
                    26.425000000000015,
                    26.837500000000023,
                    25.926999999999985,
                    25.432999999999996,
                    24.41899999999996,
                    23.634500000000003,
                    22.92150000000001,
                    22.086999999999993,
                    21.495000000000008,
                    20.916000000000018,
                    19.997000000000018,
                    19.096500000000002,
                    18.514999999999997,
                    18.490999999999993,
                    18.286499999999982,
                    18.301999999999996,
                    18.859500000000008,
                    18.82950000000001,
                    18.85450000000001,
                    19.012500000000014,
                    20.24250000000003,
                    21.60550000000004,
                    23.361000000000026,
                    24.761000000000035,
                    26.516500000000015,
                    27.009500000000017,
                    26.147000000000002,
                    25.619500000000006,
                    25.192999999999994,
                    24.403499999999962,
                    23.661000000000005,
                    22.912000000000017,
                    22.052499999999988,
                    21.30250000000002,
                    20.855500000000006,
                    19.96750000000001,
                    19.159999999999993,
                    18.501999999999985,
                    18.463999999999984,
                    18.8285,
                    18.783500000000004,
                    18.79,
                    18.8275,
                    19.0115,
                    20.253000000000032
                  ],
                  "yaxis": "y"
                },
                {
                  "line": {
                    "color": "green",
                    "width": 2
                  },
                  "name": "予測電力",
                  "type": "scatter",
                  "x": [
                    "2025-10-02T00:00:00",
                    "2025-10-02T01:00:00",
                    "2025-10-02T02:00:00",
                    "2025-10-02T03:00:00",
                    "2025-10-02T04:00:00",
                    "2025-10-02T05:00:00",
                    "2025-10-02T06:00:00",
                    "2025-10-02T07:00:00",
                    "2025-10-02T08:00:00",
                    "2025-10-02T09:00:00",
                    "2025-10-02T10:00:00",
                    "2025-10-02T11:00:00",
                    "2025-10-02T12:00:00",
                    "2025-10-02T13:00:00",
                    "2025-10-02T14:00:00",
                    "2025-10-02T15:00:00",
                    "2025-10-02T16:00:00",
                    "2025-10-02T17:00:00",
                    "2025-10-02T18:00:00",
                    "2025-10-02T19:00:00",
                    "2025-10-02T20:00:00",
                    "2025-10-02T21:00:00",
                    "2025-10-02T22:00:00",
                    "2025-10-02T23:00:00",
                    "2025-10-03T00:00:00",
                    "2025-10-03T01:00:00",
                    "2025-10-03T02:00:00",
                    "2025-10-03T03:00:00",
                    "2025-10-03T04:00:00",
                    "2025-10-03T05:00:00",
                    "2025-10-03T06:00:00",
                    "2025-10-03T07:00:00",
                    "2025-10-03T08:00:00",
                    "2025-10-03T09:00:00",
                    "2025-10-03T10:00:00",
                    "2025-10-03T11:00:00",
                    "2025-10-03T12:00:00",
                    "2025-10-03T13:00:00",
                    "2025-10-03T14:00:00",
                    "2025-10-03T15:00:00",
                    "2025-10-03T16:00:00",
                    "2025-10-03T17:00:00",
                    "2025-10-03T18:00:00",
                    "2025-10-03T19:00:00",
                    "2025-10-03T20:00:00",
                    "2025-10-03T21:00:00",
                    "2025-10-03T22:00:00",
                    "2025-10-03T23:00:00",
                    "2025-10-04T00:00:00",
                    "2025-10-04T01:00:00",
                    "2025-10-04T02:00:00",
                    "2025-10-04T03:00:00",
                    "2025-10-04T04:00:00",
                    "2025-10-04T05:00:00",
                    "2025-10-04T06:00:00",
                    "2025-10-04T07:00:00",
                    "2025-10-04T08:00:00",
                    "2025-10-04T09:00:00",
                    "2025-10-04T10:00:00",
                    "2025-10-04T11:00:00",
                    "2025-10-04T12:00:00",
                    "2025-10-04T13:00:00",
                    "2025-10-04T14:00:00",
                    "2025-10-04T15:00:00",
                    "2025-10-04T16:00:00",
                    "2025-10-04T17:00:00",
                    "2025-10-04T18:00:00",
                    "2025-10-04T19:00:00",
                    "2025-10-04T20:00:00",
                    "2025-10-04T21:00:00",
                    "2025-10-04T22:00:00",
                    "2025-10-04T23:00:00",
                    "2025-10-05T00:00:00"
                  ],
                  "xaxis": "x2",
                  "y": [
                    16185.6,
                    5854.85,
                    6685.85,
                    8679.8,
                    7675.95,
                    8185.05,
                    8870.35,
                    6158.1,
                    5599.1,
                    5697.5,
                    5533.9,
                    19830.95,
                    15622,
                    21573.6,
                    23010.75,
                    23166.85,
                    22704.25,
                    23181.5,
                    22633.25,
                    24119.5,
                    24674.95,
                    24596.7,
                    24376.45,
                    22998.65,
                    18932.65,
                    19344.25,
                    4588.35,
                    6159.55,
                    5463.2,
                    6389.15,
                    18500.25,
                    5434.8,
                    5179.15,
                    5573.35,
                    5576.6,
                    15636.55,
                    18049.25,
                    23433.65,
                    23214.35,
                    23351.95,
                    23277.75,
                    22779.1,
                    22807.9,
                    24198.2,
                    24715.9,
                    24632,
                    24648.05,
                    20751.1,
                    7786.85,
                    15488.5,
                    5633.35,
                    5788,
                    5377.25,
                    5967,
                    16250.65,
                    5643.3,
                    5327.8,
                    5279.8,
                    5513.1,
                    18032.8,
                    21945.7,
                    22941.35,
                    23185.45,
                    23247.55,
                    22733.4,
                    22787.65,
                    22819.2,
                    24203.8,
                    24191.95,
                    24816.65,
                    24652,
                    24227.35,
                    22537.15
                  ],
                  "yaxis": "y2"
                },
                {
                  "marker": {
                    "color": "orange",
                    "size": 6
                  },
                  "mode": "markers",
                  "name": "運転モード",
                  "type": "scatter",
                  "x": [
                    "2025-10-02T00:00:00",
                    "2025-10-02T01:00:00",
                    "2025-10-02T02:00:00",
                    "2025-10-02T03:00:00",
                    "2025-10-02T04:00:00",
                    "2025-10-02T05:00:00",
                    "2025-10-02T06:00:00",
                    "2025-10-02T07:00:00",
                    "2025-10-02T08:00:00",
                    "2025-10-02T09:00:00",
                    "2025-10-02T10:00:00",
                    "2025-10-02T11:00:00",
                    "2025-10-02T12:00:00",
                    "2025-10-02T13:00:00",
                    "2025-10-02T14:00:00",
                    "2025-10-02T15:00:00",
                    "2025-10-02T16:00:00",
                    "2025-10-02T17:00:00",
                    "2025-10-02T18:00:00",
                    "2025-10-02T19:00:00",
                    "2025-10-02T20:00:00",
                    "2025-10-02T21:00:00",
                    "2025-10-02T22:00:00",
                    "2025-10-02T23:00:00",
                    "2025-10-03T00:00:00",
                    "2025-10-03T01:00:00",
                    "2025-10-03T02:00:00",
                    "2025-10-03T03:00:00",
                    "2025-10-03T04:00:00",
                    "2025-10-03T05:00:00",
                    "2025-10-03T06:00:00",
                    "2025-10-03T07:00:00",
                    "2025-10-03T08:00:00",
                    "2025-10-03T09:00:00",
                    "2025-10-03T10:00:00",
                    "2025-10-03T11:00:00",
                    "2025-10-03T12:00:00",
                    "2025-10-03T13:00:00",
                    "2025-10-03T14:00:00",
                    "2025-10-03T15:00:00",
                    "2025-10-03T16:00:00",
                    "2025-10-03T17:00:00",
                    "2025-10-03T18:00:00",
                    "2025-10-03T19:00:00",
                    "2025-10-03T20:00:00",
                    "2025-10-03T21:00:00",
                    "2025-10-03T22:00:00",
                    "2025-10-03T23:00:00",
                    "2025-10-04T00:00:00",
                    "2025-10-04T01:00:00",
                    "2025-10-04T02:00:00",
                    "2025-10-04T03:00:00",
                    "2025-10-04T04:00:00",
                    "2025-10-04T05:00:00",
                    "2025-10-04T06:00:00",
                    "2025-10-04T07:00:00",
                    "2025-10-04T08:00:00",
                    "2025-10-04T09:00:00",
                    "2025-10-04T10:00:00",
                    "2025-10-04T11:00:00",
                    "2025-10-04T12:00:00",
                    "2025-10-04T13:00:00",
                    "2025-10-04T14:00:00",
                    "2025-10-04T15:00:00",
                    "2025-10-04T16:00:00",
                    "2025-10-04T17:00:00",
                    "2025-10-04T18:00:00",
                    "2025-10-04T19:00:00",
                    "2025-10-04T20:00:00",
                    "2025-10-04T21:00:00",
                    "2025-10-04T22:00:00",
                    "2025-10-04T23:00:00",
                    "2025-10-05T00:00:00"
                  ],
                  "xaxis": "x3",
                  "y": [
                    0,
                    0,
                    0,
                    0,
                    0,
                    0,
                    0,
                    0,
                    0,
                    0,
                    0,
                    0,
                    0,
                    0,
                    0,
                    0,
                    0,
                    0,
                    0,
                    0,
                    0,
                    0,
                    0,
                    0,
                    0,
                    0,
                    0,
                    0,
                    0,
                    0,
                    0,
                    0,
                    0,
                    0,
                    0,
                    0,
                    0,
                    0,
                    0,
                    0,
                    0,
                    0,
                    0,
                    0,
                    0,
                    0,
                    0,
                    0,
                    0,
                    0,
                    0,
                    0,
                    0,
                    0,
                    0,
                    0,
                    0,
                    0,
                    0,
                    0,
                    0,
                    0,
                    0,
                    0,
                    0,
                    0,
                    0,
                    0,
                    0,
                    0,
                    0,
                    0,
                    0
                  ],
                  "yaxis": "y3"
                },
                {
                  "marker": {
                    "color": "purple",
                    "size": 6
                  },
                  "mode": "markers",
                  "name": "ファン速度",
                  "type": "scatter",
                  "x": [
                    "2025-10-02T00:00:00",
                    "2025-10-02T01:00:00",
                    "2025-10-02T02:00:00",
                    "2025-10-02T03:00:00",
                    "2025-10-02T04:00:00",
                    "2025-10-02T05:00:00",
                    "2025-10-02T06:00:00",
                    "2025-10-02T07:00:00",
                    "2025-10-02T08:00:00",
                    "2025-10-02T09:00:00",
                    "2025-10-02T10:00:00",
                    "2025-10-02T11:00:00",
                    "2025-10-02T12:00:00",
                    "2025-10-02T13:00:00",
                    "2025-10-02T14:00:00",
                    "2025-10-02T15:00:00",
                    "2025-10-02T16:00:00",
                    "2025-10-02T17:00:00",
                    "2025-10-02T18:00:00",
                    "2025-10-02T19:00:00",
                    "2025-10-02T20:00:00",
                    "2025-10-02T21:00:00",
                    "2025-10-02T22:00:00",
                    "2025-10-02T23:00:00",
                    "2025-10-03T00:00:00",
                    "2025-10-03T01:00:00",
                    "2025-10-03T02:00:00",
                    "2025-10-03T03:00:00",
                    "2025-10-03T04:00:00",
                    "2025-10-03T05:00:00",
                    "2025-10-03T06:00:00",
                    "2025-10-03T07:00:00",
                    "2025-10-03T08:00:00",
                    "2025-10-03T09:00:00",
                    "2025-10-03T10:00:00",
                    "2025-10-03T11:00:00",
                    "2025-10-03T12:00:00",
                    "2025-10-03T13:00:00",
                    "2025-10-03T14:00:00",
                    "2025-10-03T15:00:00",
                    "2025-10-03T16:00:00",
                    "2025-10-03T17:00:00",
                    "2025-10-03T18:00:00",
                    "2025-10-03T19:00:00",
                    "2025-10-03T20:00:00",
                    "2025-10-03T21:00:00",
                    "2025-10-03T22:00:00",
                    "2025-10-03T23:00:00",
                    "2025-10-04T00:00:00",
                    "2025-10-04T01:00:00",
                    "2025-10-04T02:00:00",
                    "2025-10-04T03:00:00",
                    "2025-10-04T04:00:00",
                    "2025-10-04T05:00:00",
                    "2025-10-04T06:00:00",
                    "2025-10-04T07:00:00",
                    "2025-10-04T08:00:00",
                    "2025-10-04T09:00:00",
                    "2025-10-04T10:00:00",
                    "2025-10-04T11:00:00",
                    "2025-10-04T12:00:00",
                    "2025-10-04T13:00:00",
                    "2025-10-04T14:00:00",
                    "2025-10-04T15:00:00",
                    "2025-10-04T16:00:00",
                    "2025-10-04T17:00:00",
                    "2025-10-04T18:00:00",
                    "2025-10-04T19:00:00",
                    "2025-10-04T20:00:00",
                    "2025-10-04T21:00:00",
                    "2025-10-04T22:00:00",
                    "2025-10-04T23:00:00",
                    "2025-10-05T00:00:00"
                  ],
                  "xaxis": "x4",
                  "y": [
                    1,
                    1,
                    1,
                    1,
                    1,
                    1,
                    1,
                    1,
                    1,
                    1,
                    1,
                    1,
                    1,
                    1,
                    1,
                    1,
                    1,
                    1,
                    1,
                    1,
                    1,
                    1,
                    1,
                    1,
                    1,
                    1,
                    1,
                    1,
                    1,
                    1,
                    1,
                    1,
                    1,
                    1,
                    1,
                    1,
                    1,
                    1,
                    1,
                    1,
                    1,
                    1,
                    1,
                    1,
                    1,
                    1,
                    1,
                    1,
                    1,
                    1,
                    1,
                    1,
                    1,
                    1,
                    1,
                    1,
                    1,
                    1,
                    1,
                    1,
                    1,
                    1,
                    1,
                    1,
                    1,
                    1,
                    1,
                    1,
                    1,
                    1,
                    1,
                    1,
                    1
                  ],
                  "yaxis": "y4"
                }
              ],
              "layout": {
                "annotations": [
                  {
                    "font": {
                      "size": 16
                    },
                    "showarrow": false,
                    "text": "Meeting Room - 設定温度・予測室温",
                    "x": 0.5,
                    "xanchor": "center",
                    "xref": "paper",
                    "y": 1,
                    "yanchor": "bottom",
                    "yref": "paper"
                  },
                  {
                    "font": {
                      "size": 16
                    },
                    "showarrow": false,
                    "text": "Meeting Room - 予測電力",
                    "x": 0.5,
                    "xanchor": "center",
                    "xref": "paper",
                    "y": 0.73,
                    "yanchor": "bottom",
                    "yref": "paper"
                  },
                  {
                    "font": {
                      "size": 16
                    },
                    "showarrow": false,
                    "text": "Meeting Room - 運転モード",
                    "x": 0.5,
                    "xanchor": "center",
                    "xref": "paper",
                    "y": 0.46,
                    "yanchor": "bottom",
                    "yref": "paper"
                  },
                  {
                    "font": {
                      "size": 16
                    },
                    "showarrow": false,
                    "text": "Meeting Room - ファン速度",
                    "x": 0.5,
                    "xanchor": "center",
                    "xref": "paper",
                    "y": 0.19,
                    "yanchor": "bottom",
                    "yref": "paper"
                  }
                ],
                "height": 800,
                "showlegend": true,
                "template": {
                  "data": {
                    "bar": [
                      {
                        "error_x": {
                          "color": "#2a3f5f"
                        },
                        "error_y": {
                          "color": "#2a3f5f"
                        },
                        "marker": {
                          "line": {
                            "color": "#E5ECF6",
                            "width": 0.5
                          },
                          "pattern": {
                            "fillmode": "overlay",
                            "size": 10,
                            "solidity": 0.2
                          }
                        },
                        "type": "bar"
                      }
                    ],
                    "barpolar": [
                      {
                        "marker": {
                          "line": {
                            "color": "#E5ECF6",
                            "width": 0.5
                          },
                          "pattern": {
                            "fillmode": "overlay",
                            "size": 10,
                            "solidity": 0.2
                          }
                        },
                        "type": "barpolar"
                      }
                    ],
                    "carpet": [
                      {
                        "aaxis": {
                          "endlinecolor": "#2a3f5f",
                          "gridcolor": "white",
                          "linecolor": "white",
                          "minorgridcolor": "white",
                          "startlinecolor": "#2a3f5f"
                        },
                        "baxis": {
                          "endlinecolor": "#2a3f5f",
                          "gridcolor": "white",
                          "linecolor": "white",
                          "minorgridcolor": "white",
                          "startlinecolor": "#2a3f5f"
                        },
                        "type": "carpet"
                      }
                    ],
                    "choropleth": [
                      {
                        "colorbar": {
                          "outlinewidth": 0,
                          "ticks": ""
                        },
                        "type": "choropleth"
                      }
                    ],
                    "contour": [
                      {
                        "colorbar": {
                          "outlinewidth": 0,
                          "ticks": ""
                        },
                        "colorscale": [
                          [
                            0,
                            "#0d0887"
                          ],
                          [
                            0.1111111111111111,
                            "#46039f"
                          ],
                          [
                            0.2222222222222222,
                            "#7201a8"
                          ],
                          [
                            0.3333333333333333,
                            "#9c179e"
                          ],
                          [
                            0.4444444444444444,
                            "#bd3786"
                          ],
                          [
                            0.5555555555555556,
                            "#d8576b"
                          ],
                          [
                            0.6666666666666666,
                            "#ed7953"
                          ],
                          [
                            0.7777777777777778,
                            "#fb9f3a"
                          ],
                          [
                            0.8888888888888888,
                            "#fdca26"
                          ],
                          [
                            1,
                            "#f0f921"
                          ]
                        ],
                        "type": "contour"
                      }
                    ],
                    "contourcarpet": [
                      {
                        "colorbar": {
                          "outlinewidth": 0,
                          "ticks": ""
                        },
                        "type": "contourcarpet"
                      }
                    ],
                    "heatmap": [
                      {
                        "colorbar": {
                          "outlinewidth": 0,
                          "ticks": ""
                        },
                        "colorscale": [
                          [
                            0,
                            "#0d0887"
                          ],
                          [
                            0.1111111111111111,
                            "#46039f"
                          ],
                          [
                            0.2222222222222222,
                            "#7201a8"
                          ],
                          [
                            0.3333333333333333,
                            "#9c179e"
                          ],
                          [
                            0.4444444444444444,
                            "#bd3786"
                          ],
                          [
                            0.5555555555555556,
                            "#d8576b"
                          ],
                          [
                            0.6666666666666666,
                            "#ed7953"
                          ],
                          [
                            0.7777777777777778,
                            "#fb9f3a"
                          ],
                          [
                            0.8888888888888888,
                            "#fdca26"
                          ],
                          [
                            1,
                            "#f0f921"
                          ]
                        ],
                        "type": "heatmap"
                      }
                    ],
                    "heatmapgl": [
                      {
                        "colorbar": {
                          "outlinewidth": 0,
                          "ticks": ""
                        },
                        "colorscale": [
                          [
                            0,
                            "#0d0887"
                          ],
                          [
                            0.1111111111111111,
                            "#46039f"
                          ],
                          [
                            0.2222222222222222,
                            "#7201a8"
                          ],
                          [
                            0.3333333333333333,
                            "#9c179e"
                          ],
                          [
                            0.4444444444444444,
                            "#bd3786"
                          ],
                          [
                            0.5555555555555556,
                            "#d8576b"
                          ],
                          [
                            0.6666666666666666,
                            "#ed7953"
                          ],
                          [
                            0.7777777777777778,
                            "#fb9f3a"
                          ],
                          [
                            0.8888888888888888,
                            "#fdca26"
                          ],
                          [
                            1,
                            "#f0f921"
                          ]
                        ],
                        "type": "heatmapgl"
                      }
                    ],
                    "histogram": [
                      {
                        "marker": {
                          "pattern": {
                            "fillmode": "overlay",
                            "size": 10,
                            "solidity": 0.2
                          }
                        },
                        "type": "histogram"
                      }
                    ],
                    "histogram2d": [
                      {
                        "colorbar": {
                          "outlinewidth": 0,
                          "ticks": ""
                        },
                        "colorscale": [
                          [
                            0,
                            "#0d0887"
                          ],
                          [
                            0.1111111111111111,
                            "#46039f"
                          ],
                          [
                            0.2222222222222222,
                            "#7201a8"
                          ],
                          [
                            0.3333333333333333,
                            "#9c179e"
                          ],
                          [
                            0.4444444444444444,
                            "#bd3786"
                          ],
                          [
                            0.5555555555555556,
                            "#d8576b"
                          ],
                          [
                            0.6666666666666666,
                            "#ed7953"
                          ],
                          [
                            0.7777777777777778,
                            "#fb9f3a"
                          ],
                          [
                            0.8888888888888888,
                            "#fdca26"
                          ],
                          [
                            1,
                            "#f0f921"
                          ]
                        ],
                        "type": "histogram2d"
                      }
                    ],
                    "histogram2dcontour": [
                      {
                        "colorbar": {
                          "outlinewidth": 0,
                          "ticks": ""
                        },
                        "colorscale": [
                          [
                            0,
                            "#0d0887"
                          ],
                          [
                            0.1111111111111111,
                            "#46039f"
                          ],
                          [
                            0.2222222222222222,
                            "#7201a8"
                          ],
                          [
                            0.3333333333333333,
                            "#9c179e"
                          ],
                          [
                            0.4444444444444444,
                            "#bd3786"
                          ],
                          [
                            0.5555555555555556,
                            "#d8576b"
                          ],
                          [
                            0.6666666666666666,
                            "#ed7953"
                          ],
                          [
                            0.7777777777777778,
                            "#fb9f3a"
                          ],
                          [
                            0.8888888888888888,
                            "#fdca26"
                          ],
                          [
                            1,
                            "#f0f921"
                          ]
                        ],
                        "type": "histogram2dcontour"
                      }
                    ],
                    "mesh3d": [
                      {
                        "colorbar": {
                          "outlinewidth": 0,
                          "ticks": ""
                        },
                        "type": "mesh3d"
                      }
                    ],
                    "parcoords": [
                      {
                        "line": {
                          "colorbar": {
                            "outlinewidth": 0,
                            "ticks": ""
                          }
                        },
                        "type": "parcoords"
                      }
                    ],
                    "pie": [
                      {
                        "automargin": true,
                        "type": "pie"
                      }
                    ],
                    "scatter": [
                      {
                        "fillpattern": {
                          "fillmode": "overlay",
                          "size": 10,
                          "solidity": 0.2
                        },
                        "type": "scatter"
                      }
                    ],
                    "scatter3d": [
                      {
                        "line": {
                          "colorbar": {
                            "outlinewidth": 0,
                            "ticks": ""
                          }
                        },
                        "marker": {
                          "colorbar": {
                            "outlinewidth": 0,
                            "ticks": ""
                          }
                        },
                        "type": "scatter3d"
                      }
                    ],
                    "scattercarpet": [
                      {
                        "marker": {
                          "colorbar": {
                            "outlinewidth": 0,
                            "ticks": ""
                          }
                        },
                        "type": "scattercarpet"
                      }
                    ],
                    "scattergeo": [
                      {
                        "marker": {
                          "colorbar": {
                            "outlinewidth": 0,
                            "ticks": ""
                          }
                        },
                        "type": "scattergeo"
                      }
                    ],
                    "scattergl": [
                      {
                        "marker": {
                          "colorbar": {
                            "outlinewidth": 0,
                            "ticks": ""
                          }
                        },
                        "type": "scattergl"
                      }
                    ],
                    "scattermapbox": [
                      {
                        "marker": {
                          "colorbar": {
                            "outlinewidth": 0,
                            "ticks": ""
                          }
                        },
                        "type": "scattermapbox"
                      }
                    ],
                    "scatterpolar": [
                      {
                        "marker": {
                          "colorbar": {
                            "outlinewidth": 0,
                            "ticks": ""
                          }
                        },
                        "type": "scatterpolar"
                      }
                    ],
                    "scatterpolargl": [
                      {
                        "marker": {
                          "colorbar": {
                            "outlinewidth": 0,
                            "ticks": ""
                          }
                        },
                        "type": "scatterpolargl"
                      }
                    ],
                    "scatterternary": [
                      {
                        "marker": {
                          "colorbar": {
                            "outlinewidth": 0,
                            "ticks": ""
                          }
                        },
                        "type": "scatterternary"
                      }
                    ],
                    "surface": [
                      {
                        "colorbar": {
                          "outlinewidth": 0,
                          "ticks": ""
                        },
                        "colorscale": [
                          [
                            0,
                            "#0d0887"
                          ],
                          [
                            0.1111111111111111,
                            "#46039f"
                          ],
                          [
                            0.2222222222222222,
                            "#7201a8"
                          ],
                          [
                            0.3333333333333333,
                            "#9c179e"
                          ],
                          [
                            0.4444444444444444,
                            "#bd3786"
                          ],
                          [
                            0.5555555555555556,
                            "#d8576b"
                          ],
                          [
                            0.6666666666666666,
                            "#ed7953"
                          ],
                          [
                            0.7777777777777778,
                            "#fb9f3a"
                          ],
                          [
                            0.8888888888888888,
                            "#fdca26"
                          ],
                          [
                            1,
                            "#f0f921"
                          ]
                        ],
                        "type": "surface"
                      }
                    ],
                    "table": [
                      {
                        "cells": {
                          "fill": {
                            "color": "#EBF0F8"
                          },
                          "line": {
                            "color": "white"
                          }
                        },
                        "header": {
                          "fill": {
                            "color": "#C8D4E3"
                          },
                          "line": {
                            "color": "white"
                          }
                        },
                        "type": "table"
                      }
                    ]
                  },
                  "layout": {
                    "annotationdefaults": {
                      "arrowcolor": "#2a3f5f",
                      "arrowhead": 0,
                      "arrowwidth": 1
                    },
                    "autotypenumbers": "strict",
                    "coloraxis": {
                      "colorbar": {
                        "outlinewidth": 0,
                        "ticks": ""
                      }
                    },
                    "colorscale": {
                      "diverging": [
                        [
                          0,
                          "#8e0152"
                        ],
                        [
                          0.1,
                          "#c51b7d"
                        ],
                        [
                          0.2,
                          "#de77ae"
                        ],
                        [
                          0.3,
                          "#f1b6da"
                        ],
                        [
                          0.4,
                          "#fde0ef"
                        ],
                        [
                          0.5,
                          "#f7f7f7"
                        ],
                        [
                          0.6,
                          "#e6f5d0"
                        ],
                        [
                          0.7,
                          "#b8e186"
                        ],
                        [
                          0.8,
                          "#7fbc41"
                        ],
                        [
                          0.9,
                          "#4d9221"
                        ],
                        [
                          1,
                          "#276419"
                        ]
                      ],
                      "sequential": [
                        [
                          0,
                          "#0d0887"
                        ],
                        [
                          0.1111111111111111,
                          "#46039f"
                        ],
                        [
                          0.2222222222222222,
                          "#7201a8"
                        ],
                        [
                          0.3333333333333333,
                          "#9c179e"
                        ],
                        [
                          0.4444444444444444,
                          "#bd3786"
                        ],
                        [
                          0.5555555555555556,
                          "#d8576b"
                        ],
                        [
                          0.6666666666666666,
                          "#ed7953"
                        ],
                        [
                          0.7777777777777778,
                          "#fb9f3a"
                        ],
                        [
                          0.8888888888888888,
                          "#fdca26"
                        ],
                        [
                          1,
                          "#f0f921"
                        ]
                      ],
                      "sequentialminus": [
                        [
                          0,
                          "#0d0887"
                        ],
                        [
                          0.1111111111111111,
                          "#46039f"
                        ],
                        [
                          0.2222222222222222,
                          "#7201a8"
                        ],
                        [
                          0.3333333333333333,
                          "#9c179e"
                        ],
                        [
                          0.4444444444444444,
                          "#bd3786"
                        ],
                        [
                          0.5555555555555556,
                          "#d8576b"
                        ],
                        [
                          0.6666666666666666,
                          "#ed7953"
                        ],
                        [
                          0.7777777777777778,
                          "#fb9f3a"
                        ],
                        [
                          0.8888888888888888,
                          "#fdca26"
                        ],
                        [
                          1,
                          "#f0f921"
                        ]
                      ]
                    },
                    "colorway": [
                      "#636efa",
                      "#EF553B",
                      "#00cc96",
                      "#ab63fa",
                      "#FFA15A",
                      "#19d3f3",
                      "#FF6692",
                      "#B6E880",
                      "#FF97FF",
                      "#FECB52"
                    ],
                    "font": {
                      "color": "#2a3f5f"
                    },
                    "geo": {
                      "bgcolor": "white",
                      "lakecolor": "white",
                      "landcolor": "#E5ECF6",
                      "showlakes": true,
                      "showland": true,
                      "subunitcolor": "white"
                    },
                    "hoverlabel": {
                      "align": "left"
                    },
                    "hovermode": "closest",
                    "mapbox": {
                      "style": "light"
                    },
                    "paper_bgcolor": "white",
                    "plot_bgcolor": "#E5ECF6",
                    "polar": {
                      "angularaxis": {
                        "gridcolor": "white",
                        "linecolor": "white",
                        "ticks": ""
                      },
                      "bgcolor": "#E5ECF6",
                      "radialaxis": {
                        "gridcolor": "white",
                        "linecolor": "white",
                        "ticks": ""
                      }
                    },
                    "scene": {
                      "xaxis": {
                        "backgroundcolor": "#E5ECF6",
                        "gridcolor": "white",
                        "gridwidth": 2,
                        "linecolor": "white",
                        "showbackground": true,
                        "ticks": "",
                        "zerolinecolor": "white"
                      },
                      "yaxis": {
                        "backgroundcolor": "#E5ECF6",
                        "gridcolor": "white",
                        "gridwidth": 2,
                        "linecolor": "white",
                        "showbackground": true,
                        "ticks": "",
                        "zerolinecolor": "white"
                      },
                      "zaxis": {
                        "backgroundcolor": "#E5ECF6",
                        "gridcolor": "white",
                        "gridwidth": 2,
                        "linecolor": "white",
                        "showbackground": true,
                        "ticks": "",
                        "zerolinecolor": "white"
                      }
                    },
                    "shapedefaults": {
                      "line": {
                        "color": "#2a3f5f"
                      }
                    },
                    "ternary": {
                      "aaxis": {
                        "gridcolor": "white",
                        "linecolor": "white",
                        "ticks": ""
                      },
                      "baxis": {
                        "gridcolor": "white",
                        "linecolor": "white",
                        "ticks": ""
                      },
                      "bgcolor": "#E5ECF6",
                      "caxis": {
                        "gridcolor": "white",
                        "linecolor": "white",
                        "ticks": ""
                      }
                    },
                    "title": {
                      "x": 0.05
                    },
                    "xaxis": {
                      "automargin": true,
                      "gridcolor": "white",
                      "linecolor": "white",
                      "ticks": "",
                      "title": {
                        "standoff": 15
                      },
                      "zerolinecolor": "white",
                      "zerolinewidth": 2
                    },
                    "yaxis": {
                      "automargin": true,
                      "gridcolor": "white",
                      "linecolor": "white",
                      "ticks": "",
                      "title": {
                        "standoff": 15
                      },
                      "zerolinecolor": "white",
                      "zerolinewidth": 2
                    }
                  }
                },
                "title": {
                  "text": "Meeting Room 最適化結果"
                },
                "xaxis": {
                  "anchor": "y",
                  "domain": [
                    0,
                    1
                  ]
                },
                "xaxis2": {
                  "anchor": "y2",
                  "domain": [
                    0,
                    1
                  ]
                },
                "xaxis3": {
                  "anchor": "y3",
                  "domain": [
                    0,
                    1
                  ]
                },
                "xaxis4": {
                  "anchor": "y4",
                  "domain": [
                    0,
                    1
                  ],
                  "title": {
                    "text": "時刻"
                  }
                },
                "yaxis": {
                  "anchor": "x",
                  "domain": [
                    0.81,
                    1
                  ],
                  "title": {
                    "text": "温度 (°C)"
                  }
                },
                "yaxis2": {
                  "anchor": "x2",
                  "domain": [
                    0.54,
                    0.73
                  ],
                  "title": {
                    "text": "電力 (W)"
                  }
                },
                "yaxis3": {
                  "anchor": "x3",
                  "domain": [
                    0.27,
                    0.46
                  ],
                  "title": {
                    "text": "モード"
                  }
                },
                "yaxis4": {
                  "anchor": "x4",
                  "domain": [
                    0,
                    0.19
                  ],
                  "title": {
                    "text": "ファン速度"
                  }
                }
              }
            }
          },
          "metadata": {},
          "output_type": "display_data"
        },
        {
          "name": "stdout",
          "output_type": "stream",
          "text": [
            "✅ Meeting Room の可視化完了\n"
          ]
        },
        {
          "data": {
            "application/vnd.plotly.v1+json": {
              "config": {
                "plotlyServerURL": "https://plot.ly"
              },
              "data": [
                {
                  "line": {
                    "color": "red",
                    "width": 2
                  },
                  "name": "設定温度",
                  "type": "scatter",
                  "x": [
                    "2025-10-02T00:00:00",
                    "2025-10-02T01:00:00",
                    "2025-10-02T02:00:00",
                    "2025-10-02T03:00:00",
                    "2025-10-02T04:00:00",
                    "2025-10-02T05:00:00",
                    "2025-10-02T06:00:00",
                    "2025-10-02T07:00:00",
                    "2025-10-02T08:00:00",
                    "2025-10-02T09:00:00",
                    "2025-10-02T10:00:00",
                    "2025-10-02T11:00:00",
                    "2025-10-02T12:00:00",
                    "2025-10-02T13:00:00",
                    "2025-10-02T14:00:00",
                    "2025-10-02T15:00:00",
                    "2025-10-02T16:00:00",
                    "2025-10-02T17:00:00",
                    "2025-10-02T18:00:00",
                    "2025-10-02T19:00:00",
                    "2025-10-02T20:00:00",
                    "2025-10-02T21:00:00",
                    "2025-10-02T22:00:00",
                    "2025-10-02T23:00:00",
                    "2025-10-03T00:00:00",
                    "2025-10-03T01:00:00",
                    "2025-10-03T02:00:00",
                    "2025-10-03T03:00:00",
                    "2025-10-03T04:00:00",
                    "2025-10-03T05:00:00",
                    "2025-10-03T06:00:00",
                    "2025-10-03T07:00:00",
                    "2025-10-03T08:00:00",
                    "2025-10-03T09:00:00",
                    "2025-10-03T10:00:00",
                    "2025-10-03T11:00:00",
                    "2025-10-03T12:00:00",
                    "2025-10-03T13:00:00",
                    "2025-10-03T14:00:00",
                    "2025-10-03T15:00:00",
                    "2025-10-03T16:00:00",
                    "2025-10-03T17:00:00",
                    "2025-10-03T18:00:00",
                    "2025-10-03T19:00:00",
                    "2025-10-03T20:00:00",
                    "2025-10-03T21:00:00",
                    "2025-10-03T22:00:00",
                    "2025-10-03T23:00:00",
                    "2025-10-04T00:00:00",
                    "2025-10-04T01:00:00",
                    "2025-10-04T02:00:00",
                    "2025-10-04T03:00:00",
                    "2025-10-04T04:00:00",
                    "2025-10-04T05:00:00",
                    "2025-10-04T06:00:00",
                    "2025-10-04T07:00:00",
                    "2025-10-04T08:00:00",
                    "2025-10-04T09:00:00",
                    "2025-10-04T10:00:00",
                    "2025-10-04T11:00:00",
                    "2025-10-04T12:00:00",
                    "2025-10-04T13:00:00",
                    "2025-10-04T14:00:00",
                    "2025-10-04T15:00:00",
                    "2025-10-04T16:00:00",
                    "2025-10-04T17:00:00",
                    "2025-10-04T18:00:00",
                    "2025-10-04T19:00:00",
                    "2025-10-04T20:00:00",
                    "2025-10-04T21:00:00",
                    "2025-10-04T22:00:00",
                    "2025-10-04T23:00:00",
                    "2025-10-05T00:00:00"
                  ],
                  "xaxis": "x",
                  "y": [
                    25,
                    25,
                    25,
                    25,
                    25,
                    25,
                    25,
                    25,
                    25,
                    25,
                    25,
                    25,
                    25,
                    26,
                    26,
                    26,
                    26,
                    26,
                    26,
                    26,
                    26,
                    25,
                    25,
                    25,
                    26,
                    26,
                    25,
                    25,
                    25,
                    25,
                    25,
                    25,
                    25,
                    25,
                    26,
                    26,
                    26,
                    26,
                    26,
                    26,
                    26,
                    26,
                    26,
                    26,
                    26,
                    25,
                    25,
                    25,
                    25,
                    25,
                    26,
                    26,
                    26,
                    26,
                    26,
                    25,
                    25,
                    25,
                    25,
                    26,
                    26,
                    26,
                    26,
                    26,
                    26,
                    26,
                    26,
                    26,
                    26,
                    22,
                    22,
                    26,
                    23
                  ],
                  "yaxis": "y"
                },
                {
                  "line": {
                    "color": "blue",
                    "width": 2
                  },
                  "name": "予測室温",
                  "type": "scatter",
                  "x": [
                    "2025-10-02T00:00:00",
                    "2025-10-02T01:00:00",
                    "2025-10-02T02:00:00",
                    "2025-10-02T03:00:00",
                    "2025-10-02T04:00:00",
                    "2025-10-02T05:00:00",
                    "2025-10-02T06:00:00",
                    "2025-10-02T07:00:00",
                    "2025-10-02T08:00:00",
                    "2025-10-02T09:00:00",
                    "2025-10-02T10:00:00",
                    "2025-10-02T11:00:00",
                    "2025-10-02T12:00:00",
                    "2025-10-02T13:00:00",
                    "2025-10-02T14:00:00",
                    "2025-10-02T15:00:00",
                    "2025-10-02T16:00:00",
                    "2025-10-02T17:00:00",
                    "2025-10-02T18:00:00",
                    "2025-10-02T19:00:00",
                    "2025-10-02T20:00:00",
                    "2025-10-02T21:00:00",
                    "2025-10-02T22:00:00",
                    "2025-10-02T23:00:00",
                    "2025-10-03T00:00:00",
                    "2025-10-03T01:00:00",
                    "2025-10-03T02:00:00",
                    "2025-10-03T03:00:00",
                    "2025-10-03T04:00:00",
                    "2025-10-03T05:00:00",
                    "2025-10-03T06:00:00",
                    "2025-10-03T07:00:00",
                    "2025-10-03T08:00:00",
                    "2025-10-03T09:00:00",
                    "2025-10-03T10:00:00",
                    "2025-10-03T11:00:00",
                    "2025-10-03T12:00:00",
                    "2025-10-03T13:00:00",
                    "2025-10-03T14:00:00",
                    "2025-10-03T15:00:00",
                    "2025-10-03T16:00:00",
                    "2025-10-03T17:00:00",
                    "2025-10-03T18:00:00",
                    "2025-10-03T19:00:00",
                    "2025-10-03T20:00:00",
                    "2025-10-03T21:00:00",
                    "2025-10-03T22:00:00",
                    "2025-10-03T23:00:00",
                    "2025-10-04T00:00:00",
                    "2025-10-04T01:00:00",
                    "2025-10-04T02:00:00",
                    "2025-10-04T03:00:00",
                    "2025-10-04T04:00:00",
                    "2025-10-04T05:00:00",
                    "2025-10-04T06:00:00",
                    "2025-10-04T07:00:00",
                    "2025-10-04T08:00:00",
                    "2025-10-04T09:00:00",
                    "2025-10-04T10:00:00",
                    "2025-10-04T11:00:00",
                    "2025-10-04T12:00:00",
                    "2025-10-04T13:00:00",
                    "2025-10-04T14:00:00",
                    "2025-10-04T15:00:00",
                    "2025-10-04T16:00:00",
                    "2025-10-04T17:00:00",
                    "2025-10-04T18:00:00",
                    "2025-10-04T19:00:00",
                    "2025-10-04T20:00:00",
                    "2025-10-04T21:00:00",
                    "2025-10-04T22:00:00",
                    "2025-10-04T23:00:00",
                    "2025-10-05T00:00:00"
                  ],
                  "xaxis": "x",
                  "y": [
                    23.93999999999999,
                    24.99899999999999,
                    26.404999999999994,
                    27.47599999999998,
                    28.69799999999998,
                    28.527000000000047,
                    28.536999999999992,
                    28.1965,
                    27.261499999999998,
                    26.149500000000003,
                    25.635499999999983,
                    25.025000000000013,
                    24.213499999999975,
                    24.010000000000012,
                    23.279999999999994,
                    24.26099999999999,
                    23.8335,
                    23.282999999999994,
                    23.79700000000001,
                    22.634500000000003,
                    22.165999999999993,
                    21.7365,
                    21.541499999999992,
                    21.232000000000003,
                    22.661500000000004,
                    24.018999999999977,
                    25.060999999999993,
                    25.973999999999986,
                    26.61349999999998,
                    26.578499999999977,
                    26.147000000000006,
                    25.560999999999964,
                    25.16399999999999,
                    24.551499999999987,
                    24.117500000000014,
                    23.785000000000014,
                    23.556000000000008,
                    23.639499999999995,
                    23.57199999999999,
                    23.735499999999973,
                    23.756499999999978,
                    23.119000000000007,
                    22.717500000000005,
                    22.165499999999987,
                    22.209,
                    21.942000000000007,
                    21.558999999999997,
                    21.450499999999998,
                    22.75449999999999,
                    23.94849999999997,
                    25.366999999999997,
                    26.052499999999995,
                    26.61899999999998,
                    26.763999999999996,
                    26.574499999999993,
                    26.034000000000006,
                    25.368999999999986,
                    25.10750000000001,
                    24.55799999999998,
                    24.143999999999995,
                    23.658000000000012,
                    23.955499999999976,
                    23.428500000000014,
                    23.583500000000004,
                    23.568499999999982,
                    23.578499999999984,
                    23.453999999999983,
                    23.312000000000012,
                    23.421000000000006,
                    22.616999999999997,
                    22.899500000000007,
                    23.25750000000002,
                    24.462999999999976
                  ],
                  "yaxis": "y"
                },
                {
                  "line": {
                    "color": "green",
                    "width": 2
                  },
                  "name": "予測電力",
                  "type": "scatter",
                  "x": [
                    "2025-10-02T00:00:00",
                    "2025-10-02T01:00:00",
                    "2025-10-02T02:00:00",
                    "2025-10-02T03:00:00",
                    "2025-10-02T04:00:00",
                    "2025-10-02T05:00:00",
                    "2025-10-02T06:00:00",
                    "2025-10-02T07:00:00",
                    "2025-10-02T08:00:00",
                    "2025-10-02T09:00:00",
                    "2025-10-02T10:00:00",
                    "2025-10-02T11:00:00",
                    "2025-10-02T12:00:00",
                    "2025-10-02T13:00:00",
                    "2025-10-02T14:00:00",
                    "2025-10-02T15:00:00",
                    "2025-10-02T16:00:00",
                    "2025-10-02T17:00:00",
                    "2025-10-02T18:00:00",
                    "2025-10-02T19:00:00",
                    "2025-10-02T20:00:00",
                    "2025-10-02T21:00:00",
                    "2025-10-02T22:00:00",
                    "2025-10-02T23:00:00",
                    "2025-10-03T00:00:00",
                    "2025-10-03T01:00:00",
                    "2025-10-03T02:00:00",
                    "2025-10-03T03:00:00",
                    "2025-10-03T04:00:00",
                    "2025-10-03T05:00:00",
                    "2025-10-03T06:00:00",
                    "2025-10-03T07:00:00",
                    "2025-10-03T08:00:00",
                    "2025-10-03T09:00:00",
                    "2025-10-03T10:00:00",
                    "2025-10-03T11:00:00",
                    "2025-10-03T12:00:00",
                    "2025-10-03T13:00:00",
                    "2025-10-03T14:00:00",
                    "2025-10-03T15:00:00",
                    "2025-10-03T16:00:00",
                    "2025-10-03T17:00:00",
                    "2025-10-03T18:00:00",
                    "2025-10-03T19:00:00",
                    "2025-10-03T20:00:00",
                    "2025-10-03T21:00:00",
                    "2025-10-03T22:00:00",
                    "2025-10-03T23:00:00",
                    "2025-10-04T00:00:00",
                    "2025-10-04T01:00:00",
                    "2025-10-04T02:00:00",
                    "2025-10-04T03:00:00",
                    "2025-10-04T04:00:00",
                    "2025-10-04T05:00:00",
                    "2025-10-04T06:00:00",
                    "2025-10-04T07:00:00",
                    "2025-10-04T08:00:00",
                    "2025-10-04T09:00:00",
                    "2025-10-04T10:00:00",
                    "2025-10-04T11:00:00",
                    "2025-10-04T12:00:00",
                    "2025-10-04T13:00:00",
                    "2025-10-04T14:00:00",
                    "2025-10-04T15:00:00",
                    "2025-10-04T16:00:00",
                    "2025-10-04T17:00:00",
                    "2025-10-04T18:00:00",
                    "2025-10-04T19:00:00",
                    "2025-10-04T20:00:00",
                    "2025-10-04T21:00:00",
                    "2025-10-04T22:00:00",
                    "2025-10-04T23:00:00",
                    "2025-10-05T00:00:00"
                  ],
                  "xaxis": "x2",
                  "y": [
                    871066.2000000001,
                    786286.8,
                    793929,
                    1069513.7999999998,
                    1074860.4,
                    972102.8999999999,
                    1069833,
                    1854551.7000000002,
                    1801775.4000000001,
                    1848721.7999999998,
                    1757848.2000000002,
                    1467970.2000000002,
                    1542531,
                    966002.7000000001,
                    1318123.5,
                    1309395.9,
                    1323387.9,
                    1245882.6,
                    1229658.9,
                    1347744.9,
                    1280414.1,
                    712926.3,
                    708340.8,
                    463586.39999999997,
                    534653.1000000001,
                    830428.5,
                    754663.8,
                    801426.2999999999,
                    808935.2999999999,
                    1149835.2000000002,
                    906803.1000000001,
                    1547572.5,
                    1520013,
                    1439342.7000000002,
                    1310866.2000000002,
                    1040622.6000000001,
                    996234.8999999999,
                    944626.5,
                    1141571.1,
                    1254633,
                    1285278.6,
                    1290424.2000000002,
                    1258346.4,
                    1325423.4,
                    973133.7000000001,
                    396984,
                    511788.30000000005,
                    311058.9,
                    217408.80000000002,
                    395843.10000000003,
                    396102.60000000003,
                    291836.4,
                    266883.9,
                    253211.09999999998,
                    319423.80000000005,
                    1507319.4,
                    1581021,
                    1459846.7999999998,
                    1409754.9,
                    1226142.6,
                    987391.5,
                    1163982,
                    961650.6000000001,
                    1167363,
                    1271036.4,
                    1307824.5,
                    1279919.7000000002,
                    1255099.2000000002,
                    1287863.4,
                    645816,
                    651547.5,
                    673881.3,
                    604761.3
                  ],
                  "yaxis": "y2"
                },
                {
                  "marker": {
                    "color": "orange",
                    "size": 6
                  },
                  "mode": "markers",
                  "name": "運転モード",
                  "type": "scatter",
                  "x": [
                    "2025-10-02T00:00:00",
                    "2025-10-02T01:00:00",
                    "2025-10-02T02:00:00",
                    "2025-10-02T03:00:00",
                    "2025-10-02T04:00:00",
                    "2025-10-02T05:00:00",
                    "2025-10-02T06:00:00",
                    "2025-10-02T07:00:00",
                    "2025-10-02T08:00:00",
                    "2025-10-02T09:00:00",
                    "2025-10-02T10:00:00",
                    "2025-10-02T11:00:00",
                    "2025-10-02T12:00:00",
                    "2025-10-02T13:00:00",
                    "2025-10-02T14:00:00",
                    "2025-10-02T15:00:00",
                    "2025-10-02T16:00:00",
                    "2025-10-02T17:00:00",
                    "2025-10-02T18:00:00",
                    "2025-10-02T19:00:00",
                    "2025-10-02T20:00:00",
                    "2025-10-02T21:00:00",
                    "2025-10-02T22:00:00",
                    "2025-10-02T23:00:00",
                    "2025-10-03T00:00:00",
                    "2025-10-03T01:00:00",
                    "2025-10-03T02:00:00",
                    "2025-10-03T03:00:00",
                    "2025-10-03T04:00:00",
                    "2025-10-03T05:00:00",
                    "2025-10-03T06:00:00",
                    "2025-10-03T07:00:00",
                    "2025-10-03T08:00:00",
                    "2025-10-03T09:00:00",
                    "2025-10-03T10:00:00",
                    "2025-10-03T11:00:00",
                    "2025-10-03T12:00:00",
                    "2025-10-03T13:00:00",
                    "2025-10-03T14:00:00",
                    "2025-10-03T15:00:00",
                    "2025-10-03T16:00:00",
                    "2025-10-03T17:00:00",
                    "2025-10-03T18:00:00",
                    "2025-10-03T19:00:00",
                    "2025-10-03T20:00:00",
                    "2025-10-03T21:00:00",
                    "2025-10-03T22:00:00",
                    "2025-10-03T23:00:00",
                    "2025-10-04T00:00:00",
                    "2025-10-04T01:00:00",
                    "2025-10-04T02:00:00",
                    "2025-10-04T03:00:00",
                    "2025-10-04T04:00:00",
                    "2025-10-04T05:00:00",
                    "2025-10-04T06:00:00",
                    "2025-10-04T07:00:00",
                    "2025-10-04T08:00:00",
                    "2025-10-04T09:00:00",
                    "2025-10-04T10:00:00",
                    "2025-10-04T11:00:00",
                    "2025-10-04T12:00:00",
                    "2025-10-04T13:00:00",
                    "2025-10-04T14:00:00",
                    "2025-10-04T15:00:00",
                    "2025-10-04T16:00:00",
                    "2025-10-04T17:00:00",
                    "2025-10-04T18:00:00",
                    "2025-10-04T19:00:00",
                    "2025-10-04T20:00:00",
                    "2025-10-04T21:00:00",
                    "2025-10-04T22:00:00",
                    "2025-10-04T23:00:00",
                    "2025-10-05T00:00:00"
                  ],
                  "xaxis": "x3",
                  "y": [
                    0,
                    0,
                    0,
                    2,
                    2,
                    2,
                    2,
                    2,
                    2,
                    2,
                    0,
                    0,
                    0,
                    0,
                    0,
                    0,
                    0,
                    0,
                    0,
                    0,
                    0,
                    0,
                    0,
                    0,
                    0,
                    0,
                    0,
                    2,
                    2,
                    2,
                    2,
                    0,
                    0,
                    0,
                    0,
                    0,
                    0,
                    0,
                    0,
                    0,
                    0,
                    0,
                    0,
                    0,
                    0,
                    0,
                    0,
                    0,
                    0,
                    0,
                    0,
                    0,
                    0,
                    0,
                    0,
                    0,
                    0,
                    0,
                    0,
                    0,
                    0,
                    0,
                    0,
                    0,
                    0,
                    0,
                    0,
                    0,
                    0,
                    0,
                    0,
                    0,
                    2
                  ],
                  "yaxis": "y3"
                },
                {
                  "marker": {
                    "color": "purple",
                    "size": 6
                  },
                  "mode": "markers",
                  "name": "ファン速度",
                  "type": "scatter",
                  "x": [
                    "2025-10-02T00:00:00",
                    "2025-10-02T01:00:00",
                    "2025-10-02T02:00:00",
                    "2025-10-02T03:00:00",
                    "2025-10-02T04:00:00",
                    "2025-10-02T05:00:00",
                    "2025-10-02T06:00:00",
                    "2025-10-02T07:00:00",
                    "2025-10-02T08:00:00",
                    "2025-10-02T09:00:00",
                    "2025-10-02T10:00:00",
                    "2025-10-02T11:00:00",
                    "2025-10-02T12:00:00",
                    "2025-10-02T13:00:00",
                    "2025-10-02T14:00:00",
                    "2025-10-02T15:00:00",
                    "2025-10-02T16:00:00",
                    "2025-10-02T17:00:00",
                    "2025-10-02T18:00:00",
                    "2025-10-02T19:00:00",
                    "2025-10-02T20:00:00",
                    "2025-10-02T21:00:00",
                    "2025-10-02T22:00:00",
                    "2025-10-02T23:00:00",
                    "2025-10-03T00:00:00",
                    "2025-10-03T01:00:00",
                    "2025-10-03T02:00:00",
                    "2025-10-03T03:00:00",
                    "2025-10-03T04:00:00",
                    "2025-10-03T05:00:00",
                    "2025-10-03T06:00:00",
                    "2025-10-03T07:00:00",
                    "2025-10-03T08:00:00",
                    "2025-10-03T09:00:00",
                    "2025-10-03T10:00:00",
                    "2025-10-03T11:00:00",
                    "2025-10-03T12:00:00",
                    "2025-10-03T13:00:00",
                    "2025-10-03T14:00:00",
                    "2025-10-03T15:00:00",
                    "2025-10-03T16:00:00",
                    "2025-10-03T17:00:00",
                    "2025-10-03T18:00:00",
                    "2025-10-03T19:00:00",
                    "2025-10-03T20:00:00",
                    "2025-10-03T21:00:00",
                    "2025-10-03T22:00:00",
                    "2025-10-03T23:00:00",
                    "2025-10-04T00:00:00",
                    "2025-10-04T01:00:00",
                    "2025-10-04T02:00:00",
                    "2025-10-04T03:00:00",
                    "2025-10-04T04:00:00",
                    "2025-10-04T05:00:00",
                    "2025-10-04T06:00:00",
                    "2025-10-04T07:00:00",
                    "2025-10-04T08:00:00",
                    "2025-10-04T09:00:00",
                    "2025-10-04T10:00:00",
                    "2025-10-04T11:00:00",
                    "2025-10-04T12:00:00",
                    "2025-10-04T13:00:00",
                    "2025-10-04T14:00:00",
                    "2025-10-04T15:00:00",
                    "2025-10-04T16:00:00",
                    "2025-10-04T17:00:00",
                    "2025-10-04T18:00:00",
                    "2025-10-04T19:00:00",
                    "2025-10-04T20:00:00",
                    "2025-10-04T21:00:00",
                    "2025-10-04T22:00:00",
                    "2025-10-04T23:00:00",
                    "2025-10-05T00:00:00"
                  ],
                  "xaxis": "x4",
                  "y": [
                    1,
                    1,
                    1,
                    1,
                    1,
                    1,
                    1,
                    1,
                    1,
                    1,
                    1,
                    2,
                    2,
                    1,
                    1,
                    1,
                    1,
                    1,
                    1,
                    1,
                    1,
                    1,
                    1,
                    1,
                    1,
                    1,
                    1,
                    1,
                    1,
                    2,
                    1,
                    1,
                    2,
                    2,
                    2,
                    1,
                    1,
                    1,
                    1,
                    1,
                    1,
                    1,
                    1,
                    1,
                    1,
                    1,
                    1,
                    1,
                    1,
                    1,
                    1,
                    1,
                    1,
                    1,
                    1,
                    1,
                    1,
                    2,
                    2,
                    2,
                    1,
                    1,
                    1,
                    1,
                    1,
                    1,
                    1,
                    1,
                    1,
                    1,
                    1,
                    1,
                    1
                  ],
                  "yaxis": "y4"
                }
              ],
              "layout": {
                "annotations": [
                  {
                    "font": {
                      "size": 16
                    },
                    "showarrow": false,
                    "text": "Area 2 - 設定温度・予測室温",
                    "x": 0.5,
                    "xanchor": "center",
                    "xref": "paper",
                    "y": 1,
                    "yanchor": "bottom",
                    "yref": "paper"
                  },
                  {
                    "font": {
                      "size": 16
                    },
                    "showarrow": false,
                    "text": "Area 2 - 予測電力",
                    "x": 0.5,
                    "xanchor": "center",
                    "xref": "paper",
                    "y": 0.73,
                    "yanchor": "bottom",
                    "yref": "paper"
                  },
                  {
                    "font": {
                      "size": 16
                    },
                    "showarrow": false,
                    "text": "Area 2 - 運転モード",
                    "x": 0.5,
                    "xanchor": "center",
                    "xref": "paper",
                    "y": 0.46,
                    "yanchor": "bottom",
                    "yref": "paper"
                  },
                  {
                    "font": {
                      "size": 16
                    },
                    "showarrow": false,
                    "text": "Area 2 - ファン速度",
                    "x": 0.5,
                    "xanchor": "center",
                    "xref": "paper",
                    "y": 0.19,
                    "yanchor": "bottom",
                    "yref": "paper"
                  }
                ],
                "height": 800,
                "showlegend": true,
                "template": {
                  "data": {
                    "bar": [
                      {
                        "error_x": {
                          "color": "#2a3f5f"
                        },
                        "error_y": {
                          "color": "#2a3f5f"
                        },
                        "marker": {
                          "line": {
                            "color": "#E5ECF6",
                            "width": 0.5
                          },
                          "pattern": {
                            "fillmode": "overlay",
                            "size": 10,
                            "solidity": 0.2
                          }
                        },
                        "type": "bar"
                      }
                    ],
                    "barpolar": [
                      {
                        "marker": {
                          "line": {
                            "color": "#E5ECF6",
                            "width": 0.5
                          },
                          "pattern": {
                            "fillmode": "overlay",
                            "size": 10,
                            "solidity": 0.2
                          }
                        },
                        "type": "barpolar"
                      }
                    ],
                    "carpet": [
                      {
                        "aaxis": {
                          "endlinecolor": "#2a3f5f",
                          "gridcolor": "white",
                          "linecolor": "white",
                          "minorgridcolor": "white",
                          "startlinecolor": "#2a3f5f"
                        },
                        "baxis": {
                          "endlinecolor": "#2a3f5f",
                          "gridcolor": "white",
                          "linecolor": "white",
                          "minorgridcolor": "white",
                          "startlinecolor": "#2a3f5f"
                        },
                        "type": "carpet"
                      }
                    ],
                    "choropleth": [
                      {
                        "colorbar": {
                          "outlinewidth": 0,
                          "ticks": ""
                        },
                        "type": "choropleth"
                      }
                    ],
                    "contour": [
                      {
                        "colorbar": {
                          "outlinewidth": 0,
                          "ticks": ""
                        },
                        "colorscale": [
                          [
                            0,
                            "#0d0887"
                          ],
                          [
                            0.1111111111111111,
                            "#46039f"
                          ],
                          [
                            0.2222222222222222,
                            "#7201a8"
                          ],
                          [
                            0.3333333333333333,
                            "#9c179e"
                          ],
                          [
                            0.4444444444444444,
                            "#bd3786"
                          ],
                          [
                            0.5555555555555556,
                            "#d8576b"
                          ],
                          [
                            0.6666666666666666,
                            "#ed7953"
                          ],
                          [
                            0.7777777777777778,
                            "#fb9f3a"
                          ],
                          [
                            0.8888888888888888,
                            "#fdca26"
                          ],
                          [
                            1,
                            "#f0f921"
                          ]
                        ],
                        "type": "contour"
                      }
                    ],
                    "contourcarpet": [
                      {
                        "colorbar": {
                          "outlinewidth": 0,
                          "ticks": ""
                        },
                        "type": "contourcarpet"
                      }
                    ],
                    "heatmap": [
                      {
                        "colorbar": {
                          "outlinewidth": 0,
                          "ticks": ""
                        },
                        "colorscale": [
                          [
                            0,
                            "#0d0887"
                          ],
                          [
                            0.1111111111111111,
                            "#46039f"
                          ],
                          [
                            0.2222222222222222,
                            "#7201a8"
                          ],
                          [
                            0.3333333333333333,
                            "#9c179e"
                          ],
                          [
                            0.4444444444444444,
                            "#bd3786"
                          ],
                          [
                            0.5555555555555556,
                            "#d8576b"
                          ],
                          [
                            0.6666666666666666,
                            "#ed7953"
                          ],
                          [
                            0.7777777777777778,
                            "#fb9f3a"
                          ],
                          [
                            0.8888888888888888,
                            "#fdca26"
                          ],
                          [
                            1,
                            "#f0f921"
                          ]
                        ],
                        "type": "heatmap"
                      }
                    ],
                    "heatmapgl": [
                      {
                        "colorbar": {
                          "outlinewidth": 0,
                          "ticks": ""
                        },
                        "colorscale": [
                          [
                            0,
                            "#0d0887"
                          ],
                          [
                            0.1111111111111111,
                            "#46039f"
                          ],
                          [
                            0.2222222222222222,
                            "#7201a8"
                          ],
                          [
                            0.3333333333333333,
                            "#9c179e"
                          ],
                          [
                            0.4444444444444444,
                            "#bd3786"
                          ],
                          [
                            0.5555555555555556,
                            "#d8576b"
                          ],
                          [
                            0.6666666666666666,
                            "#ed7953"
                          ],
                          [
                            0.7777777777777778,
                            "#fb9f3a"
                          ],
                          [
                            0.8888888888888888,
                            "#fdca26"
                          ],
                          [
                            1,
                            "#f0f921"
                          ]
                        ],
                        "type": "heatmapgl"
                      }
                    ],
                    "histogram": [
                      {
                        "marker": {
                          "pattern": {
                            "fillmode": "overlay",
                            "size": 10,
                            "solidity": 0.2
                          }
                        },
                        "type": "histogram"
                      }
                    ],
                    "histogram2d": [
                      {
                        "colorbar": {
                          "outlinewidth": 0,
                          "ticks": ""
                        },
                        "colorscale": [
                          [
                            0,
                            "#0d0887"
                          ],
                          [
                            0.1111111111111111,
                            "#46039f"
                          ],
                          [
                            0.2222222222222222,
                            "#7201a8"
                          ],
                          [
                            0.3333333333333333,
                            "#9c179e"
                          ],
                          [
                            0.4444444444444444,
                            "#bd3786"
                          ],
                          [
                            0.5555555555555556,
                            "#d8576b"
                          ],
                          [
                            0.6666666666666666,
                            "#ed7953"
                          ],
                          [
                            0.7777777777777778,
                            "#fb9f3a"
                          ],
                          [
                            0.8888888888888888,
                            "#fdca26"
                          ],
                          [
                            1,
                            "#f0f921"
                          ]
                        ],
                        "type": "histogram2d"
                      }
                    ],
                    "histogram2dcontour": [
                      {
                        "colorbar": {
                          "outlinewidth": 0,
                          "ticks": ""
                        },
                        "colorscale": [
                          [
                            0,
                            "#0d0887"
                          ],
                          [
                            0.1111111111111111,
                            "#46039f"
                          ],
                          [
                            0.2222222222222222,
                            "#7201a8"
                          ],
                          [
                            0.3333333333333333,
                            "#9c179e"
                          ],
                          [
                            0.4444444444444444,
                            "#bd3786"
                          ],
                          [
                            0.5555555555555556,
                            "#d8576b"
                          ],
                          [
                            0.6666666666666666,
                            "#ed7953"
                          ],
                          [
                            0.7777777777777778,
                            "#fb9f3a"
                          ],
                          [
                            0.8888888888888888,
                            "#fdca26"
                          ],
                          [
                            1,
                            "#f0f921"
                          ]
                        ],
                        "type": "histogram2dcontour"
                      }
                    ],
                    "mesh3d": [
                      {
                        "colorbar": {
                          "outlinewidth": 0,
                          "ticks": ""
                        },
                        "type": "mesh3d"
                      }
                    ],
                    "parcoords": [
                      {
                        "line": {
                          "colorbar": {
                            "outlinewidth": 0,
                            "ticks": ""
                          }
                        },
                        "type": "parcoords"
                      }
                    ],
                    "pie": [
                      {
                        "automargin": true,
                        "type": "pie"
                      }
                    ],
                    "scatter": [
                      {
                        "fillpattern": {
                          "fillmode": "overlay",
                          "size": 10,
                          "solidity": 0.2
                        },
                        "type": "scatter"
                      }
                    ],
                    "scatter3d": [
                      {
                        "line": {
                          "colorbar": {
                            "outlinewidth": 0,
                            "ticks": ""
                          }
                        },
                        "marker": {
                          "colorbar": {
                            "outlinewidth": 0,
                            "ticks": ""
                          }
                        },
                        "type": "scatter3d"
                      }
                    ],
                    "scattercarpet": [
                      {
                        "marker": {
                          "colorbar": {
                            "outlinewidth": 0,
                            "ticks": ""
                          }
                        },
                        "type": "scattercarpet"
                      }
                    ],
                    "scattergeo": [
                      {
                        "marker": {
                          "colorbar": {
                            "outlinewidth": 0,
                            "ticks": ""
                          }
                        },
                        "type": "scattergeo"
                      }
                    ],
                    "scattergl": [
                      {
                        "marker": {
                          "colorbar": {
                            "outlinewidth": 0,
                            "ticks": ""
                          }
                        },
                        "type": "scattergl"
                      }
                    ],
                    "scattermapbox": [
                      {
                        "marker": {
                          "colorbar": {
                            "outlinewidth": 0,
                            "ticks": ""
                          }
                        },
                        "type": "scattermapbox"
                      }
                    ],
                    "scatterpolar": [
                      {
                        "marker": {
                          "colorbar": {
                            "outlinewidth": 0,
                            "ticks": ""
                          }
                        },
                        "type": "scatterpolar"
                      }
                    ],
                    "scatterpolargl": [
                      {
                        "marker": {
                          "colorbar": {
                            "outlinewidth": 0,
                            "ticks": ""
                          }
                        },
                        "type": "scatterpolargl"
                      }
                    ],
                    "scatterternary": [
                      {
                        "marker": {
                          "colorbar": {
                            "outlinewidth": 0,
                            "ticks": ""
                          }
                        },
                        "type": "scatterternary"
                      }
                    ],
                    "surface": [
                      {
                        "colorbar": {
                          "outlinewidth": 0,
                          "ticks": ""
                        },
                        "colorscale": [
                          [
                            0,
                            "#0d0887"
                          ],
                          [
                            0.1111111111111111,
                            "#46039f"
                          ],
                          [
                            0.2222222222222222,
                            "#7201a8"
                          ],
                          [
                            0.3333333333333333,
                            "#9c179e"
                          ],
                          [
                            0.4444444444444444,
                            "#bd3786"
                          ],
                          [
                            0.5555555555555556,
                            "#d8576b"
                          ],
                          [
                            0.6666666666666666,
                            "#ed7953"
                          ],
                          [
                            0.7777777777777778,
                            "#fb9f3a"
                          ],
                          [
                            0.8888888888888888,
                            "#fdca26"
                          ],
                          [
                            1,
                            "#f0f921"
                          ]
                        ],
                        "type": "surface"
                      }
                    ],
                    "table": [
                      {
                        "cells": {
                          "fill": {
                            "color": "#EBF0F8"
                          },
                          "line": {
                            "color": "white"
                          }
                        },
                        "header": {
                          "fill": {
                            "color": "#C8D4E3"
                          },
                          "line": {
                            "color": "white"
                          }
                        },
                        "type": "table"
                      }
                    ]
                  },
                  "layout": {
                    "annotationdefaults": {
                      "arrowcolor": "#2a3f5f",
                      "arrowhead": 0,
                      "arrowwidth": 1
                    },
                    "autotypenumbers": "strict",
                    "coloraxis": {
                      "colorbar": {
                        "outlinewidth": 0,
                        "ticks": ""
                      }
                    },
                    "colorscale": {
                      "diverging": [
                        [
                          0,
                          "#8e0152"
                        ],
                        [
                          0.1,
                          "#c51b7d"
                        ],
                        [
                          0.2,
                          "#de77ae"
                        ],
                        [
                          0.3,
                          "#f1b6da"
                        ],
                        [
                          0.4,
                          "#fde0ef"
                        ],
                        [
                          0.5,
                          "#f7f7f7"
                        ],
                        [
                          0.6,
                          "#e6f5d0"
                        ],
                        [
                          0.7,
                          "#b8e186"
                        ],
                        [
                          0.8,
                          "#7fbc41"
                        ],
                        [
                          0.9,
                          "#4d9221"
                        ],
                        [
                          1,
                          "#276419"
                        ]
                      ],
                      "sequential": [
                        [
                          0,
                          "#0d0887"
                        ],
                        [
                          0.1111111111111111,
                          "#46039f"
                        ],
                        [
                          0.2222222222222222,
                          "#7201a8"
                        ],
                        [
                          0.3333333333333333,
                          "#9c179e"
                        ],
                        [
                          0.4444444444444444,
                          "#bd3786"
                        ],
                        [
                          0.5555555555555556,
                          "#d8576b"
                        ],
                        [
                          0.6666666666666666,
                          "#ed7953"
                        ],
                        [
                          0.7777777777777778,
                          "#fb9f3a"
                        ],
                        [
                          0.8888888888888888,
                          "#fdca26"
                        ],
                        [
                          1,
                          "#f0f921"
                        ]
                      ],
                      "sequentialminus": [
                        [
                          0,
                          "#0d0887"
                        ],
                        [
                          0.1111111111111111,
                          "#46039f"
                        ],
                        [
                          0.2222222222222222,
                          "#7201a8"
                        ],
                        [
                          0.3333333333333333,
                          "#9c179e"
                        ],
                        [
                          0.4444444444444444,
                          "#bd3786"
                        ],
                        [
                          0.5555555555555556,
                          "#d8576b"
                        ],
                        [
                          0.6666666666666666,
                          "#ed7953"
                        ],
                        [
                          0.7777777777777778,
                          "#fb9f3a"
                        ],
                        [
                          0.8888888888888888,
                          "#fdca26"
                        ],
                        [
                          1,
                          "#f0f921"
                        ]
                      ]
                    },
                    "colorway": [
                      "#636efa",
                      "#EF553B",
                      "#00cc96",
                      "#ab63fa",
                      "#FFA15A",
                      "#19d3f3",
                      "#FF6692",
                      "#B6E880",
                      "#FF97FF",
                      "#FECB52"
                    ],
                    "font": {
                      "color": "#2a3f5f"
                    },
                    "geo": {
                      "bgcolor": "white",
                      "lakecolor": "white",
                      "landcolor": "#E5ECF6",
                      "showlakes": true,
                      "showland": true,
                      "subunitcolor": "white"
                    },
                    "hoverlabel": {
                      "align": "left"
                    },
                    "hovermode": "closest",
                    "mapbox": {
                      "style": "light"
                    },
                    "paper_bgcolor": "white",
                    "plot_bgcolor": "#E5ECF6",
                    "polar": {
                      "angularaxis": {
                        "gridcolor": "white",
                        "linecolor": "white",
                        "ticks": ""
                      },
                      "bgcolor": "#E5ECF6",
                      "radialaxis": {
                        "gridcolor": "white",
                        "linecolor": "white",
                        "ticks": ""
                      }
                    },
                    "scene": {
                      "xaxis": {
                        "backgroundcolor": "#E5ECF6",
                        "gridcolor": "white",
                        "gridwidth": 2,
                        "linecolor": "white",
                        "showbackground": true,
                        "ticks": "",
                        "zerolinecolor": "white"
                      },
                      "yaxis": {
                        "backgroundcolor": "#E5ECF6",
                        "gridcolor": "white",
                        "gridwidth": 2,
                        "linecolor": "white",
                        "showbackground": true,
                        "ticks": "",
                        "zerolinecolor": "white"
                      },
                      "zaxis": {
                        "backgroundcolor": "#E5ECF6",
                        "gridcolor": "white",
                        "gridwidth": 2,
                        "linecolor": "white",
                        "showbackground": true,
                        "ticks": "",
                        "zerolinecolor": "white"
                      }
                    },
                    "shapedefaults": {
                      "line": {
                        "color": "#2a3f5f"
                      }
                    },
                    "ternary": {
                      "aaxis": {
                        "gridcolor": "white",
                        "linecolor": "white",
                        "ticks": ""
                      },
                      "baxis": {
                        "gridcolor": "white",
                        "linecolor": "white",
                        "ticks": ""
                      },
                      "bgcolor": "#E5ECF6",
                      "caxis": {
                        "gridcolor": "white",
                        "linecolor": "white",
                        "ticks": ""
                      }
                    },
                    "title": {
                      "x": 0.05
                    },
                    "xaxis": {
                      "automargin": true,
                      "gridcolor": "white",
                      "linecolor": "white",
                      "ticks": "",
                      "title": {
                        "standoff": 15
                      },
                      "zerolinecolor": "white",
                      "zerolinewidth": 2
                    },
                    "yaxis": {
                      "automargin": true,
                      "gridcolor": "white",
                      "linecolor": "white",
                      "ticks": "",
                      "title": {
                        "standoff": 15
                      },
                      "zerolinecolor": "white",
                      "zerolinewidth": 2
                    }
                  }
                },
                "title": {
                  "text": "Area 2 最適化結果"
                },
                "xaxis": {
                  "anchor": "y",
                  "domain": [
                    0,
                    1
                  ]
                },
                "xaxis2": {
                  "anchor": "y2",
                  "domain": [
                    0,
                    1
                  ]
                },
                "xaxis3": {
                  "anchor": "y3",
                  "domain": [
                    0,
                    1
                  ]
                },
                "xaxis4": {
                  "anchor": "y4",
                  "domain": [
                    0,
                    1
                  ],
                  "title": {
                    "text": "時刻"
                  }
                },
                "yaxis": {
                  "anchor": "x",
                  "domain": [
                    0.81,
                    1
                  ],
                  "title": {
                    "text": "温度 (°C)"
                  }
                },
                "yaxis2": {
                  "anchor": "x2",
                  "domain": [
                    0.54,
                    0.73
                  ],
                  "title": {
                    "text": "電力 (W)"
                  }
                },
                "yaxis3": {
                  "anchor": "x3",
                  "domain": [
                    0.27,
                    0.46
                  ],
                  "title": {
                    "text": "モード"
                  }
                },
                "yaxis4": {
                  "anchor": "x4",
                  "domain": [
                    0,
                    0.19
                  ],
                  "title": {
                    "text": "ファン速度"
                  }
                }
              }
            }
          },
          "metadata": {},
          "output_type": "display_data"
        },
        {
          "name": "stdout",
          "output_type": "stream",
          "text": [
            "✅ Area 2 の可視化完了\n"
          ]
        },
        {
          "data": {
            "application/vnd.plotly.v1+json": {
              "config": {
                "plotlyServerURL": "https://plot.ly"
              },
              "data": [
                {
                  "line": {
                    "color": "red",
                    "width": 2
                  },
                  "name": "設定温度",
                  "type": "scatter",
                  "x": [
                    "2025-10-02T00:00:00",
                    "2025-10-02T01:00:00",
                    "2025-10-02T02:00:00",
                    "2025-10-02T03:00:00",
                    "2025-10-02T04:00:00",
                    "2025-10-02T05:00:00",
                    "2025-10-02T06:00:00",
                    "2025-10-02T07:00:00",
                    "2025-10-02T08:00:00",
                    "2025-10-02T09:00:00",
                    "2025-10-02T10:00:00",
                    "2025-10-02T11:00:00",
                    "2025-10-02T12:00:00",
                    "2025-10-02T13:00:00",
                    "2025-10-02T14:00:00",
                    "2025-10-02T15:00:00",
                    "2025-10-02T16:00:00",
                    "2025-10-02T17:00:00",
                    "2025-10-02T18:00:00",
                    "2025-10-02T19:00:00",
                    "2025-10-02T20:00:00",
                    "2025-10-02T21:00:00",
                    "2025-10-02T22:00:00",
                    "2025-10-02T23:00:00",
                    "2025-10-03T00:00:00",
                    "2025-10-03T01:00:00",
                    "2025-10-03T02:00:00",
                    "2025-10-03T03:00:00",
                    "2025-10-03T04:00:00",
                    "2025-10-03T05:00:00",
                    "2025-10-03T06:00:00",
                    "2025-10-03T07:00:00",
                    "2025-10-03T08:00:00",
                    "2025-10-03T09:00:00",
                    "2025-10-03T10:00:00",
                    "2025-10-03T11:00:00",
                    "2025-10-03T12:00:00",
                    "2025-10-03T13:00:00",
                    "2025-10-03T14:00:00",
                    "2025-10-03T15:00:00",
                    "2025-10-03T16:00:00",
                    "2025-10-03T17:00:00",
                    "2025-10-03T18:00:00",
                    "2025-10-03T19:00:00",
                    "2025-10-03T20:00:00",
                    "2025-10-03T21:00:00",
                    "2025-10-03T22:00:00",
                    "2025-10-03T23:00:00",
                    "2025-10-04T00:00:00",
                    "2025-10-04T01:00:00",
                    "2025-10-04T02:00:00",
                    "2025-10-04T03:00:00",
                    "2025-10-04T04:00:00",
                    "2025-10-04T05:00:00",
                    "2025-10-04T06:00:00",
                    "2025-10-04T07:00:00",
                    "2025-10-04T08:00:00",
                    "2025-10-04T09:00:00",
                    "2025-10-04T10:00:00",
                    "2025-10-04T11:00:00",
                    "2025-10-04T12:00:00",
                    "2025-10-04T13:00:00",
                    "2025-10-04T14:00:00",
                    "2025-10-04T15:00:00",
                    "2025-10-04T16:00:00",
                    "2025-10-04T17:00:00",
                    "2025-10-04T18:00:00",
                    "2025-10-04T19:00:00",
                    "2025-10-04T20:00:00",
                    "2025-10-04T21:00:00",
                    "2025-10-04T22:00:00",
                    "2025-10-04T23:00:00",
                    "2025-10-05T00:00:00"
                  ],
                  "xaxis": "x",
                  "y": [
                    25,
                    25,
                    25,
                    25,
                    24,
                    25,
                    25,
                    25,
                    25,
                    25,
                    26,
                    26,
                    26,
                    26,
                    26,
                    26,
                    26,
                    26,
                    26,
                    26,
                    26,
                    25,
                    26,
                    26,
                    25,
                    25,
                    25,
                    25,
                    25,
                    25,
                    25,
                    25,
                    25,
                    25,
                    26,
                    26,
                    26,
                    26,
                    26,
                    26,
                    26,
                    26,
                    26,
                    26,
                    26,
                    25,
                    26,
                    26,
                    24,
                    24,
                    24,
                    24,
                    24,
                    24,
                    26,
                    25,
                    25,
                    25,
                    26,
                    26,
                    26,
                    26,
                    26,
                    26,
                    26,
                    26,
                    26,
                    26,
                    26,
                    25,
                    26,
                    26,
                    24
                  ],
                  "yaxis": "y"
                },
                {
                  "line": {
                    "color": "blue",
                    "width": 2
                  },
                  "name": "予測室温",
                  "type": "scatter",
                  "x": [
                    "2025-10-02T00:00:00",
                    "2025-10-02T01:00:00",
                    "2025-10-02T02:00:00",
                    "2025-10-02T03:00:00",
                    "2025-10-02T04:00:00",
                    "2025-10-02T05:00:00",
                    "2025-10-02T06:00:00",
                    "2025-10-02T07:00:00",
                    "2025-10-02T08:00:00",
                    "2025-10-02T09:00:00",
                    "2025-10-02T10:00:00",
                    "2025-10-02T11:00:00",
                    "2025-10-02T12:00:00",
                    "2025-10-02T13:00:00",
                    "2025-10-02T14:00:00",
                    "2025-10-02T15:00:00",
                    "2025-10-02T16:00:00",
                    "2025-10-02T17:00:00",
                    "2025-10-02T18:00:00",
                    "2025-10-02T19:00:00",
                    "2025-10-02T20:00:00",
                    "2025-10-02T21:00:00",
                    "2025-10-02T22:00:00",
                    "2025-10-02T23:00:00",
                    "2025-10-03T00:00:00",
                    "2025-10-03T01:00:00",
                    "2025-10-03T02:00:00",
                    "2025-10-03T03:00:00",
                    "2025-10-03T04:00:00",
                    "2025-10-03T05:00:00",
                    "2025-10-03T06:00:00",
                    "2025-10-03T07:00:00",
                    "2025-10-03T08:00:00",
                    "2025-10-03T09:00:00",
                    "2025-10-03T10:00:00",
                    "2025-10-03T11:00:00",
                    "2025-10-03T12:00:00",
                    "2025-10-03T13:00:00",
                    "2025-10-03T14:00:00",
                    "2025-10-03T15:00:00",
                    "2025-10-03T16:00:00",
                    "2025-10-03T17:00:00",
                    "2025-10-03T18:00:00",
                    "2025-10-03T19:00:00",
                    "2025-10-03T20:00:00",
                    "2025-10-03T21:00:00",
                    "2025-10-03T22:00:00",
                    "2025-10-03T23:00:00",
                    "2025-10-04T00:00:00",
                    "2025-10-04T01:00:00",
                    "2025-10-04T02:00:00",
                    "2025-10-04T03:00:00",
                    "2025-10-04T04:00:00",
                    "2025-10-04T05:00:00",
                    "2025-10-04T06:00:00",
                    "2025-10-04T07:00:00",
                    "2025-10-04T08:00:00",
                    "2025-10-04T09:00:00",
                    "2025-10-04T10:00:00",
                    "2025-10-04T11:00:00",
                    "2025-10-04T12:00:00",
                    "2025-10-04T13:00:00",
                    "2025-10-04T14:00:00",
                    "2025-10-04T15:00:00",
                    "2025-10-04T16:00:00",
                    "2025-10-04T17:00:00",
                    "2025-10-04T18:00:00",
                    "2025-10-04T19:00:00",
                    "2025-10-04T20:00:00",
                    "2025-10-04T21:00:00",
                    "2025-10-04T22:00:00",
                    "2025-10-04T23:00:00",
                    "2025-10-05T00:00:00"
                  ],
                  "xaxis": "x",
                  "y": [
                    22.69050000000001,
                    23.051000000000016,
                    25.122999999999998,
                    26.494499999999988,
                    27.990500000000058,
                    28.31700000000003,
                    27.868499999999944,
                    27.068000000000012,
                    26.024499999999986,
                    25.150499999999994,
                    24.206499999999988,
                    23.526000000000007,
                    23.416499999999992,
                    22.804000000000002,
                    21.998999999999988,
                    20.6525,
                    23.837500000000013,
                    22.97050000000002,
                    22.62950000000001,
                    22.242499999999996,
                    21.93499999999999,
                    21.480499999999996,
                    21.410999999999994,
                    21.42949999999999,
                    22.422500000000017,
                    22.505000000000024,
                    24.100999999999996,
                    25.98150000000001,
                    26.85100000000001,
                    27.70149999999999,
                    27.566999999999993,
                    26.95700000000001,
                    25.832999999999984,
                    24.93999999999999,
                    24.100499999999993,
                    23.304499999999983,
                    22.985999999999986,
                    22.310499999999994,
                    21.005,
                    21.95550000000001,
                    20.576000000000004,
                    23.73400000000002,
                    22.95250000000002,
                    22.7245,
                    22.570999999999994,
                    22.0485,
                    21.726499999999977,
                    21.985999999999986,
                    22.40500000000002,
                    22.180000000000028,
                    22.877500000000012,
                    23.918000000000017,
                    24.23200000000002,
                    24.9905,
                    24.945000000000007,
                    24.473000000000006,
                    23.682000000000002,
                    23.27049999999999,
                    23.32099999999999,
                    23.038999999999984,
                    22.34299999999998,
                    20.997000000000007,
                    21.919,
                    20.523999999999997,
                    23.69650000000001,
                    22.79550000000002,
                    22.3275,
                    22.08949999999999,
                    21.856499999999986,
                    21.45299999999999,
                    21.076999999999984,
                    21.231499999999983,
                    21.819000000000013
                  ],
                  "yaxis": "y"
                },
                {
                  "line": {
                    "color": "green",
                    "width": 2
                  },
                  "name": "予測電力",
                  "type": "scatter",
                  "x": [
                    "2025-10-02T00:00:00",
                    "2025-10-02T01:00:00",
                    "2025-10-02T02:00:00",
                    "2025-10-02T03:00:00",
                    "2025-10-02T04:00:00",
                    "2025-10-02T05:00:00",
                    "2025-10-02T06:00:00",
                    "2025-10-02T07:00:00",
                    "2025-10-02T08:00:00",
                    "2025-10-02T09:00:00",
                    "2025-10-02T10:00:00",
                    "2025-10-02T11:00:00",
                    "2025-10-02T12:00:00",
                    "2025-10-02T13:00:00",
                    "2025-10-02T14:00:00",
                    "2025-10-02T15:00:00",
                    "2025-10-02T16:00:00",
                    "2025-10-02T17:00:00",
                    "2025-10-02T18:00:00",
                    "2025-10-02T19:00:00",
                    "2025-10-02T20:00:00",
                    "2025-10-02T21:00:00",
                    "2025-10-02T22:00:00",
                    "2025-10-02T23:00:00",
                    "2025-10-03T00:00:00",
                    "2025-10-03T01:00:00",
                    "2025-10-03T02:00:00",
                    "2025-10-03T03:00:00",
                    "2025-10-03T04:00:00",
                    "2025-10-03T05:00:00",
                    "2025-10-03T06:00:00",
                    "2025-10-03T07:00:00",
                    "2025-10-03T08:00:00",
                    "2025-10-03T09:00:00",
                    "2025-10-03T10:00:00",
                    "2025-10-03T11:00:00",
                    "2025-10-03T12:00:00",
                    "2025-10-03T13:00:00",
                    "2025-10-03T14:00:00",
                    "2025-10-03T15:00:00",
                    "2025-10-03T16:00:00",
                    "2025-10-03T17:00:00",
                    "2025-10-03T18:00:00",
                    "2025-10-03T19:00:00",
                    "2025-10-03T20:00:00",
                    "2025-10-03T21:00:00",
                    "2025-10-03T22:00:00",
                    "2025-10-03T23:00:00",
                    "2025-10-04T00:00:00",
                    "2025-10-04T01:00:00",
                    "2025-10-04T02:00:00",
                    "2025-10-04T03:00:00",
                    "2025-10-04T04:00:00",
                    "2025-10-04T05:00:00",
                    "2025-10-04T06:00:00",
                    "2025-10-04T07:00:00",
                    "2025-10-04T08:00:00",
                    "2025-10-04T09:00:00",
                    "2025-10-04T10:00:00",
                    "2025-10-04T11:00:00",
                    "2025-10-04T12:00:00",
                    "2025-10-04T13:00:00",
                    "2025-10-04T14:00:00",
                    "2025-10-04T15:00:00",
                    "2025-10-04T16:00:00",
                    "2025-10-04T17:00:00",
                    "2025-10-04T18:00:00",
                    "2025-10-04T19:00:00",
                    "2025-10-04T20:00:00",
                    "2025-10-04T21:00:00",
                    "2025-10-04T22:00:00",
                    "2025-10-04T23:00:00",
                    "2025-10-05T00:00:00"
                  ],
                  "xaxis": "x2",
                  "y": [
                    692343.4,
                    429249.8,
                    251680.8,
                    266995.4,
                    235562.6,
                    248147.2,
                    237687.8,
                    966273,
                    865786.6,
                    758217.6,
                    747395.6,
                    784504,
                    744392.6,
                    820248.8,
                    1937588.8,
                    1907456.6,
                    1940485.4,
                    1776474,
                    2159092.6,
                    2350819.8,
                    2326468.2,
                    709874.2,
                    1398138,
                    1393506.8,
                    751028.6,
                    694824.2,
                    276320.8,
                    227099.6,
                    248551.8,
                    235660.6,
                    244427.4,
                    1094807,
                    900005.4,
                    825818,
                    643909,
                    706272,
                    812802.2,
                    1322731.2,
                    1932089.6,
                    1864734.2,
                    1786362.2,
                    2022433,
                    2118243.4,
                    2381941.8,
                    2056740,
                    491877.4,
                    1478902.6,
                    1180230.8,
                    380357.6,
                    381603.6,
                    242043.2,
                    222159,
                    226109.8,
                    228319,
                    224102.2,
                    1070865.6,
                    879223.8,
                    773031,
                    779052.4,
                    839116.6,
                    857862.6,
                    842020.2,
                    1270966.2,
                    1839670,
                    1936846.8,
                    1907934,
                    2056577.6,
                    2385712,
                    2321292.4,
                    402465,
                    1069485.2,
                    508867.8,
                    548129.4
                  ],
                  "yaxis": "y2"
                },
                {
                  "marker": {
                    "color": "orange",
                    "size": 6
                  },
                  "mode": "markers",
                  "name": "運転モード",
                  "type": "scatter",
                  "x": [
                    "2025-10-02T00:00:00",
                    "2025-10-02T01:00:00",
                    "2025-10-02T02:00:00",
                    "2025-10-02T03:00:00",
                    "2025-10-02T04:00:00",
                    "2025-10-02T05:00:00",
                    "2025-10-02T06:00:00",
                    "2025-10-02T07:00:00",
                    "2025-10-02T08:00:00",
                    "2025-10-02T09:00:00",
                    "2025-10-02T10:00:00",
                    "2025-10-02T11:00:00",
                    "2025-10-02T12:00:00",
                    "2025-10-02T13:00:00",
                    "2025-10-02T14:00:00",
                    "2025-10-02T15:00:00",
                    "2025-10-02T16:00:00",
                    "2025-10-02T17:00:00",
                    "2025-10-02T18:00:00",
                    "2025-10-02T19:00:00",
                    "2025-10-02T20:00:00",
                    "2025-10-02T21:00:00",
                    "2025-10-02T22:00:00",
                    "2025-10-02T23:00:00",
                    "2025-10-03T00:00:00",
                    "2025-10-03T01:00:00",
                    "2025-10-03T02:00:00",
                    "2025-10-03T03:00:00",
                    "2025-10-03T04:00:00",
                    "2025-10-03T05:00:00",
                    "2025-10-03T06:00:00",
                    "2025-10-03T07:00:00",
                    "2025-10-03T08:00:00",
                    "2025-10-03T09:00:00",
                    "2025-10-03T10:00:00",
                    "2025-10-03T11:00:00",
                    "2025-10-03T12:00:00",
                    "2025-10-03T13:00:00",
                    "2025-10-03T14:00:00",
                    "2025-10-03T15:00:00",
                    "2025-10-03T16:00:00",
                    "2025-10-03T17:00:00",
                    "2025-10-03T18:00:00",
                    "2025-10-03T19:00:00",
                    "2025-10-03T20:00:00",
                    "2025-10-03T21:00:00",
                    "2025-10-03T22:00:00",
                    "2025-10-03T23:00:00",
                    "2025-10-04T00:00:00",
                    "2025-10-04T01:00:00",
                    "2025-10-04T02:00:00",
                    "2025-10-04T03:00:00",
                    "2025-10-04T04:00:00",
                    "2025-10-04T05:00:00",
                    "2025-10-04T06:00:00",
                    "2025-10-04T07:00:00",
                    "2025-10-04T08:00:00",
                    "2025-10-04T09:00:00",
                    "2025-10-04T10:00:00",
                    "2025-10-04T11:00:00",
                    "2025-10-04T12:00:00",
                    "2025-10-04T13:00:00",
                    "2025-10-04T14:00:00",
                    "2025-10-04T15:00:00",
                    "2025-10-04T16:00:00",
                    "2025-10-04T17:00:00",
                    "2025-10-04T18:00:00",
                    "2025-10-04T19:00:00",
                    "2025-10-04T20:00:00",
                    "2025-10-04T21:00:00",
                    "2025-10-04T22:00:00",
                    "2025-10-04T23:00:00",
                    "2025-10-05T00:00:00"
                  ],
                  "xaxis": "x3",
                  "y": [
                    2,
                    2,
                    2,
                    2,
                    2,
                    2,
                    2,
                    2,
                    2,
                    2,
                    0,
                    0,
                    0,
                    0,
                    0,
                    0,
                    0,
                    0,
                    0,
                    0,
                    0,
                    2,
                    2,
                    0,
                    2,
                    2,
                    2,
                    2,
                    2,
                    2,
                    2,
                    2,
                    2,
                    2,
                    0,
                    0,
                    0,
                    0,
                    0,
                    0,
                    0,
                    0,
                    0,
                    0,
                    0,
                    2,
                    0,
                    0,
                    2,
                    2,
                    2,
                    2,
                    2,
                    2,
                    2,
                    2,
                    2,
                    2,
                    0,
                    0,
                    0,
                    0,
                    0,
                    0,
                    0,
                    0,
                    0,
                    0,
                    0,
                    2,
                    0,
                    0,
                    2
                  ],
                  "yaxis": "y3"
                },
                {
                  "marker": {
                    "color": "purple",
                    "size": 6
                  },
                  "mode": "markers",
                  "name": "ファン速度",
                  "type": "scatter",
                  "x": [
                    "2025-10-02T00:00:00",
                    "2025-10-02T01:00:00",
                    "2025-10-02T02:00:00",
                    "2025-10-02T03:00:00",
                    "2025-10-02T04:00:00",
                    "2025-10-02T05:00:00",
                    "2025-10-02T06:00:00",
                    "2025-10-02T07:00:00",
                    "2025-10-02T08:00:00",
                    "2025-10-02T09:00:00",
                    "2025-10-02T10:00:00",
                    "2025-10-02T11:00:00",
                    "2025-10-02T12:00:00",
                    "2025-10-02T13:00:00",
                    "2025-10-02T14:00:00",
                    "2025-10-02T15:00:00",
                    "2025-10-02T16:00:00",
                    "2025-10-02T17:00:00",
                    "2025-10-02T18:00:00",
                    "2025-10-02T19:00:00",
                    "2025-10-02T20:00:00",
                    "2025-10-02T21:00:00",
                    "2025-10-02T22:00:00",
                    "2025-10-02T23:00:00",
                    "2025-10-03T00:00:00",
                    "2025-10-03T01:00:00",
                    "2025-10-03T02:00:00",
                    "2025-10-03T03:00:00",
                    "2025-10-03T04:00:00",
                    "2025-10-03T05:00:00",
                    "2025-10-03T06:00:00",
                    "2025-10-03T07:00:00",
                    "2025-10-03T08:00:00",
                    "2025-10-03T09:00:00",
                    "2025-10-03T10:00:00",
                    "2025-10-03T11:00:00",
                    "2025-10-03T12:00:00",
                    "2025-10-03T13:00:00",
                    "2025-10-03T14:00:00",
                    "2025-10-03T15:00:00",
                    "2025-10-03T16:00:00",
                    "2025-10-03T17:00:00",
                    "2025-10-03T18:00:00",
                    "2025-10-03T19:00:00",
                    "2025-10-03T20:00:00",
                    "2025-10-03T21:00:00",
                    "2025-10-03T22:00:00",
                    "2025-10-03T23:00:00",
                    "2025-10-04T00:00:00",
                    "2025-10-04T01:00:00",
                    "2025-10-04T02:00:00",
                    "2025-10-04T03:00:00",
                    "2025-10-04T04:00:00",
                    "2025-10-04T05:00:00",
                    "2025-10-04T06:00:00",
                    "2025-10-04T07:00:00",
                    "2025-10-04T08:00:00",
                    "2025-10-04T09:00:00",
                    "2025-10-04T10:00:00",
                    "2025-10-04T11:00:00",
                    "2025-10-04T12:00:00",
                    "2025-10-04T13:00:00",
                    "2025-10-04T14:00:00",
                    "2025-10-04T15:00:00",
                    "2025-10-04T16:00:00",
                    "2025-10-04T17:00:00",
                    "2025-10-04T18:00:00",
                    "2025-10-04T19:00:00",
                    "2025-10-04T20:00:00",
                    "2025-10-04T21:00:00",
                    "2025-10-04T22:00:00",
                    "2025-10-04T23:00:00",
                    "2025-10-05T00:00:00"
                  ],
                  "xaxis": "x4",
                  "y": [
                    1,
                    1,
                    1,
                    1,
                    1,
                    1,
                    2,
                    2,
                    1,
                    1,
                    1,
                    1,
                    1,
                    1,
                    2,
                    2,
                    2,
                    2,
                    2,
                    2,
                    2,
                    1,
                    1,
                    1,
                    1,
                    1,
                    1,
                    1,
                    2,
                    1,
                    1,
                    2,
                    2,
                    1,
                    2,
                    1,
                    1,
                    1,
                    2,
                    2,
                    2,
                    2,
                    2,
                    2,
                    2,
                    1,
                    1,
                    1,
                    1,
                    1,
                    1,
                    1,
                    3,
                    1,
                    1,
                    2,
                    2,
                    1,
                    1,
                    1,
                    1,
                    1,
                    2,
                    2,
                    2,
                    2,
                    2,
                    2,
                    2,
                    1,
                    1,
                    1,
                    1
                  ],
                  "yaxis": "y4"
                }
              ],
              "layout": {
                "annotations": [
                  {
                    "font": {
                      "size": 16
                    },
                    "showarrow": false,
                    "text": "Area 1 - 設定温度・予測室温",
                    "x": 0.5,
                    "xanchor": "center",
                    "xref": "paper",
                    "y": 1,
                    "yanchor": "bottom",
                    "yref": "paper"
                  },
                  {
                    "font": {
                      "size": 16
                    },
                    "showarrow": false,
                    "text": "Area 1 - 予測電力",
                    "x": 0.5,
                    "xanchor": "center",
                    "xref": "paper",
                    "y": 0.73,
                    "yanchor": "bottom",
                    "yref": "paper"
                  },
                  {
                    "font": {
                      "size": 16
                    },
                    "showarrow": false,
                    "text": "Area 1 - 運転モード",
                    "x": 0.5,
                    "xanchor": "center",
                    "xref": "paper",
                    "y": 0.46,
                    "yanchor": "bottom",
                    "yref": "paper"
                  },
                  {
                    "font": {
                      "size": 16
                    },
                    "showarrow": false,
                    "text": "Area 1 - ファン速度",
                    "x": 0.5,
                    "xanchor": "center",
                    "xref": "paper",
                    "y": 0.19,
                    "yanchor": "bottom",
                    "yref": "paper"
                  }
                ],
                "height": 800,
                "showlegend": true,
                "template": {
                  "data": {
                    "bar": [
                      {
                        "error_x": {
                          "color": "#2a3f5f"
                        },
                        "error_y": {
                          "color": "#2a3f5f"
                        },
                        "marker": {
                          "line": {
                            "color": "#E5ECF6",
                            "width": 0.5
                          },
                          "pattern": {
                            "fillmode": "overlay",
                            "size": 10,
                            "solidity": 0.2
                          }
                        },
                        "type": "bar"
                      }
                    ],
                    "barpolar": [
                      {
                        "marker": {
                          "line": {
                            "color": "#E5ECF6",
                            "width": 0.5
                          },
                          "pattern": {
                            "fillmode": "overlay",
                            "size": 10,
                            "solidity": 0.2
                          }
                        },
                        "type": "barpolar"
                      }
                    ],
                    "carpet": [
                      {
                        "aaxis": {
                          "endlinecolor": "#2a3f5f",
                          "gridcolor": "white",
                          "linecolor": "white",
                          "minorgridcolor": "white",
                          "startlinecolor": "#2a3f5f"
                        },
                        "baxis": {
                          "endlinecolor": "#2a3f5f",
                          "gridcolor": "white",
                          "linecolor": "white",
                          "minorgridcolor": "white",
                          "startlinecolor": "#2a3f5f"
                        },
                        "type": "carpet"
                      }
                    ],
                    "choropleth": [
                      {
                        "colorbar": {
                          "outlinewidth": 0,
                          "ticks": ""
                        },
                        "type": "choropleth"
                      }
                    ],
                    "contour": [
                      {
                        "colorbar": {
                          "outlinewidth": 0,
                          "ticks": ""
                        },
                        "colorscale": [
                          [
                            0,
                            "#0d0887"
                          ],
                          [
                            0.1111111111111111,
                            "#46039f"
                          ],
                          [
                            0.2222222222222222,
                            "#7201a8"
                          ],
                          [
                            0.3333333333333333,
                            "#9c179e"
                          ],
                          [
                            0.4444444444444444,
                            "#bd3786"
                          ],
                          [
                            0.5555555555555556,
                            "#d8576b"
                          ],
                          [
                            0.6666666666666666,
                            "#ed7953"
                          ],
                          [
                            0.7777777777777778,
                            "#fb9f3a"
                          ],
                          [
                            0.8888888888888888,
                            "#fdca26"
                          ],
                          [
                            1,
                            "#f0f921"
                          ]
                        ],
                        "type": "contour"
                      }
                    ],
                    "contourcarpet": [
                      {
                        "colorbar": {
                          "outlinewidth": 0,
                          "ticks": ""
                        },
                        "type": "contourcarpet"
                      }
                    ],
                    "heatmap": [
                      {
                        "colorbar": {
                          "outlinewidth": 0,
                          "ticks": ""
                        },
                        "colorscale": [
                          [
                            0,
                            "#0d0887"
                          ],
                          [
                            0.1111111111111111,
                            "#46039f"
                          ],
                          [
                            0.2222222222222222,
                            "#7201a8"
                          ],
                          [
                            0.3333333333333333,
                            "#9c179e"
                          ],
                          [
                            0.4444444444444444,
                            "#bd3786"
                          ],
                          [
                            0.5555555555555556,
                            "#d8576b"
                          ],
                          [
                            0.6666666666666666,
                            "#ed7953"
                          ],
                          [
                            0.7777777777777778,
                            "#fb9f3a"
                          ],
                          [
                            0.8888888888888888,
                            "#fdca26"
                          ],
                          [
                            1,
                            "#f0f921"
                          ]
                        ],
                        "type": "heatmap"
                      }
                    ],
                    "heatmapgl": [
                      {
                        "colorbar": {
                          "outlinewidth": 0,
                          "ticks": ""
                        },
                        "colorscale": [
                          [
                            0,
                            "#0d0887"
                          ],
                          [
                            0.1111111111111111,
                            "#46039f"
                          ],
                          [
                            0.2222222222222222,
                            "#7201a8"
                          ],
                          [
                            0.3333333333333333,
                            "#9c179e"
                          ],
                          [
                            0.4444444444444444,
                            "#bd3786"
                          ],
                          [
                            0.5555555555555556,
                            "#d8576b"
                          ],
                          [
                            0.6666666666666666,
                            "#ed7953"
                          ],
                          [
                            0.7777777777777778,
                            "#fb9f3a"
                          ],
                          [
                            0.8888888888888888,
                            "#fdca26"
                          ],
                          [
                            1,
                            "#f0f921"
                          ]
                        ],
                        "type": "heatmapgl"
                      }
                    ],
                    "histogram": [
                      {
                        "marker": {
                          "pattern": {
                            "fillmode": "overlay",
                            "size": 10,
                            "solidity": 0.2
                          }
                        },
                        "type": "histogram"
                      }
                    ],
                    "histogram2d": [
                      {
                        "colorbar": {
                          "outlinewidth": 0,
                          "ticks": ""
                        },
                        "colorscale": [
                          [
                            0,
                            "#0d0887"
                          ],
                          [
                            0.1111111111111111,
                            "#46039f"
                          ],
                          [
                            0.2222222222222222,
                            "#7201a8"
                          ],
                          [
                            0.3333333333333333,
                            "#9c179e"
                          ],
                          [
                            0.4444444444444444,
                            "#bd3786"
                          ],
                          [
                            0.5555555555555556,
                            "#d8576b"
                          ],
                          [
                            0.6666666666666666,
                            "#ed7953"
                          ],
                          [
                            0.7777777777777778,
                            "#fb9f3a"
                          ],
                          [
                            0.8888888888888888,
                            "#fdca26"
                          ],
                          [
                            1,
                            "#f0f921"
                          ]
                        ],
                        "type": "histogram2d"
                      }
                    ],
                    "histogram2dcontour": [
                      {
                        "colorbar": {
                          "outlinewidth": 0,
                          "ticks": ""
                        },
                        "colorscale": [
                          [
                            0,
                            "#0d0887"
                          ],
                          [
                            0.1111111111111111,
                            "#46039f"
                          ],
                          [
                            0.2222222222222222,
                            "#7201a8"
                          ],
                          [
                            0.3333333333333333,
                            "#9c179e"
                          ],
                          [
                            0.4444444444444444,
                            "#bd3786"
                          ],
                          [
                            0.5555555555555556,
                            "#d8576b"
                          ],
                          [
                            0.6666666666666666,
                            "#ed7953"
                          ],
                          [
                            0.7777777777777778,
                            "#fb9f3a"
                          ],
                          [
                            0.8888888888888888,
                            "#fdca26"
                          ],
                          [
                            1,
                            "#f0f921"
                          ]
                        ],
                        "type": "histogram2dcontour"
                      }
                    ],
                    "mesh3d": [
                      {
                        "colorbar": {
                          "outlinewidth": 0,
                          "ticks": ""
                        },
                        "type": "mesh3d"
                      }
                    ],
                    "parcoords": [
                      {
                        "line": {
                          "colorbar": {
                            "outlinewidth": 0,
                            "ticks": ""
                          }
                        },
                        "type": "parcoords"
                      }
                    ],
                    "pie": [
                      {
                        "automargin": true,
                        "type": "pie"
                      }
                    ],
                    "scatter": [
                      {
                        "fillpattern": {
                          "fillmode": "overlay",
                          "size": 10,
                          "solidity": 0.2
                        },
                        "type": "scatter"
                      }
                    ],
                    "scatter3d": [
                      {
                        "line": {
                          "colorbar": {
                            "outlinewidth": 0,
                            "ticks": ""
                          }
                        },
                        "marker": {
                          "colorbar": {
                            "outlinewidth": 0,
                            "ticks": ""
                          }
                        },
                        "type": "scatter3d"
                      }
                    ],
                    "scattercarpet": [
                      {
                        "marker": {
                          "colorbar": {
                            "outlinewidth": 0,
                            "ticks": ""
                          }
                        },
                        "type": "scattercarpet"
                      }
                    ],
                    "scattergeo": [
                      {
                        "marker": {
                          "colorbar": {
                            "outlinewidth": 0,
                            "ticks": ""
                          }
                        },
                        "type": "scattergeo"
                      }
                    ],
                    "scattergl": [
                      {
                        "marker": {
                          "colorbar": {
                            "outlinewidth": 0,
                            "ticks": ""
                          }
                        },
                        "type": "scattergl"
                      }
                    ],
                    "scattermapbox": [
                      {
                        "marker": {
                          "colorbar": {
                            "outlinewidth": 0,
                            "ticks": ""
                          }
                        },
                        "type": "scattermapbox"
                      }
                    ],
                    "scatterpolar": [
                      {
                        "marker": {
                          "colorbar": {
                            "outlinewidth": 0,
                            "ticks": ""
                          }
                        },
                        "type": "scatterpolar"
                      }
                    ],
                    "scatterpolargl": [
                      {
                        "marker": {
                          "colorbar": {
                            "outlinewidth": 0,
                            "ticks": ""
                          }
                        },
                        "type": "scatterpolargl"
                      }
                    ],
                    "scatterternary": [
                      {
                        "marker": {
                          "colorbar": {
                            "outlinewidth": 0,
                            "ticks": ""
                          }
                        },
                        "type": "scatterternary"
                      }
                    ],
                    "surface": [
                      {
                        "colorbar": {
                          "outlinewidth": 0,
                          "ticks": ""
                        },
                        "colorscale": [
                          [
                            0,
                            "#0d0887"
                          ],
                          [
                            0.1111111111111111,
                            "#46039f"
                          ],
                          [
                            0.2222222222222222,
                            "#7201a8"
                          ],
                          [
                            0.3333333333333333,
                            "#9c179e"
                          ],
                          [
                            0.4444444444444444,
                            "#bd3786"
                          ],
                          [
                            0.5555555555555556,
                            "#d8576b"
                          ],
                          [
                            0.6666666666666666,
                            "#ed7953"
                          ],
                          [
                            0.7777777777777778,
                            "#fb9f3a"
                          ],
                          [
                            0.8888888888888888,
                            "#fdca26"
                          ],
                          [
                            1,
                            "#f0f921"
                          ]
                        ],
                        "type": "surface"
                      }
                    ],
                    "table": [
                      {
                        "cells": {
                          "fill": {
                            "color": "#EBF0F8"
                          },
                          "line": {
                            "color": "white"
                          }
                        },
                        "header": {
                          "fill": {
                            "color": "#C8D4E3"
                          },
                          "line": {
                            "color": "white"
                          }
                        },
                        "type": "table"
                      }
                    ]
                  },
                  "layout": {
                    "annotationdefaults": {
                      "arrowcolor": "#2a3f5f",
                      "arrowhead": 0,
                      "arrowwidth": 1
                    },
                    "autotypenumbers": "strict",
                    "coloraxis": {
                      "colorbar": {
                        "outlinewidth": 0,
                        "ticks": ""
                      }
                    },
                    "colorscale": {
                      "diverging": [
                        [
                          0,
                          "#8e0152"
                        ],
                        [
                          0.1,
                          "#c51b7d"
                        ],
                        [
                          0.2,
                          "#de77ae"
                        ],
                        [
                          0.3,
                          "#f1b6da"
                        ],
                        [
                          0.4,
                          "#fde0ef"
                        ],
                        [
                          0.5,
                          "#f7f7f7"
                        ],
                        [
                          0.6,
                          "#e6f5d0"
                        ],
                        [
                          0.7,
                          "#b8e186"
                        ],
                        [
                          0.8,
                          "#7fbc41"
                        ],
                        [
                          0.9,
                          "#4d9221"
                        ],
                        [
                          1,
                          "#276419"
                        ]
                      ],
                      "sequential": [
                        [
                          0,
                          "#0d0887"
                        ],
                        [
                          0.1111111111111111,
                          "#46039f"
                        ],
                        [
                          0.2222222222222222,
                          "#7201a8"
                        ],
                        [
                          0.3333333333333333,
                          "#9c179e"
                        ],
                        [
                          0.4444444444444444,
                          "#bd3786"
                        ],
                        [
                          0.5555555555555556,
                          "#d8576b"
                        ],
                        [
                          0.6666666666666666,
                          "#ed7953"
                        ],
                        [
                          0.7777777777777778,
                          "#fb9f3a"
                        ],
                        [
                          0.8888888888888888,
                          "#fdca26"
                        ],
                        [
                          1,
                          "#f0f921"
                        ]
                      ],
                      "sequentialminus": [
                        [
                          0,
                          "#0d0887"
                        ],
                        [
                          0.1111111111111111,
                          "#46039f"
                        ],
                        [
                          0.2222222222222222,
                          "#7201a8"
                        ],
                        [
                          0.3333333333333333,
                          "#9c179e"
                        ],
                        [
                          0.4444444444444444,
                          "#bd3786"
                        ],
                        [
                          0.5555555555555556,
                          "#d8576b"
                        ],
                        [
                          0.6666666666666666,
                          "#ed7953"
                        ],
                        [
                          0.7777777777777778,
                          "#fb9f3a"
                        ],
                        [
                          0.8888888888888888,
                          "#fdca26"
                        ],
                        [
                          1,
                          "#f0f921"
                        ]
                      ]
                    },
                    "colorway": [
                      "#636efa",
                      "#EF553B",
                      "#00cc96",
                      "#ab63fa",
                      "#FFA15A",
                      "#19d3f3",
                      "#FF6692",
                      "#B6E880",
                      "#FF97FF",
                      "#FECB52"
                    ],
                    "font": {
                      "color": "#2a3f5f"
                    },
                    "geo": {
                      "bgcolor": "white",
                      "lakecolor": "white",
                      "landcolor": "#E5ECF6",
                      "showlakes": true,
                      "showland": true,
                      "subunitcolor": "white"
                    },
                    "hoverlabel": {
                      "align": "left"
                    },
                    "hovermode": "closest",
                    "mapbox": {
                      "style": "light"
                    },
                    "paper_bgcolor": "white",
                    "plot_bgcolor": "#E5ECF6",
                    "polar": {
                      "angularaxis": {
                        "gridcolor": "white",
                        "linecolor": "white",
                        "ticks": ""
                      },
                      "bgcolor": "#E5ECF6",
                      "radialaxis": {
                        "gridcolor": "white",
                        "linecolor": "white",
                        "ticks": ""
                      }
                    },
                    "scene": {
                      "xaxis": {
                        "backgroundcolor": "#E5ECF6",
                        "gridcolor": "white",
                        "gridwidth": 2,
                        "linecolor": "white",
                        "showbackground": true,
                        "ticks": "",
                        "zerolinecolor": "white"
                      },
                      "yaxis": {
                        "backgroundcolor": "#E5ECF6",
                        "gridcolor": "white",
                        "gridwidth": 2,
                        "linecolor": "white",
                        "showbackground": true,
                        "ticks": "",
                        "zerolinecolor": "white"
                      },
                      "zaxis": {
                        "backgroundcolor": "#E5ECF6",
                        "gridcolor": "white",
                        "gridwidth": 2,
                        "linecolor": "white",
                        "showbackground": true,
                        "ticks": "",
                        "zerolinecolor": "white"
                      }
                    },
                    "shapedefaults": {
                      "line": {
                        "color": "#2a3f5f"
                      }
                    },
                    "ternary": {
                      "aaxis": {
                        "gridcolor": "white",
                        "linecolor": "white",
                        "ticks": ""
                      },
                      "baxis": {
                        "gridcolor": "white",
                        "linecolor": "white",
                        "ticks": ""
                      },
                      "bgcolor": "#E5ECF6",
                      "caxis": {
                        "gridcolor": "white",
                        "linecolor": "white",
                        "ticks": ""
                      }
                    },
                    "title": {
                      "x": 0.05
                    },
                    "xaxis": {
                      "automargin": true,
                      "gridcolor": "white",
                      "linecolor": "white",
                      "ticks": "",
                      "title": {
                        "standoff": 15
                      },
                      "zerolinecolor": "white",
                      "zerolinewidth": 2
                    },
                    "yaxis": {
                      "automargin": true,
                      "gridcolor": "white",
                      "linecolor": "white",
                      "ticks": "",
                      "title": {
                        "standoff": 15
                      },
                      "zerolinecolor": "white",
                      "zerolinewidth": 2
                    }
                  }
                },
                "title": {
                  "text": "Area 1 最適化結果"
                },
                "xaxis": {
                  "anchor": "y",
                  "domain": [
                    0,
                    1
                  ]
                },
                "xaxis2": {
                  "anchor": "y2",
                  "domain": [
                    0,
                    1
                  ]
                },
                "xaxis3": {
                  "anchor": "y3",
                  "domain": [
                    0,
                    1
                  ]
                },
                "xaxis4": {
                  "anchor": "y4",
                  "domain": [
                    0,
                    1
                  ],
                  "title": {
                    "text": "時刻"
                  }
                },
                "yaxis": {
                  "anchor": "x",
                  "domain": [
                    0.81,
                    1
                  ],
                  "title": {
                    "text": "温度 (°C)"
                  }
                },
                "yaxis2": {
                  "anchor": "x2",
                  "domain": [
                    0.54,
                    0.73
                  ],
                  "title": {
                    "text": "電力 (W)"
                  }
                },
                "yaxis3": {
                  "anchor": "x3",
                  "domain": [
                    0.27,
                    0.46
                  ],
                  "title": {
                    "text": "モード"
                  }
                },
                "yaxis4": {
                  "anchor": "x4",
                  "domain": [
                    0,
                    0.19
                  ],
                  "title": {
                    "text": "ファン速度"
                  }
                }
              }
            }
          },
          "metadata": {},
          "output_type": "display_data"
        },
        {
          "name": "stdout",
          "output_type": "stream",
          "text": [
            "✅ Area 1 の可視化完了\n"
          ]
        },
        {
          "data": {
            "application/vnd.plotly.v1+json": {
              "config": {
                "plotlyServerURL": "https://plot.ly"
              },
              "data": [
                {
                  "line": {
                    "color": "red",
                    "width": 2
                  },
                  "name": "設定温度",
                  "type": "scatter",
                  "x": [
                    "2025-10-02T00:00:00",
                    "2025-10-02T01:00:00",
                    "2025-10-02T02:00:00",
                    "2025-10-02T03:00:00",
                    "2025-10-02T04:00:00",
                    "2025-10-02T05:00:00",
                    "2025-10-02T06:00:00",
                    "2025-10-02T07:00:00",
                    "2025-10-02T08:00:00",
                    "2025-10-02T09:00:00",
                    "2025-10-02T10:00:00",
                    "2025-10-02T11:00:00",
                    "2025-10-02T12:00:00",
                    "2025-10-02T13:00:00",
                    "2025-10-02T14:00:00",
                    "2025-10-02T15:00:00",
                    "2025-10-02T16:00:00",
                    "2025-10-02T17:00:00",
                    "2025-10-02T18:00:00",
                    "2025-10-02T19:00:00",
                    "2025-10-02T20:00:00",
                    "2025-10-02T21:00:00",
                    "2025-10-02T22:00:00",
                    "2025-10-02T23:00:00",
                    "2025-10-03T00:00:00",
                    "2025-10-03T01:00:00",
                    "2025-10-03T02:00:00",
                    "2025-10-03T03:00:00",
                    "2025-10-03T04:00:00",
                    "2025-10-03T05:00:00",
                    "2025-10-03T06:00:00",
                    "2025-10-03T07:00:00",
                    "2025-10-03T08:00:00",
                    "2025-10-03T09:00:00",
                    "2025-10-03T10:00:00",
                    "2025-10-03T11:00:00",
                    "2025-10-03T12:00:00",
                    "2025-10-03T13:00:00",
                    "2025-10-03T14:00:00",
                    "2025-10-03T15:00:00",
                    "2025-10-03T16:00:00",
                    "2025-10-03T17:00:00",
                    "2025-10-03T18:00:00",
                    "2025-10-03T19:00:00",
                    "2025-10-03T20:00:00",
                    "2025-10-03T21:00:00",
                    "2025-10-03T22:00:00",
                    "2025-10-03T23:00:00",
                    "2025-10-04T00:00:00",
                    "2025-10-04T01:00:00",
                    "2025-10-04T02:00:00",
                    "2025-10-04T03:00:00",
                    "2025-10-04T04:00:00",
                    "2025-10-04T05:00:00",
                    "2025-10-04T06:00:00",
                    "2025-10-04T07:00:00",
                    "2025-10-04T08:00:00",
                    "2025-10-04T09:00:00",
                    "2025-10-04T10:00:00",
                    "2025-10-04T11:00:00",
                    "2025-10-04T12:00:00",
                    "2025-10-04T13:00:00",
                    "2025-10-04T14:00:00",
                    "2025-10-04T15:00:00",
                    "2025-10-04T16:00:00",
                    "2025-10-04T17:00:00",
                    "2025-10-04T18:00:00",
                    "2025-10-04T19:00:00",
                    "2025-10-04T20:00:00",
                    "2025-10-04T21:00:00",
                    "2025-10-04T22:00:00",
                    "2025-10-04T23:00:00",
                    "2025-10-05T00:00:00"
                  ],
                  "xaxis": "x",
                  "y": [
                    20,
                    20,
                    22,
                    22,
                    22,
                    25,
                    22,
                    27,
                    27,
                    27,
                    22,
                    22,
                    22,
                    22,
                    22,
                    22,
                    22,
                    22,
                    22,
                    22,
                    22,
                    26,
                    27,
                    20,
                    20,
                    20,
                    20,
                    22,
                    22,
                    25,
                    25,
                    27,
                    27,
                    27,
                    22,
                    22,
                    20,
                    27,
                    22,
                    23,
                    27,
                    22,
                    22,
                    22,
                    22,
                    27,
                    23,
                    27,
                    24,
                    24,
                    27,
                    27,
                    27,
                    27,
                    27,
                    27,
                    27,
                    27,
                    22,
                    22,
                    22,
                    22,
                    22,
                    27,
                    22,
                    22,
                    22,
                    22,
                    22,
                    27,
                    23,
                    27,
                    26
                  ],
                  "yaxis": "y"
                },
                {
                  "line": {
                    "color": "blue",
                    "width": 2
                  },
                  "name": "予測室温",
                  "type": "scatter",
                  "x": [
                    "2025-10-02T00:00:00",
                    "2025-10-02T01:00:00",
                    "2025-10-02T02:00:00",
                    "2025-10-02T03:00:00",
                    "2025-10-02T04:00:00",
                    "2025-10-02T05:00:00",
                    "2025-10-02T06:00:00",
                    "2025-10-02T07:00:00",
                    "2025-10-02T08:00:00",
                    "2025-10-02T09:00:00",
                    "2025-10-02T10:00:00",
                    "2025-10-02T11:00:00",
                    "2025-10-02T12:00:00",
                    "2025-10-02T13:00:00",
                    "2025-10-02T14:00:00",
                    "2025-10-02T15:00:00",
                    "2025-10-02T16:00:00",
                    "2025-10-02T17:00:00",
                    "2025-10-02T18:00:00",
                    "2025-10-02T19:00:00",
                    "2025-10-02T20:00:00",
                    "2025-10-02T21:00:00",
                    "2025-10-02T22:00:00",
                    "2025-10-02T23:00:00",
                    "2025-10-03T00:00:00",
                    "2025-10-03T01:00:00",
                    "2025-10-03T02:00:00",
                    "2025-10-03T03:00:00",
                    "2025-10-03T04:00:00",
                    "2025-10-03T05:00:00",
                    "2025-10-03T06:00:00",
                    "2025-10-03T07:00:00",
                    "2025-10-03T08:00:00",
                    "2025-10-03T09:00:00",
                    "2025-10-03T10:00:00",
                    "2025-10-03T11:00:00",
                    "2025-10-03T12:00:00",
                    "2025-10-03T13:00:00",
                    "2025-10-03T14:00:00",
                    "2025-10-03T15:00:00",
                    "2025-10-03T16:00:00",
                    "2025-10-03T17:00:00",
                    "2025-10-03T18:00:00",
                    "2025-10-03T19:00:00",
                    "2025-10-03T20:00:00",
                    "2025-10-03T21:00:00",
                    "2025-10-03T22:00:00",
                    "2025-10-03T23:00:00",
                    "2025-10-04T00:00:00",
                    "2025-10-04T01:00:00",
                    "2025-10-04T02:00:00",
                    "2025-10-04T03:00:00",
                    "2025-10-04T04:00:00",
                    "2025-10-04T05:00:00",
                    "2025-10-04T06:00:00",
                    "2025-10-04T07:00:00",
                    "2025-10-04T08:00:00",
                    "2025-10-04T09:00:00",
                    "2025-10-04T10:00:00",
                    "2025-10-04T11:00:00",
                    "2025-10-04T12:00:00",
                    "2025-10-04T13:00:00",
                    "2025-10-04T14:00:00",
                    "2025-10-04T15:00:00",
                    "2025-10-04T16:00:00",
                    "2025-10-04T17:00:00",
                    "2025-10-04T18:00:00",
                    "2025-10-04T19:00:00",
                    "2025-10-04T20:00:00",
                    "2025-10-04T21:00:00",
                    "2025-10-04T22:00:00",
                    "2025-10-04T23:00:00",
                    "2025-10-05T00:00:00"
                  ],
                  "xaxis": "x",
                  "y": [
                    22.095500000000015,
                    21.771500000000007,
                    21.59400000000001,
                    21.508500000000012,
                    21.81550000000003,
                    21.807000000000013,
                    21.76800000000002,
                    21.808499999999977,
                    21.909499999999994,
                    22.317499999999985,
                    22.7825,
                    22.79849999999999,
                    22.186500000000006,
                    22.22750000000003,
                    22.33700000000003,
                    22.333500000000022,
                    22.299000000000014,
                    22.514500000000016,
                    22.470500000000005,
                    22.3385,
                    22.410999999999998,
                    21.76549999999999,
                    21.2085,
                    20.73550000000002,
                    20.352999999999977,
                    20.278999999999993,
                    20.969999999999995,
                    21.249999999999986,
                    21.27350000000001,
                    21.564999999999984,
                    21.670000000000005,
                    21.72099999999997,
                    21.881499999999992,
                    22.23749999999999,
                    22.14600000000002,
                    22.717499999999994,
                    25.191499999999976,
                    24.277500000000014,
                    23.297000000000004,
                    21.982499999999987,
                    21.959500000000002,
                    21.923,
                    22.054499999999976,
                    22.386999999999997,
                    22.737500000000008,
                    21.582999999999988,
                    21.160000000000014,
                    20.881000000000018,
                    21.201,
                    21.038000000000014,
                    21.140500000000007,
                    21.61650000000001,
                    21.782000000000007,
                    21.74999999999999,
                    21.92250000000001,
                    22.024000000000015,
                    21.9215,
                    21.952999999999996,
                    21.911999999999992,
                    22.178999999999988,
                    22.145500000000023,
                    22.36800000000002,
                    22.321500000000015,
                    22.378000000000025,
                    22.257000000000016,
                    22.336500000000004,
                    22.35650000000001,
                    22.422000000000008,
                    22.395500000000006,
                    21.928999999999984,
                    21.550000000000004,
                    21.201999999999988,
                    21.103500000000004
                  ],
                  "yaxis": "y"
                },
                {
                  "line": {
                    "color": "green",
                    "width": 2
                  },
                  "name": "予測電力",
                  "type": "scatter",
                  "x": [
                    "2025-10-02T00:00:00",
                    "2025-10-02T01:00:00",
                    "2025-10-02T02:00:00",
                    "2025-10-02T03:00:00",
                    "2025-10-02T04:00:00",
                    "2025-10-02T05:00:00",
                    "2025-10-02T06:00:00",
                    "2025-10-02T07:00:00",
                    "2025-10-02T08:00:00",
                    "2025-10-02T09:00:00",
                    "2025-10-02T10:00:00",
                    "2025-10-02T11:00:00",
                    "2025-10-02T12:00:00",
                    "2025-10-02T13:00:00",
                    "2025-10-02T14:00:00",
                    "2025-10-02T15:00:00",
                    "2025-10-02T16:00:00",
                    "2025-10-02T17:00:00",
                    "2025-10-02T18:00:00",
                    "2025-10-02T19:00:00",
                    "2025-10-02T20:00:00",
                    "2025-10-02T21:00:00",
                    "2025-10-02T22:00:00",
                    "2025-10-02T23:00:00",
                    "2025-10-03T00:00:00",
                    "2025-10-03T01:00:00",
                    "2025-10-03T02:00:00",
                    "2025-10-03T03:00:00",
                    "2025-10-03T04:00:00",
                    "2025-10-03T05:00:00",
                    "2025-10-03T06:00:00",
                    "2025-10-03T07:00:00",
                    "2025-10-03T08:00:00",
                    "2025-10-03T09:00:00",
                    "2025-10-03T10:00:00",
                    "2025-10-03T11:00:00",
                    "2025-10-03T12:00:00",
                    "2025-10-03T13:00:00",
                    "2025-10-03T14:00:00",
                    "2025-10-03T15:00:00",
                    "2025-10-03T16:00:00",
                    "2025-10-03T17:00:00",
                    "2025-10-03T18:00:00",
                    "2025-10-03T19:00:00",
                    "2025-10-03T20:00:00",
                    "2025-10-03T21:00:00",
                    "2025-10-03T22:00:00",
                    "2025-10-03T23:00:00",
                    "2025-10-04T00:00:00",
                    "2025-10-04T01:00:00",
                    "2025-10-04T02:00:00",
                    "2025-10-04T03:00:00",
                    "2025-10-04T04:00:00",
                    "2025-10-04T05:00:00",
                    "2025-10-04T06:00:00",
                    "2025-10-04T07:00:00",
                    "2025-10-04T08:00:00",
                    "2025-10-04T09:00:00",
                    "2025-10-04T10:00:00",
                    "2025-10-04T11:00:00",
                    "2025-10-04T12:00:00",
                    "2025-10-04T13:00:00",
                    "2025-10-04T14:00:00",
                    "2025-10-04T15:00:00",
                    "2025-10-04T16:00:00",
                    "2025-10-04T17:00:00",
                    "2025-10-04T18:00:00",
                    "2025-10-04T19:00:00",
                    "2025-10-04T20:00:00",
                    "2025-10-04T21:00:00",
                    "2025-10-04T22:00:00",
                    "2025-10-04T23:00:00",
                    "2025-10-05T00:00:00"
                  ],
                  "xaxis": "x2",
                  "y": [
                    47531.05,
                    17815.1,
                    9807.45,
                    8286.55,
                    8629.25,
                    9030.7,
                    8088.85,
                    8632.45,
                    10447.85,
                    11783.25,
                    27905.5,
                    29717.3,
                    33036.35,
                    28968.55,
                    86085.7,
                    86158.3,
                    87797.25,
                    85247.7,
                    88136.6,
                    89982.7,
                    86859.6,
                    85810.85,
                    46625.75,
                    48875.3,
                    33067.65,
                    36654.95,
                    10777,
                    7970.45,
                    8941.5,
                    8432.15,
                    8307.35,
                    8499.55,
                    9244.4,
                    10384.75,
                    14098.4,
                    31385.15,
                    35205.1,
                    61226.65,
                    86844.9,
                    90566.45,
                    84595.1,
                    89174.75,
                    89591.3,
                    91514.65,
                    51381,
                    7870.4,
                    60012.25,
                    45399.05,
                    8716.5,
                    9286.3,
                    8191.45,
                    8119.5,
                    8193.25,
                    8130.1,
                    7973.95,
                    8606.15,
                    10242.65,
                    9648.45,
                    20110.4,
                    23907.75,
                    19019.6,
                    18874.5,
                    21261.55,
                    75576.85,
                    91003.95,
                    90013.45,
                    90738.95,
                    87240.45,
                    89607.9,
                    7878.75,
                    48809.7,
                    28861.15,
                    7673.3
                  ],
                  "yaxis": "y2"
                },
                {
                  "marker": {
                    "color": "orange",
                    "size": 6
                  },
                  "mode": "markers",
                  "name": "運転モード",
                  "type": "scatter",
                  "x": [
                    "2025-10-02T00:00:00",
                    "2025-10-02T01:00:00",
                    "2025-10-02T02:00:00",
                    "2025-10-02T03:00:00",
                    "2025-10-02T04:00:00",
                    "2025-10-02T05:00:00",
                    "2025-10-02T06:00:00",
                    "2025-10-02T07:00:00",
                    "2025-10-02T08:00:00",
                    "2025-10-02T09:00:00",
                    "2025-10-02T10:00:00",
                    "2025-10-02T11:00:00",
                    "2025-10-02T12:00:00",
                    "2025-10-02T13:00:00",
                    "2025-10-02T14:00:00",
                    "2025-10-02T15:00:00",
                    "2025-10-02T16:00:00",
                    "2025-10-02T17:00:00",
                    "2025-10-02T18:00:00",
                    "2025-10-02T19:00:00",
                    "2025-10-02T20:00:00",
                    "2025-10-02T21:00:00",
                    "2025-10-02T22:00:00",
                    "2025-10-02T23:00:00",
                    "2025-10-03T00:00:00",
                    "2025-10-03T01:00:00",
                    "2025-10-03T02:00:00",
                    "2025-10-03T03:00:00",
                    "2025-10-03T04:00:00",
                    "2025-10-03T05:00:00",
                    "2025-10-03T06:00:00",
                    "2025-10-03T07:00:00",
                    "2025-10-03T08:00:00",
                    "2025-10-03T09:00:00",
                    "2025-10-03T10:00:00",
                    "2025-10-03T11:00:00",
                    "2025-10-03T12:00:00",
                    "2025-10-03T13:00:00",
                    "2025-10-03T14:00:00",
                    "2025-10-03T15:00:00",
                    "2025-10-03T16:00:00",
                    "2025-10-03T17:00:00",
                    "2025-10-03T18:00:00",
                    "2025-10-03T19:00:00",
                    "2025-10-03T20:00:00",
                    "2025-10-03T21:00:00",
                    "2025-10-03T22:00:00",
                    "2025-10-03T23:00:00",
                    "2025-10-04T00:00:00",
                    "2025-10-04T01:00:00",
                    "2025-10-04T02:00:00",
                    "2025-10-04T03:00:00",
                    "2025-10-04T04:00:00",
                    "2025-10-04T05:00:00",
                    "2025-10-04T06:00:00",
                    "2025-10-04T07:00:00",
                    "2025-10-04T08:00:00",
                    "2025-10-04T09:00:00",
                    "2025-10-04T10:00:00",
                    "2025-10-04T11:00:00",
                    "2025-10-04T12:00:00",
                    "2025-10-04T13:00:00",
                    "2025-10-04T14:00:00",
                    "2025-10-04T15:00:00",
                    "2025-10-04T16:00:00",
                    "2025-10-04T17:00:00",
                    "2025-10-04T18:00:00",
                    "2025-10-04T19:00:00",
                    "2025-10-04T20:00:00",
                    "2025-10-04T21:00:00",
                    "2025-10-04T22:00:00",
                    "2025-10-04T23:00:00",
                    "2025-10-05T00:00:00"
                  ],
                  "xaxis": "x3",
                  "y": [
                    2,
                    2,
                    2,
                    2,
                    2,
                    2,
                    2,
                    2,
                    2,
                    2,
                    2,
                    2,
                    2,
                    2,
                    2,
                    2,
                    2,
                    2,
                    2,
                    2,
                    2,
                    2,
                    2,
                    0,
                    2,
                    2,
                    2,
                    2,
                    2,
                    2,
                    2,
                    2,
                    2,
                    2,
                    2,
                    2,
                    2,
                    0,
                    2,
                    2,
                    2,
                    2,
                    2,
                    2,
                    2,
                    2,
                    2,
                    2,
                    0,
                    2,
                    0,
                    0,
                    0,
                    0,
                    0,
                    2,
                    2,
                    2,
                    2,
                    2,
                    2,
                    2,
                    2,
                    0,
                    2,
                    2,
                    2,
                    2,
                    2,
                    2,
                    2,
                    2,
                    0
                  ],
                  "yaxis": "y3"
                },
                {
                  "marker": {
                    "color": "purple",
                    "size": 6
                  },
                  "mode": "markers",
                  "name": "ファン速度",
                  "type": "scatter",
                  "x": [
                    "2025-10-02T00:00:00",
                    "2025-10-02T01:00:00",
                    "2025-10-02T02:00:00",
                    "2025-10-02T03:00:00",
                    "2025-10-02T04:00:00",
                    "2025-10-02T05:00:00",
                    "2025-10-02T06:00:00",
                    "2025-10-02T07:00:00",
                    "2025-10-02T08:00:00",
                    "2025-10-02T09:00:00",
                    "2025-10-02T10:00:00",
                    "2025-10-02T11:00:00",
                    "2025-10-02T12:00:00",
                    "2025-10-02T13:00:00",
                    "2025-10-02T14:00:00",
                    "2025-10-02T15:00:00",
                    "2025-10-02T16:00:00",
                    "2025-10-02T17:00:00",
                    "2025-10-02T18:00:00",
                    "2025-10-02T19:00:00",
                    "2025-10-02T20:00:00",
                    "2025-10-02T21:00:00",
                    "2025-10-02T22:00:00",
                    "2025-10-02T23:00:00",
                    "2025-10-03T00:00:00",
                    "2025-10-03T01:00:00",
                    "2025-10-03T02:00:00",
                    "2025-10-03T03:00:00",
                    "2025-10-03T04:00:00",
                    "2025-10-03T05:00:00",
                    "2025-10-03T06:00:00",
                    "2025-10-03T07:00:00",
                    "2025-10-03T08:00:00",
                    "2025-10-03T09:00:00",
                    "2025-10-03T10:00:00",
                    "2025-10-03T11:00:00",
                    "2025-10-03T12:00:00",
                    "2025-10-03T13:00:00",
                    "2025-10-03T14:00:00",
                    "2025-10-03T15:00:00",
                    "2025-10-03T16:00:00",
                    "2025-10-03T17:00:00",
                    "2025-10-03T18:00:00",
                    "2025-10-03T19:00:00",
                    "2025-10-03T20:00:00",
                    "2025-10-03T21:00:00",
                    "2025-10-03T22:00:00",
                    "2025-10-03T23:00:00",
                    "2025-10-04T00:00:00",
                    "2025-10-04T01:00:00",
                    "2025-10-04T02:00:00",
                    "2025-10-04T03:00:00",
                    "2025-10-04T04:00:00",
                    "2025-10-04T05:00:00",
                    "2025-10-04T06:00:00",
                    "2025-10-04T07:00:00",
                    "2025-10-04T08:00:00",
                    "2025-10-04T09:00:00",
                    "2025-10-04T10:00:00",
                    "2025-10-04T11:00:00",
                    "2025-10-04T12:00:00",
                    "2025-10-04T13:00:00",
                    "2025-10-04T14:00:00",
                    "2025-10-04T15:00:00",
                    "2025-10-04T16:00:00",
                    "2025-10-04T17:00:00",
                    "2025-10-04T18:00:00",
                    "2025-10-04T19:00:00",
                    "2025-10-04T20:00:00",
                    "2025-10-04T21:00:00",
                    "2025-10-04T22:00:00",
                    "2025-10-04T23:00:00",
                    "2025-10-05T00:00:00"
                  ],
                  "xaxis": "x4",
                  "y": [
                    1,
                    1,
                    1,
                    1,
                    1,
                    1,
                    1,
                    2,
                    2,
                    2,
                    2,
                    2,
                    1,
                    1,
                    1,
                    1,
                    1,
                    1,
                    1,
                    1,
                    1,
                    2,
                    1,
                    1,
                    1,
                    1,
                    1,
                    1,
                    1,
                    1,
                    1,
                    2,
                    2,
                    2,
                    1,
                    2,
                    1,
                    2,
                    3,
                    3,
                    1,
                    2,
                    2,
                    1,
                    1,
                    1,
                    1,
                    1,
                    1,
                    1,
                    1,
                    1,
                    1,
                    1,
                    1,
                    1,
                    1,
                    1,
                    1,
                    2,
                    1,
                    1,
                    1,
                    1,
                    1,
                    1,
                    1,
                    1,
                    1,
                    1,
                    1,
                    1,
                    1
                  ],
                  "yaxis": "y4"
                }
              ],
              "layout": {
                "annotations": [
                  {
                    "font": {
                      "size": 16
                    },
                    "showarrow": false,
                    "text": "Area 3 - 設定温度・予測室温",
                    "x": 0.5,
                    "xanchor": "center",
                    "xref": "paper",
                    "y": 1,
                    "yanchor": "bottom",
                    "yref": "paper"
                  },
                  {
                    "font": {
                      "size": 16
                    },
                    "showarrow": false,
                    "text": "Area 3 - 予測電力",
                    "x": 0.5,
                    "xanchor": "center",
                    "xref": "paper",
                    "y": 0.73,
                    "yanchor": "bottom",
                    "yref": "paper"
                  },
                  {
                    "font": {
                      "size": 16
                    },
                    "showarrow": false,
                    "text": "Area 3 - 運転モード",
                    "x": 0.5,
                    "xanchor": "center",
                    "xref": "paper",
                    "y": 0.46,
                    "yanchor": "bottom",
                    "yref": "paper"
                  },
                  {
                    "font": {
                      "size": 16
                    },
                    "showarrow": false,
                    "text": "Area 3 - ファン速度",
                    "x": 0.5,
                    "xanchor": "center",
                    "xref": "paper",
                    "y": 0.19,
                    "yanchor": "bottom",
                    "yref": "paper"
                  }
                ],
                "height": 800,
                "showlegend": true,
                "template": {
                  "data": {
                    "bar": [
                      {
                        "error_x": {
                          "color": "#2a3f5f"
                        },
                        "error_y": {
                          "color": "#2a3f5f"
                        },
                        "marker": {
                          "line": {
                            "color": "#E5ECF6",
                            "width": 0.5
                          },
                          "pattern": {
                            "fillmode": "overlay",
                            "size": 10,
                            "solidity": 0.2
                          }
                        },
                        "type": "bar"
                      }
                    ],
                    "barpolar": [
                      {
                        "marker": {
                          "line": {
                            "color": "#E5ECF6",
                            "width": 0.5
                          },
                          "pattern": {
                            "fillmode": "overlay",
                            "size": 10,
                            "solidity": 0.2
                          }
                        },
                        "type": "barpolar"
                      }
                    ],
                    "carpet": [
                      {
                        "aaxis": {
                          "endlinecolor": "#2a3f5f",
                          "gridcolor": "white",
                          "linecolor": "white",
                          "minorgridcolor": "white",
                          "startlinecolor": "#2a3f5f"
                        },
                        "baxis": {
                          "endlinecolor": "#2a3f5f",
                          "gridcolor": "white",
                          "linecolor": "white",
                          "minorgridcolor": "white",
                          "startlinecolor": "#2a3f5f"
                        },
                        "type": "carpet"
                      }
                    ],
                    "choropleth": [
                      {
                        "colorbar": {
                          "outlinewidth": 0,
                          "ticks": ""
                        },
                        "type": "choropleth"
                      }
                    ],
                    "contour": [
                      {
                        "colorbar": {
                          "outlinewidth": 0,
                          "ticks": ""
                        },
                        "colorscale": [
                          [
                            0,
                            "#0d0887"
                          ],
                          [
                            0.1111111111111111,
                            "#46039f"
                          ],
                          [
                            0.2222222222222222,
                            "#7201a8"
                          ],
                          [
                            0.3333333333333333,
                            "#9c179e"
                          ],
                          [
                            0.4444444444444444,
                            "#bd3786"
                          ],
                          [
                            0.5555555555555556,
                            "#d8576b"
                          ],
                          [
                            0.6666666666666666,
                            "#ed7953"
                          ],
                          [
                            0.7777777777777778,
                            "#fb9f3a"
                          ],
                          [
                            0.8888888888888888,
                            "#fdca26"
                          ],
                          [
                            1,
                            "#f0f921"
                          ]
                        ],
                        "type": "contour"
                      }
                    ],
                    "contourcarpet": [
                      {
                        "colorbar": {
                          "outlinewidth": 0,
                          "ticks": ""
                        },
                        "type": "contourcarpet"
                      }
                    ],
                    "heatmap": [
                      {
                        "colorbar": {
                          "outlinewidth": 0,
                          "ticks": ""
                        },
                        "colorscale": [
                          [
                            0,
                            "#0d0887"
                          ],
                          [
                            0.1111111111111111,
                            "#46039f"
                          ],
                          [
                            0.2222222222222222,
                            "#7201a8"
                          ],
                          [
                            0.3333333333333333,
                            "#9c179e"
                          ],
                          [
                            0.4444444444444444,
                            "#bd3786"
                          ],
                          [
                            0.5555555555555556,
                            "#d8576b"
                          ],
                          [
                            0.6666666666666666,
                            "#ed7953"
                          ],
                          [
                            0.7777777777777778,
                            "#fb9f3a"
                          ],
                          [
                            0.8888888888888888,
                            "#fdca26"
                          ],
                          [
                            1,
                            "#f0f921"
                          ]
                        ],
                        "type": "heatmap"
                      }
                    ],
                    "heatmapgl": [
                      {
                        "colorbar": {
                          "outlinewidth": 0,
                          "ticks": ""
                        },
                        "colorscale": [
                          [
                            0,
                            "#0d0887"
                          ],
                          [
                            0.1111111111111111,
                            "#46039f"
                          ],
                          [
                            0.2222222222222222,
                            "#7201a8"
                          ],
                          [
                            0.3333333333333333,
                            "#9c179e"
                          ],
                          [
                            0.4444444444444444,
                            "#bd3786"
                          ],
                          [
                            0.5555555555555556,
                            "#d8576b"
                          ],
                          [
                            0.6666666666666666,
                            "#ed7953"
                          ],
                          [
                            0.7777777777777778,
                            "#fb9f3a"
                          ],
                          [
                            0.8888888888888888,
                            "#fdca26"
                          ],
                          [
                            1,
                            "#f0f921"
                          ]
                        ],
                        "type": "heatmapgl"
                      }
                    ],
                    "histogram": [
                      {
                        "marker": {
                          "pattern": {
                            "fillmode": "overlay",
                            "size": 10,
                            "solidity": 0.2
                          }
                        },
                        "type": "histogram"
                      }
                    ],
                    "histogram2d": [
                      {
                        "colorbar": {
                          "outlinewidth": 0,
                          "ticks": ""
                        },
                        "colorscale": [
                          [
                            0,
                            "#0d0887"
                          ],
                          [
                            0.1111111111111111,
                            "#46039f"
                          ],
                          [
                            0.2222222222222222,
                            "#7201a8"
                          ],
                          [
                            0.3333333333333333,
                            "#9c179e"
                          ],
                          [
                            0.4444444444444444,
                            "#bd3786"
                          ],
                          [
                            0.5555555555555556,
                            "#d8576b"
                          ],
                          [
                            0.6666666666666666,
                            "#ed7953"
                          ],
                          [
                            0.7777777777777778,
                            "#fb9f3a"
                          ],
                          [
                            0.8888888888888888,
                            "#fdca26"
                          ],
                          [
                            1,
                            "#f0f921"
                          ]
                        ],
                        "type": "histogram2d"
                      }
                    ],
                    "histogram2dcontour": [
                      {
                        "colorbar": {
                          "outlinewidth": 0,
                          "ticks": ""
                        },
                        "colorscale": [
                          [
                            0,
                            "#0d0887"
                          ],
                          [
                            0.1111111111111111,
                            "#46039f"
                          ],
                          [
                            0.2222222222222222,
                            "#7201a8"
                          ],
                          [
                            0.3333333333333333,
                            "#9c179e"
                          ],
                          [
                            0.4444444444444444,
                            "#bd3786"
                          ],
                          [
                            0.5555555555555556,
                            "#d8576b"
                          ],
                          [
                            0.6666666666666666,
                            "#ed7953"
                          ],
                          [
                            0.7777777777777778,
                            "#fb9f3a"
                          ],
                          [
                            0.8888888888888888,
                            "#fdca26"
                          ],
                          [
                            1,
                            "#f0f921"
                          ]
                        ],
                        "type": "histogram2dcontour"
                      }
                    ],
                    "mesh3d": [
                      {
                        "colorbar": {
                          "outlinewidth": 0,
                          "ticks": ""
                        },
                        "type": "mesh3d"
                      }
                    ],
                    "parcoords": [
                      {
                        "line": {
                          "colorbar": {
                            "outlinewidth": 0,
                            "ticks": ""
                          }
                        },
                        "type": "parcoords"
                      }
                    ],
                    "pie": [
                      {
                        "automargin": true,
                        "type": "pie"
                      }
                    ],
                    "scatter": [
                      {
                        "fillpattern": {
                          "fillmode": "overlay",
                          "size": 10,
                          "solidity": 0.2
                        },
                        "type": "scatter"
                      }
                    ],
                    "scatter3d": [
                      {
                        "line": {
                          "colorbar": {
                            "outlinewidth": 0,
                            "ticks": ""
                          }
                        },
                        "marker": {
                          "colorbar": {
                            "outlinewidth": 0,
                            "ticks": ""
                          }
                        },
                        "type": "scatter3d"
                      }
                    ],
                    "scattercarpet": [
                      {
                        "marker": {
                          "colorbar": {
                            "outlinewidth": 0,
                            "ticks": ""
                          }
                        },
                        "type": "scattercarpet"
                      }
                    ],
                    "scattergeo": [
                      {
                        "marker": {
                          "colorbar": {
                            "outlinewidth": 0,
                            "ticks": ""
                          }
                        },
                        "type": "scattergeo"
                      }
                    ],
                    "scattergl": [
                      {
                        "marker": {
                          "colorbar": {
                            "outlinewidth": 0,
                            "ticks": ""
                          }
                        },
                        "type": "scattergl"
                      }
                    ],
                    "scattermapbox": [
                      {
                        "marker": {
                          "colorbar": {
                            "outlinewidth": 0,
                            "ticks": ""
                          }
                        },
                        "type": "scattermapbox"
                      }
                    ],
                    "scatterpolar": [
                      {
                        "marker": {
                          "colorbar": {
                            "outlinewidth": 0,
                            "ticks": ""
                          }
                        },
                        "type": "scatterpolar"
                      }
                    ],
                    "scatterpolargl": [
                      {
                        "marker": {
                          "colorbar": {
                            "outlinewidth": 0,
                            "ticks": ""
                          }
                        },
                        "type": "scatterpolargl"
                      }
                    ],
                    "scatterternary": [
                      {
                        "marker": {
                          "colorbar": {
                            "outlinewidth": 0,
                            "ticks": ""
                          }
                        },
                        "type": "scatterternary"
                      }
                    ],
                    "surface": [
                      {
                        "colorbar": {
                          "outlinewidth": 0,
                          "ticks": ""
                        },
                        "colorscale": [
                          [
                            0,
                            "#0d0887"
                          ],
                          [
                            0.1111111111111111,
                            "#46039f"
                          ],
                          [
                            0.2222222222222222,
                            "#7201a8"
                          ],
                          [
                            0.3333333333333333,
                            "#9c179e"
                          ],
                          [
                            0.4444444444444444,
                            "#bd3786"
                          ],
                          [
                            0.5555555555555556,
                            "#d8576b"
                          ],
                          [
                            0.6666666666666666,
                            "#ed7953"
                          ],
                          [
                            0.7777777777777778,
                            "#fb9f3a"
                          ],
                          [
                            0.8888888888888888,
                            "#fdca26"
                          ],
                          [
                            1,
                            "#f0f921"
                          ]
                        ],
                        "type": "surface"
                      }
                    ],
                    "table": [
                      {
                        "cells": {
                          "fill": {
                            "color": "#EBF0F8"
                          },
                          "line": {
                            "color": "white"
                          }
                        },
                        "header": {
                          "fill": {
                            "color": "#C8D4E3"
                          },
                          "line": {
                            "color": "white"
                          }
                        },
                        "type": "table"
                      }
                    ]
                  },
                  "layout": {
                    "annotationdefaults": {
                      "arrowcolor": "#2a3f5f",
                      "arrowhead": 0,
                      "arrowwidth": 1
                    },
                    "autotypenumbers": "strict",
                    "coloraxis": {
                      "colorbar": {
                        "outlinewidth": 0,
                        "ticks": ""
                      }
                    },
                    "colorscale": {
                      "diverging": [
                        [
                          0,
                          "#8e0152"
                        ],
                        [
                          0.1,
                          "#c51b7d"
                        ],
                        [
                          0.2,
                          "#de77ae"
                        ],
                        [
                          0.3,
                          "#f1b6da"
                        ],
                        [
                          0.4,
                          "#fde0ef"
                        ],
                        [
                          0.5,
                          "#f7f7f7"
                        ],
                        [
                          0.6,
                          "#e6f5d0"
                        ],
                        [
                          0.7,
                          "#b8e186"
                        ],
                        [
                          0.8,
                          "#7fbc41"
                        ],
                        [
                          0.9,
                          "#4d9221"
                        ],
                        [
                          1,
                          "#276419"
                        ]
                      ],
                      "sequential": [
                        [
                          0,
                          "#0d0887"
                        ],
                        [
                          0.1111111111111111,
                          "#46039f"
                        ],
                        [
                          0.2222222222222222,
                          "#7201a8"
                        ],
                        [
                          0.3333333333333333,
                          "#9c179e"
                        ],
                        [
                          0.4444444444444444,
                          "#bd3786"
                        ],
                        [
                          0.5555555555555556,
                          "#d8576b"
                        ],
                        [
                          0.6666666666666666,
                          "#ed7953"
                        ],
                        [
                          0.7777777777777778,
                          "#fb9f3a"
                        ],
                        [
                          0.8888888888888888,
                          "#fdca26"
                        ],
                        [
                          1,
                          "#f0f921"
                        ]
                      ],
                      "sequentialminus": [
                        [
                          0,
                          "#0d0887"
                        ],
                        [
                          0.1111111111111111,
                          "#46039f"
                        ],
                        [
                          0.2222222222222222,
                          "#7201a8"
                        ],
                        [
                          0.3333333333333333,
                          "#9c179e"
                        ],
                        [
                          0.4444444444444444,
                          "#bd3786"
                        ],
                        [
                          0.5555555555555556,
                          "#d8576b"
                        ],
                        [
                          0.6666666666666666,
                          "#ed7953"
                        ],
                        [
                          0.7777777777777778,
                          "#fb9f3a"
                        ],
                        [
                          0.8888888888888888,
                          "#fdca26"
                        ],
                        [
                          1,
                          "#f0f921"
                        ]
                      ]
                    },
                    "colorway": [
                      "#636efa",
                      "#EF553B",
                      "#00cc96",
                      "#ab63fa",
                      "#FFA15A",
                      "#19d3f3",
                      "#FF6692",
                      "#B6E880",
                      "#FF97FF",
                      "#FECB52"
                    ],
                    "font": {
                      "color": "#2a3f5f"
                    },
                    "geo": {
                      "bgcolor": "white",
                      "lakecolor": "white",
                      "landcolor": "#E5ECF6",
                      "showlakes": true,
                      "showland": true,
                      "subunitcolor": "white"
                    },
                    "hoverlabel": {
                      "align": "left"
                    },
                    "hovermode": "closest",
                    "mapbox": {
                      "style": "light"
                    },
                    "paper_bgcolor": "white",
                    "plot_bgcolor": "#E5ECF6",
                    "polar": {
                      "angularaxis": {
                        "gridcolor": "white",
                        "linecolor": "white",
                        "ticks": ""
                      },
                      "bgcolor": "#E5ECF6",
                      "radialaxis": {
                        "gridcolor": "white",
                        "linecolor": "white",
                        "ticks": ""
                      }
                    },
                    "scene": {
                      "xaxis": {
                        "backgroundcolor": "#E5ECF6",
                        "gridcolor": "white",
                        "gridwidth": 2,
                        "linecolor": "white",
                        "showbackground": true,
                        "ticks": "",
                        "zerolinecolor": "white"
                      },
                      "yaxis": {
                        "backgroundcolor": "#E5ECF6",
                        "gridcolor": "white",
                        "gridwidth": 2,
                        "linecolor": "white",
                        "showbackground": true,
                        "ticks": "",
                        "zerolinecolor": "white"
                      },
                      "zaxis": {
                        "backgroundcolor": "#E5ECF6",
                        "gridcolor": "white",
                        "gridwidth": 2,
                        "linecolor": "white",
                        "showbackground": true,
                        "ticks": "",
                        "zerolinecolor": "white"
                      }
                    },
                    "shapedefaults": {
                      "line": {
                        "color": "#2a3f5f"
                      }
                    },
                    "ternary": {
                      "aaxis": {
                        "gridcolor": "white",
                        "linecolor": "white",
                        "ticks": ""
                      },
                      "baxis": {
                        "gridcolor": "white",
                        "linecolor": "white",
                        "ticks": ""
                      },
                      "bgcolor": "#E5ECF6",
                      "caxis": {
                        "gridcolor": "white",
                        "linecolor": "white",
                        "ticks": ""
                      }
                    },
                    "title": {
                      "x": 0.05
                    },
                    "xaxis": {
                      "automargin": true,
                      "gridcolor": "white",
                      "linecolor": "white",
                      "ticks": "",
                      "title": {
                        "standoff": 15
                      },
                      "zerolinecolor": "white",
                      "zerolinewidth": 2
                    },
                    "yaxis": {
                      "automargin": true,
                      "gridcolor": "white",
                      "linecolor": "white",
                      "ticks": "",
                      "title": {
                        "standoff": 15
                      },
                      "zerolinecolor": "white",
                      "zerolinewidth": 2
                    }
                  }
                },
                "title": {
                  "text": "Area 3 最適化結果"
                },
                "xaxis": {
                  "anchor": "y",
                  "domain": [
                    0,
                    1
                  ]
                },
                "xaxis2": {
                  "anchor": "y2",
                  "domain": [
                    0,
                    1
                  ]
                },
                "xaxis3": {
                  "anchor": "y3",
                  "domain": [
                    0,
                    1
                  ]
                },
                "xaxis4": {
                  "anchor": "y4",
                  "domain": [
                    0,
                    1
                  ],
                  "title": {
                    "text": "時刻"
                  }
                },
                "yaxis": {
                  "anchor": "x",
                  "domain": [
                    0.81,
                    1
                  ],
                  "title": {
                    "text": "温度 (°C)"
                  }
                },
                "yaxis2": {
                  "anchor": "x2",
                  "domain": [
                    0.54,
                    0.73
                  ],
                  "title": {
                    "text": "電力 (W)"
                  }
                },
                "yaxis3": {
                  "anchor": "x3",
                  "domain": [
                    0.27,
                    0.46
                  ],
                  "title": {
                    "text": "モード"
                  }
                },
                "yaxis4": {
                  "anchor": "x4",
                  "domain": [
                    0,
                    0.19
                  ],
                  "title": {
                    "text": "ファン速度"
                  }
                }
              }
            }
          },
          "metadata": {},
          "output_type": "display_data"
        },
        {
          "name": "stdout",
          "output_type": "stream",
          "text": [
            "✅ Area 3 の可視化完了\n"
          ]
        }
      ],
      "source": [
        "# 最適化結果の可視化\n",
        "if schedule is not None:\n",
        "    # 各ゾーンの結果を可視化\n",
        "    for zone_name, zone_schedule in schedule.items():\n",
        "        # データの準備\n",
        "        timestamps = list(zone_schedule.keys())\n",
        "        set_temps = [zone_schedule[t]['set_temp'] for t in timestamps]\n",
        "        pred_temps = [zone_schedule[t]['pred_temp'] for t in timestamps]\n",
        "        pred_powers = [zone_schedule[t]['pred_power'] for t in timestamps]\n",
        "        modes = [zone_schedule[t]['mode'] for t in timestamps]\n",
        "        fans = [zone_schedule[t]['fan'] for t in timestamps]\n",
        "        \n",
        "        # サブプロットの作成\n",
        "        fig = make_subplots(\n",
        "            rows=4, cols=1,\n",
        "            subplot_titles=[\n",
        "                f\"{zone_name} - 設定温度・予測室温\",\n",
        "                f\"{zone_name} - 予測電力\",\n",
        "                f\"{zone_name} - 運転モード\",\n",
        "                f\"{zone_name} - ファン速度\"\n",
        "            ],\n",
        "            vertical_spacing=0.08\n",
        "        )\n",
        "        \n",
        "        # 設定温度・予測室温\n",
        "        fig.add_trace(\n",
        "            go.Scatter(x=timestamps, y=set_temps, name='設定温度', line=dict(color='red', width=2)),\n",
        "            row=1, col=1\n",
        "        )\n",
        "        fig.add_trace(\n",
        "            go.Scatter(x=timestamps, y=pred_temps, name='予測室温', line=dict(color='blue', width=2)),\n",
        "            row=1, col=1\n",
        "        )\n",
        "        \n",
        "        # 予測電力\n",
        "        fig.add_trace(\n",
        "            go.Scatter(x=timestamps, y=pred_powers, name='予測電力', line=dict(color='green', width=2)),\n",
        "            row=2, col=1\n",
        "        )\n",
        "        \n",
        "        # 運転モード\n",
        "        fig.add_trace(\n",
        "            go.Scatter(x=timestamps, y=modes, name='運転モード', mode='markers', marker=dict(color='orange', size=6)),\n",
        "            row=3, col=1\n",
        "        )\n",
        "        \n",
        "        # ファン速度\n",
        "        fig.add_trace(\n",
        "            go.Scatter(x=timestamps, y=fans, name='ファン速度', mode='markers', marker=dict(color='purple', size=6)),\n",
        "            row=4, col=1\n",
        "        )\n",
        "        \n",
        "        # レイアウトの設定\n",
        "        fig.update_layout(\n",
        "            title=f\"{zone_name} 最適化結果\",\n",
        "            height=800,\n",
        "            showlegend=True\n",
        "        )\n",
        "        \n",
        "        # 軸ラベルの設定\n",
        "        fig.update_xaxes(title_text=\"時刻\", row=4, col=1)\n",
        "        fig.update_yaxes(title_text=\"温度 (°C)\", row=1, col=1)\n",
        "        fig.update_yaxes(title_text=\"電力 (W)\", row=2, col=1)\n",
        "        fig.update_yaxes(title_text=\"モード\", row=3, col=1)\n",
        "        fig.update_yaxes(title_text=\"ファン速度\", row=4, col=1)\n",
        "        \n",
        "        fig.show()\n",
        "        \n",
        "        print(f\"✅ {zone_name} の可視化完了\")\n",
        "else:\n",
        "    print(\"❌ 最適化結果がありません\")\n"
      ]
    },
    {
      "cell_type": "code",
      "execution_count": null,
      "metadata": {},
      "outputs": [
        {
          "data": {
            "application/vnd.plotly.v1+json": {
              "config": {
                "plotlyServerURL": "https://plot.ly"
              },
              "data": [
                {
                  "line": {
                    "color": "orange",
                    "width": 2
                  },
                  "name": "外気温",
                  "type": "scatter",
                  "x": [
                    "2025-10-02T00:00:00",
                    "2025-10-02T01:00:00",
                    "2025-10-02T02:00:00",
                    "2025-10-02T03:00:00",
                    "2025-10-02T04:00:00",
                    "2025-10-02T05:00:00",
                    "2025-10-02T06:00:00",
                    "2025-10-02T07:00:00",
                    "2025-10-02T08:00:00",
                    "2025-10-02T09:00:00",
                    "2025-10-02T10:00:00",
                    "2025-10-02T11:00:00",
                    "2025-10-02T12:00:00",
                    "2025-10-02T13:00:00",
                    "2025-10-02T14:00:00",
                    "2025-10-02T15:00:00",
                    "2025-10-02T16:00:00",
                    "2025-10-02T17:00:00",
                    "2025-10-02T18:00:00",
                    "2025-10-02T19:00:00",
                    "2025-10-02T20:00:00",
                    "2025-10-02T21:00:00",
                    "2025-10-02T22:00:00",
                    "2025-10-02T23:00:00",
                    "2025-10-03T00:00:00",
                    "2025-10-03T01:00:00",
                    "2025-10-03T02:00:00",
                    "2025-10-03T03:00:00",
                    "2025-10-03T04:00:00",
                    "2025-10-03T05:00:00",
                    "2025-10-03T06:00:00",
                    "2025-10-03T07:00:00",
                    "2025-10-03T08:00:00",
                    "2025-10-03T09:00:00",
                    "2025-10-03T10:00:00",
                    "2025-10-03T11:00:00",
                    "2025-10-03T12:00:00",
                    "2025-10-03T13:00:00",
                    "2025-10-03T14:00:00",
                    "2025-10-03T15:00:00",
                    "2025-10-03T16:00:00",
                    "2025-10-03T17:00:00",
                    "2025-10-03T18:00:00",
                    "2025-10-03T19:00:00",
                    "2025-10-03T20:00:00",
                    "2025-10-03T21:00:00",
                    "2025-10-03T22:00:00",
                    "2025-10-03T23:00:00",
                    "2025-10-04T00:00:00",
                    "2025-10-04T01:00:00",
                    "2025-10-04T02:00:00",
                    "2025-10-04T03:00:00",
                    "2025-10-04T04:00:00",
                    "2025-10-04T05:00:00",
                    "2025-10-04T06:00:00",
                    "2025-10-04T07:00:00",
                    "2025-10-04T08:00:00",
                    "2025-10-04T09:00:00",
                    "2025-10-04T10:00:00",
                    "2025-10-04T11:00:00",
                    "2025-10-04T12:00:00",
                    "2025-10-04T13:00:00",
                    "2025-10-04T14:00:00",
                    "2025-10-04T15:00:00",
                    "2025-10-04T16:00:00",
                    "2025-10-04T17:00:00",
                    "2025-10-04T18:00:00",
                    "2025-10-04T19:00:00",
                    "2025-10-04T20:00:00",
                    "2025-10-04T21:00:00",
                    "2025-10-04T22:00:00",
                    "2025-10-04T23:00:00",
                    "2025-10-05T00:00:00"
                  ],
                  "xaxis": "x",
                  "y": [
                    10.523484666087212,
                    12.134891736211763,
                    13.60408815437428,
                    15.030364427622692,
                    13.701180667670764,
                    13.810635368057271,
                    14.912524582345771,
                    16.135000825345912,
                    13.74037587222721,
                    13.056098700582476,
                    11.953658123765576,
                    9.772703504517462,
                    10.676544748840422,
                    9.205593265177297,
                    5.111706692253607,
                    4.792918204749122,
                    5.257428710888668,
                    6.191544473784763,
                    5.242409977942509,
                    3.1536729604675258,
                    4.574131035718182,
                    4.764059764858552,
                    7.212241271881943,
                    9.416246919263042,
                    10.076729482164337,
                    9.667947482164912,
                    13.08131063621657,
                    14.285067420036293,
                    14.058626301733527,
                    16.30353499269312,
                    14.061509532778478,
                    15.145180253230368,
                    14.157084786810612,
                    13.770669919916267,
                    12.861531506910735,
                    11.082004236194269,
                    10.46684229089051,
                    7.799303488046984,
                    6.932484468445657,
                    5.374278571294638,
                    5.798437236526318,
                    4.515417504282967,
                    4.2502309014381545,
                    3.7636018936130773,
                    7.1749175159017815,
                    7.877908444520821,
                    7.531277046461268,
                    9.708077182536949,
                    11.272719564308725,
                    10.7363224027492,
                    12.268620565085666,
                    13.835446190409387,
                    13.954207028599741,
                    13.258405742598868,
                    15.481571241437868,
                    15.892926526025512,
                    13.767302944646723,
                    14.356246975864531,
                    11.821161035328442,
                    10.236386732881865,
                    9.612035611649972,
                    8.791417122451838,
                    7.720334861160095,
                    6.249404771339719,
                    5.572146469312888,
                    4.911493433029737,
                    5.253375226285669,
                    6.216918995909877,
                    4.552267524943119,
                    7.842481901564538,
                    7.342321276016516,
                    7.44867029066236,
                    8.811891055299784
                  ],
                  "yaxis": "y"
                },
                {
                  "line": {
                    "color": "lightblue",
                    "width": 2
                  },
                  "name": "外気湿度",
                  "type": "scatter",
                  "x": [
                    "2025-10-02T00:00:00",
                    "2025-10-02T01:00:00",
                    "2025-10-02T02:00:00",
                    "2025-10-02T03:00:00",
                    "2025-10-02T04:00:00",
                    "2025-10-02T05:00:00",
                    "2025-10-02T06:00:00",
                    "2025-10-02T07:00:00",
                    "2025-10-02T08:00:00",
                    "2025-10-02T09:00:00",
                    "2025-10-02T10:00:00",
                    "2025-10-02T11:00:00",
                    "2025-10-02T12:00:00",
                    "2025-10-02T13:00:00",
                    "2025-10-02T14:00:00",
                    "2025-10-02T15:00:00",
                    "2025-10-02T16:00:00",
                    "2025-10-02T17:00:00",
                    "2025-10-02T18:00:00",
                    "2025-10-02T19:00:00",
                    "2025-10-02T20:00:00",
                    "2025-10-02T21:00:00",
                    "2025-10-02T22:00:00",
                    "2025-10-02T23:00:00",
                    "2025-10-03T00:00:00",
                    "2025-10-03T01:00:00",
                    "2025-10-03T02:00:00",
                    "2025-10-03T03:00:00",
                    "2025-10-03T04:00:00",
                    "2025-10-03T05:00:00",
                    "2025-10-03T06:00:00",
                    "2025-10-03T07:00:00",
                    "2025-10-03T08:00:00",
                    "2025-10-03T09:00:00",
                    "2025-10-03T10:00:00",
                    "2025-10-03T11:00:00",
                    "2025-10-03T12:00:00",
                    "2025-10-03T13:00:00",
                    "2025-10-03T14:00:00",
                    "2025-10-03T15:00:00",
                    "2025-10-03T16:00:00",
                    "2025-10-03T17:00:00",
                    "2025-10-03T18:00:00",
                    "2025-10-03T19:00:00",
                    "2025-10-03T20:00:00",
                    "2025-10-03T21:00:00",
                    "2025-10-03T22:00:00",
                    "2025-10-03T23:00:00",
                    "2025-10-04T00:00:00",
                    "2025-10-04T01:00:00",
                    "2025-10-04T02:00:00",
                    "2025-10-04T03:00:00",
                    "2025-10-04T04:00:00",
                    "2025-10-04T05:00:00",
                    "2025-10-04T06:00:00",
                    "2025-10-04T07:00:00",
                    "2025-10-04T08:00:00",
                    "2025-10-04T09:00:00",
                    "2025-10-04T10:00:00",
                    "2025-10-04T11:00:00",
                    "2025-10-04T12:00:00",
                    "2025-10-04T13:00:00",
                    "2025-10-04T14:00:00",
                    "2025-10-04T15:00:00",
                    "2025-10-04T16:00:00",
                    "2025-10-04T17:00:00",
                    "2025-10-04T18:00:00",
                    "2025-10-04T19:00:00",
                    "2025-10-04T20:00:00",
                    "2025-10-04T21:00:00",
                    "2025-10-04T22:00:00",
                    "2025-10-04T23:00:00",
                    "2025-10-05T00:00:00"
                  ],
                  "xaxis": "x2",
                  "y": [
                    70.66414820465802,
                    62.68226725276446,
                    72.51649102333477,
                    80,
                    70.96595693249452,
                    79.54751947280946,
                    69.89076711776136,
                    78.09001565824701,
                    80,
                    75.42864050332774,
                    69.94235163955392,
                    67.17330217862177,
                    59.57511538878154,
                    63.64203665788092,
                    45.13850230384391,
                    45.55776687758431,
                    42.53687711079314,
                    46.48149565332607,
                    40,
                    40,
                    45.172034691673865,
                    48.445613054945554,
                    55.538503119156445,
                    49.02738626431985,
                    63.06092590591398,
                    62.887903378428,
                    71.40245675433208,
                    62.384041816132495,
                    75.62415333152485,
                    80,
                    77.31668401375296,
                    78.845750624052,
                    75.18692170774206,
                    68.3372608113562,
                    69.73595649185545,
                    65.55552674040798,
                    54.615369258033375,
                    56.79301704799971,
                    54.297319807032096,
                    48.165225206827984,
                    44.95749195112135,
                    40,
                    40,
                    40,
                    45.37083581983301,
                    44.3443646260672,
                    46.032536193294156,
                    51.639477726570874,
                    54.65750219772061,
                    59.511707462361436,
                    58.95118205681405,
                    68.34589387402764,
                    76.54946652354262,
                    80,
                    73.02347385549282,
                    80,
                    80,
                    71.406073721339,
                    74.011440647957,
                    63.608676416993355,
                    63.17996927687495,
                    42.41344865697964,
                    62.00812850017288,
                    52.517803304371846,
                    40,
                    41.638265770735345,
                    40,
                    41.14919601362836,
                    42.297486314567166,
                    47.93637217351462,
                    45.2888477150013,
                    58.51734952622819,
                    57.70963057188691
                  ],
                  "yaxis": "y2"
                },
                {
                  "line": {
                    "color": "yellow",
                    "width": 2
                  },
                  "name": "日射量",
                  "type": "scatter",
                  "x": [
                    "2025-10-02T00:00:00",
                    "2025-10-02T01:00:00",
                    "2025-10-02T02:00:00",
                    "2025-10-02T03:00:00",
                    "2025-10-02T04:00:00",
                    "2025-10-02T05:00:00",
                    "2025-10-02T06:00:00",
                    "2025-10-02T07:00:00",
                    "2025-10-02T08:00:00",
                    "2025-10-02T09:00:00",
                    "2025-10-02T10:00:00",
                    "2025-10-02T11:00:00",
                    "2025-10-02T12:00:00",
                    "2025-10-02T13:00:00",
                    "2025-10-02T14:00:00",
                    "2025-10-02T15:00:00",
                    "2025-10-02T16:00:00",
                    "2025-10-02T17:00:00",
                    "2025-10-02T18:00:00",
                    "2025-10-02T19:00:00",
                    "2025-10-02T20:00:00",
                    "2025-10-02T21:00:00",
                    "2025-10-02T22:00:00",
                    "2025-10-02T23:00:00",
                    "2025-10-03T00:00:00",
                    "2025-10-03T01:00:00",
                    "2025-10-03T02:00:00",
                    "2025-10-03T03:00:00",
                    "2025-10-03T04:00:00",
                    "2025-10-03T05:00:00",
                    "2025-10-03T06:00:00",
                    "2025-10-03T07:00:00",
                    "2025-10-03T08:00:00",
                    "2025-10-03T09:00:00",
                    "2025-10-03T10:00:00",
                    "2025-10-03T11:00:00",
                    "2025-10-03T12:00:00",
                    "2025-10-03T13:00:00",
                    "2025-10-03T14:00:00",
                    "2025-10-03T15:00:00",
                    "2025-10-03T16:00:00",
                    "2025-10-03T17:00:00",
                    "2025-10-03T18:00:00",
                    "2025-10-03T19:00:00",
                    "2025-10-03T20:00:00",
                    "2025-10-03T21:00:00",
                    "2025-10-03T22:00:00",
                    "2025-10-03T23:00:00",
                    "2025-10-04T00:00:00",
                    "2025-10-04T01:00:00",
                    "2025-10-04T02:00:00",
                    "2025-10-04T03:00:00",
                    "2025-10-04T04:00:00",
                    "2025-10-04T05:00:00",
                    "2025-10-04T06:00:00",
                    "2025-10-04T07:00:00",
                    "2025-10-04T08:00:00",
                    "2025-10-04T09:00:00",
                    "2025-10-04T10:00:00",
                    "2025-10-04T11:00:00",
                    "2025-10-04T12:00:00",
                    "2025-10-04T13:00:00",
                    "2025-10-04T14:00:00",
                    "2025-10-04T15:00:00",
                    "2025-10-04T16:00:00",
                    "2025-10-04T17:00:00",
                    "2025-10-04T18:00:00",
                    "2025-10-04T19:00:00",
                    "2025-10-04T20:00:00",
                    "2025-10-04T21:00:00",
                    "2025-10-04T22:00:00",
                    "2025-10-04T23:00:00",
                    "2025-10-05T00:00:00"
                  ],
                  "xaxis": "x3",
                  "y": [
                    0,
                    0,
                    0,
                    0,
                    0,
                    0,
                    0,
                    43.85160404334705,
                    282.52142163069067,
                    359.6000379630909,
                    480.1770980848354,
                    545.2911459927843,
                    566.7321952919231,
                    462.5144759978548,
                    429.03039060789496,
                    352.2358997591981,
                    181.5546380877928,
                    75.9181028840562,
                    14.616401840556058,
                    0,
                    0,
                    0,
                    0,
                    0,
                    0,
                    0,
                    0,
                    0,
                    0,
                    0,
                    62.16257447477089,
                    76.38734507093109,
                    223.21366798323646,
                    392.12214534243105,
                    441.846413796655,
                    483.16161713787795,
                    508.8447578697104,
                    524.9555286599601,
                    424.01691789178295,
                    316.9621328279046,
                    264.2082962076167,
                    139.4471358553984,
                    57.54556616342901,
                    0,
                    0,
                    0,
                    0,
                    0,
                    0,
                    0,
                    0,
                    0,
                    0,
                    0,
                    49.35818312621934,
                    180.6186816833723,
                    294.6956090625216,
                    288.90797047447523,
                    452.686061955274,
                    496.51400842850865,
                    503.2853576306663,
                    513.6566062155355,
                    413.115782172598,
                    326.8425751155442,
                    169.271489114887,
                    196.55707527635593,
                    100.09007232761155,
                    0,
                    0,
                    0,
                    0,
                    0,
                    0
                  ],
                  "yaxis": "y3"
                }
              ],
              "layout": {
                "annotations": [
                  {
                    "font": {
                      "size": 16
                    },
                    "showarrow": false,
                    "text": "外気温",
                    "x": 0.5,
                    "xanchor": "center",
                    "xref": "paper",
                    "y": 1,
                    "yanchor": "bottom",
                    "yref": "paper"
                  },
                  {
                    "font": {
                      "size": 16
                    },
                    "showarrow": false,
                    "text": "外気湿度",
                    "x": 0.5,
                    "xanchor": "center",
                    "xref": "paper",
                    "y": 0.6399999999999999,
                    "yanchor": "bottom",
                    "yref": "paper"
                  },
                  {
                    "font": {
                      "size": 16
                    },
                    "showarrow": false,
                    "text": "日射量",
                    "x": 0.5,
                    "xanchor": "center",
                    "xref": "paper",
                    "y": 0.27999999999999997,
                    "yanchor": "bottom",
                    "yref": "paper"
                  }
                ],
                "height": 600,
                "showlegend": true,
                "template": {
                  "data": {
                    "bar": [
                      {
                        "error_x": {
                          "color": "#2a3f5f"
                        },
                        "error_y": {
                          "color": "#2a3f5f"
                        },
                        "marker": {
                          "line": {
                            "color": "#E5ECF6",
                            "width": 0.5
                          },
                          "pattern": {
                            "fillmode": "overlay",
                            "size": 10,
                            "solidity": 0.2
                          }
                        },
                        "type": "bar"
                      }
                    ],
                    "barpolar": [
                      {
                        "marker": {
                          "line": {
                            "color": "#E5ECF6",
                            "width": 0.5
                          },
                          "pattern": {
                            "fillmode": "overlay",
                            "size": 10,
                            "solidity": 0.2
                          }
                        },
                        "type": "barpolar"
                      }
                    ],
                    "carpet": [
                      {
                        "aaxis": {
                          "endlinecolor": "#2a3f5f",
                          "gridcolor": "white",
                          "linecolor": "white",
                          "minorgridcolor": "white",
                          "startlinecolor": "#2a3f5f"
                        },
                        "baxis": {
                          "endlinecolor": "#2a3f5f",
                          "gridcolor": "white",
                          "linecolor": "white",
                          "minorgridcolor": "white",
                          "startlinecolor": "#2a3f5f"
                        },
                        "type": "carpet"
                      }
                    ],
                    "choropleth": [
                      {
                        "colorbar": {
                          "outlinewidth": 0,
                          "ticks": ""
                        },
                        "type": "choropleth"
                      }
                    ],
                    "contour": [
                      {
                        "colorbar": {
                          "outlinewidth": 0,
                          "ticks": ""
                        },
                        "colorscale": [
                          [
                            0,
                            "#0d0887"
                          ],
                          [
                            0.1111111111111111,
                            "#46039f"
                          ],
                          [
                            0.2222222222222222,
                            "#7201a8"
                          ],
                          [
                            0.3333333333333333,
                            "#9c179e"
                          ],
                          [
                            0.4444444444444444,
                            "#bd3786"
                          ],
                          [
                            0.5555555555555556,
                            "#d8576b"
                          ],
                          [
                            0.6666666666666666,
                            "#ed7953"
                          ],
                          [
                            0.7777777777777778,
                            "#fb9f3a"
                          ],
                          [
                            0.8888888888888888,
                            "#fdca26"
                          ],
                          [
                            1,
                            "#f0f921"
                          ]
                        ],
                        "type": "contour"
                      }
                    ],
                    "contourcarpet": [
                      {
                        "colorbar": {
                          "outlinewidth": 0,
                          "ticks": ""
                        },
                        "type": "contourcarpet"
                      }
                    ],
                    "heatmap": [
                      {
                        "colorbar": {
                          "outlinewidth": 0,
                          "ticks": ""
                        },
                        "colorscale": [
                          [
                            0,
                            "#0d0887"
                          ],
                          [
                            0.1111111111111111,
                            "#46039f"
                          ],
                          [
                            0.2222222222222222,
                            "#7201a8"
                          ],
                          [
                            0.3333333333333333,
                            "#9c179e"
                          ],
                          [
                            0.4444444444444444,
                            "#bd3786"
                          ],
                          [
                            0.5555555555555556,
                            "#d8576b"
                          ],
                          [
                            0.6666666666666666,
                            "#ed7953"
                          ],
                          [
                            0.7777777777777778,
                            "#fb9f3a"
                          ],
                          [
                            0.8888888888888888,
                            "#fdca26"
                          ],
                          [
                            1,
                            "#f0f921"
                          ]
                        ],
                        "type": "heatmap"
                      }
                    ],
                    "heatmapgl": [
                      {
                        "colorbar": {
                          "outlinewidth": 0,
                          "ticks": ""
                        },
                        "colorscale": [
                          [
                            0,
                            "#0d0887"
                          ],
                          [
                            0.1111111111111111,
                            "#46039f"
                          ],
                          [
                            0.2222222222222222,
                            "#7201a8"
                          ],
                          [
                            0.3333333333333333,
                            "#9c179e"
                          ],
                          [
                            0.4444444444444444,
                            "#bd3786"
                          ],
                          [
                            0.5555555555555556,
                            "#d8576b"
                          ],
                          [
                            0.6666666666666666,
                            "#ed7953"
                          ],
                          [
                            0.7777777777777778,
                            "#fb9f3a"
                          ],
                          [
                            0.8888888888888888,
                            "#fdca26"
                          ],
                          [
                            1,
                            "#f0f921"
                          ]
                        ],
                        "type": "heatmapgl"
                      }
                    ],
                    "histogram": [
                      {
                        "marker": {
                          "pattern": {
                            "fillmode": "overlay",
                            "size": 10,
                            "solidity": 0.2
                          }
                        },
                        "type": "histogram"
                      }
                    ],
                    "histogram2d": [
                      {
                        "colorbar": {
                          "outlinewidth": 0,
                          "ticks": ""
                        },
                        "colorscale": [
                          [
                            0,
                            "#0d0887"
                          ],
                          [
                            0.1111111111111111,
                            "#46039f"
                          ],
                          [
                            0.2222222222222222,
                            "#7201a8"
                          ],
                          [
                            0.3333333333333333,
                            "#9c179e"
                          ],
                          [
                            0.4444444444444444,
                            "#bd3786"
                          ],
                          [
                            0.5555555555555556,
                            "#d8576b"
                          ],
                          [
                            0.6666666666666666,
                            "#ed7953"
                          ],
                          [
                            0.7777777777777778,
                            "#fb9f3a"
                          ],
                          [
                            0.8888888888888888,
                            "#fdca26"
                          ],
                          [
                            1,
                            "#f0f921"
                          ]
                        ],
                        "type": "histogram2d"
                      }
                    ],
                    "histogram2dcontour": [
                      {
                        "colorbar": {
                          "outlinewidth": 0,
                          "ticks": ""
                        },
                        "colorscale": [
                          [
                            0,
                            "#0d0887"
                          ],
                          [
                            0.1111111111111111,
                            "#46039f"
                          ],
                          [
                            0.2222222222222222,
                            "#7201a8"
                          ],
                          [
                            0.3333333333333333,
                            "#9c179e"
                          ],
                          [
                            0.4444444444444444,
                            "#bd3786"
                          ],
                          [
                            0.5555555555555556,
                            "#d8576b"
                          ],
                          [
                            0.6666666666666666,
                            "#ed7953"
                          ],
                          [
                            0.7777777777777778,
                            "#fb9f3a"
                          ],
                          [
                            0.8888888888888888,
                            "#fdca26"
                          ],
                          [
                            1,
                            "#f0f921"
                          ]
                        ],
                        "type": "histogram2dcontour"
                      }
                    ],
                    "mesh3d": [
                      {
                        "colorbar": {
                          "outlinewidth": 0,
                          "ticks": ""
                        },
                        "type": "mesh3d"
                      }
                    ],
                    "parcoords": [
                      {
                        "line": {
                          "colorbar": {
                            "outlinewidth": 0,
                            "ticks": ""
                          }
                        },
                        "type": "parcoords"
                      }
                    ],
                    "pie": [
                      {
                        "automargin": true,
                        "type": "pie"
                      }
                    ],
                    "scatter": [
                      {
                        "fillpattern": {
                          "fillmode": "overlay",
                          "size": 10,
                          "solidity": 0.2
                        },
                        "type": "scatter"
                      }
                    ],
                    "scatter3d": [
                      {
                        "line": {
                          "colorbar": {
                            "outlinewidth": 0,
                            "ticks": ""
                          }
                        },
                        "marker": {
                          "colorbar": {
                            "outlinewidth": 0,
                            "ticks": ""
                          }
                        },
                        "type": "scatter3d"
                      }
                    ],
                    "scattercarpet": [
                      {
                        "marker": {
                          "colorbar": {
                            "outlinewidth": 0,
                            "ticks": ""
                          }
                        },
                        "type": "scattercarpet"
                      }
                    ],
                    "scattergeo": [
                      {
                        "marker": {
                          "colorbar": {
                            "outlinewidth": 0,
                            "ticks": ""
                          }
                        },
                        "type": "scattergeo"
                      }
                    ],
                    "scattergl": [
                      {
                        "marker": {
                          "colorbar": {
                            "outlinewidth": 0,
                            "ticks": ""
                          }
                        },
                        "type": "scattergl"
                      }
                    ],
                    "scattermapbox": [
                      {
                        "marker": {
                          "colorbar": {
                            "outlinewidth": 0,
                            "ticks": ""
                          }
                        },
                        "type": "scattermapbox"
                      }
                    ],
                    "scatterpolar": [
                      {
                        "marker": {
                          "colorbar": {
                            "outlinewidth": 0,
                            "ticks": ""
                          }
                        },
                        "type": "scatterpolar"
                      }
                    ],
                    "scatterpolargl": [
                      {
                        "marker": {
                          "colorbar": {
                            "outlinewidth": 0,
                            "ticks": ""
                          }
                        },
                        "type": "scatterpolargl"
                      }
                    ],
                    "scatterternary": [
                      {
                        "marker": {
                          "colorbar": {
                            "outlinewidth": 0,
                            "ticks": ""
                          }
                        },
                        "type": "scatterternary"
                      }
                    ],
                    "surface": [
                      {
                        "colorbar": {
                          "outlinewidth": 0,
                          "ticks": ""
                        },
                        "colorscale": [
                          [
                            0,
                            "#0d0887"
                          ],
                          [
                            0.1111111111111111,
                            "#46039f"
                          ],
                          [
                            0.2222222222222222,
                            "#7201a8"
                          ],
                          [
                            0.3333333333333333,
                            "#9c179e"
                          ],
                          [
                            0.4444444444444444,
                            "#bd3786"
                          ],
                          [
                            0.5555555555555556,
                            "#d8576b"
                          ],
                          [
                            0.6666666666666666,
                            "#ed7953"
                          ],
                          [
                            0.7777777777777778,
                            "#fb9f3a"
                          ],
                          [
                            0.8888888888888888,
                            "#fdca26"
                          ],
                          [
                            1,
                            "#f0f921"
                          ]
                        ],
                        "type": "surface"
                      }
                    ],
                    "table": [
                      {
                        "cells": {
                          "fill": {
                            "color": "#EBF0F8"
                          },
                          "line": {
                            "color": "white"
                          }
                        },
                        "header": {
                          "fill": {
                            "color": "#C8D4E3"
                          },
                          "line": {
                            "color": "white"
                          }
                        },
                        "type": "table"
                      }
                    ]
                  },
                  "layout": {
                    "annotationdefaults": {
                      "arrowcolor": "#2a3f5f",
                      "arrowhead": 0,
                      "arrowwidth": 1
                    },
                    "autotypenumbers": "strict",
                    "coloraxis": {
                      "colorbar": {
                        "outlinewidth": 0,
                        "ticks": ""
                      }
                    },
                    "colorscale": {
                      "diverging": [
                        [
                          0,
                          "#8e0152"
                        ],
                        [
                          0.1,
                          "#c51b7d"
                        ],
                        [
                          0.2,
                          "#de77ae"
                        ],
                        [
                          0.3,
                          "#f1b6da"
                        ],
                        [
                          0.4,
                          "#fde0ef"
                        ],
                        [
                          0.5,
                          "#f7f7f7"
                        ],
                        [
                          0.6,
                          "#e6f5d0"
                        ],
                        [
                          0.7,
                          "#b8e186"
                        ],
                        [
                          0.8,
                          "#7fbc41"
                        ],
                        [
                          0.9,
                          "#4d9221"
                        ],
                        [
                          1,
                          "#276419"
                        ]
                      ],
                      "sequential": [
                        [
                          0,
                          "#0d0887"
                        ],
                        [
                          0.1111111111111111,
                          "#46039f"
                        ],
                        [
                          0.2222222222222222,
                          "#7201a8"
                        ],
                        [
                          0.3333333333333333,
                          "#9c179e"
                        ],
                        [
                          0.4444444444444444,
                          "#bd3786"
                        ],
                        [
                          0.5555555555555556,
                          "#d8576b"
                        ],
                        [
                          0.6666666666666666,
                          "#ed7953"
                        ],
                        [
                          0.7777777777777778,
                          "#fb9f3a"
                        ],
                        [
                          0.8888888888888888,
                          "#fdca26"
                        ],
                        [
                          1,
                          "#f0f921"
                        ]
                      ],
                      "sequentialminus": [
                        [
                          0,
                          "#0d0887"
                        ],
                        [
                          0.1111111111111111,
                          "#46039f"
                        ],
                        [
                          0.2222222222222222,
                          "#7201a8"
                        ],
                        [
                          0.3333333333333333,
                          "#9c179e"
                        ],
                        [
                          0.4444444444444444,
                          "#bd3786"
                        ],
                        [
                          0.5555555555555556,
                          "#d8576b"
                        ],
                        [
                          0.6666666666666666,
                          "#ed7953"
                        ],
                        [
                          0.7777777777777778,
                          "#fb9f3a"
                        ],
                        [
                          0.8888888888888888,
                          "#fdca26"
                        ],
                        [
                          1,
                          "#f0f921"
                        ]
                      ]
                    },
                    "colorway": [
                      "#636efa",
                      "#EF553B",
                      "#00cc96",
                      "#ab63fa",
                      "#FFA15A",
                      "#19d3f3",
                      "#FF6692",
                      "#B6E880",
                      "#FF97FF",
                      "#FECB52"
                    ],
                    "font": {
                      "color": "#2a3f5f"
                    },
                    "geo": {
                      "bgcolor": "white",
                      "lakecolor": "white",
                      "landcolor": "#E5ECF6",
                      "showlakes": true,
                      "showland": true,
                      "subunitcolor": "white"
                    },
                    "hoverlabel": {
                      "align": "left"
                    },
                    "hovermode": "closest",
                    "mapbox": {
                      "style": "light"
                    },
                    "paper_bgcolor": "white",
                    "plot_bgcolor": "#E5ECF6",
                    "polar": {
                      "angularaxis": {
                        "gridcolor": "white",
                        "linecolor": "white",
                        "ticks": ""
                      },
                      "bgcolor": "#E5ECF6",
                      "radialaxis": {
                        "gridcolor": "white",
                        "linecolor": "white",
                        "ticks": ""
                      }
                    },
                    "scene": {
                      "xaxis": {
                        "backgroundcolor": "#E5ECF6",
                        "gridcolor": "white",
                        "gridwidth": 2,
                        "linecolor": "white",
                        "showbackground": true,
                        "ticks": "",
                        "zerolinecolor": "white"
                      },
                      "yaxis": {
                        "backgroundcolor": "#E5ECF6",
                        "gridcolor": "white",
                        "gridwidth": 2,
                        "linecolor": "white",
                        "showbackground": true,
                        "ticks": "",
                        "zerolinecolor": "white"
                      },
                      "zaxis": {
                        "backgroundcolor": "#E5ECF6",
                        "gridcolor": "white",
                        "gridwidth": 2,
                        "linecolor": "white",
                        "showbackground": true,
                        "ticks": "",
                        "zerolinecolor": "white"
                      }
                    },
                    "shapedefaults": {
                      "line": {
                        "color": "#2a3f5f"
                      }
                    },
                    "ternary": {
                      "aaxis": {
                        "gridcolor": "white",
                        "linecolor": "white",
                        "ticks": ""
                      },
                      "baxis": {
                        "gridcolor": "white",
                        "linecolor": "white",
                        "ticks": ""
                      },
                      "bgcolor": "#E5ECF6",
                      "caxis": {
                        "gridcolor": "white",
                        "linecolor": "white",
                        "ticks": ""
                      }
                    },
                    "title": {
                      "x": 0.05
                    },
                    "xaxis": {
                      "automargin": true,
                      "gridcolor": "white",
                      "linecolor": "white",
                      "ticks": "",
                      "title": {
                        "standoff": 15
                      },
                      "zerolinecolor": "white",
                      "zerolinewidth": 2
                    },
                    "yaxis": {
                      "automargin": true,
                      "gridcolor": "white",
                      "linecolor": "white",
                      "ticks": "",
                      "title": {
                        "standoff": 15
                      },
                      "zerolinecolor": "white",
                      "zerolinewidth": 2
                    }
                  }
                },
                "title": {
                  "text": "天気予報データ"
                },
                "xaxis": {
                  "anchor": "y",
                  "domain": [
                    0,
                    1
                  ]
                },
                "xaxis2": {
                  "anchor": "y2",
                  "domain": [
                    0,
                    1
                  ]
                },
                "xaxis3": {
                  "anchor": "y3",
                  "domain": [
                    0,
                    1
                  ],
                  "title": {
                    "text": "時刻"
                  }
                },
                "yaxis": {
                  "anchor": "x",
                  "domain": [
                    0.72,
                    1
                  ],
                  "title": {
                    "text": "温度 (°C)"
                  }
                },
                "yaxis2": {
                  "anchor": "x2",
                  "domain": [
                    0.36,
                    0.6399999999999999
                  ],
                  "title": {
                    "text": "湿度 (%)"
                  }
                },
                "yaxis3": {
                  "anchor": "x3",
                  "domain": [
                    0,
                    0.27999999999999997
                  ],
                  "title": {
                    "text": "日射量 (W/m²)"
                  }
                }
              }
            }
          },
          "metadata": {},
          "output_type": "display_data"
        },
        {
          "name": "stdout",
          "output_type": "stream",
          "text": [
            "✅ 天気予報データの可視化完了\n"
          ]
        }
      ],
      "source": [
        "# 天気予報データの可視化\n",
        "if weather_df is not None:\n",
        "    fig = make_subplots(\n",
        "        rows=3, cols=1,\n",
        "        subplot_titles=[\n",
        "            \"外気温\",\n",
        "            \"外気湿度\",\n",
        "            \"日射量\"\n",
        "        ],\n",
        "        vertical_spacing=0.08\n",
        "    )\n",
        "    \n",
        "    # 外気温\n",
        "    fig.add_trace(\n",
        "        go.Scatter(x=weather_df['datetime'], y=weather_df['Outdoor Temp.'], name='外気温', line=dict(color='orange', width=2)),\n",
        "        row=1, col=1\n",
        "    )\n",
        "    \n",
        "    # 外気湿度\n",
        "    fig.add_trace(\n",
        "        go.Scatter(x=weather_df['datetime'], y=weather_df['Outdoor Humidity'], name='外気湿度', line=dict(color='lightblue', width=2)),\n",
        "        row=2, col=1\n",
        "    )\n",
        "    \n",
        "    # 日射量\n",
        "    fig.add_trace(\n",
        "        go.Scatter(x=weather_df['datetime'], y=weather_df['Solar Radiation'], name='日射量', line=dict(color='yellow', width=2)),\n",
        "        row=3, col=1\n",
        "    )\n",
        "    \n",
        "    # レイアウトの設定\n",
        "    fig.update_layout(\n",
        "        title=\"天気予報データ\",\n",
        "        height=600,\n",
        "        showlegend=True\n",
        "    )\n",
        "    \n",
        "    # 軸ラベルの設定\n",
        "    fig.update_xaxes(title_text=\"時刻\", row=3, col=1)\n",
        "    fig.update_yaxes(title_text=\"温度 (°C)\", row=1, col=1)\n",
        "    fig.update_yaxes(title_text=\"湿度 (%)\", row=2, col=1)\n",
        "    fig.update_yaxes(title_text=\"日射量 (W/m²)\", row=3, col=1)\n",
        "    \n",
        "    fig.show()\n",
        "    print(\"✅ 天気予報データの可視化完了\")\n"
      ]
    },
    {
      "cell_type": "code",
      "execution_count": null,
      "metadata": {},
      "outputs": [
        {
          "name": "stdout",
          "output_type": "stream",
          "text": [
            "📡 Fetching weather: 35.681236%2C139.767125 2024-06-30→2025-09-28\n",
            "[Weather] Making API request to: https://weather.visualcrossing.com/VisualCrossingWebServices/rest/services/timeline/35.681236%2C139.767125/2024-06-30/2025-09-28?unitGroup=metric&key=5JYPWTTJGYN89DF4GJW7SY2PB&include=hours\n",
            "[Weather] HTTP Status Code: 401\n",
            "[Weather] HTTP Error: 401\n",
            "[Weather] Response text: This query size (10944)  exceeds the maximum query cost  for your account (10000). Please split your query into smaller queries.\n",
            "\n",
            "🧩 Aggregating with weather...\n",
            "\n",
            "[AreaAggregator] エリア 'Area 1' のカテゴリカル変数処理開始\n",
            "[AreaAggregator] Area 1 - A/C ON/OFF 処理中...\n",
            "[AreaAggregator] Area 1 - A/C ON/OFF ユニーク値: {'OFF': 699212, 'ON': 247864}\n",
            "[AreaAggregator] Area 1 - A/C Mode 処理中...\n",
            "[AreaAggregator] Area 1 - A/C Mode ユニーク値: {'COOL': 416919, 'HEAT': 363987, 'FAN': 126583, '-': 39587}\n",
            "[AreaAggregator] Area 1 - A/C Fan Speed 処理中...\n",
            "[AreaAggregator] Area 1 - A/C Fan Speed ユニーク値: {'-': 699212, 'Low': 205122, 'Medium': 21569, 'High': 21172, 'Auto': 1}\n",
            "\n",
            "[AreaAggregator] エリア別マッピングログ保存: logs/preprocessing/unknown/zone_mapping_log_20251002_224956.json\n",
            "[AreaAggregator] Zone Area 1: Processing 7 outdoor units\n",
            "[AreaAggregator] Found 508731 records for Mesh ID: 49-1\n",
            "  Total_kWh統計: 平均=25694.39, 最大=166985.00\n",
            "  adjusted_power統計: 平均=25694.39, 最大=166985.00\n",
            "[AreaAggregator] Found 508731 records for Mesh ID: 49-2\n",
            "  Total_kWh統計: 平均=25694.39, 最大=166985.00\n",
            "  adjusted_power統計: 平均=25694.39, 最大=166985.00\n",
            "[AreaAggregator] Found 508731 records for Mesh ID: 49-3\n",
            "  Total_kWh統計: 平均=25694.39, 最大=166985.00\n",
            "  adjusted_power統計: 平均=25694.39, 最大=166985.00\n",
            "[AreaAggregator] Found 508731 records for Mesh ID: 49-4\n",
            "  Total_kWh統計: 平均=25694.39, 最大=166985.00\n",
            "  adjusted_power統計: 平均=25694.39, 最大=166985.00\n",
            "[AreaAggregator] Found 508731 records for Mesh ID: 49-6\n",
            "  Total_kWh統計: 平均=25694.39, 最大=166985.00\n",
            "  adjusted_power統計: 平均=25694.39, 最大=166985.00\n",
            "[AreaAggregator] Found 508731 records for Mesh ID: 49-7\n",
            "  Total_kWh統計: 平均=25694.39, 最大=166985.00\n",
            "  adjusted_power統計: 平均=25694.39, 最大=166985.00\n",
            "[AreaAggregator] Found 508731 records for Mesh ID: 49-8\n",
            "  Total_kWh統計: 平均=25694.39, 最大=166985.00\n",
            "  adjusted_power統計: 平均=25694.39, 最大=166985.00\n",
            "[AreaAggregator] 電力データ統合結果:\n",
            "  統合前レコード数: 7\n",
            "  統合後レコード数: 8512\n",
            "  adjusted_power欠損値: 0件\n",
            "  adjusted_power統計: 平均=179860.74, 最大=1168895.00\n",
            "[AreaAggregator] マージ後:\n",
            "  dfレコード数: 10654\n",
            "  adjusted_power欠損値: 2142件\n",
            "⚠️ adjusted_powerに欠損値が2142件あります\n",
            "  欠損値の詳細分析:\n",
            "    欠損レコード数: 2142\n",
            "    欠損期間: 2024-06-30 15:00:00 ～ 2025-04-30 14:00:00\n",
            "    電力データ存在: 8512件\n",
            "    電力データ欠損率: 20.1%\n",
            "    室温データ欠損: 746件\n",
            "    ⚠️ 室温データも欠損している可能性\n",
            "  電力データ統合前の状況:\n",
            "    統合前レコード数: 7\n",
            "    統合後レコード数: 8512\n",
            "    統合後欠損値: 0件\n",
            "  マージ状況:\n",
            "    空調データレコード数: 9908\n",
            "    電力データレコード数: 8512\n",
            "    マージ後レコード数: 10654\n",
            "    空調データ時間範囲: 2024-06-30 15:00:00 ～ 2025-09-28 00:00:00\n",
            "    電力データ時間範囲: 2024-08-31 15:00:00 ～ 2025-09-28 00:00:00\n",
            "    ✅ 時間範囲に重複があります: 2024-08-31 15:00:00 ～ 2025-09-28 00:00:00\n",
            "\n",
            "[AreaAggregator] エリア 'Area 2' のカテゴリカル変数処理開始\n",
            "[AreaAggregator] Area 2 - A/C ON/OFF 処理中...\n",
            "[AreaAggregator] Area 2 - A/C ON/OFF ユニーク値: {'OFF': 441145, 'ON': 277059}\n",
            "[AreaAggregator] Area 2 - A/C Mode 処理中...\n",
            "[AreaAggregator] Area 2 - A/C Mode ユニーク値: {'COOL': 514409, 'HEAT': 181736, 'FAN': 22054, '-': 5}\n",
            "[AreaAggregator] Area 2 - A/C Fan Speed 処理中...\n",
            "[AreaAggregator] Area 2 - A/C Fan Speed ユニーク値: {'-': 441145, 'Low': 212636, 'Medium': 62378, 'High': 2045}\n",
            "\n",
            "[AreaAggregator] エリア別マッピングログ保存: logs/preprocessing/unknown/zone_mapping_log_20251002_225001.json\n",
            "[AreaAggregator] Zone Area 2: Processing 6 outdoor units\n",
            "[AreaAggregator] Found 514964 records for Mesh ID: 43-1\n",
            "  Total_kWh統計: 平均=41049.00, 最大=217005.00\n",
            "  adjusted_power統計: 平均=41049.00, 最大=217005.00\n",
            "[AreaAggregator] Found 514964 records for Mesh ID: 43-2\n",
            "  Total_kWh統計: 平均=41049.00, 最大=217005.00\n",
            "  adjusted_power統計: 平均=41049.00, 最大=217005.00\n",
            "[AreaAggregator] Found 514964 records for Mesh ID: 43-3\n",
            "  Total_kWh統計: 平均=41049.00, 最大=217005.00\n",
            "  adjusted_power統計: 平均=41049.00, 最大=217005.00\n",
            "[AreaAggregator] Found 514964 records for Mesh ID: 43-4\n",
            "  Total_kWh統計: 平均=41049.00, 最大=217005.00\n",
            "  adjusted_power統計: 平均=41049.00, 最大=217005.00\n",
            "[AreaAggregator] Found 643213 records for Mesh ID: 44-1\n",
            "  Total_kWh統計: 平均=22717.71, 最大=238800.00\n",
            "  adjusted_power統計: 平均=22717.71, 最大=238800.00\n",
            "[AreaAggregator] Found 643213 records for Mesh ID: 44-3\n",
            "  Total_kWh統計: 平均=22717.71, 最大=238800.00\n",
            "  adjusted_power統計: 平均=22717.71, 最大=238800.00\n",
            "[AreaAggregator] 電力データ統合結果:\n",
            "  統合前レコード数: 6\n",
            "  統合後レコード数: 10765\n",
            "  adjusted_power欠損値: 0件\n",
            "  adjusted_power統計: 平均=177310.81, 最大=1214890.00\n",
            "[AreaAggregator] マージ後:\n",
            "  dfレコード数: 10767\n",
            "  adjusted_power欠損値: 2件\n",
            "⚠️ adjusted_powerに欠損値が2件あります\n",
            "  欠損値の詳細分析:\n",
            "    欠損レコード数: 2\n",
            "    欠損期間: 2025-01-30 00:00:00 ～ 2025-02-07 13:00:00\n",
            "    電力データ存在: 10765件\n",
            "    電力データ欠損率: 0.0%\n",
            "    室温データ欠損: 748件\n",
            "    ⚠️ 室温データも欠損している可能性\n",
            "  電力データ統合前の状況:\n",
            "    統合前レコード数: 6\n",
            "    統合後レコード数: 10765\n",
            "    統合後欠損値: 0件\n",
            "  マージ状況:\n",
            "    空調データレコード数: 10019\n",
            "    電力データレコード数: 10765\n",
            "    マージ後レコード数: 10767\n",
            "    空調データ時間範囲: 2024-06-30 15:00:00 ～ 2025-09-28 00:00:00\n",
            "    電力データ時間範囲: 2024-06-30 15:00:00 ～ 2025-09-28 00:00:00\n",
            "    ✅ 時間範囲に重複があります: 2024-06-30 15:00:00 ～ 2025-09-28 00:00:00\n",
            "\n",
            "[AreaAggregator] エリア 'Area 3' のカテゴリカル変数処理開始\n",
            "[AreaAggregator] Area 3 - A/C ON/OFF 処理中...\n",
            "[AreaAggregator] Area 3 - A/C ON/OFF ユニーク値: {'OFF': 162163, 'ON': 74439}\n",
            "[AreaAggregator] Area 3 - A/C Mode 処理中...\n",
            "[AreaAggregator] Area 3 - A/C Mode ユニーク値: {'COOL': 110668, 'HEAT': 99004, 'FAN': 23656, '-': 3274}\n",
            "[AreaAggregator] Area 3 - A/C Fan Speed 処理中...\n",
            "[AreaAggregator] Area 3 - A/C Fan Speed ユニーク値: {'-': 162163, 'Low': 69585, 'Medium': 3570, 'High': 1284}\n",
            "\n",
            "[AreaAggregator] エリア別マッピングログ保存: logs/preprocessing/unknown/zone_mapping_log_20251002_225005.json\n",
            "[AreaAggregator] Zone Area 3: Processing 1 outdoor units\n",
            "[AreaAggregator] Found 508731 records for Mesh ID: 49-9\n",
            "  Total_kWh統計: 平均=25694.39, 最大=166985.00\n",
            "  adjusted_power統計: 平均=25694.39, 最大=166985.00\n",
            "[AreaAggregator] 電力データ統合結果:\n",
            "  統合前レコード数: 1\n",
            "  統合後レコード数: 8512\n",
            "  adjusted_power欠損値: 0件\n",
            "  adjusted_power統計: 平均=25694.39, 最大=166985.00\n",
            "[AreaAggregator] マージ後:\n",
            "  dfレコード数: 10654\n",
            "  adjusted_power欠損値: 2142件\n",
            "⚠️ adjusted_powerに欠損値が2142件あります\n",
            "  欠損値の詳細分析:\n",
            "    欠損レコード数: 2142\n",
            "    欠損期間: 2024-06-30 15:00:00 ～ 2025-04-30 14:00:00\n",
            "    電力データ存在: 8512件\n",
            "    電力データ欠損率: 20.1%\n",
            "    室温データ欠損: 745件\n",
            "    ⚠️ 室温データも欠損している可能性\n",
            "  電力データ統合前の状況:\n",
            "    統合前レコード数: 1\n",
            "    統合後レコード数: 8512\n",
            "    統合後欠損値: 0件\n",
            "  マージ状況:\n",
            "    空調データレコード数: 9909\n",
            "    電力データレコード数: 8512\n",
            "    マージ後レコード数: 10654\n",
            "    空調データ時間範囲: 2024-06-30 15:00:00 ～ 2025-09-28 00:00:00\n",
            "    電力データ時間範囲: 2024-08-31 15:00:00 ～ 2025-09-28 00:00:00\n",
            "    ✅ 時間範囲に重複があります: 2024-08-31 15:00:00 ～ 2025-09-28 00:00:00\n",
            "\n",
            "[AreaAggregator] エリア 'Area 4' のカテゴリカル変数処理開始\n",
            "[AreaAggregator] Area 4 - A/C ON/OFF 処理中...\n",
            "[AreaAggregator] Area 4 - A/C ON/OFF ユニーク値: {'OFF': 315946, 'ON': 47741}\n",
            "[AreaAggregator] Area 4 - A/C Mode 処理中...\n",
            "[AreaAggregator] Area 4 - A/C Mode ユニーク値: {'COOL': 224234, 'HEAT': 128115, 'FAN': 11229, '-': 109}\n",
            "[AreaAggregator] Area 4 - A/C Fan Speed 処理中...\n",
            "[AreaAggregator] Area 4 - A/C Fan Speed ユニーク値: {'-': 315946, 'Low': 40598, 'High': 3698, 'Medium': 3442, 'Auto': 3}\n",
            "\n",
            "[AreaAggregator] エリア別マッピングログ保存: logs/preprocessing/unknown/zone_mapping_log_20251002_225009.json\n",
            "[AreaAggregator] Zone Area 4: Processing 2 outdoor units\n",
            "[AreaAggregator] Found 643213 records for Mesh ID: 44-2\n",
            "  Total_kWh統計: 平均=22717.71, 最大=238800.00\n",
            "  adjusted_power統計: 平均=22717.71, 最大=238800.00\n",
            "[AreaAggregator] Found 643213 records for Mesh ID: 44-4\n",
            "  Total_kWh統計: 平均=22717.71, 最大=238800.00\n",
            "  adjusted_power統計: 平均=22717.71, 最大=238800.00\n",
            "[AreaAggregator] 電力データ統合結果:\n",
            "  統合前レコード数: 2\n",
            "  統合後レコード数: 10765\n",
            "  adjusted_power欠損値: 0件\n",
            "  adjusted_power統計: 平均=45435.41, 最大=477600.00\n",
            "[AreaAggregator] マージ後:\n",
            "  dfレコード数: 10894\n",
            "  adjusted_power欠損値: 129件\n",
            "⚠️ adjusted_powerに欠損値が129件あります\n",
            "  欠損値の詳細分析:\n",
            "    欠損レコード数: 129\n",
            "    欠損期間: 2024-07-04 21:00:00 ～ 2025-02-07 13:00:00\n",
            "    電力データ存在: 10765件\n",
            "    電力データ欠損率: 1.2%\n",
            "    室温データ欠損: 747件\n",
            "    ⚠️ 室温データも欠損している可能性\n",
            "  電力データ統合前の状況:\n",
            "    統合前レコード数: 2\n",
            "    統合後レコード数: 10765\n",
            "    統合後欠損値: 0件\n",
            "  マージ状況:\n",
            "    空調データレコード数: 10147\n",
            "    電力データレコード数: 10765\n",
            "    マージ後レコード数: 10894\n",
            "    空調データ時間範囲: 2024-06-30 15:00:00 ～ 2025-09-28 00:00:00\n",
            "    電力データ時間範囲: 2024-06-30 15:00:00 ～ 2025-09-28 00:00:00\n",
            "    ✅ 時間範囲に重複があります: 2024-06-30 15:00:00 ～ 2025-09-28 00:00:00\n",
            "\n",
            "[AreaAggregator] エリア 'Meeting Room' のカテゴリカル変数処理開始\n",
            "[AreaAggregator] Meeting Room - A/C ON/OFF 処理中...\n",
            "[AreaAggregator] Meeting Room - A/C ON/OFF ユニーク値: {'OFF': 67498, 'ON': 808}\n",
            "[AreaAggregator] Meeting Room - A/C Mode 処理中...\n",
            "[AreaAggregator] Meeting Room - A/C Mode ユニーク値: {'COOL': 59457, 'HEAT': 8849}\n",
            "[AreaAggregator] Meeting Room - A/C Fan Speed 処理中...\n",
            "[AreaAggregator] Meeting Room - A/C Fan Speed ユニーク値: {'-': 67498, 'Low': 672, 'Medium': 68, 'High': 68}\n",
            "\n",
            "[AreaAggregator] エリア別マッピングログ保存: logs/preprocessing/unknown/zone_mapping_log_20251002_225012.json\n",
            "[AreaAggregator] Zone Meeting Room: Processing 1 outdoor units\n",
            "[AreaAggregator] Found 643213 records for Mesh ID: 44-8\n",
            "  Total_kWh統計: 平均=22717.71, 最大=238800.00\n",
            "  adjusted_power統計: 平均=22717.71, 最大=238800.00\n",
            "[AreaAggregator] 電力データ統合結果:\n",
            "  統合前レコード数: 1\n",
            "  統合後レコード数: 10765\n",
            "  adjusted_power欠損値: 0件\n",
            "  adjusted_power統計: 平均=22717.71, 最大=238800.00\n",
            "[AreaAggregator] マージ後:\n",
            "  dfレコード数: 10781\n",
            "  adjusted_power欠損値: 16件\n",
            "⚠️ adjusted_powerに欠損値が16件あります\n",
            "  欠損値の詳細分析:\n",
            "    欠損レコード数: 16\n",
            "    欠損期間: 2024-09-05 21:00:00 ～ 2025-09-28 01:00:00\n",
            "    電力データ存在: 10765件\n",
            "    電力データ欠損率: 0.1%\n",
            "    室温データ欠損: 7919件\n",
            "    ⚠️ 室温データも欠損している可能性\n",
            "  電力データ統合前の状況:\n",
            "    統合前レコード数: 1\n",
            "    統合後レコード数: 10765\n",
            "    統合後欠損値: 0件\n",
            "  マージ状況:\n",
            "    空調データレコード数: 2862\n",
            "    電力データレコード数: 10765\n",
            "    マージ後レコード数: 10781\n",
            "    空調データ時間範囲: 2024-08-31 15:00:00 ～ 2025-09-28 01:00:00\n",
            "    電力データ時間範囲: 2024-06-30 15:00:00 ～ 2025-09-28 00:00:00\n",
            "    ✅ 時間範囲に重複があります: 2024-08-31 15:00:00 ～ 2025-09-28 00:00:00\n",
            "\n",
            "[AreaAggregator] エリア 'Break Room' のカテゴリカル変数処理開始\n",
            "[AreaAggregator] Break Room - A/C ON/OFF 処理中...\n",
            "[AreaAggregator] Break Room - A/C ON/OFF ユニーク値: {'OFF': 53733, 'ON': 14575}\n",
            "[AreaAggregator] Break Room - A/C Mode 処理中...\n",
            "[AreaAggregator] Break Room - A/C Mode ユニーク値: {'COOL': 50610, 'HEAT': 17698}\n",
            "[AreaAggregator] Break Room - A/C Fan Speed 処理中...\n",
            "[AreaAggregator] Break Room - A/C Fan Speed ユニーク値: {'-': 53733, 'Medium': 14575}\n",
            "\n",
            "[AreaAggregator] エリア別マッピングログ保存: logs/preprocessing/unknown/zone_mapping_log_20251002_225014.json\n",
            "[AreaAggregator] Zone Break Room: Processing 1 outdoor units\n",
            "[AreaAggregator] Found 643213 records for Mesh ID: 44-6\n",
            "  Total_kWh統計: 平均=22717.71, 最大=238800.00\n",
            "  adjusted_power統計: 平均=22717.71, 最大=238800.00\n",
            "[AreaAggregator] 電力データ統合結果:\n",
            "  統合前レコード数: 1\n",
            "  統合後レコード数: 10765\n",
            "  adjusted_power欠損値: 0件\n",
            "  adjusted_power統計: 平均=22717.71, 最大=238800.00\n",
            "[AreaAggregator] マージ後:\n",
            "  dfレコード数: 10781\n",
            "  adjusted_power欠損値: 16件\n",
            "⚠️ adjusted_powerに欠損値が16件あります\n",
            "  欠損値の詳細分析:\n",
            "    欠損レコード数: 16\n",
            "    欠損期間: 2024-09-05 21:00:00 ～ 2025-09-28 01:00:00\n",
            "    電力データ存在: 10765件\n",
            "    電力データ欠損率: 0.1%\n",
            "    室温データ欠損: 7919件\n",
            "    ⚠️ 室温データも欠損している可能性\n",
            "  電力データ統合前の状況:\n",
            "    統合前レコード数: 1\n",
            "    統合後レコード数: 10765\n",
            "    統合後欠損値: 0件\n",
            "  マージ状況:\n",
            "    空調データレコード数: 2862\n",
            "    電力データレコード数: 10765\n",
            "    マージ後レコード数: 10781\n",
            "    空調データ時間範囲: 2024-08-31 15:00:00 ～ 2025-09-28 01:00:00\n",
            "    電力データ時間範囲: 2024-06-30 15:00:00 ～ 2025-09-28 00:00:00\n",
            "    ✅ 時間範囲に重複があります: 2024-08-31 15:00:00 ～ 2025-09-28 00:00:00\n",
            "✅ 集約完了: (64531, 15)\n",
            "利用可能列: ['Datetime', 'Date', 'A/C Set Temperature', 'Indoor Temp.', 'A/C ON/OFF', 'A/C Mode', 'A/C Fan Speed', 'adjusted_power', 'zone', 'DayOfWeek', 'Hour', 'Month', 'IsWeekend', 'IsHoliday', 'Indoor Temp. Lag1']\n",
            "\n",
            "✅ 利用可能(10): ['A/C Set Temperature', 'Indoor Temp. Lag1', 'A/C ON/OFF', 'A/C Mode', 'A/C Fan Speed', 'DayOfWeek', 'Hour', 'Month', 'IsWeekend', 'IsHoliday']\n",
            "⚠️ 不足(3): ['Outdoor Temp.', 'Outdoor Humidity', 'Solar Radiation']\n"
          ]
        }
      ],
      "source": [
        "# 天気データ取得 → 集約へ統合 → 特徴量の確認\n",
        "from processing.utilities.weatherapi_client import VisualCrossingWeatherAPIDataFetcher\n",
        "from processing.aggregator import AreaAggregator\n",
        "from config.private_information import WEATHER_API_KEY\n",
        "\n",
        "coords = master.get(\"store_info\", {}).get(\"coordinates\", \"35.681236%2C139.767125\")\n",
        "start_date = str(ac_processed[\"Datetime\"].min().date()) if ac_processed is not None else \"2025-01-01\"\n",
        "end_date = str(ac_processed[\"Datetime\"].max().date()) if ac_processed is not None else \"2025-01-07\"\n",
        "\n",
        "print(f\"📡 Fetching weather: {coords} {start_date}→{end_date}\")\n",
        "fetcher = VisualCrossingWeatherAPIDataFetcher(\n",
        "    coordinates=coords,\n",
        "    start_date=start_date,\n",
        "    end_date=end_date,\n",
        "    unit=\"metric\",\n",
        "    api_key=WEATHER_API_KEY,\n",
        ")\n",
        "weather_df = fetcher.fetch()\n",
        "\n",
        "print(\"\\n🧩 Aggregating with weather...\")\n",
        "area_df = AreaAggregator(master).build(ac_processed, pm_processed, weather_df, freq=\"1H\")\n",
        "print(f\"✅ 集約完了: {area_df.shape}\")\n",
        "print(\"利用可能列:\", list(area_df.columns))\n",
        "\n",
        "base_feats = [\n",
        "    \"A/C Set Temperature\",\"Indoor Temp. Lag1\",\"A/C ON/OFF\",\"A/C Mode\",\"A/C Fan Speed\",\n",
        "    \"Outdoor Temp.\",\"Outdoor Humidity\",\"Solar Radiation\",\"DayOfWeek\",\"Hour\",\"Month\",\"IsWeekend\",\"IsHoliday\",\n",
        "]\n",
        "available_feats = [c for c in base_feats if c in area_df.columns]\n",
        "missing_feats = [c for c in base_feats if c not in area_df.columns]\n",
        "print(f\"\\n✅ 利用可能({len(available_feats)}):\", available_feats)\n",
        "if missing_feats:\n",
        "    print(f\"⚠️ 不足({len(missing_feats)}):\", missing_feats)\n",
        "\n"
      ]
    },
    {
      "cell_type": "code",
      "execution_count": null,
      "metadata": {},
      "outputs": [
        {
          "name": "stdout",
          "output_type": "stream",
          "text": [
            "📁 最適化結果のCSV出力...\n"
          ]
        },
        {
          "ename": "TypeError",
          "evalue": "Planner.__init__() missing 2 required positional arguments: 'store_name' and 'master'",
          "output_type": "error",
          "traceback": [
            "\u001b[0;31m---------------------------------------------------------------------------\u001b[0m",
            "\u001b[0;31mTypeError\u001b[0m                                 Traceback (most recent call last)",
            "Cell \u001b[0;32mIn[20], line 10\u001b[0m\n\u001b[1;32m      7\u001b[0m os\u001b[38;5;241m.\u001b[39mmakedirs(output_dir, exist_ok\u001b[38;5;241m=\u001b[39m\u001b[38;5;28;01mTrue\u001b[39;00m)\n\u001b[1;32m      9\u001b[0m \u001b[38;5;66;03m# プランナーの初期化\u001b[39;00m\n\u001b[0;32m---> 10\u001b[0m planner \u001b[38;5;241m=\u001b[39m \u001b[43mPlanner\u001b[49m\u001b[43m(\u001b[49m\u001b[43m)\u001b[49m\n\u001b[1;32m     12\u001b[0m \u001b[38;5;66;03m# スケジュールの出力\u001b[39;00m\n\u001b[1;32m     13\u001b[0m planner\u001b[38;5;241m.\u001b[39mexport(schedule, output_dir)\n",
            "\u001b[0;31mTypeError\u001b[0m: Planner.__init__() missing 2 required positional arguments: 'store_name' and 'master'"
          ]
        }
      ],
      "source": [
        "# 最適化結果のCSV出力\n",
        "if schedule is not None:\n",
        "    print(\"📁 最適化結果のCSV出力...\")\n",
        "    \n",
        "    # 出力ディレクトリの作成\n",
        "    output_dir = f\"data/04_OutputData/{store_name}\"\n",
        "    os.makedirs(output_dir, exist_ok=True)\n",
        "    \n",
        "    # プランナーの初期化\n",
        "    planner = Planner()\n",
        "    \n",
        "    # スケジュールの出力\n",
        "    planner.export(schedule, output_dir)\n",
        "    \n",
        "    print(f\"✅ 最適化結果を出力しました: {output_dir}\")\n",
        "    \n",
        "    # 天気予報データの出力\n",
        "    weather_output_path = os.path.join(output_dir, \"weather_forecast.csv\")\n",
        "    weather_df.to_csv(weather_output_path, index=False, encoding=\"utf-8-sig\")\n",
        "    print(f\"✅ 天気予報データを出力しました: {weather_output_path}\")\n",
        "    \n",
        "    # 出力ファイルの確認\n",
        "    print(f\"\\n📋 出力ファイル:\")\n",
        "    for file in os.listdir(output_dir):\n",
        "        if file.endswith('.csv'):\n",
        "            file_path = os.path.join(output_dir, file)\n",
        "            file_size = os.path.getsize(file_path)\n",
        "            print(f\"  - {file} ({file_size:,} bytes)\")\n",
        "else:\n",
        "    print(\"❌ 最適化結果がありません\")\n"
      ]
    },
    {
      "cell_type": "markdown",
      "metadata": {},
      "source": [
        "## 6. 改善提案・次のステップ\n",
        "\n",
        "各ステップの結果を基に、改善提案を行います。\n"
      ]
    },
    {
      "cell_type": "code",
      "execution_count": null,
      "metadata": {},
      "outputs": [],
      "source": []
    },
    {
      "cell_type": "code",
      "execution_count": null,
      "metadata": {},
      "outputs": [],
      "source": [
        "# 改善提案の生成\n",
        "print(\"🔍 改善提案・次のステップ:\")\n",
        "print(\"\\n1. データ品質の改善:\")\n",
        "if area_df is not None:\n",
        "    missing_data = area_df.isnull().sum()\n",
        "    missing_data = missing_data[missing_data > 0]\n",
        "    if len(missing_data) > 0:\n",
        "        print(f\"   - 欠損値の補完: {missing_data.index.tolist()}\")\n",
        "    else:\n",
        "        print(\"   - データ品質は良好です\")\n",
        "\n",
        "print(\"\\n2. 特徴量エンジニアリングの改善:\")\n",
        "print(\"   - ラグ特徴量の追加（過去の温度・電力の影響）\")\n",
        "print(\"   - 移動平均特徴量の追加\")\n",
        "print(\"   - 外気温との差分特徴量の追加\")\n",
        "\n",
        "print(\"\\n3. モデル性能の改善:\")\n",
        "if models is not None:\n",
        "    for zone_name, model_pack in models.items():\n",
        "        if model_pack.temp_model:\n",
        "            print(f\"   - {zone_name}: 温度モデルの性能向上\")\n",
        "        if model_pack.power_model:\n",
        "            print(f\"   - {zone_name}: 電力モデルの性能向上\")\n",
        "\n",
        "print(\"\\n4. 最適化アルゴリズムの改善:\")\n",
        "print(\"   - ビーム幅の調整\")\n",
        "print(\"   - 制約条件の追加\")\n",
        "print(\"   - 多目的最適化の実装\")\n",
        "\n",
        "print(\"\\n5. 可視化・分析の改善:\")\n",
        "print(\"   - 実績データとの比較\")\n",
        "print(\"   - 感度分析の追加\")\n",
        "print(\"   - コスト分析の追加\")\n",
        "\n",
        "print(\"\\n✅ 改善提案完了\")\n"
      ]
    },
    {
      "cell_type": "markdown",
      "metadata": {},
      "source": [
        "## 7. 実行ログ・デバッグ情報\n",
        "\n",
        "実行過程でのログやデバッグ情報を記録します。\n"
      ]
    },
    {
      "cell_type": "code",
      "execution_count": null,
      "metadata": {},
      "outputs": [],
      "source": [
        "# 実行ログの記録\n",
        "print(\"📝 実行ログ・デバッグ情報:\")\n",
        "print(f\"\\n🕐 実行日時: {pd.Timestamp.now()}\")\n",
        "print(f\"🏢 対象ストア: {store_name}\")\n",
        "print(f\"📊 データ形状: {area_df.shape if area_df is not None else 'N/A'}\")\n",
        "print(f\"🔧 モデル数: {len(models) if models is not None else 0}\")\n",
        "print(f\"⏰ 最適化時間数: {len(date_range) if 'date_range' in locals() else 0}\")\n",
        "print(f\"📈 スケジュール数: {len(schedule) if schedule is not None else 0}\")\n",
        "\n",
        "# メモリ使用量の確認\n",
        "try:\n",
        "    import psutil\n",
        "    memory_info = psutil.virtual_memory()\n",
        "    print(f\"\\n💾 メモリ使用量: {memory_info.percent:.1f}% ({memory_info.used / 1024**3:.1f}GB / {memory_info.total / 1024**3:.1f}GB)\")\n",
        "except ImportError:\n",
        "    print(\"\\n💾 メモリ使用量: psutilがインストールされていません\")\n",
        "\n",
        "print(\"\\n✅ 実行ログ記録完了\")\n"
      ]
    },
    {
      "cell_type": "code",
      "execution_count": null,
      "metadata": {},
      "outputs": [],
      "source": []
    },
    {
      "cell_type": "code",
      "execution_count": null,
      "metadata": {},
      "outputs": [],
      "source": []
    }
  ],
  "metadata": {
    "kernelspec": {
      "display_name": "base",
      "language": "python",
      "name": "python3"
    },
    "language_info": {
      "codemirror_mode": {
        "name": "ipython",
        "version": 3
      },
      "file_extension": ".py",
      "mimetype": "text/x-python",
      "name": "python",
      "nbconvert_exporter": "python",
      "pygments_lexer": "ipython3",
      "version": "3.10.9"
    }
  },
  "nbformat": 4,
  "nbformat_minor": 2
}
